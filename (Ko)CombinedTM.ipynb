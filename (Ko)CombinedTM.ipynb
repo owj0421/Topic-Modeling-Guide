{
  "cells": [
    {
      "cell_type": "markdown",
      "metadata": {
        "id": "7-3FZPKPbL-C"
      },
      "source": [
        "# **CombinedTM 실습**"
      ]
    },
    {
      "cell_type": "markdown",
      "metadata": {
        "id": "3gBYz_Lq-GsY"
      },
      "source": [
        "이번 노트북에서는 Top2Vec 모델을 한국어에 맞춰 사용할 수 있도록 Customizing한 후 인퍼런스 할 예정입니다. 인퍼런스 능력을 향상시키기 위해, 직접 BERT모델을 고르고, Tokenizer을 수정합니다. 이후, 결과를 직접 시계열에 맞춰 시각화한 후 토픽 모델링의 결과를 확인합니다."
      ]
    },
    {
      "cell_type": "markdown",
      "metadata": {
        "id": "3XB32SCRCorU"
      },
      "source": [
        "## **1 - 준비작업**"
      ]
    },
    {
      "cell_type": "markdown",
      "metadata": {
        "id": "1VZP03BWjW34"
      },
      "source": [
        "### **1.1 - 라이브러리 설치**\n",
        "필요한 라이브러리를 설치합니다. 별도로 수정하지 말아주세요."
      ]
    },
    {
      "cell_type": "code",
      "execution_count": null,
      "metadata": {
        "colab": {
          "base_uri": "https://localhost:8080/"
        },
        "id": "P8TcQd7ibL-F",
        "outputId": "c7841960-c46a-478a-b57a-e0242ae1e611"
      },
      "outputs": [],
      "source": [
        "!pip install \\\n",
        "  contextualized_topic_models\n",
        "\n",
        "!pip install \\\n",
        "  konlpy\n",
        "\n",
        "!pip install \\\n",
        "  plotly"
      ]
    },
    {
      "cell_type": "markdown",
      "metadata": {
        "id": "1HODn92Xjd-9"
      },
      "source": [
        "### **1.2 - 라이브러리 불러오기**\n",
        "필요한 라이브러리를 불러옵니다. 별도로 수정하지 말아주세요."
      ]
    },
    {
      "cell_type": "code",
      "execution_count": 83,
      "metadata": {
        "id": "qHmuiJ2hbL-G"
      },
      "outputs": [],
      "source": [
        "import os\n",
        "import csv\n",
        "import numpy as np\n",
        "import random\n",
        "import torch\n",
        "import pandas as pd\n",
        "from tqdm import tqdm\n",
        "\n",
        "from sklearn.feature_extraction.text import CountVectorizer, TfidfVectorizer\n",
        "\n",
        "from contextualized_topic_models.models.ctm import CombinedTM\n",
        "from contextualized_topic_models.utils.data_preparation import TopicModelDataPreparation, bert_embeddings_from_list\n",
        "from contextualized_topic_models.utils.preprocessing import WhiteSpacePreprocessing\n",
        "\n",
        "from transformers import AutoModel, AutoTokenizer\n",
        "\n",
        "from konlpy.tag import Kkma, Komoran\n",
        "\n",
        "from typing import List, Tuple, Dict, Literal, Optional, Callable, Union"
      ]
    },
    {
      "cell_type": "code",
      "execution_count": 80,
      "metadata": {},
      "outputs": [],
      "source": [
        "import warnings\n",
        "warnings.filterwarnings('ignore', category=DeprecationWarning)\n",
        "warnings.filterwarnings('ignore', category=UserWarning)\n",
        "pd.set_option('mode.chained_assignment',  None) "
      ]
    },
    {
      "cell_type": "markdown",
      "metadata": {
        "id": "ndprB9MKl66J"
      },
      "source": [
        "### **1.3 - Seed 고정**\n",
        "결과를 일정하게 유지하기 위해 모든 SEED를 고정합니다. 별도로 수정하지 말아주세요."
      ]
    },
    {
      "cell_type": "code",
      "execution_count": 6,
      "metadata": {
        "id": "z9iAwfyhl80p"
      },
      "outputs": [],
      "source": [
        "def seed_everything(seed: int = 42):\n",
        "    random.seed(seed)\n",
        "    np.random.seed(seed)\n",
        "    os.environ[\"PYTHONHASHSEED\"] = str(seed)\n",
        "    torch.manual_seed(seed)\n",
        "    torch.cuda.manual_seed(seed)  # type: ignore\n",
        "    torch.backends.cudnn.deterministic = True  # type: ignore\n",
        "    torch.backends.cudnn.benchmark = True  # type: ignore\n",
        "\n",
        "seed_everything()"
      ]
    },
    {
      "cell_type": "markdown",
      "metadata": {
        "id": "A_dIm2YTjclv"
      },
      "source": [
        "### **1.4 - Colab**\n",
        "코랩에 접근하기 위해 실행합니다. 그 전에, Colab 폴더에 코드와 데이터셋을 올바르게 넣었는지 확인해주세요."
      ]
    },
    {
      "cell_type": "code",
      "execution_count": 7,
      "metadata": {
        "colab": {
          "base_uri": "https://localhost:8080/"
        },
        "id": "SaIHJFKtjhpA",
        "outputId": "c0c760ed-c2e7-4177-9fd6-48855f4eaf90"
      },
      "outputs": [
        {
          "ename": "ModuleNotFoundError",
          "evalue": "No module named 'google.colab'",
          "output_type": "error",
          "traceback": [
            "\u001b[1;31m---------------------------------------------------------------------------\u001b[0m",
            "\u001b[1;31mModuleNotFoundError\u001b[0m                       Traceback (most recent call last)",
            "Cell \u001b[1;32mIn[7], line 1\u001b[0m\n\u001b[1;32m----> 1\u001b[0m \u001b[38;5;28;01mfrom\u001b[39;00m \u001b[38;5;21;01mgoogle\u001b[39;00m\u001b[38;5;21;01m.\u001b[39;00m\u001b[38;5;21;01mcolab\u001b[39;00m \u001b[38;5;28;01mimport\u001b[39;00m drive\n\u001b[0;32m      2\u001b[0m drive\u001b[38;5;241m.\u001b[39mmount(\u001b[38;5;124m'\u001b[39m\u001b[38;5;124m/content/drive\u001b[39m\u001b[38;5;124m'\u001b[39m)\n",
            "\u001b[1;31mModuleNotFoundError\u001b[0m: No module named 'google.colab'"
          ]
        }
      ],
      "source": [
        "from google.colab import drive\n",
        "drive.mount('/content/drive')"
      ]
    },
    {
      "cell_type": "markdown",
      "metadata": {
        "id": "LqnfsLXCbL-G"
      },
      "source": [
        "## **2 - 데이터셋**"
      ]
    },
    {
      "cell_type": "markdown",
      "metadata": {
        "id": "GQngh74dC_wy"
      },
      "source": [
        "### **2.1 - 데이터셋 로드**\n",
        "데이터셋을 드라이브에서 불러옵니다."
      ]
    },
    {
      "cell_type": "code",
      "execution_count": null,
      "metadata": {
        "id": "w99UW6AAbL-H"
      },
      "outputs": [],
      "source": [
        "PATH = './datasets/원자력+원전+탈원전_news_df.xlsx'\n",
        "df1 = pd.read_excel(PATH)\n",
        "\n",
        "PATH = './datasets/사설_반대.xlsx'\n",
        "df2 = pd.read_excel(PATH)\n",
        "\n",
        "PATH = './datasets/고리+신한울+새울+월성+신월성_news_df.xlsx'\n",
        "df3 = pd.read_excel(PATH)\n",
        "\n",
        "# df = pd.concat([df1, df2, df3], axis=0)\n",
        "\n",
        "df = df2"
      ]
    },
    {
      "cell_type": "markdown",
      "metadata": {
        "id": "0o9Bu5DGC-su"
      },
      "source": [
        "미리보기"
      ]
    },
    {
      "cell_type": "code",
      "execution_count": 9,
      "metadata": {
        "colab": {
          "base_uri": "https://localhost:8080/",
          "height": 206
        },
        "id": "Mm6v33nM8JC8",
        "outputId": "37b3f79e-e8b7-4a4d-f78d-2d2de8d77c18"
      },
      "outputs": [
        {
          "data": {
            "text/html": [
              "<div>\n",
              "<style scoped>\n",
              "    .dataframe tbody tr th:only-of-type {\n",
              "        vertical-align: middle;\n",
              "    }\n",
              "\n",
              "    .dataframe tbody tr th {\n",
              "        vertical-align: top;\n",
              "    }\n",
              "\n",
              "    .dataframe thead th {\n",
              "        text-align: right;\n",
              "    }\n",
              "</style>\n",
              "<table border=\"1\" class=\"dataframe\">\n",
              "  <thead>\n",
              "    <tr style=\"text-align: right;\">\n",
              "      <th></th>\n",
              "      <th>news_title</th>\n",
              "      <th>news_date</th>\n",
              "      <th>news_company</th>\n",
              "      <th>news_body</th>\n",
              "    </tr>\n",
              "  </thead>\n",
              "  <tbody>\n",
              "    <tr>\n",
              "      <th>0</th>\n",
              "      <td>[사설] `탈원전`, 방향은 맞지만 부작용 최소화해야</td>\n",
              "      <td>2017-05-29</td>\n",
              "      <td>디지털타임스</td>\n",
              "      <td>29일 국정기획자문위원회 이개호 경제2분과 위원장이 원자력안전위원회(원안위)에 원전...</td>\n",
              "    </tr>\n",
              "    <tr>\n",
              "      <th>1</th>\n",
              "      <td>[사설] 탈원전·석탄 조급증…안전하면서 값싼 전기는 없다</td>\n",
              "      <td>2017-05-30</td>\n",
              "      <td>한국경제</td>\n",
              "      <td>문재인 정부의 에너지정책이 탈(脫)원전, 탈화력발전으로 급선회하고 있다. 그제 국정...</td>\n",
              "    </tr>\n",
              "    <tr>\n",
              "      <th>2</th>\n",
              "      <td>[fn사설] 새 정부 탈원전 정책 우려 새겨 들어야</td>\n",
              "      <td>2017-06-01</td>\n",
              "      <td>파이낸셜뉴스</td>\n",
              "      <td>전문가 200명 비판 성명 방향 맞지만 너무 서둘러     에너지 분야 전문가들이 ...</td>\n",
              "    </tr>\n",
              "    <tr>\n",
              "      <th>3</th>\n",
              "      <td>[사설] 탈원전…정규직화…'밀어붙이기 정책'에서 놓치는 것들</td>\n",
              "      <td>2017-06-01</td>\n",
              "      <td>한국경제</td>\n",
              "      <td>교수 230명 성명 \"에너지정책 전문가 논의 절실\"일자리 해법, 누구나 비판하고 토...</td>\n",
              "    </tr>\n",
              "    <tr>\n",
              "      <th>4</th>\n",
              "      <td>&lt;사설&gt;성급한 脫원전은 電力안보 해친다는 전문가들의 우려</td>\n",
              "      <td>2017-06-02</td>\n",
              "      <td>문화일보</td>\n",
              "      <td>문재인 정부의 탈(脫)원전 정책에 대해 에너지 전문가들이 정면으로 비판하고 나섰다....</td>\n",
              "    </tr>\n",
              "  </tbody>\n",
              "</table>\n",
              "</div>"
            ],
            "text/plain": [
              "                          news_title   news_date news_company  \\\n",
              "0      [사설] `탈원전`, 방향은 맞지만 부작용 최소화해야  2017-05-29       디지털타임스   \n",
              "1    [사설] 탈원전·석탄 조급증…안전하면서 값싼 전기는 없다  2017-05-30         한국경제   \n",
              "2       [fn사설] 새 정부 탈원전 정책 우려 새겨 들어야  2017-06-01       파이낸셜뉴스   \n",
              "3  [사설] 탈원전…정규직화…'밀어붙이기 정책'에서 놓치는 것들  2017-06-01         한국경제   \n",
              "4    <사설>성급한 脫원전은 電力안보 해친다는 전문가들의 우려  2017-06-02         문화일보   \n",
              "\n",
              "                                           news_body  \n",
              "0  29일 국정기획자문위원회 이개호 경제2분과 위원장이 원자력안전위원회(원안위)에 원전...  \n",
              "1  문재인 정부의 에너지정책이 탈(脫)원전, 탈화력발전으로 급선회하고 있다. 그제 국정...  \n",
              "2  전문가 200명 비판 성명 방향 맞지만 너무 서둘러     에너지 분야 전문가들이 ...  \n",
              "3  교수 230명 성명 \"에너지정책 전문가 논의 절실\"일자리 해법, 누구나 비판하고 토...  \n",
              "4  문재인 정부의 탈(脫)원전 정책에 대해 에너지 전문가들이 정면으로 비판하고 나섰다....  "
            ]
          },
          "execution_count": 9,
          "metadata": {},
          "output_type": "execute_result"
        }
      ],
      "source": [
        "df.head()"
      ]
    },
    {
      "cell_type": "markdown",
      "metadata": {
        "id": "J6_lxg99bL-I"
      },
      "source": [
        "### **2.2 - 텍스트 전처리**\n",
        "해당 데이터는 크롤링된 데이터로, 올바른 결과를 위해서는 전처리가 필요합니다.\n",
        "뉴스 기사를 위한 전처리 코드는 https://colab.research.google.com/drive/1O42v6YzHbTo_l36VG1xGp0aEuA0J8M3V?usp=sharing#scrollTo=P7JBkNna1jze 에서 가져왔습니다."
      ]
    },
    {
      "cell_type": "code",
      "execution_count": 10,
      "metadata": {
        "id": "-soe0xvfbL-I"
      },
      "outputs": [],
      "source": [
        "df['news_title'] = df['news_title'].map(lambda x: str(x))"
      ]
    },
    {
      "cell_type": "code",
      "execution_count": 11,
      "metadata": {
        "id": "n5G4R8dMbL-I"
      },
      "outputs": [],
      "source": [
        "import re, unicodedata\n",
        "from string import whitespace\n",
        "pattern_whitespace = re.compile(f'[{whitespace}]+')\n",
        "\n",
        "df['news_title'] = df['news_title'].str.replace(pattern_whitespace, ' ').map(lambda x: unicodedata.normalize('NFC', x)).str.strip()\n"
      ]
    },
    {
      "cell_type": "code",
      "execution_count": 12,
      "metadata": {
        "id": "BV99udLsbL-J"
      },
      "outputs": [],
      "source": [
        "def clean_byline(text):\n",
        "    # byline\n",
        "    pattern_email = re.compile(r'[-_0-9a-z]+@[-_0-9a-z]+(?:\\.[0-9a-z]+)+', flags=re.IGNORECASE)\n",
        "    pattern_url = re.compile(r'(?:https?:\\/\\/)?[-_0-9a-z]+(?:\\.[-_0-9a-z]+)+', flags=re.IGNORECASE)\n",
        "    pattern_others = re.compile(r'\\.([^\\.]*(?:기자|특파원|교수|작가|대표|논설|고문|주필|부문장|팀장|장관|원장|연구원|이사장|위원|실장|차장|부장|에세이|화백|사설|소장|단장|과장|기획자|큐레이터|저작권|평론가|©|©|ⓒ|\\@|\\/|=|▶|무단|전재|재배포|금지|\\[|\\]|\\(\\))[^\\.]*)$')\n",
        "    result = pattern_email.sub('', text)\n",
        "    result = pattern_url.sub('', result)\n",
        "    result = pattern_others.sub('.', result)\n",
        "    pattern_bracket = re.compile(r'^((?:\\[.+\\])|(?:【.+】)|(?:<.+>)|(?:◆.+◆)\\s)')\n",
        "    result = pattern_bracket.sub('', result).strip()\n",
        "\n",
        "    return result\n",
        "\n",
        "df['news_title'] = df['news_title'].map(clean_byline)"
      ]
    },
    {
      "cell_type": "code",
      "execution_count": 13,
      "metadata": {
        "id": "Es7xUoZ1bL-J"
      },
      "outputs": [],
      "source": [
        "from string import whitespace, punctuation\n",
        "\n",
        "def text_filter(text):\n",
        "    punct_except_percent = ''.join([chr for chr in punctuation if chr != '%'])\n",
        "    whitespace_convert_pattern = re.compile(f'[{whitespace}{punct_except_percent}]+')\n",
        "    exclude_pattern = re.compile(r'[^\\% 0-9a-zA-Zㄱ-ㅣ가-힣]+')\n",
        "    result = whitespace_convert_pattern.sub(' ', text)\n",
        "    result = exclude_pattern.sub(' ', result).strip()\n",
        "    result = whitespace_convert_pattern.sub(' ', result)\n",
        "    return result\n",
        "\n",
        "df['news_title'] = df['news_title'].map(text_filter)"
      ]
    },
    {
      "cell_type": "markdown",
      "metadata": {
        "id": "bqw_8lxiDZon"
      },
      "source": [
        "전처리 후 결과 미리보기"
      ]
    },
    {
      "cell_type": "code",
      "execution_count": 14,
      "metadata": {
        "colab": {
          "base_uri": "https://localhost:8080/",
          "height": 206
        },
        "id": "izf1r4LRktJi",
        "outputId": "1e968db7-546d-4104-f126-49844c89afb0"
      },
      "outputs": [
        {
          "data": {
            "text/html": [
              "<div>\n",
              "<style scoped>\n",
              "    .dataframe tbody tr th:only-of-type {\n",
              "        vertical-align: middle;\n",
              "    }\n",
              "\n",
              "    .dataframe tbody tr th {\n",
              "        vertical-align: top;\n",
              "    }\n",
              "\n",
              "    .dataframe thead th {\n",
              "        text-align: right;\n",
              "    }\n",
              "</style>\n",
              "<table border=\"1\" class=\"dataframe\">\n",
              "  <thead>\n",
              "    <tr style=\"text-align: right;\">\n",
              "      <th></th>\n",
              "      <th>news_title</th>\n",
              "      <th>news_date</th>\n",
              "      <th>news_company</th>\n",
              "      <th>news_body</th>\n",
              "    </tr>\n",
              "  </thead>\n",
              "  <tbody>\n",
              "    <tr>\n",
              "      <th>0</th>\n",
              "      <td>탈원전 방향은 맞지만 부작용 최소화해야</td>\n",
              "      <td>2017-05-29</td>\n",
              "      <td>디지털타임스</td>\n",
              "      <td>29일 국정기획자문위원회 이개호 경제2분과 위원장이 원자력안전위원회(원안위)에 원전...</td>\n",
              "    </tr>\n",
              "    <tr>\n",
              "      <th>1</th>\n",
              "      <td>탈원전 석탄 조급증 안전하면서 값싼 전기는 없다</td>\n",
              "      <td>2017-05-30</td>\n",
              "      <td>한국경제</td>\n",
              "      <td>문재인 정부의 에너지정책이 탈(脫)원전, 탈화력발전으로 급선회하고 있다. 그제 국정...</td>\n",
              "    </tr>\n",
              "    <tr>\n",
              "      <th>2</th>\n",
              "      <td>새 정부 탈원전 정책 우려 새겨 들어야</td>\n",
              "      <td>2017-06-01</td>\n",
              "      <td>파이낸셜뉴스</td>\n",
              "      <td>전문가 200명 비판 성명 방향 맞지만 너무 서둘러     에너지 분야 전문가들이 ...</td>\n",
              "    </tr>\n",
              "    <tr>\n",
              "      <th>3</th>\n",
              "      <td>탈원전 정규직화 밀어붙이기 정책 에서 놓치는 것들</td>\n",
              "      <td>2017-06-01</td>\n",
              "      <td>한국경제</td>\n",
              "      <td>교수 230명 성명 \"에너지정책 전문가 논의 절실\"일자리 해법, 누구나 비판하고 토...</td>\n",
              "    </tr>\n",
              "    <tr>\n",
              "      <th>4</th>\n",
              "      <td>성급한 원전은 안보 해친다는 전문가들의 우려</td>\n",
              "      <td>2017-06-02</td>\n",
              "      <td>문화일보</td>\n",
              "      <td>문재인 정부의 탈(脫)원전 정책에 대해 에너지 전문가들이 정면으로 비판하고 나섰다....</td>\n",
              "    </tr>\n",
              "  </tbody>\n",
              "</table>\n",
              "</div>"
            ],
            "text/plain": [
              "                    news_title   news_date news_company  \\\n",
              "0        탈원전 방향은 맞지만 부작용 최소화해야  2017-05-29       디지털타임스   \n",
              "1   탈원전 석탄 조급증 안전하면서 값싼 전기는 없다  2017-05-30         한국경제   \n",
              "2        새 정부 탈원전 정책 우려 새겨 들어야  2017-06-01       파이낸셜뉴스   \n",
              "3  탈원전 정규직화 밀어붙이기 정책 에서 놓치는 것들  2017-06-01         한국경제   \n",
              "4     성급한 원전은 안보 해친다는 전문가들의 우려  2017-06-02         문화일보   \n",
              "\n",
              "                                           news_body  \n",
              "0  29일 국정기획자문위원회 이개호 경제2분과 위원장이 원자력안전위원회(원안위)에 원전...  \n",
              "1  문재인 정부의 에너지정책이 탈(脫)원전, 탈화력발전으로 급선회하고 있다. 그제 국정...  \n",
              "2  전문가 200명 비판 성명 방향 맞지만 너무 서둘러     에너지 분야 전문가들이 ...  \n",
              "3  교수 230명 성명 \"에너지정책 전문가 논의 절실\"일자리 해법, 누구나 비판하고 토...  \n",
              "4  문재인 정부의 탈(脫)원전 정책에 대해 에너지 전문가들이 정면으로 비판하고 나섰다....  "
            ]
          },
          "execution_count": 14,
          "metadata": {},
          "output_type": "execute_result"
        }
      ],
      "source": [
        "df.head()"
      ]
    },
    {
      "cell_type": "markdown",
      "metadata": {
        "id": "-LZ-IlICbL-J"
      },
      "source": [
        "## **3 - 모델**"
      ]
    },
    {
      "cell_type": "markdown",
      "metadata": {
        "id": "NEtI-in-bL-J"
      },
      "source": [
        "### **3.1 - BoW Embedding 만들기**"
      ]
    },
    {
      "cell_type": "markdown",
      "metadata": {},
      "source": [
        "불용어 사전, Tokenizer을 생성하고, 이를 이용해 CountVectorizer을 만듭니다."
      ]
    },
    {
      "cell_type": "code",
      "execution_count": 15,
      "metadata": {},
      "outputs": [],
      "source": [
        "STOPWORDS_PATH = './datasets/user_stopwords.csv'\n",
        "\n",
        "with open(STOPWORDS_PATH, 'r', encoding='cp949') as f:\n",
        "    tmp = csv.reader(f)\n",
        "    stop_words = set([l[0] for l in tmp])"
      ]
    },
    {
      "cell_type": "code",
      "execution_count": 16,
      "metadata": {
        "id": "agyDAr7phYDO"
      },
      "outputs": [],
      "source": [
        "USER_DICT_PATH = './datasets/user_dic.txt'\n",
        "\n",
        "custom_dic = [\n",
        "    '탈원전\\tNNG',\n",
        "]\n",
        "\n",
        "with open(USER_DICT_PATH, 'w', encoding='utf-8') as f:\n",
        "    for line in custom_dic:\n",
        "        f.write(line + '\\n')"
      ]
    },
    {
      "cell_type": "code",
      "execution_count": 17,
      "metadata": {
        "id": "tEXoD9xnbL-J"
      },
      "outputs": [],
      "source": [
        "class CustomTokenizer:\n",
        "\n",
        "    def __init__(\n",
        "        self,\n",
        "        tagger: Callable = Komoran(), # KoNLPy의 태거가 들어갑니다.\n",
        "        stop_words: Optional[List[str]] = None, # 불용어 사전이 들어갑니다.\n",
        "        tag_list: List[str] = ['NNG', 'NNP', 'NNB', 'VV', 'VA', 'MM', 'MAG']\n",
        "        ):\n",
        "      self.tagger = tagger\n",
        "      self.stop_words = stop_words\n",
        "      self.tag_list = tag_list\n",
        "\n",
        "    def __call__(self, text):\n",
        "      text = text[:10000]\n",
        "      # 명사, 형용사, 동사, 관형사와 일반 부사만 취한다.\n",
        "      word_tokens = list(map(lambda x: x[0], filter(lambda x: x[1] in self.tag_list, self.tagger.pos(text))))\n",
        "      result = [word for word in word_tokens if (word not in stop_words) and (len(word) >= 2)]\n",
        "      return result"
      ]
    },
    {
      "cell_type": "code",
      "execution_count": 18,
      "metadata": {
        "id": "sElxSRe8_1DF"
      },
      "outputs": [],
      "source": [
        "tagger = Komoran(userdic=USER_DICT_PATH)\n",
        "tokenizer = CustomTokenizer(tagger = tagger, stop_words = stop_words)\n",
        "vectorizer_model = CountVectorizer(tokenizer=tokenizer, max_features=2000)"
      ]
    },
    {
      "cell_type": "markdown",
      "metadata": {},
      "source": [
        "vocab 사이즈를 2000으로 제한하고, vectorizer을 통해 각 문장마다 BoW Embedding을 만들어냅니다."
      ]
    },
    {
      "cell_type": "code",
      "execution_count": 19,
      "metadata": {},
      "outputs": [
        {
          "name": "stderr",
          "output_type": "stream",
          "text": [
            "c:\\Users\\owj04\\anaconda3\\envs\\AIKU\\lib\\site-packages\\sklearn\\feature_extraction\\text.py:528: UserWarning: The parameter 'token_pattern' will not be used since 'tokenizer' is not None'\n",
            "  warnings.warn(\n"
          ]
        }
      ],
      "source": [
        "bow_embeddings = vectorizer_model.fit_transform(df['news_title'])"
      ]
    },
    {
      "cell_type": "markdown",
      "metadata": {},
      "source": [
        "학습된 Vectorizer에서 vocab을 추출합니다."
      ]
    },
    {
      "cell_type": "code",
      "execution_count": 21,
      "metadata": {},
      "outputs": [],
      "source": [
        "vocab = vectorizer_model.get_feature_names_out() \n",
        "id2token = {k: v for k, v in zip(range(0, len(vocab)), vocab)}"
      ]
    },
    {
      "cell_type": "code",
      "execution_count": 22,
      "metadata": {},
      "outputs": [
        {
          "data": {
            "text/plain": [
              "array(['10년', '10대', '13년', ..., '힘겹', '힘들', '힘쓰'], dtype=object)"
            ]
          },
          "execution_count": 22,
          "metadata": {},
          "output_type": "execute_result"
        }
      ],
      "source": [
        "vocab"
      ]
    },
    {
      "cell_type": "markdown",
      "metadata": {},
      "source": [
        "### **3.2 - Contextualized Embedding 만들기**"
      ]
    },
    {
      "cell_type": "markdown",
      "metadata": {},
      "source": [
        "기본으로 제공하는 SBERT는 영어 문장을 대상으로만 문장을 분류, 군집화 할 수 있습니다. <br>\n",
        "한국어를 활용해 SBERT를 수행하고 싶다면, 한국어를 지원하는 BERT모델을 사용해야합니다. <br>\n",
        "한국어를 지원하는 SBERT모델은 [여기]()에서 찾을수 있습니다.<br>\n",
        "(이때, 주의할 점은 문장간의 유사도를 판별할 수 있는 모델을 사용해야 하기 때문에, 꼭 일반적인 BERT가 아닌 SBERT를 사용해야 합니다!)\n",
        "\n",
        "**HuggingFace에서 한국어 SBERT모델 찾는법** <br>\n",
        "- Hugging Face > Models > Natural Language Processing(좌측 메뉴)에 들어간다\n",
        "- Filter by name에 \"ko\"라고 검색\n",
        "- 검색된 다양한 모델에 들어간 후 원하는 모델을 정합니다.\n",
        "\n",
        "**모델을 고르는 방법** <br>\n",
        "- 모델의 성능 (주관적이지만 기능을 수행하기에 무리가 없는 수준이어야 합니다.)\n",
        "- 어떤 데이터셋으로 학습되었는가? (내가 사용할 Domain과 비슷한 Corpus로 학습된 모델이 좋습니다.)\n",
        "\n",
        "실습은 Hugging Face의 \"jhgan/ko-sroberta-multitask\"을 사용해서 진행하겠습니다."
      ]
    },
    {
      "cell_type": "code",
      "execution_count": 23,
      "metadata": {},
      "outputs": [],
      "source": [
        "def mean_pooling(model_output, attention_mask):\n",
        "    token_embeddings = model_output[0] #First element of model_output contains all token embeddings\n",
        "    input_mask_expanded = attention_mask.unsqueeze(-1).expand(token_embeddings.size()).float()\n",
        "    return torch.sum(token_embeddings * input_mask_expanded, 1) / torch.clamp(input_mask_expanded.sum(1), min=1e-9)"
      ]
    },
    {
      "cell_type": "code",
      "execution_count": 24,
      "metadata": {},
      "outputs": [
        {
          "name": "stderr",
          "output_type": "stream",
          "text": [
            "100%|██████████| 2109/2109 [01:26<00:00, 24.37it/s]\n"
          ]
        }
      ],
      "source": [
        "tokenizer = AutoTokenizer.from_pretrained('jhgan/ko-sroberta-multitask')\n",
        "model = AutoModel.from_pretrained('jhgan/ko-sroberta-multitask')\n",
        "\n",
        "contextualized_embeddings = []\n",
        "with torch.no_grad():\n",
        "    for i in tqdm(df['news_title']):\n",
        "        encoded_input = tokenizer(i, padding=True, truncation=True, return_tensors='pt')\n",
        "        model_output = model(**encoded_input)\n",
        "        contextualized_embeddings.append(mean_pooling(model_output, encoded_input['attention_mask']))\n",
        "\n",
        "contextualized_embeddings = torch.cat(contextualized_embeddings)"
      ]
    },
    {
      "cell_type": "markdown",
      "metadata": {
        "id": "DOOttxbGbL-K"
      },
      "source": [
        "### **3.3 - CTM 데이터셋 만들기**"
      ]
    },
    {
      "cell_type": "code",
      "execution_count": 25,
      "metadata": {},
      "outputs": [],
      "source": [
        "qt = TopicModelDataPreparation()\n",
        "training_dataset = qt.load(\n",
        "    contextualized_embeddings=contextualized_embeddings, \n",
        "    bow_embeddings=bow_embeddings, \n",
        "    id2token=id2token\n",
        "    )"
      ]
    },
    {
      "cell_type": "markdown",
      "metadata": {
        "id": "DeqlTN4IbL-K"
      },
      "source": [
        "모든 설정을 마쳤습니다. 이제 CTM모델을 생성해보도록 하겠습니다."
      ]
    },
    {
      "cell_type": "code",
      "execution_count": 26,
      "metadata": {
        "id": "aJYVZMbFbL-K"
      },
      "outputs": [],
      "source": [
        "ctm = CombinedTM(\n",
        "    bow_size=len(vocab), \n",
        "    contextual_size=768, \n",
        "    n_components=20, \n",
        "    num_epochs=100,\n",
        "    batch_size=64,\n",
        "    num_data_loader_workers=0\n",
        "    )"
      ]
    },
    {
      "cell_type": "markdown",
      "metadata": {
        "id": "G3pyHHltEimG"
      },
      "source": [
        "### **3.4 - 모델 학습하기**"
      ]
    },
    {
      "cell_type": "markdown",
      "metadata": {
        "id": "-Qfe_nPPbL-K"
      },
      "source": [
        "다른 모델과 다르게 CTM은 모델을 학습해야 합니다. GPU환경을 권장하며, RTX2060 환경에서 10000개의 데이터 기준 1분의 시간이 소요됩니다."
      ]
    },
    {
      "cell_type": "code",
      "execution_count": 27,
      "metadata": {
        "colab": {
          "base_uri": "https://localhost:8080/",
          "height": 228,
          "referenced_widgets": [
            "9dd66f6ca8f14f47a898423416694938",
            "93d5de1dfe85433d986521c0ee3de010",
            "c680502461f741be80d8d9743763c93e",
            "35b61d186e07401183db959f6d77b9e2",
            "1b04bd211784452bbd745a7634a2b803",
            "09418db9ce06434599e1c467f71db1d0",
            "32793008655f452196f3efaf64466774",
            "5b87bf1a685e4a01b079c085a3f5ebd6",
            "cb210bb8bd59403bbb85a3b42643730c",
            "18c37462862d401bb420eacd389bdc17",
            "4501987830ad4a0b94112aa84ef4c95c"
          ]
        },
        "id": "5rn9kXsnbL-K",
        "outputId": "9ef6316b-c97d-4a16-86b4-b7c9b1c9afbf"
      },
      "outputs": [
        {
          "name": "stderr",
          "output_type": "stream",
          "text": [
            "Epoch: [100/100]\t Seen Samples: [204800/210900]\tTrain Loss: 43.863324880599976\tTime: 0:00:00.412094: : 100it [00:41,  2.42it/s]\n",
            "100%|██████████| 33/33 [00:00<00:00, 104.08it/s]\n"
          ]
        }
      ],
      "source": [
        "ctm.fit(training_dataset)"
      ]
    },
    {
      "cell_type": "markdown",
      "metadata": {},
      "source": [
        "## **4. 토픽 추출하기**"
      ]
    },
    {
      "cell_type": "markdown",
      "metadata": {},
      "source": [
        "문서별로 어떤 토픽을 가지는지 알아보겠습니다.\n",
        "\n",
        "`.get_topics()`로 토픽의 번호-토픽 키워드로 이루어진 딕셔너리를 얻을 수 있습니다."
      ]
    },
    {
      "cell_type": "code",
      "execution_count": 29,
      "metadata": {},
      "outputs": [
        {
          "name": "stderr",
          "output_type": "stream",
          "text": [
            "100%|██████████| 33/33 [00:00<00:00, 96.75it/s]\n"
          ]
        }
      ],
      "source": [
        "idx2topic = ctm.get_topics()\n",
        "\n",
        "df['topic_idx'] = np.argmax(ctm.get_doc_topic_distribution(training_dataset, n_samples=20), axis=1)\n",
        "df['topic'] = df['topic_idx'].map(idx2topic)"
      ]
    },
    {
      "cell_type": "code",
      "execution_count": 30,
      "metadata": {},
      "outputs": [
        {
          "data": {
            "text/html": [
              "<div>\n",
              "<style scoped>\n",
              "    .dataframe tbody tr th:only-of-type {\n",
              "        vertical-align: middle;\n",
              "    }\n",
              "\n",
              "    .dataframe tbody tr th {\n",
              "        vertical-align: top;\n",
              "    }\n",
              "\n",
              "    .dataframe thead th {\n",
              "        text-align: right;\n",
              "    }\n",
              "</style>\n",
              "<table border=\"1\" class=\"dataframe\">\n",
              "  <thead>\n",
              "    <tr style=\"text-align: right;\">\n",
              "      <th></th>\n",
              "      <th>news_title</th>\n",
              "      <th>news_date</th>\n",
              "      <th>news_company</th>\n",
              "      <th>news_body</th>\n",
              "      <th>topic_idx</th>\n",
              "      <th>topic</th>\n",
              "    </tr>\n",
              "  </thead>\n",
              "  <tbody>\n",
              "    <tr>\n",
              "      <th>0</th>\n",
              "      <td>탈원전 방향은 맞지만 부작용 최소화해야</td>\n",
              "      <td>2017-05-29</td>\n",
              "      <td>디지털타임스</td>\n",
              "      <td>29일 국정기획자문위원회 이개호 경제2분과 위원장이 원자력안전위원회(원안위)에 원전...</td>\n",
              "      <td>0</td>\n",
              "      <td>[대만, 폐기, 독일, 투표, 탈원전, 포기, 실패, 교훈, 송영길, 교사]</td>\n",
              "    </tr>\n",
              "    <tr>\n",
              "      <th>1</th>\n",
              "      <td>탈원전 석탄 조급증 안전하면서 값싼 전기는 없다</td>\n",
              "      <td>2017-05-30</td>\n",
              "      <td>한국경제</td>\n",
              "      <td>문재인 정부의 에너지정책이 탈(脫)원전, 탈화력발전으로 급선회하고 있다. 그제 국정...</td>\n",
              "      <td>12</td>\n",
              "      <td>[전력, 전기, 수급, 폭염, 인상, 비용, 급등, 탈원전, 시작, 예측]</td>\n",
              "    </tr>\n",
              "    <tr>\n",
              "      <th>2</th>\n",
              "      <td>새 정부 탈원전 정책 우려 새겨 들어야</td>\n",
              "      <td>2017-06-01</td>\n",
              "      <td>파이낸셜뉴스</td>\n",
              "      <td>전문가 200명 비판 성명 방향 맞지만 너무 서둘러     에너지 분야 전문가들이 ...</td>\n",
              "      <td>11</td>\n",
              "      <td>[탈원전, 에너지, 재생, 정책, 원자력, 폐기, 고집, 우려, 한국, 재검토]</td>\n",
              "    </tr>\n",
              "    <tr>\n",
              "      <th>3</th>\n",
              "      <td>탈원전 정규직화 밀어붙이기 정책 에서 놓치는 것들</td>\n",
              "      <td>2017-06-01</td>\n",
              "      <td>한국경제</td>\n",
              "      <td>교수 230명 성명 \"에너지정책 전문가 논의 절실\"일자리 해법, 누구나 비판하고 토...</td>\n",
              "      <td>3</td>\n",
              "      <td>[탈원전, 수원, 반대, 정책, 사장, 과학, 보복, 밀어붙이, 지적, 소주]</td>\n",
              "    </tr>\n",
              "    <tr>\n",
              "      <th>4</th>\n",
              "      <td>성급한 원전은 안보 해친다는 전문가들의 우려</td>\n",
              "      <td>2017-06-02</td>\n",
              "      <td>문화일보</td>\n",
              "      <td>문재인 정부의 탈(脫)원전 정책에 대해 에너지 전문가들이 정면으로 비판하고 나섰다....</td>\n",
              "      <td>1</td>\n",
              "      <td>[원전, 수원, 안전, 중단, 정비, 친환경, 일본, 폐기장, 이사회, 가동]</td>\n",
              "    </tr>\n",
              "    <tr>\n",
              "      <th>...</th>\n",
              "      <td>...</td>\n",
              "      <td>...</td>\n",
              "      <td>...</td>\n",
              "      <td>...</td>\n",
              "      <td>...</td>\n",
              "      <td>...</td>\n",
              "    </tr>\n",
              "    <tr>\n",
              "      <th>2104</th>\n",
              "      <td>6개월 정부 초심으로 돌아가 국정 쇄신하라</td>\n",
              "      <td>2022-11-09</td>\n",
              "      <td>서울신문</td>\n",
              "      <td>첫 관문 ‘공정·상식’ 따른 참사 대처안보·경제 복합위기 극복 믿음 줘야\\n\\n\\n...</td>\n",
              "      <td>6</td>\n",
              "      <td>[대통령, 국정, 여야, 회동, 소통, 민심, 지지, 경제, 마지막, 임기]</td>\n",
              "    </tr>\n",
              "    <tr>\n",
              "      <th>2105</th>\n",
              "      <td>힘겨웠던 정부 6개월 개혁의 신발끈 다시 매야</td>\n",
              "      <td>2022-11-10</td>\n",
              "      <td>한국경제</td>\n",
              "      <td>윤석열 정부가 출범 6개월을 맞았다. 국내외에서 안보와 경제가 뒤얽힌 복합적 위기 ...</td>\n",
              "      <td>4</td>\n",
              "      <td>[정부, 정책, 실패, 국민, 바꾸, 책임, 전환, 떠넘기, 경제, 계기]</td>\n",
              "    </tr>\n",
              "    <tr>\n",
              "      <th>2106</th>\n",
              "      <td>낙하산 논란에 사의 표명 한수원 사외이사 파행</td>\n",
              "      <td>2022-11-11</td>\n",
              "      <td>국제신문</td>\n",
              "      <td>고리 핵폐기장화 결정 초미의 관심…정권 바뀔 때마다 반복 이젠 달라야한국수력원자력(...</td>\n",
              "      <td>2</td>\n",
              "      <td>[월성, 수사, 조작, 폐쇄, 밝히, 산업부, 블랙리스트, 의혹, 감사, 경제]</td>\n",
              "    </tr>\n",
              "    <tr>\n",
              "      <th>2107</th>\n",
              "      <td>에너지 효율성 최악 산업 구조 전면 리셋해야</td>\n",
              "      <td>2022-11-12</td>\n",
              "      <td>서울경제</td>\n",
              "      <td>[서울경제] 국제 에너지 가격 폭등이 우리 경제를 위기로 몰아넣고 있다. 무역수지는...</td>\n",
              "      <td>16</td>\n",
              "      <td>[공기업, 공공, 기업, 기관, 개혁, 경영, 부채, 일자리, 잔치, 재정]</td>\n",
              "    </tr>\n",
              "    <tr>\n",
              "      <th>2108</th>\n",
              "      <td>한전 적자 21조 전기료 현실화하고 소비 줄이는 방법뿐</td>\n",
              "      <td>2022-11-12</td>\n",
              "      <td>조선일보</td>\n",
              "      <td>한국전력이 3분기에 7조5300억원 적자를 냈다. 올 들어 3분기까지 누적 적자가 ...</td>\n",
              "      <td>10</td>\n",
              "      <td>[한전, 적자, 공대, 책임, 세금, 부담, 부실, 오죽, 공개, 원가]</td>\n",
              "    </tr>\n",
              "  </tbody>\n",
              "</table>\n",
              "<p>2109 rows × 6 columns</p>\n",
              "</div>"
            ],
            "text/plain": [
              "                          news_title   news_date news_company  \\\n",
              "0              탈원전 방향은 맞지만 부작용 최소화해야  2017-05-29       디지털타임스   \n",
              "1         탈원전 석탄 조급증 안전하면서 값싼 전기는 없다  2017-05-30         한국경제   \n",
              "2              새 정부 탈원전 정책 우려 새겨 들어야  2017-06-01       파이낸셜뉴스   \n",
              "3        탈원전 정규직화 밀어붙이기 정책 에서 놓치는 것들  2017-06-01         한국경제   \n",
              "4           성급한 원전은 안보 해친다는 전문가들의 우려  2017-06-02         문화일보   \n",
              "...                              ...         ...          ...   \n",
              "2104         6개월 정부 초심으로 돌아가 국정 쇄신하라  2022-11-09         서울신문   \n",
              "2105       힘겨웠던 정부 6개월 개혁의 신발끈 다시 매야  2022-11-10         한국경제   \n",
              "2106       낙하산 논란에 사의 표명 한수원 사외이사 파행  2022-11-11         국제신문   \n",
              "2107        에너지 효율성 최악 산업 구조 전면 리셋해야  2022-11-12         서울경제   \n",
              "2108  한전 적자 21조 전기료 현실화하고 소비 줄이는 방법뿐  2022-11-12         조선일보   \n",
              "\n",
              "                                              news_body  topic_idx  \\\n",
              "0     29일 국정기획자문위원회 이개호 경제2분과 위원장이 원자력안전위원회(원안위)에 원전...          0   \n",
              "1     문재인 정부의 에너지정책이 탈(脫)원전, 탈화력발전으로 급선회하고 있다. 그제 국정...         12   \n",
              "2     전문가 200명 비판 성명 방향 맞지만 너무 서둘러     에너지 분야 전문가들이 ...         11   \n",
              "3     교수 230명 성명 \"에너지정책 전문가 논의 절실\"일자리 해법, 누구나 비판하고 토...          3   \n",
              "4     문재인 정부의 탈(脫)원전 정책에 대해 에너지 전문가들이 정면으로 비판하고 나섰다....          1   \n",
              "...                                                 ...        ...   \n",
              "2104  첫 관문 ‘공정·상식’ 따른 참사 대처안보·경제 복합위기 극복 믿음 줘야\\n\\n\\n...          6   \n",
              "2105  윤석열 정부가 출범 6개월을 맞았다. 국내외에서 안보와 경제가 뒤얽힌 복합적 위기 ...          4   \n",
              "2106  고리 핵폐기장화 결정 초미의 관심…정권 바뀔 때마다 반복 이젠 달라야한국수력원자력(...          2   \n",
              "2107  [서울경제] 국제 에너지 가격 폭등이 우리 경제를 위기로 몰아넣고 있다. 무역수지는...         16   \n",
              "2108  한국전력이 3분기에 7조5300억원 적자를 냈다. 올 들어 3분기까지 누적 적자가 ...         10   \n",
              "\n",
              "                                             topic  \n",
              "0       [대만, 폐기, 독일, 투표, 탈원전, 포기, 실패, 교훈, 송영길, 교사]  \n",
              "1        [전력, 전기, 수급, 폭염, 인상, 비용, 급등, 탈원전, 시작, 예측]  \n",
              "2     [탈원전, 에너지, 재생, 정책, 원자력, 폐기, 고집, 우려, 한국, 재검토]  \n",
              "3      [탈원전, 수원, 반대, 정책, 사장, 과학, 보복, 밀어붙이, 지적, 소주]  \n",
              "4      [원전, 수원, 안전, 중단, 정비, 친환경, 일본, 폐기장, 이사회, 가동]  \n",
              "...                                            ...  \n",
              "2104    [대통령, 국정, 여야, 회동, 소통, 민심, 지지, 경제, 마지막, 임기]  \n",
              "2105     [정부, 정책, 실패, 국민, 바꾸, 책임, 전환, 떠넘기, 경제, 계기]  \n",
              "2106  [월성, 수사, 조작, 폐쇄, 밝히, 산업부, 블랙리스트, 의혹, 감사, 경제]  \n",
              "2107    [공기업, 공공, 기업, 기관, 개혁, 경영, 부채, 일자리, 잔치, 재정]  \n",
              "2108      [한전, 적자, 공대, 책임, 세금, 부담, 부실, 오죽, 공개, 원가]  \n",
              "\n",
              "[2109 rows x 6 columns]"
            ]
          },
          "execution_count": 30,
          "metadata": {},
          "output_type": "execute_result"
        }
      ],
      "source": [
        "df"
      ]
    },
    {
      "cell_type": "markdown",
      "metadata": {
        "id": "funNIB2VBKfS"
      },
      "source": [
        "## **5 - 시각화**\n",
        "LDA에서 사용하던 PyLDAvis를 사용합니다."
      ]
    },
    {
      "cell_type": "markdown",
      "metadata": {},
      "source": [
        "### **5.1 - 일반 시각화**"
      ]
    },
    {
      "cell_type": "code",
      "execution_count": 163,
      "metadata": {},
      "outputs": [
        {
          "name": "stderr",
          "output_type": "stream",
          "text": [
            "100%|██████████| 33/33 [00:00<00:00, 93.47it/s]\n"
          ]
        },
        {
          "data": {
            "text/html": [
              "\n",
              "<link rel=\"stylesheet\" type=\"text/css\" href=\"https://cdn.jsdelivr.net/gh/bmabey/pyLDAvis@3.4.0/pyLDAvis/js/ldavis.v1.0.0.css\">\n",
              "\n",
              "\n",
              "<div id=\"ldavis_el212362298979895776250107552\" style=\"background-color:white;\"></div>\n",
              "<script type=\"text/javascript\">\n",
              "\n",
              "var ldavis_el212362298979895776250107552_data = {\"mdsDat\": {\"x\": [0.0018088533316147465, -0.000253083126968005, 0.0005042358335105866, 5.745062451055944e-05, 0.0014042289743582644, 0.0018606917126983988, 0.0008598143621874594, 0.00018991599026280082, -0.0003404915755825688, 0.0011638784742285363, -6.3994701331377405e-06, -0.0009180011789416958, -0.001335710054437947, -0.001360667501566753, -2.617551690552483e-05, 0.0003224116046248571, -0.000654226306778365, -0.0009240041866388663, -0.0007086912302218774, -0.0016440307598214704], \"y\": [-0.0001385977119636389, 0.0003714782242862843, -0.000474557068873474, -0.0004698288716419842, 0.0003025352853149545, -0.000155621168667692, -9.71297574286233e-06, -0.00026781604453790194, -0.0006465601261919172, -9.824288712278468e-05, 0.0011492682433510066, -0.0005764407533337461, -0.0009127056523517303, -0.0009985210036040756, -0.00023129698614963808, 2.9584946421210482e-05, 0.0005127971259297254, 0.000364237164796193, 0.0018015662256165696, 0.0004484340344655003], \"topics\": [1, 2, 3, 4, 5, 6, 7, 8, 9, 10, 11, 12, 13, 14, 15, 16, 17, 18, 19, 20], \"cluster\": [1, 1, 1, 1, 1, 1, 1, 1, 1, 1, 1, 1, 1, 1, 1, 1, 1, 1, 1, 1], \"Freq\": [5.494085330031062, 5.483073674774642, 5.445624020300004, 5.303634828893837, 5.2430740702583005, 5.205259093807302, 5.152689593362708, 5.101569863843932, 5.088819300920712, 5.056133413439128, 5.028605436166235, 4.9768257621211776, 4.901443009967011, 4.810913661997943, 4.805665798970049, 4.776517291693105, 4.613016134714986, 4.59645064046286, 4.5425093103755305, 4.374089763899472]}, \"tinfo\": {\"Term\": [\"\\ud0c8\\uc6d0\\uc804\", \"\\uc6d0\\uc804\", \"\\uc5d0\\ub108\\uc9c0\", \"\\uc815\\ubd80\", \"\\uc815\\ucc45\", \"\\uc6d0\\uc790\\ub825\", \"\\uc218\\ucd9c\", \"\\uc7ac\\uc0dd\", \"\\uc548\\uc804\", \"\\ud3d0\\uae30\", \"\\uc804\\ub825\", \"\\uc11d\\ud0c4\", \"\\ud55c\\uc804\", \"\\ud55c\\uad6d\", \"\\uac00\\ub3d9\", \"\\uc7ac\\uac80\\ud1a0\", \"\\uc804\\uae30\\ub8cc\", \"\\uc218\\uc8fc\", \"\\uc804\\ubb38\\uac00\", \"\\uc7ac\\uc559\", \"\\ud0dc\\uc591\\uad11\", \"\\uc0dd\\ud0dc\\uacc4\", \"\\uac74\\uc124\", \"\\uc2e0\\ud55c\", \"\\ub300\\ud1b5\\ub839\", \"\\uc218\\uc6d0\", \"\\uc778\\uc815\", \"\\uace0\\uc9d1\", \"\\ubc18\\ub300\", \"\\uc804\\uae30\", \"\\ub300\\uc120\", \"\\ucd9c\\ub9c8\", \"\\uc724\\uc11d\\uc5f4\", \"\\uacbd\\uc7c1\", \"\\ubcf4\\uc774\", \"\\uacf5\\uc57d\", \"\\ucd1d\\uc120\", \"\\uc785\\uc99d\", \"\\uc778\\uc7ac\", \"\\ub098\\ub77c\", \"\\uc55e\\ub450\", \"\\ub2f9\\uc120\", \"\\uc720\\uad8c\\uc790\", \"\\ubbf8\\ub798\", \"\\uad50\\uccb4\", \"\\ube44\\uc804\", \"\\ub530\\ub974\", \"\\ub2a5\\ub825\", \"\\ud1a0\\ub860\", \"\\uc88c\\uc6b0\", \"\\ud6c4\\ubcf4\", \"\\uc0ac\\uba74\", \"\\uc120\\uc5b8\", \"\\uc0dd\\uac01\", \"\\ud589\\ub3d9\", \"\\uc81c\\ub85c\", \"\\ub2e4\\ub974\", \"\\uad11\\ud654\\ubb38\", \"\\uc774\\ub099\\uc5f0\", \"\\uc18d\\ub9c8\\uc74c\", \"\\uc131\\uc7a5\", \"\\ubbfc\\uc8fc\\ub2f9\", \"\\uc0ac\\ud68c\", \"\\uc774\\uc7ac\\uba85\", \"\\uc0ac\\uc124\", \"\\ud0c4\\uc18c\", \"\\uc911\\ub9bd\", \"\\uac00\\uc2a4\", \"\\uac10\\ucd95\", \"\\uc628\\uc2e4\", \"\\uae30\\ud6c4\", \"\\uc904\\uc774\", \"\\uacfc\\uc18d\", \"\\uc704\\ud558\", \"\\ubbf8\\uc138\\uba3c\\uc9c0\", \"\\ubaa9\\ud45c\", \"\\ubcc0\\ud654\", \"\\ubc30\\ucd9c\", \"\\uacbd\\uccad\", \"\\uad8c\\uace0\", \"\\ud504\\ub791\\uc2a4\", \"\\ub9dd\\uc0c1\", \"\\uc2e4\\ud604\", \"\\uc815\\uc0c1\", \"\\ubc30\\uc81c\", \"\\uc218\\uc704\", \"\\uc720\\uc9c0\", \"\\uc2dc\\ub098\\ub9ac\\uc624\", \"\\uc11d\\ud0c4\", \"\\uace0\\uc218\", \"\\uba3c\\uc9c0\", \"20\", \"\\ud569\\uc758\", \"\\ucd5c\\uc0c1\", \"\\uc870\\uce58\", \"\\uc5c6\\uc774\", \"\\ub300\\ucc45\", \"\\uc720\\ub7fd\", \"\\ud544\\uc694\", \"\\uc774\\uc720\", \"\\uc6d4\\uc131\", \"\\uc870\\uc791\", \"\\uc218\\uc0ac\", \"\\ud3d0\\uc1c4\", \"\\uc0b0\\uc5c5\\ubd80\", \"\\ubc1d\\ud788\", \"\\uc131\\uc6d0\", \"\\ube14\\ub799\\ub9ac\\uc2a4\\ud2b8\", \"\\ubc31\\uc6b4\", \"\\ucc28\\uad00\", \"\\ubc94\\uc8c4\", \"\\ud3c9\\uac00\", \"\\uacf5\\ubb34\\uc6d0\", \"\\uae30\\uc18c\", \"\\ucf54\\ub4dc\", \"\\uc99d\\uac70\", \"\\uc758\\ud639\", \"\\uc131\\uc5ed\", \"\\ucca0\\uc800\\ud788\", \"\\ud589\\uc704\", \"\\ubd88\\ubc95\", \"\\uac80\\ucc30\", \"\\ubc29\\ud574\", \"\\uc65c\\uace1\", \"\\ubc30\\uc0c1\", \"\\uc758\\uacb0\", \"\\uc870\\uae30\", \"\\ub4e4\\uc774\", \"\\uc598\\uae30\", \"\\ub300\\uc790\\ubcf4\", \"\\uacbd\\uc81c\", \"\\uac10\\uc0ac\", \"\\ub4dc\\ub7ec\\ub098\", \"\\uc800\\ud56d\", \"\\uc678\\uc555\", \"\\uc601\\uc7a5\", \"\\uccad\\uc640\\ub300\", \"\\ud55c\\uc804\", \"\\uc801\\uc790\", \"\\uacf5\\ub300\", \"\\uc138\\uae08\", \"\\uc62c\\ud574\", \"\\uc6d0\\uac00\", \"\\uc624\\uc8fd\", \"\\ubd80\\uc2e4\", \"\\ucc45\\uc784\", \"\\uacbd\\uc601\\uc9c4\", \"\\ud558\\uba74\", \"\\ucd5c\\uc545\", \"\\ub5a8\\uc5b4\\ub728\\ub9ac\", \"\\ubc8c\\uc774\", \"\\uc124\\ub9bd\", \"\\uc5b4\\uca4c\", \"\\uc0c1\\ubc18\\uae30\", \"\\uc0b0\\ubd88\", \"\\uc8fc\\uba38\\ub2c8\", \"\\uae09\\uac10\", \"\\uacf5\\uac1c\", \"\\uaddc\\ubaa8\", \"\\uc5f0\\uc18d\", \"\\ud5c8\\ud5c8\\ubc8c\\ud310\", \"\\ub300\\ud559\", \"\\ucc9c\\ubb38\\ud559\", \"\\uc8fc\\uc8fc\", \"\\ub9dd\\uce58\", \"\\uac74\\ubb3c\", \"\\uc8fc\\ubc94\", \"\\ubd80\\ub2f4\", \"\\uc190\\uc2e4\", \"\\ucd5c\\uc800\\uc784\\uae08\", \"\\uad6d\\ubbfc\", \"\\uc6b0\\ub7c9\", \"\\ud0dc\\uc591\\uad11\", \"\\ud48d\\ub825\", \"\\uc0ac\\uc5c5\", \"\\uc694\\uc9c0\\uacbd\", \"\\ud654\\uc7ac\", \"\\uc678\\uad6d\", \"\\ub09c\\uac1c\\ubc1c\", \"\\ubc1c\\uc804\\uc18c\", \"\\ud30c\\uad34\", \"\\ud658\\uacbd\", \"\\ud6c4\\ucfe0\\uc2dc\\ub9c8\", \"\\uc0c8\\ub9cc\\uae08\", \"\\uaf34\\ucc0c\", \"\\ud6fc\\uc190\", \"\\ubd88\\ub9ac\", \"\\ubc1c\\uc804\", \"\\ud574\\uc0c1\", \"\\uc804\\uba74\", \"\\ud14d\\uc0ac\\uc2a4\", \"\\uacf5\\uc7a5\", \"\\uac70\\uc9d3\\ub9d0\", \"\\ubc29\\ub958\", \"\\ub3c4\\uadf8\\ub9c8\", \"\\ub2e8\\ud638\\ud788\", \"\\uae30\\ub9c9\\ud788\", \"\\ud22c\\uae30\", \"\\ud0dc\\uc591\\uad11 \\ubc1c\\uc804\", \"\\uba74\\ud5c8\", \"\\ud3ed\\uc6b0\", \"\\uc808\\ubc18\", \"\\uc8fc\\uae30\", \"\\uc11c\\uc6b8\\uc2dc\", \"\\ubcf4\\uc870\\uae08\", \"\\ud2b9\\ud61c\", \"\\uac8c\\uc784\", \"\\uaddc\\uc81c\", \"\\uc5c5\\uccb4\", \"\\uc794\\uce6b\\uc0c1\", \"\\ube44\\ub9ac\", \"\\uad6d\\uac10\", \"\\uad6d\\ud68c\", \"\\uc815\\uce58\", \"\\uac10\\uc0ac\\uc6d0\", \"\\ubc97\\uc5b4\\ub098\", \"\\uc57c\\ub2f9\", \"\\uc870\\uad6d\", \"\\uc6b8\\uc0b0\", \"\\uc815\\uc7c1\", \"\\ud1b5\\uc81c\", \"\\ubb34\\ub2a5\", \"\\uadf9\\ubcf5\", \"\\uacc4\\uc57d\", \"\\uc5ed\\ub7c9\", \"\\ub2e8\\ub3c5\", \"\\uc774\\uae30\", \"\\uacfc\\ud559\\uc790\", \"\\uc815\\uad8c\", \"\\uc785\\ubc95\", \"\\uacf5\\ubc29\", \"\\uc5f4\\ucc28\", \"\\ud5cc\\ubc95\", \"\\uacf5\\uc138\", \"\\ucc45\\ubb34\", \"\\ubc1c\\uc0c1\", \"\\uc88c\\ucc9c\", \"\\uacf5\\uc218\", \"\\ubc95\\uc548\", \"\\ub098\\uc058\", \"\\ud55c\\ud30c\", \"\\uc704\\uae30\", \"\\uc548\\ubcf4\", \"\\ubc1c\\uc5b8\", \"\\uad50\\uccb4\\uae30\", \"\\uad6d\\uac00\", \"\\ubbfc\\uc0dd\", \"\\uacf5\\uc791\", \"\\uac10\\uc0ac\\uc6d0\\uc7a5\", \"\\uac10\\uc0ac\", \"\\uacf5\\uae30\\uc5c5\", \"\\uacf5\\uacf5\", \"\\uac1c\\ud601\", \"\\uacbd\\uc601\", \"\\uae30\\uc5c5\", \"\\uae30\\uad00\", \"\\ubd80\\ucc44\", \"\\uc7ac\\uc815\", \"\\uc1fc\\ud06c\", \"\\uad6c\\uc870\", \"\\uacf5\\uacf5\\uae30\\uad00 \\ubd80\\ucc44\", \"\\uc8fc\\ud589\", \"\\ubd80\\uc2e4\", \"\\ud601\\uba85\", \"\\uc77c\\uc790\\ub9ac\", \"\\uc2dc\\ub300\", \"\\uc794\\uce58\", \"\\uc774\\ub300\\ub85c\", \"\\uc313\\uc774\", \"\\ubbfc\\uc601\\ud654\", \"\\uacfc\\uc789\", \"\\uac15\\uc81c\", \"\\ub4b7\\uac10\\ub2f9\", \"\\ud30c\\ud0c4\", \"\\uc131\\uacfc\\uae09\", \"\\ub099\\ud558\\uc0b0\", \"\\ud480\\ud0c0\\uc784\", \"\\uc0dd\\uc874\", \"\\ud1a0\\ub9c9\", \"\\uc8fc\\ub3c4\", \"\\ud601\\uc2e0\", \"\\uc9c4\\ud654\", \"\\ubc14\\ub2e5\", \"\\ub9cc\\ub4e4\", \"\\uc54c\\ubc14\", \"\\ud3ec\\ud4f0\\ub9ac\\uc998\", \"\\uc0b4\\ub9ac\", \"\\uad6c\\uc870\\uc870\\uc815\", \"\\uc778\\uc0ac\", \"\\uacf5\\ub860\", \"\\uace0\\ub9ac\", \"\\uacf5\\uc815\", \"\\ub17c\\ub780\", \"\\uac08\\ub4f1\", \"\\ubb38\\uac74\", \"\\uc804\\ubb38\\uac00\", \"\\ud574\\uba85\", \"\\uc0ac\\ub4dc\", \"\\ubc1c\\ud45c\", \"\\uc774\\ud6c4\", \"\\uacb0\\uacfc\", \"\\uc870\\uc0ac\", \"\\ud22c\\uba85\", \"\\uc5d0\\ub108\\uc9c0 \\uc815\\ucc45\", \"\\uc704\\uc6d0\\ud68c\", \"\\uc6b4\\uba85\", \"\\ub05d\\ub098\", \"\\uacf5\\uac1c\", \"\\uc694\\uad6c\", \"\\uc6d0\\ub2e8\", \"\\uc2e4\\uc7a5\", \"\\ubc29\\ubb38\", \"\\uacb0\\ub860\", \"\\uc2dc\\ubbfc\", \"\\ud6c4\\uc720\\uc99d\", \"\\uad00\\uac74\", \"\\uc790\\uc81c\", \"\\ub0a9\\ub4dd\", \"\\ud3d0\\uae30\\uc7a5\", \"\\uc601\\uad6c\", \"\\ub0b4\\ub193\", \"\\uacb0\\uc815\", \"\\ub9d0\\ub77c\", \"\\uac71\\uc815\", \"\\uc758\\ud639\", \"\\uc784\\uc885\\uc11d\", \"\\ub4e4\\ub7ec\\ub9ac\", \"\\uad6d\\uac00\", \"\\uc804\\uae30\\ub8cc\", \"\\uc778\\uc0c1\", \"\\uc694\\uae08\", \"\\uc804\\uae30\", \"\\ube44\\uc6a9\", \"\\uad6d\\ubbfc\", \"\\uc2dc\\uc791\", \"\\uac1c\\ud3b8\", \"\\ub3d9\\uacb0\", \"\\ubd80\\ub2f4\", \"\\ud3ed\\ud0c4\", \"\\uccad\\uad6c\\uc11c\", \"\\ub5a0\\ub118\\uae30\", \"\\uaf3c\\uc218\", \"\\ub0a0\\uc544\\ub4e4\", \"\\ub3cc\\uc544\\uc624\", \"\\uc6b0\\ub871\", \"\\uc0dd\\uc0c9\", \"\\uc62c\\ub9ac\", \"\\uc57d\\uc18d\", \"\\ub3d9\\uc758\", \"\\ub204\\uc9c4\", \"\\ub204\\ub974\", \"\\uc758\\uc2dd\", \"\\uad6c\\ud558\", \"\\ub118\\uae30\", \"\\ud560\\uc778\", \"\\uc808\\ub300\", \"\\uc54c\\ub9ac\", \"\\uc870\\uc0bc\\ubaa8\\uc0ac\", \"\\ud3ed\\ub4f1\", \"\\ucd1d\\uc120\", \"\\uace0\\uc9c0\\uc11c\", \"\\ub300\\ud1b5\\ub839\", \"\\uad6d\\uc815\", \"\\uc5ec\\uc57c\", \"\\ud68c\\ub3d9\", \"\\uc9c0\\uc9c0\", \"\\uc18c\\ud1b5\", \"\\ub9c8\\uc9c0\\ub9c9\", \"\\uc790\\ud654\\uc790\\ucc2c\", \"\\uacfc\\uc81c\", \"\\ubb38\\uc7ac\\uc778\", \"\\ubbfc\\uc2ec\", \"\\ubcf4\\uc218\", \"\\uc1c4\\uc2e0\", \"\\uc790\\ub791\", \"\\uc784\\uae30\", \"\\ucd94\\ub77d\", \"\\uacbd\\uc81c\", \"\\ub0b4\\uc6a9\", \"\\ub3cc\\uc544\\uac00\", \"\\uc131\\uacfc\", \"\\uac00\\uc57c\", \"\\ub728\\uac81\", \"\\ub0b4\\uac01\", \"\\ucde8\\uc784\", \"\\uc2e4\\ucc9c\", \"\\ub3cc\\uc544\\ubcf4\", \"\\uc77c\\ubc29\\ud1b5\\ud589\", \"\\uc9c0\\uba85\", \"\\ubd84\\ub178\", \"\\ucd1d\\uc7ac\", \"\\ud68c\\uacac\", \"\\ub300\\ud45c\", \"\\uccad\\uc640\\ub300\", \"\\ucd5c\\uc800\", \"\\uc778\\uc0ac\", \"\\uc0dd\\ud0dc\\uacc4\", \"\\uc218\\uc8fc\", \"\\uae30\\uc220\", \"\\ubcf5\\uc6d0\", \"\\uc0b0\\uc5c5\", \"\\ub193\\uce58\", \"\\uc601\\uad6d\", \"\\uac15\\uad6d\", \"\\uc218\\ucd9c\", \"\\uc6d0\\uc804\", \"\\ubd95\\uad34\", \"\\ub3d9\\ub9f9\", \"\\uae30\\ud68c\", \"\\ucd5c\\uace0\", \"\\ud574\\uccb4\", \"\\ucc28\\uc138\\ub300\", \"\\ud574\\uc678\", \"\\uc0ac\\uc6b0\\ub514\", \"\\uc774\\uc9d1\\ud2b8\", \"\\ud3f4\\ub780\\ub4dc\", \"\\uad6d\\ub0b4\", \"\\uc815\\uc0c1\", \"\\uc2dc\\uc7a5\", \"\\uc2dc\\ub108\\uc9c0\", \"\\uc138\\uacc4\", \"\\uac00\\uc9c0\", \"\\uc815\\ube44\", \"\\ub0ad\\ubcf4\", \"\\ubb34\\ub108\\uc9c0\", \"\\ud5c8\\ubb3c\", \"\\ubbf8\\uad6d\", \"\\ubc18\\ub3c4\\uccb4\", \"\\uac1c\\ubc1c\", \"\\ud55c\\uad6d\", \"\\uc6d0\\uc790\\ub825\", \"\\uc804\\ub825\", \"\\uc218\\uae09\", \"\\uc804\\uae30\", \"\\uae09\\ub4f1\", \"\\ud3ed\\uc5fc\", \"\\uc218\\uc694\", \"\\uc608\\uce21\", \"\\uc18c\\ube44\", \"\\ube44\\uc6a9\", \"\\uc2dc\\uc791\", \"\\uccad\\uad6c\\uc11c\", \"\\uc608\\ube44\", \"\\ub300\\ub780\", \"\\uc804\\ub825\\ub09c\", \"\\uc720\\uac00\", \"\\uc7ac\\uc559\", \"\\ub36e\\uce58\", \"\\ubb38\\uc81c\\uc5c6\", \"\\uc544\\ub07c\", \"\\uc778\\uc0c1\", \"\\uac71\\uc815\", \"\\ubd88\\uac10\\uc99d\", \"\\uacc4\\ud68d\", \"\\uac12\\uc2f8\", \"\\uc548\\uae30\", \"\\ubb3c\\uac00\", \"\\uc11d\\ud0c4\", \"\\uae09\\uc804\", \"\\uc804\\ub9dd\", \"\\uc9c0\\uc2dc\", \"\\uc694\\uae08\", \"\\ud0c8\\uc6d0\\uc804\", \"\\uc774\\uc81c\", \"\\uc804\\uae30\\ub8cc\", \"\\ubd80\\ub2f4\", \"\\ud0c8\\uc6d0\\uc804\", \"\\ubc18\\ub300\", \"\\uc0ac\\uc7a5\", \"\\ubcf4\\ubcf5\", \"\\uc9c0\\uc801\", \"\\uc218\\uc6d0\", \"\\uacfc\\ud559\", \"\\uc815\\uc7ac\\ud6c8\", \"\\uc18c\\uc1a1\", \"\\ubc00\\uc5b4\\ubd99\\uc774\", \"\\uc5f0\\uc784\", \"\\uc624\\ub958\", \"\\uc218\\uc815\", \"\\uc815\\uc9c0\", \"\\uc815\\ucc45\", \"\\ubaa9\\uc18c\\ub9ac\", \"\\ub450\\uc0b0\\uc911\\uacf5\\uc5c5\", \"\\ube44\\ud310\", \"\\ub3c4\\ubc15\", \"\\uc6d0\\ub85c\", \"\\uc18c\\uc8fc\", \"\\ubb34\\ub9ac\\uc218\", \"\\uc601\\uad6c\", \"\\ud559\\uacc4\", \"\\ud1b5\\ud558\", \"\\uc811\\uadfc\", \"\\uc9d5\\uacc4\", \"\\uace0\\uc5b8\", \"\\ub2f5\\ubcc0\", \"\\uac70\\uc2a4\\ub974\", \"\\ubd80\\uc791\\uc6a9\", \"\\uba48\\ucd94\", \"\\uc774\\uc81c\", \"\\ucc45\\uc784\", \"\\uc778\\uc815\", \"\\ub300\\ud45c\", \"\\ucca0\\ud68c\", \"\\uc815\\ubd80\", \"\\uc815\\ucc45\", \"\\ubc14\\uafb8\", \"\\uad6d\\uba74\", \"\\uc804\\ud658\", \"\\uc2e4\\ud328\", \"\\uacc4\\uae30\", \"\\uac1c\\uac01\", \"\\ubb38\\uc81c\", \"\\uad6d\\ubbfc\", \"\\uae30\\uc870\", \"\\ub5a0\\ub118\\uae30\", \"\\ucc45\\uc784\", \"\\ub4b7\\uac10\\ub2f9\", \"\\ubd80\\ub3d9\\uc0b0\", \"\\ub099\\uc81c\\uc810\", \"\\ucd9c\\ubc94\", \"\\uc5ec\\ub2f9\", \"\\uc804\\uac00\", \"\\uc0ac\\uacfc\", \"\\uc0ac\\ub78c\", \"\\uc804\\ub150\", \"\\uc18c\\ud1b5\", \"\\uacfc\\uc81c\", \"\\uacbd\\uc81c\", \"\\uc0c1\\ud0dc\", \"\\ubc84\\uc2a4\", \"\\ubd80\\ub2f4\", \"\\uc790\\ub8cc\", \"\\ub55c\\uc9c8\", \"\\uc190\\uc2e4\", \"\\uad6d\\uc815\", \"\\ube44\\uc6a9\", \"\\ubbfc\\uc2ec\", \"\\ub9cc\\ub4e4\", \"\\uc2e0\\ud55c\", \"\\uc7ac\\uac1c\", \"\\uac74\\uc124\", \"\\uacf5\\uc0ac\", \"\\uc911\\ub2e8\", \"\\uc694\\uccad\", \"\\ud5c8\\uac00\", \"\\uc548\\uc704\", \"\\uac00\\ub3d9\", \"\\ud55c\\uc6b8\", \"\\ub108\\ubb34\", \"\\uc989\\uac01\", \"\\uc77c\\uc2dc\", \"\\uc774\\uc81c\\uc57c\", \"\\uc7ac\\uac80\\ud1a0\", \"\\ucd1d\\ub9ac\", \"\\uac80\\ud1a0\", \"\\uad8c\\uace0\", \"\\uace0\\ub9ac\", \"\\uc800\\uac10\", \"\\uc5f0\\uc7a5\", \"\\uc6b4\\uc601\", \"\\ub3d9\\uc2dc\", \"\\ubc31\\uc9c0\\ud654\", \"\\uc8fc\\uc7a5\", \"\\uc870\\uac74\\ubd80\", \"\\uace0\\ub824\", \"\\ub9cc\\uc2dc\\uc9c0\\ud0c4\", \"\\ud2b8\\uc9d1\", \"\\uae30\\uac00\", \"\\uc870\\uc18d\\ud788\", \"\\ubbf8\\uc138\\uba3c\\uc9c0\", \"\\ud5c8\\ubb34\", \"\\uacb0\\uc815\", \"\\uc6d0\\uc790\\ub85c\", \"\\ube44\\ud310\", \"\\ud638\\ub3c4\", \"\\ub300\\ub9cc\", \"\\ub3c5\\uc77c\", \"\\ud22c\\ud45c\", \"\\ud3ec\\uae30\", \"\\ud3d0\\uae30\", \"\\uad50\\ud6c8\", \"\\uc1a1\\uc601\\uae38\", \"\\uc815\\uc804\", \"\\ud3c9\\ud654\", \"\\uad50\\uc0ac\", \"\\ubc29\\ud5a5\", \"\\ucd9c\\uad6c\", \"\\ubb34\\uc0b0\", \"\\uc0ac\\uace0\", \"\\ube14\\ub799\\uc544\\uc6c3\", \"\\uc11c\\ub3c4\", \"\\ubc18\\uba74\", \"\\ud658\\uacbd\\ub860\\uc790\", \"\\ud0c0\\uc0b0\\uc9c0\\uc11d\", \"\\uc758\\uc874\\ub3c4\", \"\\ucc28\\uc774\\uc789\\uc6d0\", \"\\uc758\\uc874\", \"\\ud310\\uc815\", \"\\ud611\\ub825\", \"\\ub300\\uc2e0\", \"\\uc81c\\uae30\", \"\\ub0b4\\ub2ec\", \"\\ubd80\\uacb0\", \"\\uc18c\\ud615\", \"\\uba3c\\uc9c0\", \"\\uc2e4\\ud328\", \"\\ubc14\\ub85c\\uc7a1\", \"\\ucca0\\ud68c\", \"\\uacbd\\ud611\", \"\\ud0c8\\uc6d0\\uc804\", \"\\uc120\\ud0dd\", \"\\ubd80\\uc791\\uc6a9\", \"\\uc5d0\\ub108\\uc9c0\", \"\\uc804\\ub825\", \"\\uc218\\uae09\", \"\\uacc4\\ud68d\", \"\\ub2e4\\uc2dc\", \"\\ud3ed\\uc5fc\", \"\\uacf5\\uae09\", \"\\uc7ac\\uc0dd\", \"\\ud655\\ub300\", \"\\ubbf9\\uc2a4\", \"\\uae30\\ubcf8\", \"\\ubd88\\uc548\", \"\\uc218\\uc694\", \"\\ub300\\ucc45\", \"\\ucc28\\uc9c8\", \"\\ub85c\\ub4dc\\ub9f5\", \"\\ube44\\uc911\", \"\\ub300\\ub780\", \"\\uc11d\\ud0c4\", \"\\ube44\\uc0c1\", \"\\uc6d0\\ud558\", \"\\uc804\\ub7b5\", \"\\ubb38\\uc81c\\uc5c6\", \"\\uc0c8\\ub85c\", \"\\uacf3\\uacf3\", \"\\uae09\\uc99d\", \"\\uc5ec\\ub984\\ucca0\", \"\\uc138\\uc6b0\", \"\\ubc1c\\uc804\\uc18c\", \"\\ud5c8\\uc810\", \"\\uc11c\\ub450\\ub974\", \"\\uac00\\ub3d9\", \"\\uc704\\uae30\", \"\\uc720\\ub7fd\", \"\\uc6d0\\uc804\", \"\\uc548\\uc804\", \"\\uc815\\ube44\", \"\\ud3d0\\uae30\\uc7a5\", \"\\uc218\\uc6d0\", \"\\uc774\\uc0ac\\ud68c\", \"\\ubd80\\ucd94\\uae30\", \"\\uc77c\\ubcf8\", \"\\ud558\\ub3c4\\uae09\", \"\\uc911\\ub2e8\", \"\\ud310\\uacb0\", \"\\uc54c\\ub9ac\\ubc14\\uc774\", \"\\ubcf4\\uace0\\uc11c\", \"\\ud65c\\uc6a9\", \"\\ub530\\ub85c\", \"\\ubc95\\uc6d0\", \"\\uce5c\\ud658\\uacbd\", \"\\ud65c\\uc131\", \"\\uc99d\\uc124\", \"\\uac70\\uc218\\uae30\", \"\\uba74\\ud53c\", \"\\ubc29\\uc0ac\\ub2a5\", \"\\uc6a9\\ub0a9\", \"\\ubc94\\uc8c4\", \"\\uad34\\ub2f4\", \"\\uc0ac\\ubc95\", \"\\ubb34\\uc2dc\", \"\\uac00\\ub3d9\", \"\\uae30\\uac15\", \"\\uc0c9\\uae54\", \"\\uc911\\ub300\", \"\\ud655\\ubcf4\", \"\\ub300\\ucc45\", \"\\uacb0\\uc815\", \"\\uae09\\ud558\", \"\\uc218\\ucd9c\", \"\\ud55c\\uad6d\", \"\\ub179\\uc0c9\", \"\\uc6d0\\uc804\", \"\\uae30\\uc220\", \"\\uc138\\uacc4\", \"\\ud22c\\uc790\", \"\\ud574\\uc678\", \"\\uc218\\uc8fc\", \"\\uc9c0\\uc6d0\", \"\\uc0dd\\ud0dc\\uacc4\", \"\\ubcf5\\uc6d0\", \"\\ucd5c\\uace0\", \"\\uc720\\ub7fd\", \"\\ud0dd\\ud558\", \"\\ud575\\uc2ec\", \"\\uc790\\uc6d0\", \"\\uadf8\\ub9b0\", \"\\ub300\\uc548\", \"\\uc0b0\\uc5c5\", \"\\ub274\\ub51c\", \"\\uc5b4\\ub835\", \"\\uc6d0\\uc790\\ub825\", \"\\uac1c\\ubc1c\", \"\\ub2ec\\ub9ac\", \"\\uc7ac\\uc0dd\", \"\\uc5d0\\ub108\\uc9c0\", \"\\ubaa8\\uc73c\", \"\\ud3f4\\ub780\\ub4dc\", \"\\uc778\\uc815\", \"\\ud655\\ub300\", \"\\uae30\\ud68c\", \"\\uce5c\\ud658\\uacbd\", \"\\uad6d\\ub0b4\", \"\\ub098\\uc11c\", \"\\ud0c8\\uc6d0\\uc804\", \"\\uc7ac\\uc0dd\", \"\\uc5d0\\ub108\\uc9c0\", \"\\ud68c\\uadc0\", \"\\uace0\\uc9d1\", \"\\uc7ac\\uac80\\ud1a0\", \"\\ud3d0\\uae30\", \"\\uc6d0\\uc790\\ub825\", \"\\uacf5\\uc2dd\", \"\\ud398\\ub2ec\", \"\\uac00\\uc18d\", \"\\ud640\\ub85c\", \"\\uc815\\ucc45\", \"\\uc11d\\ud0c4\", \"\\uad6c\\uad6c\", \"\\uc9c0\\ub098\\uce58\", \"\\uc8fc\\uba39\", \"\\uc7ac\\uc559\", \"\\uc9d1\\ucc29\", \"\\uc7ac\\uace0\", \"\\uc6b0\\ub824\", \"\\uc774\\ub780\", \"\\ucd94\\uac00\", \"\\uc123\\ubd80\\ub974\", \"\\uacb0\\ud54d\", \"\\uac15\\ud48d\", \"\\uc804\\uba74\", \"\\uc0ac\\uc2e4\", \"\\uc870\\uc815\", \"\\ud658\\uacbd\", \"\\uc804\\ubb38\\uac00\", \"\\ud55c\\uad6d\", \"\\uc138\\uacc4\", \"\\ud655\\uc778\", \"\\uc120\\uc5b8\", \"\\ucee4\\uc9c0\", \"\\uc815\\ubd80\", \"\\ud655\\ub300\", \"\\uacc4\\ud68d\"], \"Freq\": [6.0, 6.0, 6.0, 6.0, 6.0, 6.0, 6.0, 6.0, 5.0, 6.0, 6.0, 5.0, 6.0, 6.0, 6.0, 5.0, 6.0, 5.0, 5.0, 5.0, 6.0, 6.0, 6.0, 5.0, 6.0, 6.0, 5.0, 5.0, 5.0, 6.0, 0.5194611493427419, 0.46226729293772173, 0.45668989032528673, 0.4596854570450009, 0.46154103943019015, 0.4604961690685435, 0.4559172014583547, 0.41428831301907515, 0.43402805159783997, 0.4352240425091619, 0.41524169600193517, 0.42430515283808984, 0.4191638762058534, 0.43447801097818195, 0.4064751712304815, 0.4210335163165938, 0.4002372424549803, 0.4022817442210477, 0.4039899822009251, 0.3982468404997443, 0.41676490290800183, 0.4026240274056784, 0.4166007340971102, 0.4124483212497233, 0.38855583333546, 0.396731671920788, 0.40990114363249697, 0.4009422972114813, 0.40423382391912954, 0.38610272283920927, 0.4124295153030418, 0.4165608789496698, 0.40379437044538297, 0.4030246725838873, 0.40410835124107153, 0.5540106242747331, 0.5475881126934212, 0.5132264612071985, 0.47954531752172724, 0.4848344578755016, 0.4653520023654552, 0.46975713181806683, 0.46929956699952224, 0.46022539584105215, 0.46827167858549085, 0.4278298589257803, 0.43905357355905555, 0.43671063870738364, 0.42726169946300785, 0.4324226336097758, 0.4245069823934889, 0.42609997063438626, 0.42430183753722545, 0.41923564016565806, 0.4201301359166953, 0.42271325218702266, 0.41770470283344857, 0.41722892944999734, 0.42802067573096964, 0.4081408406794163, 0.40753727152792174, 0.4203831528811046, 0.4247892151495413, 0.41153774547559036, 0.40390820752918843, 0.432507370599331, 0.43128355354938847, 0.41822928114087077, 0.4215796197710541, 0.42268429758381054, 0.6045334083009611, 0.5099193962337994, 0.5131451282690744, 0.5086483882914947, 0.4740433089680538, 0.48228840693607566, 0.43869170054677253, 0.4496552835760688, 0.4392196257653297, 0.4252059275483467, 0.43930563688650553, 0.43865957144635914, 0.4328864501475128, 0.4211562156426085, 0.4302546061897752, 0.42106331177324713, 0.44841892466362165, 0.4172872345589189, 0.42544532084554443, 0.4201784089026921, 0.42969306955936687, 0.4258524006241384, 0.41636360630205255, 0.4173676499544172, 0.4096142346902994, 0.41163970209663653, 0.424352523795844, 0.4127531403331077, 0.4132570150485873, 0.4082560297776686, 0.441500717779108, 0.4422733726160389, 0.42972093701439673, 0.41898329530600054, 0.41576934764665574, 0.41869346636213306, 0.4205469856416904, 0.6415274352777035, 0.5656953895849933, 0.46733301878023353, 0.4348425471081288, 0.4077732775795481, 0.4188667707193961, 0.4213519981615321, 0.42250631392681826, 0.4498942356735057, 0.4073622310157222, 0.4163523452203512, 0.41474006388755374, 0.40572984669442264, 0.39742962230167633, 0.3931747544066901, 0.3986119451030085, 0.4026943676136801, 0.4098963985878563, 0.40410702663156656, 0.4032393498872573, 0.4193344449115162, 0.39569383571456224, 0.39374218561895374, 0.4021965930761187, 0.4004305978689394, 0.3913946113153226, 0.40471751505259695, 0.4009307183566851, 0.40080598598996436, 0.39351762404900686, 0.42309810692945704, 0.40039400104606476, 0.3990977733404008, 0.4077932722934264, 0.3974281786400245, 0.6186836008472438, 0.4706622031242754, 0.46342591686390827, 0.4027659759814831, 0.39369897858668024, 0.41056542623611914, 0.40309825843704733, 0.38973435259104144, 0.38824673477698646, 0.40468092623087504, 0.38961350638928094, 0.4021422640083576, 0.3779410192148607, 0.3920125193547299, 0.38751965951880035, 0.40653350885089656, 0.3860812079480362, 0.3858163239203213, 0.3757250060040116, 0.3823224878958164, 0.3719387771175558, 0.3732705472170285, 0.37234509437343094, 0.3793127502667904, 0.38528990973054417, 0.3890112377486792, 0.3857894573156783, 0.38446468038288556, 0.3806726714300922, 0.3733057271269594, 0.37943184817688097, 0.3852619727432461, 0.38587526632519537, 0.38658079121259215, 0.3819248050600257, 0.38126926704262193, 0.3829027423331449, 0.3818875557436283, 0.3833690366971274, 0.46033338630710335, 0.44141352773781745, 0.44472644943121864, 0.4455364109123023, 0.41889496206319193, 0.4191431292168905, 0.4197067300708012, 0.40433648359186397, 0.4156127513207266, 0.40600564325737715, 0.40339964018892066, 0.39983614263978673, 0.3809750138936284, 0.39417349668994867, 0.3883351217578813, 0.38628804382762216, 0.3888505131490196, 0.4210371483017127, 0.4077874097429885, 0.3893104335491941, 0.3848977976888322, 0.39176277559670497, 0.3810840785048528, 0.3755904667624726, 0.390093722197458, 0.388025532702311, 0.3887386856148736, 0.3830910586306605, 0.37818240726170005, 0.3781717452129899, 0.4092967449441157, 0.389201191827526, 0.383329909775021, 0.3854191045687897, 0.39437441077727076, 0.3886950101794596, 0.3866514036138968, 0.3883220864292257, 0.38630136253298764, 0.5037112431146262, 0.47217818851251414, 0.44949565642870803, 0.43932334816331775, 0.4670139460718086, 0.4505561777020677, 0.4119371088150107, 0.40052401345161726, 0.3947992323077897, 0.3950196818778215, 0.3924950837240565, 0.38653726490845686, 0.3954124376649897, 0.394209485000908, 0.40358299230321665, 0.3983463419792416, 0.4009580049146813, 0.3820220986552587, 0.3871692296930414, 0.3894395762431321, 0.38132912190123636, 0.3766771345533565, 0.3735619124839536, 0.3809105938166332, 0.3836304653369494, 0.3952393249677975, 0.3735664007207858, 0.37910562132308184, 0.3683072741482995, 0.37727936476892776, 0.3916391278700647, 0.3796015714930405, 0.3804394341423025, 0.38690680809575845, 0.3845357917960955, 0.38549255765706064, 0.38321263853935134, 0.38097230707307606, 0.38485407090332924, 0.532425994444111, 0.47825634701335684, 0.4308117673127963, 0.4307296975598916, 0.3994249818500887, 0.3985759556753692, 0.4129090700255099, 0.40295318274600656, 0.39691834802226433, 0.40796058331695095, 0.39615045425555595, 0.4077327390748556, 0.41008873810663365, 0.39312598944874416, 0.3928148256605527, 0.39091961843516376, 0.39187126651749166, 0.3883500436335593, 0.4086443590585798, 0.3812835740632369, 0.38586399667691623, 0.39050406219900935, 0.39823486628353816, 0.39115513501879545, 0.3898927744624841, 0.37777880678965853, 0.3840381529736523, 0.3719358153208026, 0.37492695230917594, 0.37337700045292277, 0.37531838059344, 0.3888964462735622, 0.3971628561735789, 0.38176286975215484, 0.3907650259606779, 0.3990484816511668, 0.3921247662364891, 0.3859438445752583, 0.3892569768928156, 0.5637590609364723, 0.5258551127064249, 0.5087404524439374, 0.504698091856626, 0.4624430591815441, 0.4854479213154829, 0.44753330713499484, 0.4302786043284094, 0.4334739222281259, 0.4649902820731519, 0.4353466969029064, 0.4393079547112175, 0.4420151322297264, 0.41950173492908055, 0.4181057767205917, 0.4106122885715334, 0.4152319956710109, 0.4133573163622231, 0.41402161807424814, 0.41541612183494964, 0.4085219008039956, 0.4109851812804468, 0.4005141614729756, 0.3973528153180068, 0.4043218018911734, 0.3882223115545584, 0.39544149777686116, 0.39713811112082414, 0.39348166401309403, 0.3991334749662541, 0.39690346021112904, 0.4110823868742358, 0.3954941003051709, 0.5752073140092244, 0.46196349395152414, 0.43513902804754956, 0.4271554380845023, 0.4126902735539001, 0.42392294295517374, 0.4085929514450119, 0.39630077867466795, 0.4042779688836592, 0.40444088735384875, 0.4134599988118961, 0.37466265969478124, 0.3982922376263264, 0.3838783055354522, 0.4052075159566564, 0.3857939308422748, 0.41231853730217294, 0.3798267107015127, 0.37141199752168075, 0.388303494614232, 0.37391488628134295, 0.3818646194809971, 0.3796052654482624, 0.3756229668759832, 0.3928141857834914, 0.37500945066860186, 0.3762749160149805, 0.3849065670943996, 0.37881696025913597, 0.37777538308287856, 0.3797787125460925, 0.39136147602005444, 0.38925513116090643, 0.3790768040367224, 0.3839185964601813, 0.4771060805442557, 0.4557962223942565, 0.44539092785739565, 0.4252117310884306, 0.4449976721874449, 0.4152402770826902, 0.4088025462545923, 0.41998877427944015, 0.44146353837039765, 0.4693831852590858, 0.4109940603178527, 0.4083881768752472, 0.4208367446502529, 0.4094483451584655, 0.4081460022862947, 0.39863518303283485, 0.4138285330291034, 0.3987125543406802, 0.38951751678947455, 0.3953017492248601, 0.4043790359267531, 0.3836563921255492, 0.4014783818314365, 0.3784731646789685, 0.412862811808978, 0.38960669398020653, 0.378703328065332, 0.38117198950684955, 0.40115212882436113, 0.38355260301599814, 0.3892914255772082, 0.3982360073114656, 0.3888361291371895, 0.4053866765861136, 0.3893110336087851, 0.4892738152280161, 0.4419629979679578, 0.4654013661684673, 0.42132195696049013, 0.42519122714092794, 0.4158421136934004, 0.41817762247387597, 0.40146918403401965, 0.4240739354549087, 0.4208133335430716, 0.4144125967253741, 0.41010463969410255, 0.4070792481720625, 0.39134988779680546, 0.4017260019441465, 0.4006538896188168, 0.40162616029848464, 0.38850497664441674, 0.39043292288625764, 0.42488333691002156, 0.4063295552723437, 0.3872946845652538, 0.3997152833203525, 0.3861207324066456, 0.3800429907635333, 0.3905137309481807, 0.39621073318134364, 0.39107325734844517, 0.3869877426267757, 0.38684075730039424, 0.40831534735230895, 0.4209139202756414, 0.4002679007329253, 0.39999831474260356, 0.39099549736932726, 0.5918788265511093, 0.43348562310612426, 0.42883322305185395, 0.4047907584309412, 0.39685646559446897, 0.4346158438200388, 0.42581399776624573, 0.3836051155348856, 0.3897656105975352, 0.4010196536903215, 0.38757995018905367, 0.3822966478239174, 0.38937659586575457, 0.37608888928918227, 0.43177606629718285, 0.3826863630023556, 0.37691591666417157, 0.3918714534416549, 0.38260130876536336, 0.38367009030102706, 0.3939687575074727, 0.3785726731369723, 0.3695106278271884, 0.3668720786226753, 0.3703899218646745, 0.36768056083854, 0.37073857752713724, 0.36961893022229186, 0.37108159626173653, 0.3781784550871639, 0.3785285116429418, 0.3827358278782221, 0.3880191302433584, 0.3876391879635236, 0.3762018279740669, 0.3823272006400291, 0.3746932993558519, 0.540073213178609, 0.48998677463090934, 0.42542151799255257, 0.3998938337253379, 0.4160198589842715, 0.4308803102975028, 0.4074318183038119, 0.3956346471973084, 0.39963074677529875, 0.4307023763037916, 0.3936625754440096, 0.4080669460826521, 0.4207824988619404, 0.38117966276763054, 0.3892222792833748, 0.36606388353959646, 0.3889567042038927, 0.3848777433677455, 0.37062950285164364, 0.36862181156105733, 0.39017107506474424, 0.36103448999481463, 0.3975440901134463, 0.38762876332939195, 0.4075174623383194, 0.36909697880755665, 0.36417742308225987, 0.3993375403635826, 0.3713410751337618, 0.3573003642563233, 0.3734923576840385, 0.3798782401148236, 0.37251900799369325, 0.37667028827641047, 0.3742395495034441, 0.5073998615299281, 0.4744143122460647, 0.4598797015044591, 0.4389871694287645, 0.4240050531164177, 0.38471953191905506, 0.3955083928384492, 0.38642639089696373, 0.40271220565841925, 0.3748642714844259, 0.36880947271210246, 0.37963597459261345, 0.36779326487044683, 0.3628176595966957, 0.36827425814247716, 0.37718519156302227, 0.36057126927516747, 0.36834770870604666, 0.391833019513478, 0.36301773553076433, 0.36603594542077156, 0.3800132344774477, 0.35710532489458585, 0.3610575604061908, 0.36975213188168876, 0.35532125452727936, 0.35650369087054845, 0.35941810196769297, 0.3588921750027221, 0.35829436721017954, 0.3628792717346142, 0.3702997735279643, 0.36534591563835106, 0.3656181013198243, 0.3604618782978122, 0.36243026183354154, 0.36166576769971953, 0.40555272396130554, 0.385182623905545, 0.37996975106916037, 0.37674459195002785, 0.39142985417767, 0.3749046435807386, 0.36988822779738695, 0.36360072447947966, 0.3663524884099338, 0.36873860948969833, 0.36345484439112563, 0.3621508623268431, 0.36550597434108245, 0.3669749166211397, 0.3622533164352415, 0.3542581579654249, 0.36356841503032106, 0.3543791721296277, 0.36591088259879784, 0.34945523158053793, 0.3603411756247236, 0.3555937343803937, 0.35754969122457947, 0.3567892165037391, 0.3570879326383144, 0.35416678788334754, 0.35509735852717295, 0.3571005768794841, 0.34723800375814584, 0.3461290485499517, 0.3754407073991734, 0.3506194118934811, 0.35880699686130485, 0.3583204048553645, 0.3776434707297389, 0.35786280684202926, 0.3562888751044445, 0.45446762717753536, 0.43388889403040654, 0.4024829578944463, 0.39140895225010636, 0.3884227719641854, 0.38145654569997484, 0.367460022423666, 0.3996197394505029, 0.3879807120564174, 0.3728003710566432, 0.38151402416121066, 0.36386151288331225, 0.3693785034067177, 0.3919957599376442, 0.3573231574146476, 0.35964709541862894, 0.3565429445934812, 0.36816049996818634, 0.37464143975929753, 0.35508896868465495, 0.35844356361889046, 0.36339499873125003, 0.35270067740621514, 0.3570645200350069, 0.35476519323452577, 0.36229885842025417, 0.35713433548983403, 0.3586390406140383, 0.3570644886431657, 0.34404199141558756, 0.3625672272706667, 0.370410604361667, 0.3597310372019958, 0.3556864495982005, 0.496730816655281, 0.41387022800670786, 0.3844975778321966, 0.3777154530819292, 0.41698656594066935, 0.3749487217833977, 0.36448176123758347, 0.3792889800929286, 0.3604503841595879, 0.39235360833662136, 0.3658414016803561, 0.36392392955320857, 0.360616007057915, 0.3550031893535704, 0.3505670605655933, 0.36217064148523365, 0.38087170316287194, 0.35973809621988934, 0.3526422732548302, 0.35428226837894483, 0.3570577578288515, 0.3477899758809718, 0.3511931119933584, 0.36557696806704976, 0.3534978508068492, 0.3580437067199125, 0.35726692125115805, 0.37484922292795325, 0.35252522681752335, 0.3506079110859361, 0.359625991882287, 0.3655778126030752, 0.3666261007644602, 0.35786172484598106, 0.35353222655099675, 0.4419334284479442, 0.44181416980461546, 0.4011108980809553, 0.4617478594541267, 0.40101905841549923, 0.4046851643205018, 0.3874880555876845, 0.3861266894258916, 0.3820904118635895, 0.3854285719554572, 0.38534854068858887, 0.37057175180976565, 0.3719232261193384, 0.3757769371841031, 0.359564902372218, 0.3678356654856827, 0.36055105821448674, 0.350440039643623, 0.36472928385614745, 0.37923655067401085, 0.3488988890677296, 0.3444453917260061, 0.37629591939323886, 0.36322572231869044, 0.3504637800889513, 0.3752308451174765, 0.3909883184078093, 0.34271688328665606, 0.35206081962988833, 0.3573959592127675, 0.35814097024513286, 0.35695540084451427, 0.35832665885852727, 0.35366206320801896, 0.3519197679996372, 0.4818607534113559, 0.4090295865149626, 0.4157122469355324, 0.35736187923623575, 0.37288746269735096, 0.36061356933794253, 0.37667803525819715, 0.3792848166458235, 0.34105616042538656, 0.3458552325773783, 0.35431274631164134, 0.3468434020359791, 0.39098011979087316, 0.35865473278960835, 0.3555726787426207, 0.34269540014629146, 0.3553408914188625, 0.3451127213675224, 0.33916632131078445, 0.3458133816749507, 0.3639051755564029, 0.3387462049261019, 0.3329216666008993, 0.3401770831128721, 0.3405654987784327, 0.3318284531631612, 0.34498847836131125, 0.3328443347058018, 0.3356479582113186, 0.3546307357786644, 0.3497909735956495, 0.36227066861891616, 0.3545668580854854, 0.344413311229299, 0.34869008054708184, 0.3458388017821151, 0.3536966807870718, 0.34362007886884804, 0.3410570831693234], \"Total\": [6.0, 6.0, 6.0, 6.0, 6.0, 6.0, 6.0, 6.0, 5.0, 6.0, 6.0, 5.0, 6.0, 6.0, 6.0, 5.0, 6.0, 5.0, 5.0, 5.0, 6.0, 6.0, 6.0, 5.0, 6.0, 6.0, 5.0, 5.0, 5.0, 6.0, 6.163390641275678, 5.939466767966997, 5.989894849233108, 6.070818437955159, 6.151460044369277, 6.182637028439759, 6.208766082797, 5.71284856910789, 5.989754779262756, 6.116833675807369, 5.8709324529724265, 6.011458925154734, 5.965297806534621, 6.210192161187164, 5.838181604660393, 6.068178216627605, 5.787056035057551, 5.863169825770005, 5.891316817989993, 5.8129178777623345, 6.085891902657536, 5.879821614669204, 6.096460492168994, 6.037036297563411, 5.701937685941148, 5.841442834540372, 6.0377036044585966, 5.914495116789127, 5.9886437806571875, 5.7297791844635935, 6.150902541209049, 6.280174045906674, 6.064897412440578, 6.046035745876196, 6.179971815110912, 5.962851374589448, 5.920331679737973, 6.0020163646695135, 5.675380707636161, 5.794464352223576, 5.830706653093983, 5.989459973485806, 6.0274054671983155, 5.953541165679217, 6.079868813854984, 5.591323938491213, 5.7648587182427375, 5.747816226516355, 5.644774842840043, 5.802518766702712, 5.717618199146085, 5.745092369867494, 5.746996598518794, 5.6813662209567415, 5.699553300536903, 5.73892533308026, 5.694342073041678, 5.750667836808098, 5.9217039839202785, 5.648049399520494, 5.662666379488934, 5.8577637342646955, 5.925943590472829, 5.745391125566841, 5.645947212804499, 6.073259779989422, 6.134104197501129, 5.906751442489421, 5.997210746852684, 6.091774827609938, 6.170993925145641, 5.879141526510958, 6.1289109992379585, 6.10328367622753, 5.974120425209234, 6.105100564956243, 5.692446409227667, 5.9214825181143915, 5.809410140290783, 5.650213981448613, 5.9055027460559035, 5.906620620063913, 5.845052423383207, 5.736694885545019, 5.894820238171356, 5.781587025889285, 6.161187734687783, 5.733582392752069, 5.845824943075666, 5.8143466124310335, 5.972412977952507, 5.921196198214942, 5.7986638717632175, 5.813878597592736, 5.713943091239864, 5.74964834381991, 5.947132465818269, 5.7874904705482235, 5.80330609007284, 5.742883996647014, 6.302577475741773, 6.322703231748743, 6.116417184086448, 5.9388956649935025, 5.8783794092846176, 5.988155234031052, 6.206802473195431, 6.175872175896166, 6.11445095363544, 5.865332266537629, 5.9078947253498475, 5.624771941233277, 5.784180136456895, 5.822927298190523, 5.846132645062991, 6.2555330475452715, 5.699009215886589, 5.860489269844475, 5.854161074236789, 5.749378817939077, 5.64961343302628, 5.617108036208915, 5.698196489996332, 5.764234750124358, 5.868432742877304, 5.818662272082004, 5.816708264939942, 6.071281199779206, 5.731448860894272, 5.711988412346775, 5.834853763556326, 5.814251611615051, 5.69872131975707, 5.898604710230528, 5.849211555199447, 5.850858909895985, 5.753561442471198, 6.205873702875513, 5.8798842572263705, 5.895210772139536, 6.349785738268543, 5.843275370196826, 6.352001852102402, 6.173574546004804, 6.100670605531459, 5.804061331943904, 5.823333511439823, 6.074405808220254, 5.99169285100684, 5.81368398169567, 5.801219119977251, 6.057005501891175, 5.836024689461075, 6.066413569016646, 5.714577652950418, 5.928875320163505, 5.871889373759584, 6.170760869387878, 5.862140657964017, 5.863147606410395, 5.735863218257881, 5.8594910964584175, 5.718086930879773, 5.742583872824222, 5.740605906030468, 5.85015770774918, 5.949468739559896, 6.02510670177934, 5.976932243488364, 5.97616638393731, 5.923899395007532, 5.809395702496792, 5.907024410659476, 6.0119814461546355, 6.026209449002439, 6.044806535642993, 5.965971991320685, 5.96635265009208, 6.048467519793616, 6.036212937216676, 6.200813138729892, 6.027870177327159, 6.1355985085758, 6.249454333650291, 6.3420951312423375, 5.966611486056723, 5.981064149204757, 5.997354381220757, 5.808625920649407, 6.006591126213936, 5.909726512176892, 5.956644804782177, 5.911769206654906, 5.6423181975930445, 5.841546918460066, 5.801548128099701, 5.8058306828015, 5.844462572967013, 6.333713062890788, 6.16630501764763, 5.889133433205678, 5.842987063291305, 5.975578477418402, 5.819409528784309, 5.736130159122904, 5.963754909593998, 5.948142079107909, 5.9600001681311845, 5.877896126153104, 5.805394835151985, 5.811536924936599, 6.312851234255343, 6.026085894662011, 5.9110613147159015, 5.959647371616809, 6.200479701770644, 6.076581437308839, 6.012425729892364, 6.134551375700593, 6.322703231748743, 6.036189280309692, 5.982781703974467, 6.007923512729323, 5.905557732528925, 6.294095893990961, 6.13498113831103, 5.913191545238622, 5.82118552155232, 5.78296928727181, 5.8089847498424385, 5.785399470739848, 5.708177890440456, 5.846132645062991, 5.829188772878679, 5.977919418573554, 5.900450001200702, 6.009173161455136, 5.732825535451554, 5.831564507728075, 5.866956762120654, 5.788739065636836, 5.721876921342189, 5.691073954195423, 5.810789508082727, 5.852324477919807, 6.042037199763319, 5.715406285359288, 5.805314788908723, 5.642218789055978, 5.781650095771941, 6.006094624852946, 5.855059144036573, 5.888908747981926, 6.091584250285029, 6.034000021362349, 6.096392924506133, 6.035957590850317, 5.919334816108133, 6.1961339021916775, 6.190881021802318, 6.176948483586848, 5.912295397242076, 6.037231019054647, 5.6474584808288295, 5.749172036150658, 5.9746938291057, 5.840294995090618, 5.797382050090177, 6.002381586896436, 5.830027094593195, 6.004112475216201, 6.039014559855467, 5.821146311778898, 5.818578272432717, 5.792374047297052, 5.8131631251085025, 5.766649854385557, 6.071281199779206, 5.683200541267104, 5.755336709073872, 5.839142093030668, 5.954865203107729, 5.8633283776155585, 5.845775790742899, 5.694218939831732, 5.810402469954392, 5.631460898364532, 5.677339686249965, 5.658223253723624, 5.688190385881468, 5.912517136503806, 6.057938515372619, 5.79885094712228, 5.966437985410674, 6.161187734687783, 6.056655369738182, 5.913411188224508, 6.200479701770644, 6.28025765909047, 6.207087134578846, 6.14784293292654, 6.258642782375569, 5.953274934762898, 6.349785738268543, 5.927342452090161, 5.720926310866886, 5.7692593573350965, 6.205873702875513, 5.8169199921284855, 5.871145915516341, 6.052579334863082, 5.774162179444391, 5.8142672930187285, 5.7114853309795794, 5.785596353292541, 5.828041969476092, 5.840340951923521, 5.882225399096716, 5.792100048596127, 5.833720848217671, 5.742296408718107, 5.716474991993181, 5.843144137666067, 5.635566591678755, 5.742989119351945, 5.776277482693625, 5.723280085217984, 5.820368405267806, 5.809720574020838, 6.208766082797, 5.812577909105649, 6.220244197298443, 6.216858405016274, 5.9558773833832666, 5.948709303752827, 5.932734149549616, 6.102956614204473, 5.934813572582023, 5.819378521216649, 5.962427440086882, 6.050968759320715, 6.212468053158624, 5.660651762000793, 6.031493272681521, 5.815841925506193, 6.153065085450271, 5.866062330678864, 6.302577475741773, 5.843438554381119, 5.723132653173601, 5.991836734196329, 5.778052387214356, 5.921179308720073, 5.896102391118783, 5.8468792116035235, 6.119168917436041, 5.843828881850153, 5.8660297203497525, 6.007177490157201, 5.91983626682066, 5.9289619948987, 5.9628808464614105, 6.2504072593208875, 6.206802473195431, 5.972762832067728, 6.1961339021916775, 6.022535613102101, 5.922613158992663, 5.984127941745266, 5.801599179597879, 6.11855425160263, 5.755812955979134, 5.743370005845045, 5.933170380989611, 6.244066595576751, 6.63972259865574, 5.814677949970161, 5.787915748470153, 5.977340387523486, 5.828173495468029, 5.814295263779455, 5.701425928821599, 5.98075246908979, 5.792197434842572, 5.667250581140343, 5.796056565624697, 5.949637903895747, 5.6813662209567415, 5.947218604523546, 5.61570775782454, 6.135239445892705, 5.812060492193416, 5.66315651369553, 5.70428570623061, 6.00396096177589, 5.7678854847163326, 5.863283954255847, 6.0921350035445165, 5.886048705269371, 6.288926782533845, 6.0956946757687325, 6.282380225275239, 5.881735031227926, 6.258642782375569, 5.714904686573096, 5.804253469844508, 5.778634839074925, 5.818854931238791, 5.59371796438168, 5.953274934762898, 5.927342452090161, 5.871145915516341, 5.811175654291311, 5.811614138660846, 5.6260270071536365, 5.790015301749129, 5.776246332675438, 5.7925154553599585, 5.617169244063861, 5.69798065940147, 6.207087134578846, 5.966437985410674, 5.696388415945203, 5.9053775919838225, 5.720704385354858, 5.639426209911668, 5.807104064970097, 5.9217039839202785, 5.84805917606354, 5.798961615022286, 5.802828743751061, 6.14784293292654, 6.7068426040852245, 6.223327335808817, 6.28025765909047, 6.205873702875513, 6.7068426040852245, 5.661495882911476, 5.911141871454132, 5.635867102622388, 5.722626546097693, 6.272829274117622, 6.156363706734936, 5.577548364775705, 5.709101106798862, 5.923804892164147, 5.734184416745343, 5.6717674673320335, 5.803084646596543, 5.616283593442693, 6.454718476593186, 5.757969847399304, 5.733698997247532, 5.975128427956667, 5.853513658491165, 5.88046334593798, 6.043948037218239, 5.818136903450884, 5.688190385881468, 5.647712157790647, 5.708325581172595, 5.673987814488153, 5.725065565191047, 5.709309519366334, 5.735648613693357, 5.86778514493443, 5.911811289242656, 6.046887865602558, 6.223327335808817, 6.2555330475452715, 5.89708001281129, 6.2504072593208875, 5.931554590076653, 6.412784293846402, 6.454718476593186, 6.015914015858322, 5.657239853513435, 5.9435904171785525, 6.170375777290067, 5.90804598265911, 5.81495763677032, 5.889740968878297, 6.349785738268543, 5.830298993362564, 6.052579334863082, 6.2555330475452715, 5.691073954195423, 5.812233057545317, 5.535727606716594, 5.900886304762997, 5.845670909687556, 5.63259692949215, 5.608839963028927, 5.964729331758572, 5.524243620045026, 6.102956614204473, 5.962427440086882, 6.302577475741773, 5.723461034097423, 5.647513950729335, 6.205873702875513, 5.782703865509158, 5.57852533572108, 5.8798842572263705, 6.216858405016274, 5.953274934762898, 6.212468053158624, 6.091584250285029, 5.967666036990569, 5.940965688407156, 6.143519075699636, 5.9081219110201575, 6.1384467956212285, 5.727654603850409, 5.898440665325265, 5.770700850534195, 6.109955229243282, 5.8247001616225464, 5.7350870128535245, 5.915034902542564, 5.742835629442723, 5.678165257483836, 5.786667241237895, 5.9290229501357015, 5.677336627956749, 5.802518766702712, 6.176948483586848, 5.734983502595094, 5.7894194680306175, 6.011591145381521, 5.6745526544063045, 5.747697134863969, 5.89036804615906, 5.6608371513382725, 5.699626199581896, 5.766538820976659, 5.765738755658847, 5.75975000987101, 5.848153791224092, 6.079868813854984, 5.973643374417608, 6.057938515372619, 5.835020644457204, 5.975128427956667, 5.986508614915486, 5.877200166473555, 5.801324221547653, 5.739288524447522, 5.764345696368249, 6.049253880877844, 5.817538456204495, 5.745600630375447, 5.684234109773154, 5.736759082064538, 5.774273425628599, 5.70801909479395, 5.723098812266252, 5.776353112486644, 5.8140357346478595, 5.7635050469108915, 5.644283827054804, 5.798295959180936, 5.673376736883195, 5.905596226019708, 5.6488446756814215, 5.826943520782623, 5.759732602924016, 5.798859218093709, 5.7898920431467, 5.795436674352, 5.748418763800183, 5.783374533274378, 5.821648658787974, 5.672038676045547, 5.662666379488934, 6.170375777290067, 5.745184732524708, 5.931554590076653, 5.939958111866839, 6.7068426040852245, 6.0170217867464935, 5.911811289242656, 6.3928616816023665, 6.282380225275239, 5.881735031227926, 5.9053775919838225, 5.909245777021081, 5.804253469844508, 5.601648004259, 6.120293353866501, 6.000576715801223, 5.789644855200546, 5.927757194668224, 5.673662440541865, 5.778634839074925, 6.134104197501129, 5.594277995516592, 5.657620832013497, 5.613268717004209, 5.811614138660846, 5.9217039839202785, 5.628460381207084, 5.691832735716468, 5.779883312342394, 5.617169244063861, 5.733923488268786, 5.701078235699685, 5.847338037641007, 5.783843790692099, 5.811915585919169, 5.81368398169567, 5.617896200883607, 5.937512757949747, 6.109955229243282, 6.312851234255343, 5.906751442489421, 6.63972259865574, 5.940980218300862, 5.66315651369553, 5.658223253723624, 6.272829274117622, 5.732746630802338, 5.680002486587725, 5.931705341844199, 5.637537020374921, 6.1384467956212285, 5.765484903313317, 5.741696169260721, 5.728714943597551, 5.6748121763489845, 5.620593198222932, 5.806922750371472, 6.112849783585708, 5.775341254829261, 5.662532812386339, 5.689914595101127, 5.736421677166467, 5.5899312424019785, 5.664195182728211, 5.9055027460559035, 5.723967257420801, 5.805255626617186, 5.814302125308547, 6.109955229243282, 5.752982225976982, 5.73747024875731, 5.887741235216979, 6.022674728186266, 6.134104197501129, 6.057938515372619, 5.824950329341318, 6.244066595576751, 6.288926782533845, 5.716568986810515, 6.63972259865574, 5.984127941745266, 6.135239445892705, 5.910626588841456, 5.98075246908979, 5.922613158992663, 5.989152700035047, 6.022535613102101, 5.801599179597879, 5.828173495468029, 5.906751442489421, 5.661595202620786, 5.810317566697433, 5.763350317923072, 5.604615405322374, 5.865948891572787, 6.11855425160263, 5.6380470309804345, 5.57635657670253, 6.0956946757687325, 5.886048705269371, 5.700211578441844, 6.120293353866501, 6.3928616816023665, 5.636234430776695, 5.796056565624697, 5.89708001281129, 6.000576715801223, 5.977340387523486, 6.112849783585708, 5.949637903895747, 6.0560282266840915, 6.7068426040852245, 6.120293353866501, 6.3928616816023665, 5.495916777854431, 5.787699970650299, 5.786667241237895, 6.049253880877844, 6.0956946757687325, 5.498880381837533, 5.643278761184662, 5.815550255968201, 5.720669349120622, 6.454718476593186, 5.9217039839202785, 5.919759195762314, 5.706638061679127, 5.923371887951414, 5.776246332675438, 5.6988997604707095, 5.813268554513073, 6.1203461943765465, 5.7023858839029895, 5.625325139880506, 5.753061741508604, 5.772060492736057, 5.637915060575256, 5.863147606410395, 5.6814214383861925, 5.731260642633076, 6.057005501891175, 5.9746938291057, 6.288926782533845, 6.135239445892705, 5.938650783204718, 6.096460492168994, 5.991583758270229, 6.412784293846402, 6.000576715801223, 5.9053775919838225], \"Category\": [\"Default\", \"Default\", \"Default\", \"Default\", \"Default\", \"Default\", \"Default\", \"Default\", \"Default\", \"Default\", \"Default\", \"Default\", \"Default\", \"Default\", \"Default\", \"Default\", \"Default\", \"Default\", \"Default\", \"Default\", \"Default\", \"Default\", \"Default\", \"Default\", \"Default\", \"Default\", \"Default\", \"Default\", \"Default\", \"Default\", \"Topic1\", \"Topic1\", \"Topic1\", \"Topic1\", \"Topic1\", \"Topic1\", \"Topic1\", \"Topic1\", \"Topic1\", \"Topic1\", \"Topic1\", \"Topic1\", \"Topic1\", \"Topic1\", \"Topic1\", \"Topic1\", \"Topic1\", \"Topic1\", \"Topic1\", \"Topic1\", \"Topic1\", \"Topic1\", \"Topic1\", \"Topic1\", \"Topic1\", \"Topic1\", \"Topic1\", \"Topic1\", \"Topic1\", \"Topic1\", \"Topic1\", \"Topic1\", \"Topic1\", \"Topic1\", \"Topic1\", \"Topic2\", \"Topic2\", \"Topic2\", \"Topic2\", \"Topic2\", \"Topic2\", \"Topic2\", \"Topic2\", \"Topic2\", \"Topic2\", \"Topic2\", \"Topic2\", \"Topic2\", \"Topic2\", \"Topic2\", \"Topic2\", \"Topic2\", \"Topic2\", \"Topic2\", \"Topic2\", \"Topic2\", \"Topic2\", \"Topic2\", \"Topic2\", \"Topic2\", \"Topic2\", \"Topic2\", \"Topic2\", \"Topic2\", \"Topic2\", \"Topic2\", \"Topic2\", \"Topic2\", \"Topic2\", \"Topic2\", \"Topic3\", \"Topic3\", \"Topic3\", \"Topic3\", \"Topic3\", \"Topic3\", \"Topic3\", \"Topic3\", \"Topic3\", \"Topic3\", \"Topic3\", \"Topic3\", \"Topic3\", \"Topic3\", \"Topic3\", \"Topic3\", \"Topic3\", \"Topic3\", \"Topic3\", \"Topic3\", \"Topic3\", \"Topic3\", \"Topic3\", \"Topic3\", \"Topic3\", \"Topic3\", \"Topic3\", \"Topic3\", \"Topic3\", \"Topic3\", \"Topic3\", \"Topic3\", \"Topic3\", \"Topic3\", \"Topic3\", \"Topic3\", \"Topic3\", \"Topic4\", \"Topic4\", \"Topic4\", \"Topic4\", \"Topic4\", \"Topic4\", \"Topic4\", \"Topic4\", \"Topic4\", \"Topic4\", \"Topic4\", \"Topic4\", \"Topic4\", \"Topic4\", \"Topic4\", \"Topic4\", \"Topic4\", \"Topic4\", \"Topic4\", \"Topic4\", \"Topic4\", \"Topic4\", \"Topic4\", \"Topic4\", \"Topic4\", \"Topic4\", \"Topic4\", \"Topic4\", \"Topic4\", \"Topic4\", \"Topic4\", \"Topic4\", \"Topic4\", \"Topic4\", \"Topic4\", \"Topic5\", \"Topic5\", \"Topic5\", \"Topic5\", \"Topic5\", \"Topic5\", \"Topic5\", \"Topic5\", \"Topic5\", \"Topic5\", \"Topic5\", \"Topic5\", \"Topic5\", \"Topic5\", \"Topic5\", \"Topic5\", \"Topic5\", \"Topic5\", \"Topic5\", \"Topic5\", \"Topic5\", \"Topic5\", \"Topic5\", \"Topic5\", \"Topic5\", \"Topic5\", \"Topic5\", \"Topic5\", \"Topic5\", \"Topic5\", \"Topic5\", \"Topic5\", \"Topic5\", \"Topic5\", \"Topic5\", \"Topic5\", \"Topic5\", \"Topic5\", \"Topic5\", \"Topic6\", \"Topic6\", \"Topic6\", \"Topic6\", \"Topic6\", \"Topic6\", \"Topic6\", \"Topic6\", \"Topic6\", \"Topic6\", \"Topic6\", \"Topic6\", \"Topic6\", \"Topic6\", \"Topic6\", \"Topic6\", \"Topic6\", \"Topic6\", \"Topic6\", \"Topic6\", \"Topic6\", \"Topic6\", \"Topic6\", \"Topic6\", \"Topic6\", \"Topic6\", \"Topic6\", \"Topic6\", \"Topic6\", \"Topic6\", \"Topic6\", \"Topic6\", \"Topic6\", \"Topic6\", \"Topic6\", \"Topic6\", \"Topic6\", \"Topic6\", \"Topic6\", \"Topic7\", \"Topic7\", \"Topic7\", \"Topic7\", \"Topic7\", \"Topic7\", \"Topic7\", \"Topic7\", \"Topic7\", \"Topic7\", \"Topic7\", \"Topic7\", \"Topic7\", \"Topic7\", \"Topic7\", \"Topic7\", \"Topic7\", \"Topic7\", \"Topic7\", \"Topic7\", \"Topic7\", \"Topic7\", \"Topic7\", \"Topic7\", \"Topic7\", \"Topic7\", \"Topic7\", \"Topic7\", \"Topic7\", \"Topic7\", \"Topic7\", \"Topic7\", \"Topic7\", \"Topic7\", \"Topic7\", \"Topic7\", \"Topic7\", \"Topic7\", \"Topic7\", \"Topic8\", \"Topic8\", \"Topic8\", \"Topic8\", \"Topic8\", \"Topic8\", \"Topic8\", \"Topic8\", \"Topic8\", \"Topic8\", \"Topic8\", \"Topic8\", \"Topic8\", \"Topic8\", \"Topic8\", \"Topic8\", \"Topic8\", \"Topic8\", \"Topic8\", \"Topic8\", \"Topic8\", \"Topic8\", \"Topic8\", \"Topic8\", \"Topic8\", \"Topic8\", \"Topic8\", \"Topic8\", \"Topic8\", \"Topic8\", \"Topic8\", \"Topic8\", \"Topic8\", \"Topic8\", \"Topic8\", \"Topic8\", \"Topic8\", \"Topic8\", \"Topic8\", \"Topic9\", \"Topic9\", \"Topic9\", \"Topic9\", \"Topic9\", \"Topic9\", \"Topic9\", \"Topic9\", \"Topic9\", \"Topic9\", \"Topic9\", \"Topic9\", \"Topic9\", \"Topic9\", \"Topic9\", \"Topic9\", \"Topic9\", \"Topic9\", \"Topic9\", \"Topic9\", \"Topic9\", \"Topic9\", \"Topic9\", \"Topic9\", \"Topic9\", \"Topic9\", \"Topic9\", \"Topic9\", \"Topic9\", \"Topic9\", \"Topic9\", \"Topic9\", \"Topic9\", \"Topic10\", \"Topic10\", \"Topic10\", \"Topic10\", \"Topic10\", \"Topic10\", \"Topic10\", \"Topic10\", \"Topic10\", \"Topic10\", \"Topic10\", \"Topic10\", \"Topic10\", \"Topic10\", \"Topic10\", \"Topic10\", \"Topic10\", \"Topic10\", \"Topic10\", \"Topic10\", \"Topic10\", \"Topic10\", \"Topic10\", \"Topic10\", \"Topic10\", \"Topic10\", \"Topic10\", \"Topic10\", \"Topic10\", \"Topic10\", \"Topic10\", \"Topic10\", \"Topic10\", \"Topic10\", \"Topic10\", \"Topic11\", \"Topic11\", \"Topic11\", \"Topic11\", \"Topic11\", \"Topic11\", \"Topic11\", \"Topic11\", \"Topic11\", \"Topic11\", \"Topic11\", \"Topic11\", \"Topic11\", \"Topic11\", \"Topic11\", \"Topic11\", \"Topic11\", \"Topic11\", \"Topic11\", \"Topic11\", \"Topic11\", \"Topic11\", \"Topic11\", \"Topic11\", \"Topic11\", \"Topic11\", \"Topic11\", \"Topic11\", \"Topic11\", \"Topic11\", \"Topic11\", \"Topic11\", \"Topic11\", \"Topic11\", \"Topic11\", \"Topic12\", \"Topic12\", \"Topic12\", \"Topic12\", \"Topic12\", \"Topic12\", \"Topic12\", \"Topic12\", \"Topic12\", \"Topic12\", \"Topic12\", \"Topic12\", \"Topic12\", \"Topic12\", \"Topic12\", \"Topic12\", \"Topic12\", \"Topic12\", \"Topic12\", \"Topic12\", \"Topic12\", \"Topic12\", \"Topic12\", \"Topic12\", \"Topic12\", \"Topic12\", \"Topic12\", \"Topic12\", \"Topic12\", \"Topic12\", \"Topic12\", \"Topic12\", \"Topic12\", \"Topic12\", \"Topic12\", \"Topic13\", \"Topic13\", \"Topic13\", \"Topic13\", \"Topic13\", \"Topic13\", \"Topic13\", \"Topic13\", \"Topic13\", \"Topic13\", \"Topic13\", \"Topic13\", \"Topic13\", \"Topic13\", \"Topic13\", \"Topic13\", \"Topic13\", \"Topic13\", \"Topic13\", \"Topic13\", \"Topic13\", \"Topic13\", \"Topic13\", \"Topic13\", \"Topic13\", \"Topic13\", \"Topic13\", \"Topic13\", \"Topic13\", \"Topic13\", \"Topic13\", \"Topic13\", \"Topic13\", \"Topic13\", \"Topic13\", \"Topic13\", \"Topic13\", \"Topic14\", \"Topic14\", \"Topic14\", \"Topic14\", \"Topic14\", \"Topic14\", \"Topic14\", \"Topic14\", \"Topic14\", \"Topic14\", \"Topic14\", \"Topic14\", \"Topic14\", \"Topic14\", \"Topic14\", \"Topic14\", \"Topic14\", \"Topic14\", \"Topic14\", \"Topic14\", \"Topic14\", \"Topic14\", \"Topic14\", \"Topic14\", \"Topic14\", \"Topic14\", \"Topic14\", \"Topic14\", \"Topic14\", \"Topic14\", \"Topic14\", \"Topic14\", \"Topic14\", \"Topic14\", \"Topic14\", \"Topic15\", \"Topic15\", \"Topic15\", \"Topic15\", \"Topic15\", \"Topic15\", \"Topic15\", \"Topic15\", \"Topic15\", \"Topic15\", \"Topic15\", \"Topic15\", \"Topic15\", \"Topic15\", \"Topic15\", \"Topic15\", \"Topic15\", \"Topic15\", \"Topic15\", \"Topic15\", \"Topic15\", \"Topic15\", \"Topic15\", \"Topic15\", \"Topic15\", \"Topic15\", \"Topic15\", \"Topic15\", \"Topic15\", \"Topic15\", \"Topic15\", \"Topic15\", \"Topic15\", \"Topic15\", \"Topic15\", \"Topic15\", \"Topic15\", \"Topic16\", \"Topic16\", \"Topic16\", \"Topic16\", \"Topic16\", \"Topic16\", \"Topic16\", \"Topic16\", \"Topic16\", \"Topic16\", \"Topic16\", \"Topic16\", \"Topic16\", \"Topic16\", \"Topic16\", \"Topic16\", \"Topic16\", \"Topic16\", \"Topic16\", \"Topic16\", \"Topic16\", \"Topic16\", \"Topic16\", \"Topic16\", \"Topic16\", \"Topic16\", \"Topic16\", \"Topic16\", \"Topic16\", \"Topic16\", \"Topic16\", \"Topic16\", \"Topic16\", \"Topic16\", \"Topic16\", \"Topic16\", \"Topic16\", \"Topic17\", \"Topic17\", \"Topic17\", \"Topic17\", \"Topic17\", \"Topic17\", \"Topic17\", \"Topic17\", \"Topic17\", \"Topic17\", \"Topic17\", \"Topic17\", \"Topic17\", \"Topic17\", \"Topic17\", \"Topic17\", \"Topic17\", \"Topic17\", \"Topic17\", \"Topic17\", \"Topic17\", \"Topic17\", \"Topic17\", \"Topic17\", \"Topic17\", \"Topic17\", \"Topic17\", \"Topic17\", \"Topic17\", \"Topic17\", \"Topic17\", \"Topic17\", \"Topic17\", \"Topic17\", \"Topic18\", \"Topic18\", \"Topic18\", \"Topic18\", \"Topic18\", \"Topic18\", \"Topic18\", \"Topic18\", \"Topic18\", \"Topic18\", \"Topic18\", \"Topic18\", \"Topic18\", \"Topic18\", \"Topic18\", \"Topic18\", \"Topic18\", \"Topic18\", \"Topic18\", \"Topic18\", \"Topic18\", \"Topic18\", \"Topic18\", \"Topic18\", \"Topic18\", \"Topic18\", \"Topic18\", \"Topic18\", \"Topic18\", \"Topic18\", \"Topic18\", \"Topic18\", \"Topic18\", \"Topic18\", \"Topic18\", \"Topic19\", \"Topic19\", \"Topic19\", \"Topic19\", \"Topic19\", \"Topic19\", \"Topic19\", \"Topic19\", \"Topic19\", \"Topic19\", \"Topic19\", \"Topic19\", \"Topic19\", \"Topic19\", \"Topic19\", \"Topic19\", \"Topic19\", \"Topic19\", \"Topic19\", \"Topic19\", \"Topic19\", \"Topic19\", \"Topic19\", \"Topic19\", \"Topic19\", \"Topic19\", \"Topic19\", \"Topic19\", \"Topic19\", \"Topic19\", \"Topic19\", \"Topic19\", \"Topic19\", \"Topic19\", \"Topic19\", \"Topic20\", \"Topic20\", \"Topic20\", \"Topic20\", \"Topic20\", \"Topic20\", \"Topic20\", \"Topic20\", \"Topic20\", \"Topic20\", \"Topic20\", \"Topic20\", \"Topic20\", \"Topic20\", \"Topic20\", \"Topic20\", \"Topic20\", \"Topic20\", \"Topic20\", \"Topic20\", \"Topic20\", \"Topic20\", \"Topic20\", \"Topic20\", \"Topic20\", \"Topic20\", \"Topic20\", \"Topic20\", \"Topic20\", \"Topic20\", \"Topic20\", \"Topic20\", \"Topic20\", \"Topic20\", \"Topic20\", \"Topic20\", \"Topic20\", \"Topic20\", \"Topic20\"], \"logprob\": [30.0, 29.0, 28.0, 27.0, 26.0, 25.0, 24.0, 23.0, 22.0, 21.0, 20.0, 19.0, 18.0, 17.0, 16.0, 15.0, 14.0, 13.0, 12.0, 11.0, 10.0, 9.0, 8.0, 7.0, 6.0, 5.0, 4.0, 3.0, 2.0, 1.0, -7.12, -7.2367, -7.2488, -7.2423, -7.2383, -7.2405, -7.2505, -7.3463, -7.2997, -7.297, -7.344, -7.3224, -7.3346, -7.2987, -7.3653, -7.3301, -7.3808, -7.3757, -7.3714, -7.3858, -7.3403, -7.3748, -7.3407, -7.3507, -7.4104, -7.3896, -7.3569, -7.379, -7.3708, -7.4167, -7.3508, -7.3408, -7.3719, -7.3738, -7.3711, -7.0536, -7.0653, -7.1301, -7.198, -7.187, -7.228, -7.2186, -7.2196, -7.2391, -7.2218, -7.3121, -7.2862, -7.2916, -7.3134, -7.3014, -7.3199, -7.3162, -7.3204, -7.3324, -7.3303, -7.3241, -7.3361, -7.3372, -7.3117, -7.3592, -7.3607, -7.3297, -7.3192, -7.3509, -7.3696, -7.3012, -7.3041, -7.3348, -7.3268, -7.3242, -6.9595, -7.1297, -7.1234, -7.1322, -7.2027, -7.1854, -7.2802, -7.2555, -7.279, -7.3114, -7.2788, -7.2802, -7.2935, -7.321, -7.2996, -7.3212, -7.2582, -7.3302, -7.3108, -7.3233, -7.3009, -7.3099, -7.3324, -7.33, -7.3488, -7.3438, -7.3134, -7.3411, -7.3399, -7.3521, -7.2738, -7.272, -7.3008, -7.3261, -7.3338, -7.3268, -7.3224, -6.8737, -6.9995, -7.1905, -7.2626, -7.3268, -7.3, -7.2941, -7.2913, -7.2285, -7.3278, -7.306, -7.3099, -7.3319, -7.3525, -7.3633, -7.3496, -7.3394, -7.3216, -7.3359, -7.338, -7.2989, -7.3569, -7.3619, -7.3406, -7.345, -7.3678, -7.3344, -7.3438, -7.3441, -7.3624, -7.2899, -7.3451, -7.3483, -7.3268, -7.3525, -6.8985, -7.1719, -7.1874, -7.3277, -7.3505, -7.3085, -7.3269, -7.3606, -7.3644, -7.323, -7.3609, -7.3293, -7.3913, -7.3548, -7.3663, -7.3184, -7.37, -7.3707, -7.3972, -7.3798, -7.4073, -7.4038, -7.4062, -7.3877, -7.3721, -7.3625, -7.3708, -7.3742, -7.3841, -7.4037, -7.3874, -7.3721, -7.3706, -7.3687, -7.3808, -7.3826, -7.3783, -7.3809, -7.3771, -7.1869, -7.2288, -7.2214, -7.2196, -7.2812, -7.2806, -7.2793, -7.3166, -7.2891, -7.3125, -7.3189, -7.3278, -7.3761, -7.342, -7.357, -7.3622, -7.3556, -7.2761, -7.3081, -7.3545, -7.3659, -7.3482, -7.3758, -7.3903, -7.3524, -7.3578, -7.3559, -7.3706, -7.3835, -7.3835, -7.3044, -7.3547, -7.3699, -7.3645, -7.3415, -7.356, -7.3613, -7.357, -7.3622, -7.0867, -7.1513, -7.2006, -7.2234, -7.1623, -7.1982, -7.2878, -7.3159, -7.3303, -7.3297, -7.3362, -7.3515, -7.3287, -7.3318, -7.3083, -7.3214, -7.3148, -7.3632, -7.3498, -7.344, -7.365, -7.3773, -7.3856, -7.3661, -7.359, -7.3292, -7.3856, -7.3709, -7.3998, -7.3757, -7.3383, -7.3696, -7.3674, -7.3505, -7.3566, -7.3542, -7.3601, -7.366, -7.3558, -7.0213, -7.1286, -7.233, -7.2332, -7.3087, -7.3108, -7.2755, -7.2999, -7.315, -7.2875, -7.3169, -7.2881, -7.2823, -7.3246, -7.3254, -7.3302, -7.3278, -7.3368, -7.2859, -7.3552, -7.3432, -7.3313, -7.3117, -7.3296, -7.3328, -7.3644, -7.348, -7.38, -7.372, -7.3761, -7.3709, -7.3354, -7.3144, -7.3539, -7.3306, -7.3096, -7.3271, -7.343, -7.3345, -6.9616, -7.0312, -7.0643, -7.0722, -7.1597, -7.1111, -7.1925, -7.2318, -7.2244, -7.1542, -7.2201, -7.211, -7.2049, -7.2571, -7.2605, -7.2786, -7.2674, -7.2719, -7.2703, -7.2669, -7.2837, -7.2776, -7.3035, -7.3114, -7.294, -7.3346, -7.3162, -7.3119, -7.3212, -7.3069, -7.3125, -7.2774, -7.3161, -6.935, -7.1543, -7.2141, -7.2326, -7.2671, -7.2402, -7.277, -7.3076, -7.2877, -7.2873, -7.2652, -7.3637, -7.3026, -7.3394, -7.2854, -7.3345, -7.268, -7.35, -7.3724, -7.328, -7.3657, -7.3447, -7.3506, -7.3612, -7.3164, -7.3628, -7.3594, -7.3368, -7.3527, -7.3555, -7.3502, -7.3201, -7.3255, -7.352, -7.3393, -7.1166, -7.1623, -7.1854, -7.2317, -7.1862, -7.2554, -7.2711, -7.2441, -7.1942, -7.1329, -7.2657, -7.2721, -7.2421, -7.2695, -7.2727, -7.2963, -7.2589, -7.2961, -7.3194, -7.3047, -7.2819, -7.3346, -7.2891, -7.3482, -7.2612, -7.3192, -7.3475, -7.3411, -7.29, -7.3348, -7.32, -7.2973, -7.3211, -7.2795, -7.3199, -7.081, -7.1827, -7.1311, -7.2306, -7.2214, -7.2436, -7.238, -7.2788, -7.224, -7.2318, -7.2471, -7.2575, -7.2649, -7.3043, -7.2782, -7.2809, -7.2784, -7.3116, -7.3067, -7.2221, -7.2668, -7.3148, -7.2832, -7.3178, -7.3337, -7.3065, -7.292, -7.3051, -7.3156, -7.3159, -7.2619, -7.2315, -7.2818, -7.2825, -7.3053, -6.8754, -7.1868, -7.1976, -7.2553, -7.2751, -7.1842, -7.2047, -7.3091, -7.2931, -7.2647, -7.2988, -7.3125, -7.2941, -7.3289, -7.1908, -7.3115, -7.3267, -7.2878, -7.3117, -7.3089, -7.2824, -7.3223, -7.3465, -7.3537, -7.3441, -7.3515, -7.3432, -7.3462, -7.3423, -7.3233, -7.3224, -7.3113, -7.2976, -7.2986, -7.3286, -7.3124, -7.3326, -6.9483, -7.0457, -7.187, -7.2488, -7.2093, -7.1742, -7.2302, -7.2596, -7.2495, -7.1746, -7.2646, -7.2286, -7.1979, -7.2968, -7.2759, -7.3372, -7.2766, -7.2871, -7.3248, -7.3303, -7.2735, -7.3511, -7.2547, -7.28, -7.23, -7.329, -7.3424, -7.2502, -7.3229, -7.3615, -7.3171, -7.3002, -7.3198, -7.3087, -7.3152, -7.0097, -7.0769, -7.108, -7.1545, -7.1892, -7.2864, -7.2588, -7.282, -7.2407, -7.3124, -7.3287, -7.2997, -7.3314, -7.3451, -7.3301, -7.3062, -7.3513, -7.3299, -7.2681, -7.3445, -7.3362, -7.2987, -7.3609, -7.3499, -7.3261, -7.3659, -7.3626, -7.3545, -7.3559, -7.3576, -7.3449, -7.3246, -7.3381, -7.3374, -7.3516, -7.3461, -7.3482, -7.2276, -7.2792, -7.2928, -7.3013, -7.2631, -7.3062, -7.3197, -7.3368, -7.3293, -7.3228, -7.3372, -7.3408, -7.3316, -7.3276, -7.3405, -7.3628, -7.3369, -7.3625, -7.3305, -7.3765, -7.3458, -7.3591, -7.3536, -7.3557, -7.3549, -7.3631, -7.3605, -7.3549, -7.3829, -7.3861, -7.3048, -7.3732, -7.3501, -7.3514, -7.2989, -7.3527, -7.3571, -7.0789, -7.1253, -7.2004, -7.2283, -7.2359, -7.254, -7.2914, -7.2075, -7.2371, -7.277, -7.2539, -7.3013, -7.2862, -7.2268, -7.3194, -7.3129, -7.3216, -7.2895, -7.2721, -7.3257, -7.3163, -7.3026, -7.3324, -7.3201, -7.3266, -7.3056, -7.3199, -7.3157, -7.3201, -7.3573, -7.3048, -7.2834, -7.3127, -7.324, -6.9864, -7.1689, -7.2425, -7.2603, -7.1614, -7.2677, -7.296, -7.2561, -7.3071, -7.2223, -7.2922, -7.2975, -7.3066, -7.3223, -7.3349, -7.3023, -7.252, -7.3091, -7.329, -7.3244, -7.3165, -7.3428, -7.3331, -7.293, -7.3266, -7.3138, -7.316, -7.2679, -7.3293, -7.3348, -7.3094, -7.293, -7.2901, -7.3143, -7.3265, -7.0915, -7.0917, -7.1884, -7.0476, -7.1886, -7.1795, -7.223, -7.2265, -7.237, -7.2283, -7.2285, -7.2676, -7.264, -7.2536, -7.2977, -7.275, -7.295, -7.3234, -7.2835, -7.2445, -7.3279, -7.3407, -7.2523, -7.2876, -7.3234, -7.2551, -7.214, -7.3457, -7.3188, -7.3038, -7.3017, -7.305, -7.3012, -7.3143, -7.3192, -6.9672, -7.1311, -7.1149, -7.2661, -7.2236, -7.2571, -7.2135, -7.2066, -7.3128, -7.2988, -7.2747, -7.296, -7.1762, -7.2625, -7.2711, -7.308, -7.2718, -7.301, -7.3184, -7.299, -7.248, -7.3196, -7.337, -7.3154, -7.3143, -7.3402, -7.3013, -7.3372, -7.3288, -7.2738, -7.2875, -7.2525, -7.274, -7.303, -7.2907, -7.2989, -7.2764, -7.3053, -7.3128], \"loglift\": [30.0, 29.0, 28.0, 27.0, 26.0, 25.0, 24.0, 23.0, 22.0, 21.0, 20.0, 19.0, 18.0, 17.0, 16.0, 15.0, 14.0, 13.0, 12.0, 11.0, 10.0, 9.0, 8.0, 7.0, 6.0, 5.0, 4.0, 3.0, 2.0, 1.0, 0.4279, 0.3483, 0.3277, 0.3208, 0.3116, 0.3043, 0.2901, 0.2776, 0.2768, 0.2586, 0.2526, 0.2505, 0.246, 0.2417, 0.2368, 0.2334, 0.2302, 0.2222, 0.2217, 0.2207, 0.2203, 0.2202, 0.2182, 0.2179, 0.2154, 0.212, 0.2116, 0.2102, 0.2059, 0.2042, 0.1992, 0.1884, 0.1921, 0.1933, 0.1741, 0.5274, 0.5229, 0.4444, 0.4324, 0.4227, 0.3754, 0.358, 0.3507, 0.3435, 0.3398, 0.3333, 0.3286, 0.3262, 0.3224, 0.3069, 0.3031, 0.3021, 0.2975, 0.297, 0.2959, 0.2952, 0.2911, 0.2801, 0.2763, 0.2761, 0.272, 0.2691, 0.268, 0.2673, 0.266, 0.2615, 0.2487, 0.2557, 0.2485, 0.2354, 0.5872, 0.4654, 0.4301, 0.4255, 0.3765, 0.372, 0.3473, 0.3325, 0.3281, 0.3235, 0.3119, 0.3103, 0.3075, 0.2987, 0.2929, 0.2907, 0.2901, 0.29, 0.29, 0.283, 0.2785, 0.2782, 0.2765, 0.2763, 0.2749, 0.2736, 0.2703, 0.2698, 0.2682, 0.2665, 0.2518, 0.2504, 0.2548, 0.2589, 0.2615, 0.25, 0.2185, 0.6722, 0.5564, 0.407, 0.3277, 0.3126, 0.3114, 0.3107, 0.3094, 0.3046, 0.2984, 0.2923, 0.2895, 0.2856, 0.2825, 0.2775, 0.2769, 0.2755, 0.2753, 0.2696, 0.2678, 0.2641, 0.2637, 0.2622, 0.2621, 0.2613, 0.2585, 0.2575, 0.2565, 0.2559, 0.2543, 0.2511, 0.2499, 0.2441, 0.1914, 0.2487, 0.6193, 0.3744, 0.3708, 0.2803, 0.2542, 0.254, 0.2493, 0.2458, 0.2441, 0.2424, 0.2416, 0.2345, 0.2322, 0.232, 0.2301, 0.2284, 0.228, 0.2272, 0.2226, 0.2187, 0.2156, 0.2149, 0.2128, 0.2124, 0.2112, 0.2082, 0.2079, 0.2046, 0.2035, 0.2034, 0.203, 0.2007, 0.1999, 0.1986, 0.1997, 0.1979, 0.1885, 0.1879, 0.1648, 0.3833, 0.3236, 0.3127, 0.2998, 0.2992, 0.2974, 0.296, 0.2906, 0.2846, 0.2775, 0.2632, 0.2619, 0.2602, 0.2595, 0.2515, 0.2455, 0.2454, 0.2446, 0.2394, 0.239, 0.2355, 0.2307, 0.2296, 0.2295, 0.2284, 0.2257, 0.2256, 0.2248, 0.2243, 0.2232, 0.2196, 0.2157, 0.2198, 0.2171, 0.2004, 0.2061, 0.2114, 0.1956, 0.1602, 0.4821, 0.4264, 0.3729, 0.3672, 0.3646, 0.3544, 0.3016, 0.2892, 0.2814, 0.2774, 0.2751, 0.2732, 0.272, 0.2719, 0.2702, 0.2702, 0.2585, 0.2572, 0.2535, 0.2533, 0.2456, 0.245, 0.2421, 0.2407, 0.2407, 0.2386, 0.2378, 0.2369, 0.2365, 0.2362, 0.2355, 0.2297, 0.2262, 0.2092, 0.2125, 0.2047, 0.2088, 0.2224, 0.1868, 0.5222, 0.4172, 0.3565, 0.3354, 0.3267, 0.3067, 0.3036, 0.3019, 0.2942, 0.2869, 0.2866, 0.286, 0.286, 0.2805, 0.2801, 0.2798, 0.2787, 0.2777, 0.2771, 0.2739, 0.2732, 0.2707, 0.2707, 0.2683, 0.268, 0.2627, 0.259, 0.2582, 0.2581, 0.2573, 0.2572, 0.2541, 0.2508, 0.255, 0.2498, 0.2387, 0.2383, 0.2463, 0.2075, 0.5676, 0.5097, 0.4862, 0.4604, 0.423, 0.407, 0.3945, 0.3907, 0.3897, 0.3869, 0.3857, 0.3855, 0.3612, 0.356, 0.3458, 0.3455, 0.3438, 0.332, 0.3315, 0.3277, 0.3264, 0.3253, 0.3153, 0.3118, 0.3073, 0.3028, 0.3024, 0.3009, 0.3009, 0.2983, 0.2945, 0.2632, 0.2905, 0.6037, 0.385, 0.3681, 0.3508, 0.319, 0.3176, 0.3087, 0.2978, 0.2934, 0.2791, 0.2748, 0.2693, 0.267, 0.2666, 0.2643, 0.2629, 0.2577, 0.2512, 0.2496, 0.2482, 0.2468, 0.2433, 0.2417, 0.2395, 0.2387, 0.2384, 0.238, 0.2369, 0.2356, 0.2313, 0.2308, 0.2138, 0.2154, 0.2273, 0.2033, 0.4545, 0.4255, 0.3921, 0.3767, 0.369, 0.3609, 0.3475, 0.3419, 0.3407, 0.3406, 0.3405, 0.3387, 0.3365, 0.3344, 0.3336, 0.3296, 0.3192, 0.314, 0.3125, 0.3047, 0.3013, 0.2948, 0.2945, 0.2928, 0.2913, 0.2875, 0.285, 0.2843, 0.2842, 0.2794, 0.2779, 0.2623, 0.2728, 0.2483, 0.2391, 0.4478, 0.412, 0.4016, 0.3929, 0.3866, 0.3688, 0.3674, 0.3661, 0.3586, 0.3552, 0.3494, 0.3493, 0.3418, 0.3348, 0.3323, 0.332, 0.3316, 0.3291, 0.3198, 0.3187, 0.3136, 0.312, 0.3075, 0.3047, 0.3031, 0.301, 0.2959, 0.2954, 0.2933, 0.2923, 0.2886, 0.2319, 0.2565, 0.2467, 0.2358, 0.5881, 0.4461, 0.3921, 0.3821, 0.347, 0.3461, 0.3444, 0.3387, 0.3314, 0.3229, 0.3214, 0.3186, 0.314, 0.312, 0.311, 0.3045, 0.2935, 0.2912, 0.2878, 0.286, 0.2851, 0.2833, 0.2817, 0.2816, 0.2805, 0.2792, 0.2785, 0.2783, 0.2776, 0.2738, 0.2672, 0.2557, 0.2406, 0.2345, 0.2636, 0.2215, 0.2537, 0.5599, 0.4561, 0.3852, 0.3848, 0.3749, 0.3726, 0.3601, 0.3466, 0.3439, 0.3435, 0.339, 0.3375, 0.3352, 0.3309, 0.3307, 0.3181, 0.3149, 0.3138, 0.3132, 0.312, 0.3072, 0.3064, 0.3031, 0.3011, 0.2957, 0.293, 0.293, 0.2908, 0.2888, 0.2862, 0.2779, 0.2391, 0.2629, 0.2313, 0.2445, 0.5706, 0.5078, 0.4432, 0.4358, 0.3628, 0.3348, 0.3331, 0.3318, 0.3159, 0.2921, 0.2913, 0.2893, 0.2872, 0.2849, 0.2809, 0.2805, 0.2788, 0.2784, 0.2776, 0.2755, 0.2743, 0.2741, 0.2697, 0.2679, 0.2671, 0.2671, 0.2636, 0.26, 0.2587, 0.2581, 0.2556, 0.2369, 0.2411, 0.2278, 0.2511, 0.2328, 0.2288, 0.3679, 0.3293, 0.3265, 0.3136, 0.3036, 0.2995, 0.2985, 0.2921, 0.2904, 0.2904, 0.2875, 0.2813, 0.2812, 0.2787, 0.2745, 0.2731, 0.2721, 0.2683, 0.2602, 0.2586, 0.2583, 0.2566, 0.2553, 0.2547, 0.2546, 0.2545, 0.2511, 0.2501, 0.2482, 0.2466, 0.242, 0.245, 0.2362, 0.2334, 0.1645, 0.2193, 0.2325, 0.4325, 0.4036, 0.3943, 0.3624, 0.3541, 0.3539, 0.3521, 0.3474, 0.3376, 0.3335, 0.333, 0.3295, 0.3262, 0.3259, 0.3254, 0.3207, 0.3199, 0.3172, 0.3159, 0.3131, 0.3113, 0.3096, 0.3083, 0.3, 0.2993, 0.295, 0.2916, 0.2909, 0.2862, 0.2833, 0.2805, 0.2732, 0.2113, 0.2665, 0.4871, 0.4158, 0.3901, 0.3732, 0.369, 0.3527, 0.3337, 0.3301, 0.33, 0.3297, 0.3224, 0.3213, 0.3145, 0.3082, 0.3052, 0.3052, 0.3042, 0.3039, 0.3037, 0.3035, 0.3032, 0.3028, 0.2993, 0.2977, 0.2953, 0.294, 0.2903, 0.2887, 0.2875, 0.2848, 0.2843, 0.2781, 0.2626, 0.2509, 0.278, 0.4435, 0.436, 0.4348, 0.4259, 0.3888, 0.373, 0.3669, 0.3516, 0.3508, 0.3483, 0.3426, 0.3408, 0.3399, 0.3368, 0.3351, 0.3319, 0.32, 0.3195, 0.3139, 0.3108, 0.3092, 0.3073, 0.3067, 0.3064, 0.3027, 0.2999, 0.2974, 0.2916, 0.2906, 0.2883, 0.273, 0.2736, 0.255, 0.2689, 0.2463, 0.4962, 0.4239, 0.3965, 0.3965, 0.3873, 0.354, 0.3532, 0.3524, 0.3492, 0.3373, 0.3314, 0.3265, 0.3256, 0.3255, 0.3172, 0.3169, 0.3159, 0.3118, 0.3079, 0.3075, 0.307, 0.3061, 0.3023, 0.3015, 0.2993, 0.2968, 0.2965, 0.2922, 0.2918, 0.2916, 0.2915, 0.2753, 0.2786, 0.2821, 0.2682, 0.2773, 0.2319, 0.2694, 0.2779]}, \"token.table\": {\"Topic\": [2, 7, 8, 1, 10, 3, 15, 9, 3, 9, 4, 9, 9, 14, 3, 2, 2, 13, 5, 3, 4], \"Freq\": [0.16661067535344226, 0.16566743578801327, 0.16152789828754863, 0.16224835617315722, 0.16076539252820926, 0.16316112277113104, 0.16756969874009395, 0.16265867734587242, 0.16204844991423306, 0.16110616434384087, 0.16354698199115242, 0.15977905031039874, 0.15922913585440757, 0.1559385056752311, 0.17009286058018425, 0.1689094554317705, 0.16770500171469588, 0.1491014563829017, 0.15743068457529139, 0.16384622656407558, 0.16192044969824726], \"Term\": [\"\\uac00\\uc2a4\", \"\\uacf5\\uae30\\uc5c5\", \"\\uacf5\\ub860\", \"\\ub300\\uc120\", \"\\ub300\\ud1b5\\ub839\", \"\\uc218\\uc0ac\", \"\\uc2e0\\ud55c\", \"\\uc694\\uae08\", \"\\uc6d4\\uc131\", \"\\uc778\\uc0c1\", \"\\uc801\\uc790\", \"\\uc804\\uae30\", \"\\uc804\\uae30\\ub8cc\", \"\\uc815\\ubd80\", \"\\uc870\\uc791\", \"\\uc911\\ub9bd\", \"\\ud0c4\\uc18c\", \"\\ud0c8\\uc6d0\\uc804\", \"\\ud0dc\\uc591\\uad11\", \"\\ud3d0\\uc1c4\", \"\\ud55c\\uc804\"]}, \"R\": 30, \"lambda.step\": 0.01, \"plot.opts\": {\"xlab\": \"PC1\", \"ylab\": \"PC2\"}, \"topic.order\": [16, 8, 3, 11, 10, 18, 17, 9, 15, 7, 20, 13, 4, 5, 14, 1, 19, 2, 6, 12]};\n",
              "\n",
              "function LDAvis_load_lib(url, callback){\n",
              "  var s = document.createElement('script');\n",
              "  s.src = url;\n",
              "  s.async = true;\n",
              "  s.onreadystatechange = s.onload = callback;\n",
              "  s.onerror = function(){console.warn(\"failed to load library \" + url);};\n",
              "  document.getElementsByTagName(\"head\")[0].appendChild(s);\n",
              "}\n",
              "\n",
              "if(typeof(LDAvis) !== \"undefined\"){\n",
              "   // already loaded: just create the visualization\n",
              "   !function(LDAvis){\n",
              "       new LDAvis(\"#\" + \"ldavis_el212362298979895776250107552\", ldavis_el212362298979895776250107552_data);\n",
              "   }(LDAvis);\n",
              "}else if(typeof define === \"function\" && define.amd){\n",
              "   // require.js is available: use it to load d3/LDAvis\n",
              "   require.config({paths: {d3: \"https://d3js.org/d3.v5\"}});\n",
              "   require([\"d3\"], function(d3){\n",
              "      window.d3 = d3;\n",
              "      LDAvis_load_lib(\"https://cdn.jsdelivr.net/gh/bmabey/pyLDAvis@3.4.0/pyLDAvis/js/ldavis.v3.0.0.js\", function(){\n",
              "        new LDAvis(\"#\" + \"ldavis_el212362298979895776250107552\", ldavis_el212362298979895776250107552_data);\n",
              "      });\n",
              "    });\n",
              "}else{\n",
              "    // require.js not available: dynamically load d3 & LDAvis\n",
              "    LDAvis_load_lib(\"https://d3js.org/d3.v5.js\", function(){\n",
              "         LDAvis_load_lib(\"https://cdn.jsdelivr.net/gh/bmabey/pyLDAvis@3.4.0/pyLDAvis/js/ldavis.v3.0.0.js\", function(){\n",
              "                 new LDAvis(\"#\" + \"ldavis_el212362298979895776250107552\", ldavis_el212362298979895776250107552_data);\n",
              "            })\n",
              "         });\n",
              "}\n",
              "</script>"
            ],
            "text/plain": [
              "<IPython.core.display.HTML object>"
            ]
          },
          "execution_count": 163,
          "metadata": {},
          "output_type": "execute_result"
        }
      ],
      "source": [
        "import pyLDAvis\n",
        "\n",
        "lda_vis_data = ctm.get_ldavis_data_format(vocab, training_dataset, n_samples=10) \n",
        "ctm_pd = pyLDAvis.prepare(**lda_vis_data) \n",
        "pyLDAvis.display(ctm_pd)"
      ]
    },
    {
      "cell_type": "markdown",
      "metadata": {},
      "source": [
        "### **5.2 - 시계열 시각화**"
      ]
    },
    {
      "cell_type": "markdown",
      "metadata": {},
      "source": [
        "CTM은 기본으로 시계열 시각화를 지원하지 않으므로, 직접 함수를 만들어 진행하도록 하겠습니다."
      ]
    },
    {
      "cell_type": "code",
      "execution_count": 186,
      "metadata": {},
      "outputs": [],
      "source": [
        "import matplotlib.pyplot as plt\n",
        "import plotly.express as px\n",
        "import plotly.graph_objs as go\n",
        "import plotly as py\n",
        "import plotly.offline as pyo\n",
        "from plotly.offline import download_plotlyjs, init_notebook_mode, plot, iplot\n",
        "import plotly.io as pio\n",
        "pio.renderers.default = 'notebook'\n",
        "from datetime import datetime"
      ]
    },
    {
      "cell_type": "code",
      "execution_count": 206,
      "metadata": {},
      "outputs": [],
      "source": [
        "def topics_over_time(\n",
        "        topics: Union[pd.Series, List[int]],\n",
        "        timestamps: Union[pd.Series, List[datetime]],\n",
        "        idx2topic: Dict[int, str],\n",
        "        freq: Literal['Y', 'M'] = 'M'\n",
        "        ):\n",
        "    timestamps = pd.cut(timestamps, bins=pd.date_range(timestamps.min(), timestamps.max(), freq=freq))\n",
        "    df = pd.get_dummies(topics).groupby(timestamps).sum().reset_index()\n",
        "\n",
        "    fig = go.Figure()\n",
        "    for topic_idx in df.columns:\n",
        "        if isinstance(topic_idx, str):\n",
        "            continue\n",
        "\n",
        "        if idx2topic:\n",
        "            name = \"_\".join(idx2topic[topic_idx][:4])\n",
        "        else:\n",
        "            name = topic_idx\n",
        "\n",
        "        fig.add_trace(go.Scatter(x=df.index, \n",
        "                                 y=df[topic_idx], \n",
        "                                 mode='lines+markers',\n",
        "                                 fill = 'tozeroy',\n",
        "                                 name=name))\n",
        "    fig.update_layout(title='Topic',\n",
        "                      xaxis_title='Year-Month',\n",
        "                      yaxis_title='Frequency')\n",
        "    \n",
        "    fig.update_xaxes(range=[min(df.index), max(df.index)], tickvals=df.index, ticktext=[year_month.left.strftime('%Y-%m') for year_month in timestamps.cat.categories])\n",
        "    fig.show()"
      ]
    },
    {
      "cell_type": "code",
      "execution_count": 207,
      "metadata": {},
      "outputs": [
        {
          "data": {
            "text/html": [
              "<div>                            <div id=\"52620097-d885-4964-b13e-eeca1c6736fa\" class=\"plotly-graph-div\" style=\"height:525px; width:100%;\"></div>            <script type=\"text/javascript\">                require([\"plotly\"], function(Plotly) {                    window.PLOTLYENV=window.PLOTLYENV || {};                                    if (document.getElementById(\"52620097-d885-4964-b13e-eeca1c6736fa\")) {                    Plotly.newPlot(                        \"52620097-d885-4964-b13e-eeca1c6736fa\",                        [{\"fill\":\"tozeroy\",\"mode\":\"lines+markers\",\"name\":\"대만_폐기_독일_투표\",\"x\":[0,1,2,3,4,5,6,7,8,9,10,11,12,13,14,15,16,17,18,19,20,21,22,23,24,25,26,27,28,29,30,31,32,33,34,35,36,37,38,39,40,41,42,43,44,45,46,47,48,49,50,51,52,53,54,55,56,57,58,59,60,61,62,63,64],\"y\":[3,1,6,4,3,1,4,0,0,0,0,0,1,0,1,0,3,5,3,6,0,1,0,4,1,3,0,0,0,1,2,1,0,2,2,0,0,0,1,0,2,1,0,1,2,0,0,2,1,0,0,0,0,2,8,0,1,1,0,0,1,1,2,0,1],\"type\":\"scatter\"},{\"fill\":\"tozeroy\",\"mode\":\"lines+markers\",\"name\":\"원전_수원_안전_중단\",\"x\":[0,1,2,3,4,5,6,7,8,9,10,11,12,13,14,15,16,17,18,19,20,21,22,23,24,25,26,27,28,29,30,31,32,33,34,35,36,37,38,39,40,41,42,43,44,45,46,47,48,49,50,51,52,53,54,55,56,57,58,59,60,61,62,63,64],\"y\":[3,9,0,1,4,2,1,1,0,0,0,2,0,3,2,0,1,4,0,2,0,1,1,6,5,1,0,1,1,0,1,1,0,0,0,0,0,0,0,0,3,1,1,3,4,0,0,1,0,2,3,4,1,0,4,1,3,4,3,0,0,5,0,4,1],\"type\":\"scatter\"},{\"fill\":\"tozeroy\",\"mode\":\"lines+markers\",\"name\":\"월성_수사_조작_폐쇄\",\"x\":[0,1,2,3,4,5,6,7,8,9,10,11,12,13,14,15,16,17,18,19,20,21,22,23,24,25,26,27,28,29,30,31,32,33,34,35,36,37,38,39,40,41,42,43,44,45,46,47,48,49,50,51,52,53,54,55,56,57,58,59,60,61,62,63,64],\"y\":[0,1,0,0,0,0,0,0,0,0,0,0,4,0,0,0,1,0,2,1,0,0,1,0,0,1,0,0,2,1,6,2,3,0,1,1,3,2,1,0,23,13,6,2,4,0,0,3,2,2,5,2,1,4,0,0,1,5,2,0,3,0,3,1,1],\"type\":\"scatter\"},{\"fill\":\"tozeroy\",\"mode\":\"lines+markers\",\"name\":\"탈원전_수원_반대_정책\",\"x\":[0,1,2,3,4,5,6,7,8,9,10,11,12,13,14,15,16,17,18,19,20,21,22,23,24,25,26,27,28,29,30,31,32,33,34,35,36,37,38,39,40,41,42,43,44,45,46,47,48,49,50,51,52,53,54,55,56,57,58,59,60,61,62,63,64],\"y\":[1,5,2,0,8,0,1,0,1,0,0,0,1,5,1,0,2,5,4,3,2,0,4,0,1,0,1,1,1,0,4,1,3,1,0,1,1,3,0,0,3,1,0,4,0,3,2,5,5,2,4,2,0,2,2,4,3,3,1,1,2,1,1,0,0],\"type\":\"scatter\"},{\"fill\":\"tozeroy\",\"mode\":\"lines+markers\",\"name\":\"정부_정책_실패_국민\",\"x\":[0,1,2,3,4,5,6,7,8,9,10,11,12,13,14,15,16,17,18,19,20,21,22,23,24,25,26,27,28,29,30,31,32,33,34,35,36,37,38,39,40,41,42,43,44,45,46,47,48,49,50,51,52,53,54,55,56,57,58,59,60,61,62,63,64],\"y\":[2,4,3,0,0,0,1,1,0,0,1,0,0,2,6,0,0,3,2,3,0,2,0,5,3,1,1,0,0,2,2,0,1,0,1,1,0,2,1,0,1,1,1,3,0,0,2,1,5,0,1,3,3,3,1,3,1,5,3,4,3,2,2,0,1],\"type\":\"scatter\"},{\"fill\":\"tozeroy\",\"mode\":\"lines+markers\",\"name\":\"원전_수출_한국_세계\",\"x\":[0,1,2,3,4,5,6,7,8,9,10,11,12,13,14,15,16,17,18,19,20,21,22,23,24,25,26,27,28,29,30,31,32,33,34,35,36,37,38,39,40,41,42,43,44,45,46,47,48,49,50,51,52,53,54,55,56,57,58,59,60,61,62,63,64],\"y\":[0,0,0,1,4,1,0,2,0,2,0,0,1,0,1,0,2,2,0,0,2,1,2,2,3,0,0,1,0,0,0,0,1,0,1,2,1,0,0,0,0,2,1,0,1,1,1,3,2,0,0,1,3,2,1,6,3,0,0,1,2,0,2,1,0],\"type\":\"scatter\"},{\"fill\":\"tozeroy\",\"mode\":\"lines+markers\",\"name\":\"대통령_국정_여야_회동\",\"x\":[0,1,2,3,4,5,6,7,8,9,10,11,12,13,14,15,16,17,18,19,20,21,22,23,24,25,26,27,28,29,30,31,32,33,34,35,36,37,38,39,40,41,42,43,44,45,46,47,48,49,50,51,52,53,54,55,56,57,58,59,60,61,62,63,64],\"y\":[0,8,7,7,0,0,0,1,0,2,0,1,0,1,5,2,2,7,1,2,1,2,4,2,1,0,2,2,6,3,0,2,1,1,4,3,0,0,1,1,0,0,1,1,0,2,4,4,0,0,1,0,0,3,1,1,4,6,4,6,4,0,9,0,0],\"type\":\"scatter\"},{\"fill\":\"tozeroy\",\"mode\":\"lines+markers\",\"name\":\"탄소_중립_가스_온실\",\"x\":[0,1,2,3,4,5,6,7,8,9,10,11,12,13,14,15,16,17,18,19,20,21,22,23,24,25,26,27,28,29,30,31,32,33,34,35,36,37,38,39,40,41,42,43,44,45,46,47,48,49,50,51,52,53,54,55,56,57,58,59,60,61,62,63,64],\"y\":[0,1,0,0,2,3,3,0,0,0,0,0,1,1,0,0,1,4,0,2,0,13,1,4,0,0,0,0,4,2,2,2,0,0,0,0,0,0,0,1,1,2,4,0,3,0,2,3,3,3,5,3,11,11,5,1,1,0,5,0,0,1,0,0,2],\"type\":\"scatter\"},{\"fill\":\"tozeroy\",\"mode\":\"lines+markers\",\"name\":\"공론_고리_공정_논란\",\"x\":[0,1,2,3,4,5,6,7,8,9,10,11,12,13,14,15,16,17,18,19,20,21,22,23,24,25,26,27,28,29,30,31,32,33,34,35,36,37,38,39,40,41,42,43,44,45,46,47,48,49,50,51,52,53,54,55,56,57,58,59,60,61,62,63,64],\"y\":[5,19,11,4,18,2,6,1,0,0,1,0,0,0,0,1,0,2,0,2,1,0,0,0,0,0,0,0,0,0,0,2,1,0,0,0,0,0,0,0,1,0,0,4,9,0,0,0,0,0,0,0,0,0,0,0,0,3,1,0,1,0,1,1,1],\"type\":\"scatter\"},{\"fill\":\"tozeroy\",\"mode\":\"lines+markers\",\"name\":\"태양광_풍력_사업_외국\",\"x\":[0,1,2,3,4,5,6,7,8,9,10,11,12,13,14,15,16,17,18,19,20,21,22,23,24,25,26,27,28,29,30,31,32,33,34,35,36,37,38,39,40,41,42,43,44,45,46,47,48,49,50,51,52,53,54,55,56,57,58,59,60,61,62,63,64],\"y\":[0,1,2,0,1,2,4,0,2,0,0,0,1,5,1,2,9,5,3,2,0,2,2,3,2,2,3,0,2,1,1,0,4,0,1,0,1,1,5,4,0,0,1,1,3,2,2,1,4,2,2,1,2,2,5,0,4,1,1,3,0,0,0,4,4],\"type\":\"scatter\"},{\"fill\":\"tozeroy\",\"mode\":\"lines+markers\",\"name\":\"한전_적자_공대_책임\",\"x\":[0,1,2,3,4,5,6,7,8,9,10,11,12,13,14,15,16,17,18,19,20,21,22,23,24,25,26,27,28,29,30,31,32,33,34,35,36,37,38,39,40,41,42,43,44,45,46,47,48,49,50,51,52,53,54,55,56,57,58,59,60,61,62,63,64],\"y\":[1,0,0,0,1,1,0,1,2,1,0,1,0,0,9,1,0,0,0,2,6,0,2,7,8,2,5,4,3,0,2,2,1,2,4,0,1,0,0,0,0,0,0,1,0,2,0,1,2,1,0,1,1,2,0,2,3,5,1,8,2,3,2,1,2],\"type\":\"scatter\"},{\"fill\":\"tozeroy\",\"mode\":\"lines+markers\",\"name\":\"탈원전_에너지_재생_정책\",\"x\":[0,1,2,3,4,5,6,7,8,9,10,11,12,13,14,15,16,17,18,19,20,21,22,23,24,25,26,27,28,29,30,31,32,33,34,35,36,37,38,39,40,41,42,43,44,45,46,47,48,49,50,51,52,53,54,55,56,57,58,59,60,61,62,63,64],\"y\":[4,1,0,1,6,3,3,0,0,0,0,0,1,5,4,0,1,5,1,0,0,0,4,2,2,2,1,1,0,0,0,0,0,1,0,2,0,0,1,0,0,1,1,2,1,0,0,2,2,1,2,1,7,3,3,3,4,0,1,1,1,2,1,2,0],\"type\":\"scatter\"},{\"fill\":\"tozeroy\",\"mode\":\"lines+markers\",\"name\":\"전력_전기_수급_폭염\",\"x\":[0,1,2,3,4,5,6,7,8,9,10,11,12,13,14,15,16,17,18,19,20,21,22,23,24,25,26,27,28,29,30,31,32,33,34,35,36,37,38,39,40,41,42,43,44,45,46,47,48,49,50,51,52,53,54,55,56,57,58,59,60,61,62,63,64],\"y\":[0,1,5,1,0,0,3,2,0,0,0,0,1,6,1,0,4,0,2,0,0,1,2,0,2,1,1,0,1,0,0,0,3,0,0,1,0,0,1,0,0,0,3,1,2,0,0,0,6,13,1,7,2,0,1,0,0,0,1,0,2,0,0,2,5],\"type\":\"scatter\"},{\"fill\":\"tozeroy\",\"mode\":\"lines+markers\",\"name\":\"신한_재개_건설_공사\",\"x\":[0,1,2,3,4,5,6,7,8,9,10,11,12,13,14,15,16,17,18,19,20,21,22,23,24,25,26,27,28,29,30,31,32,33,34,35,36,37,38,39,40,41,42,43,44,45,46,47,48,49,50,51,52,53,54,55,56,57,58,59,60,61,62,63,64],\"y\":[2,4,0,0,7,1,0,0,0,0,1,0,1,0,0,0,1,0,0,10,0,1,0,0,0,0,0,0,0,1,1,0,0,1,0,0,0,0,0,0,0,1,0,0,6,1,1,5,5,9,0,0,3,0,4,1,0,1,1,0,0,1,0,3,0],\"type\":\"scatter\"},{\"fill\":\"tozeroy\",\"mode\":\"lines+markers\",\"name\":\"전기료_인상_요금_전기\",\"x\":[0,1,2,3,4,5,6,7,8,9,10,11,12,13,14,15,16,17,18,19,20,21,22,23,24,25,26,27,28,29,30,31,32,33,34,35,36,37,38,39,40,41,42,43,44,45,46,47,48,49,50,51,52,53,54,55,56,57,58,59,60,61,62,63,64],\"y\":[0,0,3,0,1,0,1,0,0,0,0,0,6,0,4,0,5,0,3,0,1,0,1,2,9,6,0,0,5,2,1,2,1,0,0,0,0,1,1,0,0,0,3,0,0,2,0,0,6,0,0,5,0,1,13,0,0,5,0,1,11,0,0,3,0],\"type\":\"scatter\"},{\"fill\":\"tozeroy\",\"mode\":\"lines+markers\",\"name\":\"대선_출마_보이_공약\",\"x\":[0,1,2,3,4,5,6,7,8,9,10,11,12,13,14,15,16,17,18,19,20,21,22,23,24,25,26,27,28,29,30,31,32,33,34,35,36,37,38,39,40,41,42,43,44,45,46,47,48,49,50,51,52,53,54,55,56,57,58,59,60,61,62,63,64],\"y\":[1,2,1,0,0,0,0,0,0,0,1,1,0,0,0,0,0,1,2,4,0,0,3,5,1,2,0,0,1,2,1,7,2,1,8,1,0,1,2,0,0,2,1,0,4,2,3,5,17,2,4,1,2,4,6,4,3,13,0,5,0,0,2,1,1],\"type\":\"scatter\"},{\"fill\":\"tozeroy\",\"mode\":\"lines+markers\",\"name\":\"공기업_공공_기업_기관\",\"x\":[0,1,2,3,4,5,6,7,8,9,10,11,12,13,14,15,16,17,18,19,20,21,22,23,24,25,26,27,28,29,30,31,32,33,34,35,36,37,38,39,40,41,42,43,44,45,46,47,48,49,50,51,52,53,54,55,56,57,58,59,60,61,62,63,64],\"y\":[0,4,5,2,0,1,2,2,0,0,0,0,1,1,1,0,5,1,1,1,1,3,2,8,1,1,1,0,3,0,5,0,1,5,3,2,3,0,0,0,0,1,0,0,0,2,2,3,0,3,2,3,2,0,2,2,1,6,1,7,4,2,1,0,1],\"type\":\"scatter\"},{\"fill\":\"tozeroy\",\"mode\":\"lines+markers\",\"name\":\"국감_감사원_정치_국회\",\"x\":[0,1,2,3,4,5,6,7,8,9,10,11,12,13,14,15,16,17,18,19,20,21,22,23,24,25,26,27,28,29,30,31,32,33,34,35,36,37,38,39,40,41,42,43,44,45,46,47,48,49,50,51,52,53,54,55,56,57,58,59,60,61,62,63,64],\"y\":[0,3,1,4,4,1,2,0,0,0,0,0,0,1,0,1,4,1,3,0,0,2,3,4,3,1,1,1,2,3,2,2,0,1,10,2,3,2,1,1,3,3,0,9,3,0,1,2,4,0,0,3,1,1,4,1,1,3,1,2,0,0,3,13,10],\"type\":\"scatter\"},{\"fill\":\"tozeroy\",\"mode\":\"lines+markers\",\"name\":\"에너지_전력_수급_재생\",\"x\":[0,1,2,3,4,5,6,7,8,9,10,11,12,13,14,15,16,17,18,19,20,21,22,23,24,25,26,27,28,29,30,31,32,33,34,35,36,37,38,39,40,41,42,43,44,45,46,47,48,49,50,51,52,53,54,55,56,57,58,59,60,61,62,63,64],\"y\":[6,1,2,2,1,1,4,3,1,2,0,0,0,10,0,1,0,2,1,0,0,0,5,1,3,0,0,0,1,0,0,0,0,0,0,2,1,0,0,2,0,0,3,1,0,1,1,1,2,7,2,2,2,0,1,0,1,1,4,0,2,2,1,1,1],\"type\":\"scatter\"},{\"fill\":\"tozeroy\",\"mode\":\"lines+markers\",\"name\":\"생태계_원전_수주_기술\",\"x\":[0,1,2,3,4,5,6,7,8,9,10,11,12,13,14,15,16,17,18,19,20,21,22,23,24,25,26,27,28,29,30,31,32,33,34,35,36,37,38,39,40,41,42,43,44,45,46,47,48,49,50,51,52,53,54,55,56,57,58,59,60,61,62,63,64],\"y\":[2,1,2,4,4,0,5,0,0,3,0,0,2,1,7,1,2,5,2,0,0,2,3,5,10,0,0,0,0,0,4,0,2,3,0,4,0,1,0,1,1,0,0,0,0,1,1,0,5,1,0,0,0,2,2,2,3,1,0,8,6,4,6,2,2],\"type\":\"scatter\"}],                        {\"template\":{\"data\":{\"histogram2dcontour\":[{\"type\":\"histogram2dcontour\",\"colorbar\":{\"outlinewidth\":0,\"ticks\":\"\"},\"colorscale\":[[0.0,\"#0d0887\"],[0.1111111111111111,\"#46039f\"],[0.2222222222222222,\"#7201a8\"],[0.3333333333333333,\"#9c179e\"],[0.4444444444444444,\"#bd3786\"],[0.5555555555555556,\"#d8576b\"],[0.6666666666666666,\"#ed7953\"],[0.7777777777777778,\"#fb9f3a\"],[0.8888888888888888,\"#fdca26\"],[1.0,\"#f0f921\"]]}],\"choropleth\":[{\"type\":\"choropleth\",\"colorbar\":{\"outlinewidth\":0,\"ticks\":\"\"}}],\"histogram2d\":[{\"type\":\"histogram2d\",\"colorbar\":{\"outlinewidth\":0,\"ticks\":\"\"},\"colorscale\":[[0.0,\"#0d0887\"],[0.1111111111111111,\"#46039f\"],[0.2222222222222222,\"#7201a8\"],[0.3333333333333333,\"#9c179e\"],[0.4444444444444444,\"#bd3786\"],[0.5555555555555556,\"#d8576b\"],[0.6666666666666666,\"#ed7953\"],[0.7777777777777778,\"#fb9f3a\"],[0.8888888888888888,\"#fdca26\"],[1.0,\"#f0f921\"]]}],\"heatmap\":[{\"type\":\"heatmap\",\"colorbar\":{\"outlinewidth\":0,\"ticks\":\"\"},\"colorscale\":[[0.0,\"#0d0887\"],[0.1111111111111111,\"#46039f\"],[0.2222222222222222,\"#7201a8\"],[0.3333333333333333,\"#9c179e\"],[0.4444444444444444,\"#bd3786\"],[0.5555555555555556,\"#d8576b\"],[0.6666666666666666,\"#ed7953\"],[0.7777777777777778,\"#fb9f3a\"],[0.8888888888888888,\"#fdca26\"],[1.0,\"#f0f921\"]]}],\"heatmapgl\":[{\"type\":\"heatmapgl\",\"colorbar\":{\"outlinewidth\":0,\"ticks\":\"\"},\"colorscale\":[[0.0,\"#0d0887\"],[0.1111111111111111,\"#46039f\"],[0.2222222222222222,\"#7201a8\"],[0.3333333333333333,\"#9c179e\"],[0.4444444444444444,\"#bd3786\"],[0.5555555555555556,\"#d8576b\"],[0.6666666666666666,\"#ed7953\"],[0.7777777777777778,\"#fb9f3a\"],[0.8888888888888888,\"#fdca26\"],[1.0,\"#f0f921\"]]}],\"contourcarpet\":[{\"type\":\"contourcarpet\",\"colorbar\":{\"outlinewidth\":0,\"ticks\":\"\"}}],\"contour\":[{\"type\":\"contour\",\"colorbar\":{\"outlinewidth\":0,\"ticks\":\"\"},\"colorscale\":[[0.0,\"#0d0887\"],[0.1111111111111111,\"#46039f\"],[0.2222222222222222,\"#7201a8\"],[0.3333333333333333,\"#9c179e\"],[0.4444444444444444,\"#bd3786\"],[0.5555555555555556,\"#d8576b\"],[0.6666666666666666,\"#ed7953\"],[0.7777777777777778,\"#fb9f3a\"],[0.8888888888888888,\"#fdca26\"],[1.0,\"#f0f921\"]]}],\"surface\":[{\"type\":\"surface\",\"colorbar\":{\"outlinewidth\":0,\"ticks\":\"\"},\"colorscale\":[[0.0,\"#0d0887\"],[0.1111111111111111,\"#46039f\"],[0.2222222222222222,\"#7201a8\"],[0.3333333333333333,\"#9c179e\"],[0.4444444444444444,\"#bd3786\"],[0.5555555555555556,\"#d8576b\"],[0.6666666666666666,\"#ed7953\"],[0.7777777777777778,\"#fb9f3a\"],[0.8888888888888888,\"#fdca26\"],[1.0,\"#f0f921\"]]}],\"mesh3d\":[{\"type\":\"mesh3d\",\"colorbar\":{\"outlinewidth\":0,\"ticks\":\"\"}}],\"scatter\":[{\"fillpattern\":{\"fillmode\":\"overlay\",\"size\":10,\"solidity\":0.2},\"type\":\"scatter\"}],\"parcoords\":[{\"type\":\"parcoords\",\"line\":{\"colorbar\":{\"outlinewidth\":0,\"ticks\":\"\"}}}],\"scatterpolargl\":[{\"type\":\"scatterpolargl\",\"marker\":{\"colorbar\":{\"outlinewidth\":0,\"ticks\":\"\"}}}],\"bar\":[{\"error_x\":{\"color\":\"#2a3f5f\"},\"error_y\":{\"color\":\"#2a3f5f\"},\"marker\":{\"line\":{\"color\":\"#E5ECF6\",\"width\":0.5},\"pattern\":{\"fillmode\":\"overlay\",\"size\":10,\"solidity\":0.2}},\"type\":\"bar\"}],\"scattergeo\":[{\"type\":\"scattergeo\",\"marker\":{\"colorbar\":{\"outlinewidth\":0,\"ticks\":\"\"}}}],\"scatterpolar\":[{\"type\":\"scatterpolar\",\"marker\":{\"colorbar\":{\"outlinewidth\":0,\"ticks\":\"\"}}}],\"histogram\":[{\"marker\":{\"pattern\":{\"fillmode\":\"overlay\",\"size\":10,\"solidity\":0.2}},\"type\":\"histogram\"}],\"scattergl\":[{\"type\":\"scattergl\",\"marker\":{\"colorbar\":{\"outlinewidth\":0,\"ticks\":\"\"}}}],\"scatter3d\":[{\"type\":\"scatter3d\",\"line\":{\"colorbar\":{\"outlinewidth\":0,\"ticks\":\"\"}},\"marker\":{\"colorbar\":{\"outlinewidth\":0,\"ticks\":\"\"}}}],\"scattermapbox\":[{\"type\":\"scattermapbox\",\"marker\":{\"colorbar\":{\"outlinewidth\":0,\"ticks\":\"\"}}}],\"scatterternary\":[{\"type\":\"scatterternary\",\"marker\":{\"colorbar\":{\"outlinewidth\":0,\"ticks\":\"\"}}}],\"scattercarpet\":[{\"type\":\"scattercarpet\",\"marker\":{\"colorbar\":{\"outlinewidth\":0,\"ticks\":\"\"}}}],\"carpet\":[{\"aaxis\":{\"endlinecolor\":\"#2a3f5f\",\"gridcolor\":\"white\",\"linecolor\":\"white\",\"minorgridcolor\":\"white\",\"startlinecolor\":\"#2a3f5f\"},\"baxis\":{\"endlinecolor\":\"#2a3f5f\",\"gridcolor\":\"white\",\"linecolor\":\"white\",\"minorgridcolor\":\"white\",\"startlinecolor\":\"#2a3f5f\"},\"type\":\"carpet\"}],\"table\":[{\"cells\":{\"fill\":{\"color\":\"#EBF0F8\"},\"line\":{\"color\":\"white\"}},\"header\":{\"fill\":{\"color\":\"#C8D4E3\"},\"line\":{\"color\":\"white\"}},\"type\":\"table\"}],\"barpolar\":[{\"marker\":{\"line\":{\"color\":\"#E5ECF6\",\"width\":0.5},\"pattern\":{\"fillmode\":\"overlay\",\"size\":10,\"solidity\":0.2}},\"type\":\"barpolar\"}],\"pie\":[{\"automargin\":true,\"type\":\"pie\"}]},\"layout\":{\"autotypenumbers\":\"strict\",\"colorway\":[\"#636efa\",\"#EF553B\",\"#00cc96\",\"#ab63fa\",\"#FFA15A\",\"#19d3f3\",\"#FF6692\",\"#B6E880\",\"#FF97FF\",\"#FECB52\"],\"font\":{\"color\":\"#2a3f5f\"},\"hovermode\":\"closest\",\"hoverlabel\":{\"align\":\"left\"},\"paper_bgcolor\":\"white\",\"plot_bgcolor\":\"#E5ECF6\",\"polar\":{\"bgcolor\":\"#E5ECF6\",\"angularaxis\":{\"gridcolor\":\"white\",\"linecolor\":\"white\",\"ticks\":\"\"},\"radialaxis\":{\"gridcolor\":\"white\",\"linecolor\":\"white\",\"ticks\":\"\"}},\"ternary\":{\"bgcolor\":\"#E5ECF6\",\"aaxis\":{\"gridcolor\":\"white\",\"linecolor\":\"white\",\"ticks\":\"\"},\"baxis\":{\"gridcolor\":\"white\",\"linecolor\":\"white\",\"ticks\":\"\"},\"caxis\":{\"gridcolor\":\"white\",\"linecolor\":\"white\",\"ticks\":\"\"}},\"coloraxis\":{\"colorbar\":{\"outlinewidth\":0,\"ticks\":\"\"}},\"colorscale\":{\"sequential\":[[0.0,\"#0d0887\"],[0.1111111111111111,\"#46039f\"],[0.2222222222222222,\"#7201a8\"],[0.3333333333333333,\"#9c179e\"],[0.4444444444444444,\"#bd3786\"],[0.5555555555555556,\"#d8576b\"],[0.6666666666666666,\"#ed7953\"],[0.7777777777777778,\"#fb9f3a\"],[0.8888888888888888,\"#fdca26\"],[1.0,\"#f0f921\"]],\"sequentialminus\":[[0.0,\"#0d0887\"],[0.1111111111111111,\"#46039f\"],[0.2222222222222222,\"#7201a8\"],[0.3333333333333333,\"#9c179e\"],[0.4444444444444444,\"#bd3786\"],[0.5555555555555556,\"#d8576b\"],[0.6666666666666666,\"#ed7953\"],[0.7777777777777778,\"#fb9f3a\"],[0.8888888888888888,\"#fdca26\"],[1.0,\"#f0f921\"]],\"diverging\":[[0,\"#8e0152\"],[0.1,\"#c51b7d\"],[0.2,\"#de77ae\"],[0.3,\"#f1b6da\"],[0.4,\"#fde0ef\"],[0.5,\"#f7f7f7\"],[0.6,\"#e6f5d0\"],[0.7,\"#b8e186\"],[0.8,\"#7fbc41\"],[0.9,\"#4d9221\"],[1,\"#276419\"]]},\"xaxis\":{\"gridcolor\":\"white\",\"linecolor\":\"white\",\"ticks\":\"\",\"title\":{\"standoff\":15},\"zerolinecolor\":\"white\",\"automargin\":true,\"zerolinewidth\":2},\"yaxis\":{\"gridcolor\":\"white\",\"linecolor\":\"white\",\"ticks\":\"\",\"title\":{\"standoff\":15},\"zerolinecolor\":\"white\",\"automargin\":true,\"zerolinewidth\":2},\"scene\":{\"xaxis\":{\"backgroundcolor\":\"#E5ECF6\",\"gridcolor\":\"white\",\"linecolor\":\"white\",\"showbackground\":true,\"ticks\":\"\",\"zerolinecolor\":\"white\",\"gridwidth\":2},\"yaxis\":{\"backgroundcolor\":\"#E5ECF6\",\"gridcolor\":\"white\",\"linecolor\":\"white\",\"showbackground\":true,\"ticks\":\"\",\"zerolinecolor\":\"white\",\"gridwidth\":2},\"zaxis\":{\"backgroundcolor\":\"#E5ECF6\",\"gridcolor\":\"white\",\"linecolor\":\"white\",\"showbackground\":true,\"ticks\":\"\",\"zerolinecolor\":\"white\",\"gridwidth\":2}},\"shapedefaults\":{\"line\":{\"color\":\"#2a3f5f\"}},\"annotationdefaults\":{\"arrowcolor\":\"#2a3f5f\",\"arrowhead\":0,\"arrowwidth\":1},\"geo\":{\"bgcolor\":\"white\",\"landcolor\":\"#E5ECF6\",\"subunitcolor\":\"white\",\"showland\":true,\"showlakes\":true,\"lakecolor\":\"white\"},\"title\":{\"x\":0.05},\"mapbox\":{\"style\":\"light\"}}},\"title\":{\"text\":\"Topic\"},\"xaxis\":{\"title\":{\"text\":\"Year-Month\"},\"range\":[0,64],\"tickvals\":[0,1,2,3,4,5,6,7,8,9,10,11,12,13,14,15,16,17,18,19,20,21,22,23,24,25,26,27,28,29,30,31,32,33,34,35,36,37,38,39,40,41,42,43,44,45,46,47,48,49,50,51,52,53,54,55,56,57,58,59,60,61,62,63,64],\"ticktext\":[\"2017-05\",\"2017-06\",\"2017-07\",\"2017-08\",\"2017-09\",\"2017-10\",\"2017-11\",\"2017-12\",\"2018-01\",\"2018-02\",\"2018-03\",\"2018-04\",\"2018-05\",\"2018-06\",\"2018-07\",\"2018-08\",\"2018-09\",\"2018-10\",\"2018-11\",\"2018-12\",\"2019-01\",\"2019-02\",\"2019-03\",\"2019-04\",\"2019-05\",\"2019-06\",\"2019-07\",\"2019-08\",\"2019-09\",\"2019-10\",\"2019-11\",\"2019-12\",\"2020-01\",\"2020-02\",\"2020-03\",\"2020-04\",\"2020-05\",\"2020-06\",\"2020-07\",\"2020-08\",\"2020-09\",\"2020-10\",\"2020-11\",\"2020-12\",\"2021-01\",\"2021-02\",\"2021-03\",\"2021-04\",\"2021-05\",\"2021-06\",\"2021-07\",\"2021-08\",\"2021-09\",\"2021-10\",\"2021-11\",\"2021-12\",\"2022-01\",\"2022-02\",\"2022-03\",\"2022-04\",\"2022-05\",\"2022-06\",\"2022-07\",\"2022-08\",\"2022-09\"]},\"yaxis\":{\"title\":{\"text\":\"Frequency\"}}},                        {\"responsive\": true}                    ).then(function(){\n",
              "                            \n",
              "var gd = document.getElementById('52620097-d885-4964-b13e-eeca1c6736fa');\n",
              "var x = new MutationObserver(function (mutations, observer) {{\n",
              "        var display = window.getComputedStyle(gd).display;\n",
              "        if (!display || display === 'none') {{\n",
              "            console.log([gd, 'removed!']);\n",
              "            Plotly.purge(gd);\n",
              "            observer.disconnect();\n",
              "        }}\n",
              "}});\n",
              "\n",
              "// Listen for the removal of the full notebook cells\n",
              "var notebookContainer = gd.closest('#notebook-container');\n",
              "if (notebookContainer) {{\n",
              "    x.observe(notebookContainer, {childList: true});\n",
              "}}\n",
              "\n",
              "// Listen for the clearing of the current output cell\n",
              "var outputEl = gd.closest('.output');\n",
              "if (outputEl) {{\n",
              "    x.observe(outputEl, {childList: true});\n",
              "}}\n",
              "\n",
              "                        })                };                });            </script>        </div>"
            ]
          },
          "metadata": {},
          "output_type": "display_data"
        }
      ],
      "source": [
        "topics = df['topic_idx']\n",
        "timestamps = pd.to_datetime(df['news_date'])\n",
        "topics_over_time(topics, timestamps, idx2topic=idx2topic)"
      ]
    },
    {
      "cell_type": "markdown",
      "metadata": {
        "id": "TGek-V2zbL-T"
      },
      "source": [
        "## **수고하셨습니다**"
      ]
    },
    {
      "cell_type": "markdown",
      "metadata": {
        "id": "oEMLoHd1bL-T"
      },
      "source": [
        "더 많은 사용법은 [공식 GitHub](https://maartengr.github.io/BERTopic/index.html#installation)에서 찾아보세요!"
      ]
    }
  ],
  "metadata": {
    "accelerator": "GPU",
    "colab": {
      "gpuType": "T4",
      "provenance": []
    },
    "kernelspec": {
      "display_name": "Python 3",
      "name": "python3"
    },
    "language_info": {
      "codemirror_mode": {
        "name": "ipython",
        "version": 3
      },
      "file_extension": ".py",
      "mimetype": "text/x-python",
      "name": "python",
      "nbconvert_exporter": "python",
      "pygments_lexer": "ipython3",
      "version": "3.9.16"
    },
    "widgets": {
      "application/vnd.jupyter.widget-state+json": {
        "09418db9ce06434599e1c467f71db1d0": {
          "model_module": "@jupyter-widgets/base",
          "model_module_version": "1.2.0",
          "model_name": "LayoutModel",
          "state": {
            "_model_module": "@jupyter-widgets/base",
            "_model_module_version": "1.2.0",
            "_model_name": "LayoutModel",
            "_view_count": null,
            "_view_module": "@jupyter-widgets/base",
            "_view_module_version": "1.2.0",
            "_view_name": "LayoutView",
            "align_content": null,
            "align_items": null,
            "align_self": null,
            "border": null,
            "bottom": null,
            "display": null,
            "flex": null,
            "flex_flow": null,
            "grid_area": null,
            "grid_auto_columns": null,
            "grid_auto_flow": null,
            "grid_auto_rows": null,
            "grid_column": null,
            "grid_gap": null,
            "grid_row": null,
            "grid_template_areas": null,
            "grid_template_columns": null,
            "grid_template_rows": null,
            "height": null,
            "justify_content": null,
            "justify_items": null,
            "left": null,
            "margin": null,
            "max_height": null,
            "max_width": null,
            "min_height": null,
            "min_width": null,
            "object_fit": null,
            "object_position": null,
            "order": null,
            "overflow": null,
            "overflow_x": null,
            "overflow_y": null,
            "padding": null,
            "right": null,
            "top": null,
            "visibility": null,
            "width": null
          }
        },
        "18c37462862d401bb420eacd389bdc17": {
          "model_module": "@jupyter-widgets/base",
          "model_module_version": "1.2.0",
          "model_name": "LayoutModel",
          "state": {
            "_model_module": "@jupyter-widgets/base",
            "_model_module_version": "1.2.0",
            "_model_name": "LayoutModel",
            "_view_count": null,
            "_view_module": "@jupyter-widgets/base",
            "_view_module_version": "1.2.0",
            "_view_name": "LayoutView",
            "align_content": null,
            "align_items": null,
            "align_self": null,
            "border": null,
            "bottom": null,
            "display": null,
            "flex": null,
            "flex_flow": null,
            "grid_area": null,
            "grid_auto_columns": null,
            "grid_auto_flow": null,
            "grid_auto_rows": null,
            "grid_column": null,
            "grid_gap": null,
            "grid_row": null,
            "grid_template_areas": null,
            "grid_template_columns": null,
            "grid_template_rows": null,
            "height": null,
            "justify_content": null,
            "justify_items": null,
            "left": null,
            "margin": null,
            "max_height": null,
            "max_width": null,
            "min_height": null,
            "min_width": null,
            "object_fit": null,
            "object_position": null,
            "order": null,
            "overflow": null,
            "overflow_x": null,
            "overflow_y": null,
            "padding": null,
            "right": null,
            "top": null,
            "visibility": null,
            "width": null
          }
        },
        "1b04bd211784452bbd745a7634a2b803": {
          "model_module": "@jupyter-widgets/base",
          "model_module_version": "1.2.0",
          "model_name": "LayoutModel",
          "state": {
            "_model_module": "@jupyter-widgets/base",
            "_model_module_version": "1.2.0",
            "_model_name": "LayoutModel",
            "_view_count": null,
            "_view_module": "@jupyter-widgets/base",
            "_view_module_version": "1.2.0",
            "_view_name": "LayoutView",
            "align_content": null,
            "align_items": null,
            "align_self": null,
            "border": null,
            "bottom": null,
            "display": null,
            "flex": null,
            "flex_flow": null,
            "grid_area": null,
            "grid_auto_columns": null,
            "grid_auto_flow": null,
            "grid_auto_rows": null,
            "grid_column": null,
            "grid_gap": null,
            "grid_row": null,
            "grid_template_areas": null,
            "grid_template_columns": null,
            "grid_template_rows": null,
            "height": null,
            "justify_content": null,
            "justify_items": null,
            "left": null,
            "margin": null,
            "max_height": null,
            "max_width": null,
            "min_height": null,
            "min_width": null,
            "object_fit": null,
            "object_position": null,
            "order": null,
            "overflow": null,
            "overflow_x": null,
            "overflow_y": null,
            "padding": null,
            "right": null,
            "top": null,
            "visibility": null,
            "width": null
          }
        },
        "32793008655f452196f3efaf64466774": {
          "model_module": "@jupyter-widgets/controls",
          "model_module_version": "1.5.0",
          "model_name": "DescriptionStyleModel",
          "state": {
            "_model_module": "@jupyter-widgets/controls",
            "_model_module_version": "1.5.0",
            "_model_name": "DescriptionStyleModel",
            "_view_count": null,
            "_view_module": "@jupyter-widgets/base",
            "_view_module_version": "1.2.0",
            "_view_name": "StyleView",
            "description_width": ""
          }
        },
        "35b61d186e07401183db959f6d77b9e2": {
          "model_module": "@jupyter-widgets/controls",
          "model_module_version": "1.5.0",
          "model_name": "HTMLModel",
          "state": {
            "_dom_classes": [],
            "_model_module": "@jupyter-widgets/controls",
            "_model_module_version": "1.5.0",
            "_model_name": "HTMLModel",
            "_view_count": null,
            "_view_module": "@jupyter-widgets/controls",
            "_view_module_version": "1.5.0",
            "_view_name": "HTMLView",
            "description": "",
            "description_tooltip": null,
            "layout": "IPY_MODEL_18c37462862d401bb420eacd389bdc17",
            "placeholder": "​",
            "style": "IPY_MODEL_4501987830ad4a0b94112aa84ef4c95c",
            "value": " 66/66 [00:02&lt;00:00, 36.15it/s]"
          }
        },
        "4501987830ad4a0b94112aa84ef4c95c": {
          "model_module": "@jupyter-widgets/controls",
          "model_module_version": "1.5.0",
          "model_name": "DescriptionStyleModel",
          "state": {
            "_model_module": "@jupyter-widgets/controls",
            "_model_module_version": "1.5.0",
            "_model_name": "DescriptionStyleModel",
            "_view_count": null,
            "_view_module": "@jupyter-widgets/base",
            "_view_module_version": "1.2.0",
            "_view_name": "StyleView",
            "description_width": ""
          }
        },
        "5b87bf1a685e4a01b079c085a3f5ebd6": {
          "model_module": "@jupyter-widgets/base",
          "model_module_version": "1.2.0",
          "model_name": "LayoutModel",
          "state": {
            "_model_module": "@jupyter-widgets/base",
            "_model_module_version": "1.2.0",
            "_model_name": "LayoutModel",
            "_view_count": null,
            "_view_module": "@jupyter-widgets/base",
            "_view_module_version": "1.2.0",
            "_view_name": "LayoutView",
            "align_content": null,
            "align_items": null,
            "align_self": null,
            "border": null,
            "bottom": null,
            "display": null,
            "flex": null,
            "flex_flow": null,
            "grid_area": null,
            "grid_auto_columns": null,
            "grid_auto_flow": null,
            "grid_auto_rows": null,
            "grid_column": null,
            "grid_gap": null,
            "grid_row": null,
            "grid_template_areas": null,
            "grid_template_columns": null,
            "grid_template_rows": null,
            "height": null,
            "justify_content": null,
            "justify_items": null,
            "left": null,
            "margin": null,
            "max_height": null,
            "max_width": null,
            "min_height": null,
            "min_width": null,
            "object_fit": null,
            "object_position": null,
            "order": null,
            "overflow": null,
            "overflow_x": null,
            "overflow_y": null,
            "padding": null,
            "right": null,
            "top": null,
            "visibility": null,
            "width": null
          }
        },
        "93d5de1dfe85433d986521c0ee3de010": {
          "model_module": "@jupyter-widgets/controls",
          "model_module_version": "1.5.0",
          "model_name": "HTMLModel",
          "state": {
            "_dom_classes": [],
            "_model_module": "@jupyter-widgets/controls",
            "_model_module_version": "1.5.0",
            "_model_name": "HTMLModel",
            "_view_count": null,
            "_view_module": "@jupyter-widgets/controls",
            "_view_module_version": "1.5.0",
            "_view_name": "HTMLView",
            "description": "",
            "description_tooltip": null,
            "layout": "IPY_MODEL_09418db9ce06434599e1c467f71db1d0",
            "placeholder": "​",
            "style": "IPY_MODEL_32793008655f452196f3efaf64466774",
            "value": "Batches: 100%"
          }
        },
        "9dd66f6ca8f14f47a898423416694938": {
          "model_module": "@jupyter-widgets/controls",
          "model_module_version": "1.5.0",
          "model_name": "HBoxModel",
          "state": {
            "_dom_classes": [],
            "_model_module": "@jupyter-widgets/controls",
            "_model_module_version": "1.5.0",
            "_model_name": "HBoxModel",
            "_view_count": null,
            "_view_module": "@jupyter-widgets/controls",
            "_view_module_version": "1.5.0",
            "_view_name": "HBoxView",
            "box_style": "",
            "children": [
              "IPY_MODEL_93d5de1dfe85433d986521c0ee3de010",
              "IPY_MODEL_c680502461f741be80d8d9743763c93e",
              "IPY_MODEL_35b61d186e07401183db959f6d77b9e2"
            ],
            "layout": "IPY_MODEL_1b04bd211784452bbd745a7634a2b803"
          }
        },
        "c680502461f741be80d8d9743763c93e": {
          "model_module": "@jupyter-widgets/controls",
          "model_module_version": "1.5.0",
          "model_name": "FloatProgressModel",
          "state": {
            "_dom_classes": [],
            "_model_module": "@jupyter-widgets/controls",
            "_model_module_version": "1.5.0",
            "_model_name": "FloatProgressModel",
            "_view_count": null,
            "_view_module": "@jupyter-widgets/controls",
            "_view_module_version": "1.5.0",
            "_view_name": "ProgressView",
            "bar_style": "success",
            "description": "",
            "description_tooltip": null,
            "layout": "IPY_MODEL_5b87bf1a685e4a01b079c085a3f5ebd6",
            "max": 66,
            "min": 0,
            "orientation": "horizontal",
            "style": "IPY_MODEL_cb210bb8bd59403bbb85a3b42643730c",
            "value": 66
          }
        },
        "cb210bb8bd59403bbb85a3b42643730c": {
          "model_module": "@jupyter-widgets/controls",
          "model_module_version": "1.5.0",
          "model_name": "ProgressStyleModel",
          "state": {
            "_model_module": "@jupyter-widgets/controls",
            "_model_module_version": "1.5.0",
            "_model_name": "ProgressStyleModel",
            "_view_count": null,
            "_view_module": "@jupyter-widgets/base",
            "_view_module_version": "1.2.0",
            "_view_name": "StyleView",
            "bar_color": null,
            "description_width": ""
          }
        }
      }
    }
  },
  "nbformat": 4,
  "nbformat_minor": 0
}
