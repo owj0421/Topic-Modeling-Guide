{
  "cells": [
    {
      "cell_type": "markdown",
      "metadata": {
        "id": "7-3FZPKPbL-C"
      },
      "source": [
        "# **Top2Vec 실습**"
      ]
    },
    {
      "cell_type": "markdown",
      "metadata": {
        "id": "3gBYz_Lq-GsY"
      },
      "source": [
        "이번 노트북에서는 Top2Vec 모델을 한국어에 맞춰 사용할 수 있도록 Customizing한 후 인퍼런스 할 예정입니다. Top2Vec은 기본적으로 제공하는 시각화 툴이 없고 매우 불친절하므로, 해당 부분은 생략하도록 하겠습니다."
      ]
    },
    {
      "cell_type": "markdown",
      "metadata": {
        "id": "3XB32SCRCorU"
      },
      "source": [
        "## **1 - 준비작업**"
      ]
    },
    {
      "cell_type": "markdown",
      "metadata": {
        "id": "1VZP03BWjW34"
      },
      "source": [
        "### **1.1 - 라이브러리 설치**\n",
        "필요한 라이브러리를 설치합니다. 별도로 수정하지 말아주세요."
      ]
    },
    {
      "cell_type": "code",
      "execution_count": 27,
      "metadata": {
        "colab": {
          "base_uri": "https://localhost:8080/"
        },
        "id": "P8TcQd7ibL-F",
        "outputId": "c7841960-c46a-478a-b57a-e0242ae1e611"
      },
      "outputs": [
        {
          "name": "stdout",
          "output_type": "stream",
          "text": [
            "Requirement already satisfied: top2vec in c:\\users\\owj04\\anaconda3\\envs\\aiku\\lib\\site-packages (1.0.34)\n",
            "Requirement already satisfied: numpy>=1.20.0 in c:\\users\\owj04\\anaconda3\\envs\\aiku\\lib\\site-packages (from top2vec) (1.24.3)\n",
            "Requirement already satisfied: pandas in c:\\users\\owj04\\anaconda3\\envs\\aiku\\lib\\site-packages (from top2vec) (1.5.3)\n",
            "Requirement already satisfied: scikit-learn>=1.2.0 in c:\\users\\owj04\\anaconda3\\envs\\aiku\\lib\\site-packages (from top2vec) (1.2.0)\n",
            "Requirement already satisfied: gensim>=4.0.0 in c:\\users\\owj04\\anaconda3\\envs\\aiku\\lib\\site-packages (from top2vec) (4.2.0)\n",
            "Requirement already satisfied: umap-learn>=0.5.1 in c:\\users\\owj04\\anaconda3\\envs\\aiku\\lib\\site-packages (from top2vec) (0.5.5)\n",
            "Requirement already satisfied: hdbscan>=0.8.27 in c:\\users\\owj04\\anaconda3\\envs\\aiku\\lib\\site-packages (from top2vec) (0.8.33)\n",
            "Requirement already satisfied: wordcloud in c:\\users\\owj04\\anaconda3\\envs\\aiku\\lib\\site-packages (from top2vec) (1.9.2)\n",
            "Requirement already satisfied: scipy>=0.18.1 in c:\\users\\owj04\\anaconda3\\envs\\aiku\\lib\\site-packages (from gensim>=4.0.0->top2vec) (1.10.1)\n",
            "Requirement already satisfied: smart-open>=1.8.1 in c:\\users\\owj04\\anaconda3\\envs\\aiku\\lib\\site-packages (from gensim>=4.0.0->top2vec) (6.4.0)\n",
            "Requirement already satisfied: Cython==0.29.28 in c:\\users\\owj04\\anaconda3\\envs\\aiku\\lib\\site-packages (from gensim>=4.0.0->top2vec) (0.29.28)\n",
            "Requirement already satisfied: joblib>=1.0 in c:\\users\\owj04\\anaconda3\\envs\\aiku\\lib\\site-packages (from hdbscan>=0.8.27->top2vec) (1.2.0)\n",
            "Requirement already satisfied: threadpoolctl>=2.0.0 in c:\\users\\owj04\\anaconda3\\envs\\aiku\\lib\\site-packages (from scikit-learn>=1.2.0->top2vec) (2.2.0)\n",
            "Requirement already satisfied: numba>=0.51.2 in c:\\users\\owj04\\anaconda3\\envs\\aiku\\lib\\site-packages (from umap-learn>=0.5.1->top2vec) (0.58.0)\n",
            "Requirement already satisfied: pynndescent>=0.5 in c:\\users\\owj04\\anaconda3\\envs\\aiku\\lib\\site-packages (from umap-learn>=0.5.1->top2vec) (0.5.11)\n",
            "Requirement already satisfied: tqdm in c:\\users\\owj04\\anaconda3\\envs\\aiku\\lib\\site-packages (from umap-learn>=0.5.1->top2vec) (4.64.1)\n",
            "Requirement already satisfied: python-dateutil>=2.8.1 in c:\\users\\owj04\\anaconda3\\envs\\aiku\\lib\\site-packages (from pandas->top2vec) (2.8.2)\n",
            "Requirement already satisfied: pytz>=2020.1 in c:\\users\\owj04\\anaconda3\\envs\\aiku\\lib\\site-packages (from pandas->top2vec) (2022.7)\n",
            "Requirement already satisfied: pillow in c:\\users\\owj04\\anaconda3\\envs\\aiku\\lib\\site-packages (from wordcloud->top2vec) (9.4.0)\n",
            "Requirement already satisfied: matplotlib in c:\\users\\owj04\\appdata\\roaming\\python\\python39\\site-packages (from wordcloud->top2vec) (3.6.0)\n",
            "Requirement already satisfied: llvmlite<0.42,>=0.41.0dev0 in c:\\users\\owj04\\anaconda3\\envs\\aiku\\lib\\site-packages (from numba>=0.51.2->umap-learn>=0.5.1->top2vec) (0.41.0)\n",
            "Requirement already satisfied: six>=1.5 in c:\\users\\owj04\\anaconda3\\envs\\aiku\\lib\\site-packages (from python-dateutil>=2.8.1->pandas->top2vec) (1.16.0)\n",
            "Requirement already satisfied: contourpy>=1.0.1 in c:\\users\\owj04\\anaconda3\\envs\\aiku\\lib\\site-packages (from matplotlib->wordcloud->top2vec) (1.0.5)\n",
            "Requirement already satisfied: cycler>=0.10 in c:\\users\\owj04\\anaconda3\\envs\\aiku\\lib\\site-packages (from matplotlib->wordcloud->top2vec) (0.11.0)\n",
            "Requirement already satisfied: fonttools>=4.22.0 in c:\\users\\owj04\\anaconda3\\envs\\aiku\\lib\\site-packages (from matplotlib->wordcloud->top2vec) (4.25.0)\n",
            "Requirement already satisfied: kiwisolver>=1.0.1 in c:\\users\\owj04\\anaconda3\\envs\\aiku\\lib\\site-packages (from matplotlib->wordcloud->top2vec) (1.4.4)\n",
            "Requirement already satisfied: packaging>=20.0 in c:\\users\\owj04\\anaconda3\\envs\\aiku\\lib\\site-packages (from matplotlib->wordcloud->top2vec) (23.0)\n",
            "Requirement already satisfied: pyparsing>=2.2.1 in c:\\users\\owj04\\anaconda3\\envs\\aiku\\lib\\site-packages (from matplotlib->wordcloud->top2vec) (3.0.9)\n",
            "Requirement already satisfied: colorama in c:\\users\\owj04\\anaconda3\\envs\\aiku\\lib\\site-packages (from tqdm->umap-learn>=0.5.1->top2vec) (0.4.6)\n"
          ]
        },
        {
          "name": "stderr",
          "output_type": "stream",
          "text": [
            "WARNING: Ignoring invalid distribution -cipy (c:\\users\\owj04\\anaconda3\\envs\\aiku\\lib\\site-packages)\n",
            "WARNING: Ignoring invalid distribution -cipy (c:\\users\\owj04\\anaconda3\\envs\\aiku\\lib\\site-packages)\n"
          ]
        },
        {
          "name": "stdout",
          "output_type": "stream",
          "text": [
            "^C\n",
            "Requirement already satisfied: top2vec[sentence_transformers] in c:\\users\\owj04\\anaconda3\\envs\\aiku\\lib\\site-packages (1.0.34)\n",
            "Requirement already satisfied: numpy>=1.20.0 in c:\\users\\owj04\\anaconda3\\envs\\aiku\\lib\\site-packages (from top2vec[sentence_transformers]) (1.24.3)\n",
            "Requirement already satisfied: pandas in c:\\users\\owj04\\anaconda3\\envs\\aiku\\lib\\site-packages (from top2vec[sentence_transformers]) (1.5.3)\n",
            "Requirement already satisfied: scikit-learn>=1.2.0 in c:\\users\\owj04\\anaconda3\\envs\\aiku\\lib\\site-packages (from top2vec[sentence_transformers]) (1.2.0)\n",
            "Requirement already satisfied: gensim>=4.0.0 in c:\\users\\owj04\\anaconda3\\envs\\aiku\\lib\\site-packages (from top2vec[sentence_transformers]) (4.2.0)\n",
            "Requirement already satisfied: umap-learn>=0.5.1 in c:\\users\\owj04\\anaconda3\\envs\\aiku\\lib\\site-packages (from top2vec[sentence_transformers]) (0.5.5)\n",
            "Requirement already satisfied: hdbscan>=0.8.27 in c:\\users\\owj04\\anaconda3\\envs\\aiku\\lib\\site-packages (from top2vec[sentence_transformers]) (0.8.33)\n",
            "Requirement already satisfied: wordcloud in c:\\users\\owj04\\anaconda3\\envs\\aiku\\lib\\site-packages (from top2vec[sentence_transformers]) (1.9.2)\n",
            "Requirement already satisfied: torch in c:\\users\\owj04\\anaconda3\\envs\\aiku\\lib\\site-packages (from top2vec[sentence_transformers]) (1.12.1+cu116)\n",
            "Requirement already satisfied: sentence-transformers in c:\\users\\owj04\\anaconda3\\envs\\aiku\\lib\\site-packages (from top2vec[sentence_transformers]) (2.3.1)\n",
            "Requirement already satisfied: scipy>=0.18.1 in c:\\users\\owj04\\anaconda3\\envs\\aiku\\lib\\site-packages (from gensim>=4.0.0->top2vec[sentence_transformers]) (1.10.1)\n",
            "Requirement already satisfied: smart-open>=1.8.1 in c:\\users\\owj04\\anaconda3\\envs\\aiku\\lib\\site-packages (from gensim>=4.0.0->top2vec[sentence_transformers]) (6.4.0)\n",
            "Requirement already satisfied: Cython==0.29.28 in c:\\users\\owj04\\anaconda3\\envs\\aiku\\lib\\site-packages (from gensim>=4.0.0->top2vec[sentence_transformers]) (0.29.28)\n",
            "Requirement already satisfied: joblib>=1.0 in c:\\users\\owj04\\anaconda3\\envs\\aiku\\lib\\site-packages (from hdbscan>=0.8.27->top2vec[sentence_transformers]) (1.2.0)\n",
            "Requirement already satisfied: threadpoolctl>=2.0.0 in c:\\users\\owj04\\anaconda3\\envs\\aiku\\lib\\site-packages (from scikit-learn>=1.2.0->top2vec[sentence_transformers]) (2.2.0)\n",
            "Requirement already satisfied: numba>=0.51.2 in c:\\users\\owj04\\anaconda3\\envs\\aiku\\lib\\site-packages (from umap-learn>=0.5.1->top2vec[sentence_transformers]) (0.58.0)\n",
            "Requirement already satisfied: pynndescent>=0.5 in c:\\users\\owj04\\anaconda3\\envs\\aiku\\lib\\site-packages (from umap-learn>=0.5.1->top2vec[sentence_transformers]) (0.5.11)\n",
            "Requirement already satisfied: tqdm in c:\\users\\owj04\\anaconda3\\envs\\aiku\\lib\\site-packages (from umap-learn>=0.5.1->top2vec[sentence_transformers]) (4.64.1)\n",
            "Requirement already satisfied: python-dateutil>=2.8.1 in c:\\users\\owj04\\anaconda3\\envs\\aiku\\lib\\site-packages (from pandas->top2vec[sentence_transformers]) (2.8.2)\n",
            "Requirement already satisfied: pytz>=2020.1 in c:\\users\\owj04\\anaconda3\\envs\\aiku\\lib\\site-packages (from pandas->top2vec[sentence_transformers]) (2022.7)\n",
            "Requirement already satisfied: transformers<5.0.0,>=4.32.0 in c:\\users\\owj04\\anaconda3\\envs\\aiku\\lib\\site-packages (from sentence-transformers->top2vec[sentence_transformers]) (4.37.2)\n",
            "Requirement already satisfied: nltk in c:\\users\\owj04\\anaconda3\\envs\\aiku\\lib\\site-packages (from sentence-transformers->top2vec[sentence_transformers]) (3.7)\n",
            "Requirement already satisfied: sentencepiece in c:\\users\\owj04\\anaconda3\\envs\\aiku\\lib\\site-packages (from sentence-transformers->top2vec[sentence_transformers]) (0.1.99)\n",
            "Requirement already satisfied: huggingface-hub>=0.15.1 in c:\\users\\owj04\\anaconda3\\envs\\aiku\\lib\\site-packages (from sentence-transformers->top2vec[sentence_transformers]) (0.20.3)\n",
            "Requirement already satisfied: Pillow in c:\\users\\owj04\\anaconda3\\envs\\aiku\\lib\\site-packages (from sentence-transformers->top2vec[sentence_transformers]) (9.4.0)\n",
            "Requirement already satisfied: typing-extensions in c:\\users\\owj04\\anaconda3\\envs\\aiku\\lib\\site-packages (from torch->top2vec[sentence_transformers]) (4.6.3)\n",
            "Requirement already satisfied: matplotlib in c:\\users\\owj04\\appdata\\roaming\\python\\python39\\site-packages (from wordcloud->top2vec[sentence_transformers]) (3.6.0)\n",
            "Requirement already satisfied: filelock in c:\\users\\owj04\\anaconda3\\envs\\aiku\\lib\\site-packages (from huggingface-hub>=0.15.1->sentence-transformers->top2vec[sentence_transformers]) (3.9.0)\n",
            "Requirement already satisfied: fsspec>=2023.5.0 in c:\\users\\owj04\\anaconda3\\envs\\aiku\\lib\\site-packages (from huggingface-hub>=0.15.1->sentence-transformers->top2vec[sentence_transformers]) (2024.2.0)\n",
            "Requirement already satisfied: requests in c:\\users\\owj04\\anaconda3\\envs\\aiku\\lib\\site-packages (from huggingface-hub>=0.15.1->sentence-transformers->top2vec[sentence_transformers]) (2.29.0)\n",
            "Requirement already satisfied: pyyaml>=5.1 in c:\\users\\owj04\\anaconda3\\envs\\aiku\\lib\\site-packages (from huggingface-hub>=0.15.1->sentence-transformers->top2vec[sentence_transformers]) (6.0)\n",
            "Requirement already satisfied: packaging>=20.9 in c:\\users\\owj04\\anaconda3\\envs\\aiku\\lib\\site-packages (from huggingface-hub>=0.15.1->sentence-transformers->top2vec[sentence_transformers]) (23.0)\n",
            "Requirement already satisfied: llvmlite<0.42,>=0.41.0dev0 in c:\\users\\owj04\\anaconda3\\envs\\aiku\\lib\\site-packages (from numba>=0.51.2->umap-learn>=0.5.1->top2vec[sentence_transformers]) (0.41.0)\n",
            "Requirement already satisfied: six>=1.5 in c:\\users\\owj04\\anaconda3\\envs\\aiku\\lib\\site-packages (from python-dateutil>=2.8.1->pandas->top2vec[sentence_transformers]) (1.16.0)\n",
            "Requirement already satisfied: colorama in c:\\users\\owj04\\anaconda3\\envs\\aiku\\lib\\site-packages (from tqdm->umap-learn>=0.5.1->top2vec[sentence_transformers]) (0.4.6)\n",
            "Requirement already satisfied: regex!=2019.12.17 in c:\\users\\owj04\\anaconda3\\envs\\aiku\\lib\\site-packages (from transformers<5.0.0,>=4.32.0->sentence-transformers->top2vec[sentence_transformers]) (2022.7.9)\n",
            "Requirement already satisfied: tokenizers<0.19,>=0.14 in c:\\users\\owj04\\anaconda3\\envs\\aiku\\lib\\site-packages (from transformers<5.0.0,>=4.32.0->sentence-transformers->top2vec[sentence_transformers]) (0.15.2)\n",
            "Requirement already satisfied: safetensors>=0.4.1 in c:\\users\\owj04\\anaconda3\\envs\\aiku\\lib\\site-packages (from transformers<5.0.0,>=4.32.0->sentence-transformers->top2vec[sentence_transformers]) (0.4.2)\n",
            "Requirement already satisfied: contourpy>=1.0.1 in c:\\users\\owj04\\anaconda3\\envs\\aiku\\lib\\site-packages (from matplotlib->wordcloud->top2vec[sentence_transformers]) (1.0.5)\n",
            "Requirement already satisfied: cycler>=0.10 in c:\\users\\owj04\\anaconda3\\envs\\aiku\\lib\\site-packages (from matplotlib->wordcloud->top2vec[sentence_transformers]) (0.11.0)\n",
            "Requirement already satisfied: fonttools>=4.22.0 in c:\\users\\owj04\\anaconda3\\envs\\aiku\\lib\\site-packages (from matplotlib->wordcloud->top2vec[sentence_transformers]) (4.25.0)\n",
            "Requirement already satisfied: kiwisolver>=1.0.1 in c:\\users\\owj04\\anaconda3\\envs\\aiku\\lib\\site-packages (from matplotlib->wordcloud->top2vec[sentence_transformers]) (1.4.4)\n",
            "Requirement already satisfied: pyparsing>=2.2.1 in c:\\users\\owj04\\anaconda3\\envs\\aiku\\lib\\site-packages (from matplotlib->wordcloud->top2vec[sentence_transformers]) (3.0.9)\n",
            "Requirement already satisfied: click in c:\\users\\owj04\\anaconda3\\envs\\aiku\\lib\\site-packages (from nltk->sentence-transformers->top2vec[sentence_transformers]) (8.1.3)\n",
            "Requirement already satisfied: charset-normalizer<4,>=2 in c:\\users\\owj04\\anaconda3\\envs\\aiku\\lib\\site-packages (from requests->huggingface-hub>=0.15.1->sentence-transformers->top2vec[sentence_transformers]) (2.0.4)\n",
            "Requirement already satisfied: idna<4,>=2.5 in c:\\users\\owj04\\anaconda3\\envs\\aiku\\lib\\site-packages (from requests->huggingface-hub>=0.15.1->sentence-transformers->top2vec[sentence_transformers]) (3.4)\n",
            "Requirement already satisfied: urllib3<1.27,>=1.21.1 in c:\\users\\owj04\\anaconda3\\envs\\aiku\\lib\\site-packages (from requests->huggingface-hub>=0.15.1->sentence-transformers->top2vec[sentence_transformers]) (1.26.16)\n",
            "Requirement already satisfied: certifi>=2017.4.17 in c:\\users\\owj04\\anaconda3\\envs\\aiku\\lib\\site-packages (from requests->huggingface-hub>=0.15.1->sentence-transformers->top2vec[sentence_transformers]) (2024.2.2)\n"
          ]
        },
        {
          "name": "stderr",
          "output_type": "stream",
          "text": [
            "WARNING: Ignoring invalid distribution -cipy (c:\\users\\owj04\\anaconda3\\envs\\aiku\\lib\\site-packages)\n",
            "WARNING: top2vec 1.0.34 does not provide the extra 'sentence-transformers'\n",
            "WARNING: Ignoring invalid distribution -cipy (c:\\users\\owj04\\anaconda3\\envs\\aiku\\lib\\site-packages)\n"
          ]
        }
      ],
      "source": [
        "!pip install top2vec\n",
        "!pip install konlpy\n",
        "\n",
        "!pip install top2vec[sentence_encoders]\n",
        "!pip install top2vec[sentence_transformers]\n",
        "!pip install top2vec[indexing]"
      ]
    },
    {
      "cell_type": "markdown",
      "metadata": {
        "id": "1HODn92Xjd-9"
      },
      "source": [
        "### **1.2 - 라이브러리 불러오기**\n",
        "필요한 라이브러리를 불러옵니다. 별도로 수정하지 말아주세요."
      ]
    },
    {
      "cell_type": "code",
      "execution_count": 1,
      "metadata": {
        "id": "qHmuiJ2hbL-G"
      },
      "outputs": [],
      "source": [
        "import os\n",
        "import csv\n",
        "import numpy as np\n",
        "import random\n",
        "import torch\n",
        "import pandas as pd\n",
        "from tqdm import tqdm\n",
        "\n",
        "from sklearn.feature_extraction.text import CountVectorizer, TfidfVectorizer\n",
        "\n",
        "from top2vec import Top2Vec\n",
        "from sentence_transformers import SentenceTransformer\n",
        "\n",
        "from konlpy.tag import Kkma, Komoran\n",
        "\n",
        "from typing import List, Tuple, Dict, Literal, Optional, Callable"
      ]
    },
    {
      "cell_type": "markdown",
      "metadata": {
        "id": "ndprB9MKl66J"
      },
      "source": [
        "### **1.3 - Seed 고정**\n",
        "결과를 일정하게 유지하기 위해 모든 SEED를 고정합니다. 별도로 수정하지 말아주세요."
      ]
    },
    {
      "cell_type": "code",
      "execution_count": 2,
      "metadata": {
        "id": "z9iAwfyhl80p"
      },
      "outputs": [],
      "source": [
        "def seed_everything(seed: int = 42):\n",
        "    random.seed(seed)\n",
        "    np.random.seed(seed)\n",
        "    os.environ[\"PYTHONHASHSEED\"] = str(seed)\n",
        "    torch.manual_seed(seed)\n",
        "    torch.cuda.manual_seed(seed)  # type: ignore\n",
        "    torch.backends.cudnn.deterministic = True  # type: ignore\n",
        "    torch.backends.cudnn.benchmark = True  # type: ignore\n",
        "\n",
        "seed_everything()"
      ]
    },
    {
      "cell_type": "markdown",
      "metadata": {
        "id": "A_dIm2YTjclv"
      },
      "source": [
        "### **1.4 - Colab**\n",
        "코랩에 접근하기 위해 실행합니다. 그 전에, Colab 폴더에 코드와 데이터셋을 올바르게 넣었는지 확인해주세요."
      ]
    },
    {
      "cell_type": "code",
      "execution_count": 3,
      "metadata": {
        "colab": {
          "base_uri": "https://localhost:8080/"
        },
        "id": "SaIHJFKtjhpA",
        "outputId": "c0c760ed-c2e7-4177-9fd6-48855f4eaf90"
      },
      "outputs": [
        {
          "ename": "ModuleNotFoundError",
          "evalue": "No module named 'google.colab'",
          "output_type": "error",
          "traceback": [
            "\u001b[1;31m---------------------------------------------------------------------------\u001b[0m",
            "\u001b[1;31mModuleNotFoundError\u001b[0m                       Traceback (most recent call last)",
            "Cell \u001b[1;32mIn[3], line 1\u001b[0m\n\u001b[1;32m----> 1\u001b[0m \u001b[38;5;28;01mfrom\u001b[39;00m \u001b[38;5;21;01mgoogle\u001b[39;00m\u001b[38;5;21;01m.\u001b[39;00m\u001b[38;5;21;01mcolab\u001b[39;00m \u001b[38;5;28;01mimport\u001b[39;00m drive\n\u001b[0;32m      2\u001b[0m drive\u001b[38;5;241m.\u001b[39mmount(\u001b[38;5;124m'\u001b[39m\u001b[38;5;124m/content/drive\u001b[39m\u001b[38;5;124m'\u001b[39m)\n",
            "\u001b[1;31mModuleNotFoundError\u001b[0m: No module named 'google.colab'"
          ]
        }
      ],
      "source": [
        "from google.colab import drive\n",
        "drive.mount('/content/drive')"
      ]
    },
    {
      "cell_type": "markdown",
      "metadata": {
        "id": "LqnfsLXCbL-G"
      },
      "source": [
        "## **2 - 데이터셋**"
      ]
    },
    {
      "cell_type": "markdown",
      "metadata": {
        "id": "GQngh74dC_wy"
      },
      "source": [
        "### **2.1 - 데이터셋 로드**\n",
        "데이터셋을 드라이브에서 불러옵니다."
      ]
    },
    {
      "cell_type": "code",
      "execution_count": 4,
      "metadata": {
        "id": "w99UW6AAbL-H"
      },
      "outputs": [],
      "source": [
        "PATH = './datasets/원자력+원전+탈원전_news_df.xlsx'\n",
        "df1 = pd.read_excel(PATH)\n",
        "\n",
        "PATH = './datasets/사설_반대.xlsx'\n",
        "df2 = pd.read_excel(PATH)\n",
        "\n",
        "PATH = './datasets/고리+신한울+새울+월성+신월성_news_df.xlsx'\n",
        "df3 = pd.read_excel(PATH)\n",
        "\n",
        "# df = pd.concat([df1, df2, df3], axis=0)\n",
        "\n",
        "df = df2"
      ]
    },
    {
      "cell_type": "markdown",
      "metadata": {
        "id": "0o9Bu5DGC-su"
      },
      "source": [
        "미리보기"
      ]
    },
    {
      "cell_type": "code",
      "execution_count": 5,
      "metadata": {
        "colab": {
          "base_uri": "https://localhost:8080/",
          "height": 206
        },
        "id": "Mm6v33nM8JC8",
        "outputId": "37b3f79e-e8b7-4a4d-f78d-2d2de8d77c18"
      },
      "outputs": [
        {
          "data": {
            "text/html": [
              "<div>\n",
              "<style scoped>\n",
              "    .dataframe tbody tr th:only-of-type {\n",
              "        vertical-align: middle;\n",
              "    }\n",
              "\n",
              "    .dataframe tbody tr th {\n",
              "        vertical-align: top;\n",
              "    }\n",
              "\n",
              "    .dataframe thead th {\n",
              "        text-align: right;\n",
              "    }\n",
              "</style>\n",
              "<table border=\"1\" class=\"dataframe\">\n",
              "  <thead>\n",
              "    <tr style=\"text-align: right;\">\n",
              "      <th></th>\n",
              "      <th>news_title</th>\n",
              "      <th>news_date</th>\n",
              "      <th>news_company</th>\n",
              "      <th>news_body</th>\n",
              "    </tr>\n",
              "  </thead>\n",
              "  <tbody>\n",
              "    <tr>\n",
              "      <th>0</th>\n",
              "      <td>[사설] `탈원전`, 방향은 맞지만 부작용 최소화해야</td>\n",
              "      <td>2017-05-29</td>\n",
              "      <td>디지털타임스</td>\n",
              "      <td>29일 국정기획자문위원회 이개호 경제2분과 위원장이 원자력안전위원회(원안위)에 원전...</td>\n",
              "    </tr>\n",
              "    <tr>\n",
              "      <th>1</th>\n",
              "      <td>[사설] 탈원전·석탄 조급증…안전하면서 값싼 전기는 없다</td>\n",
              "      <td>2017-05-30</td>\n",
              "      <td>한국경제</td>\n",
              "      <td>문재인 정부의 에너지정책이 탈(脫)원전, 탈화력발전으로 급선회하고 있다. 그제 국정...</td>\n",
              "    </tr>\n",
              "    <tr>\n",
              "      <th>2</th>\n",
              "      <td>[fn사설] 새 정부 탈원전 정책 우려 새겨 들어야</td>\n",
              "      <td>2017-06-01</td>\n",
              "      <td>파이낸셜뉴스</td>\n",
              "      <td>전문가 200명 비판 성명 방향 맞지만 너무 서둘러     에너지 분야 전문가들이 ...</td>\n",
              "    </tr>\n",
              "    <tr>\n",
              "      <th>3</th>\n",
              "      <td>[사설] 탈원전…정규직화…'밀어붙이기 정책'에서 놓치는 것들</td>\n",
              "      <td>2017-06-01</td>\n",
              "      <td>한국경제</td>\n",
              "      <td>교수 230명 성명 \"에너지정책 전문가 논의 절실\"일자리 해법, 누구나 비판하고 토...</td>\n",
              "    </tr>\n",
              "    <tr>\n",
              "      <th>4</th>\n",
              "      <td>&lt;사설&gt;성급한 脫원전은 電力안보 해친다는 전문가들의 우려</td>\n",
              "      <td>2017-06-02</td>\n",
              "      <td>문화일보</td>\n",
              "      <td>문재인 정부의 탈(脫)원전 정책에 대해 에너지 전문가들이 정면으로 비판하고 나섰다....</td>\n",
              "    </tr>\n",
              "  </tbody>\n",
              "</table>\n",
              "</div>"
            ],
            "text/plain": [
              "                          news_title   news_date news_company  \\\n",
              "0      [사설] `탈원전`, 방향은 맞지만 부작용 최소화해야  2017-05-29       디지털타임스   \n",
              "1    [사설] 탈원전·석탄 조급증…안전하면서 값싼 전기는 없다  2017-05-30         한국경제   \n",
              "2       [fn사설] 새 정부 탈원전 정책 우려 새겨 들어야  2017-06-01       파이낸셜뉴스   \n",
              "3  [사설] 탈원전…정규직화…'밀어붙이기 정책'에서 놓치는 것들  2017-06-01         한국경제   \n",
              "4    <사설>성급한 脫원전은 電力안보 해친다는 전문가들의 우려  2017-06-02         문화일보   \n",
              "\n",
              "                                           news_body  \n",
              "0  29일 국정기획자문위원회 이개호 경제2분과 위원장이 원자력안전위원회(원안위)에 원전...  \n",
              "1  문재인 정부의 에너지정책이 탈(脫)원전, 탈화력발전으로 급선회하고 있다. 그제 국정...  \n",
              "2  전문가 200명 비판 성명 방향 맞지만 너무 서둘러     에너지 분야 전문가들이 ...  \n",
              "3  교수 230명 성명 \"에너지정책 전문가 논의 절실\"일자리 해법, 누구나 비판하고 토...  \n",
              "4  문재인 정부의 탈(脫)원전 정책에 대해 에너지 전문가들이 정면으로 비판하고 나섰다....  "
            ]
          },
          "execution_count": 5,
          "metadata": {},
          "output_type": "execute_result"
        }
      ],
      "source": [
        "df.head()"
      ]
    },
    {
      "cell_type": "markdown",
      "metadata": {
        "id": "J6_lxg99bL-I"
      },
      "source": [
        "### **2.2 - 텍스트 전처리**\n",
        "해당 데이터는 크롤링된 데이터로, 올바른 결과를 위해서는 전처리가 필요합니다.\n",
        "뉴스 기사를 위한 전처리 코드는 https://colab.research.google.com/drive/1O42v6YzHbTo_l36VG1xGp0aEuA0J8M3V?usp=sharing#scrollTo=P7JBkNna1jze 에서 가져왔습니다."
      ]
    },
    {
      "cell_type": "code",
      "execution_count": 6,
      "metadata": {
        "id": "-soe0xvfbL-I"
      },
      "outputs": [],
      "source": [
        "df['news_title'] = df['news_title'].map(lambda x: str(x))"
      ]
    },
    {
      "cell_type": "code",
      "execution_count": 7,
      "metadata": {
        "id": "n5G4R8dMbL-I"
      },
      "outputs": [],
      "source": [
        "import re, unicodedata\n",
        "from string import whitespace\n",
        "pattern_whitespace = re.compile(f'[{whitespace}]+')\n",
        "\n",
        "df['news_title'] = df['news_title'].str.replace(pattern_whitespace, ' ').map(lambda x: unicodedata.normalize('NFC', x)).str.strip()\n"
      ]
    },
    {
      "cell_type": "code",
      "execution_count": 8,
      "metadata": {
        "id": "BV99udLsbL-J"
      },
      "outputs": [],
      "source": [
        "def clean_byline(text):\n",
        "    # byline\n",
        "    pattern_email = re.compile(r'[-_0-9a-z]+@[-_0-9a-z]+(?:\\.[0-9a-z]+)+', flags=re.IGNORECASE)\n",
        "    pattern_url = re.compile(r'(?:https?:\\/\\/)?[-_0-9a-z]+(?:\\.[-_0-9a-z]+)+', flags=re.IGNORECASE)\n",
        "    pattern_others = re.compile(r'\\.([^\\.]*(?:기자|특파원|교수|작가|대표|논설|고문|주필|부문장|팀장|장관|원장|연구원|이사장|위원|실장|차장|부장|에세이|화백|사설|소장|단장|과장|기획자|큐레이터|저작권|평론가|©|©|ⓒ|\\@|\\/|=|▶|무단|전재|재배포|금지|\\[|\\]|\\(\\))[^\\.]*)$')\n",
        "    result = pattern_email.sub('', text)\n",
        "    result = pattern_url.sub('', result)\n",
        "    result = pattern_others.sub('.', result)\n",
        "    pattern_bracket = re.compile(r'^((?:\\[.+\\])|(?:【.+】)|(?:<.+>)|(?:◆.+◆)\\s)')\n",
        "    result = pattern_bracket.sub('', result).strip()\n",
        "\n",
        "    return result\n",
        "\n",
        "df['news_title'] = df['news_title'].map(clean_byline)"
      ]
    },
    {
      "cell_type": "code",
      "execution_count": 9,
      "metadata": {
        "id": "Es7xUoZ1bL-J"
      },
      "outputs": [],
      "source": [
        "from string import whitespace, punctuation\n",
        "\n",
        "def text_filter(text):\n",
        "    punct_except_percent = ''.join([chr for chr in punctuation if chr != '%'])\n",
        "    whitespace_convert_pattern = re.compile(f'[{whitespace}{punct_except_percent}]+')\n",
        "    exclude_pattern = re.compile(r'[^\\% 0-9a-zA-Zㄱ-ㅣ가-힣]+')\n",
        "    result = whitespace_convert_pattern.sub(' ', text)\n",
        "    result = exclude_pattern.sub(' ', result).strip()\n",
        "    result = whitespace_convert_pattern.sub(' ', result)\n",
        "    return result\n",
        "\n",
        "df['news_title'] = df['news_title'].map(text_filter)"
      ]
    },
    {
      "cell_type": "markdown",
      "metadata": {
        "id": "bqw_8lxiDZon"
      },
      "source": [
        "전처리 후 결과 미리보기"
      ]
    },
    {
      "cell_type": "code",
      "execution_count": 10,
      "metadata": {
        "colab": {
          "base_uri": "https://localhost:8080/",
          "height": 206
        },
        "id": "izf1r4LRktJi",
        "outputId": "1e968db7-546d-4104-f126-49844c89afb0"
      },
      "outputs": [
        {
          "data": {
            "text/html": [
              "<div>\n",
              "<style scoped>\n",
              "    .dataframe tbody tr th:only-of-type {\n",
              "        vertical-align: middle;\n",
              "    }\n",
              "\n",
              "    .dataframe tbody tr th {\n",
              "        vertical-align: top;\n",
              "    }\n",
              "\n",
              "    .dataframe thead th {\n",
              "        text-align: right;\n",
              "    }\n",
              "</style>\n",
              "<table border=\"1\" class=\"dataframe\">\n",
              "  <thead>\n",
              "    <tr style=\"text-align: right;\">\n",
              "      <th></th>\n",
              "      <th>news_title</th>\n",
              "      <th>news_date</th>\n",
              "      <th>news_company</th>\n",
              "      <th>news_body</th>\n",
              "    </tr>\n",
              "  </thead>\n",
              "  <tbody>\n",
              "    <tr>\n",
              "      <th>0</th>\n",
              "      <td>탈원전 방향은 맞지만 부작용 최소화해야</td>\n",
              "      <td>2017-05-29</td>\n",
              "      <td>디지털타임스</td>\n",
              "      <td>29일 국정기획자문위원회 이개호 경제2분과 위원장이 원자력안전위원회(원안위)에 원전...</td>\n",
              "    </tr>\n",
              "    <tr>\n",
              "      <th>1</th>\n",
              "      <td>탈원전 석탄 조급증 안전하면서 값싼 전기는 없다</td>\n",
              "      <td>2017-05-30</td>\n",
              "      <td>한국경제</td>\n",
              "      <td>문재인 정부의 에너지정책이 탈(脫)원전, 탈화력발전으로 급선회하고 있다. 그제 국정...</td>\n",
              "    </tr>\n",
              "    <tr>\n",
              "      <th>2</th>\n",
              "      <td>새 정부 탈원전 정책 우려 새겨 들어야</td>\n",
              "      <td>2017-06-01</td>\n",
              "      <td>파이낸셜뉴스</td>\n",
              "      <td>전문가 200명 비판 성명 방향 맞지만 너무 서둘러     에너지 분야 전문가들이 ...</td>\n",
              "    </tr>\n",
              "    <tr>\n",
              "      <th>3</th>\n",
              "      <td>탈원전 정규직화 밀어붙이기 정책 에서 놓치는 것들</td>\n",
              "      <td>2017-06-01</td>\n",
              "      <td>한국경제</td>\n",
              "      <td>교수 230명 성명 \"에너지정책 전문가 논의 절실\"일자리 해법, 누구나 비판하고 토...</td>\n",
              "    </tr>\n",
              "    <tr>\n",
              "      <th>4</th>\n",
              "      <td>성급한 원전은 안보 해친다는 전문가들의 우려</td>\n",
              "      <td>2017-06-02</td>\n",
              "      <td>문화일보</td>\n",
              "      <td>문재인 정부의 탈(脫)원전 정책에 대해 에너지 전문가들이 정면으로 비판하고 나섰다....</td>\n",
              "    </tr>\n",
              "  </tbody>\n",
              "</table>\n",
              "</div>"
            ],
            "text/plain": [
              "                    news_title   news_date news_company  \\\n",
              "0        탈원전 방향은 맞지만 부작용 최소화해야  2017-05-29       디지털타임스   \n",
              "1   탈원전 석탄 조급증 안전하면서 값싼 전기는 없다  2017-05-30         한국경제   \n",
              "2        새 정부 탈원전 정책 우려 새겨 들어야  2017-06-01       파이낸셜뉴스   \n",
              "3  탈원전 정규직화 밀어붙이기 정책 에서 놓치는 것들  2017-06-01         한국경제   \n",
              "4     성급한 원전은 안보 해친다는 전문가들의 우려  2017-06-02         문화일보   \n",
              "\n",
              "                                           news_body  \n",
              "0  29일 국정기획자문위원회 이개호 경제2분과 위원장이 원자력안전위원회(원안위)에 원전...  \n",
              "1  문재인 정부의 에너지정책이 탈(脫)원전, 탈화력발전으로 급선회하고 있다. 그제 국정...  \n",
              "2  전문가 200명 비판 성명 방향 맞지만 너무 서둘러     에너지 분야 전문가들이 ...  \n",
              "3  교수 230명 성명 \"에너지정책 전문가 논의 절실\"일자리 해법, 누구나 비판하고 토...  \n",
              "4  문재인 정부의 탈(脫)원전 정책에 대해 에너지 전문가들이 정면으로 비판하고 나섰다....  "
            ]
          },
          "execution_count": 10,
          "metadata": {},
          "output_type": "execute_result"
        }
      ],
      "source": [
        "df.head()"
      ]
    },
    {
      "cell_type": "markdown",
      "metadata": {
        "id": "-LZ-IlICbL-J"
      },
      "source": [
        "## **3 - 모델**"
      ]
    },
    {
      "cell_type": "markdown",
      "metadata": {
        "id": "ve1sCy1-De9P"
      },
      "source": [
        "### **3.1 - 커스텀 토크나이저 설정**"
      ]
    },
    {
      "cell_type": "markdown",
      "metadata": {
        "id": "PWrFH0WBDhaM"
      },
      "source": [
        "Top2Vec에서 사용하는 Tokenizor는 Gensim의 simple prepreocessing을 사용하므로 띄어쓰기를 기준으로 토큰화를 진행합니다. 우리는 영어가 아닌 한국어를 모델링 할 것이므로, 띄어쓰기가 아닌 별도의 토크나이저를 사용해 토큰화하도록 하겠습니다.\n",
        "\n",
        "토크나이저는 Kkma, Okt, Komoran 등 다양한 종류가 존재합니다. 가장 정확도가 높은 것은 Kkma이지만, 속도가 가장 빠른 komoran을 여기서는 사용하도록 하겠습니다.\n",
        "\n",
        "불필요한 품사를 제거하고, 명사, 형용사, 동사, 관형사, 일반부사만 사용하도록 필터링하고, 불용어를 제거하는 함수를 제작합니다.\n",
        "\n",
        "다른 모델과 달리 여기선 별도로 Vectorizer을 설정할 필요는 없습니다."
      ]
    },
    {
      "cell_type": "code",
      "execution_count": 12,
      "metadata": {
        "id": "agyDAr7phYDO"
      },
      "outputs": [],
      "source": [
        "USER_DICT_PATH = './datasets/user_dic.txt'\n",
        "\n",
        "custom_dic = [\n",
        "    '탈원전\\tNNG',\n",
        "]\n",
        "\n",
        "with open(USER_DICT_PATH, 'w', encoding='utf-8') as f:\n",
        "    for line in custom_dic:\n",
        "        f.write(line + '\\n')"
      ]
    },
    {
      "cell_type": "code",
      "execution_count": 13,
      "metadata": {
        "id": "tEXoD9xnbL-J"
      },
      "outputs": [],
      "source": [
        "class CustomTokenizer:\n",
        "\n",
        "    def __init__(\n",
        "        self,\n",
        "        tagger: Callable = Komoran(), # KoNLPy의 태거가 들어갑니다.\n",
        "        stop_words: Optional[List[str]] = None, # 불용어 사전이 들어갑니다.\n",
        "        tag_list: List[str] = ['NNG', 'NNP', 'NNB', 'VV', 'VA', 'MM', 'MAG']\n",
        "        ):\n",
        "      self.tagger = tagger\n",
        "      self.stop_words = stop_words\n",
        "      self.tag_list = tag_list\n",
        "\n",
        "    def __call__(self, text):\n",
        "      text = text[:10000]\n",
        "      # 명사, 형용사, 동사, 관형사와 일반 부사만 취한다.\n",
        "      word_tokens = list(map(lambda x: x[0], filter(lambda x: x[1] in self.tag_list, self.tagger.pos(text))))\n",
        "      result = [word for word in word_tokens if word not in stop_words]\n",
        "      return result"
      ]
    },
    {
      "cell_type": "code",
      "execution_count": 14,
      "metadata": {
        "id": "sElxSRe8_1DF"
      },
      "outputs": [],
      "source": [
        "STOPWORDS_PATH = './datasets/user_stopwords.csv'\n",
        "\n",
        "with open(STOPWORDS_PATH, 'r', encoding='cp949') as f:\n",
        "    tmp = csv.reader(f)\n",
        "    stop_words = set([l[0] for l in tmp])\n",
        "\n",
        "tagger = Komoran(userdic='./datasets/user_dic.txt')\n",
        "tokenizer = CustomTokenizer(tagger = tagger, stop_words = stop_words)"
      ]
    },
    {
      "cell_type": "markdown",
      "metadata": {
        "id": "DOOttxbGbL-K"
      },
      "source": [
        "### **3.2 - 하이퍼파라미터 설정**"
      ]
    },
    {
      "cell_type": "markdown",
      "metadata": {
        "id": "00_qtAD9bL-K"
      },
      "source": [
        "**설정해야하는 값**\n",
        "- `min_count` :\n",
        "    - 해당 값보다 적은 빈도를 보이는 토픽은 무시합니다.\n",
        "    - 코퍼스가 작을 수록 이 값도 작아지는 것이 자연스럽습니다.\n",
        "- `speed` : \n",
        "    - 모델이 얼마나 빠르게 Train할 것인지를 의미합니다.\n",
        "    - 빠른 옵션은 낮은 퀄리티의 결과물을 생성합니다.\n",
        "    - fast-learn, learn, deep-learn 중 하나를 고르면 됩니다."
      ]
    },
    {
      "cell_type": "code",
      "execution_count": 15,
      "metadata": {
        "id": "OkNeCavNbL-K"
      },
      "outputs": [],
      "source": [
        "min_count = 20\n",
        "speed = 'learn'"
      ]
    },
    {
      "cell_type": "markdown",
      "metadata": {
        "id": "G3pyHHltEimG"
      },
      "source": [
        "## **4 - 모델 생성 & 토픽 추출하기**"
      ]
    },
    {
      "cell_type": "markdown",
      "metadata": {
        "id": "DeqlTN4IbL-K"
      },
      "source": [
        "모든 설정을 마쳤습니다. 이제 Top2Vec모델을 생성해보도록 하겠습니다. Top2Vec은 생성과 동시에 문서를 전달하여 토픽을 추출합니다.\n",
        "\n",
        "이때, 문서는 string으로 이루어진 List형태로 전달해야합니다."
      ]
    },
    {
      "cell_type": "code",
      "execution_count": 16,
      "metadata": {
        "id": "aJYVZMbFbL-K"
      },
      "outputs": [
        {
          "name": "stderr",
          "output_type": "stream",
          "text": [
            "2024-02-13 04:38:54,752 - top2vec - INFO - Pre-processing documents for training\n",
            "c:\\Users\\owj04\\anaconda3\\envs\\AIKU\\lib\\site-packages\\sklearn\\feature_extraction\\text.py:528: UserWarning: The parameter 'token_pattern' will not be used since 'tokenizer' is not None'\n",
            "  warnings.warn(\n",
            "2024-02-13 04:38:56,203 - top2vec - INFO - Downloading universal-sentence-encoder-multilingual model\n",
            "2024-02-13 04:39:27,577 - top2vec - INFO - Creating joint document/word embedding\n",
            "INFO:top2vec:Creating joint document/word embedding\n",
            "2024-02-13 04:39:31,117 - top2vec - INFO - Creating lower dimension embedding of documents\n",
            "INFO:top2vec:Creating lower dimension embedding of documents\n",
            "2024-02-13 04:39:43,748 - top2vec - INFO - Finding dense areas of documents\n",
            "INFO:top2vec:Finding dense areas of documents\n",
            "2024-02-13 04:39:43,807 - top2vec - INFO - Finding topics\n",
            "INFO:top2vec:Finding topics\n"
          ]
        }
      ],
      "source": [
        "documents = df['news_title'].tolist()\n",
        "\n",
        "model = Top2Vec(\n",
        "    documents = documents, \n",
        "    embedding_model = 'universal-sentence-encoder-multilingual', \n",
        "    tokenizer = tokenizer,\n",
        "    min_count = min_count,\n",
        "    speed=speed\n",
        "    )"
      ]
    },
    {
      "cell_type": "markdown",
      "metadata": {},
      "source": [
        "`get_topic_sizes`으로 각 토픽에 해당하는 문장의 수, 즉 토픽의 크기를 알 수 있습니다.\n",
        "\n",
        "`get_topics`으로 각 토픽에 해당하는 키워드를 알 수 있습니다.\n",
        "\n",
        "두 정보를 하나의 데이터프레임에 합치도록하겠습니다."
      ]
    },
    {
      "cell_type": "code",
      "execution_count": 48,
      "metadata": {},
      "outputs": [],
      "source": [
        "topic_sizes, topic_nums = model.get_topic_sizes()\n",
        "topic_words, word_scores, topic_nums = model.get_topics()\n",
        "\n",
        "\n",
        "nr_topics = 4\n",
        "\n",
        "result = pd.DataFrame.from_dict({\n",
        "    'Topic': topic_nums,\n",
        "    'Count': topic_sizes,\n",
        "    'Representation': map(lambda x: x[:nr_topics],topic_words.tolist())\n",
        "    })"
      ]
    },
    {
      "cell_type": "code",
      "execution_count": 51,
      "metadata": {},
      "outputs": [
        {
          "data": {
            "text/html": [
              "<div>\n",
              "<style scoped>\n",
              "    .dataframe tbody tr th:only-of-type {\n",
              "        vertical-align: middle;\n",
              "    }\n",
              "\n",
              "    .dataframe tbody tr th {\n",
              "        vertical-align: top;\n",
              "    }\n",
              "\n",
              "    .dataframe thead th {\n",
              "        text-align: right;\n",
              "    }\n",
              "</style>\n",
              "<table border=\"1\" class=\"dataframe\">\n",
              "  <thead>\n",
              "    <tr style=\"text-align: right;\">\n",
              "      <th></th>\n",
              "      <th>Topic</th>\n",
              "      <th>Count</th>\n",
              "      <th>Representation</th>\n",
              "    </tr>\n",
              "  </thead>\n",
              "  <tbody>\n",
              "    <tr>\n",
              "      <th>0</th>\n",
              "      <td>0</td>\n",
              "      <td>317</td>\n",
              "      <td>[탈원전, 한전, 중단, 의혹]</td>\n",
              "    </tr>\n",
              "    <tr>\n",
              "      <th>1</th>\n",
              "      <td>1</td>\n",
              "      <td>152</td>\n",
              "      <td>[정부, 공공, 민주당, 정권]</td>\n",
              "    </tr>\n",
              "    <tr>\n",
              "      <th>2</th>\n",
              "      <td>2</td>\n",
              "      <td>117</td>\n",
              "      <td>[전기, 전기료, 탈원전, 전력]</td>\n",
              "    </tr>\n",
              "    <tr>\n",
              "      <th>3</th>\n",
              "      <td>3</td>\n",
              "      <td>104</td>\n",
              "      <td>[경제, 위기, 민주당, 정부]</td>\n",
              "    </tr>\n",
              "    <tr>\n",
              "      <th>4</th>\n",
              "      <td>4</td>\n",
              "      <td>103</td>\n",
              "      <td>[한국, 탈원전, 세계, 나라]</td>\n",
              "    </tr>\n",
              "    <tr>\n",
              "      <th>5</th>\n",
              "      <td>5</td>\n",
              "      <td>98</td>\n",
              "      <td>[대통령, 민주당, 정치, 정권]</td>\n",
              "    </tr>\n",
              "    <tr>\n",
              "      <th>6</th>\n",
              "      <td>6</td>\n",
              "      <td>94</td>\n",
              "      <td>[정책, 정치, 탈원전, 정권]</td>\n",
              "    </tr>\n",
              "    <tr>\n",
              "      <th>7</th>\n",
              "      <td>7</td>\n",
              "      <td>92</td>\n",
              "      <td>[태양광, 원자력, 에너지, 풍력]</td>\n",
              "    </tr>\n",
              "    <tr>\n",
              "      <th>8</th>\n",
              "      <td>8</td>\n",
              "      <td>91</td>\n",
              "      <td>[에너지, 원자력, 전력, 풍력]</td>\n",
              "    </tr>\n",
              "    <tr>\n",
              "      <th>9</th>\n",
              "      <td>9</td>\n",
              "      <td>83</td>\n",
              "      <td>[감사원, 월성, 감사, 의혹]</td>\n",
              "    </tr>\n",
              "    <tr>\n",
              "      <th>10</th>\n",
              "      <td>10</td>\n",
              "      <td>72</td>\n",
              "      <td>[의혹, 수사, 탈원전, 정치]</td>\n",
              "    </tr>\n",
              "    <tr>\n",
              "      <th>11</th>\n",
              "      <td>11</td>\n",
              "      <td>62</td>\n",
              "      <td>[탄소, 원자력, 가스, 에너지]</td>\n",
              "    </tr>\n",
              "    <tr>\n",
              "      <th>12</th>\n",
              "      <td>12</td>\n",
              "      <td>61</td>\n",
              "      <td>[원자력, 탈원전, 에너지, 정부]</td>\n",
              "    </tr>\n",
              "    <tr>\n",
              "      <th>13</th>\n",
              "      <td>13</td>\n",
              "      <td>56</td>\n",
              "      <td>[전력, 탈원전, 전기, 에너지]</td>\n",
              "    </tr>\n",
              "    <tr>\n",
              "      <th>14</th>\n",
              "      <td>14</td>\n",
              "      <td>55</td>\n",
              "      <td>[산업, 원자력, 탈원전, 경제]</td>\n",
              "    </tr>\n",
              "    <tr>\n",
              "      <th>15</th>\n",
              "      <td>15</td>\n",
              "      <td>52</td>\n",
              "      <td>[수출, 탈원전, 정부, 국가]</td>\n",
              "    </tr>\n",
              "    <tr>\n",
              "      <th>16</th>\n",
              "      <td>16</td>\n",
              "      <td>51</td>\n",
              "      <td>[공기업, 기업, 실패, 산업]</td>\n",
              "    </tr>\n",
              "    <tr>\n",
              "      <th>17</th>\n",
              "      <td>17</td>\n",
              "      <td>49</td>\n",
              "      <td>[정권, 민주당, 탈원전, 대통령]</td>\n",
              "    </tr>\n",
              "    <tr>\n",
              "      <th>18</th>\n",
              "      <td>18</td>\n",
              "      <td>46</td>\n",
              "      <td>[탈원전, 실패, 신한, 이제]</td>\n",
              "    </tr>\n",
              "    <tr>\n",
              "      <th>19</th>\n",
              "      <td>19</td>\n",
              "      <td>45</td>\n",
              "      <td>[탈원전, 정부, 실패, 못]</td>\n",
              "    </tr>\n",
              "    <tr>\n",
              "      <th>20</th>\n",
              "      <td>20</td>\n",
              "      <td>41</td>\n",
              "      <td>[탈원전, 한전, 정부, 의혹]</td>\n",
              "    </tr>\n",
              "    <tr>\n",
              "      <th>21</th>\n",
              "      <td>21</td>\n",
              "      <td>41</td>\n",
              "      <td>[미세먼지, 폐기, 탈원전, 폐쇄]</td>\n",
              "    </tr>\n",
              "    <tr>\n",
              "      <th>22</th>\n",
              "      <td>22</td>\n",
              "      <td>37</td>\n",
              "      <td>[생태계, 원자력, 에너지, 탈원전]</td>\n",
              "    </tr>\n",
              "    <tr>\n",
              "      <th>23</th>\n",
              "      <td>23</td>\n",
              "      <td>36</td>\n",
              "      <td>[민주당, 정치, 대통령, 정부]</td>\n",
              "    </tr>\n",
              "    <tr>\n",
              "      <th>24</th>\n",
              "      <td>24</td>\n",
              "      <td>29</td>\n",
              "      <td>[신한, 원자력, 공론, 이제]</td>\n",
              "    </tr>\n",
              "    <tr>\n",
              "      <th>25</th>\n",
              "      <td>25</td>\n",
              "      <td>29</td>\n",
              "      <td>[가스, 에너지, 원자력, 풍력]</td>\n",
              "    </tr>\n",
              "    <tr>\n",
              "      <th>26</th>\n",
              "      <td>26</td>\n",
              "      <td>28</td>\n",
              "      <td>[정치, 민주당, 정책, 정부]</td>\n",
              "    </tr>\n",
              "    <tr>\n",
              "      <th>27</th>\n",
              "      <td>27</td>\n",
              "      <td>24</td>\n",
              "      <td>[의혹, 부담, 민주당, 정치]</td>\n",
              "    </tr>\n",
              "    <tr>\n",
              "      <th>28</th>\n",
              "      <td>28</td>\n",
              "      <td>24</td>\n",
              "      <td>[정부, 탈원전, 나라, 국가]</td>\n",
              "    </tr>\n",
              "    <tr>\n",
              "      <th>29</th>\n",
              "      <td>29</td>\n",
              "      <td>20</td>\n",
              "      <td>[민주당, 정권, 정부, 정치]</td>\n",
              "    </tr>\n",
              "  </tbody>\n",
              "</table>\n",
              "</div>"
            ],
            "text/plain": [
              "    Topic  Count        Representation\n",
              "0       0    317     [탈원전, 한전, 중단, 의혹]\n",
              "1       1    152     [정부, 공공, 민주당, 정권]\n",
              "2       2    117    [전기, 전기료, 탈원전, 전력]\n",
              "3       3    104     [경제, 위기, 민주당, 정부]\n",
              "4       4    103     [한국, 탈원전, 세계, 나라]\n",
              "5       5     98    [대통령, 민주당, 정치, 정권]\n",
              "6       6     94     [정책, 정치, 탈원전, 정권]\n",
              "7       7     92   [태양광, 원자력, 에너지, 풍력]\n",
              "8       8     91    [에너지, 원자력, 전력, 풍력]\n",
              "9       9     83     [감사원, 월성, 감사, 의혹]\n",
              "10     10     72     [의혹, 수사, 탈원전, 정치]\n",
              "11     11     62    [탄소, 원자력, 가스, 에너지]\n",
              "12     12     61   [원자력, 탈원전, 에너지, 정부]\n",
              "13     13     56    [전력, 탈원전, 전기, 에너지]\n",
              "14     14     55    [산업, 원자력, 탈원전, 경제]\n",
              "15     15     52     [수출, 탈원전, 정부, 국가]\n",
              "16     16     51     [공기업, 기업, 실패, 산업]\n",
              "17     17     49   [정권, 민주당, 탈원전, 대통령]\n",
              "18     18     46     [탈원전, 실패, 신한, 이제]\n",
              "19     19     45      [탈원전, 정부, 실패, 못]\n",
              "20     20     41     [탈원전, 한전, 정부, 의혹]\n",
              "21     21     41   [미세먼지, 폐기, 탈원전, 폐쇄]\n",
              "22     22     37  [생태계, 원자력, 에너지, 탈원전]\n",
              "23     23     36    [민주당, 정치, 대통령, 정부]\n",
              "24     24     29     [신한, 원자력, 공론, 이제]\n",
              "25     25     29    [가스, 에너지, 원자력, 풍력]\n",
              "26     26     28     [정치, 민주당, 정책, 정부]\n",
              "27     27     24     [의혹, 부담, 민주당, 정치]\n",
              "28     28     24     [정부, 탈원전, 나라, 국가]\n",
              "29     29     20     [민주당, 정권, 정부, 정치]"
            ]
          },
          "execution_count": 51,
          "metadata": {},
          "output_type": "execute_result"
        }
      ],
      "source": [
        "result"
      ]
    },
    {
      "cell_type": "markdown",
      "metadata": {
        "id": "qRjDM6BwbL-L"
      },
      "source": [
        "## **5 - 후처리**"
      ]
    },
    {
      "cell_type": "markdown",
      "metadata": {
        "id": "ZmQ-tChJE_CC"
      },
      "source": [
        "## **5.1 -토픽 수 줄이기**\n",
        "결과로 나온 토픽이 너무 많아 줄이고 싶을 수 있습니다. 아래와 같은 코드를 통해 자동으로 설정된 개수만큼 토픽 수를 줄일 수 있습니다."
      ]
    },
    {
      "cell_type": "code",
      "execution_count": 74,
      "metadata": {
        "id": "_GUvcJOIbL-L"
      },
      "outputs": [
        {
          "data": {
            "text/plain": [
              "[[9, 21, 20, 0],\n",
              " [7, 11, 12, 22, 25, 8],\n",
              " [3, 6, 17, 26, 23],\n",
              " [29, 1],\n",
              " [15, 28, 4],\n",
              " [13, 2],\n",
              " [27, 10],\n",
              " [5],\n",
              " [16, 14],\n",
              " [19, 24, 18]]"
            ]
          },
          "execution_count": 74,
          "metadata": {},
          "output_type": "execute_result"
        }
      ],
      "source": [
        "model.hierarchical_topic_reduction(num_topics=10)"
      ]
    },
    {
      "cell_type": "code",
      "execution_count": 76,
      "metadata": {},
      "outputs": [],
      "source": [
        "topic_sizes, topic_nums = model.get_topic_sizes()\n",
        "topic_words, word_scores, topic_nums = model.get_topics()\n",
        "\n",
        "result = pd.DataFrame.from_dict({\n",
        "    'Topic': topic_nums,\n",
        "    'Count': topic_sizes,\n",
        "    'Representation': map(lambda x: x[:nr_topics],topic_words.tolist()),\n",
        "    'Scores': map(lambda x: x[:nr_topics],word_scores.tolist())\n",
        "    })"
      ]
    },
    {
      "cell_type": "code",
      "execution_count": 77,
      "metadata": {
        "id": "LqGj8nBWbL-L"
      },
      "outputs": [
        {
          "data": {
            "text/html": [
              "<div>\n",
              "<style scoped>\n",
              "    .dataframe tbody tr th:only-of-type {\n",
              "        vertical-align: middle;\n",
              "    }\n",
              "\n",
              "    .dataframe tbody tr th {\n",
              "        vertical-align: top;\n",
              "    }\n",
              "\n",
              "    .dataframe thead th {\n",
              "        text-align: right;\n",
              "    }\n",
              "</style>\n",
              "<table border=\"1\" class=\"dataframe\">\n",
              "  <thead>\n",
              "    <tr style=\"text-align: right;\">\n",
              "      <th></th>\n",
              "      <th>Topic</th>\n",
              "      <th>Count</th>\n",
              "      <th>Representation</th>\n",
              "      <th>Scores</th>\n",
              "    </tr>\n",
              "  </thead>\n",
              "  <tbody>\n",
              "    <tr>\n",
              "      <th>0</th>\n",
              "      <td>0</td>\n",
              "      <td>317</td>\n",
              "      <td>[탈원전, 한전, 중단, 의혹]</td>\n",
              "      <td>[0.5364928245544434, 0.21120133996009827, 0.20...</td>\n",
              "    </tr>\n",
              "    <tr>\n",
              "      <th>1</th>\n",
              "      <td>1</td>\n",
              "      <td>152</td>\n",
              "      <td>[정부, 공공, 민주당, 정권]</td>\n",
              "      <td>[0.5383365750312805, 0.323426753282547, 0.2435...</td>\n",
              "    </tr>\n",
              "    <tr>\n",
              "      <th>2</th>\n",
              "      <td>2</td>\n",
              "      <td>117</td>\n",
              "      <td>[전기, 전기료, 탈원전, 전력]</td>\n",
              "      <td>[0.47791701555252075, 0.44999611377716064, 0.3...</td>\n",
              "    </tr>\n",
              "    <tr>\n",
              "      <th>3</th>\n",
              "      <td>3</td>\n",
              "      <td>104</td>\n",
              "      <td>[경제, 위기, 민주당, 정부]</td>\n",
              "      <td>[0.5767709016799927, 0.19698600471019745, 0.19...</td>\n",
              "    </tr>\n",
              "    <tr>\n",
              "      <th>4</th>\n",
              "      <td>4</td>\n",
              "      <td>103</td>\n",
              "      <td>[한국, 탈원전, 세계, 나라]</td>\n",
              "      <td>[0.3720499575138092, 0.2620980143547058, 0.201...</td>\n",
              "    </tr>\n",
              "    <tr>\n",
              "      <th>5</th>\n",
              "      <td>5</td>\n",
              "      <td>98</td>\n",
              "      <td>[대통령, 민주당, 정치, 정권]</td>\n",
              "      <td>[0.5571733713150024, 0.3223887085914612, 0.308...</td>\n",
              "    </tr>\n",
              "    <tr>\n",
              "      <th>6</th>\n",
              "      <td>6</td>\n",
              "      <td>94</td>\n",
              "      <td>[정책, 정치, 탈원전, 정권]</td>\n",
              "      <td>[0.4897206425666809, 0.2886591851711273, 0.251...</td>\n",
              "    </tr>\n",
              "    <tr>\n",
              "      <th>7</th>\n",
              "      <td>7</td>\n",
              "      <td>92</td>\n",
              "      <td>[태양광, 원자력, 에너지, 풍력]</td>\n",
              "      <td>[0.5530035495758057, 0.2698877155780792, 0.266...</td>\n",
              "    </tr>\n",
              "    <tr>\n",
              "      <th>8</th>\n",
              "      <td>8</td>\n",
              "      <td>91</td>\n",
              "      <td>[에너지, 원자력, 전력, 풍력]</td>\n",
              "      <td>[0.5482548475265503, 0.37581774592399597, 0.34...</td>\n",
              "    </tr>\n",
              "    <tr>\n",
              "      <th>9</th>\n",
              "      <td>9</td>\n",
              "      <td>83</td>\n",
              "      <td>[감사원, 월성, 감사, 의혹]</td>\n",
              "      <td>[0.2750559449195862, 0.2658845782279968, 0.253...</td>\n",
              "    </tr>\n",
              "    <tr>\n",
              "      <th>10</th>\n",
              "      <td>10</td>\n",
              "      <td>72</td>\n",
              "      <td>[의혹, 수사, 탈원전, 정치]</td>\n",
              "      <td>[0.368899405002594, 0.2014123797416687, 0.1737...</td>\n",
              "    </tr>\n",
              "    <tr>\n",
              "      <th>11</th>\n",
              "      <td>11</td>\n",
              "      <td>62</td>\n",
              "      <td>[탄소, 원자력, 가스, 에너지]</td>\n",
              "      <td>[0.5460975170135498, 0.20383214950561523, 0.20...</td>\n",
              "    </tr>\n",
              "    <tr>\n",
              "      <th>12</th>\n",
              "      <td>12</td>\n",
              "      <td>61</td>\n",
              "      <td>[원자력, 탈원전, 에너지, 정부]</td>\n",
              "      <td>[0.586962878704071, 0.2825915217399597, 0.2792...</td>\n",
              "    </tr>\n",
              "    <tr>\n",
              "      <th>13</th>\n",
              "      <td>13</td>\n",
              "      <td>56</td>\n",
              "      <td>[전력, 탈원전, 전기, 에너지]</td>\n",
              "      <td>[0.48620593547821045, 0.33267974853515625, 0.3...</td>\n",
              "    </tr>\n",
              "    <tr>\n",
              "      <th>14</th>\n",
              "      <td>14</td>\n",
              "      <td>55</td>\n",
              "      <td>[산업, 원자력, 탈원전, 경제]</td>\n",
              "      <td>[0.45781391859054565, 0.19116568565368652, 0.1...</td>\n",
              "    </tr>\n",
              "    <tr>\n",
              "      <th>15</th>\n",
              "      <td>15</td>\n",
              "      <td>52</td>\n",
              "      <td>[수출, 탈원전, 정부, 국가]</td>\n",
              "      <td>[0.5463628768920898, 0.19122005999088287, 0.19...</td>\n",
              "    </tr>\n",
              "    <tr>\n",
              "      <th>16</th>\n",
              "      <td>16</td>\n",
              "      <td>51</td>\n",
              "      <td>[공기업, 기업, 실패, 산업]</td>\n",
              "      <td>[0.380520224571228, 0.322237491607666, 0.11403...</td>\n",
              "    </tr>\n",
              "    <tr>\n",
              "      <th>17</th>\n",
              "      <td>17</td>\n",
              "      <td>49</td>\n",
              "      <td>[정권, 민주당, 탈원전, 대통령]</td>\n",
              "      <td>[0.4839809834957123, 0.252300888299942, 0.2171...</td>\n",
              "    </tr>\n",
              "    <tr>\n",
              "      <th>18</th>\n",
              "      <td>18</td>\n",
              "      <td>46</td>\n",
              "      <td>[탈원전, 실패, 신한, 이제]</td>\n",
              "      <td>[0.1431959718465805, 0.13320866227149963, 0.11...</td>\n",
              "    </tr>\n",
              "    <tr>\n",
              "      <th>19</th>\n",
              "      <td>19</td>\n",
              "      <td>45</td>\n",
              "      <td>[탈원전, 정부, 실패, 못]</td>\n",
              "      <td>[0.17152351140975952, 0.16461244225502014, 0.1...</td>\n",
              "    </tr>\n",
              "    <tr>\n",
              "      <th>20</th>\n",
              "      <td>20</td>\n",
              "      <td>41</td>\n",
              "      <td>[탈원전, 한전, 정부, 의혹]</td>\n",
              "      <td>[0.13769713044166565, 0.1275758594274521, 0.09...</td>\n",
              "    </tr>\n",
              "    <tr>\n",
              "      <th>21</th>\n",
              "      <td>21</td>\n",
              "      <td>41</td>\n",
              "      <td>[미세먼지, 폐기, 탈원전, 폐쇄]</td>\n",
              "      <td>[0.520203173160553, 0.34026601910591125, 0.277...</td>\n",
              "    </tr>\n",
              "    <tr>\n",
              "      <th>22</th>\n",
              "      <td>22</td>\n",
              "      <td>37</td>\n",
              "      <td>[생태계, 원자력, 에너지, 탈원전]</td>\n",
              "      <td>[0.5359580516815186, 0.26427146792411804, 0.24...</td>\n",
              "    </tr>\n",
              "    <tr>\n",
              "      <th>23</th>\n",
              "      <td>23</td>\n",
              "      <td>36</td>\n",
              "      <td>[민주당, 정치, 대통령, 정부]</td>\n",
              "      <td>[0.6719611883163452, 0.32112959027290344, 0.22...</td>\n",
              "    </tr>\n",
              "    <tr>\n",
              "      <th>24</th>\n",
              "      <td>24</td>\n",
              "      <td>29</td>\n",
              "      <td>[신한, 원자력, 공론, 이제]</td>\n",
              "      <td>[0.15163755416870117, 0.13329362869262695, 0.1...</td>\n",
              "    </tr>\n",
              "    <tr>\n",
              "      <th>25</th>\n",
              "      <td>25</td>\n",
              "      <td>29</td>\n",
              "      <td>[가스, 에너지, 원자력, 풍력]</td>\n",
              "      <td>[0.30162954330444336, 0.2159024178981781, 0.20...</td>\n",
              "    </tr>\n",
              "    <tr>\n",
              "      <th>26</th>\n",
              "      <td>26</td>\n",
              "      <td>28</td>\n",
              "      <td>[정치, 민주당, 정책, 정부]</td>\n",
              "      <td>[0.5880610942840576, 0.39161670207977295, 0.29...</td>\n",
              "    </tr>\n",
              "    <tr>\n",
              "      <th>27</th>\n",
              "      <td>27</td>\n",
              "      <td>24</td>\n",
              "      <td>[의혹, 부담, 민주당, 정치]</td>\n",
              "      <td>[0.18307682871818542, 0.15431873500347137, 0.1...</td>\n",
              "    </tr>\n",
              "    <tr>\n",
              "      <th>28</th>\n",
              "      <td>28</td>\n",
              "      <td>24</td>\n",
              "      <td>[정부, 탈원전, 나라, 국가]</td>\n",
              "      <td>[0.13106553256511688, 0.13058239221572876, 0.1...</td>\n",
              "    </tr>\n",
              "    <tr>\n",
              "      <th>29</th>\n",
              "      <td>29</td>\n",
              "      <td>20</td>\n",
              "      <td>[민주당, 정권, 정부, 정치]</td>\n",
              "      <td>[0.25465044379234314, 0.22740381956100464, 0.2...</td>\n",
              "    </tr>\n",
              "  </tbody>\n",
              "</table>\n",
              "</div>"
            ],
            "text/plain": [
              "    Topic  Count        Representation  \\\n",
              "0       0    317     [탈원전, 한전, 중단, 의혹]   \n",
              "1       1    152     [정부, 공공, 민주당, 정권]   \n",
              "2       2    117    [전기, 전기료, 탈원전, 전력]   \n",
              "3       3    104     [경제, 위기, 민주당, 정부]   \n",
              "4       4    103     [한국, 탈원전, 세계, 나라]   \n",
              "5       5     98    [대통령, 민주당, 정치, 정권]   \n",
              "6       6     94     [정책, 정치, 탈원전, 정권]   \n",
              "7       7     92   [태양광, 원자력, 에너지, 풍력]   \n",
              "8       8     91    [에너지, 원자력, 전력, 풍력]   \n",
              "9       9     83     [감사원, 월성, 감사, 의혹]   \n",
              "10     10     72     [의혹, 수사, 탈원전, 정치]   \n",
              "11     11     62    [탄소, 원자력, 가스, 에너지]   \n",
              "12     12     61   [원자력, 탈원전, 에너지, 정부]   \n",
              "13     13     56    [전력, 탈원전, 전기, 에너지]   \n",
              "14     14     55    [산업, 원자력, 탈원전, 경제]   \n",
              "15     15     52     [수출, 탈원전, 정부, 국가]   \n",
              "16     16     51     [공기업, 기업, 실패, 산업]   \n",
              "17     17     49   [정권, 민주당, 탈원전, 대통령]   \n",
              "18     18     46     [탈원전, 실패, 신한, 이제]   \n",
              "19     19     45      [탈원전, 정부, 실패, 못]   \n",
              "20     20     41     [탈원전, 한전, 정부, 의혹]   \n",
              "21     21     41   [미세먼지, 폐기, 탈원전, 폐쇄]   \n",
              "22     22     37  [생태계, 원자력, 에너지, 탈원전]   \n",
              "23     23     36    [민주당, 정치, 대통령, 정부]   \n",
              "24     24     29     [신한, 원자력, 공론, 이제]   \n",
              "25     25     29    [가스, 에너지, 원자력, 풍력]   \n",
              "26     26     28     [정치, 민주당, 정책, 정부]   \n",
              "27     27     24     [의혹, 부담, 민주당, 정치]   \n",
              "28     28     24     [정부, 탈원전, 나라, 국가]   \n",
              "29     29     20     [민주당, 정권, 정부, 정치]   \n",
              "\n",
              "                                               Scores  \n",
              "0   [0.5364928245544434, 0.21120133996009827, 0.20...  \n",
              "1   [0.5383365750312805, 0.323426753282547, 0.2435...  \n",
              "2   [0.47791701555252075, 0.44999611377716064, 0.3...  \n",
              "3   [0.5767709016799927, 0.19698600471019745, 0.19...  \n",
              "4   [0.3720499575138092, 0.2620980143547058, 0.201...  \n",
              "5   [0.5571733713150024, 0.3223887085914612, 0.308...  \n",
              "6   [0.4897206425666809, 0.2886591851711273, 0.251...  \n",
              "7   [0.5530035495758057, 0.2698877155780792, 0.266...  \n",
              "8   [0.5482548475265503, 0.37581774592399597, 0.34...  \n",
              "9   [0.2750559449195862, 0.2658845782279968, 0.253...  \n",
              "10  [0.368899405002594, 0.2014123797416687, 0.1737...  \n",
              "11  [0.5460975170135498, 0.20383214950561523, 0.20...  \n",
              "12  [0.586962878704071, 0.2825915217399597, 0.2792...  \n",
              "13  [0.48620593547821045, 0.33267974853515625, 0.3...  \n",
              "14  [0.45781391859054565, 0.19116568565368652, 0.1...  \n",
              "15  [0.5463628768920898, 0.19122005999088287, 0.19...  \n",
              "16  [0.380520224571228, 0.322237491607666, 0.11403...  \n",
              "17  [0.4839809834957123, 0.252300888299942, 0.2171...  \n",
              "18  [0.1431959718465805, 0.13320866227149963, 0.11...  \n",
              "19  [0.17152351140975952, 0.16461244225502014, 0.1...  \n",
              "20  [0.13769713044166565, 0.1275758594274521, 0.09...  \n",
              "21  [0.520203173160553, 0.34026601910591125, 0.277...  \n",
              "22  [0.5359580516815186, 0.26427146792411804, 0.24...  \n",
              "23  [0.6719611883163452, 0.32112959027290344, 0.22...  \n",
              "24  [0.15163755416870117, 0.13329362869262695, 0.1...  \n",
              "25  [0.30162954330444336, 0.2159024178981781, 0.20...  \n",
              "26  [0.5880610942840576, 0.39161670207977295, 0.29...  \n",
              "27  [0.18307682871818542, 0.15431873500347137, 0.1...  \n",
              "28  [0.13106553256511688, 0.13058239221572876, 0.1...  \n",
              "29  [0.25465044379234314, 0.22740381956100464, 0.2...  "
            ]
          },
          "execution_count": 77,
          "metadata": {},
          "output_type": "execute_result"
        }
      ],
      "source": [
        "result"
      ]
    },
    {
      "cell_type": "markdown",
      "metadata": {
        "id": "TGek-V2zbL-T"
      },
      "source": [
        "## **수고하셨습니다**"
      ]
    },
    {
      "cell_type": "markdown",
      "metadata": {
        "id": "oEMLoHd1bL-T"
      },
      "source": [
        "더 많은 사용법은 [공식 GitHub](https://top2vec.readthedocs.io/en/latest/Top2Vec.html#how-does-it-work)에서 찾아보세요!"
      ]
    }
  ],
  "metadata": {
    "accelerator": "GPU",
    "colab": {
      "gpuType": "T4",
      "provenance": []
    },
    "kernelspec": {
      "display_name": "Python 3",
      "name": "python3"
    },
    "language_info": {
      "codemirror_mode": {
        "name": "ipython",
        "version": 3
      },
      "file_extension": ".py",
      "mimetype": "text/x-python",
      "name": "python",
      "nbconvert_exporter": "python",
      "pygments_lexer": "ipython3",
      "version": "3.9.16"
    },
    "widgets": {
      "application/vnd.jupyter.widget-state+json": {
        "09418db9ce06434599e1c467f71db1d0": {
          "model_module": "@jupyter-widgets/base",
          "model_module_version": "1.2.0",
          "model_name": "LayoutModel",
          "state": {
            "_model_module": "@jupyter-widgets/base",
            "_model_module_version": "1.2.0",
            "_model_name": "LayoutModel",
            "_view_count": null,
            "_view_module": "@jupyter-widgets/base",
            "_view_module_version": "1.2.0",
            "_view_name": "LayoutView",
            "align_content": null,
            "align_items": null,
            "align_self": null,
            "border": null,
            "bottom": null,
            "display": null,
            "flex": null,
            "flex_flow": null,
            "grid_area": null,
            "grid_auto_columns": null,
            "grid_auto_flow": null,
            "grid_auto_rows": null,
            "grid_column": null,
            "grid_gap": null,
            "grid_row": null,
            "grid_template_areas": null,
            "grid_template_columns": null,
            "grid_template_rows": null,
            "height": null,
            "justify_content": null,
            "justify_items": null,
            "left": null,
            "margin": null,
            "max_height": null,
            "max_width": null,
            "min_height": null,
            "min_width": null,
            "object_fit": null,
            "object_position": null,
            "order": null,
            "overflow": null,
            "overflow_x": null,
            "overflow_y": null,
            "padding": null,
            "right": null,
            "top": null,
            "visibility": null,
            "width": null
          }
        },
        "18c37462862d401bb420eacd389bdc17": {
          "model_module": "@jupyter-widgets/base",
          "model_module_version": "1.2.0",
          "model_name": "LayoutModel",
          "state": {
            "_model_module": "@jupyter-widgets/base",
            "_model_module_version": "1.2.0",
            "_model_name": "LayoutModel",
            "_view_count": null,
            "_view_module": "@jupyter-widgets/base",
            "_view_module_version": "1.2.0",
            "_view_name": "LayoutView",
            "align_content": null,
            "align_items": null,
            "align_self": null,
            "border": null,
            "bottom": null,
            "display": null,
            "flex": null,
            "flex_flow": null,
            "grid_area": null,
            "grid_auto_columns": null,
            "grid_auto_flow": null,
            "grid_auto_rows": null,
            "grid_column": null,
            "grid_gap": null,
            "grid_row": null,
            "grid_template_areas": null,
            "grid_template_columns": null,
            "grid_template_rows": null,
            "height": null,
            "justify_content": null,
            "justify_items": null,
            "left": null,
            "margin": null,
            "max_height": null,
            "max_width": null,
            "min_height": null,
            "min_width": null,
            "object_fit": null,
            "object_position": null,
            "order": null,
            "overflow": null,
            "overflow_x": null,
            "overflow_y": null,
            "padding": null,
            "right": null,
            "top": null,
            "visibility": null,
            "width": null
          }
        },
        "1b04bd211784452bbd745a7634a2b803": {
          "model_module": "@jupyter-widgets/base",
          "model_module_version": "1.2.0",
          "model_name": "LayoutModel",
          "state": {
            "_model_module": "@jupyter-widgets/base",
            "_model_module_version": "1.2.0",
            "_model_name": "LayoutModel",
            "_view_count": null,
            "_view_module": "@jupyter-widgets/base",
            "_view_module_version": "1.2.0",
            "_view_name": "LayoutView",
            "align_content": null,
            "align_items": null,
            "align_self": null,
            "border": null,
            "bottom": null,
            "display": null,
            "flex": null,
            "flex_flow": null,
            "grid_area": null,
            "grid_auto_columns": null,
            "grid_auto_flow": null,
            "grid_auto_rows": null,
            "grid_column": null,
            "grid_gap": null,
            "grid_row": null,
            "grid_template_areas": null,
            "grid_template_columns": null,
            "grid_template_rows": null,
            "height": null,
            "justify_content": null,
            "justify_items": null,
            "left": null,
            "margin": null,
            "max_height": null,
            "max_width": null,
            "min_height": null,
            "min_width": null,
            "object_fit": null,
            "object_position": null,
            "order": null,
            "overflow": null,
            "overflow_x": null,
            "overflow_y": null,
            "padding": null,
            "right": null,
            "top": null,
            "visibility": null,
            "width": null
          }
        },
        "32793008655f452196f3efaf64466774": {
          "model_module": "@jupyter-widgets/controls",
          "model_module_version": "1.5.0",
          "model_name": "DescriptionStyleModel",
          "state": {
            "_model_module": "@jupyter-widgets/controls",
            "_model_module_version": "1.5.0",
            "_model_name": "DescriptionStyleModel",
            "_view_count": null,
            "_view_module": "@jupyter-widgets/base",
            "_view_module_version": "1.2.0",
            "_view_name": "StyleView",
            "description_width": ""
          }
        },
        "35b61d186e07401183db959f6d77b9e2": {
          "model_module": "@jupyter-widgets/controls",
          "model_module_version": "1.5.0",
          "model_name": "HTMLModel",
          "state": {
            "_dom_classes": [],
            "_model_module": "@jupyter-widgets/controls",
            "_model_module_version": "1.5.0",
            "_model_name": "HTMLModel",
            "_view_count": null,
            "_view_module": "@jupyter-widgets/controls",
            "_view_module_version": "1.5.0",
            "_view_name": "HTMLView",
            "description": "",
            "description_tooltip": null,
            "layout": "IPY_MODEL_18c37462862d401bb420eacd389bdc17",
            "placeholder": "​",
            "style": "IPY_MODEL_4501987830ad4a0b94112aa84ef4c95c",
            "value": " 66/66 [00:02&lt;00:00, 36.15it/s]"
          }
        },
        "4501987830ad4a0b94112aa84ef4c95c": {
          "model_module": "@jupyter-widgets/controls",
          "model_module_version": "1.5.0",
          "model_name": "DescriptionStyleModel",
          "state": {
            "_model_module": "@jupyter-widgets/controls",
            "_model_module_version": "1.5.0",
            "_model_name": "DescriptionStyleModel",
            "_view_count": null,
            "_view_module": "@jupyter-widgets/base",
            "_view_module_version": "1.2.0",
            "_view_name": "StyleView",
            "description_width": ""
          }
        },
        "5b87bf1a685e4a01b079c085a3f5ebd6": {
          "model_module": "@jupyter-widgets/base",
          "model_module_version": "1.2.0",
          "model_name": "LayoutModel",
          "state": {
            "_model_module": "@jupyter-widgets/base",
            "_model_module_version": "1.2.0",
            "_model_name": "LayoutModel",
            "_view_count": null,
            "_view_module": "@jupyter-widgets/base",
            "_view_module_version": "1.2.0",
            "_view_name": "LayoutView",
            "align_content": null,
            "align_items": null,
            "align_self": null,
            "border": null,
            "bottom": null,
            "display": null,
            "flex": null,
            "flex_flow": null,
            "grid_area": null,
            "grid_auto_columns": null,
            "grid_auto_flow": null,
            "grid_auto_rows": null,
            "grid_column": null,
            "grid_gap": null,
            "grid_row": null,
            "grid_template_areas": null,
            "grid_template_columns": null,
            "grid_template_rows": null,
            "height": null,
            "justify_content": null,
            "justify_items": null,
            "left": null,
            "margin": null,
            "max_height": null,
            "max_width": null,
            "min_height": null,
            "min_width": null,
            "object_fit": null,
            "object_position": null,
            "order": null,
            "overflow": null,
            "overflow_x": null,
            "overflow_y": null,
            "padding": null,
            "right": null,
            "top": null,
            "visibility": null,
            "width": null
          }
        },
        "93d5de1dfe85433d986521c0ee3de010": {
          "model_module": "@jupyter-widgets/controls",
          "model_module_version": "1.5.0",
          "model_name": "HTMLModel",
          "state": {
            "_dom_classes": [],
            "_model_module": "@jupyter-widgets/controls",
            "_model_module_version": "1.5.0",
            "_model_name": "HTMLModel",
            "_view_count": null,
            "_view_module": "@jupyter-widgets/controls",
            "_view_module_version": "1.5.0",
            "_view_name": "HTMLView",
            "description": "",
            "description_tooltip": null,
            "layout": "IPY_MODEL_09418db9ce06434599e1c467f71db1d0",
            "placeholder": "​",
            "style": "IPY_MODEL_32793008655f452196f3efaf64466774",
            "value": "Batches: 100%"
          }
        },
        "9dd66f6ca8f14f47a898423416694938": {
          "model_module": "@jupyter-widgets/controls",
          "model_module_version": "1.5.0",
          "model_name": "HBoxModel",
          "state": {
            "_dom_classes": [],
            "_model_module": "@jupyter-widgets/controls",
            "_model_module_version": "1.5.0",
            "_model_name": "HBoxModel",
            "_view_count": null,
            "_view_module": "@jupyter-widgets/controls",
            "_view_module_version": "1.5.0",
            "_view_name": "HBoxView",
            "box_style": "",
            "children": [
              "IPY_MODEL_93d5de1dfe85433d986521c0ee3de010",
              "IPY_MODEL_c680502461f741be80d8d9743763c93e",
              "IPY_MODEL_35b61d186e07401183db959f6d77b9e2"
            ],
            "layout": "IPY_MODEL_1b04bd211784452bbd745a7634a2b803"
          }
        },
        "c680502461f741be80d8d9743763c93e": {
          "model_module": "@jupyter-widgets/controls",
          "model_module_version": "1.5.0",
          "model_name": "FloatProgressModel",
          "state": {
            "_dom_classes": [],
            "_model_module": "@jupyter-widgets/controls",
            "_model_module_version": "1.5.0",
            "_model_name": "FloatProgressModel",
            "_view_count": null,
            "_view_module": "@jupyter-widgets/controls",
            "_view_module_version": "1.5.0",
            "_view_name": "ProgressView",
            "bar_style": "success",
            "description": "",
            "description_tooltip": null,
            "layout": "IPY_MODEL_5b87bf1a685e4a01b079c085a3f5ebd6",
            "max": 66,
            "min": 0,
            "orientation": "horizontal",
            "style": "IPY_MODEL_cb210bb8bd59403bbb85a3b42643730c",
            "value": 66
          }
        },
        "cb210bb8bd59403bbb85a3b42643730c": {
          "model_module": "@jupyter-widgets/controls",
          "model_module_version": "1.5.0",
          "model_name": "ProgressStyleModel",
          "state": {
            "_model_module": "@jupyter-widgets/controls",
            "_model_module_version": "1.5.0",
            "_model_name": "ProgressStyleModel",
            "_view_count": null,
            "_view_module": "@jupyter-widgets/base",
            "_view_module_version": "1.2.0",
            "_view_name": "StyleView",
            "bar_color": null,
            "description_width": ""
          }
        }
      }
    }
  },
  "nbformat": 4,
  "nbformat_minor": 0
}
