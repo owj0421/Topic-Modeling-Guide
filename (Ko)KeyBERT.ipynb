{
  "cells": [
    {
      "cell_type": "markdown",
      "metadata": {
        "id": "7-3FZPKPbL-C"
      },
      "source": [
        "# **KeyBERT 실습**"
      ]
    },
    {
      "cell_type": "markdown",
      "metadata": {
        "id": "3gBYz_Lq-GsY"
      },
      "source": [
        "이번 노트북에서는 KeyBERT 모델을 한국어에 맞춰 사용할 수 있도록 Customizing한 후 인퍼런스 할 예정입니다. 인퍼런스 능력을 향상시키기 위해, 직접 BERT모델을 고르고, Tokenizer을 수정하며 주제를 merge하는 작업을 수행합니다. 이후, 결과 다양성을 높힐 수 있는 다양한 테크닉을 시도하고, 직접 결과를 확인합니다."
      ]
    },
    {
      "cell_type": "markdown",
      "metadata": {
        "id": "3XB32SCRCorU"
      },
      "source": [
        "## **1 - 준비작업**"
      ]
    },
    {
      "cell_type": "markdown",
      "metadata": {
        "id": "1VZP03BWjW34"
      },
      "source": [
        "### **1.1 - 라이브러리 설치**\n",
        "필요한 라이브러리를 설치합니다. 별도로 수정하지 말아주세요."
      ]
    },
    {
      "cell_type": "code",
      "execution_count": 4,
      "metadata": {
        "id": "P8TcQd7ibL-F"
      },
      "outputs": [
        {
          "name": "stdout",
          "output_type": "stream",
          "text": [
            "Looking in indexes: https://pypi.org/simple, https://download.pytorch.org/whl/cu116\n",
            "Requirement already satisfied: torch in c:\\users\\owj04\\anaconda3\\envs\\aiku\\lib\\site-packages (1.12.1+cu116)\n",
            "Requirement already satisfied: torchvision in c:\\users\\owj04\\anaconda3\\envs\\aiku\\lib\\site-packages (0.13.1+cu116)\n",
            "Requirement already satisfied: torchaudio in c:\\users\\owj04\\anaconda3\\envs\\aiku\\lib\\site-packages (0.12.1+cu116)\n",
            "Requirement already satisfied: typing-extensions in c:\\users\\owj04\\anaconda3\\envs\\aiku\\lib\\site-packages (from torch) (4.6.3)\n",
            "Requirement already satisfied: numpy in c:\\users\\owj04\\anaconda3\\envs\\aiku\\lib\\site-packages (from torchvision) (1.24.3)\n",
            "Requirement already satisfied: requests in c:\\users\\owj04\\anaconda3\\envs\\aiku\\lib\\site-packages (from torchvision) (2.29.0)\n",
            "Requirement already satisfied: pillow!=8.3.*,>=5.3.0 in c:\\users\\owj04\\anaconda3\\envs\\aiku\\lib\\site-packages (from torchvision) (9.4.0)\n",
            "Requirement already satisfied: charset-normalizer<4,>=2 in c:\\users\\owj04\\anaconda3\\envs\\aiku\\lib\\site-packages (from requests->torchvision) (2.0.4)\n",
            "Requirement already satisfied: idna<4,>=2.5 in c:\\users\\owj04\\anaconda3\\envs\\aiku\\lib\\site-packages (from requests->torchvision) (3.4)\n",
            "Requirement already satisfied: urllib3<1.27,>=1.21.1 in c:\\users\\owj04\\anaconda3\\envs\\aiku\\lib\\site-packages (from requests->torchvision) (1.26.16)\n",
            "Requirement already satisfied: certifi>=2017.4.17 in c:\\users\\owj04\\anaconda3\\envs\\aiku\\lib\\site-packages (from requests->torchvision) (2024.2.2)\n"
          ]
        },
        {
          "name": "stderr",
          "output_type": "stream",
          "text": [
            "WARNING: Ignoring invalid distribution -cipy (c:\\users\\owj04\\anaconda3\\envs\\aiku\\lib\\site-packages)\n",
            "WARNING: Ignoring invalid distribution -cipy (c:\\users\\owj04\\anaconda3\\envs\\aiku\\lib\\site-packages)\n"
          ]
        },
        {
          "name": "stdout",
          "output_type": "stream",
          "text": [
            "^C\n",
            "Requirement already satisfied: keybert in c:\\users\\owj04\\anaconda3\\envs\\aiku\\lib\\site-packages (0.8.3)\n",
            "Requirement already satisfied: sentence-transformers>=0.3.8 in c:\\users\\owj04\\anaconda3\\envs\\aiku\\lib\\site-packages (from keybert) (2.2.2)\n",
            "Requirement already satisfied: scikit-learn>=0.22.2 in c:\\users\\owj04\\anaconda3\\envs\\aiku\\lib\\site-packages (from keybert) (1.2.0)\n",
            "Requirement already satisfied: numpy>=1.18.5 in c:\\users\\owj04\\anaconda3\\envs\\aiku\\lib\\site-packages (from keybert) (1.24.3)\n",
            "Requirement already satisfied: rich>=10.4.0 in c:\\users\\owj04\\anaconda3\\envs\\aiku\\lib\\site-packages (from keybert) (13.7.0)\n",
            "Requirement already satisfied: markdown-it-py>=2.2.0 in c:\\users\\owj04\\anaconda3\\envs\\aiku\\lib\\site-packages (from rich>=10.4.0->keybert) (3.0.0)\n",
            "Requirement already satisfied: pygments<3.0.0,>=2.13.0 in c:\\users\\owj04\\anaconda3\\envs\\aiku\\lib\\site-packages (from rich>=10.4.0->keybert) (2.15.1)\n",
            "Requirement already satisfied: scipy>=1.3.2 in c:\\users\\owj04\\anaconda3\\envs\\aiku\\lib\\site-packages (from scikit-learn>=0.22.2->keybert) (1.10.1)\n",
            "Requirement already satisfied: joblib>=1.1.1 in c:\\users\\owj04\\anaconda3\\envs\\aiku\\lib\\site-packages (from scikit-learn>=0.22.2->keybert) (1.2.0)\n",
            "Requirement already satisfied: threadpoolctl>=2.0.0 in c:\\users\\owj04\\anaconda3\\envs\\aiku\\lib\\site-packages (from scikit-learn>=0.22.2->keybert) (2.2.0)\n",
            "Requirement already satisfied: transformers<5.0.0,>=4.6.0 in c:\\users\\owj04\\anaconda3\\envs\\aiku\\lib\\site-packages (from sentence-transformers>=0.3.8->keybert) (4.29.2)\n",
            "Requirement already satisfied: tqdm in c:\\users\\owj04\\anaconda3\\envs\\aiku\\lib\\site-packages (from sentence-transformers>=0.3.8->keybert) (4.64.1)\n",
            "Requirement already satisfied: torch>=1.6.0 in c:\\users\\owj04\\anaconda3\\envs\\aiku\\lib\\site-packages (from sentence-transformers>=0.3.8->keybert) (1.12.1+cu116)\n",
            "Requirement already satisfied: torchvision in c:\\users\\owj04\\anaconda3\\envs\\aiku\\lib\\site-packages (from sentence-transformers>=0.3.8->keybert) (0.13.1+cu116)\n",
            "Requirement already satisfied: nltk in c:\\users\\owj04\\anaconda3\\envs\\aiku\\lib\\site-packages (from sentence-transformers>=0.3.8->keybert) (3.7)\n",
            "Requirement already satisfied: sentencepiece in c:\\users\\owj04\\anaconda3\\envs\\aiku\\lib\\site-packages (from sentence-transformers>=0.3.8->keybert) (0.1.99)\n",
            "Requirement already satisfied: huggingface-hub>=0.4.0 in c:\\users\\owj04\\anaconda3\\envs\\aiku\\lib\\site-packages (from sentence-transformers>=0.3.8->keybert) (0.15.1)\n",
            "Requirement already satisfied: filelock in c:\\users\\owj04\\anaconda3\\envs\\aiku\\lib\\site-packages (from huggingface-hub>=0.4.0->sentence-transformers>=0.3.8->keybert) (3.9.0)\n",
            "Requirement already satisfied: fsspec in c:\\users\\owj04\\anaconda3\\envs\\aiku\\lib\\site-packages (from huggingface-hub>=0.4.0->sentence-transformers>=0.3.8->keybert) (2023.4.0)\n",
            "Requirement already satisfied: requests in c:\\users\\owj04\\anaconda3\\envs\\aiku\\lib\\site-packages (from huggingface-hub>=0.4.0->sentence-transformers>=0.3.8->keybert) (2.29.0)\n",
            "Requirement already satisfied: pyyaml>=5.1 in c:\\users\\owj04\\anaconda3\\envs\\aiku\\lib\\site-packages (from huggingface-hub>=0.4.0->sentence-transformers>=0.3.8->keybert) (6.0)\n",
            "Requirement already satisfied: typing-extensions>=3.7.4.3 in c:\\users\\owj04\\anaconda3\\envs\\aiku\\lib\\site-packages (from huggingface-hub>=0.4.0->sentence-transformers>=0.3.8->keybert) (4.6.3)\n",
            "Requirement already satisfied: packaging>=20.9 in c:\\users\\owj04\\anaconda3\\envs\\aiku\\lib\\site-packages (from huggingface-hub>=0.4.0->sentence-transformers>=0.3.8->keybert) (23.0)\n",
            "Requirement already satisfied: mdurl~=0.1 in c:\\users\\owj04\\anaconda3\\envs\\aiku\\lib\\site-packages (from markdown-it-py>=2.2.0->rich>=10.4.0->keybert) (0.1.2)\n",
            "Requirement already satisfied: colorama in c:\\users\\owj04\\anaconda3\\envs\\aiku\\lib\\site-packages (from tqdm->sentence-transformers>=0.3.8->keybert) (0.4.6)\n",
            "Requirement already satisfied: regex!=2019.12.17 in c:\\users\\owj04\\anaconda3\\envs\\aiku\\lib\\site-packages (from transformers<5.0.0,>=4.6.0->sentence-transformers>=0.3.8->keybert) (2022.7.9)\n",
            "Requirement already satisfied: tokenizers!=0.11.3,<0.14,>=0.11.1 in c:\\users\\owj04\\anaconda3\\envs\\aiku\\lib\\site-packages (from transformers<5.0.0,>=4.6.0->sentence-transformers>=0.3.8->keybert) (0.13.2)\n",
            "Requirement already satisfied: click in c:\\users\\owj04\\anaconda3\\envs\\aiku\\lib\\site-packages (from nltk->sentence-transformers>=0.3.8->keybert) (8.1.3)\n",
            "Requirement already satisfied: pillow!=8.3.*,>=5.3.0 in c:\\users\\owj04\\anaconda3\\envs\\aiku\\lib\\site-packages (from torchvision->sentence-transformers>=0.3.8->keybert) (9.4.0)\n",
            "Requirement already satisfied: charset-normalizer<4,>=2 in c:\\users\\owj04\\anaconda3\\envs\\aiku\\lib\\site-packages (from requests->huggingface-hub>=0.4.0->sentence-transformers>=0.3.8->keybert) (2.0.4)\n",
            "Requirement already satisfied: idna<4,>=2.5 in c:\\users\\owj04\\anaconda3\\envs\\aiku\\lib\\site-packages (from requests->huggingface-hub>=0.4.0->sentence-transformers>=0.3.8->keybert) (3.4)\n",
            "Requirement already satisfied: urllib3<1.27,>=1.21.1 in c:\\users\\owj04\\anaconda3\\envs\\aiku\\lib\\site-packages (from requests->huggingface-hub>=0.4.0->sentence-transformers>=0.3.8->keybert) (1.26.16)\n",
            "Requirement already satisfied: certifi>=2017.4.17 in c:\\users\\owj04\\anaconda3\\envs\\aiku\\lib\\site-packages (from requests->huggingface-hub>=0.4.0->sentence-transformers>=0.3.8->keybert) (2024.2.2)\n"
          ]
        },
        {
          "name": "stderr",
          "output_type": "stream",
          "text": [
            "WARNING: Ignoring invalid distribution -cipy (c:\\users\\owj04\\anaconda3\\envs\\aiku\\lib\\site-packages)\n",
            "WARNING: Ignoring invalid distribution -cipy (c:\\users\\owj04\\anaconda3\\envs\\aiku\\lib\\site-packages)\n"
          ]
        },
        {
          "name": "stdout",
          "output_type": "stream",
          "text": [
            "Requirement already satisfied: konlpy in c:\\users\\owj04\\anaconda3\\envs\\aiku\\lib\\site-packages (0.6.0)"
          ]
        },
        {
          "name": "stderr",
          "output_type": "stream",
          "text": [
            "WARNING: Ignoring invalid distribution -cipy (c:\\users\\owj04\\anaconda3\\envs\\aiku\\lib\\site-packages)\n",
            "WARNING: Ignoring invalid distribution -cipy (c:\\users\\owj04\\anaconda3\\envs\\aiku\\lib\\site-packages)\n"
          ]
        },
        {
          "name": "stdout",
          "output_type": "stream",
          "text": [
            "\n",
            "Requirement already satisfied: JPype1>=0.7.0 in c:\\users\\owj04\\anaconda3\\envs\\aiku\\lib\\site-packages (from konlpy) (1.5.0)\n",
            "Requirement already satisfied: lxml>=4.1.0 in c:\\users\\owj04\\anaconda3\\envs\\aiku\\lib\\site-packages (from konlpy) (4.9.2)\n",
            "Requirement already satisfied: numpy>=1.6 in c:\\users\\owj04\\anaconda3\\envs\\aiku\\lib\\site-packages (from konlpy) (1.24.3)\n",
            "Requirement already satisfied: packaging in c:\\users\\owj04\\anaconda3\\envs\\aiku\\lib\\site-packages (from JPype1>=0.7.0->konlpy) (23.0)\n"
          ]
        }
      ],
      "source": [
        "!pip install \\\n",
        "  torch \\\n",
        "  torchvision \\\n",
        "  torchaudio \\\n",
        "  --extra-index-url https://download.pytorch.org/whl/cu116\n",
        "\n",
        "!pip install \\\n",
        "  keybert\n",
        "\n",
        "!pip install \\\n",
        "  konlpy"
      ]
    },
    {
      "cell_type": "markdown",
      "metadata": {
        "id": "1HODn92Xjd-9"
      },
      "source": [
        "### **1.2 - 라이브러리 불러오기**\n",
        "필요한 라이브러리를 불러옵니다. 별도로 수정하지 말아주세요."
      ]
    },
    {
      "cell_type": "code",
      "execution_count": 73,
      "metadata": {
        "id": "qHmuiJ2hbL-G"
      },
      "outputs": [],
      "source": [
        "import os\n",
        "import csv\n",
        "import numpy as np\n",
        "import random\n",
        "import torch\n",
        "import pandas as pd\n",
        "from tqdm import tqdm\n",
        "\n",
        "from keybert import KeyBERT\n",
        "\n",
        "import konlpy\n",
        "from konlpy.tag import Komoran\n",
        "\n",
        "from typing import List, Tuple, Dict, Literal, Optional, Callable"
      ]
    },
    {
      "cell_type": "code",
      "execution_count": 45,
      "metadata": {},
      "outputs": [],
      "source": [
        "import warnings\n",
        "warnings.simplefilter(action='ignore', category=UserWarning)"
      ]
    },
    {
      "cell_type": "markdown",
      "metadata": {
        "id": "ndprB9MKl66J"
      },
      "source": [
        "### **1.3 - Seed 고정**\n",
        "결과를 일정하게 유지하기 위해 모든 SEED를 고정합니다. 별도로 수정하지 말아주세요."
      ]
    },
    {
      "cell_type": "code",
      "execution_count": 9,
      "metadata": {
        "id": "z9iAwfyhl80p"
      },
      "outputs": [],
      "source": [
        "def seed_everything(seed: int = 42):\n",
        "    random.seed(seed)\n",
        "    np.random.seed(seed)\n",
        "    os.environ[\"PYTHONHASHSEED\"] = str(seed)\n",
        "    torch.manual_seed(seed)\n",
        "    torch.cuda.manual_seed(seed)  # type: ignore\n",
        "    torch.backends.cudnn.deterministic = True  # type: ignore\n",
        "    torch.backends.cudnn.benchmark = True  # type: ignore\n",
        "\n",
        "seed_everything()"
      ]
    },
    {
      "cell_type": "markdown",
      "metadata": {
        "id": "A_dIm2YTjclv"
      },
      "source": [
        "### **1.4 - Colab**\n",
        "코랩에 접근하기 위해 실행합니다. 그 전에, Colab 폴더에 코드와 데이터셋을 올바르게 넣었는지 확인해주세요."
      ]
    },
    {
      "cell_type": "code",
      "execution_count": 10,
      "metadata": {
        "colab": {
          "base_uri": "https://localhost:8080/"
        },
        "id": "SaIHJFKtjhpA",
        "outputId": "69996aa6-06e4-46a0-a231-fbb3a86aea4b"
      },
      "outputs": [
        {
          "ename": "ModuleNotFoundError",
          "evalue": "No module named 'google.colab'",
          "output_type": "error",
          "traceback": [
            "\u001b[1;31m---------------------------------------------------------------------------\u001b[0m",
            "\u001b[1;31mModuleNotFoundError\u001b[0m                       Traceback (most recent call last)",
            "Cell \u001b[1;32mIn[10], line 1\u001b[0m\n\u001b[1;32m----> 1\u001b[0m \u001b[38;5;28;01mfrom\u001b[39;00m \u001b[38;5;21;01mgoogle\u001b[39;00m\u001b[38;5;21;01m.\u001b[39;00m\u001b[38;5;21;01mcolab\u001b[39;00m \u001b[38;5;28;01mimport\u001b[39;00m drive\n\u001b[0;32m      2\u001b[0m drive\u001b[38;5;241m.\u001b[39mmount(\u001b[38;5;124m'\u001b[39m\u001b[38;5;124m/content/drive\u001b[39m\u001b[38;5;124m'\u001b[39m)\n",
            "\u001b[1;31mModuleNotFoundError\u001b[0m: No module named 'google.colab'"
          ]
        }
      ],
      "source": [
        "from google.colab import drive\n",
        "drive.mount('/content/drive')"
      ]
    },
    {
      "cell_type": "markdown",
      "metadata": {
        "id": "LqnfsLXCbL-G"
      },
      "source": [
        "## **2 - 데이터셋**"
      ]
    },
    {
      "cell_type": "markdown",
      "metadata": {
        "id": "GQngh74dC_wy"
      },
      "source": [
        "### **2.1 - 데이터셋 로드**\n",
        "데이터셋을 드라이브에서 불러옵니다."
      ]
    },
    {
      "cell_type": "code",
      "execution_count": null,
      "metadata": {},
      "outputs": [],
      "source": [
        "PATH = './datasets/원자력+원전+탈원전_news_df.xlsx'\n",
        "df1 = pd.read_excel(PATH)\n",
        "\n",
        "PATH = './datasets/사설_반대.xlsx'\n",
        "df2 = pd.read_excel(PATH)\n",
        "\n",
        "PATH = './datasets/고리+신한울+새울+월성+신월성_news_df.xlsx'\n",
        "df3 = pd.read_excel(PATH)\n",
        "\n",
        "# df = pd.concat([df1, df2, df3], axis=0)\n",
        "\n",
        "df = df2"
      ]
    },
    {
      "cell_type": "markdown",
      "metadata": {
        "id": "0o9Bu5DGC-su"
      },
      "source": [
        "미리보기"
      ]
    },
    {
      "cell_type": "code",
      "execution_count": 12,
      "metadata": {
        "colab": {
          "base_uri": "https://localhost:8080/",
          "height": 597
        },
        "id": "Mm6v33nM8JC8",
        "outputId": "dfb57ea3-5ed0-4282-8104-8b810240e251"
      },
      "outputs": [
        {
          "data": {
            "text/html": [
              "<div>\n",
              "<style scoped>\n",
              "    .dataframe tbody tr th:only-of-type {\n",
              "        vertical-align: middle;\n",
              "    }\n",
              "\n",
              "    .dataframe tbody tr th {\n",
              "        vertical-align: top;\n",
              "    }\n",
              "\n",
              "    .dataframe thead th {\n",
              "        text-align: right;\n",
              "    }\n",
              "</style>\n",
              "<table border=\"1\" class=\"dataframe\">\n",
              "  <thead>\n",
              "    <tr style=\"text-align: right;\">\n",
              "      <th></th>\n",
              "      <th>news_title</th>\n",
              "      <th>news_date</th>\n",
              "      <th>news_company</th>\n",
              "      <th>news_body</th>\n",
              "    </tr>\n",
              "  </thead>\n",
              "  <tbody>\n",
              "    <tr>\n",
              "      <th>0</th>\n",
              "      <td>[사설] `탈원전`, 방향은 맞지만 부작용 최소화해야</td>\n",
              "      <td>2017-05-29</td>\n",
              "      <td>디지털타임스</td>\n",
              "      <td>29일 국정기획자문위원회 이개호 경제2분과 위원장이 원자력안전위원회(원안위)에 원전...</td>\n",
              "    </tr>\n",
              "    <tr>\n",
              "      <th>1</th>\n",
              "      <td>[사설] 탈원전·석탄 조급증…안전하면서 값싼 전기는 없다</td>\n",
              "      <td>2017-05-30</td>\n",
              "      <td>한국경제</td>\n",
              "      <td>문재인 정부의 에너지정책이 탈(脫)원전, 탈화력발전으로 급선회하고 있다. 그제 국정...</td>\n",
              "    </tr>\n",
              "    <tr>\n",
              "      <th>2</th>\n",
              "      <td>[fn사설] 새 정부 탈원전 정책 우려 새겨 들어야</td>\n",
              "      <td>2017-06-01</td>\n",
              "      <td>파이낸셜뉴스</td>\n",
              "      <td>전문가 200명 비판 성명 방향 맞지만 너무 서둘러     에너지 분야 전문가들이 ...</td>\n",
              "    </tr>\n",
              "    <tr>\n",
              "      <th>3</th>\n",
              "      <td>[사설] 탈원전…정규직화…'밀어붙이기 정책'에서 놓치는 것들</td>\n",
              "      <td>2017-06-01</td>\n",
              "      <td>한국경제</td>\n",
              "      <td>교수 230명 성명 \"에너지정책 전문가 논의 절실\"일자리 해법, 누구나 비판하고 토...</td>\n",
              "    </tr>\n",
              "    <tr>\n",
              "      <th>4</th>\n",
              "      <td>&lt;사설&gt;성급한 脫원전은 電力안보 해친다는 전문가들의 우려</td>\n",
              "      <td>2017-06-02</td>\n",
              "      <td>문화일보</td>\n",
              "      <td>문재인 정부의 탈(脫)원전 정책에 대해 에너지 전문가들이 정면으로 비판하고 나섰다....</td>\n",
              "    </tr>\n",
              "  </tbody>\n",
              "</table>\n",
              "</div>"
            ],
            "text/plain": [
              "                          news_title   news_date news_company  \\\n",
              "0      [사설] `탈원전`, 방향은 맞지만 부작용 최소화해야  2017-05-29       디지털타임스   \n",
              "1    [사설] 탈원전·석탄 조급증…안전하면서 값싼 전기는 없다  2017-05-30         한국경제   \n",
              "2       [fn사설] 새 정부 탈원전 정책 우려 새겨 들어야  2017-06-01       파이낸셜뉴스   \n",
              "3  [사설] 탈원전…정규직화…'밀어붙이기 정책'에서 놓치는 것들  2017-06-01         한국경제   \n",
              "4    <사설>성급한 脫원전은 電力안보 해친다는 전문가들의 우려  2017-06-02         문화일보   \n",
              "\n",
              "                                           news_body  \n",
              "0  29일 국정기획자문위원회 이개호 경제2분과 위원장이 원자력안전위원회(원안위)에 원전...  \n",
              "1  문재인 정부의 에너지정책이 탈(脫)원전, 탈화력발전으로 급선회하고 있다. 그제 국정...  \n",
              "2  전문가 200명 비판 성명 방향 맞지만 너무 서둘러     에너지 분야 전문가들이 ...  \n",
              "3  교수 230명 성명 \"에너지정책 전문가 논의 절실\"일자리 해법, 누구나 비판하고 토...  \n",
              "4  문재인 정부의 탈(脫)원전 정책에 대해 에너지 전문가들이 정면으로 비판하고 나섰다....  "
            ]
          },
          "execution_count": 12,
          "metadata": {},
          "output_type": "execute_result"
        }
      ],
      "source": [
        "df.head()"
      ]
    },
    {
      "cell_type": "markdown",
      "metadata": {
        "id": "J6_lxg99bL-I"
      },
      "source": [
        "### **2.2 - 텍스트 전처리**\n",
        "해당 데이터는 크롤링된 데이터로, 올바른 결과를 위해서는 전처리가 필요합니다.\n",
        "뉴스 기사를 위한 전처리 코드는 https://colab.research.google.com/drive/1O42v6YzHbTo_l36VG1xGp0aEuA0J8M3V?usp=sharing#scrollTo=P7JBkNna1jze 에서 가져왔습니다."
      ]
    },
    {
      "cell_type": "code",
      "execution_count": 13,
      "metadata": {
        "id": "-soe0xvfbL-I"
      },
      "outputs": [],
      "source": [
        "df['news_title'] = df['news_title'].map(lambda x: str(x))"
      ]
    },
    {
      "cell_type": "code",
      "execution_count": 14,
      "metadata": {
        "id": "n5G4R8dMbL-I"
      },
      "outputs": [],
      "source": [
        "import re, unicodedata\n",
        "from string import whitespace\n",
        "pattern_whitespace = re.compile(f'[{whitespace}]+')\n",
        "\n",
        "df['news_title'] = df['news_title'].str.replace(pattern_whitespace, ' ').map(lambda x: unicodedata.normalize('NFC', x)).str.strip()\n"
      ]
    },
    {
      "cell_type": "code",
      "execution_count": 15,
      "metadata": {
        "id": "BV99udLsbL-J"
      },
      "outputs": [],
      "source": [
        "def clean_byline(text):\n",
        "    # byline\n",
        "    pattern_email = re.compile(r'[-_0-9a-z]+@[-_0-9a-z]+(?:\\.[0-9a-z]+)+', flags=re.IGNORECASE)\n",
        "    pattern_url = re.compile(r'(?:https?:\\/\\/)?[-_0-9a-z]+(?:\\.[-_0-9a-z]+)+', flags=re.IGNORECASE)\n",
        "    pattern_others = re.compile(r'\\.([^\\.]*(?:기자|특파원|교수|작가|대표|논설|고문|주필|부문장|팀장|장관|원장|연구원|이사장|위원|실장|차장|부장|에세이|화백|사설|소장|단장|과장|기획자|큐레이터|저작권|평론가|©|©|ⓒ|\\@|\\/|=|▶|무단|전재|재배포|금지|\\[|\\]|\\(\\))[^\\.]*)$')\n",
        "    result = pattern_email.sub('', text)\n",
        "    result = pattern_url.sub('', result)\n",
        "    result = pattern_others.sub('.', result)\n",
        "    pattern_bracket = re.compile(r'^((?:\\[.+\\])|(?:【.+】)|(?:<.+>)|(?:◆.+◆)\\s)')\n",
        "    result = pattern_bracket.sub('', result).strip()\n",
        "\n",
        "    return result\n",
        "\n",
        "df['news_title'] = df['news_title'].map(clean_byline)"
      ]
    },
    {
      "cell_type": "code",
      "execution_count": 16,
      "metadata": {
        "id": "Es7xUoZ1bL-J"
      },
      "outputs": [],
      "source": [
        "from string import whitespace, punctuation\n",
        "\n",
        "def text_filter(text):\n",
        "    punct_except_percent = ''.join([chr for chr in punctuation if chr != '%'])\n",
        "    whitespace_convert_pattern = re.compile(f'[{whitespace}{punct_except_percent}]+')\n",
        "    exclude_pattern = re.compile(r'[^\\% 0-9a-zA-Zㄱ-ㅣ가-힣]+')\n",
        "    result = whitespace_convert_pattern.sub(' ', text)\n",
        "    result = exclude_pattern.sub(' ', result).strip()\n",
        "    result = whitespace_convert_pattern.sub(' ', result)\n",
        "    return result\n",
        "\n",
        "df['news_title'] = df['news_title'].map(text_filter)"
      ]
    },
    {
      "cell_type": "markdown",
      "metadata": {
        "id": "bqw_8lxiDZon"
      },
      "source": [
        "전처리 후 결과 미리보기"
      ]
    },
    {
      "cell_type": "code",
      "execution_count": 17,
      "metadata": {
        "colab": {
          "base_uri": "https://localhost:8080/",
          "height": 206
        },
        "id": "izf1r4LRktJi",
        "outputId": "7ada02cc-8010-4800-aa6f-50b780aa44c8"
      },
      "outputs": [
        {
          "data": {
            "text/html": [
              "<div>\n",
              "<style scoped>\n",
              "    .dataframe tbody tr th:only-of-type {\n",
              "        vertical-align: middle;\n",
              "    }\n",
              "\n",
              "    .dataframe tbody tr th {\n",
              "        vertical-align: top;\n",
              "    }\n",
              "\n",
              "    .dataframe thead th {\n",
              "        text-align: right;\n",
              "    }\n",
              "</style>\n",
              "<table border=\"1\" class=\"dataframe\">\n",
              "  <thead>\n",
              "    <tr style=\"text-align: right;\">\n",
              "      <th></th>\n",
              "      <th>news_title</th>\n",
              "      <th>news_date</th>\n",
              "      <th>news_company</th>\n",
              "      <th>news_body</th>\n",
              "    </tr>\n",
              "  </thead>\n",
              "  <tbody>\n",
              "    <tr>\n",
              "      <th>0</th>\n",
              "      <td>탈원전 방향은 맞지만 부작용 최소화해야</td>\n",
              "      <td>2017-05-29</td>\n",
              "      <td>디지털타임스</td>\n",
              "      <td>29일 국정기획자문위원회 이개호 경제2분과 위원장이 원자력안전위원회(원안위)에 원전...</td>\n",
              "    </tr>\n",
              "    <tr>\n",
              "      <th>1</th>\n",
              "      <td>탈원전 석탄 조급증 안전하면서 값싼 전기는 없다</td>\n",
              "      <td>2017-05-30</td>\n",
              "      <td>한국경제</td>\n",
              "      <td>문재인 정부의 에너지정책이 탈(脫)원전, 탈화력발전으로 급선회하고 있다. 그제 국정...</td>\n",
              "    </tr>\n",
              "    <tr>\n",
              "      <th>2</th>\n",
              "      <td>새 정부 탈원전 정책 우려 새겨 들어야</td>\n",
              "      <td>2017-06-01</td>\n",
              "      <td>파이낸셜뉴스</td>\n",
              "      <td>전문가 200명 비판 성명 방향 맞지만 너무 서둘러     에너지 분야 전문가들이 ...</td>\n",
              "    </tr>\n",
              "    <tr>\n",
              "      <th>3</th>\n",
              "      <td>탈원전 정규직화 밀어붙이기 정책 에서 놓치는 것들</td>\n",
              "      <td>2017-06-01</td>\n",
              "      <td>한국경제</td>\n",
              "      <td>교수 230명 성명 \"에너지정책 전문가 논의 절실\"일자리 해법, 누구나 비판하고 토...</td>\n",
              "    </tr>\n",
              "    <tr>\n",
              "      <th>4</th>\n",
              "      <td>성급한 원전은 안보 해친다는 전문가들의 우려</td>\n",
              "      <td>2017-06-02</td>\n",
              "      <td>문화일보</td>\n",
              "      <td>문재인 정부의 탈(脫)원전 정책에 대해 에너지 전문가들이 정면으로 비판하고 나섰다....</td>\n",
              "    </tr>\n",
              "  </tbody>\n",
              "</table>\n",
              "</div>"
            ],
            "text/plain": [
              "                    news_title   news_date news_company  \\\n",
              "0        탈원전 방향은 맞지만 부작용 최소화해야  2017-05-29       디지털타임스   \n",
              "1   탈원전 석탄 조급증 안전하면서 값싼 전기는 없다  2017-05-30         한국경제   \n",
              "2        새 정부 탈원전 정책 우려 새겨 들어야  2017-06-01       파이낸셜뉴스   \n",
              "3  탈원전 정규직화 밀어붙이기 정책 에서 놓치는 것들  2017-06-01         한국경제   \n",
              "4     성급한 원전은 안보 해친다는 전문가들의 우려  2017-06-02         문화일보   \n",
              "\n",
              "                                           news_body  \n",
              "0  29일 국정기획자문위원회 이개호 경제2분과 위원장이 원자력안전위원회(원안위)에 원전...  \n",
              "1  문재인 정부의 에너지정책이 탈(脫)원전, 탈화력발전으로 급선회하고 있다. 그제 국정...  \n",
              "2  전문가 200명 비판 성명 방향 맞지만 너무 서둘러     에너지 분야 전문가들이 ...  \n",
              "3  교수 230명 성명 \"에너지정책 전문가 논의 절실\"일자리 해법, 누구나 비판하고 토...  \n",
              "4  문재인 정부의 탈(脫)원전 정책에 대해 에너지 전문가들이 정면으로 비판하고 나섰다....  "
            ]
          },
          "execution_count": 17,
          "metadata": {},
          "output_type": "execute_result"
        }
      ],
      "source": [
        "df.head()"
      ]
    },
    {
      "cell_type": "markdown",
      "metadata": {
        "id": "-LZ-IlICbL-J"
      },
      "source": [
        "## **3 - 모델**"
      ]
    },
    {
      "cell_type": "markdown",
      "metadata": {
        "id": "nDOxasqObL-J"
      },
      "source": [
        "기본으로 제공하는 SBERT는 영어 문장을 대상으로만 문장을 분류, 군집화 할 수 있습니다. <br>\n",
        "한국어를 활용해 SBERT를 수행하고 싶다면, 한국어를 지원하는 BERT모델을 사용해야합니다. <br>\n",
        "한국어를 지원하는 SBERT모델은 [여기]()에서 찾을수 있습니다.<br>\n",
        "(이때, 주의할 점은 문장간의 유사도를 판별할 수 있는 모델을 사용해야 하기 때문에, 꼭 일반적인 BERT가 아닌 SBERT를 사용해야 합니다!)"
      ]
    },
    {
      "cell_type": "markdown",
      "metadata": {
        "id": "_D_sb5tyNSjs"
      },
      "source": [
        "**HuggingFace에서 한국어 SBERT모델 찾는법** <br>\n",
        "- Hugging Face > Models > Natural Language Processing(좌측 메뉴)에 들어간다\n",
        "- Filter by name에 \"ko\"라고 검색\n",
        "- 검색된 다양한 모델에 들어간 후 원하는 모델을 정합니다.\n",
        "\n",
        "**모델을 고르는 방법** <br>\n",
        "- 모델의 성능 (주관적이지만 기능을 수행하기에 무리가 없는 수준이어야 합니다.)\n",
        "- 어떤 데이터셋으로 학습되었는가? (내가 사용할 Domain과 비슷한 Corpus로 학습된 모델이 좋습니다.)"
      ]
    },
    {
      "cell_type": "markdown",
      "metadata": {
        "id": "t2e6dwobNVZr"
      },
      "source": [
        "실습은 Hugging Face의 \"jhgan/ko-sroberta-multitask\"을 사용해서 진행하겠습니다."
      ]
    },
    {
      "cell_type": "markdown",
      "metadata": {
        "id": "NEtI-in-bL-J"
      },
      "source": [
        "### **3.1 - 모델 불러오기**"
      ]
    },
    {
      "cell_type": "markdown",
      "metadata": {
        "id": "U9wtSQuJbL-J"
      },
      "source": [
        "그냥 모델을 간단히 불러와서 설정해도 되지만, 원하는 결과를 도출하기 위해서는 다양한 하이퍼파라미터를 직접 설정할 필요가 있습니다.\n",
        "아래의 주석에 맞춰 차근차근 따라가보세요."
      ]
    },
    {
      "cell_type": "code",
      "execution_count": 18,
      "metadata": {
        "id": "1sdRWTuXbL-J"
      },
      "outputs": [],
      "source": [
        "kw_model = KeyBERT(model='jhgan/ko-sroberta-multitask')"
      ]
    },
    {
      "cell_type": "markdown",
      "metadata": {
        "id": "DOOttxbGbL-K"
      },
      "source": [
        "### **3.3 - 하이퍼파라미터 설정**"
      ]
    },
    {
      "cell_type": "markdown",
      "metadata": {
        "id": "00_qtAD9bL-K"
      },
      "source": [
        "**설정해야하는 값**\n",
        "- `keyphrase_ngram_range` : 토픽으로 사용할 키워드들의 ngram 길이를 설정 / (1, 2)면 1~2 글자로 이루어진 구를 대상으로 토픽 모델링을 진행\n",
        "- `top_n` : 최대 몇개의 토픽을 추출할 것인지 설정\n",
        "- `stop_words` : 불용어를 List로 전달"
      ]
    },
    {
      "cell_type": "code",
      "execution_count": 58,
      "metadata": {
        "id": "OkNeCavNbL-K"
      },
      "outputs": [],
      "source": [
        "top_n = 5\n",
        "keyphrase_ngram_range = (1, 1)"
      ]
    },
    {
      "cell_type": "code",
      "execution_count": 59,
      "metadata": {
        "id": "sElxSRe8_1DF"
      },
      "outputs": [],
      "source": [
        "STOPWORDS_PATH = './datasets/user_stopwords.csv'\n",
        "\n",
        "with open(STOPWORDS_PATH, 'r', encoding='cp949') as f:\n",
        "    tmp = csv.reader(f)\n",
        "    stop_words = set([l[0] for l in tmp])"
      ]
    },
    {
      "cell_type": "markdown",
      "metadata": {
        "id": "G3pyHHltEimG"
      },
      "source": [
        "## **4 - 키워드 추출하기**"
      ]
    },
    {
      "cell_type": "markdown",
      "metadata": {
        "id": "-Qfe_nPPbL-K"
      },
      "source": [
        "이제 키워드를 추출해보겠습니다. 무거운 BERT모델을 사용하므로 꼭 GPU환경에서 실행하셔야하며, 30분 이상의 시간이 소요됩니다.\n",
        "\n",
        "KeyBERT는 BERT의 기본 지식을 활용하므로, 각 문장마다 별도의 딜레이없이 바로바로 키워드를 추출할 수 있다는 장점이 있습니다.\n",
        "\n",
        "5개의 문장만 추출해보겠습니다."
      ]
    },
    {
      "cell_type": "code",
      "execution_count": 60,
      "metadata": {
        "colab": {
          "base_uri": "https://localhost:8080/",
          "height": 228,
          "referenced_widgets": [
            "e17a64e3a8ca42beaac7a7702dcd66c1",
            "a7c0e99bab0a4f96af7ab7f9dbb350ba",
            "bf9f95d15b744859bada0cf05ec896cd",
            "0cff16a813d942bcb28d85587c2aa490",
            "52657f16846d41668b2ccfe96ab7ddf5",
            "0f21abce0eb949c583be5536dff0d1da",
            "273704738a174b45bf119a1914cca52d",
            "a421e762d7e7479f99e23e7589dd2bea",
            "cc9c276286a94ac8832e5a111c57cd4f",
            "a371cfa9573a44b3988f045b62fe95a9",
            "95a08d4dc3334257a548b0181f72e25a"
          ]
        },
        "id": "5rn9kXsnbL-K",
        "outputId": "c36558cb-daba-4e24-a737-45e8f561b5c7"
      },
      "outputs": [
        {
          "name": "stdout",
          "output_type": "stream",
          "text": [
            "문장 : 탈원전 방향은 맞지만 부작용 최소화해야\n",
            "토픽 : [('탈원전', 0.7432), ('최소화해야', 0.5011), ('방향은', 0.2818), ('부작용', 0.2447), ('맞지만', 0.19)] \n",
            "\n",
            "문장 : 탈원전 석탄 조급증 안전하면서 값싼 전기는 없다\n",
            "토픽 : [('탈원전', 0.602), ('전기는', 0.5102), ('값싼', 0.2545), ('안전하면서', 0.2506), ('조급증', 0.2364)] \n",
            "\n",
            "문장 : 새 정부 탈원전 정책 우려 새겨 들어야\n",
            "토픽 : [('탈원전', 0.6832), ('우려', 0.2459), ('정부', 0.1332), ('들어야', 0.0941), ('새겨', 0.0499)] \n",
            "\n",
            "문장 : 탈원전 정규직화 밀어붙이기 정책 에서 놓치는 것들\n",
            "토픽 : [('탈원전', 0.6304), ('정규직화', 0.4033), ('놓치는', 0.2757), ('밀어붙이기', 0.22), ('정책', 0.0637)] \n",
            "\n",
            "문장 : 성급한 원전은 안보 해친다는 전문가들의 우려\n",
            "토픽 : [('원전은', 0.5054), ('우려', 0.3103), ('안보', 0.2958), ('해친다는', 0.2934), ('성급한', 0.2039)] \n",
            "\n"
          ]
        }
      ],
      "source": [
        "for text in df['news_title'][:5]:\n",
        "    print(f\"문장 : {text}\")\n",
        "    \n",
        "    keywords = kw_model.extract_keywords(\n",
        "        docs = text, \n",
        "        keyphrase_ngram_range = keyphrase_ngram_range, \n",
        "        stop_words = stop_words,\n",
        "        top_n = top_n\n",
        "        )\n",
        "    print(f\"토픽 : {keywords} \\n\")"
      ]
    },
    {
      "cell_type": "markdown",
      "metadata": {
        "id": "qRjDM6BwbL-L"
      },
      "source": [
        "## **5 - 전처리**"
      ]
    },
    {
      "cell_type": "markdown",
      "metadata": {},
      "source": [
        "비슷한 키워드만 반복하고, 키워드가 부자연스러운 등 생각보다 결과가 불만족스럽습니다. 다양한 전처리를 적용한 후 다시 결과를 관찰해 보도록 하겠습니다."
      ]
    },
    {
      "cell_type": "markdown",
      "metadata": {
        "id": "ZmQ-tChJE_CC"
      },
      "source": [
        "### **5.1 - 품사 필터링**\n",
        "KeyBERT는 기본적으로 띄어쓰기 단위로 N-gram을 계산한 후, 토픽 모델링을 진행합니다.<br>\n",
        "하지만, 한국어는 여러가지 조사나 붙여쓰는 단어들이 섞여 있어 띄어쓰기 단위로 모델링 하는 것이 최적의 결과가 아닐 수 있습니다.<br>\n",
        "따라서, 불필요한 품사를 제거하고, 명사, 형용사, 동사, 관형사, 일반부사만 사용하도록 필터링합니다."
      ]
    },
    {
      "cell_type": "markdown",
      "metadata": {},
      "source": [
        "(이때, 꼭 필요한 단어는 사용자 사전에 등록하도록합니다.)"
      ]
    },
    {
      "cell_type": "code",
      "execution_count": 95,
      "metadata": {},
      "outputs": [],
      "source": [
        "USER_DICT_PATH = './datasets/user_dic.txt'\n",
        "\n",
        "custom_dic = [\n",
        "    '탈원전\\tNNG',\n",
        "]\n",
        "\n",
        "with open(USER_DICT_PATH, 'w', encoding='utf-8') as f:\n",
        "    for line in custom_dic:\n",
        "        f.write(line + '\\n')"
      ]
    },
    {
      "cell_type": "code",
      "execution_count": 98,
      "metadata": {
        "id": "_GUvcJOIbL-L"
      },
      "outputs": [],
      "source": [
        "tagger = Komoran(userdic='./datasets/user_dic.txt')\n",
        "tag_list=['NNG', 'NNP', 'NNB', 'VV', 'VA', 'MM', 'MAG']\n",
        "\n",
        "tokenized_text = []\n",
        "for text in df['news_title']:\n",
        "    word_tokens = ' '.join(map(lambda x: x[0], filter(lambda x: x[1] in tag_list, tagger.pos(text))))\n",
        "    tokenized_text.append(word_tokens) "
      ]
    },
    {
      "cell_type": "code",
      "execution_count": 103,
      "metadata": {},
      "outputs": [
        {
          "data": {
            "text/plain": [
              "['탈원전 방향 맞 부작용 최소',\n",
              " '탈원전 석탄 조급증 안전 값싸 전기 없',\n",
              " '새 정부 탈원전 정책 우려 새기 들',\n",
              " '탈원전 정규 직 밀어붙이 정책 놓치 것']"
            ]
          },
          "execution_count": 103,
          "metadata": {},
          "output_type": "execute_result"
        }
      ],
      "source": [
        "tokenized_text[:4]"
      ]
    },
    {
      "cell_type": "markdown",
      "metadata": {
        "id": "SYna4UazFEup"
      },
      "source": [
        "결과를 보겠습니다."
      ]
    },
    {
      "cell_type": "code",
      "execution_count": 100,
      "metadata": {
        "id": "LqGj8nBWbL-L"
      },
      "outputs": [
        {
          "name": "stdout",
          "output_type": "stream",
          "text": [
            "문장 : 탈원전 방향 맞 부작용 최소\n",
            "토픽 : [('탈원전', 0.8296), ('방향', 0.3018), ('부작용', 0.2864), ('최소', 0.2789)] \n",
            "\n",
            "문장 : 탈원전 석탄 조급증 안전 값싸 전기 없\n",
            "토픽 : [('탈원전', 0.6194), ('전기', 0.3925), ('값싸', 0.3398), ('안전', 0.2511), ('조급증', 0.2092)] \n",
            "\n",
            "문장 : 새 정부 탈원전 정책 우려 새기 들\n",
            "토픽 : [('탈원전', 0.7299), ('우려', 0.239), ('정부', 0.1664), ('새기', -0.0242), ('정책', -0.0268)] \n",
            "\n",
            "문장 : 탈원전 정규 직 밀어붙이 정책 놓치 것\n",
            "토픽 : [('탈원전', 0.7077), ('정규', 0.2489), ('놓치', 0.1947), ('밀어붙이', 0.1818), ('정책', 0.0447)] \n",
            "\n"
          ]
        }
      ],
      "source": [
        "for text in tokenized_text[:4]:\n",
        "    print(f\"문장 : {text}\")\n",
        "    \n",
        "    keywords = kw_model.extract_keywords(\n",
        "        docs = text, \n",
        "        keyphrase_ngram_range = keyphrase_ngram_range, \n",
        "        stop_words = stop_words,\n",
        "        top_n = top_n\n",
        "        )\n",
        "    print(f\"토픽 : {keywords} \\n\")"
      ]
    },
    {
      "cell_type": "markdown",
      "metadata": {
        "id": "P-Szgz-0FL8t"
      },
      "source": [
        "### **5.2 - 결과 다양성 조절하기**\n",
        "\n",
        "위에서 모델링한 결과를 보면 비슷한 뜻을 가진 토픽이 상위에 반복적으로 노출되는 것을 볼 수 있습니다.<br>\n",
        "이런 것들을 Max Sum Distance와 MMR(Max Margianl Relevance)를 통해 개선해보도록 하겠습니다."
      ]
    },
    {
      "cell_type": "markdown",
      "metadata": {},
      "source": [
        "**Max Sum Distance**\n",
        "\n",
        "Max Sum Distance는 nr_candidates개 만큼의 키워드를 추출한 후, 그 중 top_n 조합을 생성하고, 조합 내 아이템의 유사도의 합이 가장 적은 것을 토픽으로 설정하는 방식입니다."
      ]
    },
    {
      "cell_type": "markdown",
      "metadata": {},
      "source": [
        "**설정해야하는 값**\n",
        "- `use_maxsum` : True로 설정시 해당 옵션 사용\n",
        "- `nr_candidates` : top_n 조합을 계산할 키워드 풀의 크기 / 높을수록 키워드 다양해짐 / 설정하지 않으면 2 * top_n"
      ]
    },
    {
      "cell_type": "code",
      "execution_count": 101,
      "metadata": {},
      "outputs": [
        {
          "name": "stdout",
          "output_type": "stream",
          "text": [
            "문장 : 탈원전 방향 맞 부작용 최소\n",
            "원래 토픽 : [('탈원전', 0.8296), ('방향', 0.3018), ('부작용', 0.2864), ('최소', 0.2789)]\n",
            "MSD후 토픽 : [] \n",
            "\n",
            "문장 : 탈원전 석탄 조급증 안전 값싸 전기 없\n",
            "원래 토픽 : [('탈원전', 0.6194), ('전기', 0.3925), ('값싸', 0.3398), ('안전', 0.2511), ('조급증', 0.2092)]\n",
            "MSD후 토픽 : [('탈원전', 0.6194), ('전기', 0.3925), ('값싸', 0.3398), ('안전', 0.2511), ('조급증', 0.2092)] \n",
            "\n",
            "문장 : 새 정부 탈원전 정책 우려 새기 들\n",
            "원래 토픽 : [('탈원전', 0.7299), ('우려', 0.239), ('정부', 0.1664), ('새기', -0.0242), ('정책', -0.0268)]\n",
            "MSD후 토픽 : [('탈원전', 0.7299), ('우려', 0.239), ('정부', 0.1664), ('새기', -0.0242), ('정책', -0.0268)] \n",
            "\n",
            "문장 : 탈원전 정규 직 밀어붙이 정책 놓치 것\n",
            "원래 토픽 : [('탈원전', 0.7077), ('정규', 0.2489), ('놓치', 0.1947), ('밀어붙이', 0.1818), ('정책', 0.0447)]\n",
            "MSD후 토픽 : [('탈원전', 0.7077), ('정규', 0.2489), ('놓치', 0.1947), ('밀어붙이', 0.1818), ('정책', 0.0447)] \n",
            "\n"
          ]
        }
      ],
      "source": [
        "for text in tokenized_text[:4]:\n",
        "    print(f\"문장 : {text}\")\n",
        "    \n",
        "    keywords = kw_model.extract_keywords(\n",
        "        docs = text, \n",
        "        keyphrase_ngram_range = keyphrase_ngram_range, \n",
        "        stop_words = stop_words,\n",
        "        top_n = top_n\n",
        "        )\n",
        "    print(f\"원래 토픽 : {keywords}\")\n",
        "\n",
        "    keywords = kw_model.extract_keywords(\n",
        "        docs = text, \n",
        "        keyphrase_ngram_range = keyphrase_ngram_range, \n",
        "        stop_words = stop_words,\n",
        "        top_n = top_n,\n",
        "        use_maxsum=True, \n",
        "        nr_candidates=10\n",
        "        )\n",
        "    print(f\"MSD후 토픽 : {sorted(keywords, key=lambda x: x[1], reverse=True)} \\n\")"
      ]
    },
    {
      "cell_type": "markdown",
      "metadata": {},
      "source": [
        "**Maximal Marginal Relevance(MMR)**\n",
        "\n",
        "Maximal Marginal Relevance는 문서와 가장 유사한 토픽을 선정하고, 이미 선정된 토픽과 유사하지 않은 새로운 후보 중, 가장 유사한 키워드를 찾는 과정을 반복하며 토픽을 점진적으로 찾아나가는 방식입니다."
      ]
    },
    {
      "cell_type": "markdown",
      "metadata": {},
      "source": [
        "**설정해야하는 값**\n",
        "- `use_mmr` : True로 설정시 해당 옵션 사용\n",
        "- `diversity` : 높을수록 키워드 다양해짐(0~1)"
      ]
    },
    {
      "cell_type": "code",
      "execution_count": 102,
      "metadata": {},
      "outputs": [
        {
          "name": "stdout",
          "output_type": "stream",
          "text": [
            "문장 : 탈원전 방향 맞 부작용 최소\n",
            "원래 토픽 : [('탈원전', 0.8296), ('방향', 0.3018), ('부작용', 0.2864), ('최소', 0.2789)]\n",
            "MMR후 토픽 : [('탈원전', 0.8296), ('방향', 0.3018), ('부작용', 0.2864), ('최소', 0.2789)] \n",
            "\n",
            "문장 : 탈원전 석탄 조급증 안전 값싸 전기 없\n",
            "원래 토픽 : [('탈원전', 0.6194), ('전기', 0.3925), ('값싸', 0.3398), ('안전', 0.2511), ('조급증', 0.2092)]\n",
            "MMR후 토픽 : [('탈원전', 0.6194), ('전기', 0.3925), ('값싸', 0.3398), ('안전', 0.2511), ('조급증', 0.2092)] \n",
            "\n",
            "문장 : 새 정부 탈원전 정책 우려 새기 들\n",
            "원래 토픽 : [('탈원전', 0.7299), ('우려', 0.239), ('정부', 0.1664), ('새기', -0.0242), ('정책', -0.0268)]\n",
            "MMR후 토픽 : [('탈원전', 0.7299), ('우려', 0.239), ('정부', 0.1664), ('새기', -0.0242), ('정책', -0.0268)] \n",
            "\n",
            "문장 : 탈원전 정규 직 밀어붙이 정책 놓치 것\n",
            "원래 토픽 : [('탈원전', 0.7077), ('정규', 0.2489), ('놓치', 0.1947), ('밀어붙이', 0.1818), ('정책', 0.0447)]\n",
            "MMR후 토픽 : [('탈원전', 0.7077), ('정규', 0.2489), ('놓치', 0.1947), ('밀어붙이', 0.1818), ('정책', 0.0447)] \n",
            "\n"
          ]
        }
      ],
      "source": [
        "for text in tokenized_text[:4]:\n",
        "    print(f\"문장 : {text}\")\n",
        "    \n",
        "    keywords = kw_model.extract_keywords(\n",
        "        docs = text, \n",
        "        keyphrase_ngram_range = keyphrase_ngram_range, \n",
        "        stop_words = stop_words,\n",
        "        top_n = top_n\n",
        "        )\n",
        "    print(f\"원래 토픽 : {keywords}\")\n",
        "\n",
        "    keywords = kw_model.extract_keywords(\n",
        "        docs = text, \n",
        "        keyphrase_ngram_range = keyphrase_ngram_range, \n",
        "        stop_words = stop_words,\n",
        "        top_n = top_n,\n",
        "        use_mmr=True, \n",
        "        diversity=0.5\n",
        "        )\n",
        "    print(f\"MMR후 토픽 : {sorted(keywords, key=lambda x: x[1], reverse=True)} \\n\")"
      ]
    },
    {
      "cell_type": "markdown",
      "metadata": {
        "id": "TGek-V2zbL-T"
      },
      "source": [
        "## **수고하셨습니다**"
      ]
    },
    {
      "cell_type": "markdown",
      "metadata": {
        "id": "oEMLoHd1bL-T"
      },
      "source": [
        "더 많은 사용법은 [공식 GitHub](https://maartengr.github.io/BERTopic/index.html#installation)에서 찾아보세요!"
      ]
    }
  ],
  "metadata": {
    "colab": {
      "provenance": []
    },
    "kernelspec": {
      "display_name": "Python 3",
      "name": "python3"
    },
    "language_info": {
      "codemirror_mode": {
        "name": "ipython",
        "version": 3
      },
      "file_extension": ".py",
      "mimetype": "text/x-python",
      "name": "python",
      "nbconvert_exporter": "python",
      "pygments_lexer": "ipython3",
      "version": "0.0.0"
    },
    "widgets": {
      "application/vnd.jupyter.widget-state+json": {
        "0cff16a813d942bcb28d85587c2aa490": {
          "model_module": "@jupyter-widgets/controls",
          "model_module_version": "1.5.0",
          "model_name": "HTMLModel",
          "state": {
            "_dom_classes": [],
            "_model_module": "@jupyter-widgets/controls",
            "_model_module_version": "1.5.0",
            "_model_name": "HTMLModel",
            "_view_count": null,
            "_view_module": "@jupyter-widgets/controls",
            "_view_module_version": "1.5.0",
            "_view_name": "HTMLView",
            "description": "",
            "description_tooltip": null,
            "layout": "IPY_MODEL_a371cfa9573a44b3988f045b62fe95a9",
            "placeholder": "​",
            "style": "IPY_MODEL_95a08d4dc3334257a548b0181f72e25a",
            "value": " 66/66 [00:02&lt;00:00, 30.43it/s]"
          }
        },
        "0f21abce0eb949c583be5536dff0d1da": {
          "model_module": "@jupyter-widgets/base",
          "model_module_version": "1.2.0",
          "model_name": "LayoutModel",
          "state": {
            "_model_module": "@jupyter-widgets/base",
            "_model_module_version": "1.2.0",
            "_model_name": "LayoutModel",
            "_view_count": null,
            "_view_module": "@jupyter-widgets/base",
            "_view_module_version": "1.2.0",
            "_view_name": "LayoutView",
            "align_content": null,
            "align_items": null,
            "align_self": null,
            "border": null,
            "bottom": null,
            "display": null,
            "flex": null,
            "flex_flow": null,
            "grid_area": null,
            "grid_auto_columns": null,
            "grid_auto_flow": null,
            "grid_auto_rows": null,
            "grid_column": null,
            "grid_gap": null,
            "grid_row": null,
            "grid_template_areas": null,
            "grid_template_columns": null,
            "grid_template_rows": null,
            "height": null,
            "justify_content": null,
            "justify_items": null,
            "left": null,
            "margin": null,
            "max_height": null,
            "max_width": null,
            "min_height": null,
            "min_width": null,
            "object_fit": null,
            "object_position": null,
            "order": null,
            "overflow": null,
            "overflow_x": null,
            "overflow_y": null,
            "padding": null,
            "right": null,
            "top": null,
            "visibility": null,
            "width": null
          }
        },
        "273704738a174b45bf119a1914cca52d": {
          "model_module": "@jupyter-widgets/controls",
          "model_module_version": "1.5.0",
          "model_name": "DescriptionStyleModel",
          "state": {
            "_model_module": "@jupyter-widgets/controls",
            "_model_module_version": "1.5.0",
            "_model_name": "DescriptionStyleModel",
            "_view_count": null,
            "_view_module": "@jupyter-widgets/base",
            "_view_module_version": "1.2.0",
            "_view_name": "StyleView",
            "description_width": ""
          }
        },
        "52657f16846d41668b2ccfe96ab7ddf5": {
          "model_module": "@jupyter-widgets/base",
          "model_module_version": "1.2.0",
          "model_name": "LayoutModel",
          "state": {
            "_model_module": "@jupyter-widgets/base",
            "_model_module_version": "1.2.0",
            "_model_name": "LayoutModel",
            "_view_count": null,
            "_view_module": "@jupyter-widgets/base",
            "_view_module_version": "1.2.0",
            "_view_name": "LayoutView",
            "align_content": null,
            "align_items": null,
            "align_self": null,
            "border": null,
            "bottom": null,
            "display": null,
            "flex": null,
            "flex_flow": null,
            "grid_area": null,
            "grid_auto_columns": null,
            "grid_auto_flow": null,
            "grid_auto_rows": null,
            "grid_column": null,
            "grid_gap": null,
            "grid_row": null,
            "grid_template_areas": null,
            "grid_template_columns": null,
            "grid_template_rows": null,
            "height": null,
            "justify_content": null,
            "justify_items": null,
            "left": null,
            "margin": null,
            "max_height": null,
            "max_width": null,
            "min_height": null,
            "min_width": null,
            "object_fit": null,
            "object_position": null,
            "order": null,
            "overflow": null,
            "overflow_x": null,
            "overflow_y": null,
            "padding": null,
            "right": null,
            "top": null,
            "visibility": null,
            "width": null
          }
        },
        "95a08d4dc3334257a548b0181f72e25a": {
          "model_module": "@jupyter-widgets/controls",
          "model_module_version": "1.5.0",
          "model_name": "DescriptionStyleModel",
          "state": {
            "_model_module": "@jupyter-widgets/controls",
            "_model_module_version": "1.5.0",
            "_model_name": "DescriptionStyleModel",
            "_view_count": null,
            "_view_module": "@jupyter-widgets/base",
            "_view_module_version": "1.2.0",
            "_view_name": "StyleView",
            "description_width": ""
          }
        },
        "a371cfa9573a44b3988f045b62fe95a9": {
          "model_module": "@jupyter-widgets/base",
          "model_module_version": "1.2.0",
          "model_name": "LayoutModel",
          "state": {
            "_model_module": "@jupyter-widgets/base",
            "_model_module_version": "1.2.0",
            "_model_name": "LayoutModel",
            "_view_count": null,
            "_view_module": "@jupyter-widgets/base",
            "_view_module_version": "1.2.0",
            "_view_name": "LayoutView",
            "align_content": null,
            "align_items": null,
            "align_self": null,
            "border": null,
            "bottom": null,
            "display": null,
            "flex": null,
            "flex_flow": null,
            "grid_area": null,
            "grid_auto_columns": null,
            "grid_auto_flow": null,
            "grid_auto_rows": null,
            "grid_column": null,
            "grid_gap": null,
            "grid_row": null,
            "grid_template_areas": null,
            "grid_template_columns": null,
            "grid_template_rows": null,
            "height": null,
            "justify_content": null,
            "justify_items": null,
            "left": null,
            "margin": null,
            "max_height": null,
            "max_width": null,
            "min_height": null,
            "min_width": null,
            "object_fit": null,
            "object_position": null,
            "order": null,
            "overflow": null,
            "overflow_x": null,
            "overflow_y": null,
            "padding": null,
            "right": null,
            "top": null,
            "visibility": null,
            "width": null
          }
        },
        "a421e762d7e7479f99e23e7589dd2bea": {
          "model_module": "@jupyter-widgets/base",
          "model_module_version": "1.2.0",
          "model_name": "LayoutModel",
          "state": {
            "_model_module": "@jupyter-widgets/base",
            "_model_module_version": "1.2.0",
            "_model_name": "LayoutModel",
            "_view_count": null,
            "_view_module": "@jupyter-widgets/base",
            "_view_module_version": "1.2.0",
            "_view_name": "LayoutView",
            "align_content": null,
            "align_items": null,
            "align_self": null,
            "border": null,
            "bottom": null,
            "display": null,
            "flex": null,
            "flex_flow": null,
            "grid_area": null,
            "grid_auto_columns": null,
            "grid_auto_flow": null,
            "grid_auto_rows": null,
            "grid_column": null,
            "grid_gap": null,
            "grid_row": null,
            "grid_template_areas": null,
            "grid_template_columns": null,
            "grid_template_rows": null,
            "height": null,
            "justify_content": null,
            "justify_items": null,
            "left": null,
            "margin": null,
            "max_height": null,
            "max_width": null,
            "min_height": null,
            "min_width": null,
            "object_fit": null,
            "object_position": null,
            "order": null,
            "overflow": null,
            "overflow_x": null,
            "overflow_y": null,
            "padding": null,
            "right": null,
            "top": null,
            "visibility": null,
            "width": null
          }
        },
        "a7c0e99bab0a4f96af7ab7f9dbb350ba": {
          "model_module": "@jupyter-widgets/controls",
          "model_module_version": "1.5.0",
          "model_name": "HTMLModel",
          "state": {
            "_dom_classes": [],
            "_model_module": "@jupyter-widgets/controls",
            "_model_module_version": "1.5.0",
            "_model_name": "HTMLModel",
            "_view_count": null,
            "_view_module": "@jupyter-widgets/controls",
            "_view_module_version": "1.5.0",
            "_view_name": "HTMLView",
            "description": "",
            "description_tooltip": null,
            "layout": "IPY_MODEL_0f21abce0eb949c583be5536dff0d1da",
            "placeholder": "​",
            "style": "IPY_MODEL_273704738a174b45bf119a1914cca52d",
            "value": "Batches: 100%"
          }
        },
        "bf9f95d15b744859bada0cf05ec896cd": {
          "model_module": "@jupyter-widgets/controls",
          "model_module_version": "1.5.0",
          "model_name": "FloatProgressModel",
          "state": {
            "_dom_classes": [],
            "_model_module": "@jupyter-widgets/controls",
            "_model_module_version": "1.5.0",
            "_model_name": "FloatProgressModel",
            "_view_count": null,
            "_view_module": "@jupyter-widgets/controls",
            "_view_module_version": "1.5.0",
            "_view_name": "ProgressView",
            "bar_style": "success",
            "description": "",
            "description_tooltip": null,
            "layout": "IPY_MODEL_a421e762d7e7479f99e23e7589dd2bea",
            "max": 66,
            "min": 0,
            "orientation": "horizontal",
            "style": "IPY_MODEL_cc9c276286a94ac8832e5a111c57cd4f",
            "value": 66
          }
        },
        "cc9c276286a94ac8832e5a111c57cd4f": {
          "model_module": "@jupyter-widgets/controls",
          "model_module_version": "1.5.0",
          "model_name": "ProgressStyleModel",
          "state": {
            "_model_module": "@jupyter-widgets/controls",
            "_model_module_version": "1.5.0",
            "_model_name": "ProgressStyleModel",
            "_view_count": null,
            "_view_module": "@jupyter-widgets/base",
            "_view_module_version": "1.2.0",
            "_view_name": "StyleView",
            "bar_color": null,
            "description_width": ""
          }
        },
        "e17a64e3a8ca42beaac7a7702dcd66c1": {
          "model_module": "@jupyter-widgets/controls",
          "model_module_version": "1.5.0",
          "model_name": "HBoxModel",
          "state": {
            "_dom_classes": [],
            "_model_module": "@jupyter-widgets/controls",
            "_model_module_version": "1.5.0",
            "_model_name": "HBoxModel",
            "_view_count": null,
            "_view_module": "@jupyter-widgets/controls",
            "_view_module_version": "1.5.0",
            "_view_name": "HBoxView",
            "box_style": "",
            "children": [
              "IPY_MODEL_a7c0e99bab0a4f96af7ab7f9dbb350ba",
              "IPY_MODEL_bf9f95d15b744859bada0cf05ec896cd",
              "IPY_MODEL_0cff16a813d942bcb28d85587c2aa490"
            ],
            "layout": "IPY_MODEL_52657f16846d41668b2ccfe96ab7ddf5"
          }
        }
      }
    }
  },
  "nbformat": 4,
  "nbformat_minor": 0
}
