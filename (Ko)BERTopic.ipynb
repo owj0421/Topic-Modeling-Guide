{
  "cells": [
    {
      "cell_type": "markdown",
      "metadata": {
        "id": "7-3FZPKPbL-C"
      },
      "source": [
        "# **BERTopic 실습**"
      ]
    },
    {
      "cell_type": "markdown",
      "metadata": {
        "id": "3gBYz_Lq-GsY"
      },
      "source": [
        "이번 노트북에서는 BERTopic 모델을 한국어에 맞춰 사용할 수 있도록 Customizing한 후 인퍼런스 할 예정입니다. 인퍼런스 능력을 향상시키기 위해, 직접 BERT모델을 고르고, Tokenizer을 수정하며 주제를 merge하는 작업을 수행합니다. 이후, 결과를 시계열에 맞춰 시각화한 후 토픽 모델링의 결과를 확인합니다."
      ]
    },
    {
      "cell_type": "markdown",
      "metadata": {
        "id": "3XB32SCRCorU"
      },
      "source": [
        "## **1 - 준비작업**"
      ]
    },
    {
      "cell_type": "markdown",
      "metadata": {
        "id": "1VZP03BWjW34"
      },
      "source": [
        "### **1.1 - 라이브러리 설치**\n",
        "필요한 라이브러리를 설치합니다. 별도로 수정하지 말아주세요."
      ]
    },
    {
      "cell_type": "code",
      "execution_count": 1,
      "metadata": {
        "colab": {
          "base_uri": "https://localhost:8080/"
        },
        "id": "P8TcQd7ibL-F",
        "outputId": "c7841960-c46a-478a-b57a-e0242ae1e611"
      },
      "outputs": [
        {
          "name": "stdout",
          "output_type": "stream",
          "text": [
            "Looking in indexes: https://pypi.org/simple, https://download.pytorch.org/whl/cu116\n",
            "Requirement already satisfied: torch in /usr/local/lib/python3.10/dist-packages (2.1.0+cu121)\n",
            "Requirement already satisfied: torchvision in /usr/local/lib/python3.10/dist-packages (0.16.0+cu121)\n",
            "Requirement already satisfied: torchaudio in /usr/local/lib/python3.10/dist-packages (2.1.0+cu121)\n",
            "Requirement already satisfied: filelock in /usr/local/lib/python3.10/dist-packages (from torch) (3.13.1)\n",
            "Requirement already satisfied: typing-extensions in /usr/local/lib/python3.10/dist-packages (from torch) (4.9.0)\n",
            "Requirement already satisfied: sympy in /usr/local/lib/python3.10/dist-packages (from torch) (1.12)\n",
            "Requirement already satisfied: networkx in /usr/local/lib/python3.10/dist-packages (from torch) (3.2.1)\n",
            "Requirement already satisfied: jinja2 in /usr/local/lib/python3.10/dist-packages (from torch) (3.1.3)\n",
            "Requirement already satisfied: fsspec in /usr/local/lib/python3.10/dist-packages (from torch) (2023.6.0)\n",
            "Requirement already satisfied: triton==2.1.0 in /usr/local/lib/python3.10/dist-packages (from torch) (2.1.0)\n",
            "Requirement already satisfied: numpy in /usr/local/lib/python3.10/dist-packages (from torchvision) (1.23.5)\n",
            "Requirement already satisfied: requests in /usr/local/lib/python3.10/dist-packages (from torchvision) (2.31.0)\n",
            "Requirement already satisfied: pillow!=8.3.*,>=5.3.0 in /usr/local/lib/python3.10/dist-packages (from torchvision) (9.4.0)\n",
            "Requirement already satisfied: MarkupSafe>=2.0 in /usr/local/lib/python3.10/dist-packages (from jinja2->torch) (2.1.5)\n",
            "Requirement already satisfied: charset-normalizer<4,>=2 in /usr/local/lib/python3.10/dist-packages (from requests->torchvision) (3.3.2)\n",
            "Requirement already satisfied: idna<4,>=2.5 in /usr/local/lib/python3.10/dist-packages (from requests->torchvision) (3.6)\n",
            "Requirement already satisfied: urllib3<3,>=1.21.1 in /usr/local/lib/python3.10/dist-packages (from requests->torchvision) (2.0.7)\n",
            "Requirement already satisfied: certifi>=2017.4.17 in /usr/local/lib/python3.10/dist-packages (from requests->torchvision) (2024.2.2)\n",
            "Requirement already satisfied: mpmath>=0.19 in /usr/local/lib/python3.10/dist-packages (from sympy->torch) (1.3.0)\n",
            "Collecting bertopic\n",
            "  Downloading bertopic-0.16.0-py2.py3-none-any.whl (154 kB)\n",
            "\u001b[2K     \u001b[90m━━━━━━━━━━━━━━━━━━━━━━━━━━━━━━━━━━━━━━━━\u001b[0m \u001b[32m154.1/154.1 kB\u001b[0m \u001b[31m3.0 MB/s\u001b[0m eta \u001b[36m0:00:00\u001b[0m\n",
            "\u001b[?25hRequirement already satisfied: numpy>=1.20.0 in /usr/local/lib/python3.10/dist-packages (from bertopic) (1.23.5)\n",
            "Collecting hdbscan>=0.8.29 (from bertopic)\n",
            "  Downloading hdbscan-0.8.33.tar.gz (5.2 MB)\n",
            "\u001b[2K     \u001b[90m━━━━━━━━━━━━━━━━━━━━━━━━━━━━━━━━━━━━━━━━\u001b[0m \u001b[32m5.2/5.2 MB\u001b[0m \u001b[31m61.2 MB/s\u001b[0m eta \u001b[36m0:00:00\u001b[0m\n",
            "\u001b[?25h  Installing build dependencies ... \u001b[?25l\u001b[?25hdone\n",
            "  Getting requirements to build wheel ... \u001b[?25l\u001b[?25hdone\n",
            "  Preparing metadata (pyproject.toml) ... \u001b[?25l\u001b[?25hdone\n",
            "Collecting umap-learn>=0.5.0 (from bertopic)\n",
            "  Downloading umap-learn-0.5.5.tar.gz (90 kB)\n",
            "\u001b[2K     \u001b[90m━━━━━━━━━━━━━━━━━━━━━━━━━━━━━━━━━━━━━━━━\u001b[0m \u001b[32m90.9/90.9 kB\u001b[0m \u001b[31m15.3 MB/s\u001b[0m eta \u001b[36m0:00:00\u001b[0m\n",
            "\u001b[?25h  Preparing metadata (setup.py) ... \u001b[?25l\u001b[?25hdone\n",
            "Requirement already satisfied: pandas>=1.1.5 in /usr/local/lib/python3.10/dist-packages (from bertopic) (1.5.3)\n",
            "Requirement already satisfied: scikit-learn>=0.22.2.post1 in /usr/local/lib/python3.10/dist-packages (from bertopic) (1.2.2)\n",
            "Requirement already satisfied: tqdm>=4.41.1 in /usr/local/lib/python3.10/dist-packages (from bertopic) (4.66.1)\n",
            "Collecting sentence-transformers>=0.4.1 (from bertopic)\n",
            "  Downloading sentence_transformers-2.3.1-py3-none-any.whl (132 kB)\n",
            "\u001b[2K     \u001b[90m━━━━━━━━━━━━━━━━━━━━━━━━━━━━━━━━━━━━━━━━\u001b[0m \u001b[32m132.8/132.8 kB\u001b[0m \u001b[31m20.5 MB/s\u001b[0m eta \u001b[36m0:00:00\u001b[0m\n",
            "\u001b[?25hRequirement already satisfied: plotly>=4.7.0 in /usr/local/lib/python3.10/dist-packages (from bertopic) (5.15.0)\n",
            "\u001b[33mWARNING: bertopic 0.16.0 does not provide the extra 'visualization'\u001b[0m\u001b[33m\n",
            "\u001b[0mCollecting cython<3,>=0.27 (from hdbscan>=0.8.29->bertopic)\n",
            "  Using cached Cython-0.29.37-cp310-cp310-manylinux_2_17_x86_64.manylinux2014_x86_64.manylinux_2_24_x86_64.whl (1.9 MB)\n",
            "Requirement already satisfied: scipy>=1.0 in /usr/local/lib/python3.10/dist-packages (from hdbscan>=0.8.29->bertopic) (1.11.4)\n",
            "Requirement already satisfied: joblib>=1.0 in /usr/local/lib/python3.10/dist-packages (from hdbscan>=0.8.29->bertopic) (1.3.2)\n",
            "Requirement already satisfied: python-dateutil>=2.8.1 in /usr/local/lib/python3.10/dist-packages (from pandas>=1.1.5->bertopic) (2.8.2)\n",
            "Requirement already satisfied: pytz>=2020.1 in /usr/local/lib/python3.10/dist-packages (from pandas>=1.1.5->bertopic) (2023.4)\n",
            "Requirement already satisfied: tenacity>=6.2.0 in /usr/local/lib/python3.10/dist-packages (from plotly>=4.7.0->bertopic) (8.2.3)\n",
            "Requirement already satisfied: packaging in /usr/local/lib/python3.10/dist-packages (from plotly>=4.7.0->bertopic) (23.2)\n",
            "Requirement already satisfied: threadpoolctl>=2.0.0 in /usr/local/lib/python3.10/dist-packages (from scikit-learn>=0.22.2.post1->bertopic) (3.2.0)\n",
            "Requirement already satisfied: transformers<5.0.0,>=4.32.0 in /usr/local/lib/python3.10/dist-packages (from sentence-transformers>=0.4.1->bertopic) (4.35.2)\n",
            "Requirement already satisfied: torch>=1.11.0 in /usr/local/lib/python3.10/dist-packages (from sentence-transformers>=0.4.1->bertopic) (2.1.0+cu121)\n",
            "Requirement already satisfied: nltk in /usr/local/lib/python3.10/dist-packages (from sentence-transformers>=0.4.1->bertopic) (3.8.1)\n",
            "Requirement already satisfied: sentencepiece in /usr/local/lib/python3.10/dist-packages (from sentence-transformers>=0.4.1->bertopic) (0.1.99)\n",
            "Requirement already satisfied: huggingface-hub>=0.15.1 in /usr/local/lib/python3.10/dist-packages (from sentence-transformers>=0.4.1->bertopic) (0.20.3)\n",
            "Requirement already satisfied: Pillow in /usr/local/lib/python3.10/dist-packages (from sentence-transformers>=0.4.1->bertopic) (9.4.0)\n",
            "Requirement already satisfied: numba>=0.51.2 in /usr/local/lib/python3.10/dist-packages (from umap-learn>=0.5.0->bertopic) (0.58.1)\n",
            "Collecting pynndescent>=0.5 (from umap-learn>=0.5.0->bertopic)\n",
            "  Downloading pynndescent-0.5.11-py3-none-any.whl (55 kB)\n",
            "\u001b[2K     \u001b[90m━━━━━━━━━━━━━━━━━━━━━━━━━━━━━━━━━━━━━━━━\u001b[0m \u001b[32m55.8/55.8 kB\u001b[0m \u001b[31m8.8 MB/s\u001b[0m eta \u001b[36m0:00:00\u001b[0m\n",
            "\u001b[?25hRequirement already satisfied: filelock in /usr/local/lib/python3.10/dist-packages (from huggingface-hub>=0.15.1->sentence-transformers>=0.4.1->bertopic) (3.13.1)\n",
            "Requirement already satisfied: fsspec>=2023.5.0 in /usr/local/lib/python3.10/dist-packages (from huggingface-hub>=0.15.1->sentence-transformers>=0.4.1->bertopic) (2023.6.0)\n",
            "Requirement already satisfied: requests in /usr/local/lib/python3.10/dist-packages (from huggingface-hub>=0.15.1->sentence-transformers>=0.4.1->bertopic) (2.31.0)\n",
            "Requirement already satisfied: pyyaml>=5.1 in /usr/local/lib/python3.10/dist-packages (from huggingface-hub>=0.15.1->sentence-transformers>=0.4.1->bertopic) (6.0.1)\n",
            "Requirement already satisfied: typing-extensions>=3.7.4.3 in /usr/local/lib/python3.10/dist-packages (from huggingface-hub>=0.15.1->sentence-transformers>=0.4.1->bertopic) (4.9.0)\n",
            "Requirement already satisfied: llvmlite<0.42,>=0.41.0dev0 in /usr/local/lib/python3.10/dist-packages (from numba>=0.51.2->umap-learn>=0.5.0->bertopic) (0.41.1)\n",
            "Requirement already satisfied: six>=1.5 in /usr/local/lib/python3.10/dist-packages (from python-dateutil>=2.8.1->pandas>=1.1.5->bertopic) (1.16.0)\n",
            "Requirement already satisfied: sympy in /usr/local/lib/python3.10/dist-packages (from torch>=1.11.0->sentence-transformers>=0.4.1->bertopic) (1.12)\n",
            "Requirement already satisfied: networkx in /usr/local/lib/python3.10/dist-packages (from torch>=1.11.0->sentence-transformers>=0.4.1->bertopic) (3.2.1)\n",
            "Requirement already satisfied: jinja2 in /usr/local/lib/python3.10/dist-packages (from torch>=1.11.0->sentence-transformers>=0.4.1->bertopic) (3.1.3)\n",
            "Requirement already satisfied: triton==2.1.0 in /usr/local/lib/python3.10/dist-packages (from torch>=1.11.0->sentence-transformers>=0.4.1->bertopic) (2.1.0)\n",
            "Requirement already satisfied: regex!=2019.12.17 in /usr/local/lib/python3.10/dist-packages (from transformers<5.0.0,>=4.32.0->sentence-transformers>=0.4.1->bertopic) (2023.12.25)\n",
            "Requirement already satisfied: tokenizers<0.19,>=0.14 in /usr/local/lib/python3.10/dist-packages (from transformers<5.0.0,>=4.32.0->sentence-transformers>=0.4.1->bertopic) (0.15.1)\n",
            "Requirement already satisfied: safetensors>=0.3.1 in /usr/local/lib/python3.10/dist-packages (from transformers<5.0.0,>=4.32.0->sentence-transformers>=0.4.1->bertopic) (0.4.2)\n",
            "Requirement already satisfied: click in /usr/local/lib/python3.10/dist-packages (from nltk->sentence-transformers>=0.4.1->bertopic) (8.1.7)\n",
            "Requirement already satisfied: MarkupSafe>=2.0 in /usr/local/lib/python3.10/dist-packages (from jinja2->torch>=1.11.0->sentence-transformers>=0.4.1->bertopic) (2.1.5)\n",
            "Requirement already satisfied: charset-normalizer<4,>=2 in /usr/local/lib/python3.10/dist-packages (from requests->huggingface-hub>=0.15.1->sentence-transformers>=0.4.1->bertopic) (3.3.2)\n",
            "Requirement already satisfied: idna<4,>=2.5 in /usr/local/lib/python3.10/dist-packages (from requests->huggingface-hub>=0.15.1->sentence-transformers>=0.4.1->bertopic) (3.6)\n",
            "Requirement already satisfied: urllib3<3,>=1.21.1 in /usr/local/lib/python3.10/dist-packages (from requests->huggingface-hub>=0.15.1->sentence-transformers>=0.4.1->bertopic) (2.0.7)\n",
            "Requirement already satisfied: certifi>=2017.4.17 in /usr/local/lib/python3.10/dist-packages (from requests->huggingface-hub>=0.15.1->sentence-transformers>=0.4.1->bertopic) (2024.2.2)\n",
            "Requirement already satisfied: mpmath>=0.19 in /usr/local/lib/python3.10/dist-packages (from sympy->torch>=1.11.0->sentence-transformers>=0.4.1->bertopic) (1.3.0)\n",
            "Building wheels for collected packages: hdbscan, umap-learn\n",
            "  Building wheel for hdbscan (pyproject.toml) ... \u001b[?25l\u001b[?25hdone\n",
            "  Created wheel for hdbscan: filename=hdbscan-0.8.33-cp310-cp310-linux_x86_64.whl size=3039281 sha256=3afbdc2dfb3cabdf4acfd78d6360dd815591685fdf67975be7d5910dd0d8eb7e\n",
            "  Stored in directory: /root/.cache/pip/wheels/75/0b/3b/dc4f60b7cc455efaefb62883a7483e76f09d06ca81cf87d610\n",
            "  Building wheel for umap-learn (setup.py) ... \u001b[?25l\u001b[?25hdone\n",
            "  Created wheel for umap-learn: filename=umap_learn-0.5.5-py3-none-any.whl size=86832 sha256=95160a5ab398bc25da73cfba8b2d228b0122e6b67e21cf0023a627b924f85d48\n",
            "  Stored in directory: /root/.cache/pip/wheels/3a/70/07/428d2b58660a1a3b431db59b806a10da736612ebbc66c1bcc5\n",
            "Successfully built hdbscan umap-learn\n",
            "Installing collected packages: cython, pynndescent, hdbscan, umap-learn, sentence-transformers, bertopic\n",
            "  Attempting uninstall: cython\n",
            "    Found existing installation: Cython 3.0.8\n",
            "    Uninstalling Cython-3.0.8:\n",
            "      Successfully uninstalled Cython-3.0.8\n",
            "Successfully installed bertopic-0.16.0 cython-0.29.37 hdbscan-0.8.33 pynndescent-0.5.11 sentence-transformers-2.3.1 umap-learn-0.5.5\n",
            "Collecting konlpy\n",
            "  Downloading konlpy-0.6.0-py2.py3-none-any.whl (19.4 MB)\n",
            "\u001b[2K     \u001b[90m━━━━━━━━━━━━━━━━━━━━━━━━━━━━━━━━━━━━━━━━\u001b[0m \u001b[32m19.4/19.4 MB\u001b[0m \u001b[31m68.8 MB/s\u001b[0m eta \u001b[36m0:00:00\u001b[0m\n",
            "\u001b[?25hCollecting JPype1>=0.7.0 (from konlpy)\n",
            "  Downloading JPype1-1.5.0-cp310-cp310-manylinux_2_17_x86_64.manylinux2014_x86_64.whl (488 kB)\n",
            "\u001b[2K     \u001b[90m━━━━━━━━━━━━━━━━━━━━━━━━━━━━━━━━━━━━━━━━\u001b[0m \u001b[32m488.6/488.6 kB\u001b[0m \u001b[31m53.7 MB/s\u001b[0m eta \u001b[36m0:00:00\u001b[0m\n",
            "\u001b[?25hRequirement already satisfied: lxml>=4.1.0 in /usr/local/lib/python3.10/dist-packages (from konlpy) (4.9.4)\n",
            "Requirement already satisfied: numpy>=1.6 in /usr/local/lib/python3.10/dist-packages (from konlpy) (1.23.5)\n",
            "Requirement already satisfied: packaging in /usr/local/lib/python3.10/dist-packages (from JPype1>=0.7.0->konlpy) (23.2)\n",
            "Installing collected packages: JPype1, konlpy\n",
            "Successfully installed JPype1-1.5.0 konlpy-0.6.0\n"
          ]
        }
      ],
      "source": [
        "!pip install \\\n",
        "  torch \\\n",
        "  torchvision \\\n",
        "  torchaudio \\\n",
        "  --extra-index-url https://download.pytorch.org/whl/cu116\n",
        "\n",
        "# !pip install cudf-cu12 dask-cudf-cu12 --extra-index-url=https://pypi.nvidia.com\n",
        "# !pip install cuml-cu12 --extra-index-url=https://pypi.nvidia.com\n",
        "# !pip install cugraph-cu12 --extra-index-url=https://pypi.nvidia.com\n",
        "# !pip install --upgrade cupy-cuda12x -f https://pip.cupy.dev/aarch64\n",
        "# !pip uninstall cupy-cuda11x --yes\n",
        "\n",
        "!pip install \\\n",
        "  bertopic \\\n",
        "  bertopic[visualization]\n",
        "\n",
        "!pip install \\\n",
        "  konlpy"
      ]
    },
    {
      "cell_type": "markdown",
      "metadata": {
        "id": "1HODn92Xjd-9"
      },
      "source": [
        "### **1.2 - 라이브러리 불러오기**\n",
        "필요한 라이브러리를 불러옵니다. 별도로 수정하지 말아주세요."
      ]
    },
    {
      "cell_type": "code",
      "execution_count": 2,
      "metadata": {
        "id": "qHmuiJ2hbL-G"
      },
      "outputs": [],
      "source": [
        "import os\n",
        "import csv\n",
        "import numpy as np\n",
        "import random\n",
        "import torch\n",
        "import pandas as pd\n",
        "from tqdm import tqdm\n",
        "\n",
        "from sklearn.feature_extraction.text import CountVectorizer, TfidfVectorizer\n",
        "\n",
        "# from umap import UMAP\n",
        "# from hdbscan import HDBSCAN\n",
        "# from cuml.cluster import HDBSCAN\n",
        "# from cuml.manifold import UMAP\n",
        "from bertopic import BERTopic\n",
        "from bertopic.representation import KeyBERTInspired, MaximalMarginalRelevance\n",
        "from bertopic.vectorizers import ClassTfidfTransformer\n",
        "\n",
        "from konlpy.tag import Kkma, Komoran\n",
        "\n",
        "from typing import List, Tuple, Dict, Literal, Optional, Callable"
      ]
    },
    {
      "cell_type": "markdown",
      "metadata": {
        "id": "ndprB9MKl66J"
      },
      "source": [
        "### **1.3 - Seed 고정**\n",
        "결과를 일정하게 유지하기 위해 모든 SEED를 고정합니다. 별도로 수정하지 말아주세요."
      ]
    },
    {
      "cell_type": "code",
      "execution_count": 3,
      "metadata": {
        "id": "z9iAwfyhl80p"
      },
      "outputs": [],
      "source": [
        "def seed_everything(seed: int = 42):\n",
        "    random.seed(seed)\n",
        "    np.random.seed(seed)\n",
        "    os.environ[\"PYTHONHASHSEED\"] = str(seed)\n",
        "    torch.manual_seed(seed)\n",
        "    torch.cuda.manual_seed(seed)  # type: ignore\n",
        "    torch.backends.cudnn.deterministic = True  # type: ignore\n",
        "    torch.backends.cudnn.benchmark = True  # type: ignore\n",
        "\n",
        "seed_everything()"
      ]
    },
    {
      "cell_type": "markdown",
      "metadata": {
        "id": "A_dIm2YTjclv"
      },
      "source": [
        "### **1.4 - Colab**\n",
        "코랩에 접근하기 위해 실행합니다. 그 전에, Colab 폴더에 코드와 데이터셋을 올바르게 넣었는지 확인해주세요."
      ]
    },
    {
      "cell_type": "code",
      "execution_count": 4,
      "metadata": {
        "colab": {
          "base_uri": "https://localhost:8080/"
        },
        "id": "SaIHJFKtjhpA",
        "outputId": "c0c760ed-c2e7-4177-9fd6-48855f4eaf90"
      },
      "outputs": [
        {
          "name": "stdout",
          "output_type": "stream",
          "text": [
            "Mounted at /content/drive\n"
          ]
        }
      ],
      "source": [
        "from google.colab import drive\n",
        "drive.mount('/content/drive')"
      ]
    },
    {
      "cell_type": "markdown",
      "metadata": {
        "id": "LqnfsLXCbL-G"
      },
      "source": [
        "## **2 - 데이터셋**"
      ]
    },
    {
      "cell_type": "markdown",
      "metadata": {
        "id": "GQngh74dC_wy"
      },
      "source": [
        "### **2.1 - 데이터셋 로드**\n",
        "데이터셋을 드라이브에서 불러옵니다."
      ]
    },
    {
      "cell_type": "code",
      "execution_count": 5,
      "metadata": {
        "id": "w99UW6AAbL-H"
      },
      "outputs": [],
      "source": [
        "PATH = './datasets/원자력+원전+탈원전_news_df.xlsx'\n",
        "df1 = pd.read_excel(PATH)\n",
        "\n",
        "PATH = './datasets/사설_반대.xlsx'\n",
        "df2 = pd.read_excel(PATH)\n",
        "\n",
        "PATH = './datasets/고리+신한울+새울+월성+신월성_news_df.xlsx'\n",
        "df3 = pd.read_excel(PATH)\n",
        "\n",
        "# df = pd.concat([df1, df2, df3], axis=0)\n",
        "\n",
        "df = df2"
      ]
    },
    {
      "cell_type": "markdown",
      "metadata": {
        "id": "0o9Bu5DGC-su"
      },
      "source": [
        "미리보기"
      ]
    },
    {
      "cell_type": "code",
      "execution_count": 6,
      "metadata": {
        "colab": {
          "base_uri": "https://localhost:8080/",
          "height": 206
        },
        "id": "Mm6v33nM8JC8",
        "outputId": "37b3f79e-e8b7-4a4d-f78d-2d2de8d77c18"
      },
      "outputs": [
        {
          "data": {
            "text/html": [
              "\n",
              "  <div id=\"df-35a98076-282b-4b0a-bb4a-54d5ac66616c\" class=\"colab-df-container\">\n",
              "    <div>\n",
              "<style scoped>\n",
              "    .dataframe tbody tr th:only-of-type {\n",
              "        vertical-align: middle;\n",
              "    }\n",
              "\n",
              "    .dataframe tbody tr th {\n",
              "        vertical-align: top;\n",
              "    }\n",
              "\n",
              "    .dataframe thead th {\n",
              "        text-align: right;\n",
              "    }\n",
              "</style>\n",
              "<table border=\"1\" class=\"dataframe\">\n",
              "  <thead>\n",
              "    <tr style=\"text-align: right;\">\n",
              "      <th></th>\n",
              "      <th>news_title</th>\n",
              "      <th>news_date</th>\n",
              "      <th>news_company</th>\n",
              "      <th>news_body</th>\n",
              "    </tr>\n",
              "  </thead>\n",
              "  <tbody>\n",
              "    <tr>\n",
              "      <th>0</th>\n",
              "      <td>[사설] `탈원전`, 방향은 맞지만 부작용 최소화해야</td>\n",
              "      <td>2017-05-29</td>\n",
              "      <td>디지털타임스</td>\n",
              "      <td>29일 국정기획자문위원회 이개호 경제2분과 위원장이 원자력안전위원회(원안위)에 원전...</td>\n",
              "    </tr>\n",
              "    <tr>\n",
              "      <th>1</th>\n",
              "      <td>[사설] 탈원전·석탄 조급증…안전하면서 값싼 전기는 없다</td>\n",
              "      <td>2017-05-30</td>\n",
              "      <td>한국경제</td>\n",
              "      <td>문재인 정부의 에너지정책이 탈(脫)원전, 탈화력발전으로 급선회하고 있다. 그제 국정...</td>\n",
              "    </tr>\n",
              "    <tr>\n",
              "      <th>2</th>\n",
              "      <td>[fn사설] 새 정부 탈원전 정책 우려 새겨 들어야</td>\n",
              "      <td>2017-06-01</td>\n",
              "      <td>파이낸셜뉴스</td>\n",
              "      <td>전문가 200명 비판 성명 방향 맞지만 너무 서둘러     에너지 분야 전문가들이 ...</td>\n",
              "    </tr>\n",
              "    <tr>\n",
              "      <th>3</th>\n",
              "      <td>[사설] 탈원전…정규직화…'밀어붙이기 정책'에서 놓치는 것들</td>\n",
              "      <td>2017-06-01</td>\n",
              "      <td>한국경제</td>\n",
              "      <td>교수 230명 성명 \"에너지정책 전문가 논의 절실\"일자리 해법, 누구나 비판하고 토...</td>\n",
              "    </tr>\n",
              "    <tr>\n",
              "      <th>4</th>\n",
              "      <td>&lt;사설&gt;성급한 脫원전은 電力안보 해친다는 전문가들의 우려</td>\n",
              "      <td>2017-06-02</td>\n",
              "      <td>문화일보</td>\n",
              "      <td>문재인 정부의 탈(脫)원전 정책에 대해 에너지 전문가들이 정면으로 비판하고 나섰다....</td>\n",
              "    </tr>\n",
              "  </tbody>\n",
              "</table>\n",
              "</div>\n",
              "    <div class=\"colab-df-buttons\">\n",
              "\n",
              "  <div class=\"colab-df-container\">\n",
              "    <button class=\"colab-df-convert\" onclick=\"convertToInteractive('df-35a98076-282b-4b0a-bb4a-54d5ac66616c')\"\n",
              "            title=\"Convert this dataframe to an interactive table.\"\n",
              "            style=\"display:none;\">\n",
              "\n",
              "  <svg xmlns=\"http://www.w3.org/2000/svg\" height=\"24px\" viewBox=\"0 -960 960 960\">\n",
              "    <path d=\"M120-120v-720h720v720H120Zm60-500h600v-160H180v160Zm220 220h160v-160H400v160Zm0 220h160v-160H400v160ZM180-400h160v-160H180v160Zm440 0h160v-160H620v160ZM180-180h160v-160H180v160Zm440 0h160v-160H620v160Z\"/>\n",
              "  </svg>\n",
              "    </button>\n",
              "\n",
              "  <style>\n",
              "    .colab-df-container {\n",
              "      display:flex;\n",
              "      gap: 12px;\n",
              "    }\n",
              "\n",
              "    .colab-df-convert {\n",
              "      background-color: #E8F0FE;\n",
              "      border: none;\n",
              "      border-radius: 50%;\n",
              "      cursor: pointer;\n",
              "      display: none;\n",
              "      fill: #1967D2;\n",
              "      height: 32px;\n",
              "      padding: 0 0 0 0;\n",
              "      width: 32px;\n",
              "    }\n",
              "\n",
              "    .colab-df-convert:hover {\n",
              "      background-color: #E2EBFA;\n",
              "      box-shadow: 0px 1px 2px rgba(60, 64, 67, 0.3), 0px 1px 3px 1px rgba(60, 64, 67, 0.15);\n",
              "      fill: #174EA6;\n",
              "    }\n",
              "\n",
              "    .colab-df-buttons div {\n",
              "      margin-bottom: 4px;\n",
              "    }\n",
              "\n",
              "    [theme=dark] .colab-df-convert {\n",
              "      background-color: #3B4455;\n",
              "      fill: #D2E3FC;\n",
              "    }\n",
              "\n",
              "    [theme=dark] .colab-df-convert:hover {\n",
              "      background-color: #434B5C;\n",
              "      box-shadow: 0px 1px 3px 1px rgba(0, 0, 0, 0.15);\n",
              "      filter: drop-shadow(0px 1px 2px rgba(0, 0, 0, 0.3));\n",
              "      fill: #FFFFFF;\n",
              "    }\n",
              "  </style>\n",
              "\n",
              "    <script>\n",
              "      const buttonEl =\n",
              "        document.querySelector('#df-35a98076-282b-4b0a-bb4a-54d5ac66616c button.colab-df-convert');\n",
              "      buttonEl.style.display =\n",
              "        google.colab.kernel.accessAllowed ? 'block' : 'none';\n",
              "\n",
              "      async function convertToInteractive(key) {\n",
              "        const element = document.querySelector('#df-35a98076-282b-4b0a-bb4a-54d5ac66616c');\n",
              "        const dataTable =\n",
              "          await google.colab.kernel.invokeFunction('convertToInteractive',\n",
              "                                                    [key], {});\n",
              "        if (!dataTable) return;\n",
              "\n",
              "        const docLinkHtml = 'Like what you see? Visit the ' +\n",
              "          '<a target=\"_blank\" href=https://colab.research.google.com/notebooks/data_table.ipynb>data table notebook</a>'\n",
              "          + ' to learn more about interactive tables.';\n",
              "        element.innerHTML = '';\n",
              "        dataTable['output_type'] = 'display_data';\n",
              "        await google.colab.output.renderOutput(dataTable, element);\n",
              "        const docLink = document.createElement('div');\n",
              "        docLink.innerHTML = docLinkHtml;\n",
              "        element.appendChild(docLink);\n",
              "      }\n",
              "    </script>\n",
              "  </div>\n",
              "\n",
              "\n",
              "<div id=\"df-752f8d76-f5e9-44c7-8fc6-bf7d5af4789f\">\n",
              "  <button class=\"colab-df-quickchart\" onclick=\"quickchart('df-752f8d76-f5e9-44c7-8fc6-bf7d5af4789f')\"\n",
              "            title=\"Suggest charts\"\n",
              "            style=\"display:none;\">\n",
              "\n",
              "<svg xmlns=\"http://www.w3.org/2000/svg\" height=\"24px\"viewBox=\"0 0 24 24\"\n",
              "     width=\"24px\">\n",
              "    <g>\n",
              "        <path d=\"M19 3H5c-1.1 0-2 .9-2 2v14c0 1.1.9 2 2 2h14c1.1 0 2-.9 2-2V5c0-1.1-.9-2-2-2zM9 17H7v-7h2v7zm4 0h-2V7h2v10zm4 0h-2v-4h2v4z\"/>\n",
              "    </g>\n",
              "</svg>\n",
              "  </button>\n",
              "\n",
              "<style>\n",
              "  .colab-df-quickchart {\n",
              "      --bg-color: #E8F0FE;\n",
              "      --fill-color: #1967D2;\n",
              "      --hover-bg-color: #E2EBFA;\n",
              "      --hover-fill-color: #174EA6;\n",
              "      --disabled-fill-color: #AAA;\n",
              "      --disabled-bg-color: #DDD;\n",
              "  }\n",
              "\n",
              "  [theme=dark] .colab-df-quickchart {\n",
              "      --bg-color: #3B4455;\n",
              "      --fill-color: #D2E3FC;\n",
              "      --hover-bg-color: #434B5C;\n",
              "      --hover-fill-color: #FFFFFF;\n",
              "      --disabled-bg-color: #3B4455;\n",
              "      --disabled-fill-color: #666;\n",
              "  }\n",
              "\n",
              "  .colab-df-quickchart {\n",
              "    background-color: var(--bg-color);\n",
              "    border: none;\n",
              "    border-radius: 50%;\n",
              "    cursor: pointer;\n",
              "    display: none;\n",
              "    fill: var(--fill-color);\n",
              "    height: 32px;\n",
              "    padding: 0;\n",
              "    width: 32px;\n",
              "  }\n",
              "\n",
              "  .colab-df-quickchart:hover {\n",
              "    background-color: var(--hover-bg-color);\n",
              "    box-shadow: 0 1px 2px rgba(60, 64, 67, 0.3), 0 1px 3px 1px rgba(60, 64, 67, 0.15);\n",
              "    fill: var(--button-hover-fill-color);\n",
              "  }\n",
              "\n",
              "  .colab-df-quickchart-complete:disabled,\n",
              "  .colab-df-quickchart-complete:disabled:hover {\n",
              "    background-color: var(--disabled-bg-color);\n",
              "    fill: var(--disabled-fill-color);\n",
              "    box-shadow: none;\n",
              "  }\n",
              "\n",
              "  .colab-df-spinner {\n",
              "    border: 2px solid var(--fill-color);\n",
              "    border-color: transparent;\n",
              "    border-bottom-color: var(--fill-color);\n",
              "    animation:\n",
              "      spin 1s steps(1) infinite;\n",
              "  }\n",
              "\n",
              "  @keyframes spin {\n",
              "    0% {\n",
              "      border-color: transparent;\n",
              "      border-bottom-color: var(--fill-color);\n",
              "      border-left-color: var(--fill-color);\n",
              "    }\n",
              "    20% {\n",
              "      border-color: transparent;\n",
              "      border-left-color: var(--fill-color);\n",
              "      border-top-color: var(--fill-color);\n",
              "    }\n",
              "    30% {\n",
              "      border-color: transparent;\n",
              "      border-left-color: var(--fill-color);\n",
              "      border-top-color: var(--fill-color);\n",
              "      border-right-color: var(--fill-color);\n",
              "    }\n",
              "    40% {\n",
              "      border-color: transparent;\n",
              "      border-right-color: var(--fill-color);\n",
              "      border-top-color: var(--fill-color);\n",
              "    }\n",
              "    60% {\n",
              "      border-color: transparent;\n",
              "      border-right-color: var(--fill-color);\n",
              "    }\n",
              "    80% {\n",
              "      border-color: transparent;\n",
              "      border-right-color: var(--fill-color);\n",
              "      border-bottom-color: var(--fill-color);\n",
              "    }\n",
              "    90% {\n",
              "      border-color: transparent;\n",
              "      border-bottom-color: var(--fill-color);\n",
              "    }\n",
              "  }\n",
              "</style>\n",
              "\n",
              "  <script>\n",
              "    async function quickchart(key) {\n",
              "      const quickchartButtonEl =\n",
              "        document.querySelector('#' + key + ' button');\n",
              "      quickchartButtonEl.disabled = true;  // To prevent multiple clicks.\n",
              "      quickchartButtonEl.classList.add('colab-df-spinner');\n",
              "      try {\n",
              "        const charts = await google.colab.kernel.invokeFunction(\n",
              "            'suggestCharts', [key], {});\n",
              "      } catch (error) {\n",
              "        console.error('Error during call to suggestCharts:', error);\n",
              "      }\n",
              "      quickchartButtonEl.classList.remove('colab-df-spinner');\n",
              "      quickchartButtonEl.classList.add('colab-df-quickchart-complete');\n",
              "    }\n",
              "    (() => {\n",
              "      let quickchartButtonEl =\n",
              "        document.querySelector('#df-752f8d76-f5e9-44c7-8fc6-bf7d5af4789f button');\n",
              "      quickchartButtonEl.style.display =\n",
              "        google.colab.kernel.accessAllowed ? 'block' : 'none';\n",
              "    })();\n",
              "  </script>\n",
              "</div>\n",
              "    </div>\n",
              "  </div>\n"
            ],
            "text/plain": [
              "                          news_title   news_date news_company  \\\n",
              "0      [사설] `탈원전`, 방향은 맞지만 부작용 최소화해야  2017-05-29       디지털타임스   \n",
              "1    [사설] 탈원전·석탄 조급증…안전하면서 값싼 전기는 없다  2017-05-30         한국경제   \n",
              "2       [fn사설] 새 정부 탈원전 정책 우려 새겨 들어야  2017-06-01       파이낸셜뉴스   \n",
              "3  [사설] 탈원전…정규직화…'밀어붙이기 정책'에서 놓치는 것들  2017-06-01         한국경제   \n",
              "4    <사설>성급한 脫원전은 電力안보 해친다는 전문가들의 우려  2017-06-02         문화일보   \n",
              "\n",
              "                                           news_body  \n",
              "0  29일 국정기획자문위원회 이개호 경제2분과 위원장이 원자력안전위원회(원안위)에 원전...  \n",
              "1  문재인 정부의 에너지정책이 탈(脫)원전, 탈화력발전으로 급선회하고 있다. 그제 국정...  \n",
              "2  전문가 200명 비판 성명 방향 맞지만 너무 서둘러     에너지 분야 전문가들이 ...  \n",
              "3  교수 230명 성명 \"에너지정책 전문가 논의 절실\"일자리 해법, 누구나 비판하고 토...  \n",
              "4  문재인 정부의 탈(脫)원전 정책에 대해 에너지 전문가들이 정면으로 비판하고 나섰다....  "
            ]
          },
          "execution_count": 6,
          "metadata": {},
          "output_type": "execute_result"
        }
      ],
      "source": [
        "df.head()"
      ]
    },
    {
      "cell_type": "markdown",
      "metadata": {
        "id": "J6_lxg99bL-I"
      },
      "source": [
        "### **2.2 - 텍스트 전처리**\n",
        "해당 데이터는 크롤링된 데이터로, 올바른 결과를 위해서는 전처리가 필요합니다.\n",
        "뉴스 기사를 위한 전처리 코드는 https://colab.research.google.com/drive/1O42v6YzHbTo_l36VG1xGp0aEuA0J8M3V?usp=sharing#scrollTo=P7JBkNna1jze 에서 가져왔습니다."
      ]
    },
    {
      "cell_type": "code",
      "execution_count": 7,
      "metadata": {
        "id": "-soe0xvfbL-I"
      },
      "outputs": [],
      "source": [
        "df['news_title'] = df['news_title'].map(lambda x: str(x))"
      ]
    },
    {
      "cell_type": "code",
      "execution_count": 8,
      "metadata": {
        "id": "n5G4R8dMbL-I"
      },
      "outputs": [],
      "source": [
        "import re, unicodedata\n",
        "from string import whitespace\n",
        "pattern_whitespace = re.compile(f'[{whitespace}]+')\n",
        "\n",
        "df['news_title'] = df['news_title'].str.replace(pattern_whitespace, ' ').map(lambda x: unicodedata.normalize('NFC', x)).str.strip()\n"
      ]
    },
    {
      "cell_type": "code",
      "execution_count": 9,
      "metadata": {
        "id": "BV99udLsbL-J"
      },
      "outputs": [],
      "source": [
        "def clean_byline(text):\n",
        "    # byline\n",
        "    pattern_email = re.compile(r'[-_0-9a-z]+@[-_0-9a-z]+(?:\\.[0-9a-z]+)+', flags=re.IGNORECASE)\n",
        "    pattern_url = re.compile(r'(?:https?:\\/\\/)?[-_0-9a-z]+(?:\\.[-_0-9a-z]+)+', flags=re.IGNORECASE)\n",
        "    pattern_others = re.compile(r'\\.([^\\.]*(?:기자|특파원|교수|작가|대표|논설|고문|주필|부문장|팀장|장관|원장|연구원|이사장|위원|실장|차장|부장|에세이|화백|사설|소장|단장|과장|기획자|큐레이터|저작권|평론가|©|©|ⓒ|\\@|\\/|=|▶|무단|전재|재배포|금지|\\[|\\]|\\(\\))[^\\.]*)$')\n",
        "    result = pattern_email.sub('', text)\n",
        "    result = pattern_url.sub('', result)\n",
        "    result = pattern_others.sub('.', result)\n",
        "    pattern_bracket = re.compile(r'^((?:\\[.+\\])|(?:【.+】)|(?:<.+>)|(?:◆.+◆)\\s)')\n",
        "    result = pattern_bracket.sub('', result).strip()\n",
        "\n",
        "    return result\n",
        "\n",
        "df['news_title'] = df['news_title'].map(clean_byline)"
      ]
    },
    {
      "cell_type": "code",
      "execution_count": 10,
      "metadata": {
        "id": "Es7xUoZ1bL-J"
      },
      "outputs": [],
      "source": [
        "from string import whitespace, punctuation\n",
        "\n",
        "def text_filter(text):\n",
        "    punct_except_percent = ''.join([chr for chr in punctuation if chr != '%'])\n",
        "    whitespace_convert_pattern = re.compile(f'[{whitespace}{punct_except_percent}]+')\n",
        "    exclude_pattern = re.compile(r'[^\\% 0-9a-zA-Zㄱ-ㅣ가-힣]+')\n",
        "    result = whitespace_convert_pattern.sub(' ', text)\n",
        "    result = exclude_pattern.sub(' ', result).strip()\n",
        "    result = whitespace_convert_pattern.sub(' ', result)\n",
        "    return result\n",
        "\n",
        "df['news_title'] = df['news_title'].map(text_filter)"
      ]
    },
    {
      "cell_type": "markdown",
      "metadata": {
        "id": "bqw_8lxiDZon"
      },
      "source": [
        "전처리 후 결과 미리보기"
      ]
    },
    {
      "cell_type": "code",
      "execution_count": 11,
      "metadata": {
        "colab": {
          "base_uri": "https://localhost:8080/",
          "height": 206
        },
        "id": "izf1r4LRktJi",
        "outputId": "1e968db7-546d-4104-f126-49844c89afb0"
      },
      "outputs": [
        {
          "data": {
            "text/html": [
              "\n",
              "  <div id=\"df-2e396fdf-82ec-4428-8d4e-43553e859170\" class=\"colab-df-container\">\n",
              "    <div>\n",
              "<style scoped>\n",
              "    .dataframe tbody tr th:only-of-type {\n",
              "        vertical-align: middle;\n",
              "    }\n",
              "\n",
              "    .dataframe tbody tr th {\n",
              "        vertical-align: top;\n",
              "    }\n",
              "\n",
              "    .dataframe thead th {\n",
              "        text-align: right;\n",
              "    }\n",
              "</style>\n",
              "<table border=\"1\" class=\"dataframe\">\n",
              "  <thead>\n",
              "    <tr style=\"text-align: right;\">\n",
              "      <th></th>\n",
              "      <th>news_title</th>\n",
              "      <th>news_date</th>\n",
              "      <th>news_company</th>\n",
              "      <th>news_body</th>\n",
              "    </tr>\n",
              "  </thead>\n",
              "  <tbody>\n",
              "    <tr>\n",
              "      <th>0</th>\n",
              "      <td>탈원전 방향은 맞지만 부작용 최소화해야</td>\n",
              "      <td>2017-05-29</td>\n",
              "      <td>디지털타임스</td>\n",
              "      <td>29일 국정기획자문위원회 이개호 경제2분과 위원장이 원자력안전위원회(원안위)에 원전...</td>\n",
              "    </tr>\n",
              "    <tr>\n",
              "      <th>1</th>\n",
              "      <td>탈원전 석탄 조급증 안전하면서 값싼 전기는 없다</td>\n",
              "      <td>2017-05-30</td>\n",
              "      <td>한국경제</td>\n",
              "      <td>문재인 정부의 에너지정책이 탈(脫)원전, 탈화력발전으로 급선회하고 있다. 그제 국정...</td>\n",
              "    </tr>\n",
              "    <tr>\n",
              "      <th>2</th>\n",
              "      <td>새 정부 탈원전 정책 우려 새겨 들어야</td>\n",
              "      <td>2017-06-01</td>\n",
              "      <td>파이낸셜뉴스</td>\n",
              "      <td>전문가 200명 비판 성명 방향 맞지만 너무 서둘러     에너지 분야 전문가들이 ...</td>\n",
              "    </tr>\n",
              "    <tr>\n",
              "      <th>3</th>\n",
              "      <td>탈원전 정규직화 밀어붙이기 정책 에서 놓치는 것들</td>\n",
              "      <td>2017-06-01</td>\n",
              "      <td>한국경제</td>\n",
              "      <td>교수 230명 성명 \"에너지정책 전문가 논의 절실\"일자리 해법, 누구나 비판하고 토...</td>\n",
              "    </tr>\n",
              "    <tr>\n",
              "      <th>4</th>\n",
              "      <td>성급한 원전은 안보 해친다는 전문가들의 우려</td>\n",
              "      <td>2017-06-02</td>\n",
              "      <td>문화일보</td>\n",
              "      <td>문재인 정부의 탈(脫)원전 정책에 대해 에너지 전문가들이 정면으로 비판하고 나섰다....</td>\n",
              "    </tr>\n",
              "  </tbody>\n",
              "</table>\n",
              "</div>\n",
              "    <div class=\"colab-df-buttons\">\n",
              "\n",
              "  <div class=\"colab-df-container\">\n",
              "    <button class=\"colab-df-convert\" onclick=\"convertToInteractive('df-2e396fdf-82ec-4428-8d4e-43553e859170')\"\n",
              "            title=\"Convert this dataframe to an interactive table.\"\n",
              "            style=\"display:none;\">\n",
              "\n",
              "  <svg xmlns=\"http://www.w3.org/2000/svg\" height=\"24px\" viewBox=\"0 -960 960 960\">\n",
              "    <path d=\"M120-120v-720h720v720H120Zm60-500h600v-160H180v160Zm220 220h160v-160H400v160Zm0 220h160v-160H400v160ZM180-400h160v-160H180v160Zm440 0h160v-160H620v160ZM180-180h160v-160H180v160Zm440 0h160v-160H620v160Z\"/>\n",
              "  </svg>\n",
              "    </button>\n",
              "\n",
              "  <style>\n",
              "    .colab-df-container {\n",
              "      display:flex;\n",
              "      gap: 12px;\n",
              "    }\n",
              "\n",
              "    .colab-df-convert {\n",
              "      background-color: #E8F0FE;\n",
              "      border: none;\n",
              "      border-radius: 50%;\n",
              "      cursor: pointer;\n",
              "      display: none;\n",
              "      fill: #1967D2;\n",
              "      height: 32px;\n",
              "      padding: 0 0 0 0;\n",
              "      width: 32px;\n",
              "    }\n",
              "\n",
              "    .colab-df-convert:hover {\n",
              "      background-color: #E2EBFA;\n",
              "      box-shadow: 0px 1px 2px rgba(60, 64, 67, 0.3), 0px 1px 3px 1px rgba(60, 64, 67, 0.15);\n",
              "      fill: #174EA6;\n",
              "    }\n",
              "\n",
              "    .colab-df-buttons div {\n",
              "      margin-bottom: 4px;\n",
              "    }\n",
              "\n",
              "    [theme=dark] .colab-df-convert {\n",
              "      background-color: #3B4455;\n",
              "      fill: #D2E3FC;\n",
              "    }\n",
              "\n",
              "    [theme=dark] .colab-df-convert:hover {\n",
              "      background-color: #434B5C;\n",
              "      box-shadow: 0px 1px 3px 1px rgba(0, 0, 0, 0.15);\n",
              "      filter: drop-shadow(0px 1px 2px rgba(0, 0, 0, 0.3));\n",
              "      fill: #FFFFFF;\n",
              "    }\n",
              "  </style>\n",
              "\n",
              "    <script>\n",
              "      const buttonEl =\n",
              "        document.querySelector('#df-2e396fdf-82ec-4428-8d4e-43553e859170 button.colab-df-convert');\n",
              "      buttonEl.style.display =\n",
              "        google.colab.kernel.accessAllowed ? 'block' : 'none';\n",
              "\n",
              "      async function convertToInteractive(key) {\n",
              "        const element = document.querySelector('#df-2e396fdf-82ec-4428-8d4e-43553e859170');\n",
              "        const dataTable =\n",
              "          await google.colab.kernel.invokeFunction('convertToInteractive',\n",
              "                                                    [key], {});\n",
              "        if (!dataTable) return;\n",
              "\n",
              "        const docLinkHtml = 'Like what you see? Visit the ' +\n",
              "          '<a target=\"_blank\" href=https://colab.research.google.com/notebooks/data_table.ipynb>data table notebook</a>'\n",
              "          + ' to learn more about interactive tables.';\n",
              "        element.innerHTML = '';\n",
              "        dataTable['output_type'] = 'display_data';\n",
              "        await google.colab.output.renderOutput(dataTable, element);\n",
              "        const docLink = document.createElement('div');\n",
              "        docLink.innerHTML = docLinkHtml;\n",
              "        element.appendChild(docLink);\n",
              "      }\n",
              "    </script>\n",
              "  </div>\n",
              "\n",
              "\n",
              "<div id=\"df-3963c703-5fdf-4ce5-b28d-24dd5d938eff\">\n",
              "  <button class=\"colab-df-quickchart\" onclick=\"quickchart('df-3963c703-5fdf-4ce5-b28d-24dd5d938eff')\"\n",
              "            title=\"Suggest charts\"\n",
              "            style=\"display:none;\">\n",
              "\n",
              "<svg xmlns=\"http://www.w3.org/2000/svg\" height=\"24px\"viewBox=\"0 0 24 24\"\n",
              "     width=\"24px\">\n",
              "    <g>\n",
              "        <path d=\"M19 3H5c-1.1 0-2 .9-2 2v14c0 1.1.9 2 2 2h14c1.1 0 2-.9 2-2V5c0-1.1-.9-2-2-2zM9 17H7v-7h2v7zm4 0h-2V7h2v10zm4 0h-2v-4h2v4z\"/>\n",
              "    </g>\n",
              "</svg>\n",
              "  </button>\n",
              "\n",
              "<style>\n",
              "  .colab-df-quickchart {\n",
              "      --bg-color: #E8F0FE;\n",
              "      --fill-color: #1967D2;\n",
              "      --hover-bg-color: #E2EBFA;\n",
              "      --hover-fill-color: #174EA6;\n",
              "      --disabled-fill-color: #AAA;\n",
              "      --disabled-bg-color: #DDD;\n",
              "  }\n",
              "\n",
              "  [theme=dark] .colab-df-quickchart {\n",
              "      --bg-color: #3B4455;\n",
              "      --fill-color: #D2E3FC;\n",
              "      --hover-bg-color: #434B5C;\n",
              "      --hover-fill-color: #FFFFFF;\n",
              "      --disabled-bg-color: #3B4455;\n",
              "      --disabled-fill-color: #666;\n",
              "  }\n",
              "\n",
              "  .colab-df-quickchart {\n",
              "    background-color: var(--bg-color);\n",
              "    border: none;\n",
              "    border-radius: 50%;\n",
              "    cursor: pointer;\n",
              "    display: none;\n",
              "    fill: var(--fill-color);\n",
              "    height: 32px;\n",
              "    padding: 0;\n",
              "    width: 32px;\n",
              "  }\n",
              "\n",
              "  .colab-df-quickchart:hover {\n",
              "    background-color: var(--hover-bg-color);\n",
              "    box-shadow: 0 1px 2px rgba(60, 64, 67, 0.3), 0 1px 3px 1px rgba(60, 64, 67, 0.15);\n",
              "    fill: var(--button-hover-fill-color);\n",
              "  }\n",
              "\n",
              "  .colab-df-quickchart-complete:disabled,\n",
              "  .colab-df-quickchart-complete:disabled:hover {\n",
              "    background-color: var(--disabled-bg-color);\n",
              "    fill: var(--disabled-fill-color);\n",
              "    box-shadow: none;\n",
              "  }\n",
              "\n",
              "  .colab-df-spinner {\n",
              "    border: 2px solid var(--fill-color);\n",
              "    border-color: transparent;\n",
              "    border-bottom-color: var(--fill-color);\n",
              "    animation:\n",
              "      spin 1s steps(1) infinite;\n",
              "  }\n",
              "\n",
              "  @keyframes spin {\n",
              "    0% {\n",
              "      border-color: transparent;\n",
              "      border-bottom-color: var(--fill-color);\n",
              "      border-left-color: var(--fill-color);\n",
              "    }\n",
              "    20% {\n",
              "      border-color: transparent;\n",
              "      border-left-color: var(--fill-color);\n",
              "      border-top-color: var(--fill-color);\n",
              "    }\n",
              "    30% {\n",
              "      border-color: transparent;\n",
              "      border-left-color: var(--fill-color);\n",
              "      border-top-color: var(--fill-color);\n",
              "      border-right-color: var(--fill-color);\n",
              "    }\n",
              "    40% {\n",
              "      border-color: transparent;\n",
              "      border-right-color: var(--fill-color);\n",
              "      border-top-color: var(--fill-color);\n",
              "    }\n",
              "    60% {\n",
              "      border-color: transparent;\n",
              "      border-right-color: var(--fill-color);\n",
              "    }\n",
              "    80% {\n",
              "      border-color: transparent;\n",
              "      border-right-color: var(--fill-color);\n",
              "      border-bottom-color: var(--fill-color);\n",
              "    }\n",
              "    90% {\n",
              "      border-color: transparent;\n",
              "      border-bottom-color: var(--fill-color);\n",
              "    }\n",
              "  }\n",
              "</style>\n",
              "\n",
              "  <script>\n",
              "    async function quickchart(key) {\n",
              "      const quickchartButtonEl =\n",
              "        document.querySelector('#' + key + ' button');\n",
              "      quickchartButtonEl.disabled = true;  // To prevent multiple clicks.\n",
              "      quickchartButtonEl.classList.add('colab-df-spinner');\n",
              "      try {\n",
              "        const charts = await google.colab.kernel.invokeFunction(\n",
              "            'suggestCharts', [key], {});\n",
              "      } catch (error) {\n",
              "        console.error('Error during call to suggestCharts:', error);\n",
              "      }\n",
              "      quickchartButtonEl.classList.remove('colab-df-spinner');\n",
              "      quickchartButtonEl.classList.add('colab-df-quickchart-complete');\n",
              "    }\n",
              "    (() => {\n",
              "      let quickchartButtonEl =\n",
              "        document.querySelector('#df-3963c703-5fdf-4ce5-b28d-24dd5d938eff button');\n",
              "      quickchartButtonEl.style.display =\n",
              "        google.colab.kernel.accessAllowed ? 'block' : 'none';\n",
              "    })();\n",
              "  </script>\n",
              "</div>\n",
              "    </div>\n",
              "  </div>\n"
            ],
            "text/plain": [
              "                    news_title   news_date news_company  \\\n",
              "0        탈원전 방향은 맞지만 부작용 최소화해야  2017-05-29       디지털타임스   \n",
              "1   탈원전 석탄 조급증 안전하면서 값싼 전기는 없다  2017-05-30         한국경제   \n",
              "2        새 정부 탈원전 정책 우려 새겨 들어야  2017-06-01       파이낸셜뉴스   \n",
              "3  탈원전 정규직화 밀어붙이기 정책 에서 놓치는 것들  2017-06-01         한국경제   \n",
              "4     성급한 원전은 안보 해친다는 전문가들의 우려  2017-06-02         문화일보   \n",
              "\n",
              "                                           news_body  \n",
              "0  29일 국정기획자문위원회 이개호 경제2분과 위원장이 원자력안전위원회(원안위)에 원전...  \n",
              "1  문재인 정부의 에너지정책이 탈(脫)원전, 탈화력발전으로 급선회하고 있다. 그제 국정...  \n",
              "2  전문가 200명 비판 성명 방향 맞지만 너무 서둘러     에너지 분야 전문가들이 ...  \n",
              "3  교수 230명 성명 \"에너지정책 전문가 논의 절실\"일자리 해법, 누구나 비판하고 토...  \n",
              "4  문재인 정부의 탈(脫)원전 정책에 대해 에너지 전문가들이 정면으로 비판하고 나섰다....  "
            ]
          },
          "execution_count": 11,
          "metadata": {},
          "output_type": "execute_result"
        }
      ],
      "source": [
        "df.head()"
      ]
    },
    {
      "cell_type": "markdown",
      "metadata": {
        "id": "-LZ-IlICbL-J"
      },
      "source": [
        "## **3 - 모델**"
      ]
    },
    {
      "cell_type": "markdown",
      "metadata": {
        "id": "nDOxasqObL-J"
      },
      "source": [
        "기본으로 제공하는 SBERT는 영어 문장을 대상으로만 문장을 분류, 군집화 할 수 있습니다. <br>\n",
        "한국어를 활용해 SBERT를 수행하고 싶다면, 한국어를 지원하는 BERT모델을 사용해야합니다. <br>\n",
        "한국어를 지원하는 SBERT모델은 [여기]()에서 찾을수 있습니다.<br>\n",
        "(이때, 주의할 점은 문장간의 유사도를 판별할 수 있는 모델을 사용해야 하기 때문에, 꼭 일반적인 BERT가 아닌 SBERT를 사용해야 합니다!)"
      ]
    },
    {
      "cell_type": "markdown",
      "metadata": {
        "id": "_D_sb5tyNSjs"
      },
      "source": [
        "**HuggingFace에서 한국어 SBERT모델 찾는법** <br>\n",
        "- Hugging Face > Models > Natural Language Processing(좌측 메뉴)에 들어간다\n",
        "- Filter by name에 \"ko\"라고 검색\n",
        "- 검색된 다양한 모델에 들어간 후 원하는 모델을 정합니다.\n",
        "\n",
        "**모델을 고르는 방법** <br>\n",
        "- 모델의 성능 (주관적이지만 기능을 수행하기에 무리가 없는 수준이어야 합니다.)\n",
        "- 어떤 데이터셋으로 학습되었는가? (내가 사용할 Domain과 비슷한 Corpus로 학습된 모델이 좋습니다.)"
      ]
    },
    {
      "cell_type": "markdown",
      "metadata": {
        "id": "t2e6dwobNVZr"
      },
      "source": [
        "실습은 Hugging Face의 \"jhgan/ko-sroberta-multitask\"을 사용해서 진행하겠습니다."
      ]
    },
    {
      "cell_type": "markdown",
      "metadata": {
        "id": "NEtI-in-bL-J"
      },
      "source": [
        "### **3.1 - 모델 불러오기**"
      ]
    },
    {
      "cell_type": "markdown",
      "metadata": {
        "id": "U9wtSQuJbL-J"
      },
      "source": [
        "그냥 모델을 간단히 불러와서 설정해도 되지만, 원하는 결과를 도출하기 위해서는 다양한 하이퍼파라미터를 직접 설정할 필요가 있습니다.\n",
        "아래의 주석에 맞춰 차근차근 따라가보세요."
      ]
    },
    {
      "cell_type": "code",
      "execution_count": 12,
      "metadata": {
        "id": "1sdRWTuXbL-J"
      },
      "outputs": [],
      "source": [
        "embedding_model = 'jhgan/ko-sroberta-multitask'"
      ]
    },
    {
      "cell_type": "markdown",
      "metadata": {
        "id": "ve1sCy1-De9P"
      },
      "source": [
        "### **3.2 - 커스텀 토크나이저 설정**"
      ]
    },
    {
      "cell_type": "markdown",
      "metadata": {
        "id": "PWrFH0WBDhaM"
      },
      "source": [
        "BERTopic에서 사용하는 Vectorizer는 기본적으로 띄어쓰기를 기준으로 토큰화를 진행합니다. 우리는 영어가 아닌 한국어를 모델링 할 것이므로, 띄어쓰기가 아닌 별도의 토크나이저를 사용해 토큰화하도록 하겠습니다.\n",
        "\n",
        "토크나이저는 Kkma, Okt, Komoran 등 다양한 종류가 존재합니다. 가장 정확도가 높은 것은 Kkma이지만, 속도가 가장 빠른 komoran을 여기서는 사용하도록 하겠습니다.\n",
        "\n",
        "불필요한 품사를 제거하고, 명사, 형용사, 동사, 관형사, 일반부사만 사용하도록 필터링하고, 불용어를 제거하는 함수를 제작합니다."
      ]
    },
    {
      "cell_type": "code",
      "execution_count": 13,
      "metadata": {
        "id": "agyDAr7phYDO"
      },
      "outputs": [],
      "source": [
        "USER_DICT_PATH = './datasets/user_dic.txt'\n",
        "\n",
        "custom_dic = [\n",
        "    '탈원전\\tNNG',\n",
        "]\n",
        "\n",
        "with open(USER_DICT_PATH, 'w', encoding='utf-8') as f:\n",
        "    for line in custom_dic:\n",
        "        f.write(line + '\\n')"
      ]
    },
    {
      "cell_type": "code",
      "execution_count": 22,
      "metadata": {
        "id": "tEXoD9xnbL-J"
      },
      "outputs": [],
      "source": [
        "class CustomTokenizer:\n",
        "\n",
        "    def __init__(\n",
        "        self,\n",
        "        tagger: Callable = Komoran(), # KoNLPy의 태거가 들어갑니다.\n",
        "        stop_words: Optional[List[str]] = None, # 불용어 사전이 들어갑니다.\n",
        "        tag_list: List[str] = ['NNG', 'NNP', 'NNB', 'VV', 'VA', 'MM', 'MAG']\n",
        "        ):\n",
        "      self.tagger = tagger\n",
        "      self.stop_words = stop_words\n",
        "      self.tag_list = tag_list\n",
        "\n",
        "    def __call__(self, text):\n",
        "      text = text[:10000]\n",
        "      # 명사, 형용사, 동사, 관형사와 일반 부사만 취한다.\n",
        "      word_tokens = list(map(lambda x: x[0], filter(lambda x: x[1] in self.tag_list, self.tagger.pos(text))))\n",
        "      result = [word for word in word_tokens if word not in stop_words]\n",
        "      return result"
      ]
    },
    {
      "cell_type": "code",
      "execution_count": 23,
      "metadata": {
        "id": "sElxSRe8_1DF"
      },
      "outputs": [],
      "source": [
        "STOPWORDS_PATH = './datasets/user_stopwords.csv'\n",
        "\n",
        "with open(STOPWORDS_PATH, 'r', encoding='cp949') as f:\n",
        "    tmp = csv.reader(f)\n",
        "    stop_words = set([l[0] for l in tmp])\n",
        "\n",
        "tagger = Komoran(userdic='./datasets/user_dic.txt')\n",
        "tokenizer = CustomTokenizer(tagger = tagger, stop_words = stop_words)\n",
        "vectorizer_model = TfidfVectorizer(tokenizer=tokenizer)"
      ]
    },
    {
      "cell_type": "markdown",
      "metadata": {
        "id": "DOOttxbGbL-K"
      },
      "source": [
        "### **3.3 - 하이퍼파라미터 설정**"
      ]
    },
    {
      "cell_type": "markdown",
      "metadata": {
        "id": "00_qtAD9bL-K"
      },
      "source": [
        "**설정해야하는 값**\n",
        "- `top_n_words` :\n",
        "    - 토픽(주제) 하나에 들어가는 단어의 수를 의미합니다.\n",
        "    - 너무 많은 단어가 들어가면, 주제 일관성이 떨어질 수도 있기 때문에 10 ~ 20 사이가 좋습니다.\n",
        "- `min_topic_size` : (HDBSCAN과 관련)\n",
        "    - 주제의 최소 크기(주제 안의 문장의 수)를 의미합니다.\n",
        "    - 이 값이 낮을수록 더 많은 주제가 생성됩니다.\n",
        "      - 이 값을 너무 낮게 설정하면 마이크로클러스터가 생성됩니다.\n",
        "      - 이 값을 너무 높게 설정하면 주제가 전혀 생성되지 않을 수도 있습니다.\n",
        "    - 데이터 세트의 크기에 따라 문서 수가 백만 개에 가까워지면 기본값인 10보다 훨씬 높게 설정하는 것이 좋습니다(예: 100~500).\n",
        "- `nr_topics` : (HDBSCAN과 관련)\n",
        "    - 최종적으로 도출할 주제의 수를 의미합니다.\n",
        "    - 주제가 해당 값에 도달할 때 까지 자동으로 주제의 수를 줄입니다.\n",
        "    - 'None'으로 설정하면 줄이지 않고, 'auto'로 설정하면 HDBSCAN이 자동으로 줄이게 됩니다.\n",
        "    - **Tip!** 일단 None으로 하고, 나중에 .reduce_topics로 조절하는걸 추천한다."
      ]
    },
    {
      "cell_type": "code",
      "execution_count": 24,
      "metadata": {
        "id": "OkNeCavNbL-K"
      },
      "outputs": [],
      "source": [
        "top_n_words = 4\n",
        "min_topic_size = 8\n",
        "nr_topics = 'auto'"
      ]
    },
    {
      "cell_type": "markdown",
      "metadata": {
        "id": "2BB1O9q2bL-K"
      },
      "source": [
        "추가적으로 KeyBERT와 같이 MMR을 추가해줄 수 있습니다."
      ]
    },
    {
      "cell_type": "code",
      "execution_count": 29,
      "metadata": {
        "id": "cGkRXnLRlEgI"
      },
      "outputs": [],
      "source": [
        "representation_model = MaximalMarginalRelevance(diversity=0.3, top_n_words=top_n_words)"
      ]
    },
    {
      "cell_type": "markdown",
      "metadata": {
        "id": "DeqlTN4IbL-K"
      },
      "source": [
        "모든 설정을 마쳤습니다. 이제 BERTopic모델을 생성해보도록 하겠습니다."
      ]
    },
    {
      "cell_type": "code",
      "execution_count": 30,
      "metadata": {
        "id": "aJYVZMbFbL-K"
      },
      "outputs": [],
      "source": [
        "model = BERTopic(\n",
        "    top_n_words = top_n_words,\n",
        "    nr_topics = nr_topics,\n",
        "    embedding_model = embedding_model,\n",
        "    vectorizer_model=vectorizer_model,\n",
        "    representation_model=representation_model,\n",
        "    # umap_model=umap_model,\n",
        "    # hdbscan_model=hdbscan_model,\n",
        "    # calculate_probabilities = True,\n",
        "    verbose = True\n",
        "    )"
      ]
    },
    {
      "cell_type": "markdown",
      "metadata": {
        "id": "G3pyHHltEimG"
      },
      "source": [
        "## **4 - 토픽 추출하기**"
      ]
    },
    {
      "cell_type": "markdown",
      "metadata": {
        "id": "-Qfe_nPPbL-K"
      },
      "source": [
        "이제 키워드를 추출해보겠습니다. 무거운 BERT모델을 사용하므로 꼭 GPU환경에서 실행하셔야하며, 30분 이상의 시간이 소요됩니다."
      ]
    },
    {
      "cell_type": "code",
      "execution_count": 31,
      "metadata": {
        "colab": {
          "base_uri": "https://localhost:8080/",
          "height": 228,
          "referenced_widgets": [
            "9dd66f6ca8f14f47a898423416694938",
            "93d5de1dfe85433d986521c0ee3de010",
            "c680502461f741be80d8d9743763c93e",
            "35b61d186e07401183db959f6d77b9e2",
            "1b04bd211784452bbd745a7634a2b803",
            "09418db9ce06434599e1c467f71db1d0",
            "32793008655f452196f3efaf64466774",
            "5b87bf1a685e4a01b079c085a3f5ebd6",
            "cb210bb8bd59403bbb85a3b42643730c",
            "18c37462862d401bb420eacd389bdc17",
            "4501987830ad4a0b94112aa84ef4c95c"
          ]
        },
        "id": "5rn9kXsnbL-K",
        "outputId": "9ef6316b-c97d-4a16-86b4-b7c9b1c9afbf"
      },
      "outputs": [
        {
          "name": "stderr",
          "output_type": "stream",
          "text": [
            "2024-02-12 13:56:23,864 - BERTopic - Embedding - Transforming documents to embeddings.\n"
          ]
        },
        {
          "data": {
            "application/vnd.jupyter.widget-view+json": {
              "model_id": "9dd66f6ca8f14f47a898423416694938",
              "version_major": 2,
              "version_minor": 0
            },
            "text/plain": [
              "Batches:   0%|          | 0/66 [00:00<?, ?it/s]"
            ]
          },
          "metadata": {},
          "output_type": "display_data"
        },
        {
          "name": "stderr",
          "output_type": "stream",
          "text": [
            "2024-02-12 13:56:34,552 - BERTopic - Embedding - Completed ✓\n",
            "2024-02-12 13:56:34,554 - BERTopic - Dimensionality - Fitting the dimensionality reduction algorithm\n",
            "2024-02-12 13:56:45,969 - BERTopic - Dimensionality - Completed ✓\n",
            "2024-02-12 13:56:45,971 - BERTopic - Cluster - Start clustering the reduced embeddings\n",
            "2024-02-12 13:56:46,052 - BERTopic - Cluster - Completed ✓\n",
            "2024-02-12 13:56:46,054 - BERTopic - Representation - Extracting topics from clusters using representation models.\n",
            "2024-02-12 13:56:50,773 - BERTopic - Representation - Completed ✓\n",
            "2024-02-12 13:56:50,780 - BERTopic - Topic reduction - Reducing number of topics\n",
            "2024-02-12 13:56:56,007 - BERTopic - Topic reduction - Reduced number of topics from 41 to 41\n"
          ]
        }
      ],
      "source": [
        "topics, probs = model.fit_transform(df['news_title'])"
      ]
    },
    {
      "cell_type": "markdown",
      "metadata": {
        "id": "SJ6efBqzbL-K"
      },
      "source": [
        "get_topic_info() 메소드를 사용하여 결과를 보겠습니다. 토픽의 개수, 토픽의 크기, 각 토픽에 할당된 단어들을 일부 볼 수 있습니다."
      ]
    },
    {
      "cell_type": "code",
      "execution_count": 32,
      "metadata": {
        "colab": {
          "base_uri": "https://localhost:8080/",
          "height": 1000
        },
        "id": "P2w9BsNlbL-L",
        "outputId": "2b029a4e-b1c2-4150-96c8-18e6a0c00e3e"
      },
      "outputs": [
        {
          "data": {
            "text/html": [
              "\n",
              "  <div id=\"df-7c4134cb-26a3-4069-83e0-96d6537bba30\" class=\"colab-df-container\">\n",
              "    <div>\n",
              "<style scoped>\n",
              "    .dataframe tbody tr th:only-of-type {\n",
              "        vertical-align: middle;\n",
              "    }\n",
              "\n",
              "    .dataframe tbody tr th {\n",
              "        vertical-align: top;\n",
              "    }\n",
              "\n",
              "    .dataframe thead th {\n",
              "        text-align: right;\n",
              "    }\n",
              "</style>\n",
              "<table border=\"1\" class=\"dataframe\">\n",
              "  <thead>\n",
              "    <tr style=\"text-align: right;\">\n",
              "      <th></th>\n",
              "      <th>Topic</th>\n",
              "      <th>Count</th>\n",
              "      <th>Name</th>\n",
              "      <th>Representation</th>\n",
              "      <th>Representative_Docs</th>\n",
              "    </tr>\n",
              "  </thead>\n",
              "  <tbody>\n",
              "    <tr>\n",
              "      <th>0</th>\n",
              "      <td>-1</td>\n",
              "      <td>873</td>\n",
              "      <td>-1_탈원전_독일_한전_일방통행</td>\n",
              "      <td>[탈원전, 독일, 한전, 일방통행]</td>\n",
              "      <td>[에너지 전문가 417명 목소리 경청하길, 한전 탈원전 적자 외면한 전기요금 누진제...</td>\n",
              "    </tr>\n",
              "    <tr>\n",
              "      <th>1</th>\n",
              "      <td>0</td>\n",
              "      <td>84</td>\n",
              "      <td>0_태양광 발전_난개발_벌목_풍력 발전</td>\n",
              "      <td>[태양광 발전, 난개발, 벌목, 풍력 발전]</td>\n",
              "      <td>[난맥상 드러난 태양광 사업 전면 조사 불가피하다, 태양광 혼란 보고도 풍력발전 확...</td>\n",
              "    </tr>\n",
              "    <tr>\n",
              "      <th>2</th>\n",
              "      <td>1</td>\n",
              "      <td>80</td>\n",
              "      <td>1_월성_수사_감사원_진상</td>\n",
              "      <td>[월성, 수사, 감사원, 진상]</td>\n",
              "      <td>[월성1호기 원전 폐쇄 재고하라, 멀쩡한 월성1호기 폐쇄 서두르는 이유 뭔가, 월성...</td>\n",
              "    </tr>\n",
              "    <tr>\n",
              "      <th>3</th>\n",
              "      <td>2</td>\n",
              "      <td>71</td>\n",
              "      <td>2_감축_프랑스_탈원전_기후</td>\n",
              "      <td>[감축, 프랑스, 탈원전, 기후]</td>\n",
              "      <td>[정부 탈원전 폐기 탄소중립 위해 당연한 결정이다, 탄소중립 위한 원전 정책 재검토...</td>\n",
              "    </tr>\n",
              "    <tr>\n",
              "      <th>4</th>\n",
              "      <td>3</td>\n",
              "      <td>70</td>\n",
              "      <td>3_한전_적자_원가_전기료</td>\n",
              "      <td>[한전, 적자, 원가, 전기료]</td>\n",
              "      <td>[30조 적자 한전이 문재인 공대 에 또 300억 투입 이래도 되나, 한전 적자 부...</td>\n",
              "    </tr>\n",
              "    <tr>\n",
              "      <th>5</th>\n",
              "      <td>4</td>\n",
              "      <td>69</td>\n",
              "      <td>4_공기업_개혁_공공기관 부채_부실</td>\n",
              "      <td>[공기업, 개혁, 공공기관 부채, 부실]</td>\n",
              "      <td>[공공기관 경영부실 결국 국민 허리만 휜다, 공공기관 부실 정책 부담 떠넘긴 정부 ...</td>\n",
              "    </tr>\n",
              "    <tr>\n",
              "      <th>6</th>\n",
              "      <td>5</td>\n",
              "      <td>60</td>\n",
              "      <td>5_갈등_공사_배_위원회</td>\n",
              "      <td>[갈등, 공사, 배, 위원회]</td>\n",
              "      <td>[신고리 공론위 발표 뒤가 더 중요하다, 건설 중인 신고리 중단해선 안 된다, 신고...</td>\n",
              "    </tr>\n",
              "    <tr>\n",
              "      <th>7</th>\n",
              "      <td>6</td>\n",
              "      <td>55</td>\n",
              "      <td>6_감사원_최재형_민주당_권력</td>\n",
              "      <td>[감사원, 최재형, 민주당, 권력]</td>\n",
              "      <td>[정권 비리 덮으려 감사원마저 방탄 기관 만들겠다는 민주당, 민주당 감사원 통제법 ...</td>\n",
              "    </tr>\n",
              "    <tr>\n",
              "      <th>8</th>\n",
              "      <td>7</td>\n",
              "      <td>54</td>\n",
              "      <td>7_경제_위기_쇼크_스태그플레이션</td>\n",
              "      <td>[경제, 위기, 쇼크, 스태그플레이션]</td>\n",
              "      <td>[부 울 경 의 위기 한국 경제 앞날 예고편일 수 있다, 대기업 신용 강등 경고 주...</td>\n",
              "    </tr>\n",
              "    <tr>\n",
              "      <th>9</th>\n",
              "      <td>8</td>\n",
              "      <td>46</td>\n",
              "      <td>8_탈원전_창원시_송영길_폐지</td>\n",
              "      <td>[탈원전, 창원시, 송영길, 폐지]</td>\n",
              "      <td>[21조원 원전 수주 탈원전 전면 재고하는 계기 돼야, 대표 소형원전 필요성 또 제...</td>\n",
              "    </tr>\n",
              "    <tr>\n",
              "      <th>10</th>\n",
              "      <td>9</td>\n",
              "      <td>43</td>\n",
              "      <td>9_허가_건설_가동_다시 시작해</td>\n",
              "      <td>[허가, 건설, 가동, 다시 시작해]</td>\n",
              "      <td>[신한울 3 4호기 공사 재개하자는 고언, 신한울 3 4호기 공사 재개 공론화 왜 ...</td>\n",
              "    </tr>\n",
              "    <tr>\n",
              "      <th>11</th>\n",
              "      <td>10</td>\n",
              "      <td>41</td>\n",
              "      <td>10_수출_원전_이집트_바라카</td>\n",
              "      <td>[수출, 원전, 이집트, 바라카]</td>\n",
              "      <td>[영국과 원전 협상 수출 강국 도약할 기회, 원전 생태계 복원 시급성 일깨워 준 영...</td>\n",
              "    </tr>\n",
              "    <tr>\n",
              "      <th>12</th>\n",
              "      <td>11</td>\n",
              "      <td>38</td>\n",
              "      <td>11_사장_정재훈_의결_탈원전</td>\n",
              "      <td>[사장, 정재훈, 의결, 탈원전]</td>\n",
              "      <td>[한수원 이사회를 거수기로 만든 원전 공사 중단, 한수원 이사회가 정부의 거수기 돼...</td>\n",
              "    </tr>\n",
              "    <tr>\n",
              "      <th>13</th>\n",
              "      <td>12</td>\n",
              "      <td>30</td>\n",
              "      <td>12_전력_가동_발전소_예방</td>\n",
              "      <td>[전력, 가동, 발전소, 예방]</td>\n",
              "      <td>[전력예비율 낮춰도 전력 수급 문제없나, 폭염 속 전력수급 우려 탈원전 속도조절 경...</td>\n",
              "    </tr>\n",
              "    <tr>\n",
              "      <th>14</th>\n",
              "      <td>13</td>\n",
              "      <td>29</td>\n",
              "      <td>13_에너지 정책_산업_리셋_에너지 효율</td>\n",
              "      <td>[에너지 정책, 산업, 리셋, 에너지 효율]</td>\n",
              "      <td>[노후 원전 재가동 에너지 믹스 로드맵 새로 짜라, EU 원전 녹색 분류 에너지믹스...</td>\n",
              "    </tr>\n",
              "    <tr>\n",
              "      <th>15</th>\n",
              "      <td>14</td>\n",
              "      <td>29</td>\n",
              "      <td>14_핵폐기물_대책_사용후핵연료_방사성 폐기물</td>\n",
              "      <td>[핵폐기물, 대책, 사용후핵연료, 방사성 폐기물]</td>\n",
              "      <td>[탈원전보다 고준위 방폐장이 급하다, 원전의 친환경 에너지 공식화 방폐장 대책 서둘...</td>\n",
              "    </tr>\n",
              "    <tr>\n",
              "      <th>16</th>\n",
              "      <td>15</td>\n",
              "      <td>27</td>\n",
              "      <td>15_총선_구안_사생결단_시대정신</td>\n",
              "      <td>[총선, 구안, 사생결단, 시대정신]</td>\n",
              "      <td>[쏟아지는 선거공약 맹탕 공약은 표로 심판해야, 대선후보들 10대 공약 시대정신 짚...</td>\n",
              "    </tr>\n",
              "    <tr>\n",
              "      <th>17</th>\n",
              "      <td>16</td>\n",
              "      <td>25</td>\n",
              "      <td>16_국감_정쟁_의원_국회</td>\n",
              "      <td>[국감, 정쟁, 의원, 국회]</td>\n",
              "      <td>[이번에도 정쟁 반복하는 국감 되려는가, 정부 첫 국감 정쟁 접고 위기해법 찾아라,...</td>\n",
              "    </tr>\n",
              "    <tr>\n",
              "      <th>18</th>\n",
              "      <td>17</td>\n",
              "      <td>24</td>\n",
              "      <td>17_비용_청구서_탈원전_전가</td>\n",
              "      <td>[비용, 청구서, 탈원전, 전가]</td>\n",
              "      <td>[탈원전 손실 비용을 국민에 떠넘기다니, 결국 국민에 탈원전비용 떠넘기겠다는 정부,...</td>\n",
              "    </tr>\n",
              "    <tr>\n",
              "      <th>19</th>\n",
              "      <td>18</td>\n",
              "      <td>24</td>\n",
              "      <td>18_원가_자구책_인플레_연료비</td>\n",
              "      <td>[원가, 자구책, 인플레, 연료비]</td>\n",
              "      <td>[전기요금 누진제 개편안 과소비 막을 대책도 있어야, 전기요금 합리화할 때 됐다, ...</td>\n",
              "    </tr>\n",
              "    <tr>\n",
              "      <th>20</th>\n",
              "      <td>19</td>\n",
              "      <td>24</td>\n",
              "      <td>19_미세먼지_미봉책_먼지_관리제</td>\n",
              "      <td>[미세먼지, 미봉책, 먼지, 관리제]</td>\n",
              "      <td>[국가기후환경회의 미세먼지 대책이 간과하고 있는 것, 미세먼지 저감조치는 대책이라 ...</td>\n",
              "    </tr>\n",
              "    <tr>\n",
              "      <th>21</th>\n",
              "      <td>20</td>\n",
              "      <td>20</td>\n",
              "      <td>20_차이잉원_부결_돼지고기_양안 관계</td>\n",
              "      <td>[차이잉원, 부결, 돼지고기, 양안 관계]</td>\n",
              "      <td>[대만 국민투표 차이잉원 에 힘 실어 추진 4개 안건 부결, 심각한 부작용에 국민이...</td>\n",
              "    </tr>\n",
              "    <tr>\n",
              "      <th>22</th>\n",
              "      <td>21</td>\n",
              "      <td>19</td>\n",
              "      <td>21_탈원전_영덕_공청회_산업부</td>\n",
              "      <td>[탈원전, 영덕, 공청회, 산업부]</td>\n",
              "      <td>[졸속 탈원전 불똥 튄 영덕 외면하는 정부의 무책임함, 탈원전 바보 짓 개탄에 어깃...</td>\n",
              "    </tr>\n",
              "    <tr>\n",
              "      <th>23</th>\n",
              "      <td>22</td>\n",
              "      <td>18</td>\n",
              "      <td>22_두산중공업_3분_병주_기업</td>\n",
              "      <td>[두산중공업, 3분, 병주, 기업]</td>\n",
              "      <td>[탈원전이 결국 두산중공업을 휴업으로 내몰고 있다, 탈원전 기저질환 놔둔 채 긴급 ...</td>\n",
              "    </tr>\n",
              "    <tr>\n",
              "      <th>24</th>\n",
              "      <td>23</td>\n",
              "      <td>18</td>\n",
              "      <td>23_자화자찬_정부_무능_답변</td>\n",
              "      <td>[자화자찬, 정부, 무능, 답변]</td>\n",
              "      <td>[자화자찬 정부 국정백서 국민들이 수긍하겠나 사설, 복지부동하다 자화자찬 무능 정부...</td>\n",
              "    </tr>\n",
              "    <tr>\n",
              "      <th>25</th>\n",
              "      <td>24</td>\n",
              "      <td>18</td>\n",
              "      <td>24_원로_결단_대통령 지시_신년사</td>\n",
              "      <td>[원로, 결단, 대통령 지시, 신년사]</td>\n",
              "      <td>[국무 복귀 대통령 이젠 국민 불신 떨쳐낼 한방 보여줘야, 집권 후반기 시작 문 대...</td>\n",
              "    </tr>\n",
              "    <tr>\n",
              "      <th>26</th>\n",
              "      <td>25</td>\n",
              "      <td>18</td>\n",
              "      <td>25_유가_치솟_가스_수입국</td>\n",
              "      <td>[유가, 치솟, 가스, 수입국]</td>\n",
              "      <td>[푸틴이 막으니 유럽 에너지 대란 누가 러시아 가스 공급받자 했나, 러시아 밸브 잠...</td>\n",
              "    </tr>\n",
              "    <tr>\n",
              "      <th>27</th>\n",
              "      <td>26</td>\n",
              "      <td>18</td>\n",
              "      <td>26_과학기술_서울대_대학원_카이스트</td>\n",
              "      <td>[과학기술, 서울대, 대학원, 카이스트]</td>\n",
              "      <td>[과학 르네상스 이끌 정부 과학 컨트롤타워 필요하다, 정책 난맥상이 자초한 서울대 ...</td>\n",
              "    </tr>\n",
              "    <tr>\n",
              "      <th>28</th>\n",
              "      <td>27</td>\n",
              "      <td>18</td>\n",
              "      <td>27_회동_여야_원내대표_회담</td>\n",
              "      <td>[회동, 여야, 원내대표, 회담]</td>\n",
              "      <td>[문 대통령 여야 원내대표 회동 소통과 협치 출발점 되길, 협치 물꼬 튼 대통령 여...</td>\n",
              "    </tr>\n",
              "    <tr>\n",
              "      <th>29</th>\n",
              "      <td>28</td>\n",
              "      <td>17</td>\n",
              "      <td>28_전기료_조삼모사_공공요금_건강보험</td>\n",
              "      <td>[전기료, 조삼모사, 공공요금, 건강보험]</td>\n",
              "      <td>[내년 대선 후 전기 가스요금 인상 속 보이는 꼼수 아닌가, 전기 가스요금 대선후 ...</td>\n",
              "    </tr>\n",
              "    <tr>\n",
              "      <th>30</th>\n",
              "      <td>29</td>\n",
              "      <td>17</td>\n",
              "      <td>29_민주당_경선_이념_리더십</td>\n",
              "      <td>[민주당, 경선, 이념, 리더십]</td>\n",
              "      <td>[민주당 대선 경선 스타트 문제해결 리더십 경쟁돼야, 민주당 대선경선 승리한 이재명...</td>\n",
              "    </tr>\n",
              "    <tr>\n",
              "      <th>31</th>\n",
              "      <td>30</td>\n",
              "      <td>16</td>\n",
              "      <td>30_청구서_전기료_탈원전_급등</td>\n",
              "      <td>[청구서, 전기료, 탈원전, 급등]</td>\n",
              "      <td>[국민 부담 없다더니 날아들기 시작한 탈원전 청구서, 전기요금 인상 국민에게 날아드...</td>\n",
              "    </tr>\n",
              "    <tr>\n",
              "      <th>32</th>\n",
              "      <td>31</td>\n",
              "      <td>16</td>\n",
              "      <td>31_수출_원전_사장_뺏기</td>\n",
              "      <td>[수출, 원전, 사장, 뺏기]</td>\n",
              "      <td>[해외서 최고 인정받고 안방선 외면당하는 원전 현실, 미국서도 인정받은 한국형 원전...</td>\n",
              "    </tr>\n",
              "    <tr>\n",
              "      <th>33</th>\n",
              "      <td>32</td>\n",
              "      <td>15</td>\n",
              "      <td>32_에너지_확충_탁상공론_화재</td>\n",
              "      <td>[에너지, 확충, 탁상공론, 화재]</td>\n",
              "      <td>[재생에너지 확대 일방 과속하면 후유증 커질 것, 정부의 재생에너지 확대 정책 우려...</td>\n",
              "    </tr>\n",
              "    <tr>\n",
              "      <th>34</th>\n",
              "      <td>33</td>\n",
              "      <td>14</td>\n",
              "      <td>33_가나_도외_탈원전_원전</td>\n",
              "      <td>[가나, 도외, 탈원전, 원전]</td>\n",
              "      <td>[한국 탈원전속 세계 표준 주도하겠다는 중국의 원전 굴기, 나 홀로 탈원전정책에 경...</td>\n",
              "    </tr>\n",
              "    <tr>\n",
              "      <th>35</th>\n",
              "      <td>34</td>\n",
              "      <td>14</td>\n",
              "      <td>34_악화_탈원전_탈선_블랙아웃</td>\n",
              "      <td>[악화, 탈원전, 탈선, 블랙아웃]</td>\n",
              "      <td>[순리를 거스를 때 일어날 모든 재앙 보여주는 억지 탈원전, 국익 환경에 역행 나라...</td>\n",
              "    </tr>\n",
              "    <tr>\n",
              "      <th>36</th>\n",
              "      <td>35</td>\n",
              "      <td>13</td>\n",
              "      <td>35_기관장_총재_사퇴_홍장표</td>\n",
              "      <td>[기관장, 총재, 사퇴, 홍장표]</td>\n",
              "      <td>[임기 말까지 캠코더 알박기 최악의 인사 농단이다, 정권 임기 말까지 공공기관 낙하...</td>\n",
              "    </tr>\n",
              "    <tr>\n",
              "      <th>37</th>\n",
              "      <td>36</td>\n",
              "      <td>12</td>\n",
              "      <td>36_외교_청와대_중동_자화자찬</td>\n",
              "      <td>[외교, 청와대, 중동, 자화자찬]</td>\n",
              "      <td>[청와대 해명에도 UAE 방문 카더라 난무, 임종석 중동방문 의혹 옹색한 해명으로 ...</td>\n",
              "    </tr>\n",
              "    <tr>\n",
              "      <th>38</th>\n",
              "      <td>37</td>\n",
              "      <td>11</td>\n",
              "      <td>37_의혹_규명_경위_청와대</td>\n",
              "      <td>[의혹, 규명, 경위, 청와대]</td>\n",
              "      <td>[원전 문건 공개하고 작성 경위 투명하게 밝히라, 원전 문건 논란 국민이 납득할 해...</td>\n",
              "    </tr>\n",
              "    <tr>\n",
              "      <th>39</th>\n",
              "      <td>38</td>\n",
              "      <td>11</td>\n",
              "      <td>38_윤석열_선대위_출사표_검찰</td>\n",
              "      <td>[윤석열, 선대위, 출사표, 검찰]</td>\n",
              "      <td>[윤석열 출마 선언 이제 정책으로 승부할 때다, 정권 교체 대선출마 윤석열 국정 능...</td>\n",
              "    </tr>\n",
              "    <tr>\n",
              "      <th>40</th>\n",
              "      <td>39</td>\n",
              "      <td>10</td>\n",
              "      <td>39_중진_물밀_백년대계_원자력</td>\n",
              "      <td>[중진, 물밀, 백년대계, 원자력]</td>\n",
              "      <td>[두뇌에서 캐내는 에너지 원자력 두뇌부터 붕괴 중, 원자력계 에 몰고 이제 와서 구...</td>\n",
              "    </tr>\n",
              "  </tbody>\n",
              "</table>\n",
              "</div>\n",
              "    <div class=\"colab-df-buttons\">\n",
              "\n",
              "  <div class=\"colab-df-container\">\n",
              "    <button class=\"colab-df-convert\" onclick=\"convertToInteractive('df-7c4134cb-26a3-4069-83e0-96d6537bba30')\"\n",
              "            title=\"Convert this dataframe to an interactive table.\"\n",
              "            style=\"display:none;\">\n",
              "\n",
              "  <svg xmlns=\"http://www.w3.org/2000/svg\" height=\"24px\" viewBox=\"0 -960 960 960\">\n",
              "    <path d=\"M120-120v-720h720v720H120Zm60-500h600v-160H180v160Zm220 220h160v-160H400v160Zm0 220h160v-160H400v160ZM180-400h160v-160H180v160Zm440 0h160v-160H620v160ZM180-180h160v-160H180v160Zm440 0h160v-160H620v160Z\"/>\n",
              "  </svg>\n",
              "    </button>\n",
              "\n",
              "  <style>\n",
              "    .colab-df-container {\n",
              "      display:flex;\n",
              "      gap: 12px;\n",
              "    }\n",
              "\n",
              "    .colab-df-convert {\n",
              "      background-color: #E8F0FE;\n",
              "      border: none;\n",
              "      border-radius: 50%;\n",
              "      cursor: pointer;\n",
              "      display: none;\n",
              "      fill: #1967D2;\n",
              "      height: 32px;\n",
              "      padding: 0 0 0 0;\n",
              "      width: 32px;\n",
              "    }\n",
              "\n",
              "    .colab-df-convert:hover {\n",
              "      background-color: #E2EBFA;\n",
              "      box-shadow: 0px 1px 2px rgba(60, 64, 67, 0.3), 0px 1px 3px 1px rgba(60, 64, 67, 0.15);\n",
              "      fill: #174EA6;\n",
              "    }\n",
              "\n",
              "    .colab-df-buttons div {\n",
              "      margin-bottom: 4px;\n",
              "    }\n",
              "\n",
              "    [theme=dark] .colab-df-convert {\n",
              "      background-color: #3B4455;\n",
              "      fill: #D2E3FC;\n",
              "    }\n",
              "\n",
              "    [theme=dark] .colab-df-convert:hover {\n",
              "      background-color: #434B5C;\n",
              "      box-shadow: 0px 1px 3px 1px rgba(0, 0, 0, 0.15);\n",
              "      filter: drop-shadow(0px 1px 2px rgba(0, 0, 0, 0.3));\n",
              "      fill: #FFFFFF;\n",
              "    }\n",
              "  </style>\n",
              "\n",
              "    <script>\n",
              "      const buttonEl =\n",
              "        document.querySelector('#df-7c4134cb-26a3-4069-83e0-96d6537bba30 button.colab-df-convert');\n",
              "      buttonEl.style.display =\n",
              "        google.colab.kernel.accessAllowed ? 'block' : 'none';\n",
              "\n",
              "      async function convertToInteractive(key) {\n",
              "        const element = document.querySelector('#df-7c4134cb-26a3-4069-83e0-96d6537bba30');\n",
              "        const dataTable =\n",
              "          await google.colab.kernel.invokeFunction('convertToInteractive',\n",
              "                                                    [key], {});\n",
              "        if (!dataTable) return;\n",
              "\n",
              "        const docLinkHtml = 'Like what you see? Visit the ' +\n",
              "          '<a target=\"_blank\" href=https://colab.research.google.com/notebooks/data_table.ipynb>data table notebook</a>'\n",
              "          + ' to learn more about interactive tables.';\n",
              "        element.innerHTML = '';\n",
              "        dataTable['output_type'] = 'display_data';\n",
              "        await google.colab.output.renderOutput(dataTable, element);\n",
              "        const docLink = document.createElement('div');\n",
              "        docLink.innerHTML = docLinkHtml;\n",
              "        element.appendChild(docLink);\n",
              "      }\n",
              "    </script>\n",
              "  </div>\n",
              "\n",
              "\n",
              "<div id=\"df-ed7cfa63-f7aa-4403-b225-b4be6bdfcb27\">\n",
              "  <button class=\"colab-df-quickchart\" onclick=\"quickchart('df-ed7cfa63-f7aa-4403-b225-b4be6bdfcb27')\"\n",
              "            title=\"Suggest charts\"\n",
              "            style=\"display:none;\">\n",
              "\n",
              "<svg xmlns=\"http://www.w3.org/2000/svg\" height=\"24px\"viewBox=\"0 0 24 24\"\n",
              "     width=\"24px\">\n",
              "    <g>\n",
              "        <path d=\"M19 3H5c-1.1 0-2 .9-2 2v14c0 1.1.9 2 2 2h14c1.1 0 2-.9 2-2V5c0-1.1-.9-2-2-2zM9 17H7v-7h2v7zm4 0h-2V7h2v10zm4 0h-2v-4h2v4z\"/>\n",
              "    </g>\n",
              "</svg>\n",
              "  </button>\n",
              "\n",
              "<style>\n",
              "  .colab-df-quickchart {\n",
              "      --bg-color: #E8F0FE;\n",
              "      --fill-color: #1967D2;\n",
              "      --hover-bg-color: #E2EBFA;\n",
              "      --hover-fill-color: #174EA6;\n",
              "      --disabled-fill-color: #AAA;\n",
              "      --disabled-bg-color: #DDD;\n",
              "  }\n",
              "\n",
              "  [theme=dark] .colab-df-quickchart {\n",
              "      --bg-color: #3B4455;\n",
              "      --fill-color: #D2E3FC;\n",
              "      --hover-bg-color: #434B5C;\n",
              "      --hover-fill-color: #FFFFFF;\n",
              "      --disabled-bg-color: #3B4455;\n",
              "      --disabled-fill-color: #666;\n",
              "  }\n",
              "\n",
              "  .colab-df-quickchart {\n",
              "    background-color: var(--bg-color);\n",
              "    border: none;\n",
              "    border-radius: 50%;\n",
              "    cursor: pointer;\n",
              "    display: none;\n",
              "    fill: var(--fill-color);\n",
              "    height: 32px;\n",
              "    padding: 0;\n",
              "    width: 32px;\n",
              "  }\n",
              "\n",
              "  .colab-df-quickchart:hover {\n",
              "    background-color: var(--hover-bg-color);\n",
              "    box-shadow: 0 1px 2px rgba(60, 64, 67, 0.3), 0 1px 3px 1px rgba(60, 64, 67, 0.15);\n",
              "    fill: var(--button-hover-fill-color);\n",
              "  }\n",
              "\n",
              "  .colab-df-quickchart-complete:disabled,\n",
              "  .colab-df-quickchart-complete:disabled:hover {\n",
              "    background-color: var(--disabled-bg-color);\n",
              "    fill: var(--disabled-fill-color);\n",
              "    box-shadow: none;\n",
              "  }\n",
              "\n",
              "  .colab-df-spinner {\n",
              "    border: 2px solid var(--fill-color);\n",
              "    border-color: transparent;\n",
              "    border-bottom-color: var(--fill-color);\n",
              "    animation:\n",
              "      spin 1s steps(1) infinite;\n",
              "  }\n",
              "\n",
              "  @keyframes spin {\n",
              "    0% {\n",
              "      border-color: transparent;\n",
              "      border-bottom-color: var(--fill-color);\n",
              "      border-left-color: var(--fill-color);\n",
              "    }\n",
              "    20% {\n",
              "      border-color: transparent;\n",
              "      border-left-color: var(--fill-color);\n",
              "      border-top-color: var(--fill-color);\n",
              "    }\n",
              "    30% {\n",
              "      border-color: transparent;\n",
              "      border-left-color: var(--fill-color);\n",
              "      border-top-color: var(--fill-color);\n",
              "      border-right-color: var(--fill-color);\n",
              "    }\n",
              "    40% {\n",
              "      border-color: transparent;\n",
              "      border-right-color: var(--fill-color);\n",
              "      border-top-color: var(--fill-color);\n",
              "    }\n",
              "    60% {\n",
              "      border-color: transparent;\n",
              "      border-right-color: var(--fill-color);\n",
              "    }\n",
              "    80% {\n",
              "      border-color: transparent;\n",
              "      border-right-color: var(--fill-color);\n",
              "      border-bottom-color: var(--fill-color);\n",
              "    }\n",
              "    90% {\n",
              "      border-color: transparent;\n",
              "      border-bottom-color: var(--fill-color);\n",
              "    }\n",
              "  }\n",
              "</style>\n",
              "\n",
              "  <script>\n",
              "    async function quickchart(key) {\n",
              "      const quickchartButtonEl =\n",
              "        document.querySelector('#' + key + ' button');\n",
              "      quickchartButtonEl.disabled = true;  // To prevent multiple clicks.\n",
              "      quickchartButtonEl.classList.add('colab-df-spinner');\n",
              "      try {\n",
              "        const charts = await google.colab.kernel.invokeFunction(\n",
              "            'suggestCharts', [key], {});\n",
              "      } catch (error) {\n",
              "        console.error('Error during call to suggestCharts:', error);\n",
              "      }\n",
              "      quickchartButtonEl.classList.remove('colab-df-spinner');\n",
              "      quickchartButtonEl.classList.add('colab-df-quickchart-complete');\n",
              "    }\n",
              "    (() => {\n",
              "      let quickchartButtonEl =\n",
              "        document.querySelector('#df-ed7cfa63-f7aa-4403-b225-b4be6bdfcb27 button');\n",
              "      quickchartButtonEl.style.display =\n",
              "        google.colab.kernel.accessAllowed ? 'block' : 'none';\n",
              "    })();\n",
              "  </script>\n",
              "</div>\n",
              "    </div>\n",
              "  </div>\n"
            ],
            "text/plain": [
              "    Topic  Count                       Name               Representation  \\\n",
              "0      -1    873          -1_탈원전_독일_한전_일방통행          [탈원전, 독일, 한전, 일방통행]   \n",
              "1       0     84      0_태양광 발전_난개발_벌목_풍력 발전     [태양광 발전, 난개발, 벌목, 풍력 발전]   \n",
              "2       1     80             1_월성_수사_감사원_진상            [월성, 수사, 감사원, 진상]   \n",
              "3       2     71            2_감축_프랑스_탈원전_기후           [감축, 프랑스, 탈원전, 기후]   \n",
              "4       3     70             3_한전_적자_원가_전기료            [한전, 적자, 원가, 전기료]   \n",
              "5       4     69        4_공기업_개혁_공공기관 부채_부실       [공기업, 개혁, 공공기관 부채, 부실]   \n",
              "6       5     60              5_갈등_공사_배_위원회             [갈등, 공사, 배, 위원회]   \n",
              "7       6     55           6_감사원_최재형_민주당_권력          [감사원, 최재형, 민주당, 권력]   \n",
              "8       7     54         7_경제_위기_쇼크_스태그플레이션        [경제, 위기, 쇼크, 스태그플레이션]   \n",
              "9       8     46           8_탈원전_창원시_송영길_폐지          [탈원전, 창원시, 송영길, 폐지]   \n",
              "10      9     43          9_허가_건설_가동_다시 시작해         [허가, 건설, 가동, 다시 시작해]   \n",
              "11     10     41           10_수출_원전_이집트_바라카           [수출, 원전, 이집트, 바라카]   \n",
              "12     11     38           11_사장_정재훈_의결_탈원전           [사장, 정재훈, 의결, 탈원전]   \n",
              "13     12     30            12_전력_가동_발전소_예방            [전력, 가동, 발전소, 예방]   \n",
              "14     13     29     13_에너지 정책_산업_리셋_에너지 효율     [에너지 정책, 산업, 리셋, 에너지 효율]   \n",
              "15     14     29  14_핵폐기물_대책_사용후핵연료_방사성 폐기물  [핵폐기물, 대책, 사용후핵연료, 방사성 폐기물]   \n",
              "16     15     27         15_총선_구안_사생결단_시대정신         [총선, 구안, 사생결단, 시대정신]   \n",
              "17     16     25             16_국감_정쟁_의원_국회             [국감, 정쟁, 의원, 국회]   \n",
              "18     17     24           17_비용_청구서_탈원전_전가           [비용, 청구서, 탈원전, 전가]   \n",
              "19     18     24          18_원가_자구책_인플레_연료비          [원가, 자구책, 인플레, 연료비]   \n",
              "20     19     24         19_미세먼지_미봉책_먼지_관리제         [미세먼지, 미봉책, 먼지, 관리제]   \n",
              "21     20     20      20_차이잉원_부결_돼지고기_양안 관계      [차이잉원, 부결, 돼지고기, 양안 관계]   \n",
              "22     21     19          21_탈원전_영덕_공청회_산업부          [탈원전, 영덕, 공청회, 산업부]   \n",
              "23     22     18          22_두산중공업_3분_병주_기업          [두산중공업, 3분, 병주, 기업]   \n",
              "24     23     18           23_자화자찬_정부_무능_답변           [자화자찬, 정부, 무능, 답변]   \n",
              "25     24     18        24_원로_결단_대통령 지시_신년사        [원로, 결단, 대통령 지시, 신년사]   \n",
              "26     25     18            25_유가_치솟_가스_수입국            [유가, 치솟, 가스, 수입국]   \n",
              "27     26     18       26_과학기술_서울대_대학원_카이스트       [과학기술, 서울대, 대학원, 카이스트]   \n",
              "28     27     18           27_회동_여야_원내대표_회담           [회동, 여야, 원내대표, 회담]   \n",
              "29     28     17      28_전기료_조삼모사_공공요금_건강보험      [전기료, 조삼모사, 공공요금, 건강보험]   \n",
              "30     29     17           29_민주당_경선_이념_리더십           [민주당, 경선, 이념, 리더십]   \n",
              "31     30     16          30_청구서_전기료_탈원전_급등          [청구서, 전기료, 탈원전, 급등]   \n",
              "32     31     16             31_수출_원전_사장_뺏기             [수출, 원전, 사장, 뺏기]   \n",
              "33     32     15          32_에너지_확충_탁상공론_화재          [에너지, 확충, 탁상공론, 화재]   \n",
              "34     33     14            33_가나_도외_탈원전_원전            [가나, 도외, 탈원전, 원전]   \n",
              "35     34     14          34_악화_탈원전_탈선_블랙아웃          [악화, 탈원전, 탈선, 블랙아웃]   \n",
              "36     35     13           35_기관장_총재_사퇴_홍장표           [기관장, 총재, 사퇴, 홍장표]   \n",
              "37     36     12          36_외교_청와대_중동_자화자찬          [외교, 청와대, 중동, 자화자찬]   \n",
              "38     37     11            37_의혹_규명_경위_청와대            [의혹, 규명, 경위, 청와대]   \n",
              "39     38     11          38_윤석열_선대위_출사표_검찰          [윤석열, 선대위, 출사표, 검찰]   \n",
              "40     39     10          39_중진_물밀_백년대계_원자력          [중진, 물밀, 백년대계, 원자력]   \n",
              "\n",
              "                                  Representative_Docs  \n",
              "0   [에너지 전문가 417명 목소리 경청하길, 한전 탈원전 적자 외면한 전기요금 누진제...  \n",
              "1   [난맥상 드러난 태양광 사업 전면 조사 불가피하다, 태양광 혼란 보고도 풍력발전 확...  \n",
              "2   [월성1호기 원전 폐쇄 재고하라, 멀쩡한 월성1호기 폐쇄 서두르는 이유 뭔가, 월성...  \n",
              "3   [정부 탈원전 폐기 탄소중립 위해 당연한 결정이다, 탄소중립 위한 원전 정책 재검토...  \n",
              "4   [30조 적자 한전이 문재인 공대 에 또 300억 투입 이래도 되나, 한전 적자 부...  \n",
              "5   [공공기관 경영부실 결국 국민 허리만 휜다, 공공기관 부실 정책 부담 떠넘긴 정부 ...  \n",
              "6   [신고리 공론위 발표 뒤가 더 중요하다, 건설 중인 신고리 중단해선 안 된다, 신고...  \n",
              "7   [정권 비리 덮으려 감사원마저 방탄 기관 만들겠다는 민주당, 민주당 감사원 통제법 ...  \n",
              "8   [부 울 경 의 위기 한국 경제 앞날 예고편일 수 있다, 대기업 신용 강등 경고 주...  \n",
              "9   [21조원 원전 수주 탈원전 전면 재고하는 계기 돼야, 대표 소형원전 필요성 또 제...  \n",
              "10  [신한울 3 4호기 공사 재개하자는 고언, 신한울 3 4호기 공사 재개 공론화 왜 ...  \n",
              "11  [영국과 원전 협상 수출 강국 도약할 기회, 원전 생태계 복원 시급성 일깨워 준 영...  \n",
              "12  [한수원 이사회를 거수기로 만든 원전 공사 중단, 한수원 이사회가 정부의 거수기 돼...  \n",
              "13  [전력예비율 낮춰도 전력 수급 문제없나, 폭염 속 전력수급 우려 탈원전 속도조절 경...  \n",
              "14  [노후 원전 재가동 에너지 믹스 로드맵 새로 짜라, EU 원전 녹색 분류 에너지믹스...  \n",
              "15  [탈원전보다 고준위 방폐장이 급하다, 원전의 친환경 에너지 공식화 방폐장 대책 서둘...  \n",
              "16  [쏟아지는 선거공약 맹탕 공약은 표로 심판해야, 대선후보들 10대 공약 시대정신 짚...  \n",
              "17  [이번에도 정쟁 반복하는 국감 되려는가, 정부 첫 국감 정쟁 접고 위기해법 찾아라,...  \n",
              "18  [탈원전 손실 비용을 국민에 떠넘기다니, 결국 국민에 탈원전비용 떠넘기겠다는 정부,...  \n",
              "19  [전기요금 누진제 개편안 과소비 막을 대책도 있어야, 전기요금 합리화할 때 됐다, ...  \n",
              "20  [국가기후환경회의 미세먼지 대책이 간과하고 있는 것, 미세먼지 저감조치는 대책이라 ...  \n",
              "21  [대만 국민투표 차이잉원 에 힘 실어 추진 4개 안건 부결, 심각한 부작용에 국민이...  \n",
              "22  [졸속 탈원전 불똥 튄 영덕 외면하는 정부의 무책임함, 탈원전 바보 짓 개탄에 어깃...  \n",
              "23  [탈원전이 결국 두산중공업을 휴업으로 내몰고 있다, 탈원전 기저질환 놔둔 채 긴급 ...  \n",
              "24  [자화자찬 정부 국정백서 국민들이 수긍하겠나 사설, 복지부동하다 자화자찬 무능 정부...  \n",
              "25  [국무 복귀 대통령 이젠 국민 불신 떨쳐낼 한방 보여줘야, 집권 후반기 시작 문 대...  \n",
              "26  [푸틴이 막으니 유럽 에너지 대란 누가 러시아 가스 공급받자 했나, 러시아 밸브 잠...  \n",
              "27  [과학 르네상스 이끌 정부 과학 컨트롤타워 필요하다, 정책 난맥상이 자초한 서울대 ...  \n",
              "28  [문 대통령 여야 원내대표 회동 소통과 협치 출발점 되길, 협치 물꼬 튼 대통령 여...  \n",
              "29  [내년 대선 후 전기 가스요금 인상 속 보이는 꼼수 아닌가, 전기 가스요금 대선후 ...  \n",
              "30  [민주당 대선 경선 스타트 문제해결 리더십 경쟁돼야, 민주당 대선경선 승리한 이재명...  \n",
              "31  [국민 부담 없다더니 날아들기 시작한 탈원전 청구서, 전기요금 인상 국민에게 날아드...  \n",
              "32  [해외서 최고 인정받고 안방선 외면당하는 원전 현실, 미국서도 인정받은 한국형 원전...  \n",
              "33  [재생에너지 확대 일방 과속하면 후유증 커질 것, 정부의 재생에너지 확대 정책 우려...  \n",
              "34  [한국 탈원전속 세계 표준 주도하겠다는 중국의 원전 굴기, 나 홀로 탈원전정책에 경...  \n",
              "35  [순리를 거스를 때 일어날 모든 재앙 보여주는 억지 탈원전, 국익 환경에 역행 나라...  \n",
              "36  [임기 말까지 캠코더 알박기 최악의 인사 농단이다, 정권 임기 말까지 공공기관 낙하...  \n",
              "37  [청와대 해명에도 UAE 방문 카더라 난무, 임종석 중동방문 의혹 옹색한 해명으로 ...  \n",
              "38  [원전 문건 공개하고 작성 경위 투명하게 밝히라, 원전 문건 논란 국민이 납득할 해...  \n",
              "39  [윤석열 출마 선언 이제 정책으로 승부할 때다, 정권 교체 대선출마 윤석열 국정 능...  \n",
              "40  [두뇌에서 캐내는 에너지 원자력 두뇌부터 붕괴 중, 원자력계 에 몰고 이제 와서 구...  "
            ]
          },
          "execution_count": 32,
          "metadata": {},
          "output_type": "execute_result"
        }
      ],
      "source": [
        "model.get_topic_info()"
      ]
    },
    {
      "cell_type": "markdown",
      "metadata": {
        "id": "qRjDM6BwbL-L"
      },
      "source": [
        "## **5 - 후처리**"
      ]
    },
    {
      "cell_type": "markdown",
      "metadata": {
        "id": "ZmQ-tChJE_CC"
      },
      "source": [
        "## **5.1 - 자동으로 토픽 수 줄이기**\n",
        "결과로 나온 토픽이 너무 많아 줄이고 싶을 수 있습니다. 아래와 같은 코드를 통해 자동으로 설정된 개수만큼 토픽 수를 줄일 수 있습니다."
      ]
    },
    {
      "cell_type": "code",
      "execution_count": null,
      "metadata": {
        "id": "_GUvcJOIbL-L"
      },
      "outputs": [],
      "source": [
        "# model.reduce_topics(text_list, nr_topics=30)"
      ]
    },
    {
      "cell_type": "markdown",
      "metadata": {
        "id": "SYna4UazFEup"
      },
      "source": [
        "결과를 보겠습니다."
      ]
    },
    {
      "cell_type": "code",
      "execution_count": null,
      "metadata": {
        "id": "LqGj8nBWbL-L"
      },
      "outputs": [],
      "source": [
        "model.get_topic_info()"
      ]
    },
    {
      "cell_type": "markdown",
      "metadata": {
        "id": "P-Szgz-0FL8t"
      },
      "source": [
        "## **5.2 - 수동으로 토픽 수 줄이기**\n",
        "\n",
        "자동으로 줄이는 것이 불만족스러운 경우, 수동으로 토픽을 임의로 결합할 수 있습니다."
      ]
    },
    {
      "cell_type": "markdown",
      "metadata": {
        "id": "NpAogi91FVJm"
      },
      "source": [
        "우선, 어떤 토픽들이 연관있는지 보겠습니다."
      ]
    },
    {
      "cell_type": "code",
      "execution_count": 34,
      "metadata": {
        "colab": {
          "base_uri": "https://localhost:8080/",
          "height": 817
        },
        "id": "fwdTY6DTbL-S",
        "outputId": "b9503254-ac79-4637-8c04-db94ec98ad00"
      },
      "outputs": [
        {
          "data": {
            "text/html": [
              "<html>\n",
              "<head><meta charset=\"utf-8\" /></head>\n",
              "<body>\n",
              "    <div>            <script src=\"https://cdnjs.cloudflare.com/ajax/libs/mathjax/2.7.5/MathJax.js?config=TeX-AMS-MML_SVG\"></script><script type=\"text/javascript\">if (window.MathJax && window.MathJax.Hub && window.MathJax.Hub.Config) {window.MathJax.Hub.Config({SVG: {font: \"STIX-Web\"}});}</script>                <script type=\"text/javascript\">window.PlotlyConfig = {MathJaxConfig: 'local'};</script>\n",
              "        <script charset=\"utf-8\" src=\"https://cdn.plot.ly/plotly-2.24.1.min.js\"></script>                <div id=\"88510c1c-b551-4ae6-98f6-3e741fe8585a\" class=\"plotly-graph-div\" style=\"height:800px; width:1000px;\"></div>            <script type=\"text/javascript\">                                    window.PLOTLYENV=window.PLOTLYENV || {};                                    if (document.getElementById(\"88510c1c-b551-4ae6-98f6-3e741fe8585a\")) {                    Plotly.newPlot(                        \"88510c1c-b551-4ae6-98f6-3e741fe8585a\",                        [{\"hoverinfo\":\"text\",\"marker\":{\"color\":\"rgb(61,153,112)\"},\"mode\":\"lines\",\"x\":[0.0,0.6992179151902664,0.6992179151902664,0.0],\"xaxis\":\"x\",\"y\":[-25.0,-25.0,-35.0,-35.0],\"yaxis\":\"y\",\"type\":\"scatter\"},{\"hoverinfo\":\"text\",\"marker\":{\"color\":\"rgb(61,153,112)\"},\"mode\":\"lines\",\"x\":[0.0,0.7649902544223434,0.7649902544223434,0.6992179151902664],\"xaxis\":\"x\",\"y\":[-15.0,-15.0,-30.0,-30.0],\"yaxis\":\"y\",\"type\":\"scatter\"},{\"hoverinfo\":\"text\",\"marker\":{\"color\":\"rgb(61,153,112)\"},\"mode\":\"lines\",\"x\":[0.0,0.8986724965233006,0.8986724965233006,0.7649902544223434],\"xaxis\":\"x\",\"y\":[-5.0,-5.0,-22.5,-22.5],\"yaxis\":\"y\",\"type\":\"scatter\"},{\"hoverinfo\":\"text\",\"marker\":{\"color\":\"rgb(255,65,54)\"},\"mode\":\"lines\",\"x\":[0.0,0.9194267538559602,0.9194267538559602,0.0],\"xaxis\":\"x\",\"y\":[-45.0,-45.0,-55.0,-55.0],\"yaxis\":\"y\",\"type\":\"scatter\"},{\"hoverinfo\":\"text\",\"marker\":{\"color\":\"rgb(255,65,54)\"},\"mode\":\"lines\",\"x\":[0.9194267538559602,0.9566722499882979,0.9566722499882979,0.0],\"xaxis\":\"x\",\"y\":[-50.0,-50.0,-65.0,-65.0],\"yaxis\":\"y\",\"type\":\"scatter\"},{\"hoverinfo\":\"text\",\"marker\":{\"color\":\"rgb(35,205,205)\"},\"mode\":\"lines\",\"x\":[0.0,0.888043110503583,0.888043110503583,0.0],\"xaxis\":\"x\",\"y\":[-75.0,-75.0,-85.0,-85.0],\"yaxis\":\"y\",\"type\":\"scatter\"},{\"hoverinfo\":\"text\",\"marker\":{\"color\":\"rgb(35,205,205)\"},\"mode\":\"lines\",\"x\":[0.888043110503583,0.9492493878007546,0.9492493878007546,0.0],\"xaxis\":\"x\",\"y\":[-80.0,-80.0,-95.0,-95.0],\"yaxis\":\"y\",\"type\":\"scatter\"},{\"hoverinfo\":\"text\",\"marker\":{\"color\":\"rgb(0,116,217)\"},\"mode\":\"lines\",\"x\":[0.9566722499882979,1.0250134254606402,1.0250134254606402,0.9492493878007546],\"xaxis\":\"x\",\"y\":[-57.5,-57.5,-87.5,-87.5],\"yaxis\":\"y\",\"type\":\"scatter\"},{\"hoverinfo\":\"text\",\"marker\":{\"color\":\"rgb(133,20,75)\"},\"mode\":\"lines\",\"x\":[0.0,0.8786990168601428,0.8786990168601428,0.0],\"xaxis\":\"x\",\"y\":[-115.0,-115.0,-125.0,-125.0],\"yaxis\":\"y\",\"type\":\"scatter\"},{\"hoverinfo\":\"text\",\"marker\":{\"color\":\"rgb(133,20,75)\"},\"mode\":\"lines\",\"x\":[0.0,0.9731930690922713,0.9731930690922713,0.8786990168601428],\"xaxis\":\"x\",\"y\":[-105.0,-105.0,-120.0,-120.0],\"yaxis\":\"y\",\"type\":\"scatter\"},{\"hoverinfo\":\"text\",\"marker\":{\"color\":\"rgb(255,220,0)\"},\"mode\":\"lines\",\"x\":[0.0,0.9059602266394016,0.9059602266394016,0.0],\"xaxis\":\"x\",\"y\":[-135.0,-135.0,-145.0,-145.0],\"yaxis\":\"y\",\"type\":\"scatter\"},{\"hoverinfo\":\"text\",\"marker\":{\"color\":\"rgb(0,116,217)\"},\"mode\":\"lines\",\"x\":[0.9731930690922713,1.0188782730132298,1.0188782730132298,0.9059602266394016],\"xaxis\":\"x\",\"y\":[-112.5,-112.5,-140.0,-140.0],\"yaxis\":\"y\",\"type\":\"scatter\"},{\"hoverinfo\":\"text\",\"marker\":{\"color\":\"rgb(40,35,35)\"},\"mode\":\"lines\",\"x\":[0.0,0.8898184576696315,0.8898184576696315,0.0],\"xaxis\":\"x\",\"y\":[-165.0,-165.0,-175.0,-175.0],\"yaxis\":\"y\",\"type\":\"scatter\"},{\"hoverinfo\":\"text\",\"marker\":{\"color\":\"rgb(40,35,35)\"},\"mode\":\"lines\",\"x\":[0.0,0.9535218158641542,0.9535218158641542,0.8898184576696315],\"xaxis\":\"x\",\"y\":[-155.0,-155.0,-170.0,-170.0],\"yaxis\":\"y\",\"type\":\"scatter\"},{\"hoverinfo\":\"text\",\"marker\":{\"color\":\"rgb(61,153,112)\"},\"mode\":\"lines\",\"x\":[0.0,0.9065934471569831,0.9065934471569831,0.0],\"xaxis\":\"x\",\"y\":[-195.0,-195.0,-205.0,-205.0],\"yaxis\":\"y\",\"type\":\"scatter\"},{\"hoverinfo\":\"text\",\"marker\":{\"color\":\"rgb(61,153,112)\"},\"mode\":\"lines\",\"x\":[0.0,0.9358202297705176,0.9358202297705176,0.9065934471569831],\"xaxis\":\"x\",\"y\":[-185.0,-185.0,-200.0,-200.0],\"yaxis\":\"y\",\"type\":\"scatter\"},{\"hoverinfo\":\"text\",\"marker\":{\"color\":\"rgb(0,116,217)\"},\"mode\":\"lines\",\"x\":[0.9535218158641542,1.0121459771397718,1.0121459771397718,0.9358202297705176],\"xaxis\":\"x\",\"y\":[-162.5,-162.5,-192.5,-192.5],\"yaxis\":\"y\",\"type\":\"scatter\"},{\"hoverinfo\":\"text\",\"marker\":{\"color\":\"rgb(255,65,54)\"},\"mode\":\"lines\",\"x\":[0.0,0.88949942903241,0.88949942903241,0.0],\"xaxis\":\"x\",\"y\":[-225.0,-225.0,-235.0,-235.0],\"yaxis\":\"y\",\"type\":\"scatter\"},{\"hoverinfo\":\"text\",\"marker\":{\"color\":\"rgb(255,65,54)\"},\"mode\":\"lines\",\"x\":[0.88949942903241,0.9213231078426066,0.9213231078426066,0.0],\"xaxis\":\"x\",\"y\":[-230.0,-230.0,-245.0,-245.0],\"yaxis\":\"y\",\"type\":\"scatter\"},{\"hoverinfo\":\"text\",\"marker\":{\"color\":\"rgb(255,65,54)\"},\"mode\":\"lines\",\"x\":[0.0,0.9793206164295476,0.9793206164295476,0.9213231078426066],\"xaxis\":\"x\",\"y\":[-215.0,-215.0,-237.5,-237.5],\"yaxis\":\"y\",\"type\":\"scatter\"},{\"hoverinfo\":\"text\",\"marker\":{\"color\":\"rgb(35,205,205)\"},\"mode\":\"lines\",\"x\":[0.0,0.9415686493790358,0.9415686493790358,0.0],\"xaxis\":\"x\",\"y\":[-255.0,-255.0,-265.0,-265.0],\"yaxis\":\"y\",\"type\":\"scatter\"},{\"hoverinfo\":\"text\",\"marker\":{\"color\":\"rgb(0,116,217)\"},\"mode\":\"lines\",\"x\":[0.9793206164295476,1.005503800627532,1.005503800627532,0.9415686493790358],\"xaxis\":\"x\",\"y\":[-226.25,-226.25,-260.0,-260.0],\"yaxis\":\"y\",\"type\":\"scatter\"},{\"hoverinfo\":\"text\",\"marker\":{\"color\":\"rgb(61,153,112)\"},\"mode\":\"lines\",\"x\":[0.0,0.9629980194976864,0.9629980194976864,0.0],\"xaxis\":\"x\",\"y\":[-275.0,-275.0,-285.0,-285.0],\"yaxis\":\"y\",\"type\":\"scatter\"},{\"hoverinfo\":\"text\",\"marker\":{\"color\":\"rgb(61,153,112)\"},\"mode\":\"lines\",\"x\":[0.0,0.914251249704831,0.914251249704831,0.0],\"xaxis\":\"x\",\"y\":[-295.0,-295.0,-305.0,-305.0],\"yaxis\":\"y\",\"type\":\"scatter\"},{\"hoverinfo\":\"text\",\"marker\":{\"color\":\"rgb(61,153,112)\"},\"mode\":\"lines\",\"x\":[0.914251249704831,0.9687208662623772,0.9687208662623772,0.0],\"xaxis\":\"x\",\"y\":[-300.0,-300.0,-315.0,-315.0],\"yaxis\":\"y\",\"type\":\"scatter\"},{\"hoverinfo\":\"text\",\"marker\":{\"color\":\"rgb(61,153,112)\"},\"mode\":\"lines\",\"x\":[0.9629980194976864,0.9936010452939565,0.9936010452939565,0.9687208662623772],\"xaxis\":\"x\",\"y\":[-280.0,-280.0,-307.5,-307.5],\"yaxis\":\"y\",\"type\":\"scatter\"},{\"hoverinfo\":\"text\",\"marker\":{\"color\":\"rgb(0,116,217)\"},\"mode\":\"lines\",\"x\":[1.005503800627532,1.008121039681238,1.008121039681238,0.9936010452939565],\"xaxis\":\"x\",\"y\":[-243.125,-243.125,-293.75,-293.75],\"yaxis\":\"y\",\"type\":\"scatter\"},{\"hoverinfo\":\"text\",\"marker\":{\"color\":\"rgb(0,116,217)\"},\"mode\":\"lines\",\"x\":[1.0121459771397718,1.060232745146288,1.060232745146288,1.008121039681238],\"xaxis\":\"x\",\"y\":[-177.5,-177.5,-268.4375,-268.4375],\"yaxis\":\"y\",\"type\":\"scatter\"},{\"hoverinfo\":\"text\",\"marker\":{\"color\":\"rgb(0,116,217)\"},\"mode\":\"lines\",\"x\":[1.0188782730132298,1.0871219842111475,1.0871219842111475,1.060232745146288],\"xaxis\":\"x\",\"y\":[-126.25,-126.25,-222.96875,-222.96875],\"yaxis\":\"y\",\"type\":\"scatter\"},{\"hoverinfo\":\"text\",\"marker\":{\"color\":\"rgb(255,65,54)\"},\"mode\":\"lines\",\"x\":[0.0,0.7230605104891265,0.7230605104891265,0.0],\"xaxis\":\"x\",\"y\":[-325.0,-325.0,-335.0,-335.0],\"yaxis\":\"y\",\"type\":\"scatter\"},{\"hoverinfo\":\"text\",\"marker\":{\"color\":\"rgb(35,205,205)\"},\"mode\":\"lines\",\"x\":[0.0,0.8943391296080139,0.8943391296080139,0.0],\"xaxis\":\"x\",\"y\":[-345.0,-345.0,-355.0,-355.0],\"yaxis\":\"y\",\"type\":\"scatter\"},{\"hoverinfo\":\"text\",\"marker\":{\"color\":\"rgb(0,116,217)\"},\"mode\":\"lines\",\"x\":[0.7230605104891265,1.0762176857804915,1.0762176857804915,0.8943391296080139],\"xaxis\":\"x\",\"y\":[-330.0,-330.0,-350.0,-350.0],\"yaxis\":\"y\",\"type\":\"scatter\"},{\"hoverinfo\":\"text\",\"marker\":{\"color\":\"rgb(0,116,217)\"},\"mode\":\"lines\",\"x\":[1.0871219842111475,1.1379855616149661,1.1379855616149661,1.0762176857804915],\"xaxis\":\"x\",\"y\":[-174.609375,-174.609375,-340.0,-340.0],\"yaxis\":\"y\",\"type\":\"scatter\"},{\"hoverinfo\":\"text\",\"marker\":{\"color\":\"rgb(0,116,217)\"},\"mode\":\"lines\",\"x\":[1.0250134254606402,1.167639980656178,1.167639980656178,1.1379855616149661],\"xaxis\":\"x\",\"y\":[-72.5,-72.5,-257.3046875,-257.3046875],\"yaxis\":\"y\",\"type\":\"scatter\"},{\"hoverinfo\":\"text\",\"marker\":{\"color\":\"rgb(133,20,75)\"},\"mode\":\"lines\",\"x\":[0.0,0.850813175300112,0.850813175300112,0.0],\"xaxis\":\"x\",\"y\":[-365.0,-365.0,-375.0,-375.0],\"yaxis\":\"y\",\"type\":\"scatter\"},{\"hoverinfo\":\"text\",\"marker\":{\"color\":\"rgb(133,20,75)\"},\"mode\":\"lines\",\"x\":[0.0,0.7839936035259518,0.7839936035259518,0.0],\"xaxis\":\"x\",\"y\":[-385.0,-385.0,-395.0,-395.0],\"yaxis\":\"y\",\"type\":\"scatter\"},{\"hoverinfo\":\"text\",\"marker\":{\"color\":\"rgb(133,20,75)\"},\"mode\":\"lines\",\"x\":[0.850813175300112,0.9884373156334945,0.9884373156334945,0.7839936035259518],\"xaxis\":\"x\",\"y\":[-370.0,-370.0,-390.0,-390.0],\"yaxis\":\"y\",\"type\":\"scatter\"},{\"hoverinfo\":\"text\",\"marker\":{\"color\":\"rgb(0,116,217)\"},\"mode\":\"lines\",\"x\":[1.167639980656178,1.1933666678212664,1.1933666678212664,0.9884373156334945],\"xaxis\":\"x\",\"y\":[-164.90234375,-164.90234375,-380.0,-380.0],\"yaxis\":\"y\",\"type\":\"scatter\"},{\"hoverinfo\":\"text\",\"marker\":{\"color\":\"rgb(0,116,217)\"},\"mode\":\"lines\",\"x\":[0.8986724965233006,1.3584551007809518,1.3584551007809518,1.1933666678212664],\"xaxis\":\"x\",\"y\":[-13.75,-13.75,-272.451171875,-272.451171875],\"yaxis\":\"y\",\"type\":\"scatter\"}],                        {\"autosize\":false,\"height\":800,\"hovermode\":\"closest\",\"showlegend\":false,\"width\":1000,\"xaxis\":{\"mirror\":\"allticks\",\"rangemode\":\"tozero\",\"showgrid\":false,\"showline\":true,\"showticklabels\":true,\"ticks\":\"outside\",\"type\":\"linear\",\"zeroline\":false},\"yaxis\":{\"mirror\":\"allticks\",\"rangemode\":\"tozero\",\"showgrid\":false,\"showline\":true,\"showticklabels\":true,\"tickmode\":\"array\",\"ticks\":\"outside\",\"ticktext\":[\"17_\\ube44\\uc6a9_\\uccad\\uad6c\\uc11c_\\ud0c8\\uc6d0\\uc804\",\"30_\\uccad\\uad6c\\uc11c_\\uc804\\uae30\\ub8cc_\\ud0c8\\uc6d0\\uc804\",\"18_\\uc6d0\\uac00_\\uc790\\uad6c\\ucc45_\\uc778\\ud50c\\ub808\",\"28_\\uc804\\uae30\\ub8cc_\\uc870\\uc0bc\\ubaa8\\uc0ac_\\uacf5\\uacf5\\uc694\\uae08\",\"16_\\uad6d\\uac10_\\uc815\\uc7c1_\\uc758\\uc6d0\",\"27_\\ud68c\\ub3d9_\\uc5ec\\uc57c_\\uc6d0\\ub0b4\\ub300\\ud45c\",\"24_\\uc6d0\\ub85c_\\uacb0\\ub2e8_\\ub300\\ud1b5\\ub839 \\uc9c0\\uc2dc\",\"29_\\ubbfc\\uc8fc\\ub2f9_\\uacbd\\uc120_\\uc774\\ub150\",\"15_\\ucd1d\\uc120_\\uad6c\\uc548_\\uc0ac\\uc0dd\\uacb0\\ub2e8\",\"38_\\uc724\\uc11d\\uc5f4_\\uc120\\ub300\\uc704_\\ucd9c\\uc0ac\\ud45c\",\"35_\\uae30\\uad00\\uc7a5_\\ucd1d\\uc7ac_\\uc0ac\\ud1f4\",\"4_\\uacf5\\uae30\\uc5c5_\\uac1c\\ud601_\\uacf5\\uacf5\\uae30\\uad00 \\ubd80\\ucc44\",\"3_\\ud55c\\uc804_\\uc801\\uc790_\\uc6d0\\uac00\",\"22_\\ub450\\uc0b0\\uc911\\uacf5\\uc5c5_3\\ubd84_\\ubcd1\\uc8fc\",\"7_\\uacbd\\uc81c_\\uc704\\uae30_\\uc1fc\\ud06c\",\"0_\\ud0dc\\uc591\\uad11 \\ubc1c\\uc804_\\ub09c\\uac1c\\ubc1c_\\ubc8c\\ubaa9\",\"32_\\uc5d0\\ub108\\uc9c0_\\ud655\\ucda9_\\ud0c1\\uc0c1\\uacf5\\ub860\",\"13_\\uc5d0\\ub108\\uc9c0 \\uc815\\ucc45_\\uc0b0\\uc5c5_\\ub9ac\\uc14b\",\"25_\\uc720\\uac00_\\uce58\\uc19f_\\uac00\\uc2a4\",\"12_\\uc804\\ub825_\\uac00\\ub3d9_\\ubc1c\\uc804\\uc18c\",\"34_\\uc545\\ud654_\\ud0c8\\uc6d0\\uc804_\\ud0c8\\uc120\",\"20_\\ucc28\\uc774\\uc789\\uc6d0_\\ubd80\\uacb0_\\ub3fc\\uc9c0\\uace0\\uae30\",\"21_\\ud0c8\\uc6d0\\uc804_\\uc601\\ub355_\\uacf5\\uccad\\ud68c\",\"8_\\ud0c8\\uc6d0\\uc804_\\ucc3d\\uc6d0\\uc2dc_\\uc1a1\\uc601\\uae38\",\"33_\\uac00\\ub098_\\ub3c4\\uc678_\\ud0c8\\uc6d0\\uc804\",\"19_\\ubbf8\\uc138\\uba3c\\uc9c0_\\ubbf8\\ubd09\\ucc45_\\uba3c\\uc9c0\",\"23_\\uc790\\ud654\\uc790\\ucc2c_\\uc815\\ubd80_\\ubb34\\ub2a5\",\"26_\\uacfc\\ud559\\uae30\\uc220_\\uc11c\\uc6b8\\ub300_\\ub300\\ud559\\uc6d0\",\"39_\\uc911\\uc9c4_\\ubb3c\\ubc00_\\ubc31\\ub144\\ub300\\uacc4\",\"14_\\ud575\\ud3d0\\uae30\\ubb3c_\\ub300\\ucc45_\\uc0ac\\uc6a9\\ud6c4\\ud575\\uc5f0\\ub8cc\",\"5_\\uac08\\ub4f1_\\uacf5\\uc0ac_\\ubc30\",\"2_\\uac10\\ucd95_\\ud504\\ub791\\uc2a4_\\ud0c8\\uc6d0\\uc804\",\"31_\\uc218\\ucd9c_\\uc6d0\\uc804_\\uc0ac\\uc7a5\",\"10_\\uc218\\ucd9c_\\uc6d0\\uc804_\\uc774\\uc9d1\\ud2b8\",\"36_\\uc678\\uad50_\\uccad\\uc640\\ub300_\\uc911\\ub3d9\",\"37_\\uc758\\ud639_\\uaddc\\uba85_\\uacbd\\uc704\",\"6_\\uac10\\uc0ac\\uc6d0_\\ucd5c\\uc7ac\\ud615_\\ubbfc\\uc8fc\\ub2f9\",\"1_\\uc6d4\\uc131_\\uc218\\uc0ac_\\uac10\\uc0ac\\uc6d0\",\"9_\\ud5c8\\uac00_\\uac74\\uc124_\\uac00\\ub3d9\",\"11_\\uc0ac\\uc7a5_\\uc815\\uc7ac\\ud6c8_\\uc758\\uacb0\"],\"tickvals\":[-5.0,-15.0,-25.0,-35.0,-45.0,-55.0,-65.0,-75.0,-85.0,-95.0,-105.0,-115.0,-125.0,-135.0,-145.0,-155.0,-165.0,-175.0,-185.0,-195.0,-205.0,-215.0,-225.0,-235.0,-245.0,-255.0,-265.0,-275.0,-285.0,-295.0,-305.0,-315.0,-325.0,-335.0,-345.0,-355.0,-365.0,-375.0,-385.0,-395.0],\"type\":\"linear\",\"zeroline\":false,\"range\":[-400.0,0.0]},\"template\":{\"data\":{\"barpolar\":[{\"marker\":{\"line\":{\"color\":\"white\",\"width\":0.5},\"pattern\":{\"fillmode\":\"overlay\",\"size\":10,\"solidity\":0.2}},\"type\":\"barpolar\"}],\"bar\":[{\"error_x\":{\"color\":\"#2a3f5f\"},\"error_y\":{\"color\":\"#2a3f5f\"},\"marker\":{\"line\":{\"color\":\"white\",\"width\":0.5},\"pattern\":{\"fillmode\":\"overlay\",\"size\":10,\"solidity\":0.2}},\"type\":\"bar\"}],\"carpet\":[{\"aaxis\":{\"endlinecolor\":\"#2a3f5f\",\"gridcolor\":\"#C8D4E3\",\"linecolor\":\"#C8D4E3\",\"minorgridcolor\":\"#C8D4E3\",\"startlinecolor\":\"#2a3f5f\"},\"baxis\":{\"endlinecolor\":\"#2a3f5f\",\"gridcolor\":\"#C8D4E3\",\"linecolor\":\"#C8D4E3\",\"minorgridcolor\":\"#C8D4E3\",\"startlinecolor\":\"#2a3f5f\"},\"type\":\"carpet\"}],\"choropleth\":[{\"colorbar\":{\"outlinewidth\":0,\"ticks\":\"\"},\"type\":\"choropleth\"}],\"contourcarpet\":[{\"colorbar\":{\"outlinewidth\":0,\"ticks\":\"\"},\"type\":\"contourcarpet\"}],\"contour\":[{\"colorbar\":{\"outlinewidth\":0,\"ticks\":\"\"},\"colorscale\":[[0.0,\"#0d0887\"],[0.1111111111111111,\"#46039f\"],[0.2222222222222222,\"#7201a8\"],[0.3333333333333333,\"#9c179e\"],[0.4444444444444444,\"#bd3786\"],[0.5555555555555556,\"#d8576b\"],[0.6666666666666666,\"#ed7953\"],[0.7777777777777778,\"#fb9f3a\"],[0.8888888888888888,\"#fdca26\"],[1.0,\"#f0f921\"]],\"type\":\"contour\"}],\"heatmapgl\":[{\"colorbar\":{\"outlinewidth\":0,\"ticks\":\"\"},\"colorscale\":[[0.0,\"#0d0887\"],[0.1111111111111111,\"#46039f\"],[0.2222222222222222,\"#7201a8\"],[0.3333333333333333,\"#9c179e\"],[0.4444444444444444,\"#bd3786\"],[0.5555555555555556,\"#d8576b\"],[0.6666666666666666,\"#ed7953\"],[0.7777777777777778,\"#fb9f3a\"],[0.8888888888888888,\"#fdca26\"],[1.0,\"#f0f921\"]],\"type\":\"heatmapgl\"}],\"heatmap\":[{\"colorbar\":{\"outlinewidth\":0,\"ticks\":\"\"},\"colorscale\":[[0.0,\"#0d0887\"],[0.1111111111111111,\"#46039f\"],[0.2222222222222222,\"#7201a8\"],[0.3333333333333333,\"#9c179e\"],[0.4444444444444444,\"#bd3786\"],[0.5555555555555556,\"#d8576b\"],[0.6666666666666666,\"#ed7953\"],[0.7777777777777778,\"#fb9f3a\"],[0.8888888888888888,\"#fdca26\"],[1.0,\"#f0f921\"]],\"type\":\"heatmap\"}],\"histogram2dcontour\":[{\"colorbar\":{\"outlinewidth\":0,\"ticks\":\"\"},\"colorscale\":[[0.0,\"#0d0887\"],[0.1111111111111111,\"#46039f\"],[0.2222222222222222,\"#7201a8\"],[0.3333333333333333,\"#9c179e\"],[0.4444444444444444,\"#bd3786\"],[0.5555555555555556,\"#d8576b\"],[0.6666666666666666,\"#ed7953\"],[0.7777777777777778,\"#fb9f3a\"],[0.8888888888888888,\"#fdca26\"],[1.0,\"#f0f921\"]],\"type\":\"histogram2dcontour\"}],\"histogram2d\":[{\"colorbar\":{\"outlinewidth\":0,\"ticks\":\"\"},\"colorscale\":[[0.0,\"#0d0887\"],[0.1111111111111111,\"#46039f\"],[0.2222222222222222,\"#7201a8\"],[0.3333333333333333,\"#9c179e\"],[0.4444444444444444,\"#bd3786\"],[0.5555555555555556,\"#d8576b\"],[0.6666666666666666,\"#ed7953\"],[0.7777777777777778,\"#fb9f3a\"],[0.8888888888888888,\"#fdca26\"],[1.0,\"#f0f921\"]],\"type\":\"histogram2d\"}],\"histogram\":[{\"marker\":{\"pattern\":{\"fillmode\":\"overlay\",\"size\":10,\"solidity\":0.2}},\"type\":\"histogram\"}],\"mesh3d\":[{\"colorbar\":{\"outlinewidth\":0,\"ticks\":\"\"},\"type\":\"mesh3d\"}],\"parcoords\":[{\"line\":{\"colorbar\":{\"outlinewidth\":0,\"ticks\":\"\"}},\"type\":\"parcoords\"}],\"pie\":[{\"automargin\":true,\"type\":\"pie\"}],\"scatter3d\":[{\"line\":{\"colorbar\":{\"outlinewidth\":0,\"ticks\":\"\"}},\"marker\":{\"colorbar\":{\"outlinewidth\":0,\"ticks\":\"\"}},\"type\":\"scatter3d\"}],\"scattercarpet\":[{\"marker\":{\"colorbar\":{\"outlinewidth\":0,\"ticks\":\"\"}},\"type\":\"scattercarpet\"}],\"scattergeo\":[{\"marker\":{\"colorbar\":{\"outlinewidth\":0,\"ticks\":\"\"}},\"type\":\"scattergeo\"}],\"scattergl\":[{\"marker\":{\"colorbar\":{\"outlinewidth\":0,\"ticks\":\"\"}},\"type\":\"scattergl\"}],\"scattermapbox\":[{\"marker\":{\"colorbar\":{\"outlinewidth\":0,\"ticks\":\"\"}},\"type\":\"scattermapbox\"}],\"scatterpolargl\":[{\"marker\":{\"colorbar\":{\"outlinewidth\":0,\"ticks\":\"\"}},\"type\":\"scatterpolargl\"}],\"scatterpolar\":[{\"marker\":{\"colorbar\":{\"outlinewidth\":0,\"ticks\":\"\"}},\"type\":\"scatterpolar\"}],\"scatter\":[{\"fillpattern\":{\"fillmode\":\"overlay\",\"size\":10,\"solidity\":0.2},\"type\":\"scatter\"}],\"scatterternary\":[{\"marker\":{\"colorbar\":{\"outlinewidth\":0,\"ticks\":\"\"}},\"type\":\"scatterternary\"}],\"surface\":[{\"colorbar\":{\"outlinewidth\":0,\"ticks\":\"\"},\"colorscale\":[[0.0,\"#0d0887\"],[0.1111111111111111,\"#46039f\"],[0.2222222222222222,\"#7201a8\"],[0.3333333333333333,\"#9c179e\"],[0.4444444444444444,\"#bd3786\"],[0.5555555555555556,\"#d8576b\"],[0.6666666666666666,\"#ed7953\"],[0.7777777777777778,\"#fb9f3a\"],[0.8888888888888888,\"#fdca26\"],[1.0,\"#f0f921\"]],\"type\":\"surface\"}],\"table\":[{\"cells\":{\"fill\":{\"color\":\"#EBF0F8\"},\"line\":{\"color\":\"white\"}},\"header\":{\"fill\":{\"color\":\"#C8D4E3\"},\"line\":{\"color\":\"white\"}},\"type\":\"table\"}]},\"layout\":{\"annotationdefaults\":{\"arrowcolor\":\"#2a3f5f\",\"arrowhead\":0,\"arrowwidth\":1},\"autotypenumbers\":\"strict\",\"coloraxis\":{\"colorbar\":{\"outlinewidth\":0,\"ticks\":\"\"}},\"colorscale\":{\"diverging\":[[0,\"#8e0152\"],[0.1,\"#c51b7d\"],[0.2,\"#de77ae\"],[0.3,\"#f1b6da\"],[0.4,\"#fde0ef\"],[0.5,\"#f7f7f7\"],[0.6,\"#e6f5d0\"],[0.7,\"#b8e186\"],[0.8,\"#7fbc41\"],[0.9,\"#4d9221\"],[1,\"#276419\"]],\"sequential\":[[0.0,\"#0d0887\"],[0.1111111111111111,\"#46039f\"],[0.2222222222222222,\"#7201a8\"],[0.3333333333333333,\"#9c179e\"],[0.4444444444444444,\"#bd3786\"],[0.5555555555555556,\"#d8576b\"],[0.6666666666666666,\"#ed7953\"],[0.7777777777777778,\"#fb9f3a\"],[0.8888888888888888,\"#fdca26\"],[1.0,\"#f0f921\"]],\"sequentialminus\":[[0.0,\"#0d0887\"],[0.1111111111111111,\"#46039f\"],[0.2222222222222222,\"#7201a8\"],[0.3333333333333333,\"#9c179e\"],[0.4444444444444444,\"#bd3786\"],[0.5555555555555556,\"#d8576b\"],[0.6666666666666666,\"#ed7953\"],[0.7777777777777778,\"#fb9f3a\"],[0.8888888888888888,\"#fdca26\"],[1.0,\"#f0f921\"]]},\"colorway\":[\"#636efa\",\"#EF553B\",\"#00cc96\",\"#ab63fa\",\"#FFA15A\",\"#19d3f3\",\"#FF6692\",\"#B6E880\",\"#FF97FF\",\"#FECB52\"],\"font\":{\"color\":\"#2a3f5f\"},\"geo\":{\"bgcolor\":\"white\",\"lakecolor\":\"white\",\"landcolor\":\"white\",\"showlakes\":true,\"showland\":true,\"subunitcolor\":\"#C8D4E3\"},\"hoverlabel\":{\"align\":\"left\"},\"hovermode\":\"closest\",\"mapbox\":{\"style\":\"light\"},\"paper_bgcolor\":\"white\",\"plot_bgcolor\":\"white\",\"polar\":{\"angularaxis\":{\"gridcolor\":\"#EBF0F8\",\"linecolor\":\"#EBF0F8\",\"ticks\":\"\"},\"bgcolor\":\"white\",\"radialaxis\":{\"gridcolor\":\"#EBF0F8\",\"linecolor\":\"#EBF0F8\",\"ticks\":\"\"}},\"scene\":{\"xaxis\":{\"backgroundcolor\":\"white\",\"gridcolor\":\"#DFE8F3\",\"gridwidth\":2,\"linecolor\":\"#EBF0F8\",\"showbackground\":true,\"ticks\":\"\",\"zerolinecolor\":\"#EBF0F8\"},\"yaxis\":{\"backgroundcolor\":\"white\",\"gridcolor\":\"#DFE8F3\",\"gridwidth\":2,\"linecolor\":\"#EBF0F8\",\"showbackground\":true,\"ticks\":\"\",\"zerolinecolor\":\"#EBF0F8\"},\"zaxis\":{\"backgroundcolor\":\"white\",\"gridcolor\":\"#DFE8F3\",\"gridwidth\":2,\"linecolor\":\"#EBF0F8\",\"showbackground\":true,\"ticks\":\"\",\"zerolinecolor\":\"#EBF0F8\"}},\"shapedefaults\":{\"line\":{\"color\":\"#2a3f5f\"}},\"ternary\":{\"aaxis\":{\"gridcolor\":\"#DFE8F3\",\"linecolor\":\"#A2B1C6\",\"ticks\":\"\"},\"baxis\":{\"gridcolor\":\"#DFE8F3\",\"linecolor\":\"#A2B1C6\",\"ticks\":\"\"},\"bgcolor\":\"white\",\"caxis\":{\"gridcolor\":\"#DFE8F3\",\"linecolor\":\"#A2B1C6\",\"ticks\":\"\"}},\"title\":{\"x\":0.05},\"xaxis\":{\"automargin\":true,\"gridcolor\":\"#EBF0F8\",\"linecolor\":\"#EBF0F8\",\"ticks\":\"\",\"title\":{\"standoff\":15},\"zerolinecolor\":\"#EBF0F8\",\"zerolinewidth\":2},\"yaxis\":{\"automargin\":true,\"gridcolor\":\"#EBF0F8\",\"linecolor\":\"#EBF0F8\",\"ticks\":\"\",\"title\":{\"standoff\":15},\"zerolinecolor\":\"#EBF0F8\",\"zerolinewidth\":2}}},\"title\":{\"font\":{\"size\":22,\"color\":\"Black\"},\"text\":\"\\u003cb\\u003eHierarchical Clustering\\u003c\\u002fb\\u003e\",\"x\":0.5,\"xanchor\":\"center\",\"yanchor\":\"top\"},\"hoverlabel\":{\"font\":{\"size\":16,\"family\":\"Rockwell\"},\"bgcolor\":\"white\"},\"plot_bgcolor\":\"#ECEFF1\"},                        {\"responsive\": true}                    ).then(function(){\n",
              "                            \n",
              "var gd = document.getElementById('88510c1c-b551-4ae6-98f6-3e741fe8585a');\n",
              "var x = new MutationObserver(function (mutations, observer) {{\n",
              "        var display = window.getComputedStyle(gd).display;\n",
              "        if (!display || display === 'none') {{\n",
              "            console.log([gd, 'removed!']);\n",
              "            Plotly.purge(gd);\n",
              "            observer.disconnect();\n",
              "        }}\n",
              "}});\n",
              "\n",
              "// Listen for the removal of the full notebook cells\n",
              "var notebookContainer = gd.closest('#notebook-container');\n",
              "if (notebookContainer) {{\n",
              "    x.observe(notebookContainer, {childList: true});\n",
              "}}\n",
              "\n",
              "// Listen for the clearing of the current output cell\n",
              "var outputEl = gd.closest('.output');\n",
              "if (outputEl) {{\n",
              "    x.observe(outputEl, {childList: true});\n",
              "}}\n",
              "\n",
              "                        })                };                            </script>        </div>\n",
              "</body>\n",
              "</html>"
            ]
          },
          "metadata": {},
          "output_type": "display_data"
        }
      ],
      "source": [
        "model.visualize_hierarchy()"
      ]
    },
    {
      "cell_type": "markdown",
      "metadata": {
        "id": "m8rxd63cFZQ5"
      },
      "source": [
        "관련있는 토픽을 리스트로 구성하고 `merge_topics`에 전달해 실행합니다."
      ]
    },
    {
      "cell_type": "code",
      "execution_count": 49,
      "metadata": {
        "id": "jIEFl_1W3Af5"
      },
      "outputs": [],
      "source": [
        "topics_to_merge = [\n",
        "    [17, 13],\n",
        "    [6, 2],\n",
        "    [14, 3],\n",
        "    [16, 1, 12],\n",
        "    [15, 4, 5],\n",
        "    [10],\n",
        "    [0, 9, 11],\n",
        "    [8, 18, 7]\n",
        "    ]\n",
        "model.merge_topics(df['news_title'], topics_to_merge)"
      ]
    },
    {
      "cell_type": "markdown",
      "metadata": {
        "id": "BukZtjouFkiU"
      },
      "source": [
        "결과를 보겠습니다."
      ]
    },
    {
      "cell_type": "code",
      "execution_count": null,
      "metadata": {
        "id": "B5sjv9D_FmLS"
      },
      "outputs": [],
      "source": [
        "model.get_topic_info()"
      ]
    },
    {
      "cell_type": "markdown",
      "metadata": {
        "id": "funNIB2VBKfS"
      },
      "source": [
        "## **6 - 시각화**\n",
        "BERTopic의 장점은 기본적으로 매우 많은 시각화를 지원한다는 것입니다. 여러가지 시각화를 같이 진행해보도록 하겠습니다."
      ]
    },
    {
      "cell_type": "markdown",
      "metadata": {
        "id": "XLqb2iY-L0fI"
      },
      "source": [
        "### **6.1 - 일반 시각화**"
      ]
    },
    {
      "cell_type": "code",
      "execution_count": 35,
      "metadata": {
        "colab": {
          "base_uri": "https://localhost:8080/",
          "height": 667
        },
        "id": "tId7bkI0bL-L",
        "outputId": "ac4e6293-8b08-45ca-dc44-36d7754ae90f"
      },
      "outputs": [
        {
          "data": {
            "text/html": [
              "<html>\n",
              "<head><meta charset=\"utf-8\" /></head>\n",
              "<body>\n",
              "    <div>            <script src=\"https://cdnjs.cloudflare.com/ajax/libs/mathjax/2.7.5/MathJax.js?config=TeX-AMS-MML_SVG\"></script><script type=\"text/javascript\">if (window.MathJax && window.MathJax.Hub && window.MathJax.Hub.Config) {window.MathJax.Hub.Config({SVG: {font: \"STIX-Web\"}});}</script>                <script type=\"text/javascript\">window.PlotlyConfig = {MathJaxConfig: 'local'};</script>\n",
              "        <script charset=\"utf-8\" src=\"https://cdn.plot.ly/plotly-2.24.1.min.js\"></script>                <div id=\"7414992f-6180-4fb1-9d56-dc758c8d8ec9\" class=\"plotly-graph-div\" style=\"height:650px; width:650px;\"></div>            <script type=\"text/javascript\">                                    window.PLOTLYENV=window.PLOTLYENV || {};                                    if (document.getElementById(\"7414992f-6180-4fb1-9d56-dc758c8d8ec9\")) {                    Plotly.newPlot(                        \"7414992f-6180-4fb1-9d56-dc758c8d8ec9\",                        [{\"customdata\":[[0,\"\\ud0dc\\uc591\\uad11 \\ubc1c\\uc804 | \\ub09c\\uac1c\\ubc1c | \\ubc8c\\ubaa9 | \\ud48d\\ub825 \\ubc1c\\uc804\",84],[1,\"\\uc6d4\\uc131 | \\uc218\\uc0ac | \\uac10\\uc0ac\\uc6d0 | \\uc9c4\\uc0c1\",80],[2,\"\\uac10\\ucd95 | \\ud504\\ub791\\uc2a4 | \\ud0c8\\uc6d0\\uc804 | \\uae30\\ud6c4\",71],[3,\"\\ud55c\\uc804 | \\uc801\\uc790 | \\uc6d0\\uac00 | \\uc804\\uae30\\ub8cc\",70],[4,\"\\uacf5\\uae30\\uc5c5 | \\uac1c\\ud601 | \\uacf5\\uacf5\\uae30\\uad00 \\ubd80\\ucc44 | \\ubd80\\uc2e4\",69],[5,\"\\uac08\\ub4f1 | \\uacf5\\uc0ac | \\ubc30 | \\uc704\\uc6d0\\ud68c\",60],[6,\"\\uac10\\uc0ac\\uc6d0 | \\ucd5c\\uc7ac\\ud615 | \\ubbfc\\uc8fc\\ub2f9 | \\uad8c\\ub825\",55],[7,\"\\uacbd\\uc81c | \\uc704\\uae30 | \\uc1fc\\ud06c | \\uc2a4\\ud0dc\\uadf8\\ud50c\\ub808\\uc774\\uc158\",54],[8,\"\\ud0c8\\uc6d0\\uc804 | \\ucc3d\\uc6d0\\uc2dc | \\uc1a1\\uc601\\uae38 | \\ud3d0\\uc9c0\",46],[9,\"\\ud5c8\\uac00 | \\uac74\\uc124 | \\uac00\\ub3d9 | \\ub2e4\\uc2dc \\uc2dc\\uc791\\ud574\",43],[10,\"\\uc218\\ucd9c | \\uc6d0\\uc804 | \\uc774\\uc9d1\\ud2b8 | \\ubc14\\ub77c\\uce74\",41],[11,\"\\uc0ac\\uc7a5 | \\uc815\\uc7ac\\ud6c8 | \\uc758\\uacb0 | \\ud0c8\\uc6d0\\uc804\",38],[12,\"\\uc804\\ub825 | \\uac00\\ub3d9 | \\ubc1c\\uc804\\uc18c | \\uc608\\ubc29\",30],[13,\"\\uc5d0\\ub108\\uc9c0 \\uc815\\ucc45 | \\uc0b0\\uc5c5 | \\ub9ac\\uc14b | \\uc5d0\\ub108\\uc9c0 \\ud6a8\\uc728\",29],[14,\"\\ud575\\ud3d0\\uae30\\ubb3c | \\ub300\\ucc45 | \\uc0ac\\uc6a9\\ud6c4\\ud575\\uc5f0\\ub8cc | \\ubc29\\uc0ac\\uc131 \\ud3d0\\uae30\\ubb3c\",29],[15,\"\\ucd1d\\uc120 | \\uad6c\\uc548 | \\uc0ac\\uc0dd\\uacb0\\ub2e8 | \\uc2dc\\ub300\\uc815\\uc2e0\",27],[16,\"\\uad6d\\uac10 | \\uc815\\uc7c1 | \\uc758\\uc6d0 | \\uad6d\\ud68c\",25],[17,\"\\ube44\\uc6a9 | \\uccad\\uad6c\\uc11c | \\ud0c8\\uc6d0\\uc804 | \\uc804\\uac00\",24],[18,\"\\uc6d0\\uac00 | \\uc790\\uad6c\\ucc45 | \\uc778\\ud50c\\ub808 | \\uc5f0\\ub8cc\\ube44\",24],[19,\"\\ubbf8\\uc138\\uba3c\\uc9c0 | \\ubbf8\\ubd09\\ucc45 | \\uba3c\\uc9c0 | \\uad00\\ub9ac\\uc81c\",24],[20,\"\\ucc28\\uc774\\uc789\\uc6d0 | \\ubd80\\uacb0 | \\ub3fc\\uc9c0\\uace0\\uae30 | \\uc591\\uc548 \\uad00\\uacc4\",20],[21,\"\\ud0c8\\uc6d0\\uc804 | \\uc601\\ub355 | \\uacf5\\uccad\\ud68c | \\uc0b0\\uc5c5\\ubd80\",19],[22,\"\\ub450\\uc0b0\\uc911\\uacf5\\uc5c5 | 3\\ubd84 | \\ubcd1\\uc8fc | \\uae30\\uc5c5\",18],[23,\"\\uc790\\ud654\\uc790\\ucc2c | \\uc815\\ubd80 | \\ubb34\\ub2a5 | \\ub2f5\\ubcc0\",18],[24,\"\\uc6d0\\ub85c | \\uacb0\\ub2e8 | \\ub300\\ud1b5\\ub839 \\uc9c0\\uc2dc | \\uc2e0\\ub144\\uc0ac\",18],[25,\"\\uc720\\uac00 | \\uce58\\uc19f | \\uac00\\uc2a4 | \\uc218\\uc785\\uad6d\",18],[26,\"\\uacfc\\ud559\\uae30\\uc220 | \\uc11c\\uc6b8\\ub300 | \\ub300\\ud559\\uc6d0 | \\uce74\\uc774\\uc2a4\\ud2b8\",18],[27,\"\\ud68c\\ub3d9 | \\uc5ec\\uc57c | \\uc6d0\\ub0b4\\ub300\\ud45c | \\ud68c\\ub2f4\",18],[28,\"\\uc804\\uae30\\ub8cc | \\uc870\\uc0bc\\ubaa8\\uc0ac | \\uacf5\\uacf5\\uc694\\uae08 | \\uac74\\uac15\\ubcf4\\ud5d8\",17],[29,\"\\ubbfc\\uc8fc\\ub2f9 | \\uacbd\\uc120 | \\uc774\\ub150 | \\ub9ac\\ub354\\uc2ed\",17],[30,\"\\uccad\\uad6c\\uc11c | \\uc804\\uae30\\ub8cc | \\ud0c8\\uc6d0\\uc804 | \\uae09\\ub4f1\",16],[31,\"\\uc218\\ucd9c | \\uc6d0\\uc804 | \\uc0ac\\uc7a5 | \\ube8f\\uae30\",16],[32,\"\\uc5d0\\ub108\\uc9c0 | \\ud655\\ucda9 | \\ud0c1\\uc0c1\\uacf5\\ub860 | \\ud654\\uc7ac\",15],[33,\"\\uac00\\ub098 | \\ub3c4\\uc678 | \\ud0c8\\uc6d0\\uc804 | \\uc6d0\\uc804\",14],[34,\"\\uc545\\ud654 | \\ud0c8\\uc6d0\\uc804 | \\ud0c8\\uc120 | \\ube14\\ub799\\uc544\\uc6c3\",14],[35,\"\\uae30\\uad00\\uc7a5 | \\ucd1d\\uc7ac | \\uc0ac\\ud1f4 | \\ud64d\\uc7a5\\ud45c\",13],[36,\"\\uc678\\uad50 | \\uccad\\uc640\\ub300 | \\uc911\\ub3d9 | \\uc790\\ud654\\uc790\\ucc2c\",12],[37,\"\\uc758\\ud639 | \\uaddc\\uba85 | \\uacbd\\uc704 | \\uccad\\uc640\\ub300\",11],[38,\"\\uc724\\uc11d\\uc5f4 | \\uc120\\ub300\\uc704 | \\ucd9c\\uc0ac\\ud45c | \\uac80\\ucc30\",11],[39,\"\\uc911\\uc9c4 | \\ubb3c\\ubc00 | \\ubc31\\ub144\\ub300\\uacc4 | \\uc6d0\\uc790\\ub825\",10]],\"hovertemplate\":\"\\u003cb\\u003eTopic %{customdata[0]}\\u003c\\u002fb\\u003e\\u003cbr\\u003e%{customdata[1]}\\u003cbr\\u003eSize: %{customdata[2]}\",\"legendgroup\":\"\",\"marker\":{\"color\":\"#B0BEC5\",\"size\":[84,80,71,70,69,60,55,54,46,43,41,38,30,29,29,27,25,24,24,24,20,19,18,18,18,18,18,18,17,17,16,16,15,14,14,13,12,11,11,10],\"sizemode\":\"area\",\"sizeref\":0.0525,\"symbol\":\"circle\",\"line\":{\"color\":\"DarkSlateGrey\",\"width\":2}},\"mode\":\"markers\",\"name\":\"\",\"orientation\":\"v\",\"showlegend\":false,\"x\":[-0.12235109508037567,0.5433555841445923,2.07836651802063,8.27463436126709,-2.5727860927581787,-4.9752020835876465,20.73676872253418,-2.6012134552001953,2.1155760288238525,-5.101109027862549,-0.46392402052879333,0.7793765068054199,-5.8996357917785645,-5.572653770446777,-5.27825927734375,15.709372520446777,20.57102394104004,8.342897415161133,3.893077850341797,2.15667986869812,2.312323808670044,1.2087346315383911,1.8864171504974365,21.111541748046875,16.292524337768555,-5.8307390213012695,-0.5983788371086121,16.126333236694336,3.884606122970581,15.937824249267578,8.451787948608398,0.03142962232232094,-0.16618847846984863,1.3344486951828003,1.665435791015625,20.976551055908203,0.24183019995689392,0.30381712317466736,16.309659957885742,-0.42606621980667114],\"xaxis\":\"x\",\"y\":[7.946249008178711,-10.810757637023926,-12.131979942321777,2.26544189453125,-0.16352000832557678,11.842779159545898,-3.387329339981079,-0.13503693044185638,-11.546838760375977,11.689285278320312,-9.379440307617188,-10.57121467590332,10.8027925491333,11.192521095275879,11.542724609375,10.647634506225586,-3.2199547290802,2.3335909843444824,8.62254810333252,-12.402192115783691,-11.579315185546875,-10.218985557556152,-10.78774642944336,-3.767566204071045,11.208758354187012,10.869311332702637,-9.13262939453125,11.056273460388184,8.622825622558594,10.874945640563965,2.4425837993621826,-9.58071517944336,7.990493297576904,-10.146492004394531,-10.996889114379883,-3.63102126121521,-9.457025527954102,-11.07175064086914,11.246692657470703,-9.253643989562988],\"yaxis\":\"y\",\"type\":\"scatter\"}],                        {\"template\":{\"data\":{\"barpolar\":[{\"marker\":{\"line\":{\"color\":\"white\",\"width\":0.5},\"pattern\":{\"fillmode\":\"overlay\",\"size\":10,\"solidity\":0.2}},\"type\":\"barpolar\"}],\"bar\":[{\"error_x\":{\"color\":\"rgb(36,36,36)\"},\"error_y\":{\"color\":\"rgb(36,36,36)\"},\"marker\":{\"line\":{\"color\":\"white\",\"width\":0.5},\"pattern\":{\"fillmode\":\"overlay\",\"size\":10,\"solidity\":0.2}},\"type\":\"bar\"}],\"carpet\":[{\"aaxis\":{\"endlinecolor\":\"rgb(36,36,36)\",\"gridcolor\":\"white\",\"linecolor\":\"white\",\"minorgridcolor\":\"white\",\"startlinecolor\":\"rgb(36,36,36)\"},\"baxis\":{\"endlinecolor\":\"rgb(36,36,36)\",\"gridcolor\":\"white\",\"linecolor\":\"white\",\"minorgridcolor\":\"white\",\"startlinecolor\":\"rgb(36,36,36)\"},\"type\":\"carpet\"}],\"choropleth\":[{\"colorbar\":{\"outlinewidth\":1,\"tickcolor\":\"rgb(36,36,36)\",\"ticks\":\"outside\"},\"type\":\"choropleth\"}],\"contourcarpet\":[{\"colorbar\":{\"outlinewidth\":1,\"tickcolor\":\"rgb(36,36,36)\",\"ticks\":\"outside\"},\"type\":\"contourcarpet\"}],\"contour\":[{\"colorbar\":{\"outlinewidth\":1,\"tickcolor\":\"rgb(36,36,36)\",\"ticks\":\"outside\"},\"colorscale\":[[0.0,\"#440154\"],[0.1111111111111111,\"#482878\"],[0.2222222222222222,\"#3e4989\"],[0.3333333333333333,\"#31688e\"],[0.4444444444444444,\"#26828e\"],[0.5555555555555556,\"#1f9e89\"],[0.6666666666666666,\"#35b779\"],[0.7777777777777778,\"#6ece58\"],[0.8888888888888888,\"#b5de2b\"],[1.0,\"#fde725\"]],\"type\":\"contour\"}],\"heatmapgl\":[{\"colorbar\":{\"outlinewidth\":1,\"tickcolor\":\"rgb(36,36,36)\",\"ticks\":\"outside\"},\"colorscale\":[[0.0,\"#440154\"],[0.1111111111111111,\"#482878\"],[0.2222222222222222,\"#3e4989\"],[0.3333333333333333,\"#31688e\"],[0.4444444444444444,\"#26828e\"],[0.5555555555555556,\"#1f9e89\"],[0.6666666666666666,\"#35b779\"],[0.7777777777777778,\"#6ece58\"],[0.8888888888888888,\"#b5de2b\"],[1.0,\"#fde725\"]],\"type\":\"heatmapgl\"}],\"heatmap\":[{\"colorbar\":{\"outlinewidth\":1,\"tickcolor\":\"rgb(36,36,36)\",\"ticks\":\"outside\"},\"colorscale\":[[0.0,\"#440154\"],[0.1111111111111111,\"#482878\"],[0.2222222222222222,\"#3e4989\"],[0.3333333333333333,\"#31688e\"],[0.4444444444444444,\"#26828e\"],[0.5555555555555556,\"#1f9e89\"],[0.6666666666666666,\"#35b779\"],[0.7777777777777778,\"#6ece58\"],[0.8888888888888888,\"#b5de2b\"],[1.0,\"#fde725\"]],\"type\":\"heatmap\"}],\"histogram2dcontour\":[{\"colorbar\":{\"outlinewidth\":1,\"tickcolor\":\"rgb(36,36,36)\",\"ticks\":\"outside\"},\"colorscale\":[[0.0,\"#440154\"],[0.1111111111111111,\"#482878\"],[0.2222222222222222,\"#3e4989\"],[0.3333333333333333,\"#31688e\"],[0.4444444444444444,\"#26828e\"],[0.5555555555555556,\"#1f9e89\"],[0.6666666666666666,\"#35b779\"],[0.7777777777777778,\"#6ece58\"],[0.8888888888888888,\"#b5de2b\"],[1.0,\"#fde725\"]],\"type\":\"histogram2dcontour\"}],\"histogram2d\":[{\"colorbar\":{\"outlinewidth\":1,\"tickcolor\":\"rgb(36,36,36)\",\"ticks\":\"outside\"},\"colorscale\":[[0.0,\"#440154\"],[0.1111111111111111,\"#482878\"],[0.2222222222222222,\"#3e4989\"],[0.3333333333333333,\"#31688e\"],[0.4444444444444444,\"#26828e\"],[0.5555555555555556,\"#1f9e89\"],[0.6666666666666666,\"#35b779\"],[0.7777777777777778,\"#6ece58\"],[0.8888888888888888,\"#b5de2b\"],[1.0,\"#fde725\"]],\"type\":\"histogram2d\"}],\"histogram\":[{\"marker\":{\"line\":{\"color\":\"white\",\"width\":0.6}},\"type\":\"histogram\"}],\"mesh3d\":[{\"colorbar\":{\"outlinewidth\":1,\"tickcolor\":\"rgb(36,36,36)\",\"ticks\":\"outside\"},\"type\":\"mesh3d\"}],\"parcoords\":[{\"line\":{\"colorbar\":{\"outlinewidth\":1,\"tickcolor\":\"rgb(36,36,36)\",\"ticks\":\"outside\"}},\"type\":\"parcoords\"}],\"pie\":[{\"automargin\":true,\"type\":\"pie\"}],\"scatter3d\":[{\"line\":{\"colorbar\":{\"outlinewidth\":1,\"tickcolor\":\"rgb(36,36,36)\",\"ticks\":\"outside\"}},\"marker\":{\"colorbar\":{\"outlinewidth\":1,\"tickcolor\":\"rgb(36,36,36)\",\"ticks\":\"outside\"}},\"type\":\"scatter3d\"}],\"scattercarpet\":[{\"marker\":{\"colorbar\":{\"outlinewidth\":1,\"tickcolor\":\"rgb(36,36,36)\",\"ticks\":\"outside\"}},\"type\":\"scattercarpet\"}],\"scattergeo\":[{\"marker\":{\"colorbar\":{\"outlinewidth\":1,\"tickcolor\":\"rgb(36,36,36)\",\"ticks\":\"outside\"}},\"type\":\"scattergeo\"}],\"scattergl\":[{\"marker\":{\"colorbar\":{\"outlinewidth\":1,\"tickcolor\":\"rgb(36,36,36)\",\"ticks\":\"outside\"}},\"type\":\"scattergl\"}],\"scattermapbox\":[{\"marker\":{\"colorbar\":{\"outlinewidth\":1,\"tickcolor\":\"rgb(36,36,36)\",\"ticks\":\"outside\"}},\"type\":\"scattermapbox\"}],\"scatterpolargl\":[{\"marker\":{\"colorbar\":{\"outlinewidth\":1,\"tickcolor\":\"rgb(36,36,36)\",\"ticks\":\"outside\"}},\"type\":\"scatterpolargl\"}],\"scatterpolar\":[{\"marker\":{\"colorbar\":{\"outlinewidth\":1,\"tickcolor\":\"rgb(36,36,36)\",\"ticks\":\"outside\"}},\"type\":\"scatterpolar\"}],\"scatter\":[{\"fillpattern\":{\"fillmode\":\"overlay\",\"size\":10,\"solidity\":0.2},\"type\":\"scatter\"}],\"scatterternary\":[{\"marker\":{\"colorbar\":{\"outlinewidth\":1,\"tickcolor\":\"rgb(36,36,36)\",\"ticks\":\"outside\"}},\"type\":\"scatterternary\"}],\"surface\":[{\"colorbar\":{\"outlinewidth\":1,\"tickcolor\":\"rgb(36,36,36)\",\"ticks\":\"outside\"},\"colorscale\":[[0.0,\"#440154\"],[0.1111111111111111,\"#482878\"],[0.2222222222222222,\"#3e4989\"],[0.3333333333333333,\"#31688e\"],[0.4444444444444444,\"#26828e\"],[0.5555555555555556,\"#1f9e89\"],[0.6666666666666666,\"#35b779\"],[0.7777777777777778,\"#6ece58\"],[0.8888888888888888,\"#b5de2b\"],[1.0,\"#fde725\"]],\"type\":\"surface\"}],\"table\":[{\"cells\":{\"fill\":{\"color\":\"rgb(237,237,237)\"},\"line\":{\"color\":\"white\"}},\"header\":{\"fill\":{\"color\":\"rgb(217,217,217)\"},\"line\":{\"color\":\"white\"}},\"type\":\"table\"}]},\"layout\":{\"annotationdefaults\":{\"arrowhead\":0,\"arrowwidth\":1},\"autotypenumbers\":\"strict\",\"coloraxis\":{\"colorbar\":{\"outlinewidth\":1,\"tickcolor\":\"rgb(36,36,36)\",\"ticks\":\"outside\"}},\"colorscale\":{\"diverging\":[[0.0,\"rgb(103,0,31)\"],[0.1,\"rgb(178,24,43)\"],[0.2,\"rgb(214,96,77)\"],[0.3,\"rgb(244,165,130)\"],[0.4,\"rgb(253,219,199)\"],[0.5,\"rgb(247,247,247)\"],[0.6,\"rgb(209,229,240)\"],[0.7,\"rgb(146,197,222)\"],[0.8,\"rgb(67,147,195)\"],[0.9,\"rgb(33,102,172)\"],[1.0,\"rgb(5,48,97)\"]],\"sequential\":[[0.0,\"#440154\"],[0.1111111111111111,\"#482878\"],[0.2222222222222222,\"#3e4989\"],[0.3333333333333333,\"#31688e\"],[0.4444444444444444,\"#26828e\"],[0.5555555555555556,\"#1f9e89\"],[0.6666666666666666,\"#35b779\"],[0.7777777777777778,\"#6ece58\"],[0.8888888888888888,\"#b5de2b\"],[1.0,\"#fde725\"]],\"sequentialminus\":[[0.0,\"#440154\"],[0.1111111111111111,\"#482878\"],[0.2222222222222222,\"#3e4989\"],[0.3333333333333333,\"#31688e\"],[0.4444444444444444,\"#26828e\"],[0.5555555555555556,\"#1f9e89\"],[0.6666666666666666,\"#35b779\"],[0.7777777777777778,\"#6ece58\"],[0.8888888888888888,\"#b5de2b\"],[1.0,\"#fde725\"]]},\"colorway\":[\"#1F77B4\",\"#FF7F0E\",\"#2CA02C\",\"#D62728\",\"#9467BD\",\"#8C564B\",\"#E377C2\",\"#7F7F7F\",\"#BCBD22\",\"#17BECF\"],\"font\":{\"color\":\"rgb(36,36,36)\"},\"geo\":{\"bgcolor\":\"white\",\"lakecolor\":\"white\",\"landcolor\":\"white\",\"showlakes\":true,\"showland\":true,\"subunitcolor\":\"white\"},\"hoverlabel\":{\"align\":\"left\"},\"hovermode\":\"closest\",\"mapbox\":{\"style\":\"light\"},\"paper_bgcolor\":\"white\",\"plot_bgcolor\":\"white\",\"polar\":{\"angularaxis\":{\"gridcolor\":\"rgb(232,232,232)\",\"linecolor\":\"rgb(36,36,36)\",\"showgrid\":false,\"showline\":true,\"ticks\":\"outside\"},\"bgcolor\":\"white\",\"radialaxis\":{\"gridcolor\":\"rgb(232,232,232)\",\"linecolor\":\"rgb(36,36,36)\",\"showgrid\":false,\"showline\":true,\"ticks\":\"outside\"}},\"scene\":{\"xaxis\":{\"backgroundcolor\":\"white\",\"gridcolor\":\"rgb(232,232,232)\",\"gridwidth\":2,\"linecolor\":\"rgb(36,36,36)\",\"showbackground\":true,\"showgrid\":false,\"showline\":true,\"ticks\":\"outside\",\"zeroline\":false,\"zerolinecolor\":\"rgb(36,36,36)\"},\"yaxis\":{\"backgroundcolor\":\"white\",\"gridcolor\":\"rgb(232,232,232)\",\"gridwidth\":2,\"linecolor\":\"rgb(36,36,36)\",\"showbackground\":true,\"showgrid\":false,\"showline\":true,\"ticks\":\"outside\",\"zeroline\":false,\"zerolinecolor\":\"rgb(36,36,36)\"},\"zaxis\":{\"backgroundcolor\":\"white\",\"gridcolor\":\"rgb(232,232,232)\",\"gridwidth\":2,\"linecolor\":\"rgb(36,36,36)\",\"showbackground\":true,\"showgrid\":false,\"showline\":true,\"ticks\":\"outside\",\"zeroline\":false,\"zerolinecolor\":\"rgb(36,36,36)\"}},\"shapedefaults\":{\"fillcolor\":\"black\",\"line\":{\"width\":0},\"opacity\":0.3},\"ternary\":{\"aaxis\":{\"gridcolor\":\"rgb(232,232,232)\",\"linecolor\":\"rgb(36,36,36)\",\"showgrid\":false,\"showline\":true,\"ticks\":\"outside\"},\"baxis\":{\"gridcolor\":\"rgb(232,232,232)\",\"linecolor\":\"rgb(36,36,36)\",\"showgrid\":false,\"showline\":true,\"ticks\":\"outside\"},\"bgcolor\":\"white\",\"caxis\":{\"gridcolor\":\"rgb(232,232,232)\",\"linecolor\":\"rgb(36,36,36)\",\"showgrid\":false,\"showline\":true,\"ticks\":\"outside\"}},\"title\":{\"x\":0.05},\"xaxis\":{\"automargin\":true,\"gridcolor\":\"rgb(232,232,232)\",\"linecolor\":\"rgb(36,36,36)\",\"showgrid\":false,\"showline\":true,\"ticks\":\"outside\",\"title\":{\"standoff\":15},\"zeroline\":false,\"zerolinecolor\":\"rgb(36,36,36)\"},\"yaxis\":{\"automargin\":true,\"gridcolor\":\"rgb(232,232,232)\",\"linecolor\":\"rgb(36,36,36)\",\"showgrid\":false,\"showline\":true,\"ticks\":\"outside\",\"title\":{\"standoff\":15},\"zeroline\":false,\"zerolinecolor\":\"rgb(36,36,36)\"}}},\"xaxis\":{\"anchor\":\"y\",\"domain\":[0.0,1.0],\"title\":{\"text\":\"\"},\"visible\":false,\"range\":[-6.784581160545349,24.278273010253905]},\"yaxis\":{\"anchor\":\"x\",\"domain\":[0.0,1.0],\"title\":{\"text\":\"\"},\"visible\":false,\"range\":[-14.262520933151245,13.619196033477783]},\"legend\":{\"tracegroupgap\":0,\"itemsizing\":\"constant\"},\"margin\":{\"t\":60},\"title\":{\"font\":{\"size\":22,\"color\":\"Black\"},\"text\":\"\\u003cb\\u003eIntertopic Distance Map\\u003c\\u002fb\\u003e\",\"y\":0.95,\"x\":0.5,\"xanchor\":\"center\",\"yanchor\":\"top\"},\"hoverlabel\":{\"font\":{\"size\":16,\"family\":\"Rockwell\"},\"bgcolor\":\"white\"},\"width\":650,\"height\":650,\"sliders\":[{\"active\":0,\"pad\":{\"t\":50},\"steps\":[{\"args\":[{\"marker.color\":[[\"red\",\"#B0BEC5\",\"#B0BEC5\",\"#B0BEC5\",\"#B0BEC5\",\"#B0BEC5\",\"#B0BEC5\",\"#B0BEC5\",\"#B0BEC5\",\"#B0BEC5\",\"#B0BEC5\",\"#B0BEC5\",\"#B0BEC5\",\"#B0BEC5\",\"#B0BEC5\",\"#B0BEC5\",\"#B0BEC5\",\"#B0BEC5\",\"#B0BEC5\",\"#B0BEC5\",\"#B0BEC5\",\"#B0BEC5\",\"#B0BEC5\",\"#B0BEC5\",\"#B0BEC5\",\"#B0BEC5\",\"#B0BEC5\",\"#B0BEC5\",\"#B0BEC5\",\"#B0BEC5\",\"#B0BEC5\",\"#B0BEC5\",\"#B0BEC5\",\"#B0BEC5\",\"#B0BEC5\",\"#B0BEC5\",\"#B0BEC5\",\"#B0BEC5\",\"#B0BEC5\",\"#B0BEC5\"]]}],\"label\":\"Topic 0\",\"method\":\"update\"},{\"args\":[{\"marker.color\":[[\"#B0BEC5\",\"red\",\"#B0BEC5\",\"#B0BEC5\",\"#B0BEC5\",\"#B0BEC5\",\"#B0BEC5\",\"#B0BEC5\",\"#B0BEC5\",\"#B0BEC5\",\"#B0BEC5\",\"#B0BEC5\",\"#B0BEC5\",\"#B0BEC5\",\"#B0BEC5\",\"#B0BEC5\",\"#B0BEC5\",\"#B0BEC5\",\"#B0BEC5\",\"#B0BEC5\",\"#B0BEC5\",\"#B0BEC5\",\"#B0BEC5\",\"#B0BEC5\",\"#B0BEC5\",\"#B0BEC5\",\"#B0BEC5\",\"#B0BEC5\",\"#B0BEC5\",\"#B0BEC5\",\"#B0BEC5\",\"#B0BEC5\",\"#B0BEC5\",\"#B0BEC5\",\"#B0BEC5\",\"#B0BEC5\",\"#B0BEC5\",\"#B0BEC5\",\"#B0BEC5\",\"#B0BEC5\"]]}],\"label\":\"Topic 1\",\"method\":\"update\"},{\"args\":[{\"marker.color\":[[\"#B0BEC5\",\"#B0BEC5\",\"red\",\"#B0BEC5\",\"#B0BEC5\",\"#B0BEC5\",\"#B0BEC5\",\"#B0BEC5\",\"#B0BEC5\",\"#B0BEC5\",\"#B0BEC5\",\"#B0BEC5\",\"#B0BEC5\",\"#B0BEC5\",\"#B0BEC5\",\"#B0BEC5\",\"#B0BEC5\",\"#B0BEC5\",\"#B0BEC5\",\"#B0BEC5\",\"#B0BEC5\",\"#B0BEC5\",\"#B0BEC5\",\"#B0BEC5\",\"#B0BEC5\",\"#B0BEC5\",\"#B0BEC5\",\"#B0BEC5\",\"#B0BEC5\",\"#B0BEC5\",\"#B0BEC5\",\"#B0BEC5\",\"#B0BEC5\",\"#B0BEC5\",\"#B0BEC5\",\"#B0BEC5\",\"#B0BEC5\",\"#B0BEC5\",\"#B0BEC5\",\"#B0BEC5\"]]}],\"label\":\"Topic 2\",\"method\":\"update\"},{\"args\":[{\"marker.color\":[[\"#B0BEC5\",\"#B0BEC5\",\"#B0BEC5\",\"red\",\"#B0BEC5\",\"#B0BEC5\",\"#B0BEC5\",\"#B0BEC5\",\"#B0BEC5\",\"#B0BEC5\",\"#B0BEC5\",\"#B0BEC5\",\"#B0BEC5\",\"#B0BEC5\",\"#B0BEC5\",\"#B0BEC5\",\"#B0BEC5\",\"#B0BEC5\",\"#B0BEC5\",\"#B0BEC5\",\"#B0BEC5\",\"#B0BEC5\",\"#B0BEC5\",\"#B0BEC5\",\"#B0BEC5\",\"#B0BEC5\",\"#B0BEC5\",\"#B0BEC5\",\"#B0BEC5\",\"#B0BEC5\",\"#B0BEC5\",\"#B0BEC5\",\"#B0BEC5\",\"#B0BEC5\",\"#B0BEC5\",\"#B0BEC5\",\"#B0BEC5\",\"#B0BEC5\",\"#B0BEC5\",\"#B0BEC5\"]]}],\"label\":\"Topic 3\",\"method\":\"update\"},{\"args\":[{\"marker.color\":[[\"#B0BEC5\",\"#B0BEC5\",\"#B0BEC5\",\"#B0BEC5\",\"red\",\"#B0BEC5\",\"#B0BEC5\",\"#B0BEC5\",\"#B0BEC5\",\"#B0BEC5\",\"#B0BEC5\",\"#B0BEC5\",\"#B0BEC5\",\"#B0BEC5\",\"#B0BEC5\",\"#B0BEC5\",\"#B0BEC5\",\"#B0BEC5\",\"#B0BEC5\",\"#B0BEC5\",\"#B0BEC5\",\"#B0BEC5\",\"#B0BEC5\",\"#B0BEC5\",\"#B0BEC5\",\"#B0BEC5\",\"#B0BEC5\",\"#B0BEC5\",\"#B0BEC5\",\"#B0BEC5\",\"#B0BEC5\",\"#B0BEC5\",\"#B0BEC5\",\"#B0BEC5\",\"#B0BEC5\",\"#B0BEC5\",\"#B0BEC5\",\"#B0BEC5\",\"#B0BEC5\",\"#B0BEC5\"]]}],\"label\":\"Topic 4\",\"method\":\"update\"},{\"args\":[{\"marker.color\":[[\"#B0BEC5\",\"#B0BEC5\",\"#B0BEC5\",\"#B0BEC5\",\"#B0BEC5\",\"red\",\"#B0BEC5\",\"#B0BEC5\",\"#B0BEC5\",\"#B0BEC5\",\"#B0BEC5\",\"#B0BEC5\",\"#B0BEC5\",\"#B0BEC5\",\"#B0BEC5\",\"#B0BEC5\",\"#B0BEC5\",\"#B0BEC5\",\"#B0BEC5\",\"#B0BEC5\",\"#B0BEC5\",\"#B0BEC5\",\"#B0BEC5\",\"#B0BEC5\",\"#B0BEC5\",\"#B0BEC5\",\"#B0BEC5\",\"#B0BEC5\",\"#B0BEC5\",\"#B0BEC5\",\"#B0BEC5\",\"#B0BEC5\",\"#B0BEC5\",\"#B0BEC5\",\"#B0BEC5\",\"#B0BEC5\",\"#B0BEC5\",\"#B0BEC5\",\"#B0BEC5\",\"#B0BEC5\"]]}],\"label\":\"Topic 5\",\"method\":\"update\"},{\"args\":[{\"marker.color\":[[\"#B0BEC5\",\"#B0BEC5\",\"#B0BEC5\",\"#B0BEC5\",\"#B0BEC5\",\"#B0BEC5\",\"red\",\"#B0BEC5\",\"#B0BEC5\",\"#B0BEC5\",\"#B0BEC5\",\"#B0BEC5\",\"#B0BEC5\",\"#B0BEC5\",\"#B0BEC5\",\"#B0BEC5\",\"#B0BEC5\",\"#B0BEC5\",\"#B0BEC5\",\"#B0BEC5\",\"#B0BEC5\",\"#B0BEC5\",\"#B0BEC5\",\"#B0BEC5\",\"#B0BEC5\",\"#B0BEC5\",\"#B0BEC5\",\"#B0BEC5\",\"#B0BEC5\",\"#B0BEC5\",\"#B0BEC5\",\"#B0BEC5\",\"#B0BEC5\",\"#B0BEC5\",\"#B0BEC5\",\"#B0BEC5\",\"#B0BEC5\",\"#B0BEC5\",\"#B0BEC5\",\"#B0BEC5\"]]}],\"label\":\"Topic 6\",\"method\":\"update\"},{\"args\":[{\"marker.color\":[[\"#B0BEC5\",\"#B0BEC5\",\"#B0BEC5\",\"#B0BEC5\",\"#B0BEC5\",\"#B0BEC5\",\"#B0BEC5\",\"red\",\"#B0BEC5\",\"#B0BEC5\",\"#B0BEC5\",\"#B0BEC5\",\"#B0BEC5\",\"#B0BEC5\",\"#B0BEC5\",\"#B0BEC5\",\"#B0BEC5\",\"#B0BEC5\",\"#B0BEC5\",\"#B0BEC5\",\"#B0BEC5\",\"#B0BEC5\",\"#B0BEC5\",\"#B0BEC5\",\"#B0BEC5\",\"#B0BEC5\",\"#B0BEC5\",\"#B0BEC5\",\"#B0BEC5\",\"#B0BEC5\",\"#B0BEC5\",\"#B0BEC5\",\"#B0BEC5\",\"#B0BEC5\",\"#B0BEC5\",\"#B0BEC5\",\"#B0BEC5\",\"#B0BEC5\",\"#B0BEC5\",\"#B0BEC5\"]]}],\"label\":\"Topic 7\",\"method\":\"update\"},{\"args\":[{\"marker.color\":[[\"#B0BEC5\",\"#B0BEC5\",\"#B0BEC5\",\"#B0BEC5\",\"#B0BEC5\",\"#B0BEC5\",\"#B0BEC5\",\"#B0BEC5\",\"red\",\"#B0BEC5\",\"#B0BEC5\",\"#B0BEC5\",\"#B0BEC5\",\"#B0BEC5\",\"#B0BEC5\",\"#B0BEC5\",\"#B0BEC5\",\"#B0BEC5\",\"#B0BEC5\",\"#B0BEC5\",\"#B0BEC5\",\"#B0BEC5\",\"#B0BEC5\",\"#B0BEC5\",\"#B0BEC5\",\"#B0BEC5\",\"#B0BEC5\",\"#B0BEC5\",\"#B0BEC5\",\"#B0BEC5\",\"#B0BEC5\",\"#B0BEC5\",\"#B0BEC5\",\"#B0BEC5\",\"#B0BEC5\",\"#B0BEC5\",\"#B0BEC5\",\"#B0BEC5\",\"#B0BEC5\",\"#B0BEC5\"]]}],\"label\":\"Topic 8\",\"method\":\"update\"},{\"args\":[{\"marker.color\":[[\"#B0BEC5\",\"#B0BEC5\",\"#B0BEC5\",\"#B0BEC5\",\"#B0BEC5\",\"#B0BEC5\",\"#B0BEC5\",\"#B0BEC5\",\"#B0BEC5\",\"red\",\"#B0BEC5\",\"#B0BEC5\",\"#B0BEC5\",\"#B0BEC5\",\"#B0BEC5\",\"#B0BEC5\",\"#B0BEC5\",\"#B0BEC5\",\"#B0BEC5\",\"#B0BEC5\",\"#B0BEC5\",\"#B0BEC5\",\"#B0BEC5\",\"#B0BEC5\",\"#B0BEC5\",\"#B0BEC5\",\"#B0BEC5\",\"#B0BEC5\",\"#B0BEC5\",\"#B0BEC5\",\"#B0BEC5\",\"#B0BEC5\",\"#B0BEC5\",\"#B0BEC5\",\"#B0BEC5\",\"#B0BEC5\",\"#B0BEC5\",\"#B0BEC5\",\"#B0BEC5\",\"#B0BEC5\"]]}],\"label\":\"Topic 9\",\"method\":\"update\"},{\"args\":[{\"marker.color\":[[\"#B0BEC5\",\"#B0BEC5\",\"#B0BEC5\",\"#B0BEC5\",\"#B0BEC5\",\"#B0BEC5\",\"#B0BEC5\",\"#B0BEC5\",\"#B0BEC5\",\"#B0BEC5\",\"red\",\"#B0BEC5\",\"#B0BEC5\",\"#B0BEC5\",\"#B0BEC5\",\"#B0BEC5\",\"#B0BEC5\",\"#B0BEC5\",\"#B0BEC5\",\"#B0BEC5\",\"#B0BEC5\",\"#B0BEC5\",\"#B0BEC5\",\"#B0BEC5\",\"#B0BEC5\",\"#B0BEC5\",\"#B0BEC5\",\"#B0BEC5\",\"#B0BEC5\",\"#B0BEC5\",\"#B0BEC5\",\"#B0BEC5\",\"#B0BEC5\",\"#B0BEC5\",\"#B0BEC5\",\"#B0BEC5\",\"#B0BEC5\",\"#B0BEC5\",\"#B0BEC5\",\"#B0BEC5\"]]}],\"label\":\"Topic 10\",\"method\":\"update\"},{\"args\":[{\"marker.color\":[[\"#B0BEC5\",\"#B0BEC5\",\"#B0BEC5\",\"#B0BEC5\",\"#B0BEC5\",\"#B0BEC5\",\"#B0BEC5\",\"#B0BEC5\",\"#B0BEC5\",\"#B0BEC5\",\"#B0BEC5\",\"red\",\"#B0BEC5\",\"#B0BEC5\",\"#B0BEC5\",\"#B0BEC5\",\"#B0BEC5\",\"#B0BEC5\",\"#B0BEC5\",\"#B0BEC5\",\"#B0BEC5\",\"#B0BEC5\",\"#B0BEC5\",\"#B0BEC5\",\"#B0BEC5\",\"#B0BEC5\",\"#B0BEC5\",\"#B0BEC5\",\"#B0BEC5\",\"#B0BEC5\",\"#B0BEC5\",\"#B0BEC5\",\"#B0BEC5\",\"#B0BEC5\",\"#B0BEC5\",\"#B0BEC5\",\"#B0BEC5\",\"#B0BEC5\",\"#B0BEC5\",\"#B0BEC5\"]]}],\"label\":\"Topic 11\",\"method\":\"update\"},{\"args\":[{\"marker.color\":[[\"#B0BEC5\",\"#B0BEC5\",\"#B0BEC5\",\"#B0BEC5\",\"#B0BEC5\",\"#B0BEC5\",\"#B0BEC5\",\"#B0BEC5\",\"#B0BEC5\",\"#B0BEC5\",\"#B0BEC5\",\"#B0BEC5\",\"red\",\"#B0BEC5\",\"#B0BEC5\",\"#B0BEC5\",\"#B0BEC5\",\"#B0BEC5\",\"#B0BEC5\",\"#B0BEC5\",\"#B0BEC5\",\"#B0BEC5\",\"#B0BEC5\",\"#B0BEC5\",\"#B0BEC5\",\"#B0BEC5\",\"#B0BEC5\",\"#B0BEC5\",\"#B0BEC5\",\"#B0BEC5\",\"#B0BEC5\",\"#B0BEC5\",\"#B0BEC5\",\"#B0BEC5\",\"#B0BEC5\",\"#B0BEC5\",\"#B0BEC5\",\"#B0BEC5\",\"#B0BEC5\",\"#B0BEC5\"]]}],\"label\":\"Topic 12\",\"method\":\"update\"},{\"args\":[{\"marker.color\":[[\"#B0BEC5\",\"#B0BEC5\",\"#B0BEC5\",\"#B0BEC5\",\"#B0BEC5\",\"#B0BEC5\",\"#B0BEC5\",\"#B0BEC5\",\"#B0BEC5\",\"#B0BEC5\",\"#B0BEC5\",\"#B0BEC5\",\"#B0BEC5\",\"red\",\"#B0BEC5\",\"#B0BEC5\",\"#B0BEC5\",\"#B0BEC5\",\"#B0BEC5\",\"#B0BEC5\",\"#B0BEC5\",\"#B0BEC5\",\"#B0BEC5\",\"#B0BEC5\",\"#B0BEC5\",\"#B0BEC5\",\"#B0BEC5\",\"#B0BEC5\",\"#B0BEC5\",\"#B0BEC5\",\"#B0BEC5\",\"#B0BEC5\",\"#B0BEC5\",\"#B0BEC5\",\"#B0BEC5\",\"#B0BEC5\",\"#B0BEC5\",\"#B0BEC5\",\"#B0BEC5\",\"#B0BEC5\"]]}],\"label\":\"Topic 13\",\"method\":\"update\"},{\"args\":[{\"marker.color\":[[\"#B0BEC5\",\"#B0BEC5\",\"#B0BEC5\",\"#B0BEC5\",\"#B0BEC5\",\"#B0BEC5\",\"#B0BEC5\",\"#B0BEC5\",\"#B0BEC5\",\"#B0BEC5\",\"#B0BEC5\",\"#B0BEC5\",\"#B0BEC5\",\"#B0BEC5\",\"red\",\"#B0BEC5\",\"#B0BEC5\",\"#B0BEC5\",\"#B0BEC5\",\"#B0BEC5\",\"#B0BEC5\",\"#B0BEC5\",\"#B0BEC5\",\"#B0BEC5\",\"#B0BEC5\",\"#B0BEC5\",\"#B0BEC5\",\"#B0BEC5\",\"#B0BEC5\",\"#B0BEC5\",\"#B0BEC5\",\"#B0BEC5\",\"#B0BEC5\",\"#B0BEC5\",\"#B0BEC5\",\"#B0BEC5\",\"#B0BEC5\",\"#B0BEC5\",\"#B0BEC5\",\"#B0BEC5\"]]}],\"label\":\"Topic 14\",\"method\":\"update\"},{\"args\":[{\"marker.color\":[[\"#B0BEC5\",\"#B0BEC5\",\"#B0BEC5\",\"#B0BEC5\",\"#B0BEC5\",\"#B0BEC5\",\"#B0BEC5\",\"#B0BEC5\",\"#B0BEC5\",\"#B0BEC5\",\"#B0BEC5\",\"#B0BEC5\",\"#B0BEC5\",\"#B0BEC5\",\"#B0BEC5\",\"red\",\"#B0BEC5\",\"#B0BEC5\",\"#B0BEC5\",\"#B0BEC5\",\"#B0BEC5\",\"#B0BEC5\",\"#B0BEC5\",\"#B0BEC5\",\"#B0BEC5\",\"#B0BEC5\",\"#B0BEC5\",\"#B0BEC5\",\"#B0BEC5\",\"#B0BEC5\",\"#B0BEC5\",\"#B0BEC5\",\"#B0BEC5\",\"#B0BEC5\",\"#B0BEC5\",\"#B0BEC5\",\"#B0BEC5\",\"#B0BEC5\",\"#B0BEC5\",\"#B0BEC5\"]]}],\"label\":\"Topic 15\",\"method\":\"update\"},{\"args\":[{\"marker.color\":[[\"#B0BEC5\",\"#B0BEC5\",\"#B0BEC5\",\"#B0BEC5\",\"#B0BEC5\",\"#B0BEC5\",\"#B0BEC5\",\"#B0BEC5\",\"#B0BEC5\",\"#B0BEC5\",\"#B0BEC5\",\"#B0BEC5\",\"#B0BEC5\",\"#B0BEC5\",\"#B0BEC5\",\"#B0BEC5\",\"red\",\"#B0BEC5\",\"#B0BEC5\",\"#B0BEC5\",\"#B0BEC5\",\"#B0BEC5\",\"#B0BEC5\",\"#B0BEC5\",\"#B0BEC5\",\"#B0BEC5\",\"#B0BEC5\",\"#B0BEC5\",\"#B0BEC5\",\"#B0BEC5\",\"#B0BEC5\",\"#B0BEC5\",\"#B0BEC5\",\"#B0BEC5\",\"#B0BEC5\",\"#B0BEC5\",\"#B0BEC5\",\"#B0BEC5\",\"#B0BEC5\",\"#B0BEC5\"]]}],\"label\":\"Topic 16\",\"method\":\"update\"},{\"args\":[{\"marker.color\":[[\"#B0BEC5\",\"#B0BEC5\",\"#B0BEC5\",\"#B0BEC5\",\"#B0BEC5\",\"#B0BEC5\",\"#B0BEC5\",\"#B0BEC5\",\"#B0BEC5\",\"#B0BEC5\",\"#B0BEC5\",\"#B0BEC5\",\"#B0BEC5\",\"#B0BEC5\",\"#B0BEC5\",\"#B0BEC5\",\"#B0BEC5\",\"red\",\"#B0BEC5\",\"#B0BEC5\",\"#B0BEC5\",\"#B0BEC5\",\"#B0BEC5\",\"#B0BEC5\",\"#B0BEC5\",\"#B0BEC5\",\"#B0BEC5\",\"#B0BEC5\",\"#B0BEC5\",\"#B0BEC5\",\"#B0BEC5\",\"#B0BEC5\",\"#B0BEC5\",\"#B0BEC5\",\"#B0BEC5\",\"#B0BEC5\",\"#B0BEC5\",\"#B0BEC5\",\"#B0BEC5\",\"#B0BEC5\"]]}],\"label\":\"Topic 17\",\"method\":\"update\"},{\"args\":[{\"marker.color\":[[\"#B0BEC5\",\"#B0BEC5\",\"#B0BEC5\",\"#B0BEC5\",\"#B0BEC5\",\"#B0BEC5\",\"#B0BEC5\",\"#B0BEC5\",\"#B0BEC5\",\"#B0BEC5\",\"#B0BEC5\",\"#B0BEC5\",\"#B0BEC5\",\"#B0BEC5\",\"#B0BEC5\",\"#B0BEC5\",\"#B0BEC5\",\"#B0BEC5\",\"red\",\"#B0BEC5\",\"#B0BEC5\",\"#B0BEC5\",\"#B0BEC5\",\"#B0BEC5\",\"#B0BEC5\",\"#B0BEC5\",\"#B0BEC5\",\"#B0BEC5\",\"#B0BEC5\",\"#B0BEC5\",\"#B0BEC5\",\"#B0BEC5\",\"#B0BEC5\",\"#B0BEC5\",\"#B0BEC5\",\"#B0BEC5\",\"#B0BEC5\",\"#B0BEC5\",\"#B0BEC5\",\"#B0BEC5\"]]}],\"label\":\"Topic 18\",\"method\":\"update\"},{\"args\":[{\"marker.color\":[[\"#B0BEC5\",\"#B0BEC5\",\"#B0BEC5\",\"#B0BEC5\",\"#B0BEC5\",\"#B0BEC5\",\"#B0BEC5\",\"#B0BEC5\",\"#B0BEC5\",\"#B0BEC5\",\"#B0BEC5\",\"#B0BEC5\",\"#B0BEC5\",\"#B0BEC5\",\"#B0BEC5\",\"#B0BEC5\",\"#B0BEC5\",\"#B0BEC5\",\"#B0BEC5\",\"red\",\"#B0BEC5\",\"#B0BEC5\",\"#B0BEC5\",\"#B0BEC5\",\"#B0BEC5\",\"#B0BEC5\",\"#B0BEC5\",\"#B0BEC5\",\"#B0BEC5\",\"#B0BEC5\",\"#B0BEC5\",\"#B0BEC5\",\"#B0BEC5\",\"#B0BEC5\",\"#B0BEC5\",\"#B0BEC5\",\"#B0BEC5\",\"#B0BEC5\",\"#B0BEC5\",\"#B0BEC5\"]]}],\"label\":\"Topic 19\",\"method\":\"update\"},{\"args\":[{\"marker.color\":[[\"#B0BEC5\",\"#B0BEC5\",\"#B0BEC5\",\"#B0BEC5\",\"#B0BEC5\",\"#B0BEC5\",\"#B0BEC5\",\"#B0BEC5\",\"#B0BEC5\",\"#B0BEC5\",\"#B0BEC5\",\"#B0BEC5\",\"#B0BEC5\",\"#B0BEC5\",\"#B0BEC5\",\"#B0BEC5\",\"#B0BEC5\",\"#B0BEC5\",\"#B0BEC5\",\"#B0BEC5\",\"red\",\"#B0BEC5\",\"#B0BEC5\",\"#B0BEC5\",\"#B0BEC5\",\"#B0BEC5\",\"#B0BEC5\",\"#B0BEC5\",\"#B0BEC5\",\"#B0BEC5\",\"#B0BEC5\",\"#B0BEC5\",\"#B0BEC5\",\"#B0BEC5\",\"#B0BEC5\",\"#B0BEC5\",\"#B0BEC5\",\"#B0BEC5\",\"#B0BEC5\",\"#B0BEC5\"]]}],\"label\":\"Topic 20\",\"method\":\"update\"},{\"args\":[{\"marker.color\":[[\"#B0BEC5\",\"#B0BEC5\",\"#B0BEC5\",\"#B0BEC5\",\"#B0BEC5\",\"#B0BEC5\",\"#B0BEC5\",\"#B0BEC5\",\"#B0BEC5\",\"#B0BEC5\",\"#B0BEC5\",\"#B0BEC5\",\"#B0BEC5\",\"#B0BEC5\",\"#B0BEC5\",\"#B0BEC5\",\"#B0BEC5\",\"#B0BEC5\",\"#B0BEC5\",\"#B0BEC5\",\"#B0BEC5\",\"red\",\"#B0BEC5\",\"#B0BEC5\",\"#B0BEC5\",\"#B0BEC5\",\"#B0BEC5\",\"#B0BEC5\",\"#B0BEC5\",\"#B0BEC5\",\"#B0BEC5\",\"#B0BEC5\",\"#B0BEC5\",\"#B0BEC5\",\"#B0BEC5\",\"#B0BEC5\",\"#B0BEC5\",\"#B0BEC5\",\"#B0BEC5\",\"#B0BEC5\"]]}],\"label\":\"Topic 21\",\"method\":\"update\"},{\"args\":[{\"marker.color\":[[\"#B0BEC5\",\"#B0BEC5\",\"#B0BEC5\",\"#B0BEC5\",\"#B0BEC5\",\"#B0BEC5\",\"#B0BEC5\",\"#B0BEC5\",\"#B0BEC5\",\"#B0BEC5\",\"#B0BEC5\",\"#B0BEC5\",\"#B0BEC5\",\"#B0BEC5\",\"#B0BEC5\",\"#B0BEC5\",\"#B0BEC5\",\"#B0BEC5\",\"#B0BEC5\",\"#B0BEC5\",\"#B0BEC5\",\"#B0BEC5\",\"red\",\"#B0BEC5\",\"#B0BEC5\",\"#B0BEC5\",\"#B0BEC5\",\"#B0BEC5\",\"#B0BEC5\",\"#B0BEC5\",\"#B0BEC5\",\"#B0BEC5\",\"#B0BEC5\",\"#B0BEC5\",\"#B0BEC5\",\"#B0BEC5\",\"#B0BEC5\",\"#B0BEC5\",\"#B0BEC5\",\"#B0BEC5\"]]}],\"label\":\"Topic 22\",\"method\":\"update\"},{\"args\":[{\"marker.color\":[[\"#B0BEC5\",\"#B0BEC5\",\"#B0BEC5\",\"#B0BEC5\",\"#B0BEC5\",\"#B0BEC5\",\"#B0BEC5\",\"#B0BEC5\",\"#B0BEC5\",\"#B0BEC5\",\"#B0BEC5\",\"#B0BEC5\",\"#B0BEC5\",\"#B0BEC5\",\"#B0BEC5\",\"#B0BEC5\",\"#B0BEC5\",\"#B0BEC5\",\"#B0BEC5\",\"#B0BEC5\",\"#B0BEC5\",\"#B0BEC5\",\"#B0BEC5\",\"red\",\"#B0BEC5\",\"#B0BEC5\",\"#B0BEC5\",\"#B0BEC5\",\"#B0BEC5\",\"#B0BEC5\",\"#B0BEC5\",\"#B0BEC5\",\"#B0BEC5\",\"#B0BEC5\",\"#B0BEC5\",\"#B0BEC5\",\"#B0BEC5\",\"#B0BEC5\",\"#B0BEC5\",\"#B0BEC5\"]]}],\"label\":\"Topic 23\",\"method\":\"update\"},{\"args\":[{\"marker.color\":[[\"#B0BEC5\",\"#B0BEC5\",\"#B0BEC5\",\"#B0BEC5\",\"#B0BEC5\",\"#B0BEC5\",\"#B0BEC5\",\"#B0BEC5\",\"#B0BEC5\",\"#B0BEC5\",\"#B0BEC5\",\"#B0BEC5\",\"#B0BEC5\",\"#B0BEC5\",\"#B0BEC5\",\"#B0BEC5\",\"#B0BEC5\",\"#B0BEC5\",\"#B0BEC5\",\"#B0BEC5\",\"#B0BEC5\",\"#B0BEC5\",\"#B0BEC5\",\"#B0BEC5\",\"red\",\"#B0BEC5\",\"#B0BEC5\",\"#B0BEC5\",\"#B0BEC5\",\"#B0BEC5\",\"#B0BEC5\",\"#B0BEC5\",\"#B0BEC5\",\"#B0BEC5\",\"#B0BEC5\",\"#B0BEC5\",\"#B0BEC5\",\"#B0BEC5\",\"#B0BEC5\",\"#B0BEC5\"]]}],\"label\":\"Topic 24\",\"method\":\"update\"},{\"args\":[{\"marker.color\":[[\"#B0BEC5\",\"#B0BEC5\",\"#B0BEC5\",\"#B0BEC5\",\"#B0BEC5\",\"#B0BEC5\",\"#B0BEC5\",\"#B0BEC5\",\"#B0BEC5\",\"#B0BEC5\",\"#B0BEC5\",\"#B0BEC5\",\"#B0BEC5\",\"#B0BEC5\",\"#B0BEC5\",\"#B0BEC5\",\"#B0BEC5\",\"#B0BEC5\",\"#B0BEC5\",\"#B0BEC5\",\"#B0BEC5\",\"#B0BEC5\",\"#B0BEC5\",\"#B0BEC5\",\"#B0BEC5\",\"red\",\"#B0BEC5\",\"#B0BEC5\",\"#B0BEC5\",\"#B0BEC5\",\"#B0BEC5\",\"#B0BEC5\",\"#B0BEC5\",\"#B0BEC5\",\"#B0BEC5\",\"#B0BEC5\",\"#B0BEC5\",\"#B0BEC5\",\"#B0BEC5\",\"#B0BEC5\"]]}],\"label\":\"Topic 25\",\"method\":\"update\"},{\"args\":[{\"marker.color\":[[\"#B0BEC5\",\"#B0BEC5\",\"#B0BEC5\",\"#B0BEC5\",\"#B0BEC5\",\"#B0BEC5\",\"#B0BEC5\",\"#B0BEC5\",\"#B0BEC5\",\"#B0BEC5\",\"#B0BEC5\",\"#B0BEC5\",\"#B0BEC5\",\"#B0BEC5\",\"#B0BEC5\",\"#B0BEC5\",\"#B0BEC5\",\"#B0BEC5\",\"#B0BEC5\",\"#B0BEC5\",\"#B0BEC5\",\"#B0BEC5\",\"#B0BEC5\",\"#B0BEC5\",\"#B0BEC5\",\"#B0BEC5\",\"red\",\"#B0BEC5\",\"#B0BEC5\",\"#B0BEC5\",\"#B0BEC5\",\"#B0BEC5\",\"#B0BEC5\",\"#B0BEC5\",\"#B0BEC5\",\"#B0BEC5\",\"#B0BEC5\",\"#B0BEC5\",\"#B0BEC5\",\"#B0BEC5\"]]}],\"label\":\"Topic 26\",\"method\":\"update\"},{\"args\":[{\"marker.color\":[[\"#B0BEC5\",\"#B0BEC5\",\"#B0BEC5\",\"#B0BEC5\",\"#B0BEC5\",\"#B0BEC5\",\"#B0BEC5\",\"#B0BEC5\",\"#B0BEC5\",\"#B0BEC5\",\"#B0BEC5\",\"#B0BEC5\",\"#B0BEC5\",\"#B0BEC5\",\"#B0BEC5\",\"#B0BEC5\",\"#B0BEC5\",\"#B0BEC5\",\"#B0BEC5\",\"#B0BEC5\",\"#B0BEC5\",\"#B0BEC5\",\"#B0BEC5\",\"#B0BEC5\",\"#B0BEC5\",\"#B0BEC5\",\"#B0BEC5\",\"red\",\"#B0BEC5\",\"#B0BEC5\",\"#B0BEC5\",\"#B0BEC5\",\"#B0BEC5\",\"#B0BEC5\",\"#B0BEC5\",\"#B0BEC5\",\"#B0BEC5\",\"#B0BEC5\",\"#B0BEC5\",\"#B0BEC5\"]]}],\"label\":\"Topic 27\",\"method\":\"update\"},{\"args\":[{\"marker.color\":[[\"#B0BEC5\",\"#B0BEC5\",\"#B0BEC5\",\"#B0BEC5\",\"#B0BEC5\",\"#B0BEC5\",\"#B0BEC5\",\"#B0BEC5\",\"#B0BEC5\",\"#B0BEC5\",\"#B0BEC5\",\"#B0BEC5\",\"#B0BEC5\",\"#B0BEC5\",\"#B0BEC5\",\"#B0BEC5\",\"#B0BEC5\",\"#B0BEC5\",\"#B0BEC5\",\"#B0BEC5\",\"#B0BEC5\",\"#B0BEC5\",\"#B0BEC5\",\"#B0BEC5\",\"#B0BEC5\",\"#B0BEC5\",\"#B0BEC5\",\"#B0BEC5\",\"red\",\"#B0BEC5\",\"#B0BEC5\",\"#B0BEC5\",\"#B0BEC5\",\"#B0BEC5\",\"#B0BEC5\",\"#B0BEC5\",\"#B0BEC5\",\"#B0BEC5\",\"#B0BEC5\",\"#B0BEC5\"]]}],\"label\":\"Topic 28\",\"method\":\"update\"},{\"args\":[{\"marker.color\":[[\"#B0BEC5\",\"#B0BEC5\",\"#B0BEC5\",\"#B0BEC5\",\"#B0BEC5\",\"#B0BEC5\",\"#B0BEC5\",\"#B0BEC5\",\"#B0BEC5\",\"#B0BEC5\",\"#B0BEC5\",\"#B0BEC5\",\"#B0BEC5\",\"#B0BEC5\",\"#B0BEC5\",\"#B0BEC5\",\"#B0BEC5\",\"#B0BEC5\",\"#B0BEC5\",\"#B0BEC5\",\"#B0BEC5\",\"#B0BEC5\",\"#B0BEC5\",\"#B0BEC5\",\"#B0BEC5\",\"#B0BEC5\",\"#B0BEC5\",\"#B0BEC5\",\"#B0BEC5\",\"red\",\"#B0BEC5\",\"#B0BEC5\",\"#B0BEC5\",\"#B0BEC5\",\"#B0BEC5\",\"#B0BEC5\",\"#B0BEC5\",\"#B0BEC5\",\"#B0BEC5\",\"#B0BEC5\"]]}],\"label\":\"Topic 29\",\"method\":\"update\"},{\"args\":[{\"marker.color\":[[\"#B0BEC5\",\"#B0BEC5\",\"#B0BEC5\",\"#B0BEC5\",\"#B0BEC5\",\"#B0BEC5\",\"#B0BEC5\",\"#B0BEC5\",\"#B0BEC5\",\"#B0BEC5\",\"#B0BEC5\",\"#B0BEC5\",\"#B0BEC5\",\"#B0BEC5\",\"#B0BEC5\",\"#B0BEC5\",\"#B0BEC5\",\"#B0BEC5\",\"#B0BEC5\",\"#B0BEC5\",\"#B0BEC5\",\"#B0BEC5\",\"#B0BEC5\",\"#B0BEC5\",\"#B0BEC5\",\"#B0BEC5\",\"#B0BEC5\",\"#B0BEC5\",\"#B0BEC5\",\"#B0BEC5\",\"red\",\"#B0BEC5\",\"#B0BEC5\",\"#B0BEC5\",\"#B0BEC5\",\"#B0BEC5\",\"#B0BEC5\",\"#B0BEC5\",\"#B0BEC5\",\"#B0BEC5\"]]}],\"label\":\"Topic 30\",\"method\":\"update\"},{\"args\":[{\"marker.color\":[[\"#B0BEC5\",\"#B0BEC5\",\"#B0BEC5\",\"#B0BEC5\",\"#B0BEC5\",\"#B0BEC5\",\"#B0BEC5\",\"#B0BEC5\",\"#B0BEC5\",\"#B0BEC5\",\"#B0BEC5\",\"#B0BEC5\",\"#B0BEC5\",\"#B0BEC5\",\"#B0BEC5\",\"#B0BEC5\",\"#B0BEC5\",\"#B0BEC5\",\"#B0BEC5\",\"#B0BEC5\",\"#B0BEC5\",\"#B0BEC5\",\"#B0BEC5\",\"#B0BEC5\",\"#B0BEC5\",\"#B0BEC5\",\"#B0BEC5\",\"#B0BEC5\",\"#B0BEC5\",\"#B0BEC5\",\"#B0BEC5\",\"red\",\"#B0BEC5\",\"#B0BEC5\",\"#B0BEC5\",\"#B0BEC5\",\"#B0BEC5\",\"#B0BEC5\",\"#B0BEC5\",\"#B0BEC5\"]]}],\"label\":\"Topic 31\",\"method\":\"update\"},{\"args\":[{\"marker.color\":[[\"#B0BEC5\",\"#B0BEC5\",\"#B0BEC5\",\"#B0BEC5\",\"#B0BEC5\",\"#B0BEC5\",\"#B0BEC5\",\"#B0BEC5\",\"#B0BEC5\",\"#B0BEC5\",\"#B0BEC5\",\"#B0BEC5\",\"#B0BEC5\",\"#B0BEC5\",\"#B0BEC5\",\"#B0BEC5\",\"#B0BEC5\",\"#B0BEC5\",\"#B0BEC5\",\"#B0BEC5\",\"#B0BEC5\",\"#B0BEC5\",\"#B0BEC5\",\"#B0BEC5\",\"#B0BEC5\",\"#B0BEC5\",\"#B0BEC5\",\"#B0BEC5\",\"#B0BEC5\",\"#B0BEC5\",\"#B0BEC5\",\"#B0BEC5\",\"red\",\"#B0BEC5\",\"#B0BEC5\",\"#B0BEC5\",\"#B0BEC5\",\"#B0BEC5\",\"#B0BEC5\",\"#B0BEC5\"]]}],\"label\":\"Topic 32\",\"method\":\"update\"},{\"args\":[{\"marker.color\":[[\"#B0BEC5\",\"#B0BEC5\",\"#B0BEC5\",\"#B0BEC5\",\"#B0BEC5\",\"#B0BEC5\",\"#B0BEC5\",\"#B0BEC5\",\"#B0BEC5\",\"#B0BEC5\",\"#B0BEC5\",\"#B0BEC5\",\"#B0BEC5\",\"#B0BEC5\",\"#B0BEC5\",\"#B0BEC5\",\"#B0BEC5\",\"#B0BEC5\",\"#B0BEC5\",\"#B0BEC5\",\"#B0BEC5\",\"#B0BEC5\",\"#B0BEC5\",\"#B0BEC5\",\"#B0BEC5\",\"#B0BEC5\",\"#B0BEC5\",\"#B0BEC5\",\"#B0BEC5\",\"#B0BEC5\",\"#B0BEC5\",\"#B0BEC5\",\"#B0BEC5\",\"red\",\"#B0BEC5\",\"#B0BEC5\",\"#B0BEC5\",\"#B0BEC5\",\"#B0BEC5\",\"#B0BEC5\"]]}],\"label\":\"Topic 33\",\"method\":\"update\"},{\"args\":[{\"marker.color\":[[\"#B0BEC5\",\"#B0BEC5\",\"#B0BEC5\",\"#B0BEC5\",\"#B0BEC5\",\"#B0BEC5\",\"#B0BEC5\",\"#B0BEC5\",\"#B0BEC5\",\"#B0BEC5\",\"#B0BEC5\",\"#B0BEC5\",\"#B0BEC5\",\"#B0BEC5\",\"#B0BEC5\",\"#B0BEC5\",\"#B0BEC5\",\"#B0BEC5\",\"#B0BEC5\",\"#B0BEC5\",\"#B0BEC5\",\"#B0BEC5\",\"#B0BEC5\",\"#B0BEC5\",\"#B0BEC5\",\"#B0BEC5\",\"#B0BEC5\",\"#B0BEC5\",\"#B0BEC5\",\"#B0BEC5\",\"#B0BEC5\",\"#B0BEC5\",\"#B0BEC5\",\"#B0BEC5\",\"red\",\"#B0BEC5\",\"#B0BEC5\",\"#B0BEC5\",\"#B0BEC5\",\"#B0BEC5\"]]}],\"label\":\"Topic 34\",\"method\":\"update\"},{\"args\":[{\"marker.color\":[[\"#B0BEC5\",\"#B0BEC5\",\"#B0BEC5\",\"#B0BEC5\",\"#B0BEC5\",\"#B0BEC5\",\"#B0BEC5\",\"#B0BEC5\",\"#B0BEC5\",\"#B0BEC5\",\"#B0BEC5\",\"#B0BEC5\",\"#B0BEC5\",\"#B0BEC5\",\"#B0BEC5\",\"#B0BEC5\",\"#B0BEC5\",\"#B0BEC5\",\"#B0BEC5\",\"#B0BEC5\",\"#B0BEC5\",\"#B0BEC5\",\"#B0BEC5\",\"#B0BEC5\",\"#B0BEC5\",\"#B0BEC5\",\"#B0BEC5\",\"#B0BEC5\",\"#B0BEC5\",\"#B0BEC5\",\"#B0BEC5\",\"#B0BEC5\",\"#B0BEC5\",\"#B0BEC5\",\"#B0BEC5\",\"red\",\"#B0BEC5\",\"#B0BEC5\",\"#B0BEC5\",\"#B0BEC5\"]]}],\"label\":\"Topic 35\",\"method\":\"update\"},{\"args\":[{\"marker.color\":[[\"#B0BEC5\",\"#B0BEC5\",\"#B0BEC5\",\"#B0BEC5\",\"#B0BEC5\",\"#B0BEC5\",\"#B0BEC5\",\"#B0BEC5\",\"#B0BEC5\",\"#B0BEC5\",\"#B0BEC5\",\"#B0BEC5\",\"#B0BEC5\",\"#B0BEC5\",\"#B0BEC5\",\"#B0BEC5\",\"#B0BEC5\",\"#B0BEC5\",\"#B0BEC5\",\"#B0BEC5\",\"#B0BEC5\",\"#B0BEC5\",\"#B0BEC5\",\"#B0BEC5\",\"#B0BEC5\",\"#B0BEC5\",\"#B0BEC5\",\"#B0BEC5\",\"#B0BEC5\",\"#B0BEC5\",\"#B0BEC5\",\"#B0BEC5\",\"#B0BEC5\",\"#B0BEC5\",\"#B0BEC5\",\"#B0BEC5\",\"red\",\"#B0BEC5\",\"#B0BEC5\",\"#B0BEC5\"]]}],\"label\":\"Topic 36\",\"method\":\"update\"},{\"args\":[{\"marker.color\":[[\"#B0BEC5\",\"#B0BEC5\",\"#B0BEC5\",\"#B0BEC5\",\"#B0BEC5\",\"#B0BEC5\",\"#B0BEC5\",\"#B0BEC5\",\"#B0BEC5\",\"#B0BEC5\",\"#B0BEC5\",\"#B0BEC5\",\"#B0BEC5\",\"#B0BEC5\",\"#B0BEC5\",\"#B0BEC5\",\"#B0BEC5\",\"#B0BEC5\",\"#B0BEC5\",\"#B0BEC5\",\"#B0BEC5\",\"#B0BEC5\",\"#B0BEC5\",\"#B0BEC5\",\"#B0BEC5\",\"#B0BEC5\",\"#B0BEC5\",\"#B0BEC5\",\"#B0BEC5\",\"#B0BEC5\",\"#B0BEC5\",\"#B0BEC5\",\"#B0BEC5\",\"#B0BEC5\",\"#B0BEC5\",\"#B0BEC5\",\"#B0BEC5\",\"red\",\"#B0BEC5\",\"#B0BEC5\"]]}],\"label\":\"Topic 37\",\"method\":\"update\"},{\"args\":[{\"marker.color\":[[\"#B0BEC5\",\"#B0BEC5\",\"#B0BEC5\",\"#B0BEC5\",\"#B0BEC5\",\"#B0BEC5\",\"#B0BEC5\",\"#B0BEC5\",\"#B0BEC5\",\"#B0BEC5\",\"#B0BEC5\",\"#B0BEC5\",\"#B0BEC5\",\"#B0BEC5\",\"#B0BEC5\",\"#B0BEC5\",\"#B0BEC5\",\"#B0BEC5\",\"#B0BEC5\",\"#B0BEC5\",\"#B0BEC5\",\"#B0BEC5\",\"#B0BEC5\",\"#B0BEC5\",\"#B0BEC5\",\"#B0BEC5\",\"#B0BEC5\",\"#B0BEC5\",\"#B0BEC5\",\"#B0BEC5\",\"#B0BEC5\",\"#B0BEC5\",\"#B0BEC5\",\"#B0BEC5\",\"#B0BEC5\",\"#B0BEC5\",\"#B0BEC5\",\"#B0BEC5\",\"red\",\"#B0BEC5\"]]}],\"label\":\"Topic 38\",\"method\":\"update\"},{\"args\":[{\"marker.color\":[[\"#B0BEC5\",\"#B0BEC5\",\"#B0BEC5\",\"#B0BEC5\",\"#B0BEC5\",\"#B0BEC5\",\"#B0BEC5\",\"#B0BEC5\",\"#B0BEC5\",\"#B0BEC5\",\"#B0BEC5\",\"#B0BEC5\",\"#B0BEC5\",\"#B0BEC5\",\"#B0BEC5\",\"#B0BEC5\",\"#B0BEC5\",\"#B0BEC5\",\"#B0BEC5\",\"#B0BEC5\",\"#B0BEC5\",\"#B0BEC5\",\"#B0BEC5\",\"#B0BEC5\",\"#B0BEC5\",\"#B0BEC5\",\"#B0BEC5\",\"#B0BEC5\",\"#B0BEC5\",\"#B0BEC5\",\"#B0BEC5\",\"#B0BEC5\",\"#B0BEC5\",\"#B0BEC5\",\"#B0BEC5\",\"#B0BEC5\",\"#B0BEC5\",\"#B0BEC5\",\"#B0BEC5\",\"red\"]]}],\"label\":\"Topic 39\",\"method\":\"update\"}]}],\"shapes\":[{\"line\":{\"color\":\"#CFD8DC\",\"width\":2},\"type\":\"line\",\"x0\":8.746845924854277,\"x1\":8.746845924854277,\"y0\":-14.262520933151245,\"y1\":13.619196033477783},{\"line\":{\"color\":\"#9E9E9E\",\"width\":2},\"type\":\"line\",\"x0\":-6.784581160545349,\"x1\":24.278273010253905,\"y0\":-0.3216624498367313,\"y1\":-0.3216624498367313}],\"annotations\":[{\"showarrow\":false,\"text\":\"D1\",\"x\":-6.784581160545349,\"y\":-0.3216624498367313,\"yshift\":10},{\"showarrow\":false,\"text\":\"D2\",\"x\":8.746845924854277,\"xshift\":10,\"y\":13.619196033477783}]},                        {\"responsive\": true}                    ).then(function(){\n",
              "                            \n",
              "var gd = document.getElementById('7414992f-6180-4fb1-9d56-dc758c8d8ec9');\n",
              "var x = new MutationObserver(function (mutations, observer) {{\n",
              "        var display = window.getComputedStyle(gd).display;\n",
              "        if (!display || display === 'none') {{\n",
              "            console.log([gd, 'removed!']);\n",
              "            Plotly.purge(gd);\n",
              "            observer.disconnect();\n",
              "        }}\n",
              "}});\n",
              "\n",
              "// Listen for the removal of the full notebook cells\n",
              "var notebookContainer = gd.closest('#notebook-container');\n",
              "if (notebookContainer) {{\n",
              "    x.observe(notebookContainer, {childList: true});\n",
              "}}\n",
              "\n",
              "// Listen for the clearing of the current output cell\n",
              "var outputEl = gd.closest('.output');\n",
              "if (outputEl) {{\n",
              "    x.observe(outputEl, {childList: true});\n",
              "}}\n",
              "\n",
              "                        })                };                            </script>        </div>\n",
              "</body>\n",
              "</html>"
            ]
          },
          "metadata": {},
          "output_type": "display_data"
        }
      ],
      "source": [
        "model.visualize_topics()"
      ]
    },
    {
      "cell_type": "code",
      "execution_count": 36,
      "metadata": {
        "colab": {
          "base_uri": "https://localhost:8080/",
          "height": 1000
        },
        "id": "lrmlCERAbL-S",
        "outputId": "e769585f-eb8b-4199-fc51-b42e27dc81c3"
      },
      "outputs": [
        {
          "data": {
            "text/html": [
              "<html>\n",
              "<head><meta charset=\"utf-8\" /></head>\n",
              "<body>\n",
              "    <div>            <script src=\"https://cdnjs.cloudflare.com/ajax/libs/mathjax/2.7.5/MathJax.js?config=TeX-AMS-MML_SVG\"></script><script type=\"text/javascript\">if (window.MathJax && window.MathJax.Hub && window.MathJax.Hub.Config) {window.MathJax.Hub.Config({SVG: {font: \"STIX-Web\"}});}</script>                <script type=\"text/javascript\">window.PlotlyConfig = {MathJaxConfig: 'local'};</script>\n",
              "        <script charset=\"utf-8\" src=\"https://cdn.plot.ly/plotly-2.24.1.min.js\"></script>                <div id=\"cce8539d-a3a1-44ba-8bd7-7ce2d2f8f6d4\" class=\"plotly-graph-div\" style=\"height:1000px; width:1000px;\"></div>            <script type=\"text/javascript\">                                    window.PLOTLYENV=window.PLOTLYENV || {};                                    if (document.getElementById(\"cce8539d-a3a1-44ba-8bd7-7ce2d2f8f6d4\")) {                    Plotly.newPlot(                        \"cce8539d-a3a1-44ba-8bd7-7ce2d2f8f6d4\",                        [{\"marker\":{\"color\":\"#D55E00\"},\"orientation\":\"h\",\"x\":[0.02352799662697002,0.032637674279292386,0.032637674279292386,0.032637674279292386],\"y\":[\"\\ud48d\\ub825 \\ubc1c\\uc804  \",\"\\ubc8c\\ubaa9  \",\"\\ub09c\\uac1c\\ubc1c  \",\"\\ud0dc\\uc591\\uad11 \\ubc1c\\uc804  \"],\"type\":\"bar\",\"xaxis\":\"x\",\"yaxis\":\"y\"},{\"marker\":{\"color\":\"#0072B2\"},\"orientation\":\"h\",\"x\":[0.01848758548567524,0.02018117630006444,0.0763721386780237,0.2493207481722561],\"y\":[\"\\uc9c4\\uc0c1  \",\"\\uac10\\uc0ac\\uc6d0  \",\"\\uc218\\uc0ac  \",\"\\uc6d4\\uc131  \"],\"type\":\"bar\",\"xaxis\":\"x2\",\"yaxis\":\"y2\"},{\"marker\":{\"color\":\"#CC79A7\"},\"orientation\":\"h\",\"x\":[0.020025412089647414,0.020362850144240878,0.025196201463748468,0.1118436412692848],\"y\":[\"\\uae30\\ud6c4  \",\"\\ud0c8\\uc6d0\\uc804  \",\"\\ud504\\ub791\\uc2a4  \",\"\\uac10\\ucd95  \"],\"type\":\"bar\",\"xaxis\":\"x3\",\"yaxis\":\"y3\"},{\"marker\":{\"color\":\"#E69F00\"},\"orientation\":\"h\",\"x\":[0.021194133992702494,0.03617159982901774,0.11331930601030012,0.28940775228499305],\"y\":[\"\\uc804\\uae30\\ub8cc  \",\"\\uc6d0\\uac00  \",\"\\uc801\\uc790  \",\"\\ud55c\\uc804  \"],\"type\":\"bar\",\"xaxis\":\"x4\",\"yaxis\":\"y4\"},{\"marker\":{\"color\":\"#56B4E9\"},\"orientation\":\"h\",\"x\":[0.03899475199775752,0.043676981741057525,0.056890197114218284,0.11994947895527848],\"y\":[\"\\ubd80\\uc2e4  \",\"\\uacf5\\uacf5\\uae30\\uad00 \\ubd80\\ucc44  \",\"\\uac1c\\ud601  \",\"\\uacf5\\uae30\\uc5c5  \"],\"type\":\"bar\",\"xaxis\":\"x5\",\"yaxis\":\"y5\"},{\"marker\":{\"color\":\"#009E73\"},\"orientation\":\"h\",\"x\":[0.023091972796800402,0.023422513553161658,0.029407040457955183,0.03655127909489093],\"y\":[\"\\uc704\\uc6d0\\ud68c  \",\"\\ubc30  \",\"\\uacf5\\uc0ac  \",\"\\uac08\\ub4f1  \"],\"type\":\"bar\",\"xaxis\":\"x6\",\"yaxis\":\"y6\"},{\"marker\":{\"color\":\"#F0E442\"},\"orientation\":\"h\",\"x\":[0.029114665335216113,0.04182156347507242,0.04499072356121037,0.14355907447075913],\"y\":[\"\\uad8c\\ub825  \",\"\\ubbfc\\uc8fc\\ub2f9  \",\"\\ucd5c\\uc7ac\\ud615  \",\"\\uac10\\uc0ac\\uc6d0  \"],\"type\":\"bar\",\"xaxis\":\"x7\",\"yaxis\":\"y7\"},{\"marker\":{\"color\":\"#D55E00\"},\"orientation\":\"h\",\"x\":[0.01739161371270453,0.02143049265763265,0.03780400074971397,0.08992017903293897],\"y\":[\"\\uc2a4\\ud0dc\\uadf8\\ud50c\\ub808\\uc774\\uc158  \",\"\\uc1fc\\ud06c  \",\"\\uc704\\uae30  \",\"\\uacbd\\uc81c  \"],\"type\":\"bar\",\"xaxis\":\"x8\",\"yaxis\":\"y8\"},{\"marker\":{\"color\":\"#0072B2\"},\"orientation\":\"h\",\"x\":[0.0297902375418163,0.04175023244787375,0.04597191889376228,0.07461303930042396],\"y\":[\"\\ud3d0\\uc9c0  \",\"\\uc1a1\\uc601\\uae38  \",\"\\ucc3d\\uc6d0\\uc2dc  \",\"\\ud0c8\\uc6d0\\uc804  \"],\"type\":\"bar\",\"xaxis\":\"x9\",\"yaxis\":\"y9\"},{\"marker\":{\"color\":\"#CC79A7\"},\"orientation\":\"h\",\"x\":[0.02358680053583362,0.02913570856693593,0.05094645419188686,0.08701092818853265],\"y\":[\"\\ub2e4\\uc2dc \\uc2dc\\uc791\\ud574  \",\"\\uac00\\ub3d9  \",\"\\uac74\\uc124  \",\"\\ud5c8\\uac00  \"],\"type\":\"bar\",\"xaxis\":\"x10\",\"yaxis\":\"y10\"},{\"marker\":{\"color\":\"#E69F00\"},\"orientation\":\"h\",\"x\":[0.03673747610399925,0.042104490645383574,0.06242635313029403,0.0845278738936752],\"y\":[\"\\ubc14\\ub77c\\uce74  \",\"\\uc774\\uc9d1\\ud2b8  \",\"\\uc6d0\\uc804  \",\"\\uc218\\ucd9c  \"],\"type\":\"bar\",\"xaxis\":\"x11\",\"yaxis\":\"y11\"},{\"marker\":{\"color\":\"#56B4E9\"},\"orientation\":\"h\",\"x\":[0.030248298059329853,0.031163978301188777,0.041054611530274086,0.07313948798647757],\"y\":[\"\\ud0c8\\uc6d0\\uc804  \",\"\\uc758\\uacb0  \",\"\\uc815\\uc7ac\\ud6c8  \",\"\\uc0ac\\uc7a5  \"],\"type\":\"bar\",\"xaxis\":\"x12\",\"yaxis\":\"y12\"},{\"marker\":{\"color\":\"#009E73\"},\"orientation\":\"h\",\"x\":[0.03301405409234644,0.04555655693837195,0.048123737205405914,0.1448297321639164],\"y\":[\"\\uc608\\ubc29  \",\"\\ubc1c\\uc804\\uc18c  \",\"\\uac00\\ub3d9  \",\"\\uc804\\ub825  \"],\"type\":\"bar\",\"xaxis\":\"x13\",\"yaxis\":\"y13\"},{\"marker\":{\"color\":\"#F0E442\"},\"orientation\":\"h\",\"x\":[0.034777691867450486,0.034777691867450486,0.047588665340623275,0.048060551505979335],\"y\":[\"\\uc5d0\\ub108\\uc9c0 \\ud6a8\\uc728  \",\"\\ub9ac\\uc14b  \",\"\\uc0b0\\uc5c5  \",\"\\uc5d0\\ub108\\uc9c0 \\uc815\\ucc45  \"],\"type\":\"bar\",\"xaxis\":\"x14\",\"yaxis\":\"y14\"},{\"marker\":{\"color\":\"#D55E00\"},\"orientation\":\"h\",\"x\":[0.03160952237858615,0.03160952237858615,0.037126305324533766,0.07341988036757145],\"y\":[\"\\ubc29\\uc0ac\\uc131 \\ud3d0\\uae30\\ubb3c  \",\"\\uc0ac\\uc6a9\\ud6c4\\ud575\\uc5f0\\ub8cc  \",\"\\ub300\\ucc45  \",\"\\ud575\\ud3d0\\uae30\\ubb3c  \"],\"type\":\"bar\",\"xaxis\":\"x15\",\"yaxis\":\"y15\"}],                        {\"template\":{\"data\":{\"barpolar\":[{\"marker\":{\"line\":{\"color\":\"white\",\"width\":0.5},\"pattern\":{\"fillmode\":\"overlay\",\"size\":10,\"solidity\":0.2}},\"type\":\"barpolar\"}],\"bar\":[{\"error_x\":{\"color\":\"#2a3f5f\"},\"error_y\":{\"color\":\"#2a3f5f\"},\"marker\":{\"line\":{\"color\":\"white\",\"width\":0.5},\"pattern\":{\"fillmode\":\"overlay\",\"size\":10,\"solidity\":0.2}},\"type\":\"bar\"}],\"carpet\":[{\"aaxis\":{\"endlinecolor\":\"#2a3f5f\",\"gridcolor\":\"#C8D4E3\",\"linecolor\":\"#C8D4E3\",\"minorgridcolor\":\"#C8D4E3\",\"startlinecolor\":\"#2a3f5f\"},\"baxis\":{\"endlinecolor\":\"#2a3f5f\",\"gridcolor\":\"#C8D4E3\",\"linecolor\":\"#C8D4E3\",\"minorgridcolor\":\"#C8D4E3\",\"startlinecolor\":\"#2a3f5f\"},\"type\":\"carpet\"}],\"choropleth\":[{\"colorbar\":{\"outlinewidth\":0,\"ticks\":\"\"},\"type\":\"choropleth\"}],\"contourcarpet\":[{\"colorbar\":{\"outlinewidth\":0,\"ticks\":\"\"},\"type\":\"contourcarpet\"}],\"contour\":[{\"colorbar\":{\"outlinewidth\":0,\"ticks\":\"\"},\"colorscale\":[[0.0,\"#0d0887\"],[0.1111111111111111,\"#46039f\"],[0.2222222222222222,\"#7201a8\"],[0.3333333333333333,\"#9c179e\"],[0.4444444444444444,\"#bd3786\"],[0.5555555555555556,\"#d8576b\"],[0.6666666666666666,\"#ed7953\"],[0.7777777777777778,\"#fb9f3a\"],[0.8888888888888888,\"#fdca26\"],[1.0,\"#f0f921\"]],\"type\":\"contour\"}],\"heatmapgl\":[{\"colorbar\":{\"outlinewidth\":0,\"ticks\":\"\"},\"colorscale\":[[0.0,\"#0d0887\"],[0.1111111111111111,\"#46039f\"],[0.2222222222222222,\"#7201a8\"],[0.3333333333333333,\"#9c179e\"],[0.4444444444444444,\"#bd3786\"],[0.5555555555555556,\"#d8576b\"],[0.6666666666666666,\"#ed7953\"],[0.7777777777777778,\"#fb9f3a\"],[0.8888888888888888,\"#fdca26\"],[1.0,\"#f0f921\"]],\"type\":\"heatmapgl\"}],\"heatmap\":[{\"colorbar\":{\"outlinewidth\":0,\"ticks\":\"\"},\"colorscale\":[[0.0,\"#0d0887\"],[0.1111111111111111,\"#46039f\"],[0.2222222222222222,\"#7201a8\"],[0.3333333333333333,\"#9c179e\"],[0.4444444444444444,\"#bd3786\"],[0.5555555555555556,\"#d8576b\"],[0.6666666666666666,\"#ed7953\"],[0.7777777777777778,\"#fb9f3a\"],[0.8888888888888888,\"#fdca26\"],[1.0,\"#f0f921\"]],\"type\":\"heatmap\"}],\"histogram2dcontour\":[{\"colorbar\":{\"outlinewidth\":0,\"ticks\":\"\"},\"colorscale\":[[0.0,\"#0d0887\"],[0.1111111111111111,\"#46039f\"],[0.2222222222222222,\"#7201a8\"],[0.3333333333333333,\"#9c179e\"],[0.4444444444444444,\"#bd3786\"],[0.5555555555555556,\"#d8576b\"],[0.6666666666666666,\"#ed7953\"],[0.7777777777777778,\"#fb9f3a\"],[0.8888888888888888,\"#fdca26\"],[1.0,\"#f0f921\"]],\"type\":\"histogram2dcontour\"}],\"histogram2d\":[{\"colorbar\":{\"outlinewidth\":0,\"ticks\":\"\"},\"colorscale\":[[0.0,\"#0d0887\"],[0.1111111111111111,\"#46039f\"],[0.2222222222222222,\"#7201a8\"],[0.3333333333333333,\"#9c179e\"],[0.4444444444444444,\"#bd3786\"],[0.5555555555555556,\"#d8576b\"],[0.6666666666666666,\"#ed7953\"],[0.7777777777777778,\"#fb9f3a\"],[0.8888888888888888,\"#fdca26\"],[1.0,\"#f0f921\"]],\"type\":\"histogram2d\"}],\"histogram\":[{\"marker\":{\"pattern\":{\"fillmode\":\"overlay\",\"size\":10,\"solidity\":0.2}},\"type\":\"histogram\"}],\"mesh3d\":[{\"colorbar\":{\"outlinewidth\":0,\"ticks\":\"\"},\"type\":\"mesh3d\"}],\"parcoords\":[{\"line\":{\"colorbar\":{\"outlinewidth\":0,\"ticks\":\"\"}},\"type\":\"parcoords\"}],\"pie\":[{\"automargin\":true,\"type\":\"pie\"}],\"scatter3d\":[{\"line\":{\"colorbar\":{\"outlinewidth\":0,\"ticks\":\"\"}},\"marker\":{\"colorbar\":{\"outlinewidth\":0,\"ticks\":\"\"}},\"type\":\"scatter3d\"}],\"scattercarpet\":[{\"marker\":{\"colorbar\":{\"outlinewidth\":0,\"ticks\":\"\"}},\"type\":\"scattercarpet\"}],\"scattergeo\":[{\"marker\":{\"colorbar\":{\"outlinewidth\":0,\"ticks\":\"\"}},\"type\":\"scattergeo\"}],\"scattergl\":[{\"marker\":{\"colorbar\":{\"outlinewidth\":0,\"ticks\":\"\"}},\"type\":\"scattergl\"}],\"scattermapbox\":[{\"marker\":{\"colorbar\":{\"outlinewidth\":0,\"ticks\":\"\"}},\"type\":\"scattermapbox\"}],\"scatterpolargl\":[{\"marker\":{\"colorbar\":{\"outlinewidth\":0,\"ticks\":\"\"}},\"type\":\"scatterpolargl\"}],\"scatterpolar\":[{\"marker\":{\"colorbar\":{\"outlinewidth\":0,\"ticks\":\"\"}},\"type\":\"scatterpolar\"}],\"scatter\":[{\"fillpattern\":{\"fillmode\":\"overlay\",\"size\":10,\"solidity\":0.2},\"type\":\"scatter\"}],\"scatterternary\":[{\"marker\":{\"colorbar\":{\"outlinewidth\":0,\"ticks\":\"\"}},\"type\":\"scatterternary\"}],\"surface\":[{\"colorbar\":{\"outlinewidth\":0,\"ticks\":\"\"},\"colorscale\":[[0.0,\"#0d0887\"],[0.1111111111111111,\"#46039f\"],[0.2222222222222222,\"#7201a8\"],[0.3333333333333333,\"#9c179e\"],[0.4444444444444444,\"#bd3786\"],[0.5555555555555556,\"#d8576b\"],[0.6666666666666666,\"#ed7953\"],[0.7777777777777778,\"#fb9f3a\"],[0.8888888888888888,\"#fdca26\"],[1.0,\"#f0f921\"]],\"type\":\"surface\"}],\"table\":[{\"cells\":{\"fill\":{\"color\":\"#EBF0F8\"},\"line\":{\"color\":\"white\"}},\"header\":{\"fill\":{\"color\":\"#C8D4E3\"},\"line\":{\"color\":\"white\"}},\"type\":\"table\"}]},\"layout\":{\"annotationdefaults\":{\"arrowcolor\":\"#2a3f5f\",\"arrowhead\":0,\"arrowwidth\":1},\"autotypenumbers\":\"strict\",\"coloraxis\":{\"colorbar\":{\"outlinewidth\":0,\"ticks\":\"\"}},\"colorscale\":{\"diverging\":[[0,\"#8e0152\"],[0.1,\"#c51b7d\"],[0.2,\"#de77ae\"],[0.3,\"#f1b6da\"],[0.4,\"#fde0ef\"],[0.5,\"#f7f7f7\"],[0.6,\"#e6f5d0\"],[0.7,\"#b8e186\"],[0.8,\"#7fbc41\"],[0.9,\"#4d9221\"],[1,\"#276419\"]],\"sequential\":[[0.0,\"#0d0887\"],[0.1111111111111111,\"#46039f\"],[0.2222222222222222,\"#7201a8\"],[0.3333333333333333,\"#9c179e\"],[0.4444444444444444,\"#bd3786\"],[0.5555555555555556,\"#d8576b\"],[0.6666666666666666,\"#ed7953\"],[0.7777777777777778,\"#fb9f3a\"],[0.8888888888888888,\"#fdca26\"],[1.0,\"#f0f921\"]],\"sequentialminus\":[[0.0,\"#0d0887\"],[0.1111111111111111,\"#46039f\"],[0.2222222222222222,\"#7201a8\"],[0.3333333333333333,\"#9c179e\"],[0.4444444444444444,\"#bd3786\"],[0.5555555555555556,\"#d8576b\"],[0.6666666666666666,\"#ed7953\"],[0.7777777777777778,\"#fb9f3a\"],[0.8888888888888888,\"#fdca26\"],[1.0,\"#f0f921\"]]},\"colorway\":[\"#636efa\",\"#EF553B\",\"#00cc96\",\"#ab63fa\",\"#FFA15A\",\"#19d3f3\",\"#FF6692\",\"#B6E880\",\"#FF97FF\",\"#FECB52\"],\"font\":{\"color\":\"#2a3f5f\"},\"geo\":{\"bgcolor\":\"white\",\"lakecolor\":\"white\",\"landcolor\":\"white\",\"showlakes\":true,\"showland\":true,\"subunitcolor\":\"#C8D4E3\"},\"hoverlabel\":{\"align\":\"left\"},\"hovermode\":\"closest\",\"mapbox\":{\"style\":\"light\"},\"paper_bgcolor\":\"white\",\"plot_bgcolor\":\"white\",\"polar\":{\"angularaxis\":{\"gridcolor\":\"#EBF0F8\",\"linecolor\":\"#EBF0F8\",\"ticks\":\"\"},\"bgcolor\":\"white\",\"radialaxis\":{\"gridcolor\":\"#EBF0F8\",\"linecolor\":\"#EBF0F8\",\"ticks\":\"\"}},\"scene\":{\"xaxis\":{\"backgroundcolor\":\"white\",\"gridcolor\":\"#DFE8F3\",\"gridwidth\":2,\"linecolor\":\"#EBF0F8\",\"showbackground\":true,\"ticks\":\"\",\"zerolinecolor\":\"#EBF0F8\"},\"yaxis\":{\"backgroundcolor\":\"white\",\"gridcolor\":\"#DFE8F3\",\"gridwidth\":2,\"linecolor\":\"#EBF0F8\",\"showbackground\":true,\"ticks\":\"\",\"zerolinecolor\":\"#EBF0F8\"},\"zaxis\":{\"backgroundcolor\":\"white\",\"gridcolor\":\"#DFE8F3\",\"gridwidth\":2,\"linecolor\":\"#EBF0F8\",\"showbackground\":true,\"ticks\":\"\",\"zerolinecolor\":\"#EBF0F8\"}},\"shapedefaults\":{\"line\":{\"color\":\"#2a3f5f\"}},\"ternary\":{\"aaxis\":{\"gridcolor\":\"#DFE8F3\",\"linecolor\":\"#A2B1C6\",\"ticks\":\"\"},\"baxis\":{\"gridcolor\":\"#DFE8F3\",\"linecolor\":\"#A2B1C6\",\"ticks\":\"\"},\"bgcolor\":\"white\",\"caxis\":{\"gridcolor\":\"#DFE8F3\",\"linecolor\":\"#A2B1C6\",\"ticks\":\"\"}},\"title\":{\"x\":0.05},\"xaxis\":{\"automargin\":true,\"gridcolor\":\"#EBF0F8\",\"linecolor\":\"#EBF0F8\",\"ticks\":\"\",\"title\":{\"standoff\":15},\"zerolinecolor\":\"#EBF0F8\",\"zerolinewidth\":2},\"yaxis\":{\"automargin\":true,\"gridcolor\":\"#EBF0F8\",\"linecolor\":\"#EBF0F8\",\"ticks\":\"\",\"title\":{\"standoff\":15},\"zerolinecolor\":\"#EBF0F8\",\"zerolinewidth\":2}}},\"xaxis\":{\"anchor\":\"y\",\"domain\":[0.0,0.175],\"showgrid\":true},\"yaxis\":{\"anchor\":\"x\",\"domain\":[0.825,1.0],\"showgrid\":true},\"xaxis2\":{\"anchor\":\"y2\",\"domain\":[0.275,0.45],\"showgrid\":true},\"yaxis2\":{\"anchor\":\"x2\",\"domain\":[0.825,1.0],\"showgrid\":true},\"xaxis3\":{\"anchor\":\"y3\",\"domain\":[0.55,0.7250000000000001],\"showgrid\":true},\"yaxis3\":{\"anchor\":\"x3\",\"domain\":[0.825,1.0],\"showgrid\":true},\"xaxis4\":{\"anchor\":\"y4\",\"domain\":[0.825,1.0],\"showgrid\":true},\"yaxis4\":{\"anchor\":\"x4\",\"domain\":[0.825,1.0],\"showgrid\":true},\"xaxis5\":{\"anchor\":\"y5\",\"domain\":[0.0,0.175],\"showgrid\":true},\"yaxis5\":{\"anchor\":\"x5\",\"domain\":[0.55,0.7250000000000001],\"showgrid\":true},\"xaxis6\":{\"anchor\":\"y6\",\"domain\":[0.275,0.45],\"showgrid\":true},\"yaxis6\":{\"anchor\":\"x6\",\"domain\":[0.55,0.7250000000000001],\"showgrid\":true},\"xaxis7\":{\"anchor\":\"y7\",\"domain\":[0.55,0.7250000000000001],\"showgrid\":true},\"yaxis7\":{\"anchor\":\"x7\",\"domain\":[0.55,0.7250000000000001],\"showgrid\":true},\"xaxis8\":{\"anchor\":\"y8\",\"domain\":[0.825,1.0],\"showgrid\":true},\"yaxis8\":{\"anchor\":\"x8\",\"domain\":[0.55,0.7250000000000001],\"showgrid\":true},\"xaxis9\":{\"anchor\":\"y9\",\"domain\":[0.0,0.175],\"showgrid\":true},\"yaxis9\":{\"anchor\":\"x9\",\"domain\":[0.275,0.45],\"showgrid\":true},\"xaxis10\":{\"anchor\":\"y10\",\"domain\":[0.275,0.45],\"showgrid\":true},\"yaxis10\":{\"anchor\":\"x10\",\"domain\":[0.275,0.45],\"showgrid\":true},\"xaxis11\":{\"anchor\":\"y11\",\"domain\":[0.55,0.7250000000000001],\"showgrid\":true},\"yaxis11\":{\"anchor\":\"x11\",\"domain\":[0.275,0.45],\"showgrid\":true},\"xaxis12\":{\"anchor\":\"y12\",\"domain\":[0.825,1.0],\"showgrid\":true},\"yaxis12\":{\"anchor\":\"x12\",\"domain\":[0.275,0.45],\"showgrid\":true},\"xaxis13\":{\"anchor\":\"y13\",\"domain\":[0.0,0.175],\"showgrid\":true},\"yaxis13\":{\"anchor\":\"x13\",\"domain\":[0.0,0.175],\"showgrid\":true},\"xaxis14\":{\"anchor\":\"y14\",\"domain\":[0.275,0.45],\"showgrid\":true},\"yaxis14\":{\"anchor\":\"x14\",\"domain\":[0.0,0.175],\"showgrid\":true},\"xaxis15\":{\"anchor\":\"y15\",\"domain\":[0.55,0.7250000000000001],\"showgrid\":true},\"yaxis15\":{\"anchor\":\"x15\",\"domain\":[0.0,0.175],\"showgrid\":true},\"xaxis16\":{\"anchor\":\"y16\",\"domain\":[0.825,1.0],\"showgrid\":true},\"yaxis16\":{\"anchor\":\"x16\",\"domain\":[0.0,0.175],\"showgrid\":true},\"annotations\":[{\"font\":{\"size\":16},\"showarrow\":false,\"text\":\"Topic 0\",\"x\":0.0875,\"xanchor\":\"center\",\"xref\":\"paper\",\"y\":1.0,\"yanchor\":\"bottom\",\"yref\":\"paper\"},{\"font\":{\"size\":16},\"showarrow\":false,\"text\":\"Topic 1\",\"x\":0.36250000000000004,\"xanchor\":\"center\",\"xref\":\"paper\",\"y\":1.0,\"yanchor\":\"bottom\",\"yref\":\"paper\"},{\"font\":{\"size\":16},\"showarrow\":false,\"text\":\"Topic 2\",\"x\":0.6375000000000001,\"xanchor\":\"center\",\"xref\":\"paper\",\"y\":1.0,\"yanchor\":\"bottom\",\"yref\":\"paper\"},{\"font\":{\"size\":16},\"showarrow\":false,\"text\":\"Topic 3\",\"x\":0.9125,\"xanchor\":\"center\",\"xref\":\"paper\",\"y\":1.0,\"yanchor\":\"bottom\",\"yref\":\"paper\"},{\"font\":{\"size\":16},\"showarrow\":false,\"text\":\"Topic 4\",\"x\":0.0875,\"xanchor\":\"center\",\"xref\":\"paper\",\"y\":0.7250000000000001,\"yanchor\":\"bottom\",\"yref\":\"paper\"},{\"font\":{\"size\":16},\"showarrow\":false,\"text\":\"Topic 5\",\"x\":0.36250000000000004,\"xanchor\":\"center\",\"xref\":\"paper\",\"y\":0.7250000000000001,\"yanchor\":\"bottom\",\"yref\":\"paper\"},{\"font\":{\"size\":16},\"showarrow\":false,\"text\":\"Topic 6\",\"x\":0.6375000000000001,\"xanchor\":\"center\",\"xref\":\"paper\",\"y\":0.7250000000000001,\"yanchor\":\"bottom\",\"yref\":\"paper\"},{\"font\":{\"size\":16},\"showarrow\":false,\"text\":\"Topic 7\",\"x\":0.9125,\"xanchor\":\"center\",\"xref\":\"paper\",\"y\":0.7250000000000001,\"yanchor\":\"bottom\",\"yref\":\"paper\"},{\"font\":{\"size\":16},\"showarrow\":false,\"text\":\"Topic 8\",\"x\":0.0875,\"xanchor\":\"center\",\"xref\":\"paper\",\"y\":0.45,\"yanchor\":\"bottom\",\"yref\":\"paper\"},{\"font\":{\"size\":16},\"showarrow\":false,\"text\":\"Topic 9\",\"x\":0.36250000000000004,\"xanchor\":\"center\",\"xref\":\"paper\",\"y\":0.45,\"yanchor\":\"bottom\",\"yref\":\"paper\"},{\"font\":{\"size\":16},\"showarrow\":false,\"text\":\"Topic 10\",\"x\":0.6375000000000001,\"xanchor\":\"center\",\"xref\":\"paper\",\"y\":0.45,\"yanchor\":\"bottom\",\"yref\":\"paper\"},{\"font\":{\"size\":16},\"showarrow\":false,\"text\":\"Topic 11\",\"x\":0.9125,\"xanchor\":\"center\",\"xref\":\"paper\",\"y\":0.45,\"yanchor\":\"bottom\",\"yref\":\"paper\"},{\"font\":{\"size\":16},\"showarrow\":false,\"text\":\"Topic 12\",\"x\":0.0875,\"xanchor\":\"center\",\"xref\":\"paper\",\"y\":0.175,\"yanchor\":\"bottom\",\"yref\":\"paper\"},{\"font\":{\"size\":16},\"showarrow\":false,\"text\":\"Topic 13\",\"x\":0.36250000000000004,\"xanchor\":\"center\",\"xref\":\"paper\",\"y\":0.175,\"yanchor\":\"bottom\",\"yref\":\"paper\"},{\"font\":{\"size\":16},\"showarrow\":false,\"text\":\"Topic 14\",\"x\":0.6375000000000001,\"xanchor\":\"center\",\"xref\":\"paper\",\"y\":0.175,\"yanchor\":\"bottom\",\"yref\":\"paper\"}],\"title\":{\"font\":{\"size\":22,\"color\":\"Black\"},\"text\":\"Topic Word Scores\",\"x\":0.5,\"xanchor\":\"center\",\"yanchor\":\"top\"},\"hoverlabel\":{\"font\":{\"size\":16,\"family\":\"Rockwell\"},\"bgcolor\":\"white\"},\"showlegend\":false,\"width\":1000,\"height\":1000},                        {\"responsive\": true}                    ).then(function(){\n",
              "                            \n",
              "var gd = document.getElementById('cce8539d-a3a1-44ba-8bd7-7ce2d2f8f6d4');\n",
              "var x = new MutationObserver(function (mutations, observer) {{\n",
              "        var display = window.getComputedStyle(gd).display;\n",
              "        if (!display || display === 'none') {{\n",
              "            console.log([gd, 'removed!']);\n",
              "            Plotly.purge(gd);\n",
              "            observer.disconnect();\n",
              "        }}\n",
              "}});\n",
              "\n",
              "// Listen for the removal of the full notebook cells\n",
              "var notebookContainer = gd.closest('#notebook-container');\n",
              "if (notebookContainer) {{\n",
              "    x.observe(notebookContainer, {childList: true});\n",
              "}}\n",
              "\n",
              "// Listen for the clearing of the current output cell\n",
              "var outputEl = gd.closest('.output');\n",
              "if (outputEl) {{\n",
              "    x.observe(outputEl, {childList: true});\n",
              "}}\n",
              "\n",
              "                        })                };                            </script>        </div>\n",
              "</body>\n",
              "</html>"
            ]
          },
          "metadata": {},
          "output_type": "display_data"
        }
      ],
      "source": [
        "model.visualize_barchart(top_n_topics=15)"
      ]
    },
    {
      "cell_type": "code",
      "execution_count": 37,
      "metadata": {
        "colab": {
          "base_uri": "https://localhost:8080/",
          "height": 1000
        },
        "id": "NddPe1rJbL-S",
        "outputId": "b1376e8f-0d66-43b8-cbfb-73e614917469"
      },
      "outputs": [
        {
          "data": {
            "text/html": [
              "<html>\n",
              "<head><meta charset=\"utf-8\" /></head>\n",
              "<body>\n",
              "    <div>            <script src=\"https://cdnjs.cloudflare.com/ajax/libs/mathjax/2.7.5/MathJax.js?config=TeX-AMS-MML_SVG\"></script><script type=\"text/javascript\">if (window.MathJax && window.MathJax.Hub && window.MathJax.Hub.Config) {window.MathJax.Hub.Config({SVG: {font: \"STIX-Web\"}});}</script>                <script type=\"text/javascript\">window.PlotlyConfig = {MathJaxConfig: 'local'};</script>\n",
              "        <script charset=\"utf-8\" src=\"https://cdn.plot.ly/plotly-2.24.1.min.js\"></script>                <div id=\"2ff71175-19b8-488d-b5d9-d8a9863c4899\" class=\"plotly-graph-div\" style=\"height:1000px; width:1000px;\"></div>            <script type=\"text/javascript\">                                    window.PLOTLYENV=window.PLOTLYENV || {};                                    if (document.getElementById(\"2ff71175-19b8-488d-b5d9-d8a9863c4899\")) {                    Plotly.newPlot(                        \"2ff71175-19b8-488d-b5d9-d8a9863c4899\",                        [{\"coloraxis\":\"coloraxis\",\"name\":\"0\",\"x\":[\"0_\\ud0dc\\uc591\\uad11 \\ubc1c\\uc804_\\ub09c\\uac1c\\ubc1c_\\ubc8c\\ubaa9\",\"2_\\uac10\\ucd95_\\ud504\\ub791\\uc2a4_\\ud0c8\\uc6d0\\uc804\",\"3_\\ud55c\\uc804_\\uc801\\uc790_\\uc6d0\\uac00\",\"12_\\uc804\\ub825_\\uac00\\ub3d9_\\ubc1c\\uc804\\uc18c\",\"13_\\uc5d0\\ub108\\uc9c0 \\uc815\\ucc45_\\uc0b0\\uc5c5_\\ub9ac\\uc14b\",\"17_\\ube44\\uc6a9_\\uccad\\uad6c\\uc11c_\\ud0c8\\uc6d0\\uc804\",\"18_\\uc6d0\\uac00_\\uc790\\uad6c\\ucc45_\\uc778\\ud50c\\ub808\",\"25_\\uc720\\uac00_\\uce58\\uc19f_\\uac00\\uc2a4\",\"28_\\uc804\\uae30\\ub8cc_\\uc870\\uc0bc\\ubaa8\\uc0ac_\\uacf5\\uacf5\\uc694\\uae08\",\"30_\\uccad\\uad6c\\uc11c_\\uc804\\uae30\\ub8cc_\\ud0c8\\uc6d0\\uc804\",\"32_\\uc5d0\\ub108\\uc9c0_\\ud655\\ucda9_\\ud0c1\\uc0c1\\uacf5\\ub860\",\"1_\\uc6d4\\uc131_\\uc218\\uc0ac_\\uac10\\uc0ac\\uc6d0\",\"5_\\uac08\\ub4f1_\\uacf5\\uc0ac_\\ubc30\",\"8_\\ud0c8\\uc6d0\\uc804_\\ucc3d\\uc6d0\\uc2dc_\\uc1a1\\uc601\\uae38\",\"9_\\ud5c8\\uac00_\\uac74\\uc124_\\uac00\\ub3d9\",\"10_\\uc218\\ucd9c_\\uc6d0\\uc804_\\uc774\\uc9d1\\ud2b8\",\"11_\\uc0ac\\uc7a5_\\uc815\\uc7ac\\ud6c8_\\uc758\\uacb0\",\"14_\\ud575\\ud3d0\\uae30\\ubb3c_\\ub300\\ucc45_\\uc0ac\\uc6a9\\ud6c4\\ud575\\uc5f0\\ub8cc\",\"21_\\ud0c8\\uc6d0\\uc804_\\uc601\\ub355_\\uacf5\\uccad\\ud68c\",\"22_\\ub450\\uc0b0\\uc911\\uacf5\\uc5c5_3\\ubd84_\\ubcd1\\uc8fc\",\"31_\\uc218\\ucd9c_\\uc6d0\\uc804_\\uc0ac\\uc7a5\",\"33_\\uac00\\ub098_\\ub3c4\\uc678_\\ud0c8\\uc6d0\\uc804\",\"34_\\uc545\\ud654_\\ud0c8\\uc6d0\\uc804_\\ud0c8\\uc120\",\"37_\\uc758\\ud639_\\uaddc\\uba85_\\uacbd\\uc704\",\"39_\\uc911\\uc9c4_\\ubb3c\\ubc00_\\ubc31\\ub144\\ub300\\uacc4\",\"4_\\uacf5\\uae30\\uc5c5_\\uac1c\\ud601_\\uacf5\\uacf5\\uae30\\uad00 \\ubd80\\ucc44\",\"7_\\uacbd\\uc81c_\\uc704\\uae30_\\uc1fc\\ud06c\",\"19_\\ubbf8\\uc138\\uba3c\\uc9c0_\\ubbf8\\ubd09\\ucc45_\\uba3c\\uc9c0\",\"20_\\ucc28\\uc774\\uc789\\uc6d0_\\ubd80\\uacb0_\\ub3fc\\uc9c0\\uace0\\uae30\",\"26_\\uacfc\\ud559\\uae30\\uc220_\\uc11c\\uc6b8\\ub300_\\ub300\\ud559\\uc6d0\",\"36_\\uc678\\uad50_\\uccad\\uc640\\ub300_\\uc911\\ub3d9\",\"6_\\uac10\\uc0ac\\uc6d0_\\ucd5c\\uc7ac\\ud615_\\ubbfc\\uc8fc\\ub2f9\",\"23_\\uc790\\ud654\\uc790\\ucc2c_\\uc815\\ubd80_\\ubb34\\ub2a5\",\"35_\\uae30\\uad00\\uc7a5_\\ucd1d\\uc7ac_\\uc0ac\\ud1f4\",\"15_\\ucd1d\\uc120_\\uad6c\\uc548_\\uc0ac\\uc0dd\\uacb0\\ub2e8\",\"16_\\uad6d\\uac10_\\uc815\\uc7c1_\\uc758\\uc6d0\",\"24_\\uc6d0\\ub85c_\\uacb0\\ub2e8_\\ub300\\ud1b5\\ub839 \\uc9c0\\uc2dc\",\"27_\\ud68c\\ub3d9_\\uc5ec\\uc57c_\\uc6d0\\ub0b4\\ub300\\ud45c\",\"29_\\ubbfc\\uc8fc\\ub2f9_\\uacbd\\uc120_\\uc774\\ub150\",\"38_\\uc724\\uc11d\\uc5f4_\\uc120\\ub300\\uc704_\\ucd9c\\uc0ac\\ud45c\"],\"y\":[\"0_\\ud0dc\\uc591\\uad11 \\ubc1c\\uc804_\\ub09c\\uac1c\\ubc1c_\\ubc8c\\ubaa9\",\"2_\\uac10\\ucd95_\\ud504\\ub791\\uc2a4_\\ud0c8\\uc6d0\\uc804\",\"3_\\ud55c\\uc804_\\uc801\\uc790_\\uc6d0\\uac00\",\"12_\\uc804\\ub825_\\uac00\\ub3d9_\\ubc1c\\uc804\\uc18c\",\"13_\\uc5d0\\ub108\\uc9c0 \\uc815\\ucc45_\\uc0b0\\uc5c5_\\ub9ac\\uc14b\",\"17_\\ube44\\uc6a9_\\uccad\\uad6c\\uc11c_\\ud0c8\\uc6d0\\uc804\",\"18_\\uc6d0\\uac00_\\uc790\\uad6c\\ucc45_\\uc778\\ud50c\\ub808\",\"25_\\uc720\\uac00_\\uce58\\uc19f_\\uac00\\uc2a4\",\"28_\\uc804\\uae30\\ub8cc_\\uc870\\uc0bc\\ubaa8\\uc0ac_\\uacf5\\uacf5\\uc694\\uae08\",\"30_\\uccad\\uad6c\\uc11c_\\uc804\\uae30\\ub8cc_\\ud0c8\\uc6d0\\uc804\",\"32_\\uc5d0\\ub108\\uc9c0_\\ud655\\ucda9_\\ud0c1\\uc0c1\\uacf5\\ub860\",\"1_\\uc6d4\\uc131_\\uc218\\uc0ac_\\uac10\\uc0ac\\uc6d0\",\"5_\\uac08\\ub4f1_\\uacf5\\uc0ac_\\ubc30\",\"8_\\ud0c8\\uc6d0\\uc804_\\ucc3d\\uc6d0\\uc2dc_\\uc1a1\\uc601\\uae38\",\"9_\\ud5c8\\uac00_\\uac74\\uc124_\\uac00\\ub3d9\",\"10_\\uc218\\ucd9c_\\uc6d0\\uc804_\\uc774\\uc9d1\\ud2b8\",\"11_\\uc0ac\\uc7a5_\\uc815\\uc7ac\\ud6c8_\\uc758\\uacb0\",\"14_\\ud575\\ud3d0\\uae30\\ubb3c_\\ub300\\ucc45_\\uc0ac\\uc6a9\\ud6c4\\ud575\\uc5f0\\ub8cc\",\"21_\\ud0c8\\uc6d0\\uc804_\\uc601\\ub355_\\uacf5\\uccad\\ud68c\",\"22_\\ub450\\uc0b0\\uc911\\uacf5\\uc5c5_3\\ubd84_\\ubcd1\\uc8fc\",\"31_\\uc218\\ucd9c_\\uc6d0\\uc804_\\uc0ac\\uc7a5\",\"33_\\uac00\\ub098_\\ub3c4\\uc678_\\ud0c8\\uc6d0\\uc804\",\"34_\\uc545\\ud654_\\ud0c8\\uc6d0\\uc804_\\ud0c8\\uc120\",\"37_\\uc758\\ud639_\\uaddc\\uba85_\\uacbd\\uc704\",\"39_\\uc911\\uc9c4_\\ubb3c\\ubc00_\\ubc31\\ub144\\ub300\\uacc4\",\"4_\\uacf5\\uae30\\uc5c5_\\uac1c\\ud601_\\uacf5\\uacf5\\uae30\\uad00 \\ubd80\\ucc44\",\"7_\\uacbd\\uc81c_\\uc704\\uae30_\\uc1fc\\ud06c\",\"19_\\ubbf8\\uc138\\uba3c\\uc9c0_\\ubbf8\\ubd09\\ucc45_\\uba3c\\uc9c0\",\"20_\\ucc28\\uc774\\uc789\\uc6d0_\\ubd80\\uacb0_\\ub3fc\\uc9c0\\uace0\\uae30\",\"26_\\uacfc\\ud559\\uae30\\uc220_\\uc11c\\uc6b8\\ub300_\\ub300\\ud559\\uc6d0\",\"36_\\uc678\\uad50_\\uccad\\uc640\\ub300_\\uc911\\ub3d9\",\"6_\\uac10\\uc0ac\\uc6d0_\\ucd5c\\uc7ac\\ud615_\\ubbfc\\uc8fc\\ub2f9\",\"23_\\uc790\\ud654\\uc790\\ucc2c_\\uc815\\ubd80_\\ubb34\\ub2a5\",\"35_\\uae30\\uad00\\uc7a5_\\ucd1d\\uc7ac_\\uc0ac\\ud1f4\",\"15_\\ucd1d\\uc120_\\uad6c\\uc548_\\uc0ac\\uc0dd\\uacb0\\ub2e8\",\"16_\\uad6d\\uac10_\\uc815\\uc7c1_\\uc758\\uc6d0\",\"24_\\uc6d0\\ub85c_\\uacb0\\ub2e8_\\ub300\\ud1b5\\ub839 \\uc9c0\\uc2dc\",\"27_\\ud68c\\ub3d9_\\uc5ec\\uc57c_\\uc6d0\\ub0b4\\ub300\\ud45c\",\"29_\\ubbfc\\uc8fc\\ub2f9_\\uacbd\\uc120_\\uc774\\ub150\",\"38_\\uc724\\uc11d\\uc5f4_\\uc120\\ub300\\uc704_\\ucd9c\\uc0ac\\ud45c\"],\"z\":[[1.0000000000000009,0.5921380081507664,0.6736232792115981,0.658133103296871,0.6110938569700812,0.545300305763091,0.5024633896109001,0.6008886726544623,0.5001738628394145,0.5300383476263488,0.7669499975907061,0.44816468038392604,0.5149294397589921,0.5619335488587986,0.5546988030851054,0.4898588910131604,0.5556326856678113,0.5346179673289334,0.5651939967218285,0.5541040144498719,0.5150920668554247,0.5433136557957383,0.6033427401434759,0.4510592749627262,0.5828839827349498,0.49716495447075204,0.5026096703181477,0.4934231515944781,0.3576336270819185,0.44515009921778687,0.3927339792862707,0.3568014979807715,0.3402124853208285,0.29030448906138295,0.29551804757454664,0.2745688212383015,0.20208038956162422,0.11002955682039633,0.17115605649423232,0.20653604662382685],[0.5921380081507664,1.0000000000000004,0.6141037721743756,0.6541452380959571,0.7306573883314965,0.7143281716199752,0.5819472197441089,0.6951412321828255,0.541244137534175,0.664386572403642,0.7483684129150906,0.4767030259346664,0.5534409089822467,0.7922107377947308,0.5364441745560867,0.5541560461006949,0.5756888729257839,0.711477421026201,0.6872801882033692,0.5702133998121816,0.6107793816138556,0.7639748238290162,0.7794025723925566,0.42532865747215937,0.6107945693454677,0.4294462488080424,0.48648630920814945,0.6508358059812565,0.46509965646435886,0.46925721673066306,0.3605134630378581,0.22043243891094755,0.32726686802797944,0.2151756165773101,0.25384468924473863,0.18724540795051545,0.2827842165833966,0.13496116805785816,0.18272473699035713,0.1706071682868829],[0.6736232792115981,0.6141037721743756,1.0000000000000004,0.7182896706337272,0.63549566619451,0.7379649629015718,0.6602660764264581,0.629814423305683,0.6796648475781616,0.6702567704809913,0.642469569071355,0.5548206780674906,0.5386978292560837,0.6295732799640033,0.5172041850206487,0.5420001560813573,0.7019188357504396,0.5356553319045322,0.659298365057478,0.6337830548571164,0.6371109676991742,0.6531666836288774,0.6660807547235347,0.49438561624038235,0.6544691947510279,0.6053667703374842,0.5000815277746894,0.43263693424025146,0.36657712611328813,0.46817880173632365,0.44616883456228695,0.4209120894703552,0.39503092903072284,0.3929954050870079,0.24719117517476902,0.2563761597912919,0.2652947931804519,0.1468188779479913,0.17987691101854586,0.2367130859364114],[0.658133103296871,0.6541452380959571,0.7182896706337272,1.000000000000001,0.7208624951889188,0.6818478197037425,0.6995851760511397,0.7274144340469867,0.6515882908247816,0.7152317507076018,0.6763209678581966,0.5059208100838275,0.5870032126461886,0.6792258715605168,0.5948968404415723,0.5846878243523688,0.584636705790124,0.6743456689400722,0.6520433200735964,0.6172119181679965,0.6165444593121365,0.653312874072393,0.7031190316177856,0.48224463849533383,0.6891169372513134,0.41683902419039937,0.4928751792395406,0.5464401235480228,0.4091225494739687,0.40548282267002533,0.43780759461184104,0.27837611894553876,0.311186812746422,0.2635986502444777,0.2785540267789653,0.24466858448712908,0.27256701474831113,0.15928591347759208,0.15253492394340112,0.20687484524747748],[0.6110938569700812,0.7306573883314965,0.63549566619451,0.7208624951889188,1.000000000000001,0.6890352536560749,0.710257937036485,0.7639621196694788,0.5561745057531634,0.70457311863168,0.7439318109531176,0.4706415014645803,0.5902565510788997,0.7480534924397564,0.6300335215261393,0.7036000941083657,0.552036574431163,0.7723837331444374,0.6271295458994735,0.5837507920394212,0.5511243279313373,0.656154187955043,0.7110841818333526,0.5448532023226769,0.6696956004815027,0.4649338579719082,0.5280763538844575,0.5724320338631739,0.40935213389672814,0.4977016741246922,0.37642528697649935,0.24113096089916278,0.2893090834496208,0.22185092481019453,0.3070863086063863,0.2447277117781812,0.3957834967776848,0.1988826889405912,0.2610747517307224,0.2770569576669887],[0.545300305763091,0.7143281716199752,0.7379649629015718,0.6818478197037425,0.6890352536560749,1.0000000000000004,0.687106317573053,0.7177093970166889,0.7059788063751201,0.8301971989828063,0.6570015700032003,0.500996073524433,0.5829853775597071,0.7595028412090662,0.5240289382322123,0.5595740162272306,0.6140044895555005,0.6596488432728009,0.7308036743899645,0.6618609565056441,0.6194010411118939,0.7728195521976746,0.8130615605267577,0.5187381491827484,0.6835752635193131,0.5326144656380978,0.48175313372547984,0.5014409367505801,0.5170027001584031,0.4235443176578767,0.37614076364233684,0.24180956484813554,0.35809810038463075,0.2334882920343913,0.29686066946269146,0.2482230683421832,0.2959313402480791,0.09354873753242168,0.13875714250193652,0.20538173032682844],[0.5024633896109001,0.5819472197441089,0.6602660764264581,0.6995851760511397,0.710257937036485,0.687106317573053,1.0000000000000007,0.6855200539782772,0.8206978214474916,0.7723304257144158,0.5989733017624573,0.3404941931916385,0.5410132696312454,0.603208968985276,0.47355106821988785,0.4698802501018343,0.4182787196224202,0.5741526885512764,0.47400837100236215,0.4448371322789545,0.4153981578800031,0.46482825684747875,0.554118021048484,0.4094496639917078,0.46940632793089654,0.4787753633042249,0.4900953258878817,0.4778810544266963,0.37861804034525326,0.37686602447844997,0.24189942127177946,0.2396980537750272,0.24700693700711432,0.22661126760639913,0.32858951355975646,0.28344689175441107,0.40631096822195345,0.2918052991996629,0.2636397636028095,0.25842886375192375],[0.6008886726544623,0.6951412321828255,0.629814423305683,0.7274144340469867,0.7639621196694788,0.7177093970166889,0.6855200539782772,1.0000000000000007,0.6544751285982149,0.6901220139297265,0.7235230132253854,0.37355574242431466,0.4794726195516762,0.6295780160614559,0.5496716842991823,0.5393854093237503,0.483370457712919,0.6225033437626757,0.5601834563443335,0.6009250262486198,0.5585137805223189,0.6365274639473478,0.6955539483650797,0.40605481250122794,0.6356381941222253,0.4779771844581818,0.5498576869015158,0.5517955668168382,0.3792432161080619,0.39145439386078157,0.35807299630089556,0.17634154627344545,0.244501987257228,0.17396848725453912,0.3164771881671088,0.24012958057506906,0.2700019798001354,0.13886631793117146,0.07796967244600982,0.16956708901253661],[0.5001738628394145,0.541244137534175,0.6796648475781616,0.6515882908247816,0.5561745057531634,0.7059788063751201,0.8206978214474916,0.6544751285982149,1.0000000000000009,0.7540101505458857,0.5896608449192398,0.3783203781656227,0.497273210650567,0.5251944675576544,0.4429180177620873,0.38120035822822584,0.4669830123612792,0.4471357288147495,0.5376801797508413,0.4512992362009596,0.42912917427729136,0.5078998596136306,0.5684989343713082,0.33795048307808906,0.4654605033132833,0.5237295473367741,0.48570702137006017,0.4187729064693002,0.39980169181458425,0.3652355008394696,0.33075770850248976,0.3338184643560316,0.43675310216714486,0.3861071312990944,0.4538495511207512,0.3317396140360349,0.388188671801722,0.24923443306056586,0.2455094334616657,0.2755047619605203],[0.5300383476263488,0.664386572403642,0.6702567704809913,0.7152317507076018,0.70457311863168,0.8301971989828063,0.7723304257144158,0.6901220139297265,0.7540101505458857,1.0000000000000009,0.631770211325893,0.45950411665942736,0.5397048888722328,0.7744563689551969,0.5340514705284523,0.5424505527824686,0.5681256964091692,0.5970541867013853,0.7076365030471684,0.5924796439516613,0.5096511788117328,0.7101215934376444,0.7969806589628854,0.4481951266577844,0.6226659491973855,0.40523256947073066,0.43415847615766356,0.4575196258428825,0.5395667347732152,0.37756006143239684,0.31597227581975273,0.2211897163922577,0.28972808767953767,0.22066381584584815,0.29587540838517085,0.2179231534206878,0.3012697844506483,0.12419801024052851,0.19191838757548213,0.2667851804492046],[0.7669499975907061,0.7483684129150906,0.642469569071355,0.6763209678581966,0.7439318109531176,0.6570015700032003,0.5989733017624573,0.7235230132253854,0.5896608449192398,0.631770211325893,1.0000000000000016,0.41569016020724736,0.5308451361841144,0.6701730143330727,0.5649416151620645,0.48838405241691696,0.5692938782174689,0.6229863283814636,0.6618030004216846,0.528709847095902,0.4955132522089968,0.623946477125011,0.7066312328040691,0.37673737969467025,0.5647405896301412,0.49484789127632983,0.47585509764493517,0.5819132894930538,0.3558848424938361,0.4536666995484211,0.4154206909880265,0.2224789381037011,0.39970834923935356,0.24389732798926422,0.2577477211294025,0.2136028860664319,0.2291394902643985,0.11760088544977888,0.16706572356642355,0.19997662973900573],[0.44816468038392604,0.4767030259346664,0.5548206780674906,0.5059208100838275,0.4706415014645803,0.500996073524433,0.3404941931916385,0.37355574242431466,0.3783203781656227,0.45950411665942736,0.41569016020724736,1.0000000000000004,0.6992884567150821,0.6359695046874226,0.606113662059275,0.5890964808727187,0.8178170751596554,0.6688354445767938,0.6793180739932989,0.5991927538770443,0.63506626028409,0.6318884015688179,0.5917370600072103,0.7045820377251908,0.6728082816779942,0.3826367048204764,0.3911782139950195,0.36517663348351337,0.3687856228394209,0.4819838102321449,0.5077211206789477,0.6033165740919727,0.38473108844635606,0.4479997784895447,0.2419628776339816,0.37647150542453517,0.2883499306814659,0.18098577288299372,0.2151038060294071,0.38444159893678237],[0.5149294397589921,0.5534409089822467,0.5386978292560837,0.5870032126461886,0.5902565510788997,0.5829853775597071,0.5410132696312454,0.4794726195516762,0.497273210650567,0.5397048888722328,0.5308451361841144,0.6992884567150821,1.0000000000000009,0.6850514071989728,0.6922025934088021,0.6027787606877311,0.7114015151363287,0.7284173380492829,0.6926705864120681,0.5391766418588742,0.6139037089689261,0.6353145838138087,0.6315145726294552,0.6747863226505606,0.6849275275571508,0.4108732327261953,0.4500922840369391,0.5031146726852577,0.43483796570403477,0.5408690352259127,0.5194198720601171,0.4709176994351587,0.46080815266684316,0.4174333010535219,0.4042335410111452,0.4504431106110897,0.4553651182561195,0.38078900585141273,0.2996890938167219,0.3961502766408779],[0.5619335488587986,0.7922107377947308,0.6295732799640033,0.6792258715605168,0.7480534924397564,0.7595028412090662,0.603208968985276,0.6295780160614559,0.5251944675576544,0.7744563689551969,0.6701730143330727,0.6359695046874226,0.6850514071989728,1.0000000000000002,0.6206391592399901,0.6219944876412323,0.7352490152094107,0.7606459967236741,0.8175695817615326,0.6908976527323921,0.6368286741170787,0.8635415499613895,0.8840454955206387,0.5756256678639812,0.6834867991535997,0.3832256945231817,0.45525875735382193,0.5908254891542887,0.613053866339197,0.4890208959571239,0.3821674330225213,0.2896836414433424,0.30768199561795834,0.28237190434828036,0.2849445367168837,0.26948108052445285,0.3339319583460161,0.1623314238864872,0.2526412962405908,0.2890873643120177],[0.5546988030851054,0.5364441745560867,0.5172041850206487,0.5948968404415723,0.6300335215261393,0.5240289382322123,0.47355106821988785,0.5496716842991823,0.4429180177620873,0.5340514705284523,0.5649416151620645,0.606113662059275,0.6922025934088021,0.6206391592399901,1.000000000000001,0.6970695427946284,0.6151127102373628,0.7117576854648393,0.5488307285735012,0.5811261364895491,0.5723211272247504,0.5725823123345046,0.562032177223536,0.5453749379582306,0.6698687788039742,0.4038341970971838,0.44609783804373215,0.4315158724904374,0.3536605515946159,0.3888372869931615,0.47168002098383566,0.31147746180258,0.31424944672911187,0.31117786183368934,0.27588504599917757,0.25332969756422474,0.397140098639435,0.25821036150043103,0.18713095737456964,0.30564487485355113],[0.4898588910131604,0.5541560461006949,0.5420001560813573,0.5846878243523688,0.7036000941083657,0.5595740162272306,0.4698802501018343,0.5393854093237503,0.38120035822822584,0.5424505527824686,0.48838405241691696,0.5890964808727187,0.6027787606877311,0.6219944876412323,0.6970695427946284,1.0000000000000016,0.5970826800659439,0.7703418988886948,0.5955847108485492,0.6013344900403645,0.7407510194991535,0.668600779912913,0.5761180711075898,0.6194076812530436,0.7733257706863478,0.3389761062629595,0.37059892023079444,0.3638632357965348,0.34580194068275527,0.4697230691723254,0.5358537946974425,0.2654329815004541,0.18502904117358737,0.1937446569615252,0.2144806599592981,0.1903798198639014,0.3729623703663729,0.23567922906335254,0.20796324610119551,0.2859035216228721],[0.5556326856678113,0.5756888729257839,0.7019188357504396,0.584636705790124,0.552036574431163,0.6140044895555005,0.4182787196224202,0.483370457712919,0.4669830123612792,0.5681256964091692,0.5692938782174689,0.8178170751596554,0.7114015151363287,0.7352490152094107,0.6151127102373628,0.5970826800659439,1.0000000000000007,0.6799918581543947,0.8521284347461076,0.6647968619151414,0.7002128632381095,0.7602202706886443,0.7317129549188311,0.6600877598192572,0.7182529360388672,0.4312841634601955,0.34611708523316076,0.425198750791429,0.39975441403621254,0.48810365718254844,0.5845847941230075,0.515919105619604,0.4336542083384237,0.453917146220442,0.1606076399012915,0.3184411696582262,0.23305252080462432,0.10610291765117716,0.1276534794350135,0.2781935455593552],[0.5346179673289334,0.711477421026201,0.5356553319045322,0.6743456689400722,0.7723837331444374,0.6596488432728009,0.5741526885512764,0.6225033437626757,0.4471357288147495,0.5970541867013853,0.6229863283814636,0.6688354445767938,0.7284173380492829,0.7606459967236741,0.7117576854648393,0.7703418988886948,0.6799918581543947,1.0000000000000007,0.6768933010531015,0.6090166799282377,0.6841973298274916,0.7063737177867356,0.7117711399087168,0.6291888457771887,0.7706088253206262,0.4006177746668661,0.3927174855992487,0.5713280223920276,0.43311072315003574,0.51766456916076,0.44118018388456065,0.32602729712399037,0.26167133928484787,0.26067622936819146,0.27757778407305955,0.28424155275013374,0.37319005819028767,0.18764557920537675,0.22502866624855708,0.2799719360355626],[0.5651939967218285,0.6872801882033692,0.659298365057478,0.6520433200735964,0.6271295458994735,0.7308036743899645,0.47400837100236215,0.5601834563443335,0.5376801797508413,0.7076365030471684,0.6618030004216846,0.6793180739932989,0.6926705864120681,0.8175695817615326,0.5488307285735012,0.5955847108485492,0.8521284347461076,0.6768933010531015,1.000000000000001,0.6436714972901241,0.690611707043527,0.8690712712935226,0.8551401278006452,0.6363089039912972,0.6891093005706623,0.3550432896769378,0.3774385052531365,0.4974443885466598,0.47984338840029234,0.4852594790717651,0.5256846706806705,0.33573865237441114,0.5117594564293241,0.29788187740769384,0.16464073353941133,0.259633620642286,0.23505284568652782,0.08181930331150242,0.10915617854446147,0.23852011636901377],[0.5541040144498719,0.5702133998121816,0.6337830548571164,0.6172119181679965,0.5837507920394212,0.6618609565056441,0.4448371322789545,0.6009250262486198,0.4512992362009596,0.5924796439516613,0.528709847095902,0.5991927538770443,0.5391766418588742,0.6908976527323921,0.5811261364895491,0.6013344900403645,0.6647968619151414,0.6090166799282377,0.6436714972901241,1.000000000000001,0.627302434979875,0.6872585608142748,0.7251818305636326,0.5013403109914676,0.6806327896687829,0.4993464052016419,0.5146566725702514,0.4563948629777852,0.45741285344705623,0.4725423128745402,0.43798545426468405,0.2946664387306923,0.2361955500390083,0.32334168461275814,0.2476366954121897,0.2716016729162817,0.2341116541173373,0.08260997352198021,0.14648816474134588,0.21509303870213103],[0.5150920668554247,0.6107793816138556,0.6371109676991742,0.6165444593121365,0.5511243279313373,0.6194010411118939,0.4153981578800031,0.5585137805223189,0.42912917427729136,0.5096511788117328,0.4955132522089968,0.63506626028409,0.6139037089689261,0.6368286741170787,0.5723211272247504,0.7407510194991535,0.7002128632381095,0.6841973298274916,0.690611707043527,0.627302434979875,1.0000000000000004,0.7894849349718733,0.6330953544371488,0.5777431342675189,0.7784075325902493,0.3443113692344546,0.37748204680513986,0.38934630679105525,0.4021963276809449,0.4843086804900635,0.5980508402281288,0.3190815413540545,0.2995358980606315,0.2611562063355615,0.18273357117347655,0.2260499642499278,0.1752718316811561,0.10664892203223002,0.10748937100378703,0.13945995250461118],[0.5433136557957383,0.7639748238290162,0.6531666836288774,0.653312874072393,0.656154187955043,0.7728195521976746,0.46482825684747875,0.6365274639473478,0.5078998596136306,0.7101215934376444,0.623946477125011,0.6318884015688179,0.6353145838138087,0.8635415499613895,0.5725823123345046,0.668600779912913,0.7602202706886443,0.7063737177867356,0.8690712712935226,0.6872585608142748,0.7894849349718733,1.0000000000000004,0.8808698786804481,0.5617785323102722,0.7710051600886595,0.3654858153452826,0.4200976507858969,0.48548209905956174,0.5511728843461143,0.4967337573165204,0.47594537592539465,0.27129926103108515,0.3759435223868894,0.23759847849695653,0.2041411370910247,0.22070811916676317,0.22589059413993118,0.04342424225434993,0.11846499395879966,0.1838212755341743],[0.6033427401434759,0.7794025723925566,0.6660807547235347,0.7031190316177856,0.7110841818333526,0.8130615605267577,0.554118021048484,0.6955539483650797,0.5684989343713082,0.7969806589628854,0.7066312328040691,0.5917370600072103,0.6315145726294552,0.8840454955206387,0.562032177223536,0.5761180711075898,0.7317129549188311,0.7117711399087168,0.8551401278006452,0.7251818305636326,0.6330953544371488,0.8808698786804481,1.0,0.5118558194210912,0.7253899374473993,0.4523993176438509,0.5091871373658325,0.5739982697476503,0.5680241842114504,0.5177280083195973,0.4037686458514204,0.2775840266520384,0.3532857185176592,0.28598465997198086,0.27015894574092325,0.24303836957537342,0.24187745841561803,0.05391359218380988,0.15789519190652446,0.23166209557858009],[0.4510592749627262,0.42532865747215937,0.49438561624038235,0.48224463849533383,0.5448532023226769,0.5187381491827484,0.4094496639917078,0.40605481250122794,0.33795048307808906,0.4481951266577844,0.37673737969467025,0.7045820377251908,0.6747863226505606,0.5756256678639812,0.5453749379582306,0.6194076812530436,0.6600877598192572,0.6291888457771887,0.6363089039912972,0.5013403109914676,0.5777431342675189,0.5617785323102722,0.5118558194210912,1.0000000000000007,0.6394961354723376,0.33919590723329696,0.31385727943909025,0.3418597004821194,0.2802554024593268,0.43459212446434664,0.528271873669314,0.4555338700885517,0.37150830598984,0.3007012165057811,0.17589525759418032,0.29359302690942807,0.3456460779502693,0.1572532486426552,0.15573309239326286,0.26535869000521045],[0.5828839827349498,0.6107945693454677,0.6544691947510279,0.6891169372513134,0.6696956004815027,0.6835752635193131,0.46940632793089654,0.6356381941222253,0.4654605033132833,0.6226659491973855,0.5647405896301412,0.6728082816779942,0.6849275275571508,0.6834867991535997,0.6698687788039742,0.7733257706863478,0.7182529360388672,0.7706088253206262,0.6891093005706623,0.6806327896687829,0.7784075325902493,0.7710051600886595,0.7253899374473993,0.6394961354723376,1.0000000000000013,0.4310656810897836,0.42977197422791047,0.39153547720869664,0.38922336160328086,0.5611877616882939,0.5020780623225419,0.37916329788014813,0.2709851834716116,0.33161163668944804,0.28226523823771915,0.25526879936103497,0.26075108862188157,0.12864069948291315,0.14149652152352582,0.25259912458852835],[0.49716495447075204,0.4294462488080424,0.6053667703374842,0.41683902419039937,0.4649338579719082,0.5326144656380978,0.4787753633042249,0.4779771844581818,0.5237295473367741,0.40523256947073066,0.49484789127632983,0.3826367048204764,0.4108732327261953,0.3832256945231817,0.4038341970971838,0.3389761062629595,0.4312841634601955,0.4006177746668661,0.3550432896769378,0.4993464052016419,0.3443113692344546,0.3654858153452826,0.4523993176438509,0.33919590723329696,0.4310656810897836,1.000000000000001,0.731395016927729,0.4611737147218473,0.30411378910634035,0.5373446269309252,0.28029565113994626,0.5509882498006027,0.5621151752596214,0.598023693328937,0.36877031227223556,0.4371628172711524,0.45242480330645723,0.2425297020920732,0.25537726591986964,0.32310988106007354],[0.5026096703181477,0.48648630920814945,0.5000815277746894,0.4928751792395406,0.5280763538844575,0.48175313372547984,0.4900953258878817,0.5498576869015158,0.48570702137006017,0.43415847615766356,0.47585509764493517,0.3911782139950195,0.4500922840369391,0.45525875735382193,0.44609783804373215,0.37059892023079444,0.34611708523316076,0.3927174855992487,0.3774385052531365,0.5146566725702514,0.37748204680513986,0.4200976507858969,0.5091871373658325,0.31385727943909025,0.42977197422791047,0.731395016927729,1.0000000000000013,0.5309049534754967,0.370836395090257,0.5515515819035781,0.23885845089877075,0.44022878099789986,0.5523156914965563,0.46883689419193375,0.47937476450135896,0.485002577408996,0.5188476382795089,0.37747114725201125,0.35194260519054094,0.3581181231458845],[0.4934231515944781,0.6508358059812565,0.43263693424025146,0.5464401235480228,0.5724320338631739,0.5014409367505801,0.4778810544266963,0.5517955668168382,0.4187729064693002,0.4575196258428825,0.5819132894930538,0.36517663348351337,0.5031146726852577,0.5908254891542887,0.4315158724904374,0.3638632357965348,0.425198750791429,0.5713280223920276,0.4974443885466598,0.4563948629777852,0.38934630679105525,0.48548209905956174,0.5739982697476503,0.3418597004821194,0.39153547720869664,0.4611737147218473,0.5309049534754967,1.0000000000000004,0.37637546807076794,0.47667025774495997,0.24456466939485863,0.3022737077376256,0.4024323292209828,0.2517287651691143,0.3335254598959093,0.4172423169469803,0.37976639393631173,0.29401129178441376,0.2740571246020694,0.2439771718084597],[0.3576336270819185,0.46509965646435886,0.36657712611328813,0.4091225494739687,0.40935213389672814,0.5170027001584031,0.37861804034525326,0.3792432161080619,0.39980169181458425,0.5395667347732152,0.3558848424938361,0.3687856228394209,0.43483796570403477,0.613053866339197,0.3536605515946159,0.34580194068275527,0.39975441403621254,0.43311072315003574,0.47984338840029234,0.45741285344705623,0.4021963276809449,0.5511728843461143,0.5680241842114504,0.2802554024593268,0.38922336160328086,0.30411378910634035,0.370836395090257,0.37637546807076794,1.0000000000000007,0.30296262772415156,0.19303004909598598,0.22703390142996435,0.27847795679188203,0.21879660923057764,0.31388963321986857,0.24384979355744923,0.28816805508484,0.1874761629546258,0.23403346612765258,0.18829926175149755],[0.44515009921778687,0.46925721673066306,0.46817880173632365,0.40548282267002533,0.4977016741246922,0.4235443176578767,0.37686602447844997,0.39145439386078157,0.3652355008394696,0.37756006143239684,0.4536666995484211,0.4819838102321449,0.5408690352259127,0.4890208959571239,0.3888372869931615,0.4697230691723254,0.48810365718254844,0.51766456916076,0.4852594790717651,0.4725423128745402,0.4843086804900635,0.4967337573165204,0.5177280083195973,0.43459212446434664,0.5611877616882939,0.5373446269309252,0.5515515819035781,0.47667025774495997,0.30296262772415156,1.0000000000000009,0.2744755268823933,0.47781281474705517,0.4122452032491466,0.44448162185708007,0.34782703496991546,0.41389998632731173,0.3927717418089477,0.24684932641498997,0.29817974739137026,0.3121798334693236],[0.3927339792862707,0.3605134630378581,0.44616883456228695,0.43780759461184104,0.37642528697649935,0.37614076364233684,0.24189942127177946,0.35807299630089556,0.33075770850248976,0.31597227581975273,0.4154206909880265,0.5077211206789477,0.5194198720601171,0.3821674330225213,0.47168002098383566,0.5358537946974425,0.5845847941230075,0.44118018388456065,0.5256846706806705,0.43798545426468405,0.5980508402281288,0.47594537592539465,0.4037686458514204,0.528271873669314,0.5020780623225419,0.28029565113994626,0.23885845089877075,0.24456466939485863,0.19303004909598598,0.2744755268823933,1.0,0.34576555642666224,0.37565339018263144,0.3192605635155702,0.10075723665348099,0.2195477306136079,0.13626291799614482,0.1306231657713999,0.07680583485222936,0.17885727614028898],[0.3568014979807715,0.22043243891094755,0.4209120894703552,0.27837611894553876,0.24113096089916278,0.24180956484813554,0.2396980537750272,0.17634154627344545,0.3338184643560316,0.2211897163922577,0.2224789381037011,0.6033165740919727,0.4709176994351587,0.2896836414433424,0.31147746180258,0.2654329815004541,0.515919105619604,0.32602729712399037,0.33573865237441114,0.2946664387306923,0.3190815413540545,0.27129926103108515,0.2775840266520384,0.4555338700885517,0.37916329788014813,0.5509882498006027,0.44022878099789986,0.3022737077376256,0.22703390142996435,0.47781281474705517,0.34576555642666224,1.0000000000000018,0.520213294966756,0.6519421507928805,0.41894084151162886,0.6294338581318346,0.45630209206673017,0.3755225650819423,0.4652901204025778,0.522127104027963],[0.3402124853208285,0.32726686802797944,0.39503092903072284,0.311186812746422,0.2893090834496208,0.35809810038463075,0.24700693700711432,0.244501987257228,0.43675310216714486,0.28972808767953767,0.39970834923935356,0.38473108844635606,0.46080815266684316,0.30768199561795834,0.31424944672911187,0.18502904117358737,0.4336542083384237,0.26167133928484787,0.5117594564293241,0.2361955500390083,0.2995358980606315,0.3759435223868894,0.3532857185176592,0.37150830598984,0.2709851834716116,0.5621151752596214,0.5523156914965563,0.4024323292209828,0.27847795679188203,0.4122452032491466,0.37565339018263144,0.520213294966756,1.0000000000000007,0.5810675877155796,0.3124672598839819,0.45557811850947805,0.5228550999721615,0.3143444506493903,0.2630903647442234,0.3049209562452471],[0.29030448906138295,0.2151756165773101,0.3929954050870079,0.2635986502444777,0.22185092481019453,0.2334882920343913,0.22661126760639913,0.17396848725453912,0.3861071312990944,0.22066381584584815,0.24389732798926422,0.4479997784895447,0.4174333010535219,0.28237190434828036,0.31117786183368934,0.1937446569615252,0.453917146220442,0.26067622936819146,0.29788187740769384,0.32334168461275814,0.2611562063355615,0.23759847849695653,0.28598465997198086,0.3007012165057811,0.33161163668944804,0.598023693328937,0.46883689419193375,0.2517287651691143,0.21879660923057764,0.44448162185708007,0.3192605635155702,0.6519421507928805,0.5810675877155796,1.000000000000001,0.4396520963132947,0.46200622534908836,0.5139419574378989,0.38969513992221755,0.35285879408421,0.46567257553723795],[0.29551804757454664,0.25384468924473863,0.24719117517476902,0.2785540267789653,0.3070863086063863,0.29686066946269146,0.32858951355975646,0.3164771881671088,0.4538495511207512,0.29587540838517085,0.2577477211294025,0.2419628776339816,0.4042335410111452,0.2849445367168837,0.27588504599917757,0.2144806599592981,0.1606076399012915,0.27757778407305955,0.16464073353941133,0.2476366954121897,0.18273357117347655,0.2041411370910247,0.27015894574092325,0.17589525759418032,0.28226523823771915,0.36877031227223556,0.47937476450135896,0.3335254598959093,0.31388963321986857,0.34782703496991546,0.10075723665348099,0.41894084151162886,0.3124672598839819,0.4396520963132947,1.0000000000000009,0.5335910686479998,0.5285258869975953,0.4285727597959491,0.5729790027393518,0.5149299870107292],[0.2745688212383015,0.18724540795051545,0.2563761597912919,0.24466858448712908,0.2447277117781812,0.2482230683421832,0.28344689175441107,0.24012958057506906,0.3317396140360349,0.2179231534206878,0.2136028860664319,0.37647150542453517,0.4504431106110897,0.26948108052445285,0.25332969756422474,0.1903798198639014,0.3184411696582262,0.28424155275013374,0.259633620642286,0.2716016729162817,0.2260499642499278,0.22070811916676317,0.24303836957537342,0.29359302690942807,0.25526879936103497,0.4371628172711524,0.485002577408996,0.4172423169469803,0.24384979355744923,0.41389998632731173,0.2195477306136079,0.6294338581318346,0.45557811850947805,0.46200622534908836,0.5335910686479998,1.0000000000000009,0.45283427523944586,0.5767018316017479,0.5174003795093822,0.46008560600922704],[0.20208038956162422,0.2827842165833966,0.2652947931804519,0.27256701474831113,0.3957834967776848,0.2959313402480791,0.40631096822195345,0.2700019798001354,0.388188671801722,0.3012697844506483,0.2291394902643985,0.2883499306814659,0.4553651182561195,0.3339319583460161,0.397140098639435,0.3729623703663729,0.23305252080462432,0.37319005819028767,0.23505284568652782,0.2341116541173373,0.1752718316811561,0.22589059413993118,0.24187745841561803,0.3456460779502693,0.26075108862188157,0.45242480330645723,0.5188476382795089,0.37976639393631173,0.28816805508484,0.3927717418089477,0.13626291799614482,0.45630209206673017,0.5228550999721615,0.5139419574378989,0.5285258869975953,0.45283427523944586,1.0000000000000007,0.6597865621676642,0.5420706155363488,0.5477940488475167],[0.11002955682039633,0.13496116805785816,0.1468188779479913,0.15928591347759208,0.1988826889405912,0.09354873753242168,0.2918052991996629,0.13886631793117146,0.24923443306056586,0.12419801024052851,0.11760088544977888,0.18098577288299372,0.38078900585141273,0.1623314238864872,0.25821036150043103,0.23567922906335254,0.10610291765117716,0.18764557920537675,0.08181930331150242,0.08260997352198021,0.10664892203223002,0.04342424225434993,0.05391359218380988,0.1572532486426552,0.12864069948291315,0.2425297020920732,0.37747114725201125,0.29401129178441376,0.1874761629546258,0.24684932641498997,0.1306231657713999,0.3755225650819423,0.3143444506493903,0.38969513992221755,0.4285727597959491,0.5767018316017479,0.6597865621676642,1.0000000000000009,0.5833641841690259,0.42545672152434183],[0.17115605649423232,0.18272473699035713,0.17987691101854586,0.15253492394340112,0.2610747517307224,0.13875714250193652,0.2636397636028095,0.07796967244600982,0.2455094334616657,0.19191838757548213,0.16706572356642355,0.2151038060294071,0.2996890938167219,0.2526412962405908,0.18713095737456964,0.20796324610119551,0.1276534794350135,0.22502866624855708,0.10915617854446147,0.14648816474134588,0.10748937100378703,0.11846499395879966,0.15789519190652446,0.15573309239326286,0.14149652152352582,0.25537726591986964,0.35194260519054094,0.2740571246020694,0.23403346612765258,0.29817974739137026,0.07680583485222936,0.4652901204025778,0.2630903647442234,0.35285879408421,0.5729790027393518,0.5174003795093822,0.5420706155363488,0.5833641841690259,1.0000000000000009,0.53167269282337],[0.20653604662382685,0.1706071682868829,0.2367130859364114,0.20687484524747748,0.2770569576669887,0.20538173032682844,0.25842886375192375,0.16956708901253661,0.2755047619605203,0.2667851804492046,0.19997662973900573,0.38444159893678237,0.3961502766408779,0.2890873643120177,0.30564487485355113,0.2859035216228721,0.2781935455593552,0.2799719360355626,0.23852011636901377,0.21509303870213103,0.13945995250461118,0.1838212755341743,0.23166209557858009,0.26535869000521045,0.25259912458852835,0.32310988106007354,0.3581181231458845,0.2439771718084597,0.18829926175149755,0.3121798334693236,0.17885727614028898,0.522127104027963,0.3049209562452471,0.46567257553723795,0.5149299870107292,0.46008560600922704,0.5477940488475167,0.42545672152434183,0.53167269282337,1.000000000000001]],\"type\":\"heatmap\",\"xaxis\":\"x\",\"yaxis\":\"y\",\"hovertemplate\":\"x: %{x}\\u003cbr\\u003ey: %{y}\\u003cbr\\u003eSimilarity Score: %{z}\\u003cextra\\u003e\\u003c\\u002fextra\\u003e\"}],                        {\"template\":{\"data\":{\"histogram2dcontour\":[{\"type\":\"histogram2dcontour\",\"colorbar\":{\"outlinewidth\":0,\"ticks\":\"\"},\"colorscale\":[[0.0,\"#0d0887\"],[0.1111111111111111,\"#46039f\"],[0.2222222222222222,\"#7201a8\"],[0.3333333333333333,\"#9c179e\"],[0.4444444444444444,\"#bd3786\"],[0.5555555555555556,\"#d8576b\"],[0.6666666666666666,\"#ed7953\"],[0.7777777777777778,\"#fb9f3a\"],[0.8888888888888888,\"#fdca26\"],[1.0,\"#f0f921\"]]}],\"choropleth\":[{\"type\":\"choropleth\",\"colorbar\":{\"outlinewidth\":0,\"ticks\":\"\"}}],\"histogram2d\":[{\"type\":\"histogram2d\",\"colorbar\":{\"outlinewidth\":0,\"ticks\":\"\"},\"colorscale\":[[0.0,\"#0d0887\"],[0.1111111111111111,\"#46039f\"],[0.2222222222222222,\"#7201a8\"],[0.3333333333333333,\"#9c179e\"],[0.4444444444444444,\"#bd3786\"],[0.5555555555555556,\"#d8576b\"],[0.6666666666666666,\"#ed7953\"],[0.7777777777777778,\"#fb9f3a\"],[0.8888888888888888,\"#fdca26\"],[1.0,\"#f0f921\"]]}],\"heatmap\":[{\"type\":\"heatmap\",\"colorbar\":{\"outlinewidth\":0,\"ticks\":\"\"},\"colorscale\":[[0.0,\"#0d0887\"],[0.1111111111111111,\"#46039f\"],[0.2222222222222222,\"#7201a8\"],[0.3333333333333333,\"#9c179e\"],[0.4444444444444444,\"#bd3786\"],[0.5555555555555556,\"#d8576b\"],[0.6666666666666666,\"#ed7953\"],[0.7777777777777778,\"#fb9f3a\"],[0.8888888888888888,\"#fdca26\"],[1.0,\"#f0f921\"]]}],\"heatmapgl\":[{\"type\":\"heatmapgl\",\"colorbar\":{\"outlinewidth\":0,\"ticks\":\"\"},\"colorscale\":[[0.0,\"#0d0887\"],[0.1111111111111111,\"#46039f\"],[0.2222222222222222,\"#7201a8\"],[0.3333333333333333,\"#9c179e\"],[0.4444444444444444,\"#bd3786\"],[0.5555555555555556,\"#d8576b\"],[0.6666666666666666,\"#ed7953\"],[0.7777777777777778,\"#fb9f3a\"],[0.8888888888888888,\"#fdca26\"],[1.0,\"#f0f921\"]]}],\"contourcarpet\":[{\"type\":\"contourcarpet\",\"colorbar\":{\"outlinewidth\":0,\"ticks\":\"\"}}],\"contour\":[{\"type\":\"contour\",\"colorbar\":{\"outlinewidth\":0,\"ticks\":\"\"},\"colorscale\":[[0.0,\"#0d0887\"],[0.1111111111111111,\"#46039f\"],[0.2222222222222222,\"#7201a8\"],[0.3333333333333333,\"#9c179e\"],[0.4444444444444444,\"#bd3786\"],[0.5555555555555556,\"#d8576b\"],[0.6666666666666666,\"#ed7953\"],[0.7777777777777778,\"#fb9f3a\"],[0.8888888888888888,\"#fdca26\"],[1.0,\"#f0f921\"]]}],\"surface\":[{\"type\":\"surface\",\"colorbar\":{\"outlinewidth\":0,\"ticks\":\"\"},\"colorscale\":[[0.0,\"#0d0887\"],[0.1111111111111111,\"#46039f\"],[0.2222222222222222,\"#7201a8\"],[0.3333333333333333,\"#9c179e\"],[0.4444444444444444,\"#bd3786\"],[0.5555555555555556,\"#d8576b\"],[0.6666666666666666,\"#ed7953\"],[0.7777777777777778,\"#fb9f3a\"],[0.8888888888888888,\"#fdca26\"],[1.0,\"#f0f921\"]]}],\"mesh3d\":[{\"type\":\"mesh3d\",\"colorbar\":{\"outlinewidth\":0,\"ticks\":\"\"}}],\"scatter\":[{\"fillpattern\":{\"fillmode\":\"overlay\",\"size\":10,\"solidity\":0.2},\"type\":\"scatter\"}],\"parcoords\":[{\"type\":\"parcoords\",\"line\":{\"colorbar\":{\"outlinewidth\":0,\"ticks\":\"\"}}}],\"scatterpolargl\":[{\"type\":\"scatterpolargl\",\"marker\":{\"colorbar\":{\"outlinewidth\":0,\"ticks\":\"\"}}}],\"bar\":[{\"error_x\":{\"color\":\"#2a3f5f\"},\"error_y\":{\"color\":\"#2a3f5f\"},\"marker\":{\"line\":{\"color\":\"#E5ECF6\",\"width\":0.5},\"pattern\":{\"fillmode\":\"overlay\",\"size\":10,\"solidity\":0.2}},\"type\":\"bar\"}],\"scattergeo\":[{\"type\":\"scattergeo\",\"marker\":{\"colorbar\":{\"outlinewidth\":0,\"ticks\":\"\"}}}],\"scatterpolar\":[{\"type\":\"scatterpolar\",\"marker\":{\"colorbar\":{\"outlinewidth\":0,\"ticks\":\"\"}}}],\"histogram\":[{\"marker\":{\"pattern\":{\"fillmode\":\"overlay\",\"size\":10,\"solidity\":0.2}},\"type\":\"histogram\"}],\"scattergl\":[{\"type\":\"scattergl\",\"marker\":{\"colorbar\":{\"outlinewidth\":0,\"ticks\":\"\"}}}],\"scatter3d\":[{\"type\":\"scatter3d\",\"line\":{\"colorbar\":{\"outlinewidth\":0,\"ticks\":\"\"}},\"marker\":{\"colorbar\":{\"outlinewidth\":0,\"ticks\":\"\"}}}],\"scattermapbox\":[{\"type\":\"scattermapbox\",\"marker\":{\"colorbar\":{\"outlinewidth\":0,\"ticks\":\"\"}}}],\"scatterternary\":[{\"type\":\"scatterternary\",\"marker\":{\"colorbar\":{\"outlinewidth\":0,\"ticks\":\"\"}}}],\"scattercarpet\":[{\"type\":\"scattercarpet\",\"marker\":{\"colorbar\":{\"outlinewidth\":0,\"ticks\":\"\"}}}],\"carpet\":[{\"aaxis\":{\"endlinecolor\":\"#2a3f5f\",\"gridcolor\":\"white\",\"linecolor\":\"white\",\"minorgridcolor\":\"white\",\"startlinecolor\":\"#2a3f5f\"},\"baxis\":{\"endlinecolor\":\"#2a3f5f\",\"gridcolor\":\"white\",\"linecolor\":\"white\",\"minorgridcolor\":\"white\",\"startlinecolor\":\"#2a3f5f\"},\"type\":\"carpet\"}],\"table\":[{\"cells\":{\"fill\":{\"color\":\"#EBF0F8\"},\"line\":{\"color\":\"white\"}},\"header\":{\"fill\":{\"color\":\"#C8D4E3\"},\"line\":{\"color\":\"white\"}},\"type\":\"table\"}],\"barpolar\":[{\"marker\":{\"line\":{\"color\":\"#E5ECF6\",\"width\":0.5},\"pattern\":{\"fillmode\":\"overlay\",\"size\":10,\"solidity\":0.2}},\"type\":\"barpolar\"}],\"pie\":[{\"automargin\":true,\"type\":\"pie\"}]},\"layout\":{\"autotypenumbers\":\"strict\",\"colorway\":[\"#636efa\",\"#EF553B\",\"#00cc96\",\"#ab63fa\",\"#FFA15A\",\"#19d3f3\",\"#FF6692\",\"#B6E880\",\"#FF97FF\",\"#FECB52\"],\"font\":{\"color\":\"#2a3f5f\"},\"hovermode\":\"closest\",\"hoverlabel\":{\"align\":\"left\"},\"paper_bgcolor\":\"white\",\"plot_bgcolor\":\"#E5ECF6\",\"polar\":{\"bgcolor\":\"#E5ECF6\",\"angularaxis\":{\"gridcolor\":\"white\",\"linecolor\":\"white\",\"ticks\":\"\"},\"radialaxis\":{\"gridcolor\":\"white\",\"linecolor\":\"white\",\"ticks\":\"\"}},\"ternary\":{\"bgcolor\":\"#E5ECF6\",\"aaxis\":{\"gridcolor\":\"white\",\"linecolor\":\"white\",\"ticks\":\"\"},\"baxis\":{\"gridcolor\":\"white\",\"linecolor\":\"white\",\"ticks\":\"\"},\"caxis\":{\"gridcolor\":\"white\",\"linecolor\":\"white\",\"ticks\":\"\"}},\"coloraxis\":{\"colorbar\":{\"outlinewidth\":0,\"ticks\":\"\"}},\"colorscale\":{\"sequential\":[[0.0,\"#0d0887\"],[0.1111111111111111,\"#46039f\"],[0.2222222222222222,\"#7201a8\"],[0.3333333333333333,\"#9c179e\"],[0.4444444444444444,\"#bd3786\"],[0.5555555555555556,\"#d8576b\"],[0.6666666666666666,\"#ed7953\"],[0.7777777777777778,\"#fb9f3a\"],[0.8888888888888888,\"#fdca26\"],[1.0,\"#f0f921\"]],\"sequentialminus\":[[0.0,\"#0d0887\"],[0.1111111111111111,\"#46039f\"],[0.2222222222222222,\"#7201a8\"],[0.3333333333333333,\"#9c179e\"],[0.4444444444444444,\"#bd3786\"],[0.5555555555555556,\"#d8576b\"],[0.6666666666666666,\"#ed7953\"],[0.7777777777777778,\"#fb9f3a\"],[0.8888888888888888,\"#fdca26\"],[1.0,\"#f0f921\"]],\"diverging\":[[0,\"#8e0152\"],[0.1,\"#c51b7d\"],[0.2,\"#de77ae\"],[0.3,\"#f1b6da\"],[0.4,\"#fde0ef\"],[0.5,\"#f7f7f7\"],[0.6,\"#e6f5d0\"],[0.7,\"#b8e186\"],[0.8,\"#7fbc41\"],[0.9,\"#4d9221\"],[1,\"#276419\"]]},\"xaxis\":{\"gridcolor\":\"white\",\"linecolor\":\"white\",\"ticks\":\"\",\"title\":{\"standoff\":15},\"zerolinecolor\":\"white\",\"automargin\":true,\"zerolinewidth\":2},\"yaxis\":{\"gridcolor\":\"white\",\"linecolor\":\"white\",\"ticks\":\"\",\"title\":{\"standoff\":15},\"zerolinecolor\":\"white\",\"automargin\":true,\"zerolinewidth\":2},\"scene\":{\"xaxis\":{\"backgroundcolor\":\"#E5ECF6\",\"gridcolor\":\"white\",\"linecolor\":\"white\",\"showbackground\":true,\"ticks\":\"\",\"zerolinecolor\":\"white\",\"gridwidth\":2},\"yaxis\":{\"backgroundcolor\":\"#E5ECF6\",\"gridcolor\":\"white\",\"linecolor\":\"white\",\"showbackground\":true,\"ticks\":\"\",\"zerolinecolor\":\"white\",\"gridwidth\":2},\"zaxis\":{\"backgroundcolor\":\"#E5ECF6\",\"gridcolor\":\"white\",\"linecolor\":\"white\",\"showbackground\":true,\"ticks\":\"\",\"zerolinecolor\":\"white\",\"gridwidth\":2}},\"shapedefaults\":{\"line\":{\"color\":\"#2a3f5f\"}},\"annotationdefaults\":{\"arrowcolor\":\"#2a3f5f\",\"arrowhead\":0,\"arrowwidth\":1},\"geo\":{\"bgcolor\":\"white\",\"landcolor\":\"#E5ECF6\",\"subunitcolor\":\"white\",\"showland\":true,\"showlakes\":true,\"lakecolor\":\"white\"},\"title\":{\"x\":0.05},\"mapbox\":{\"style\":\"light\"}}},\"xaxis\":{\"anchor\":\"y\",\"domain\":[0.0,1.0],\"scaleanchor\":\"y\",\"constrain\":\"domain\"},\"yaxis\":{\"anchor\":\"x\",\"domain\":[0.0,1.0],\"autorange\":\"reversed\",\"constrain\":\"domain\"},\"coloraxis\":{\"colorbar\":{\"title\":{\"text\":\"Similarity Score\"}},\"colorscale\":[[0.0,\"rgb(247,252,240)\"],[0.125,\"rgb(224,243,219)\"],[0.25,\"rgb(204,235,197)\"],[0.375,\"rgb(168,221,181)\"],[0.5,\"rgb(123,204,196)\"],[0.625,\"rgb(78,179,211)\"],[0.75,\"rgb(43,140,190)\"],[0.875,\"rgb(8,104,172)\"],[1.0,\"rgb(8,64,129)\"]]},\"margin\":{\"t\":60},\"title\":{\"font\":{\"size\":22,\"color\":\"Black\"},\"text\":\"\\u003cb\\u003eSimilarity Matrix\\u003c\\u002fb\\u003e\",\"y\":0.95,\"x\":0.55,\"xanchor\":\"center\",\"yanchor\":\"top\"},\"hoverlabel\":{\"font\":{\"size\":16,\"family\":\"Rockwell\"},\"bgcolor\":\"white\"},\"width\":1000,\"height\":1000,\"showlegend\":true,\"legend\":{\"title\":{\"text\":\"Trend\"}}},                        {\"responsive\": true}                    ).then(function(){\n",
              "                            \n",
              "var gd = document.getElementById('2ff71175-19b8-488d-b5d9-d8a9863c4899');\n",
              "var x = new MutationObserver(function (mutations, observer) {{\n",
              "        var display = window.getComputedStyle(gd).display;\n",
              "        if (!display || display === 'none') {{\n",
              "            console.log([gd, 'removed!']);\n",
              "            Plotly.purge(gd);\n",
              "            observer.disconnect();\n",
              "        }}\n",
              "}});\n",
              "\n",
              "// Listen for the removal of the full notebook cells\n",
              "var notebookContainer = gd.closest('#notebook-container');\n",
              "if (notebookContainer) {{\n",
              "    x.observe(notebookContainer, {childList: true});\n",
              "}}\n",
              "\n",
              "// Listen for the clearing of the current output cell\n",
              "var outputEl = gd.closest('.output');\n",
              "if (outputEl) {{\n",
              "    x.observe(outputEl, {childList: true});\n",
              "}}\n",
              "\n",
              "                        })                };                            </script>        </div>\n",
              "</body>\n",
              "</html>"
            ]
          },
          "metadata": {},
          "output_type": "display_data"
        }
      ],
      "source": [
        "model.visualize_heatmap(n_clusters=5, width=1000, height=1000)"
      ]
    },
    {
      "cell_type": "markdown",
      "metadata": {
        "id": "NB7tGLtSFyFE"
      },
      "source": [
        "### **6.2 - 시계열 시각화**"
      ]
    },
    {
      "cell_type": "markdown",
      "metadata": {
        "id": "ksBt4xHLL9qf"
      },
      "source": [
        "tiemstamp를 넣어주면, 시기별로 토픽이 어떻게 변했는지도 시각화할 수 있습니다."
      ]
    },
    {
      "cell_type": "code",
      "execution_count": 38,
      "metadata": {
        "colab": {
          "base_uri": "https://localhost:8080/",
          "height": 485
        },
        "id": "U2kBcaGGbL-T",
        "outputId": "401d1d14-6eb9-4518-fc6f-8c97c2ff9227"
      },
      "outputs": [
        {
          "name": "stderr",
          "output_type": "stream",
          "text": [
            "30it [00:25,  1.15it/s]\n"
          ]
        },
        {
          "data": {
            "text/html": [
              "<html>\n",
              "<head><meta charset=\"utf-8\" /></head>\n",
              "<body>\n",
              "    <div>            <script src=\"https://cdnjs.cloudflare.com/ajax/libs/mathjax/2.7.5/MathJax.js?config=TeX-AMS-MML_SVG\"></script><script type=\"text/javascript\">if (window.MathJax && window.MathJax.Hub && window.MathJax.Hub.Config) {window.MathJax.Hub.Config({SVG: {font: \"STIX-Web\"}});}</script>                <script type=\"text/javascript\">window.PlotlyConfig = {MathJaxConfig: 'local'};</script>\n",
              "        <script charset=\"utf-8\" src=\"https://cdn.plot.ly/plotly-2.24.1.min.js\"></script>                <div id=\"de819cfc-158c-4ab0-8453-22c9ec738c0d\" class=\"plotly-graph-div\" style=\"height:450px; width:1250px;\"></div>            <script type=\"text/javascript\">                                    window.PLOTLYENV=window.PLOTLYENV || {};                                    if (document.getElementById(\"de819cfc-158c-4ab0-8453-22c9ec738c0d\")) {                    Plotly.newPlot(                        \"de819cfc-158c-4ab0-8453-22c9ec738c0d\",                        [{\"hoverinfo\":\"text\",\"hovertext\":[\"\\u003cb\\u003eTopic 0\\u003c\\u002fb\\u003e\\u003cbr\\u003eWords: \\ud0c8\\uc6d0\\uc804, \\ud0dc\\uc591\\uad11 \\ubc1c\\uc804, \\ub09c\\uac1c\\ubc1c, \\ud48d\\ub825 \\ubc1c\\uc804\",\"\\u003cb\\u003eTopic 0\\u003c\\u002fb\\u003e\\u003cbr\\u003eWords: \\ud48d\\ub825 \\ubc1c\\uc804, \\ubc8c\\ubaa9, \\ub09c\\uac1c\\ubc1c, \\ud0dc\\uc591\\uad11 \\ubc1c\\uc804\",\"\\u003cb\\u003eTopic 0\\u003c\\u002fb\\u003e\\u003cbr\\u003eWords: \\ube44\\ub9ac, \\ud0dc\\uc591\\uad11 \\ubc1c\\uc804, \\ub09c\\uac1c\\ubc1c, \\ud48d\\ub825 \\ubc1c\\uc804\",\"\\u003cb\\u003eTopic 0\\u003c\\u002fb\\u003e\\u003cbr\\u003eWords: \\ud0dc\\uc591\\uad11, \\ubcf4\\uc644\\ucc45, \\uc0b0\\uc0ac\\ud0dc, \\uae08\\uc9c0\",\"\\u003cb\\u003eTopic 0\\u003c\\u002fb\\u003e\\u003cbr\\u003eWords: \\uc804\\uc561, \\ub3c4\\ub355\\uc801 \\ud574\\uc774, \\ud0dc\\uc591\\uad11 \\ubc1c\\uc804, \\uae54\",\"\\u003cb\\u003eTopic 0\\u003c\\u002fb\\u003e\\u003cbr\\u003eWords: \\ud0dc\\uc591\\uad11\\ub3c4, \\uc218\\uc0c1, \\ub09c\\uac1c\\ubc1c, \\ud22c\\uae30\",\"\\u003cb\\u003eTopic 0\\u003c\\u002fb\\u003e\\u003cbr\\u003eWords: \\ud0dc\\uc591\\uad11, \\uc0b0\\ubd88, \\ud30c\\uc0b0, \\ud55c\\uc804\",\"\\u003cb\\u003eTopic 0\\u003c\\u002fb\\u003e\\u003cbr\\u003eWords: \\ub09c\\uac1c\\ubc1c, \\ube44\\ub9ac, \\ubc8c\\ubaa9, \\ud0dc\\uc591\\uad11 \\ubc1c\\uc804\",\"\\u003cb\\u003eTopic 0\\u003c\\u002fb\\u003e\\u003cbr\\u003eWords: \\ud611\\ub3d9\\uc870\\ud569, \\uc0ac\\uc5c5, \\ud0dc\\uc591\\uad11 \\ubc1c\\uc804, \\ub09c\\uac1c\\ubc1c\",\"\\u003cb\\u003eTopic 0\\u003c\\u002fb\\u003e\\u003cbr\\u003eWords: \\ud0c8\\uc6d0\\uc804, \\ud0dc\\uc591\\uad11 \\ubc1c\\uc804, \\ub09c\\uac1c\\ubc1c, \\ud48d\\ub825 \\ubc1c\\uc804\",\"\\u003cb\\u003eTopic 0\\u003c\\u002fb\\u003e\\u003cbr\\u003eWords: \\ubd95\\uad34, \\ud0dc\\uc591\\uad11 \\ubc1c\\uc804, \\ub09c\\uac1c\\ubc1c, \\ubc8c\\ubaa9\",\"\\u003cb\\u003eTopic 0\\u003c\\u002fb\\u003e\\u003cbr\\u003eWords: \\ube44\\ub9ac, \\ub09c\\uac1c\\ubc1c, \\ubc8c\\ubaa9, \\ud0dc\\uc591\\uad11 \\ubc1c\\uc804\",\"\\u003cb\\u003eTopic 0\\u003c\\u002fb\\u003e\\u003cbr\\u003eWords: \\ubb38\\ud654\\uc7ac, \\ub09c\\uac1c\\ubc1c, \\ud0dc\\uc591\\uad11 \\ubc1c\\uc804, \\ubc8c\\ubaa9\",\"\\u003cb\\u003eTopic 0\\u003c\\u002fb\\u003e\\u003cbr\\u003eWords: 3\\ub144, \\ud0dc\\uc591\\uad11 \\ubc1c\\uc804, \\ubc8c\\ubaa9, \\ub09c\\uac1c\\ubc1c\",\"\\u003cb\\u003eTopic 0\\u003c\\u002fb\\u003e\\u003cbr\\u003eWords: \\ud0dc\\uc591\\uad11 \\ubc1c\\uc804, \\ub09c\\uac1c\\ubc1c, \\ubc8c\\ubaa9, \\uc6d0\\uc804\",\"\\u003cb\\u003eTopic 0\\u003c\\u002fb\\u003e\\u003cbr\\u003eWords: \\ud48d\\ub825 \\ubc1c\\uc804, \\ud0dc\\uc591\\uad11, \\ubc8c\\ubaa9, \\ub09c\\uac1c\\ubc1c\",\"\\u003cb\\u003eTopic 0\\u003c\\u002fb\\u003e\\u003cbr\\u003eWords: \\uc0b0\\ub9bc\\uccad, \\ud0dc\\uc591\\uad11, \\ub09c\\uac1c\\ubc1c, \\ud48d\\ub825 \\ubc1c\\uc804\",\"\\u003cb\\u003eTopic 0\\u003c\\u002fb\\u003e\\u003cbr\\u003eWords: \\ud0dc\\uc591\\uad11, \\uc5b4\\ubbfc, \\uc0ac\\uc5c5, \\ub09c\\uac1c\\ubc1c\",\"\\u003cb\\u003eTopic 0\\u003c\\u002fb\\u003e\\u003cbr\\u003eWords: \\ud0dc\\uc591\\uad11, \\ubc15\\uc6d0\\uc21c, \\uc0ac\\uae30, \\ud45c\",\"\\u003cb\\u003eTopic 0\\u003c\\u002fb\\u003e\\u003cbr\\u003eWords: \\uaf34\\ucc0c, \\ube44\\ub9ac, \\ub09c\\uac1c\\ubc1c, \\ud0dc\\uc591\\uad11 \\ubc1c\\uc804\",\"\\u003cb\\u003eTopic 0\\u003c\\u002fb\\u003e\\u003cbr\\u003eWords: \\ud0dc\\uc591\\uad11, \\ubcf5\\ub9c8\\uc804, \\ub09c\\ub9e5\\uc0c1, \\uc81c\\ub3d9\",\"\\u003cb\\u003eTopic 0\\u003c\\u002fb\\u003e\\u003cbr\\u003eWords: \\ube44\\ub9ac, \\ub09c\\uac1c\\ubc1c, \\ud0dc\\uc591\\uad11 \\ubc1c\\uc804, \\ud48d\\ub825 \\ubc1c\\uc804\",\"\\u003cb\\u003eTopic 0\\u003c\\u002fb\\u003e\\u003cbr\\u003eWords: \\ud0dc\\uc591\\uad11, \\ube44\\ub9ac, \\ud574\\ub0a8, \\ubcf5\\ub9c8\\uc804\"],\"marker\":{\"color\":\"#E69F00\"},\"mode\":\"lines\",\"name\":\"0_\\ud0dc\\uc591\\uad11 \\ubc1c\\uc804_\\ub09c\\uac1c\\ubc1c_\\ubc8c\\ubaa9_\\ud48d\\ub825 \\ubc1c\\uc804\",\"x\":[\"2017-10-08T20:48:00\",\"2017-12-14T07:12:00\",\"2018-04-26T04:00:00\",\"2018-07-01T14:24:00\",\"2018-09-06T00:48:00\",\"2018-11-11T11:12:00\",\"2019-03-24T08:00:00\",\"2019-05-29T18:24:00\",\"2019-08-04T04:48:00\",\"2019-10-09T15:12:00\",\"2019-12-15T01:36:00\",\"2020-04-25T22:24:00\",\"2020-07-01T08:48:00\",\"2020-09-05T19:12:00\",\"2020-11-11T05:36:00\",\"2021-01-16T16:00:00\",\"2021-03-24T02:24:00\",\"2021-05-29T12:48:00\",\"2021-08-03T23:12:00\",\"2021-10-09T09:36:00\",\"2021-12-14T20:00:00\",\"2022-02-19T06:24:00\",\"2022-09-06T13:36:00\"],\"y\":[1,4,1,6,9,7,4,2,4,1,5,1,3,3,2,2,1,3,7,1,7,1,9],\"type\":\"scatter\"},{\"hoverinfo\":\"text\",\"hovertext\":[\"\\u003cb\\u003eTopic 1\\u003c\\u002fb\\u003e\\u003cbr\\u003eWords: \\uc6d4\\uc131, \\ud0c8\\uc6d0\\uc804, \\ubc94\\uc8c4, \\uac10\\uc0ac\\uc6d0\",\"\\u003cb\\u003eTopic 1\\u003c\\u002fb\\u003e\\u003cbr\\u003eWords: \\uc6d4\\uc131, \\uc218\\uc0ac, \\uac10\\uc0ac\\uc6d0, \\ubc30\\uc784\",\"\\u003cb\\u003eTopic 1\\u003c\\u002fb\\u003e\\u003cbr\\u003eWords: \\uc6d4\\uc131, \\ubc18\\ub860, \\uc0ac\\uc678\\uc774\\uc0ac, \\uacb0\\uc815\",\"\\u003cb\\u003eTopic 1\\u003c\\u002fb\\u003e\\u003cbr\\u003eWords: \\uc6d4\\uc131, \\uc218\\uc0ac, \\uacbd\\uc81c, \\uac10\\uc0ac\\uc6d0\",\"\\u003cb\\u003eTopic 1\\u003c\\u002fb\\u003e\\u003cbr\\u003eWords: \\uc6d4\\uc131, \\uc758\\ud639, \\uc218\\uc0ac, \\uac10\\uc0ac\\uc6d0\",\"\\u003cb\\u003eTopic 1\\u003c\\u002fb\\u003e\\u003cbr\\u003eWords: \\uc6d4\\uc131, \\uad70\\uc0ac, \\uacb0\\uc815, \\uc218\\uc0ac\",\"\\u003cb\\u003eTopic 1\\u003c\\u002fb\\u003e\\u003cbr\\u003eWords: \\uc6d4\\uc131, \\uc9c4\\uc0c1, \\uac10\\uc0ac\\uc6d0, \\uc218\\uc0ac\",\"\\u003cb\\u003eTopic 1\\u003c\\u002fb\\u003e\\u003cbr\\u003eWords: \\uc6d4\\uc131, \\uac10\\uc0ac\\uc6d0, \\uc218\\uc0ac, \\uc870\\uae30\",\"\\u003cb\\u003eTopic 1\\u003c\\u002fb\\u003e\\u003cbr\\u003eWords: \\uc6d4\\uc131, \\ud68c\\uc758, \\uc218\\uc0ac, \\uacbd\\uc81c\",\"\\u003cb\\u003eTopic 1\\u003c\\u002fb\\u003e\\u003cbr\\u003eWords: \\uac80\\ucc30, \\uac10\\uc0ac\\uc6d0, \\uc218\\uc0ac\\ubcf8\\ubd80, \\uc74c\\ubaa8\\ub860\",\"\\u003cb\\u003eTopic 1\\u003c\\u002fb\\u003e\\u003cbr\\u003eWords: \\uc6d4\\uc131, \\uc218\\uc0ac, \\ucd94\\ubbf8\\uc560, \\ud1b5\\uce58\\ud589\\uc704\",\"\\u003cb\\u003eTopic 1\\u003c\\u002fb\\u003e\\u003cbr\\u003eWords: \\uc6d4\\uc131, \\uc218\\uc0ac, \\uccad\\uc640\\ub300, \\uac10\\uc0ac\\uc6d0\",\"\\u003cb\\u003eTopic 1\\u003c\\u002fb\\u003e\\u003cbr\\u003eWords: \\ud3d0\\uc1c4, \\uc6d4\\uc131, \\uc758\\uacb0, \\uc218\\uc0ac\",\"\\u003cb\\u003eTopic 1\\u003c\\u002fb\\u003e\\u003cbr\\u003eWords: \\uae30\\uc18c, \\uc6d4\\uc131, \\uc18c\\uc1a1, \\uc218\\uc0ac\",\"\\u003cb\\u003eTopic 1\\u003c\\u002fb\\u003e\\u003cbr\\u003eWords: \\uc6d4\\uc131, \\uae30\\uc18c, \\uc804\\uc790 \\ubb38\\uc11c, \\uc720\\ucd9c\",\"\\u003cb\\u003eTopic 1\\u003c\\u002fb\\u003e\\u003cbr\\u003eWords: \\uc218\\uc11d, \\uc6d4\\uc131, \\uc218\\uc0ac, \\uc6d0\\uc804\",\"\\u003cb\\u003eTopic 1\\u003c\\u002fb\\u003e\\u003cbr\\u003eWords: \\uc218\\uc0ac, \\uc6d4\\uc131, \\uc6d0\\uc804, \\uac10\\uc0ac\\uc6d0\",\"\\u003cb\\u003eTopic 1\\u003c\\u002fb\\u003e\\u003cbr\\u003eWords: 4\\ub300\\uac15, \\uc6d4\\uc131, \\uc218\\uc0ac, \\uc6d0\\uc804\"],\"marker\":{\"color\":\"#56B4E9\"},\"mode\":\"lines\",\"name\":\"1_\\uc6d4\\uc131_\\uc218\\uc0ac_\\uac10\\uc0ac\\uc6d0_\\uc9c4\\uc0c1\",\"x\":[\"2017-05-27T00:10:04.800000\",\"2017-10-08T20:48:00\",\"2018-04-26T04:00:00\",\"2019-08-04T04:48:00\",\"2019-10-09T15:12:00\",\"2019-12-15T01:36:00\",\"2020-02-19T12:00:00\",\"2020-04-25T22:24:00\",\"2020-07-01T08:48:00\",\"2020-09-05T19:12:00\",\"2020-11-11T05:36:00\",\"2021-01-16T16:00:00\",\"2021-03-24T02:24:00\",\"2021-05-29T12:48:00\",\"2021-08-03T23:12:00\",\"2021-10-09T09:36:00\",\"2022-02-19T06:24:00\",\"2022-07-02T03:12:00\"],\"y\":[1,1,2,1,2,10,4,2,2,29,8,1,2,3,6,4,1,1],\"type\":\"scatter\"},{\"hoverinfo\":\"text\",\"hovertext\":[\"\\u003cb\\u003eTopic 2\\u003c\\u002fb\\u003e\\u003cbr\\u003eWords: \\uae30\\ud6c4, \\uac10\\ucd95, \\uc6d0\\uc804, \\ud504\\ub791\\uc2a4\",\"\\u003cb\\u003eTopic 2\\u003c\\u002fb\\u003e\\u003cbr\\u003eWords: \\ud504\\ub791\\uc2a4, \\uac10\\ucd95, \\uac00\\uc2a4, \\uc6d0\\uc804\",\"\\u003cb\\u003eTopic 2\\u003c\\u002fb\\u003e\\u003cbr\\u003eWords: \\uc6d0\\uc804, \\uac10\\ucd95, \\uac00\\uc2a4, \\ud504\\ub791\\uc2a4\",\"\\u003cb\\u003eTopic 2\\u003c\\u002fb\\u003e\\u003cbr\\u003eWords: \\uac10\\ucd95, \\uac00\\uc2a4, \\ud0c8\\uc6d0\\uc804, \\ud504\\ub791\\uc2a4\",\"\\u003cb\\u003eTopic 2\\u003c\\u002fb\\u003e\\u003cbr\\u003eWords: \\uac10\\ucd95, \\ud504\\ub791\\uc2a4, \\uc6d0\\uc804, \\ud0c8\\uc6d0\\uc804\",\"\\u003cb\\u003eTopic 2\\u003c\\u002fb\\u003e\\u003cbr\\u003eWords: \\uac10\\ucd95, \\uac00\\uc2a4, \\uc6d0\\uc804, \\ud504\\ub791\\uc2a4\",\"\\u003cb\\u003eTopic 2\\u003c\\u002fb\\u003e\\u003cbr\\u003eWords: \\uac10\\ucd95, \\uc6d0\\uc804, 20, \\ud504\\ub791\\uc2a4\",\"\\u003cb\\u003eTopic 2\\u003c\\u002fb\\u003e\\u003cbr\\u003eWords: 10\\ub144, \\uac10\\ucd95, \\ud0c8\\uc6d0\\uc804, \\ud504\\ub791\\uc2a4\",\"\\u003cb\\u003eTopic 2\\u003c\\u002fb\\u003e\\u003cbr\\u003eWords: \\uac10\\ucd95, \\ud504\\ub791\\uc2a4, \\ud0c8\\uc6d0\\uc804, \\uae30\\ud6c4\",\"\\u003cb\\u003eTopic 2\\u003c\\u002fb\\u003e\\u003cbr\\u003eWords: \\ud0c8\\uc6d0\\uc804, \\uac10\\ucd95, \\ud504\\ub791\\uc2a4, \\uc6d0\\uc804\",\"\\u003cb\\u003eTopic 2\\u003c\\u002fb\\u003e\\u003cbr\\u003eWords: \\ud0c4\\uc18c, \\uac00\\uc2a4, \\uac10\\ucd95, \\uc6d0\\uc804\",\"\\u003cb\\u003eTopic 2\\u003c\\u002fb\\u003e\\u003cbr\\u003eWords: \\ud0c4\\uc18c, \\ube4c \\uac8c\\uc774\\uce20, \\uac10\\ucd95, \\ud0c8\\uc6d0\\uc804\",\"\\u003cb\\u003eTopic 2\\u003c\\u002fb\\u003e\\u003cbr\\u003eWords: \\ud0c4\\uc18c, \\uac10\\ucd95, \\ud0c8\\uc6d0\\uc804, \\uc804\\uae30\",\"\\u003cb\\u003eTopic 2\\u003c\\u002fb\\u003e\\u003cbr\\u003eWords: \\ud0c4\\uc18c, \\uafc8\\uca4d, \\uac10\\ucd95, \\uac00\\uc2a4\",\"\\u003cb\\u003eTopic 2\\u003c\\u002fb\\u003e\\u003cbr\\u003eWords: \\ud0c4\\uc18c, \\uac10\\ucd95, \\ub9dd\\uc0c1, \\uc131\\uc7a5\",\"\\u003cb\\u003eTopic 2\\u003c\\u002fb\\u003e\\u003cbr\\u003eWords: \\uac10\\ucd95, \\ud5dd\\uac00\\ub9ac, \\ud0c4\\uc18c\\uc138, \\uc624\\ud310\",\"\\u003cb\\u003eTopic 2\\u003c\\u002fb\\u003e\\u003cbr\\u003eWords: \\ud0c4\\uc18c, \\uac10\\ucd95, \\uc5d0\\ub108\\uc9c0 \\uc815\\ucc45, \\ud0c8\\uc6d0\\uc804\",\"\\u003cb\\u003eTopic 2\\u003c\\u002fb\\u003e\\u003cbr\\u003eWords: \\uac10\\ucd95, \\uac00\\uc2a4, \\ud3d0\\uae30, \\ud0c8\\uc6d0\\uc804\",\"\\u003cb\\u003eTopic 2\\u003c\\u002fb\\u003e\\u003cbr\\u003eWords: \\uac10\\ucd95, 20, \\ud504\\ub791\\uc2a4, \\uc6d0\\uc804\"],\"marker\":{\"color\":\"#009E73\"},\"mode\":\"lines\",\"name\":\"2_\\uac10\\ucd95_\\ud504\\ub791\\uc2a4_\\ud0c8\\uc6d0\\uc804_\\uae30\\ud6c4\",\"x\":[\"2017-05-27T00:10:04.800000\",\"2017-10-08T20:48:00\",\"2017-12-14T07:12:00\",\"2018-04-26T04:00:00\",\"2018-07-01T14:24:00\",\"2018-09-06T00:48:00\",\"2019-03-24T08:00:00\",\"2019-10-09T15:12:00\",\"2019-12-15T01:36:00\",\"2020-09-05T19:12:00\",\"2020-11-11T05:36:00\",\"2021-01-16T16:00:00\",\"2021-03-24T02:24:00\",\"2021-05-29T12:48:00\",\"2021-08-03T23:12:00\",\"2021-10-09T09:36:00\",\"2021-12-14T20:00:00\",\"2022-02-19T06:24:00\",\"2022-09-06T13:36:00\"],\"y\":[1,2,2,1,1,1,3,3,1,1,5,2,4,7,8,18,4,6,1],\"type\":\"scatter\"},{\"hoverinfo\":\"text\",\"hovertext\":[\"\\u003cb\\u003eTopic 3\\u003c\\u002fb\\u003e\\u003cbr\\u003eWords: \\ud55c\\uc804, \\uc801\\uc790, \\ud0c8\\uc6d0\\uc804, \\uc804\\uae30\\ub8cc\",\"\\u003cb\\u003eTopic 3\\u003c\\u002fb\\u003e\\u003cbr\\u003eWords: \\ud55c\\uc804, \\uc801\\uc790, \\ubd80\\uc2e4, \\uacf5\\uae30\\uc5c5\",\"\\u003cb\\u003eTopic 3\\u003c\\u002fb\\u003e\\u003cbr\\u003eWords: \\uacf5\\uae30\\uc5c5, \\uc801\\uc790, \\ud55c\\uc804, \\uc6d0\\uac00\",\"\\u003cb\\u003eTopic 3\\u003c\\u002fb\\u003e\\u003cbr\\u003eWords: \\ud55c\\uc804, \\uc801\\uc790, \\uc0ac\\ub9bd\\ub300, \\ud0c8\\uc6d0\\uc804\",\"\\u003cb\\u003eTopic 3\\u003c\\u002fb\\u003e\\u003cbr\\u003eWords: \\ud55c\\uc804, \\uc8fc\\uc8fc, \\uc801\\uc790, \\ubd84\\ub178\",\"\\u003cb\\u003eTopic 3\\u003c\\u002fb\\u003e\\u003cbr\\u003eWords: \\ud55c\\uc804, \\uc6d0\\uac00, \\uc801\\uc790, \\uac70\\uc218\\uae30\",\"\\u003cb\\u003eTopic 3\\u003c\\u002fb\\u003e\\u003cbr\\u003eWords: \\ud55c\\uc804, \\uc790\\ud68c\\uc0ac, \\uc8c4\\uc9d3, \\uc801\\uc790\",\"\\u003cb\\u003eTopic 3\\u003c\\u002fb\\u003e\\u003cbr\\u003eWords: \\ud55c\\uc804, \\uc801\\uc790, \\uc804\\uae30\\ub8cc, \\uc8fc\\uc8fc\",\"\\u003cb\\u003eTopic 3\\u003c\\u002fb\\u003e\\u003cbr\\u003eWords: \\ud55c\\uc804, \\ud22c\\uc790, \\uc801\\uc790, \\uc6d0\\uac00\",\"\\u003cb\\u003eTopic 3\\u003c\\u002fb\\u003e\\u003cbr\\u003eWords: \\ud55c\\uc804, \\uc801\\uc790, \\uacf5\\uae30\\uc5c5, \\uc0b0\\uc5c5\",\"\\u003cb\\u003eTopic 3\\u003c\\u002fb\\u003e\\u003cbr\\u003eWords: \\ud55c\\uc804, \\uc6d0\\uac00, \\uc8fc\\uc8fc, \\ubd80\\uc2e4\",\"\\u003cb\\u003eTopic 3\\u003c\\u002fb\\u003e\\u003cbr\\u003eWords: \\ud55c\\uc804, \\uc801\\uc790, \\uc8fc\\uc8fc, \\uc804\\uae30\\ub8cc\",\"\\u003cb\\u003eTopic 3\\u003c\\u002fb\\u003e\\u003cbr\\u003eWords: \\ud55c\\uc804, \\uc801\\uc790, \\uc804\\uae30\\ub8cc, \\uc6d0\\uac00\",\"\\u003cb\\u003eTopic 3\\u003c\\u002fb\\u003e\\u003cbr\\u003eWords: \\ud55c\\uc804, 3\\uc6d4, \\uc801\\uc790, \\uc804\\uae30\\ub8cc\",\"\\u003cb\\u003eTopic 3\\u003c\\u002fb\\u003e\\u003cbr\\u003eWords: \\ud55c\\uc804, \\uc801\\uc790, \\uc544\\uc9d1, \\ub0a0\\ubcbc\\ub77d\",\"\\u003cb\\u003eTopic 3\\u003c\\u002fb\\u003e\\u003cbr\\u003eWords: \\ud55c\\uc804, \\uc801\\uc790, \\ud68c\\uc0dd, \\uc804\\uae30\\ub8cc\",\"\\u003cb\\u003eTopic 3\\u003c\\u002fb\\u003e\\u003cbr\\u003eWords: \\ub0c9\\ubc29, \\uc801\\uc790, \\ud55c\\uc804, \\uc804\\uae30\\ub8cc\",\"\\u003cb\\u003eTopic 3\\u003c\\u002fb\\u003e\\u003cbr\\u003eWords: \\ud55c\\uc804, \\uc0b0\\uc5c5\\uc740\\ud589, \\uc801\\uc790, \\ud0c8\\uc6d0\\uc804\"],\"marker\":{\"color\":\"#F0E442\"},\"mode\":\"lines\",\"name\":\"3_\\ud55c\\uc804_\\uc801\\uc790_\\uc6d0\\uac00_\\uc804\\uae30\\ub8cc\",\"x\":[\"2017-10-08T20:48:00\",\"2018-07-01T14:24:00\",\"2018-09-06T00:48:00\",\"2019-01-16T21:36:00\",\"2019-03-24T08:00:00\",\"2019-05-29T18:24:00\",\"2019-08-04T04:48:00\",\"2019-10-09T15:12:00\",\"2019-12-15T01:36:00\",\"2020-02-19T12:00:00\",\"2021-01-16T16:00:00\",\"2021-05-29T12:48:00\",\"2021-08-03T23:12:00\",\"2021-12-14T20:00:00\",\"2022-02-19T06:24:00\",\"2022-04-26T16:48:00\",\"2022-07-02T03:12:00\",\"2022-09-06T13:36:00\"],\"y\":[1,6,1,5,7,8,6,3,2,4,2,1,2,3,6,8,2,3],\"type\":\"scatter\"},{\"hoverinfo\":\"text\",\"hovertext\":[\"\\u003cb\\u003eTopic 4\\u003c\\u002fb\\u003e\\u003cbr\\u003eWords: \\uacf5\\uae30\\uc5c5, \\uacf5\\uacf5\\uae30\\uad00 \\ubd80\\ucc44, \\ubd80\\uc2e4, \\uc7ac\\uc815\",\"\\u003cb\\u003eTopic 4\\u003c\\u002fb\\u003e\\u003cbr\\u003eWords: \\uc778\\uc7ac, \\uac1c\\ud601, \\uacf5\\uacf5\\uae30\\uad00 \\ubd80\\ucc44, \\ubd80\\uc2e4\",\"\\u003cb\\u003eTopic 4\\u003c\\u002fb\\u003e\\u003cbr\\u003eWords: \\ubd88\\uade0\\ud615, \\uacf5\\uacf5\\uae30\\uad00 \\ubd80\\ucc44, \\ubd80\\uc2e4, \\uc7ac\\uc815\",\"\\u003cb\\u003eTopic 4\\u003c\\u002fb\\u003e\\u003cbr\\u003eWords: \\uacf5\\uae30\\uc5c5, \\uacf5\\uacf5\\uae30\\uad00 \\ubd80\\ucc44, \\uace0\\uc6a9, \\ubd80\\uc2e4\",\"\\u003cb\\u003eTopic 4\\u003c\\u002fb\\u003e\\u003cbr\\u003eWords: \\uc801\\uc790, \\uacf5\\uacf5\\uae30\\uad00 \\ubd80\\ucc44, \\ubd80\\uc2e4, \\uc7ac\\uc815\",\"\\u003cb\\u003eTopic 4\\u003c\\u002fb\\u003e\\u003cbr\\u003eWords: \\uacf5\\uae30\\uc5c5, \\ubd80\\uc2e4, \\uacf5\\uacf5\\uae30\\uad00 \\ubd80\\ucc44, \\uc801\\uc790\",\"\\u003cb\\u003eTopic 4\\u003c\\u002fb\\u003e\\u003cbr\\u003eWords: \\ud574\\uace0, \\uacf5\\uacf5\\uae30\\uad00 \\ubd80\\ucc44, \\ubd80\\uc2e4, \\uc7ac\\uc815\",\"\\u003cb\\u003eTopic 4\\u003c\\u002fb\\u003e\\u003cbr\\u003eWords: \\uc7ac\\uc815, \\uacf5\\uacf5\\uae30\\uad00 \\ubd80\\ucc44, \\uacf5\\uae30\\uc5c5, \\ubd80\\uc2e4\",\"\\u003cb\\u003eTopic 4\\u003c\\u002fb\\u003e\\u003cbr\\u003eWords: \\uacf5\\uae30\\uc5c5, \\uacf5\\uacf5\\uae30\\uad00 \\ubd80\\ucc44, \\ubd80\\uc2e4, \\uc801\\uc790\",\"\\u003cb\\u003eTopic 4\\u003c\\u002fb\\u003e\\u003cbr\\u003eWords: \\uc7ac\\uc815, \\uacf5\\uae30\\uc5c5, \\uac1c\\ud601, \\uacf5\\uacf5\\uae30\\uad00 \\ubd80\\ucc44\",\"\\u003cb\\u003eTopic 4\\u003c\\u002fb\\u003e\\u003cbr\\u003eWords: \\uacf5\\uae30\\uc5c5, \\uad6c\\uc870\\uc870\\uc815, \\uc801\\uc790, \\uacf5\\uacf5\\uae30\\uad00 \\ubd80\\ucc44\",\"\\u003cb\\u003eTopic 4\\u003c\\u002fb\\u003e\\u003cbr\\u003eWords: \\uacf5\\uae30\\uc5c5, \\ucf54\\ub85c\\ub098, \\uacf5\\uacf5\\uae30\\uad00 \\ubd80\\ucc44, \\uc801\\uc790\",\"\\u003cb\\u003eTopic 4\\u003c\\u002fb\\u003e\\u003cbr\\u003eWords: \\uacf5\\uae30\\uc5c5, \\uacf5\\uacf5\\uae30\\uad00 \\ubd80\\ucc44, \\ubd80\\uc2e4, \\uc7ac\\uc815\",\"\\u003cb\\u003eTopic 4\\u003c\\u002fb\\u003e\\u003cbr\\u003eWords: \\ube5a\\ub354\\ubbf8, \\uacf5\\uae30\\uc5c5, \\uacf5\\uacf5\\uae30\\uad00 \\ubd80\\ucc44, \\ubd80\\uc2e4\",\"\\u003cb\\u003eTopic 4\\u003c\\u002fb\\u003e\\u003cbr\\u003eWords: \\uacf5\\uae30\\uc5c5, \\uac1c\\ud601, \\uacf5\\uacf5\\uae30\\uad00 \\ubd80\\ucc44, \\ubd80\\uc2e4\",\"\\u003cb\\u003eTopic 4\\u003c\\u002fb\\u003e\\u003cbr\\u003eWords: \\uacf5\\uae30\\uc5c5, \\uacf5\\uacf5\\uae30\\uad00 \\ubd80\\ucc44, \\uc801\\uc790, \\uc7ac\\uc815\",\"\\u003cb\\u003eTopic 4\\u003c\\u002fb\\u003e\\u003cbr\\u003eWords: \\uacf5\\uae30\\uc5c5, \\uac1c\\ud601, \\uacf5\\uacf5\\uae30\\uad00 \\ubd80\\ucc44, \\ubd80\\uc2e4\",\"\\u003cb\\u003eTopic 4\\u003c\\u002fb\\u003e\\u003cbr\\u003eWords: \\uacf5\\uae30\\uc5c5, \\uc9d1\\uac12, \\ubd80\\uc2e4, \\uc138\\uae08\",\"\\u003cb\\u003eTopic 4\\u003c\\u002fb\\u003e\\u003cbr\\u003eWords: \\uacf5\\uae30\\uc5c5, \\uac1c\\ud601, \\uacf5\\uacf5\\uae30\\uad00 \\ubd80\\ucc44, \\ubd80\\uc2e4\",\"\\u003cb\\u003eTopic 4\\u003c\\u002fb\\u003e\\u003cbr\\u003eWords: \\uc785\\ubc95, \\uacf5\\uae30\\uc5c5, \\uacf5\\uacf5\\uae30\\uad00 \\ubd80\\ucc44, \\uc801\\uc790\",\"\\u003cb\\u003eTopic 4\\u003c\\u002fb\\u003e\\u003cbr\\u003eWords: \\uacf5\\uae30\\uc5c5, \\ubd80\\uc2e4, \\uacf5\\uacf5\\uae30\\uad00 \\ubd80\\ucc44, \\uc7ac\\uc815\",\"\\u003cb\\u003eTopic 4\\u003c\\u002fb\\u003e\\u003cbr\\u003eWords: \\uac1c\\ud601, \\uacf5\\uae30\\uc5c5, \\uc7ac\\uc815, \\uadfc\\uc808\",\"\\u003cb\\u003eTopic 4\\u003c\\u002fb\\u003e\\u003cbr\\u003eWords: \\uacf5\\uae30\\uc5c5, \\uac1c\\ud601, \\uacf5\\uacf5\\uae30\\uad00 \\ubd80\\ucc44, \\ubd80\\uc2e4\"],\"marker\":{\"color\":\"#D55E00\"},\"mode\":\"lines\",\"name\":\"4_\\uacf5\\uae30\\uc5c5_\\uac1c\\ud601_\\uacf5\\uacf5\\uae30\\uad00 \\ubd80\\ucc44_\\ubd80\\uc2e4\",\"x\":[\"2017-05-27T00:10:04.800000\",\"2017-10-08T20:48:00\",\"2018-07-01T14:24:00\",\"2018-09-06T00:48:00\",\"2019-01-16T21:36:00\",\"2019-03-24T08:00:00\",\"2019-05-29T18:24:00\",\"2019-08-04T04:48:00\",\"2019-10-09T15:12:00\",\"2019-12-15T01:36:00\",\"2020-02-19T12:00:00\",\"2020-04-25T22:24:00\",\"2020-09-05T19:12:00\",\"2020-11-11T05:36:00\",\"2021-01-16T16:00:00\",\"2021-03-24T02:24:00\",\"2021-05-29T12:48:00\",\"2021-08-03T23:12:00\",\"2021-10-09T09:36:00\",\"2021-12-14T20:00:00\",\"2022-02-19T06:24:00\",\"2022-04-26T16:48:00\",\"2022-09-06T13:36:00\"],\"y\":[1,2,1,4,1,11,2,2,2,4,3,3,1,1,2,3,2,7,1,2,3,10,1],\"type\":\"scatter\"},{\"hoverinfo\":\"text\",\"hovertext\":[\"\\u003cb\\u003eTopic 5\\u003c\\u002fb\\u003e\\u003cbr\\u003eWords: \\uace0\\ub9ac, \\uc911\\ub2e8, \\uacf5\\uc0ac, \\ubc30\",\"\\u003cb\\u003eTopic 5\\u003c\\u002fb\\u003e\\u003cbr\\u003eWords: \\ubc95\\ub960\\uc790\\ubb38, \\ubd81, \\uc704\\uc6d0\\ud68c, \\ubd84\\uc5f4\",\"\\u003cb\\u003eTopic 5\\u003c\\u002fb\\u003e\\u003cbr\\u003eWords: \\uac08\\ub4f1, \\uad6d\\ub860, \\uad8c\\uace0, \\uc704\\uc6d0\\ud68c\",\"\\u003cb\\u003eTopic 5\\u003c\\u002fb\\u003e\\u003cbr\\u003eWords: \\uac08\\ub4f1, \\uacf5\\uc0ac, \\ubc30, \\uc704\\uc6d0\\ud68c\",\"\\u003cb\\u003eTopic 5\\u003c\\u002fb\\u003e\\u003cbr\\u003eWords: \\uc6d0\\uc804, \\uac08\\ub4f1, \\uc790\\uc81c, \\uacf5\\uc0ac\",\"\\u003cb\\u003eTopic 5\\u003c\\u002fb\\u003e\\u003cbr\\u003eWords: \\uc758\\ud639, \\uad6d\\ub860, \\uac08\\ub4f1, \\uacf5\\uc0ac\",\"\\u003cb\\u003eTopic 5\\u003c\\u002fb\\u003e\\u003cbr\\u003eWords: \\uba54\\uac08\\ub9ac\\uc544, \\ubcf4\\ub3c4, \\uac74\\uc124, \\uac08\\ub4f1\",\"\\u003cb\\u003eTopic 5\\u003c\\u002fb\\u003e\\u003cbr\\u003eWords: \\ub2e4\\ub9ac, \\uada4\\ubcc0, \\uc815\\uc7c1, \\uc6d0\\uc804\",\"\\u003cb\\u003eTopic 5\\u003c\\u002fb\\u003e\\u003cbr\\u003eWords: \\uc5b8\\ub860, \\uace0\\ub9ac, \\uc6d0\\uc804, \\uac08\\ub4f1\"],\"marker\":{\"color\":\"#0072B2\"},\"mode\":\"lines\",\"name\":\"5_\\uac08\\ub4f1_\\uacf5\\uc0ac_\\ubc30_\\uc704\\uc6d0\\ud68c\",\"x\":[\"2017-05-27T00:10:04.800000\",\"2017-08-03T10:24:00\",\"2017-10-08T20:48:00\",\"2017-12-14T07:12:00\",\"2018-11-11T11:12:00\",\"2019-08-04T04:48:00\",\"2020-07-01T08:48:00\",\"2021-01-16T16:00:00\",\"2022-02-19T06:24:00\"],\"y\":[24,10,16,1,1,1,1,5,1],\"type\":\"scatter\"},{\"hoverinfo\":\"text\",\"hovertext\":[\"\\u003cb\\u003eTopic 6\\u003c\\u002fb\\u003e\\u003cbr\\u003eWords: \\uac10\\uc0ac\\uc6d0, \\uc218\\uc0ac, \\ucd5c\\uc7ac\\ud615, \\uad8c\\ub825\",\"\\u003cb\\u003eTopic 6\\u003c\\u002fb\\u003e\\u003cbr\\u003eWords: \\ucc98\\ubc8c, \\uac10\\uc0ac\\uc6d0, \\ud5cc\\ubc95, \\ucd5c\\uc7ac\\ud615\",\"\\u003cb\\u003eTopic 6\\u003c\\u002fb\\u003e\\u003cbr\\u003eWords: \\uac10\\uc0ac\\uc6d0, \\ucd5c\\uc7ac\\ud615, \\uc0ac\\uc644, \\uad8c\\ub825\",\"\\u003cb\\u003eTopic 6\\u003c\\u002fb\\u003e\\u003cbr\\u003eWords: \\uc6b4\\ub3d9\\uad8c, \\ubcf4\\uc774\\uc9c0 \\uc54a\\ub294 \\uc190, \\uc218\\uc0ac, \\uac10\\uc0ac\\uc6d0\",\"\\u003cb\\u003eTopic 6\\u003c\\u002fb\\u003e\\u003cbr\\u003eWords: \\uc9c1\\uad8c\\ub0a8\\uc6a9\\uc8c4, \\ud5cc\\ubc95, \\uac10\\uc0ac\\uc6d0, \\uc0ac\\uc644\",\"\\u003cb\\u003eTopic 6\\u003c\\u002fb\\u003e\\u003cbr\\u003eWords: \\ucc38\\uc5ec\\uc5f0\\ub300, \\uc870\\uad6d, \\uac10\\uc0ac\\uc6d0, \\ucd5c\\uc7ac\\ud615\",\"\\u003cb\\u003eTopic 6\\u003c\\u002fb\\u003e\\u003cbr\\u003eWords: \\uac10\\uc0ac\\uc6d0, \\ud070 \\uc815\\ubd80, \\uc218\\uc0ac, \\ucd5c\\uc7ac\\ud615\",\"\\u003cb\\u003eTopic 6\\u003c\\u002fb\\u003e\\u003cbr\\u003eWords: \\uac10\\uc0ac\\uc6d0, \\ucd5c\\uc7ac\\ud615, \\uac80\\ucc30, \\uc724\\uc11d\\uc5f4\",\"\\u003cb\\u003eTopic 6\\u003c\\u002fb\\u003e\\u003cbr\\u003eWords: \\uac10\\uc0ac\\uc6d0, \\ucd5c\\uc7ac\\ud615, \\uc218\\uc0ac, \\uad8c\\ub825\",\"\\u003cb\\u003eTopic 6\\u003c\\u002fb\\u003e\\u003cbr\\u003eWords: \\uac10\\uc0ac\\uc6d0, \\uc0ac\\uad8c, \\ud5cc\\ubc95, \\uc784\\uc885\\uc11d\",\"\\u003cb\\u003eTopic 6\\u003c\\u002fb\\u003e\\u003cbr\\u003eWords: \\uc218\\uc0ac, \\ubbfc\\uc8fc\\ub2f9, \\uac10\\uc0ac\\uc6d0, \\ucd5c\\uc7ac\\ud615\",\"\\u003cb\\u003eTopic 6\\u003c\\u002fb\\u003e\\u003cbr\\u003eWords: \\uc218\\uc0ac, \\uad8c\\ub825, \\uac10\\uc0ac\\uc6d0, \\uc0ac\\uc644\",\"\\u003cb\\u003eTopic 6\\u003c\\u002fb\\u003e\\u003cbr\\u003eWords: \\ucd5c\\uc7ac\\ud615, \\ub300\\ubc95\\uc6d0, \\uac10\\uc0ac\\uc6d0, \\ud5cc\\ubc95\",\"\\u003cb\\u003eTopic 6\\u003c\\u002fb\\u003e\\u003cbr\\u003eWords: \\uac10\\uc0ac\\uc6d0, \\ucd5c\\uc7ac\\ud615, \\uc0ac\\uc644, \\uad8c\\ub825\",\"\\u003cb\\u003eTopic 6\\u003c\\u002fb\\u003e\\u003cbr\\u003eWords: \\ud30c\\ub834\\uce58, \\uac10\\uc0ac\\uc6d0, \\ucd5c\\uc7ac\\ud615, \\uc0ac\\uc644\",\"\\u003cb\\u003eTopic 6\\u003c\\u002fb\\u003e\\u003cbr\\u003eWords: \\uac10\\uc0ac\\uc6d0, \\uc218\\uc0ac, \\ucd5c\\uc7ac\\ud615, \\uad8c\\ub825\",\"\\u003cb\\u003eTopic 6\\u003c\\u002fb\\u003e\\u003cbr\\u003eWords: \\uac10\\uc0ac\\uc6d0, \\ud0c4\\ud575, \\ud2b9\\uac80, \\ucd5c\\uc7ac\\ud615\",\"\\u003cb\\u003eTopic 6\\u003c\\u002fb\\u003e\\u003cbr\\u003eWords: \\uac10\\uc0ac\\uc6d0, \\ud2b9\\uac10, \\ubc95\\uc548, \\uada4\\ubcc0\"],\"marker\":{\"color\":\"#CC79A7\"},\"mode\":\"lines\",\"name\":\"6_\\uac10\\uc0ac\\uc6d0_\\ucd5c\\uc7ac\\ud615_\\ubbfc\\uc8fc\\ub2f9_\\uad8c\\ub825\",\"x\":[\"2018-02-18T17:36:00\",\"2018-09-06T00:48:00\",\"2018-11-11T11:12:00\",\"2019-03-24T08:00:00\",\"2019-05-29T18:24:00\",\"2019-08-04T04:48:00\",\"2020-04-25T22:24:00\",\"2020-07-01T08:48:00\",\"2020-09-05T19:12:00\",\"2020-11-11T05:36:00\",\"2021-01-16T16:00:00\",\"2021-03-24T02:24:00\",\"2021-05-29T12:48:00\",\"2021-10-09T09:36:00\",\"2021-12-14T20:00:00\",\"2022-02-19T06:24:00\",\"2022-07-02T03:12:00\",\"2022-09-06T13:36:00\"],\"y\":[1,1,1,2,3,1,4,4,2,6,2,2,4,2,2,2,4,12],\"type\":\"scatter\"},{\"hoverinfo\":\"text\",\"hovertext\":[\"\\u003cb\\u003eTopic 7\\u003c\\u002fb\\u003e\\u003cbr\\u003eWords: \\ubd80\\ucd1d\\ub9ac, \\uacbd\\uc81c, \\uc704\\uae30, \\uc624\\uc77c\",\"\\u003cb\\u003eTopic 7\\u003c\\u002fb\\u003e\\u003cbr\\u003eWords: \\uacbd\\uc81c, \\uac1c\\ud601, \\uc815\\ubd80, \\uc704\\uae30\",\"\\u003cb\\u003eTopic 7\\u003c\\u002fb\\u003e\\u003cbr\\u003eWords: \\uacbd\\uc81c, \\uc704\\uae30, \\ub300\\uae30\\uc5c5, \\uc1fc\\ud06c\",\"\\u003cb\\u003eTopic 7\\u003c\\u002fb\\u003e\\u003cbr\\u003eWords: \\uacbd\\uc81c, \\uc704\\uae30, \\ub300\\uae30\\uc5c5, \\uc1fc\\ud06c\",\"\\u003cb\\u003eTopic 7\\u003c\\u002fb\\u003e\\u003cbr\\u003eWords: \\ucde8\\uc784, \\uacbd\\uc81c, \\uc704\\uae30, \\ub300\\uae30\\uc5c5\",\"\\u003cb\\u003eTopic 7\\u003c\\u002fb\\u003e\\u003cbr\\u003eWords: \\uacbd\\uc81c, \\uc704\\uae30, \\ub300\\uae30\\uc5c5, \\uc624\\uc77c\",\"\\u003cb\\u003eTopic 7\\u003c\\u002fb\\u003e\\u003cbr\\u003eWords: \\uacbd\\uc81c \\uc815\\ucc45, \\ud558\\uac15, \\ud1b5\\uacc4\\uccad, \\uacbd\\uc81c\",\"\\u003cb\\u003eTopic 7\\u003c\\u002fb\\u003e\\u003cbr\\u003eWords: \\uac15\\ub4f1, \\uacbd\\uc81c, \\uc704\\uae30, \\uc1fc\\ud06c\",\"\\u003cb\\u003eTopic 7\\u003c\\u002fb\\u003e\\u003cbr\\u003eWords: \\ubd80, \\uacbd\\uc81c, \\uc704\\uae30, \\uac15\\ub4f1\",\"\\u003cb\\u003eTopic 7\\u003c\\u002fb\\u003e\\u003cbr\\u003eWords: \\ub300\\uae30\\uc5c5, \\uc704\\uae30, \\uacbd\\uc81c, \\uc1fc\\ud06c\",\"\\u003cb\\u003eTopic 7\\u003c\\u002fb\\u003e\\u003cbr\\u003eWords: \\ub35c, \\uacbd\\uc81c, \\uc704\\uae30, \\ub300\\uae30\\uc5c5\",\"\\u003cb\\u003eTopic 7\\u003c\\u002fb\\u003e\\u003cbr\\u003eWords: \\uacbd\\uc81c, \\uc218\\uc11d, \\ube44\\ud310, \\uc704\\uae30\",\"\\u003cb\\u003eTopic 7\\u003c\\u002fb\\u003e\\u003cbr\\u003eWords: \\uacbd\\uc81c, \\uc704\\uae30, \\ub300\\uae30\\uc5c5, \\uc1fc\\ud06c\",\"\\u003cb\\u003eTopic 7\\u003c\\u002fb\\u003e\\u003cbr\\u003eWords: \\uacbd\\uc81c, \\uc2e4\\uc5c5, \\ub300\\uae30\\uc5c5, \\uac10\\uc6d0\",\"\\u003cb\\u003eTopic 7\\u003c\\u002fb\\u003e\\u003cbr\\u003eWords: \\uad6c\\uc870\\uc870\\uc815, \\uacbd\\uc81c, \\ucd5c\\uc545, \\uc704\\uae30\",\"\\u003cb\\u003eTopic 7\\u003c\\u002fb\\u003e\\u003cbr\\u003eWords: \\ucd5c\\uc800, \\uacbd\\uc81c, \\uc704\\uae30, \\uac15\\ub4f1\",\"\\u003cb\\u003eTopic 7\\u003c\\u002fb\\u003e\\u003cbr\\u003eWords: \\uacbd\\uc81c\\ud559, \\ub099\\uc81c\\uc810, \\uad50\\uacfc\\uc11c, \\uacbd\\uc81c\",\"\\u003cb\\u003eTopic 7\\u003c\\u002fb\\u003e\\u003cbr\\u003eWords: \\uad6d\\uac00 \\ubd80\\ub3c4, \\uc774\\uc7ac\\uba85, \\uacbd\\uc81c, \\uac15\\ub4f1\",\"\\u003cb\\u003eTopic 7\\u003c\\u002fb\\u003e\\u003cbr\\u003eWords: \\ubb34\\uc5ed\\uc218\\uc9c0, \\uc801\\uc790, \\uacbd\\uc81c, \\ub300\\uae30\\uc5c5\",\"\\u003cb\\u003eTopic 7\\u003c\\u002fb\\u003e\\u003cbr\\u003eWords: \\uc1fc\\ud06c, \\uc2a4\\ud0dc\\uadf8\\ud50c\\ub808\\uc774\\uc158, \\uacbd\\uc81c, \\uc704\\uae30\",\"\\u003cb\\u003eTopic 7\\u003c\\u002fb\\u003e\\u003cbr\\u003eWords: \\uc2dd\\ub7c9, \\uacbd\\uc81c, \\ub300\\uae30\\uc5c5, \\uac15\\ub4f1\",\"\\u003cb\\u003eTopic 7\\u003c\\u002fb\\u003e\\u003cbr\\u003eWords: \\uce68\\uccb4, \\uacbd\\uc81c, \\uc704\\uae30, \\ub300\\uae30\\uc5c5\"],\"marker\":{\"color\":\"#E69F00\"},\"mode\":\"lines\",\"name\":\"7_\\uacbd\\uc81c_\\uc704\\uae30_\\uc1fc\\ud06c_\\uc2a4\\ud0dc\\uadf8\\ud50c\\ub808\\uc774\\uc158\",\"x\":[\"2017-05-27T00:10:04.800000\",\"2017-08-03T10:24:00\",\"2017-10-08T20:48:00\",\"2018-04-26T04:00:00\",\"2018-07-01T14:24:00\",\"2018-09-06T00:48:00\",\"2018-11-11T11:12:00\",\"2019-01-16T21:36:00\",\"2019-03-24T08:00:00\",\"2019-05-29T18:24:00\",\"2019-08-04T04:48:00\",\"2019-10-09T15:12:00\",\"2019-12-15T01:36:00\",\"2020-02-19T12:00:00\",\"2020-04-25T22:24:00\",\"2021-01-16T16:00:00\",\"2021-03-24T02:24:00\",\"2021-10-09T09:36:00\",\"2021-12-14T20:00:00\",\"2022-02-19T06:24:00\",\"2022-04-26T16:48:00\",\"2022-09-06T13:36:00\"],\"y\":[2,4,1,1,1,1,4,3,3,1,1,4,1,7,4,2,4,2,2,3,2,1],\"type\":\"scatter\"},{\"hoverinfo\":\"text\",\"hovertext\":[\"\\u003cb\\u003eTopic 8\\u003c\\u002fb\\u003e\\u003cbr\\u003eWords: \\uac08\\ud321\\uc9c8\\ud321, \\ud0c8\\uc6d0\\uc804, \\uc7ac\\uac80\\ud1a0, \\ucc3d\\uc6d0\\uc2dc\",\"\\u003cb\\u003eTopic 8\\u003c\\u002fb\\u003e\\u003cbr\\u003eWords: \\ud658\\uacbd\\ub860\\uc790, \\ud0c8\\uc6d0\\uc804, \\uace0\\uc5b8, \\uc6d0\\uc804\",\"\\u003cb\\u003eTopic 8\\u003c\\u002fb\\u003e\\u003cbr\\u003eWords: \\ud0c8\\uc6d0\\uc804, \\ucc3d\\uc6d0\\uc2dc, \\uc1a1\\uc601\\uae38, \\ud3d0\\uc9c0\",\"\\u003cb\\u003eTopic 8\\u003c\\u002fb\\u003e\\u003cbr\\u003eWords: \\ub2a6\\uae30 \\uc804\\uc5d0, \\ucc2c\\uc131, \\ud0c8\\uc6d0\\uc804, \\ud3d0\\uae30\",\"\\u003cb\\u003eTopic 8\\u003c\\u002fb\\u003e\\u003cbr\\u003eWords: \\ucc3d\\uc6d0\\uc2dc, \\ub2a6\\uae30 \\uc804\\uc5d0, \\ud0c8\\uc6d0\\uc804, \\uc1a1\\uc601\\uae38\",\"\\u003cb\\u003eTopic 8\\u003c\\u002fb\\u003e\\u003cbr\\u003eWords: \\ud0c8\\uc6d0\\uc804, \\ubbf8\\uc138\\uba3c\\uc9c0, \\ucc3d\\uc6d0\\uc2dc, \\uc1a1\\uc601\\uae38\",\"\\u003cb\\u003eTopic 8\\u003c\\u002fb\\u003e\\u003cbr\\u003eWords: \\ubbf8\\ubd09\\ucc45, \\ud0c8\\uc6d0\\uc804, \\ucc2c\\uc131, \\ud3d0\\uc9c0\",\"\\u003cb\\u003eTopic 8\\u003c\\u002fb\\u003e\\u003cbr\\u003eWords: \\ud0c8\\uc6d0\\uc804, \\ucc3d\\uc6d0\\uc2dc, \\uc1a1\\uc601\\uae38, \\ud3d0\\uc9c0\",\"\\u003cb\\u003eTopic 8\\u003c\\u002fb\\u003e\\u003cbr\\u003eWords: \\ud0c8\\uc6d0\\uc804, \\ucc3d\\uc6d0\\uc2dc, \\ucc2c\\uc131, \\ud3d0\\uc9c0\",\"\\u003cb\\u003eTopic 8\\u003c\\u002fb\\u003e\\u003cbr\\u003eWords: \\uc1a1\\uc601\\uae38, \\ud0c8\\uc6d0\\uc804, \\ub2a6\\uae30 \\uc804\\uc5d0, \\uc6d0\\uc804\",\"\\u003cb\\u003eTopic 8\\u003c\\u002fb\\u003e\\u003cbr\\u003eWords: \\uc790\\ud574, \\ud3d0\\uae30, \\ud0c8\\uc6d0\\uc804, \\ub2a6\\uae30 \\uc804\\uc5d0\",\"\\u003cb\\u003eTopic 8\\u003c\\u002fb\\u003e\\u003cbr\\u003eWords: \\ud3d0\\uc9c0, \\ud0c8\\uc6d0\\uc804, \\ucc3d\\uc6d0\\uc2dc, \\uc1a1\\uc601\\uae38\",\"\\u003cb\\u003eTopic 8\\u003c\\u002fb\\u003e\\u003cbr\\u003eWords: \\uae30\\ubcf8\\uc18c\\ub4dd, \\ud0c8\\uc6d0\\uc804, \\uc1a1\\uc601\\uae38, \\ud3d0\\uc9c0\",\"\\u003cb\\u003eTopic 8\\u003c\\u002fb\\u003e\\u003cbr\\u003eWords: \\uc0b0\\uc5c5\\ubd80, \\ud0c8\\uc6d0\\uc804, \\ud3d0\\uae30, \\ucc3d\\uc6d0\\uc2dc\",\"\\u003cb\\u003eTopic 8\\u003c\\u002fb\\u003e\\u003cbr\\u003eWords: \\ud0c8\\uc6d0\\uc804, \\ud3d0\\uae30, \\ucc3d\\uc6d0\\uc2dc, \\ucc2c\\uc131\",\"\\u003cb\\u003eTopic 8\\u003c\\u002fb\\u003e\\u003cbr\\u003eWords: \\ud0c8\\uc6d0\\uc804, \\uc1a1\\uc601\\uae38, \\ub2a6\\uae30 \\uc804\\uc5d0, \\ud3d0\\uc9c0\"],\"marker\":{\"color\":\"#56B4E9\"},\"mode\":\"lines\",\"name\":\"8_\\ud0c8\\uc6d0\\uc804_\\ucc3d\\uc6d0\\uc2dc_\\uc1a1\\uc601\\uae38_\\ud3d0\\uc9c0\",\"x\":[\"2017-05-27T00:10:04.800000\",\"2017-10-08T20:48:00\",\"2017-12-14T07:12:00\",\"2018-07-01T14:24:00\",\"2018-11-11T11:12:00\",\"2019-01-16T21:36:00\",\"2019-08-04T04:48:00\",\"2019-10-09T15:12:00\",\"2019-12-15T01:36:00\",\"2021-03-24T02:24:00\",\"2021-05-29T12:48:00\",\"2021-08-03T23:12:00\",\"2021-10-09T09:36:00\",\"2021-12-14T20:00:00\",\"2022-02-19T06:24:00\",\"2022-07-02T03:12:00\"],\"y\":[5,7,1,2,7,4,1,1,1,4,4,1,2,2,2,2],\"type\":\"scatter\"},{\"hoverinfo\":\"text\",\"hovertext\":[\"\\u003cb\\u003eTopic 9\\u003c\\u002fb\\u003e\\u003cbr\\u003eWords: \\ubc31\\uc9c0\\ud654, \\ud5c8\\uac00, \\uac74\\uc124, \\uac00\\ub3d9\",\"\\u003cb\\u003eTopic 9\\u003c\\u002fb\\u003e\\u003cbr\\u003eWords: \\uc6d0\\uc804, \\uac74\\uc124, \\uac00\\ub3d9, \\ubc1c\\uc804\\ub7c9\",\"\\u003cb\\u003eTopic 9\\u003c\\u002fb\\u003e\\u003cbr\\u003eWords: \\uc1a1\\uc601\\uae38, \\uc6d0\\uc804, \\ub2e4\\uc2dc \\uc2dc\\uc791\\ud574, \\ubc1c\\uc804\\ub7c9\",\"\\u003cb\\u003eTopic 9\\u003c\\u002fb\\u003e\\u003cbr\\u003eWords: \\ud654\\ud574, \\uac74\\uc124, \\ubbf8\\uc138\\uba3c\\uc9c0, \\uac00\\ub3d9\",\"\\u003cb\\u003eTopic 9\\u003c\\u002fb\\u003e\\u003cbr\\u003eWords: \\ubc1c\\uc804\\ub7c9, \\uc6d4\\uc131, \\uac74\\uc124, \\uac00\\ub3d9\",\"\\u003cb\\u003eTopic 9\\u003c\\u002fb\\u003e\\u003cbr\\u003eWords: \\uac74\\uc124, \\uc6d0\\uc804, \\uac00\\ub3d9, \\ub2e4\\uc2dc \\uc2dc\\uc791\\ud574\",\"\\u003cb\\u003eTopic 9\\u003c\\u002fb\\u003e\\u003cbr\\u003eWords: \\ub2e4\\uc2dc \\uc2dc\\uc791\\ud574, \\uc6d0\\uc804, \\uac74\\uc124, \\ubc1c\\uc804\\ub7c9\",\"\\u003cb\\u003eTopic 9\\u003c\\u002fb\\u003e\\u003cbr\\u003eWords: \\uc2e0\\ud55c, \\ud0c4\\uc18c, \\uac74\\uc124, \\uc6d0\\uc804\",\"\\u003cb\\u003eTopic 9\\u003c\\u002fb\\u003e\\u003cbr\\u003eWords: \\ud5c8\\uac00, \\uac74\\uc124, \\uc6d0\\uc804, \\uac00\\ub3d9\",\"\\u003cb\\u003eTopic 9\\u003c\\u002fb\\u003e\\u003cbr\\u003eWords: \\ud5c8\\uac00, \\uac00\\ub3d9, \\uc6d0\\uc790\\ub85c, \\ub9cc\\uc2dc\\uc9c0\\ud0c4\",\"\\u003cb\\u003eTopic 9\\u003c\\u002fb\\u003e\\u003cbr\\u003eWords: \\uac74\\uc124, \\uacf5\\uc57d, \\uc774\\uc7ac\\uba85, \\ub2e4\\uc2dc \\uc2dc\\uc791\\ud574\",\"\\u003cb\\u003eTopic 9\\u003c\\u002fb\\u003e\\u003cbr\\u003eWords: \\uc2e0\\ud55c, \\uac00\\ub3d9, \\uc6d0\\uc804, \\uc870\\uae30\",\"\\u003cb\\u003eTopic 9\\u003c\\u002fb\\u003e\\u003cbr\\u003eWords: \\uacbd\\ubd81, \\ud5c8\\uac00, \\uac74\\uc124, \\uac00\\ub3d9\",\"\\u003cb\\u003eTopic 9\\u003c\\u002fb\\u003e\\u003cbr\\u003eWords: \\uac74\\uc124, \\uc6d0\\uc804, \\uac00\\ub3d9, \\ub2e4\\uc2dc \\uc2dc\\uc791\\ud574\"],\"marker\":{\"color\":\"#009E73\"},\"mode\":\"lines\",\"name\":\"9_\\ud5c8\\uac00_\\uac74\\uc124_\\uac00\\ub3d9_\\ub2e4\\uc2dc \\uc2dc\\uc791\\ud574\",\"x\":[\"2018-04-26T04:00:00\",\"2018-09-06T00:48:00\",\"2018-11-11T11:12:00\",\"2019-01-16T21:36:00\",\"2020-02-19T12:00:00\",\"2020-09-05T19:12:00\",\"2020-11-11T05:36:00\",\"2021-01-16T16:00:00\",\"2021-03-24T02:24:00\",\"2021-05-29T12:48:00\",\"2021-10-09T09:36:00\",\"2022-02-19T06:24:00\",\"2022-07-02T03:12:00\",\"2022-09-06T13:36:00\"],\"y\":[1,1,6,3,1,1,1,6,3,11,4,2,1,2],\"type\":\"scatter\"},{\"hoverinfo\":\"text\",\"hovertext\":[\"\\u003cb\\u003eTopic 10\\u003c\\u002fb\\u003e\\u003cbr\\u003eWords: \\ud611\\uc0c1, \\uc6d0\\uc804, \\ubcf5\\uc6d0, \\uc774\\uc9d1\\ud2b8\",\"\\u003cb\\u003eTopic 10\\u003c\\u002fb\\u003e\\u003cbr\\u003eWords: \\uc218\\ucd9c, \\uc6d0\\uc804, \\uc77c\\ubcf8, \\ubc14\\ub77c\\uce74\",\"\\u003cb\\u003eTopic 10\\u003c\\u002fb\\u003e\\u003cbr\\u003eWords: \\ubc14\\ub77c\\uce74, \\uc911\\ub3d9, \\uc6d0\\uc804, \\ubc1c\\uc804\",\"\\u003cb\\u003eTopic 10\\u003c\\u002fb\\u003e\\u003cbr\\u003eWords: \\uc6d0\\uc804, \\uc774\\uc9d1\\ud2b8, \\uc218\\uc8fc, \\ubc14\\ub77c\\uce74\",\"\\u003cb\\u003eTopic 10\\u003c\\u002fb\\u003e\\u003cbr\\u003eWords: \\uc218\\uc8fc, \\uc6d0\\uc804, \\uc774\\uc9d1\\ud2b8, \\ubc14\\ub77c\\uce74\",\"\\u003cb\\u003eTopic 10\\u003c\\u002fb\\u003e\\u003cbr\\u003eWords: \\uc6d0\\uc804, \\uc218\\ucd9c, \\uc774\\uc9d1\\ud2b8, \\ubc14\\ub77c\\uce74\",\"\\u003cb\\u003eTopic 10\\u003c\\u002fb\\u003e\\u003cbr\\u003eWords: \\uc6d0\\uc804, \\ubcf5\\uc6d0, \\uc218\\ucd9c, \\uc774\\uc9d1\\ud2b8\",\"\\u003cb\\u003eTopic 10\\u003c\\u002fb\\u003e\\u003cbr\\u003eWords: \\uc77c\\ubcf8, \\ud611\\uc758\\uccb4, \\uc721\\uc131, \\uc6d0\\uc790\\ub825\",\"\\u003cb\\u003eTopic 10\\u003c\\u002fb\\u003e\\u003cbr\\u003eWords: \\uc6d0\\uc804, \\uc774\\uc9d1\\ud2b8, \\uc218\\uc8fc, \\ubc14\\ub77c\\uce74\",\"\\u003cb\\u003eTopic 10\\u003c\\u002fb\\u003e\\u003cbr\\u003eWords: \\uc6d0\\uc804, \\uc218\\ucd9c, \\uc774\\uc9d1\\ud2b8, \\ubc14\\ub77c\\uce74\",\"\\u003cb\\u003eTopic 10\\u003c\\u002fb\\u003e\\u003cbr\\u003eWords: \\uacfc\\ud559, \\uc6d0\\uc804, \\uc774\\uc9d1\\ud2b8, \\ubc14\\ub77c\\uce74\",\"\\u003cb\\u003eTopic 10\\u003c\\u002fb\\u003e\\u003cbr\\u003eWords: \\ub3d9\\ub9f9, \\ubc14\\uc774\\ub4e0, \\uc218\\ucd9c, \\uc6d0\\uc804\",\"\\u003cb\\u003eTopic 10\\u003c\\u002fb\\u003e\\u003cbr\\u003eWords: \\uc774\\uc9d1\\ud2b8, \\uc6d0\\uc804, \\uc18c, \\uc218\\uc8fc\",\"\\u003cb\\u003eTopic 10\\u003c\\u002fb\\u003e\\u003cbr\\u003eWords: \\uc6d0\\uc804, \\uc774\\uc9d1\\ud2b8, \\uc218\\uc8fc, \\ubc14\\ub77c\\uce74\"],\"marker\":{\"color\":\"#F0E442\"},\"mode\":\"lines\",\"name\":\"10_\\uc218\\ucd9c_\\uc6d0\\uc804_\\uc774\\uc9d1\\ud2b8_\\ubc14\\ub77c\\uce74\",\"x\":[\"2017-10-08T20:48:00\",\"2017-12-14T07:12:00\",\"2018-02-18T17:36:00\",\"2018-04-26T04:00:00\",\"2018-07-01T14:24:00\",\"2018-11-11T11:12:00\",\"2019-03-24T08:00:00\",\"2019-05-29T18:24:00\",\"2019-10-09T15:12:00\",\"2020-04-25T22:24:00\",\"2021-05-29T12:48:00\",\"2022-04-26T16:48:00\",\"2022-07-02T03:12:00\",\"2022-09-06T13:36:00\"],\"y\":[4,1,5,2,3,1,4,3,1,1,1,7,6,2],\"type\":\"scatter\"},{\"hoverinfo\":\"text\",\"hovertext\":[\"\\u003cb\\u003eTopic 11\\u003c\\u002fb\\u003e\\u003cbr\\u003eWords: \\uc0ac\\ub4dc, \\uacb0\\uc815, \\uc0ac\\uc7a5, \\uc6d0\\uc804\",\"\\u003cb\\u003eTopic 11\\u003c\\u002fb\\u003e\\u003cbr\\u003eWords: \\uc0ac\\uc7a5, \\ud0c8\\uc6d0\\uc804, \\uc815\\uc7ac\\ud6c8, \\uc758\\uacb0\",\"\\u003cb\\u003eTopic 11\\u003c\\u002fb\\u003e\\u003cbr\\u003eWords: \\uc815\\uc7ac\\ud6c8, \\uc0ac\\uc7a5, \\uc758\\uacb0, \\ud0c8\\uc6d0\\uc804\",\"\\u003cb\\u003eTopic 11\\u003c\\u002fb\\u003e\\u003cbr\\u003eWords: \\ud0c8\\uc6d0\\uc804, \\uc0ac\\uc7a5, \\uc815\\uc7ac\\ud6c8, \\uc758\\uacb0\",\"\\u003cb\\u003eTopic 11\\u003c\\u002fb\\u003e\\u003cbr\\u003eWords: \\ubc31\\uc9c0\\ud654, \\uc774\\uc0ac\\ud68c, \\ud0c8\\uc6d0\\uc804, \\uc815\\uc7ac\\ud6c8\",\"\\u003cb\\u003eTopic 11\\u003c\\u002fb\\u003e\\u003cbr\\u003eWords: \\uc0ac\\uc7a5, \\uc6d0\\uc804, \\uc815\\uc7ac\\ud6c8, \\uc758\\uacb0\",\"\\u003cb\\u003eTopic 11\\u003c\\u002fb\\u003e\\u003cbr\\u003eWords: \\ud0c8\\uc6d0\\uc804, \\uc0ac\\uc7a5, \\uc815\\uc7ac\\ud6c8, \\uc758\\uacb0\",\"\\u003cb\\u003eTopic 11\\u003c\\u002fb\\u003e\\u003cbr\\u003eWords: \\ud0c8\\uc6d0\\uc804, \\uc815\\uc7ac\\ud6c8, \\uc758\\uacb0, \\uac10\\uc0ac\\uc6d0\",\"\\u003cb\\u003eTopic 11\\u003c\\u002fb\\u003e\\u003cbr\\u003eWords: \\uc758\\uacb0, \\ud0c8\\uc6d0\\uc804, \\uc0ac\\uc7a5, \\uc815\\uc7ac\\ud6c8\",\"\\u003cb\\u003eTopic 11\\u003c\\u002fb\\u003e\\u003cbr\\u003eWords: \\ud0c8\\uc6d0\\uc804, \\uc0ac\\uc7a5, \\uc815\\uc7ac\\ud6c8, \\uc758\\uacb0\",\"\\u003cb\\u003eTopic 11\\u003c\\u002fb\\u003e\\u003cbr\\u003eWords: \\uc6d0\\uc790\\ub825, \\ud0c8\\uc6d0\\uc804, \\uc815\\uc7ac\\ud6c8, \\ud310\\uacb0\",\"\\u003cb\\u003eTopic 11\\u003c\\u002fb\\u003e\\u003cbr\\u003eWords: \\ud55c\\uc6b8, \\uc774\\uc0ac\\ud68c, \\uc815\\uc7ac\\ud6c8, \\uc5f0\\uc784\",\"\\u003cb\\u003eTopic 11\\u003c\\u002fb\\u003e\\u003cbr\\u003eWords: \\uc0ac\\uc7a5, \\ud0c8\\uc6d0\\uc804, \\uc6d0\\uc804, \\uc758\\uacb0\",\"\\u003cb\\u003eTopic 11\\u003c\\u002fb\\u003e\\u003cbr\\u003eWords: \\ub300\\ubc95\\uc6d0, \\uc774\\uc0ac\\ud68c, \\ud0c8\\uc6d0\\uc804, \\uc815\\uc7ac\\ud6c8\",\"\\u003cb\\u003eTopic 11\\u003c\\u002fb\\u003e\\u003cbr\\u003eWords: \\ud0c8\\uc6d0\\uc804, \\uc0ac\\uc7a5, \\uc815\\uc7ac\\ud6c8, \\uc758\\uacb0\",\"\\u003cb\\u003eTopic 11\\u003c\\u002fb\\u003e\\u003cbr\\u003eWords: \\uc218\\uc6d0, \\uc0ac\\uc7a5, \\uc815\\uc7ac\\ud6c8, \\ud0c8\\uc6d0\\uc804\",\"\\u003cb\\u003eTopic 11\\u003c\\u002fb\\u003e\\u003cbr\\u003eWords: \\ud0c8\\uc6d0\\uc804, \\uc0ac\\uc7a5, \\uc815\\uc7ac\\ud6c8, \\uc758\\uacb0\",\"\\u003cb\\u003eTopic 11\\u003c\\u002fb\\u003e\\u003cbr\\u003eWords: \\uc0ac\\uc678\\uc774\\uc0ac, \\uc815\\uc7ac\\ud6c8, \\uc758\\uacb0, \\ud0c8\\uc6d0\\uc804\"],\"marker\":{\"color\":\"#D55E00\"},\"mode\":\"lines\",\"name\":\"11_\\uc0ac\\uc7a5_\\uc815\\uc7ac\\ud6c8_\\uc758\\uacb0_\\ud0c8\\uc6d0\\uc804\",\"x\":[\"2017-05-27T00:10:04.800000\",\"2017-12-14T07:12:00\",\"2018-02-18T17:36:00\",\"2018-04-26T04:00:00\",\"2018-07-01T14:24:00\",\"2019-03-24T08:00:00\",\"2020-02-19T12:00:00\",\"2020-07-01T08:48:00\",\"2020-09-05T19:12:00\",\"2020-11-11T05:36:00\",\"2021-01-16T16:00:00\",\"2021-03-24T02:24:00\",\"2021-08-03T23:12:00\",\"2021-10-09T09:36:00\",\"2021-12-14T20:00:00\",\"2022-02-19T06:24:00\",\"2022-04-26T16:48:00\",\"2022-09-06T13:36:00\"],\"y\":[7,1,1,1,3,1,1,1,2,2,2,2,2,4,2,3,1,2],\"type\":\"scatter\"},{\"hoverinfo\":\"text\",\"hovertext\":[\"\\u003cb\\u003eTopic 12\\u003c\\u002fb\\u003e\\u003cbr\\u003eWords: \\ubb38\\uc81c\\uc5c6, \\ub35c, \\uac00\\ub3d9, \\ubc1c\\uc804\\uc18c\",\"\\u003cb\\u003eTopic 12\\u003c\\u002fb\\u003e\\u003cbr\\u003eWords: \\uac00\\ub3d9, \\ucc28\\uc9c8, \\ubc1c\\uc804\\uc18c, \\ubd81\\uadf9\",\"\\u003cb\\u003eTopic 12\\u003c\\u002fb\\u003e\\u003cbr\\u003eWords: \\uc804\\ub825, \\uc608\\ubc29, \\uc7ac\\ub09c, \\uac00\\ub3d9\",\"\\u003cb\\u003eTopic 12\\u003c\\u002fb\\u003e\\u003cbr\\u003eWords: \\ubc1c\\uc804\\uc18c, \\ud0c8\\uc6d0\\uc804, \\uacf5\\uc7a5, \\uac00\\ub3d9\",\"\\u003cb\\u003eTopic 12\\u003c\\u002fb\\u003e\\u003cbr\\u003eWords: \\uc6d0\\uc804, \\ubb38\\uc81c\\uc5c6, \\uac00\\ub3d9, \\ubc1c\\uc804\\uc18c\",\"\\u003cb\\u003eTopic 12\\u003c\\u002fb\\u003e\\u003cbr\\u003eWords: \\ud55c\\ud30c, \\ubb38\\uc81c\\uc5c6, \\uac00\\ub3d9, \\ubc1c\\uc804\\uc18c\",\"\\u003cb\\u003eTopic 12\\u003c\\u002fb\\u003e\\u003cbr\\u003eWords: \\ubb34\\ub354\\uc704, \\uc804\\ub825\\ub09c, \\ubc1c\\uc804\\uc18c, \\uc815\\uc804\",\"\\u003cb\\u003eTopic 12\\u003c\\u002fb\\u003e\\u003cbr\\u003eWords: \\uc608\\uce21, \\uc0b0\\uc5c5\\ubd80, \\uac00\\ub3d9, \\ubc1c\\uc804\\uc18c\",\"\\u003cb\\u003eTopic 12\\u003c\\u002fb\\u003e\\u003cbr\\u003eWords: \\uac00\\ub3d9, \\uc804\\uae30\\ub8cc, \\ubc1c\\uc804\\uc18c, \\uc6d0\\uc804\",\"\\u003cb\\u003eTopic 12\\u003c\\u002fb\\u003e\\u003cbr\\u003eWords: \\ucc28\\uc9c8, \\ud0c8\\uc6d0\\uc804, \\uac00\\ub3d9, \\ubc1c\\uc804\\uc18c\"],\"marker\":{\"color\":\"#0072B2\"},\"mode\":\"lines\",\"name\":\"12_\\uc804\\ub825_\\uac00\\ub3d9_\\ubc1c\\uc804\\uc18c_\\uc608\\ubc29\",\"x\":[\"2017-08-03T10:24:00\",\"2017-12-14T07:12:00\",\"2018-07-01T14:24:00\",\"2019-01-16T21:36:00\",\"2020-04-25T22:24:00\",\"2020-11-11T05:36:00\",\"2021-05-29T12:48:00\",\"2021-08-03T23:12:00\",\"2022-04-26T16:48:00\",\"2022-09-06T13:36:00\"],\"y\":[4,1,10,1,1,1,8,1,2,1],\"type\":\"scatter\"},{\"hoverinfo\":\"text\",\"hovertext\":[\"\\u003cb\\u003eTopic 13\\u003c\\u002fb\\u003e\\u003cbr\\u003eWords: \\ub300\\ucc45, \\uc6d0\\uc804, \\uc5d0\\ub108\\uc9c0 \\uc815\\ucc45, \\uc6d0\\uc810\",\"\\u003cb\\u003eTopic 13\\u003c\\u002fb\\u003e\\u003cbr\\u003eWords: \\ubc31\\ub144\\ub300\\uacc4, \\uc5d0\\ub108\\uc9c0 \\uc815\\ucc45, \\uc5d0\\ub108\\uc9c0 \\ud6a8\\uc728, \\ub9ac\\uc14b\",\"\\u003cb\\u003eTopic 13\\u003c\\u002fb\\u003e\\u003cbr\\u003eWords: \\ubaa8\\uc0c9, \\uc5d0\\ub108\\uc9c0 \\uc815\\ucc45, \\uc6d0\\uc804, \\uc6d0\\uc810\",\"\\u003cb\\u003eTopic 13\\u003c\\u002fb\\u003e\\u003cbr\\u003eWords: \\uc218\\ub9bd, \\uc5d0\\ub108\\uc9c0 \\uc815\\ucc45, \\uc0b0\\uc5c5, \\ub9ac\\uc14b\",\"\\u003cb\\u003eTopic 13\\u003c\\u002fb\\u003e\\u003cbr\\u003eWords: \\uc608\\uce21, \\uc6d0\\uc804, \\uc5d0\\ub108\\uc9c0 \\uc815\\ucc45, \\uc5d0\\ub108\\uc9c0 \\ud6a8\\uc728\",\"\\u003cb\\u003eTopic 13\\u003c\\u002fb\\u003e\\u003cbr\\u003eWords: \\uc5d0\\ub108\\uc9c0 \\uc815\\ucc45, \\uacbd\\uc81c, \\ub9ac\\uc14b, \\uc5d0\\ub108\\uc9c0 \\ud6a8\\uc728\",\"\\u003cb\\u003eTopic 13\\u003c\\u002fb\\u003e\\u003cbr\\u003eWords: \\uacc4\\ud68d, \\uc5d0\\ub108\\uc9c0 \\uc815\\ucc45, \\uc5d0\\ub108\\uc9c0 \\ud6a8\\uc728, \\ub9ac\\uc14b\",\"\\u003cb\\u003eTopic 13\\u003c\\u002fb\\u003e\\u003cbr\\u003eWords: \\uacc4\\ud68d, \\uc0b0\\uc5c5, \\uc5d0\\ub108\\uc9c0 \\uc815\\ucc45, \\uc5d0\\ub108\\uc9c0 \\ud6a8\\uc728\",\"\\u003cb\\u003eTopic 13\\u003c\\u002fb\\u003e\\u003cbr\\u003eWords: \\uc7ac\\uac80\\ud1a0, \\ub85c\\ub4dc\\ub9f5, \\uc5d0\\ub108\\uc9c0 \\uc815\\ucc45, \\ub9ac\\uc14b\",\"\\u003cb\\u003eTopic 13\\u003c\\u002fb\\u003e\\u003cbr\\u003eWords: \\uc5d0\\ub108\\uc9c0 \\uc815\\ucc45, \\uc0b0\\uc5c5, \\ub9ac\\uc14b, \\uc5d0\\ub108\\uc9c0 \\ud6a8\\uc728\",\"\\u003cb\\u003eTopic 13\\u003c\\u002fb\\u003e\\u003cbr\\u003eWords: \\uac1c\\ubc1c, \\uc5d0\\ub108\\uc9c0 \\uc815\\ucc45, \\uae30\\ucc28, \\ub9ac\\uc14b\",\"\\u003cb\\u003eTopic 13\\u003c\\u002fb\\u003e\\u003cbr\\u003eWords: \\uc11d\\uc720, \\uc5d0\\ub108\\uc9c0 \\uc815\\ucc45, \\uc6d0\\uc810, \\uc5d0\\ub108\\uc9c0 \\ud6a8\\uc728\",\"\\u003cb\\u003eTopic 13\\u003c\\u002fb\\u003e\\u003cbr\\u003eWords: \\ub85c\\ub4dc\\ub9f5, \\uc5d0\\ub108\\uc9c0 \\uc815\\ucc45, \\uc5d0\\ub108\\uc9c0 \\ud6a8\\uc728, \\ub9ac\\uc14b\",\"\\u003cb\\u003eTopic 13\\u003c\\u002fb\\u003e\\u003cbr\\u003eWords: \\uc5d0\\ub108\\uc9c0, \\ud574\\uc0c1, \\ub300\\ucc45, \\uc5d0\\ub108\\uc9c0 \\uc815\\ucc45\",\"\\u003cb\\u003eTopic 13\\u003c\\u002fb\\u003e\\u003cbr\\u003eWords: \\ub85c\\ub4dc\\ub9f5, \\uc5d0\\ub108\\uc9c0 \\uc815\\ucc45, \\ub9ac\\uc14b, \\uc5d0\\ub108\\uc9c0 \\ud6a8\\uc728\",\"\\u003cb\\u003eTopic 13\\u003c\\u002fb\\u003e\\u003cbr\\u003eWords: \\uc6d0\\uc804, \\uc5d0\\ub108\\uc9c0 \\uc815\\ucc45, \\ub9ac\\uc14b, \\uc5d0\\ub108\\uc9c0 \\ud6a8\\uc728\",\"\\u003cb\\u003eTopic 13\\u003c\\u002fb\\u003e\\u003cbr\\u003eWords: \\uc5d0\\ub108\\uc9c0 \\ud6a8\\uc728, \\ub9ac\\uc14b, \\uc0b0\\uc5c5, \\uc5d0\\ub108\\uc9c0 \\uc815\\ucc45\"],\"marker\":{\"color\":\"#CC79A7\"},\"mode\":\"lines\",\"name\":\"13_\\uc5d0\\ub108\\uc9c0 \\uc815\\ucc45_\\uc0b0\\uc5c5_\\ub9ac\\uc14b_\\uc5d0\\ub108\\uc9c0 \\ud6a8\\uc728\",\"x\":[\"2017-05-27T00:10:04.800000\",\"2017-08-03T10:24:00\",\"2017-10-08T20:48:00\",\"2017-12-14T07:12:00\",\"2018-07-01T14:24:00\",\"2018-09-06T00:48:00\",\"2018-11-11T11:12:00\",\"2019-03-24T08:00:00\",\"2019-05-29T18:24:00\",\"2019-12-15T01:36:00\",\"2020-04-25T22:24:00\",\"2020-09-05T19:12:00\",\"2021-08-03T23:12:00\",\"2022-02-19T06:24:00\",\"2022-04-26T16:48:00\",\"2022-07-02T03:12:00\",\"2022-09-06T13:36:00\"],\"y\":[5,1,2,2,2,1,1,3,1,1,1,1,1,4,1,1,1],\"type\":\"scatter\"},{\"hoverinfo\":\"text\",\"hovertext\":[\"\\u003cb\\u003eTopic 14\\u003c\\u002fb\\u003e\\u003cbr\\u003eWords: \\ud575\\ud3d0\\uae30\\ubb3c, \\uc6d0\\uc804, \\ud0c8\\uc6d0\\uc804, \\ub300\\ucc45\",\"\\u003cb\\u003eTopic 14\\u003c\\u002fb\\u003e\\u003cbr\\u003eWords: \\ub0b4\\uc9c4, \\uc0ac\\uc6a9\\ud6c4\\ud575\\uc5f0\\ub8cc, \\uc810\\uac80, \\ud575\\ud3d0\\uae30\\ubb3c\",\"\\u003cb\\u003eTopic 14\\u003c\\u002fb\\u003e\\u003cbr\\u003eWords: \\ucc2c\\uc131, \\uc6d0\\uc790\\ub825, \\ud3d0, \\ud575\\ud3d0\\uae30\\ubb3c\",\"\\u003cb\\u003eTopic 14\\u003c\\u002fb\\u003e\\u003cbr\\u003eWords: \\ud575\\ud3d0\\uae30\\ubb3c, \\ub300\\ucc45, \\uc0ac\\uc6a9\\ud6c4\\ud575\\uc5f0\\ub8cc, \\ubc29\\uc0ac\\uc131 \\ud3d0\\uae30\\ubb3c\",\"\\u003cb\\u003eTopic 14\\u003c\\u002fb\\u003e\\u003cbr\\u003eWords: \\uccad\\uc815\\uc5d0\\ub108\\uc9c0, \\uc6d0\\uc790\\ub825, \\ud575\\ud3d0\\uae30\\ubb3c, \\ub300\\ucc45\",\"\\u003cb\\u003eTopic 14\\u003c\\u002fb\\u003e\\u003cbr\\u003eWords: \\uc6d0\\uc804, \\ud575\\ud3d0\\uae30\\ubb3c, \\ub300\\ucc45, \\uc0ac\\uc6a9\\ud6c4\\ud575\\uc5f0\\ub8cc\",\"\\u003cb\\u003eTopic 14\\u003c\\u002fb\\u003e\\u003cbr\\u003eWords: \\ud575\\ud3d0\\uae30\\ubb3c, \\uc6d0\\uc804, \\ud0c8\\uc6d0\\uc804, \\ub300\\ucc45\",\"\\u003cb\\u003eTopic 14\\u003c\\u002fb\\u003e\\u003cbr\\u003eWords: \\ud575\\uc5f0\\ub8cc, \\ud3d0, \\ud575\\ud3d0\\uae30\\ubb3c, \\ub300\\ucc45\",\"\\u003cb\\u003eTopic 14\\u003c\\u002fb\\u003e\\u003cbr\\u003eWords: \\ud575\\uc5f0\\ub8cc \\uc7ac\\ucc98\\ub9ac, \\ud0c8\\uc6d0\\uc804, \\ud575\\ud3d0\\uae30\\ubb3c, \\ub300\\ucc45\",\"\\u003cb\\u003eTopic 14\\u003c\\u002fb\\u003e\\u003cbr\\u003eWords: \\ud6c4\\ucfe0\\uc2dc\\ub9c8, \\ud575\\ud3d0\\uae30\\ubb3c, \\ub300\\ucc45, \\uc0ac\\uc6a9\\ud6c4\\ud575\\uc5f0\\ub8cc\",\"\\u003cb\\u003eTopic 14\\u003c\\u002fb\\u003e\\u003cbr\\u003eWords: \\uc720\\uc5d4, \\ud575\\ud3d0\\uae30\\ubb3c, \\ud0c8\\uc6d0\\uc804, \\ub300\\ucc45\",\"\\u003cb\\u003eTopic 14\\u003c\\u002fb\\u003e\\u003cbr\\u003eWords: \\ud575\\ud3d0\\uae30\\ubb3c, \\ubc29\\uc0ac\\uc131 \\ud3d0\\uae30\\ubb3c, \\ub300\\ucc45, \\uc6d0\\uc804\",\"\\u003cb\\u003eTopic 14\\u003c\\u002fb\\u003e\\u003cbr\\u003eWords: \\ud3d0, \\ub300\\ucc45, \\ud575\\ud3d0\\uae30\\ubb3c, \\uc6d0\\uc804\"],\"marker\":{\"color\":\"#E69F00\"},\"mode\":\"lines\",\"name\":\"14_\\ud575\\ud3d0\\uae30\\ubb3c_\\ub300\\ucc45_\\uc0ac\\uc6a9\\ud6c4\\ud575\\uc5f0\\ub8cc_\\ubc29\\uc0ac\\uc131 \\ud3d0\\uae30\\ubb3c\",\"x\":[\"2017-05-27T00:10:04.800000\",\"2017-10-08T20:48:00\",\"2018-07-01T14:24:00\",\"2018-09-06T00:48:00\",\"2018-11-11T11:12:00\",\"2019-03-24T08:00:00\",\"2019-05-29T18:24:00\",\"2019-12-15T01:36:00\",\"2020-09-05T19:12:00\",\"2021-03-24T02:24:00\",\"2022-02-19T06:24:00\",\"2022-07-02T03:12:00\",\"2022-09-06T13:36:00\"],\"y\":[2,5,2,1,1,1,3,2,1,1,2,4,4],\"type\":\"scatter\"},{\"hoverinfo\":\"text\",\"hovertext\":[\"\\u003cb\\u003eTopic 15\\u003c\\u002fb\\u003e\\u003cbr\\u003eWords: \\ucd1d\\uc120, \\uc55e\\ub450, \\uc2dc\\ub300\\uc815\\uc2e0, \\uc0ac\\uc0dd\\uacb0\\ub2e8\",\"\\u003cb\\u003eTopic 15\\u003c\\u002fb\\u003e\\u003cbr\\u003eWords: \\ucd1d\\uc120, \\uc0ac\\uc0dd\\uacb0\\ub2e8, \\ub300\\uc120, \\ud6c4\\ubcf4\",\"\\u003cb\\u003eTopic 15\\u003c\\u002fb\\u003e\\u003cbr\\u003eWords: \\ucd1d\\uc120, \\uc720\\uad8c\\uc790, \\uc120\\uac70, \\uc120\\ud0dd\",\"\\u003cb\\u003eTopic 15\\u003c\\u002fb\\u003e\\u003cbr\\u003eWords: \\ucd1d\\uc120, \\uad6c\\uc548, \\uc2dc\\ub300\\uc815\\uc2e0, \\uc0ac\\uc0dd\\uacb0\\ub2e8\",\"\\u003cb\\u003eTopic 15\\u003c\\u002fb\\u003e\\u003cbr\\u003eWords: \\ucd1d\\uc120, \\ub300\\uc120, \\uc2dc\\ub300\\uc815\\uc2e0, \\uc0ac\\uc0dd\\uacb0\\ub2e8\",\"\\u003cb\\u003eTopic 15\\u003c\\u002fb\\u003e\\u003cbr\\u003eWords: \\ub300\\uc120, \\ucd5c\\uc7ac\\ud615, \\ucd9c\\ub9c8, \\ucd1d\\uc120\",\"\\u003cb\\u003eTopic 15\\u003c\\u002fb\\u003e\\u003cbr\\u003eWords: \\ub300\\ucd9c, \\ucd1d\\uc120, \\ub9f9\\ud0d5, \\uc2dc\\ub300\\uc815\\uc2e0\",\"\\u003cb\\u003eTopic 15\\u003c\\u002fb\\u003e\\u003cbr\\u003eWords: \\ucd1d\\uc120, \\uc0ac\\uc0dd\\uacb0\\ub2e8, \\uad6c\\uc548, \\uc2dc\\ub300\\uc815\\uc2e0\",\"\\u003cb\\u003eTopic 15\\u003c\\u002fb\\u003e\\u003cbr\\u003eWords: \\ub300\\uc120, \\ucd1d\\uc120, \\uc120\\uac70, \\ub274\\uc2a4\",\"\\u003cb\\u003eTopic 15\\u003c\\u002fb\\u003e\\u003cbr\\u003eWords: \\uc2dc\\ub300\\uc815\\uc2e0, \\uc120\\uac70, \\ub300\\uc120, \\ucd1d\\uc120\",\"\\u003cb\\u003eTopic 15\\u003c\\u002fb\\u003e\\u003cbr\\u003eWords: \\uc774\\uc288, \\uc120\\uac70, \\uad6c\\uc548, \\ub9f9\\ud0d5\",\"\\u003cb\\u003eTopic 15\\u003c\\u002fb\\u003e\\u003cbr\\u003eWords: \\ucd1d\\uc120, \\ub2f9\\uc120, \\uad6c\\uc548, \\uc2dc\\ub300\\uc815\\uc2e0\"],\"marker\":{\"color\":\"#56B4E9\"},\"mode\":\"lines\",\"name\":\"15_\\ucd1d\\uc120_\\uad6c\\uc548_\\uc0ac\\uc0dd\\uacb0\\ub2e8_\\uc2dc\\ub300\\uc815\\uc2e0\",\"x\":[\"2019-10-09T15:12:00\",\"2019-12-15T01:36:00\",\"2020-02-19T12:00:00\",\"2020-04-25T22:24:00\",\"2021-01-16T16:00:00\",\"2021-05-29T12:48:00\",\"2021-08-03T23:12:00\",\"2021-10-09T09:36:00\",\"2021-12-14T20:00:00\",\"2022-02-19T06:24:00\",\"2022-04-26T16:48:00\",\"2022-09-06T13:36:00\"],\"y\":[1,6,6,1,1,3,1,1,2,3,1,1],\"type\":\"scatter\"},{\"hoverinfo\":\"text\",\"hovertext\":[\"\\u003cb\\u003eTopic 16\\u003c\\u002fb\\u003e\\u003cbr\\u003eWords: \\uad6d\\uac10, \\uc815\\uc7c1, \\uc758\\uc6d0, \\uad6d\\ud68c\",\"\\u003cb\\u003eTopic 16\\u003c\\u002fb\\u003e\\u003cbr\\u003eWords: \\uad6d\\uac10, \\uad6d\\ud68c, \\uc815\\uc7c1, \\ubbfc\\uc0dd\",\"\\u003cb\\u003eTopic 16\\u003c\\u002fb\\u003e\\u003cbr\\u003eWords: \\uad6d\\uac10, \\uc815\\uc7c1, \\uc758\\uc6d0, \\uad6d\\ud68c\",\"\\u003cb\\u003eTopic 16\\u003c\\u002fb\\u003e\\u003cbr\\u003eWords: \\uad6d\\uac10, \\uc815\\uc7c1, \\uc758\\uc6d0, \\uad6d\\ud68c\",\"\\u003cb\\u003eTopic 16\\u003c\\u002fb\\u003e\\u003cbr\\u003eWords: \\uc758\\uc6d0, \\uad6d\\uac10, \\uc815\\uc7c1, \\uad6d\\ud68c\",\"\\u003cb\\u003eTopic 16\\u003c\\u002fb\\u003e\\u003cbr\\u003eWords: \\ud55c\\uad6d\\ub2f9, \\uad6d\\uac10, \\uc815\\uc7c1, \\uad6d\\ud68c\",\"\\u003cb\\u003eTopic 16\\u003c\\u002fb\\u003e\\u003cbr\\u003eWords: \\uad6d\\uac10, \\uc815\\uc7c1, \\uc758\\uc6d0, \\uc608\\uc0b0\\uc548\",\"\\u003cb\\u003eTopic 16\\u003c\\u002fb\\u003e\\u003cbr\\u003eWords: \\uc608\\uc0b0\\uc548, \\uad6d\\ud68c, \\uad6d\\uac10, \\uc758\\uc6d0\",\"\\u003cb\\u003eTopic 16\\u003c\\u002fb\\u003e\\u003cbr\\u003eWords: \\uad6d\\uac10, \\uc815\\uc7c1, \\uc758\\uc6d0, \\uad6d\\ud68c\",\"\\u003cb\\u003eTopic 16\\u003c\\u002fb\\u003e\\u003cbr\\u003eWords: \\uad6d\\uac10, \\uc758\\uc6d0, \\uad6d\\ud68c, \\uc608\\uc0b0\\uc548\",\"\\u003cb\\u003eTopic 16\\u003c\\u002fb\\u003e\\u003cbr\\u003eWords: \\uad6d\\uac10, \\uc815\\uc7c1, \\uad6d\\ud68c, \\uc608\\uc0b0\\uc548\",\"\\u003cb\\u003eTopic 16\\u003c\\u002fb\\u003e\\u003cbr\\u003eWords: \\uad6d\\uac10, \\uc815\\uc7c1, \\uad6d\\ud68c, \\ubb38\\uc7ac\\uc778\"],\"marker\":{\"color\":\"#009E73\"},\"mode\":\"lines\",\"name\":\"16_\\uad6d\\uac10_\\uc815\\uc7c1_\\uc758\\uc6d0_\\uad6d\\ud68c\",\"x\":[\"2017-05-27T00:10:04.800000\",\"2017-08-03T10:24:00\",\"2017-10-08T20:48:00\",\"2018-09-06T00:48:00\",\"2019-01-16T21:36:00\",\"2019-03-24T08:00:00\",\"2019-08-04T04:48:00\",\"2019-10-09T15:12:00\",\"2020-09-05T19:12:00\",\"2021-08-03T23:12:00\",\"2022-04-26T16:48:00\",\"2022-09-06T13:36:00\"],\"y\":[1,3,3,3,1,2,1,1,2,1,1,6],\"type\":\"scatter\"},{\"hoverinfo\":\"text\",\"hovertext\":[\"\\u003cb\\u003eTopic 17\\u003c\\u002fb\\u003e\\u003cbr\\u003eWords: \\ud0c8\\uc6d0\\uc804, \\ube44\\uc6a9, \\uccad\\uad6c\\uc11c, \\uc804\\uac00\",\"\\u003cb\\u003eTopic 17\\u003c\\u002fb\\u003e\\u003cbr\\u003eWords: \\ubcf4\\ud5d8, \\ubd80\\ub2f4, \\ud0c8\\uc6d0\\uc804, \\uc6d0\\uc804\",\"\\u003cb\\u003eTopic 17\\u003c\\u002fb\\u003e\\u003cbr\\u003eWords: \\ubd80\\ub2f4, \\ud53c\\ud574, \\ud0c8\\uc6d0\\uc804, \\ubcf4\\ud5d8\",\"\\u003cb\\u003eTopic 17\\u003c\\u002fb\\u003e\\u003cbr\\u003eWords: \\uccad\\uad6c\\uc11c, \\ud0c8\\uc6d0\\uc804, \\ube44\\uc6a9, \\uc190\\uc2e4\",\"\\u003cb\\u003eTopic 17\\u003c\\u002fb\\u003e\\u003cbr\\u003eWords: \\ud0c8\\uc6d0\\uc804, \\ube44\\uc6a9, \\uc190\\uc2e4, \\uc804\\uac00\",\"\\u003cb\\u003eTopic 17\\u003c\\u002fb\\u003e\\u003cbr\\u003eWords: \\ube44\\uc6a9, \\ud0c8\\uc6d0\\uc804, \\uccad\\uad6c\\uc11c, \\ubcf4\\ud5d8\",\"\\u003cb\\u003eTopic 17\\u003c\\u002fb\\u003e\\u003cbr\\u003eWords: \\uc5d0\\ub108\\uc9c0 \\uc815\\ucc45, \\ube44\\uc6a9, \\ud0c8\\uc6d0\\uc804, \\uc190\\uc2e4\",\"\\u003cb\\u003eTopic 17\\u003c\\u002fb\\u003e\\u003cbr\\u003eWords: \\ube44\\uc6a9, \\ud0c8\\uc6d0\\uc804, \\uccad\\uad6c\\uc11c, \\uc190\\uc2e4\",\"\\u003cb\\u003eTopic 17\\u003c\\u002fb\\u003e\\u003cbr\\u003eWords: \\ube44\\uc6a9, \\ube5a, \\ud0c8\\uc6d0\\uc804, \\ubcf4\\ud5d8\",\"\\u003cb\\u003eTopic 17\\u003c\\u002fb\\u003e\\u003cbr\\u003eWords: \\ube44\\uc6a9, \\ud0c8\\uc6d0\\uc804, \\uc804\\ub825, \\uc804\\uac00\",\"\\u003cb\\u003eTopic 17\\u003c\\u002fb\\u003e\\u003cbr\\u003eWords: \\ube44\\uc6a9, \\uc804\\uac00, \\ud0c8\\uc6d0\\uc804, \\ubcf4\\ud5d8\",\"\\u003cb\\u003eTopic 17\\u003c\\u002fb\\u003e\\u003cbr\\u003eWords: \\uacbd\\ubd81, \\ube44\\uc6a9, \\ud0c8\\uc6d0\\uc804, \\uc190\\uc2e4\",\"\\u003cb\\u003eTopic 17\\u003c\\u002fb\\u003e\\u003cbr\\u003eWords: \\uc804\\uae30\\ub8cc, \\ube44\\uc6a9, \\ud0c8\\uc6d0\\uc804, \\uc190\\uc2e4\"],\"marker\":{\"color\":\"#F0E442\"},\"mode\":\"lines\",\"name\":\"17_\\ube44\\uc6a9_\\uccad\\uad6c\\uc11c_\\ud0c8\\uc6d0\\uc804_\\uc804\\uac00\",\"x\":[\"2017-10-08T20:48:00\",\"2018-04-26T04:00:00\",\"2018-09-06T00:48:00\",\"2018-11-11T11:12:00\",\"2019-10-09T15:12:00\",\"2019-12-15T01:36:00\",\"2020-07-01T08:48:00\",\"2020-11-11T05:36:00\",\"2021-05-29T12:48:00\",\"2021-08-03T23:12:00\",\"2021-10-09T09:36:00\",\"2021-12-14T20:00:00\",\"2022-09-06T13:36:00\"],\"y\":[1,4,2,1,1,1,2,1,3,3,3,1,1],\"type\":\"scatter\"},{\"hoverinfo\":\"text\",\"hovertext\":[\"\\u003cb\\u003eTopic 18\\u003c\\u002fb\\u003e\\u003cbr\\u003eWords: \\uc804\\uae30\\ub8cc, \\uc6d0\\uac00, \\uc778\\ud50c\\ub808, \\uc5f0\\ub8cc\\ube44\",\"\\u003cb\\u003eTopic 18\\u003c\\u002fb\\u003e\\u003cbr\\u003eWords: \\uc804\\uae30\\ub8cc, \\uc5f0\\ub8cc\\ube44, \\uc790\\uad6c\\ucc45, \\uc778\\ud50c\\ub808\",\"\\u003cb\\u003eTopic 18\\u003c\\u002fb\\u003e\\u003cbr\\u003eWords: \\uc804\\uae30\\ub8cc, \\uc790\\uad6c\\ucc45, \\uc778\\ud50c\\ub808, \\uc5f0\\ub8cc\\ube44\",\"\\u003cb\\u003eTopic 18\\u003c\\u002fb\\u003e\\u003cbr\\u003eWords: \\ubbf8\\ub8e8, \\uc804\\uae30\\ub8cc, \\uc6d0\\uac00, \\uc5f0\\ub8cc\\ube44\",\"\\u003cb\\u003eTopic 18\\u003c\\u002fb\\u003e\\u003cbr\\u003eWords: \\uc6d0\\uac00, \\uc804\\uae30, \\uc804\\uae30\\ub8cc, \\uc5f0\\ub8cc\\ube44\",\"\\u003cb\\u003eTopic 18\\u003c\\u002fb\\u003e\\u003cbr\\u003eWords: \\uc804\\uae30\\ub8cc, \\uc5f0\\ub8cc\\ube44, \\uc778\\ud50c\\ub808, \\uc790\\uad6c\\ucc45\",\"\\u003cb\\u003eTopic 18\\u003c\\u002fb\\u003e\\u003cbr\\u003eWords: \\uc804\\uae30\\ub8cc, \\uc5f0\\ub8cc\\ube44, \\uc790\\uad6c\\ucc45, \\uc778\\ud50c\\ub808\",\"\\u003cb\\u003eTopic 18\\u003c\\u002fb\\u003e\\u003cbr\\u003eWords: \\uc804\\uae30\\ub8cc, \\uc778\\ud50c\\ub808, \\uc5f0\\ub8cc\\ube44, \\uc790\\uad6c\\ucc45\",\"\\u003cb\\u003eTopic 18\\u003c\\u002fb\\u003e\\u003cbr\\u003eWords: \\uc804\\uae30\\ub8cc, \\uc6d0\\uac00, \\uc5f0\\ub8cc\\ube44, \\uc790\\uad6c\\ucc45\",\"\\u003cb\\u003eTopic 18\\u003c\\u002fb\\u003e\\u003cbr\\u003eWords: \\uc5f0\\ub8cc\\ube44, \\uc804\\uae30\\ub8cc, \\uc6d0\\uac00, \\uc778\\ud50c\\ub808\",\"\\u003cb\\u003eTopic 18\\u003c\\u002fb\\u003e\\u003cbr\\u003eWords: \\uc804\\uae30\\ub8cc, \\uc790\\uad6c\\ucc45, \\uc778\\ud50c\\ub808, \\ud55c\\uc804\",\"\\u003cb\\u003eTopic 18\\u003c\\u002fb\\u003e\\u003cbr\\u003eWords: \\uc808\\uac10, \\uc804\\uae30\\ub8cc, \\uc5f0\\ub8cc\\ube44, \\uc790\\uad6c\\ucc45\"],\"marker\":{\"color\":\"#D55E00\"},\"mode\":\"lines\",\"name\":\"18_\\uc6d0\\uac00_\\uc790\\uad6c\\ucc45_\\uc778\\ud50c\\ub808_\\uc5f0\\ub8cc\\ube44\",\"x\":[\"2018-09-06T00:48:00\",\"2018-11-11T11:12:00\",\"2019-01-16T21:36:00\",\"2019-03-24T08:00:00\",\"2019-05-29T18:24:00\",\"2020-11-11T05:36:00\",\"2021-05-29T12:48:00\",\"2021-08-03T23:12:00\",\"2021-12-14T20:00:00\",\"2022-02-19T06:24:00\",\"2022-04-26T16:48:00\",\"2022-09-06T13:36:00\"],\"y\":[1,2,1,2,4,1,1,1,1,1,6,3],\"type\":\"scatter\"},{\"hoverinfo\":\"text\",\"hovertext\":[\"\\u003cb\\u003eTopic 19\\u003c\\u002fb\\u003e\\u003cbr\\u003eWords: \\ubbf8\\uc138\\uba3c\\uc9c0, \\ud0c1\\uc0c1\\uacf5\\ub860, \\ubbf8\\ubd09\\ucc45, \\uad00\\ub9ac\\uc81c\",\"\\u003cb\\u003eTopic 19\\u003c\\u002fb\\u003e\\u003cbr\\u003eWords: \\ubbf8\\uc138\\uba3c\\uc9c0, \\ub300\\ucc45, \\uba3c\\uc9c0, \\ucd5c\\uc545\",\"\\u003cb\\u003eTopic 19\\u003c\\u002fb\\u003e\\u003cbr\\u003eWords: \\ubbf8\\uc138\\uba3c\\uc9c0, \\ub300\\ucc45, \\ubbf8\\ubd09\\ucc45, \\ucd5c\\uc545\",\"\\u003cb\\u003eTopic 19\\u003c\\u002fb\\u003e\\u003cbr\\u003eWords: \\ubbf8\\uc138\\uba3c\\uc9c0, \\ud68c\\uc758, \\ubbf8\\ubd09\\ucc45, \\uad00\\ub9ac\\uc81c\",\"\\u003cb\\u003eTopic 19\\u003c\\u002fb\\u003e\\u003cbr\\u003eWords: \\ubbf8\\uc138\\uba3c\\uc9c0, \\ud68c\\uc758, \\ubbf8\\ubd09\\ucc45, \\uacbd\\uc720\",\"\\u003cb\\u003eTopic 19\\u003c\\u002fb\\u003e\\u003cbr\\u003eWords: \\ubbf8\\uc138\\uba3c\\uc9c0, \\uad00\\ub9ac\\uc81c, \\ubbf8\\ubd09\\ucc45, \\ucd5c\\uc545\"],\"marker\":{\"color\":\"#0072B2\"},\"mode\":\"lines\",\"name\":\"19_\\ubbf8\\uc138\\uba3c\\uc9c0_\\ubbf8\\ubd09\\ucc45_\\uba3c\\uc9c0_\\uad00\\ub9ac\\uc81c\",\"x\":[\"2018-09-06T00:48:00\",\"2018-11-11T11:12:00\",\"2019-01-16T21:36:00\",\"2019-03-24T08:00:00\",\"2019-08-04T04:48:00\",\"2019-10-09T15:12:00\"],\"y\":[2,4,13,2,1,2],\"type\":\"scatter\"}],                        {\"template\":{\"data\":{\"barpolar\":[{\"marker\":{\"line\":{\"color\":\"white\",\"width\":0.5},\"pattern\":{\"fillmode\":\"overlay\",\"size\":10,\"solidity\":0.2}},\"type\":\"barpolar\"}],\"bar\":[{\"error_x\":{\"color\":\"rgb(36,36,36)\"},\"error_y\":{\"color\":\"rgb(36,36,36)\"},\"marker\":{\"line\":{\"color\":\"white\",\"width\":0.5},\"pattern\":{\"fillmode\":\"overlay\",\"size\":10,\"solidity\":0.2}},\"type\":\"bar\"}],\"carpet\":[{\"aaxis\":{\"endlinecolor\":\"rgb(36,36,36)\",\"gridcolor\":\"white\",\"linecolor\":\"white\",\"minorgridcolor\":\"white\",\"startlinecolor\":\"rgb(36,36,36)\"},\"baxis\":{\"endlinecolor\":\"rgb(36,36,36)\",\"gridcolor\":\"white\",\"linecolor\":\"white\",\"minorgridcolor\":\"white\",\"startlinecolor\":\"rgb(36,36,36)\"},\"type\":\"carpet\"}],\"choropleth\":[{\"colorbar\":{\"outlinewidth\":1,\"tickcolor\":\"rgb(36,36,36)\",\"ticks\":\"outside\"},\"type\":\"choropleth\"}],\"contourcarpet\":[{\"colorbar\":{\"outlinewidth\":1,\"tickcolor\":\"rgb(36,36,36)\",\"ticks\":\"outside\"},\"type\":\"contourcarpet\"}],\"contour\":[{\"colorbar\":{\"outlinewidth\":1,\"tickcolor\":\"rgb(36,36,36)\",\"ticks\":\"outside\"},\"colorscale\":[[0.0,\"#440154\"],[0.1111111111111111,\"#482878\"],[0.2222222222222222,\"#3e4989\"],[0.3333333333333333,\"#31688e\"],[0.4444444444444444,\"#26828e\"],[0.5555555555555556,\"#1f9e89\"],[0.6666666666666666,\"#35b779\"],[0.7777777777777778,\"#6ece58\"],[0.8888888888888888,\"#b5de2b\"],[1.0,\"#fde725\"]],\"type\":\"contour\"}],\"heatmapgl\":[{\"colorbar\":{\"outlinewidth\":1,\"tickcolor\":\"rgb(36,36,36)\",\"ticks\":\"outside\"},\"colorscale\":[[0.0,\"#440154\"],[0.1111111111111111,\"#482878\"],[0.2222222222222222,\"#3e4989\"],[0.3333333333333333,\"#31688e\"],[0.4444444444444444,\"#26828e\"],[0.5555555555555556,\"#1f9e89\"],[0.6666666666666666,\"#35b779\"],[0.7777777777777778,\"#6ece58\"],[0.8888888888888888,\"#b5de2b\"],[1.0,\"#fde725\"]],\"type\":\"heatmapgl\"}],\"heatmap\":[{\"colorbar\":{\"outlinewidth\":1,\"tickcolor\":\"rgb(36,36,36)\",\"ticks\":\"outside\"},\"colorscale\":[[0.0,\"#440154\"],[0.1111111111111111,\"#482878\"],[0.2222222222222222,\"#3e4989\"],[0.3333333333333333,\"#31688e\"],[0.4444444444444444,\"#26828e\"],[0.5555555555555556,\"#1f9e89\"],[0.6666666666666666,\"#35b779\"],[0.7777777777777778,\"#6ece58\"],[0.8888888888888888,\"#b5de2b\"],[1.0,\"#fde725\"]],\"type\":\"heatmap\"}],\"histogram2dcontour\":[{\"colorbar\":{\"outlinewidth\":1,\"tickcolor\":\"rgb(36,36,36)\",\"ticks\":\"outside\"},\"colorscale\":[[0.0,\"#440154\"],[0.1111111111111111,\"#482878\"],[0.2222222222222222,\"#3e4989\"],[0.3333333333333333,\"#31688e\"],[0.4444444444444444,\"#26828e\"],[0.5555555555555556,\"#1f9e89\"],[0.6666666666666666,\"#35b779\"],[0.7777777777777778,\"#6ece58\"],[0.8888888888888888,\"#b5de2b\"],[1.0,\"#fde725\"]],\"type\":\"histogram2dcontour\"}],\"histogram2d\":[{\"colorbar\":{\"outlinewidth\":1,\"tickcolor\":\"rgb(36,36,36)\",\"ticks\":\"outside\"},\"colorscale\":[[0.0,\"#440154\"],[0.1111111111111111,\"#482878\"],[0.2222222222222222,\"#3e4989\"],[0.3333333333333333,\"#31688e\"],[0.4444444444444444,\"#26828e\"],[0.5555555555555556,\"#1f9e89\"],[0.6666666666666666,\"#35b779\"],[0.7777777777777778,\"#6ece58\"],[0.8888888888888888,\"#b5de2b\"],[1.0,\"#fde725\"]],\"type\":\"histogram2d\"}],\"histogram\":[{\"marker\":{\"line\":{\"color\":\"white\",\"width\":0.6}},\"type\":\"histogram\"}],\"mesh3d\":[{\"colorbar\":{\"outlinewidth\":1,\"tickcolor\":\"rgb(36,36,36)\",\"ticks\":\"outside\"},\"type\":\"mesh3d\"}],\"parcoords\":[{\"line\":{\"colorbar\":{\"outlinewidth\":1,\"tickcolor\":\"rgb(36,36,36)\",\"ticks\":\"outside\"}},\"type\":\"parcoords\"}],\"pie\":[{\"automargin\":true,\"type\":\"pie\"}],\"scatter3d\":[{\"line\":{\"colorbar\":{\"outlinewidth\":1,\"tickcolor\":\"rgb(36,36,36)\",\"ticks\":\"outside\"}},\"marker\":{\"colorbar\":{\"outlinewidth\":1,\"tickcolor\":\"rgb(36,36,36)\",\"ticks\":\"outside\"}},\"type\":\"scatter3d\"}],\"scattercarpet\":[{\"marker\":{\"colorbar\":{\"outlinewidth\":1,\"tickcolor\":\"rgb(36,36,36)\",\"ticks\":\"outside\"}},\"type\":\"scattercarpet\"}],\"scattergeo\":[{\"marker\":{\"colorbar\":{\"outlinewidth\":1,\"tickcolor\":\"rgb(36,36,36)\",\"ticks\":\"outside\"}},\"type\":\"scattergeo\"}],\"scattergl\":[{\"marker\":{\"colorbar\":{\"outlinewidth\":1,\"tickcolor\":\"rgb(36,36,36)\",\"ticks\":\"outside\"}},\"type\":\"scattergl\"}],\"scattermapbox\":[{\"marker\":{\"colorbar\":{\"outlinewidth\":1,\"tickcolor\":\"rgb(36,36,36)\",\"ticks\":\"outside\"}},\"type\":\"scattermapbox\"}],\"scatterpolargl\":[{\"marker\":{\"colorbar\":{\"outlinewidth\":1,\"tickcolor\":\"rgb(36,36,36)\",\"ticks\":\"outside\"}},\"type\":\"scatterpolargl\"}],\"scatterpolar\":[{\"marker\":{\"colorbar\":{\"outlinewidth\":1,\"tickcolor\":\"rgb(36,36,36)\",\"ticks\":\"outside\"}},\"type\":\"scatterpolar\"}],\"scatter\":[{\"fillpattern\":{\"fillmode\":\"overlay\",\"size\":10,\"solidity\":0.2},\"type\":\"scatter\"}],\"scatterternary\":[{\"marker\":{\"colorbar\":{\"outlinewidth\":1,\"tickcolor\":\"rgb(36,36,36)\",\"ticks\":\"outside\"}},\"type\":\"scatterternary\"}],\"surface\":[{\"colorbar\":{\"outlinewidth\":1,\"tickcolor\":\"rgb(36,36,36)\",\"ticks\":\"outside\"},\"colorscale\":[[0.0,\"#440154\"],[0.1111111111111111,\"#482878\"],[0.2222222222222222,\"#3e4989\"],[0.3333333333333333,\"#31688e\"],[0.4444444444444444,\"#26828e\"],[0.5555555555555556,\"#1f9e89\"],[0.6666666666666666,\"#35b779\"],[0.7777777777777778,\"#6ece58\"],[0.8888888888888888,\"#b5de2b\"],[1.0,\"#fde725\"]],\"type\":\"surface\"}],\"table\":[{\"cells\":{\"fill\":{\"color\":\"rgb(237,237,237)\"},\"line\":{\"color\":\"white\"}},\"header\":{\"fill\":{\"color\":\"rgb(217,217,217)\"},\"line\":{\"color\":\"white\"}},\"type\":\"table\"}]},\"layout\":{\"annotationdefaults\":{\"arrowhead\":0,\"arrowwidth\":1},\"autotypenumbers\":\"strict\",\"coloraxis\":{\"colorbar\":{\"outlinewidth\":1,\"tickcolor\":\"rgb(36,36,36)\",\"ticks\":\"outside\"}},\"colorscale\":{\"diverging\":[[0.0,\"rgb(103,0,31)\"],[0.1,\"rgb(178,24,43)\"],[0.2,\"rgb(214,96,77)\"],[0.3,\"rgb(244,165,130)\"],[0.4,\"rgb(253,219,199)\"],[0.5,\"rgb(247,247,247)\"],[0.6,\"rgb(209,229,240)\"],[0.7,\"rgb(146,197,222)\"],[0.8,\"rgb(67,147,195)\"],[0.9,\"rgb(33,102,172)\"],[1.0,\"rgb(5,48,97)\"]],\"sequential\":[[0.0,\"#440154\"],[0.1111111111111111,\"#482878\"],[0.2222222222222222,\"#3e4989\"],[0.3333333333333333,\"#31688e\"],[0.4444444444444444,\"#26828e\"],[0.5555555555555556,\"#1f9e89\"],[0.6666666666666666,\"#35b779\"],[0.7777777777777778,\"#6ece58\"],[0.8888888888888888,\"#b5de2b\"],[1.0,\"#fde725\"]],\"sequentialminus\":[[0.0,\"#440154\"],[0.1111111111111111,\"#482878\"],[0.2222222222222222,\"#3e4989\"],[0.3333333333333333,\"#31688e\"],[0.4444444444444444,\"#26828e\"],[0.5555555555555556,\"#1f9e89\"],[0.6666666666666666,\"#35b779\"],[0.7777777777777778,\"#6ece58\"],[0.8888888888888888,\"#b5de2b\"],[1.0,\"#fde725\"]]},\"colorway\":[\"#1F77B4\",\"#FF7F0E\",\"#2CA02C\",\"#D62728\",\"#9467BD\",\"#8C564B\",\"#E377C2\",\"#7F7F7F\",\"#BCBD22\",\"#17BECF\"],\"font\":{\"color\":\"rgb(36,36,36)\"},\"geo\":{\"bgcolor\":\"white\",\"lakecolor\":\"white\",\"landcolor\":\"white\",\"showlakes\":true,\"showland\":true,\"subunitcolor\":\"white\"},\"hoverlabel\":{\"align\":\"left\"},\"hovermode\":\"closest\",\"mapbox\":{\"style\":\"light\"},\"paper_bgcolor\":\"white\",\"plot_bgcolor\":\"white\",\"polar\":{\"angularaxis\":{\"gridcolor\":\"rgb(232,232,232)\",\"linecolor\":\"rgb(36,36,36)\",\"showgrid\":false,\"showline\":true,\"ticks\":\"outside\"},\"bgcolor\":\"white\",\"radialaxis\":{\"gridcolor\":\"rgb(232,232,232)\",\"linecolor\":\"rgb(36,36,36)\",\"showgrid\":false,\"showline\":true,\"ticks\":\"outside\"}},\"scene\":{\"xaxis\":{\"backgroundcolor\":\"white\",\"gridcolor\":\"rgb(232,232,232)\",\"gridwidth\":2,\"linecolor\":\"rgb(36,36,36)\",\"showbackground\":true,\"showgrid\":false,\"showline\":true,\"ticks\":\"outside\",\"zeroline\":false,\"zerolinecolor\":\"rgb(36,36,36)\"},\"yaxis\":{\"backgroundcolor\":\"white\",\"gridcolor\":\"rgb(232,232,232)\",\"gridwidth\":2,\"linecolor\":\"rgb(36,36,36)\",\"showbackground\":true,\"showgrid\":false,\"showline\":true,\"ticks\":\"outside\",\"zeroline\":false,\"zerolinecolor\":\"rgb(36,36,36)\"},\"zaxis\":{\"backgroundcolor\":\"white\",\"gridcolor\":\"rgb(232,232,232)\",\"gridwidth\":2,\"linecolor\":\"rgb(36,36,36)\",\"showbackground\":true,\"showgrid\":false,\"showline\":true,\"ticks\":\"outside\",\"zeroline\":false,\"zerolinecolor\":\"rgb(36,36,36)\"}},\"shapedefaults\":{\"fillcolor\":\"black\",\"line\":{\"width\":0},\"opacity\":0.3},\"ternary\":{\"aaxis\":{\"gridcolor\":\"rgb(232,232,232)\",\"linecolor\":\"rgb(36,36,36)\",\"showgrid\":false,\"showline\":true,\"ticks\":\"outside\"},\"baxis\":{\"gridcolor\":\"rgb(232,232,232)\",\"linecolor\":\"rgb(36,36,36)\",\"showgrid\":false,\"showline\":true,\"ticks\":\"outside\"},\"bgcolor\":\"white\",\"caxis\":{\"gridcolor\":\"rgb(232,232,232)\",\"linecolor\":\"rgb(36,36,36)\",\"showgrid\":false,\"showline\":true,\"ticks\":\"outside\"}},\"title\":{\"x\":0.05},\"xaxis\":{\"automargin\":true,\"gridcolor\":\"rgb(232,232,232)\",\"linecolor\":\"rgb(36,36,36)\",\"showgrid\":false,\"showline\":true,\"ticks\":\"outside\",\"title\":{\"standoff\":15},\"zeroline\":false,\"zerolinecolor\":\"rgb(36,36,36)\"},\"yaxis\":{\"automargin\":true,\"gridcolor\":\"rgb(232,232,232)\",\"linecolor\":\"rgb(36,36,36)\",\"showgrid\":false,\"showline\":true,\"ticks\":\"outside\",\"title\":{\"standoff\":15},\"zeroline\":false,\"zerolinecolor\":\"rgb(36,36,36)\"}}},\"xaxis\":{\"showgrid\":true},\"yaxis\":{\"showgrid\":true,\"title\":{\"text\":\"Frequency\"}},\"title\":{\"font\":{\"size\":22,\"color\":\"Black\"},\"text\":\"\\u003cb\\u003eTopics over Time\\u003c\\u002fb\\u003e\",\"y\":0.95,\"x\":0.4,\"xanchor\":\"center\",\"yanchor\":\"top\"},\"hoverlabel\":{\"font\":{\"size\":16,\"family\":\"Rockwell\"},\"bgcolor\":\"white\"},\"width\":1250,\"height\":450,\"legend\":{\"title\":{\"text\":\"\\u003cb\\u003eGlobal Topic Representation\"}}},                        {\"responsive\": true}                    ).then(function(){\n",
              "                            \n",
              "var gd = document.getElementById('de819cfc-158c-4ab0-8453-22c9ec738c0d');\n",
              "var x = new MutationObserver(function (mutations, observer) {{\n",
              "        var display = window.getComputedStyle(gd).display;\n",
              "        if (!display || display === 'none') {{\n",
              "            console.log([gd, 'removed!']);\n",
              "            Plotly.purge(gd);\n",
              "            observer.disconnect();\n",
              "        }}\n",
              "}});\n",
              "\n",
              "// Listen for the removal of the full notebook cells\n",
              "var notebookContainer = gd.closest('#notebook-container');\n",
              "if (notebookContainer) {{\n",
              "    x.observe(notebookContainer, {childList: true});\n",
              "}}\n",
              "\n",
              "// Listen for the clearing of the current output cell\n",
              "var outputEl = gd.closest('.output');\n",
              "if (outputEl) {{\n",
              "    x.observe(outputEl, {childList: true});\n",
              "}}\n",
              "\n",
              "                        })                };                            </script>        </div>\n",
              "</body>\n",
              "</html>"
            ]
          },
          "metadata": {},
          "output_type": "display_data"
        }
      ],
      "source": [
        "timestamps = df['news_date'].to_list()\n",
        "\n",
        "topics_over_time = model.topics_over_time(\n",
        "    docs=df['news_title'],\n",
        "    timestamps=timestamps,\n",
        "    global_tuning=True,\n",
        "    evolution_tuning=True,\n",
        "    nr_bins=30\n",
        ")\n",
        "\n",
        "model.visualize_topics_over_time(topics_over_time, top_n_topics=20)"
      ]
    },
    {
      "cell_type": "markdown",
      "metadata": {
        "id": "TGek-V2zbL-T"
      },
      "source": [
        "## **수고하셨습니다**"
      ]
    },
    {
      "cell_type": "markdown",
      "metadata": {
        "id": "oEMLoHd1bL-T"
      },
      "source": [
        "더 많은 사용법은 [공식 GitHub](https://maartengr.github.io/BERTopic/index.html#installation)에서 찾아보세요!"
      ]
    }
  ],
  "metadata": {
    "accelerator": "GPU",
    "colab": {
      "gpuType": "T4",
      "provenance": []
    },
    "kernelspec": {
      "display_name": "Python 3",
      "name": "python3"
    },
    "language_info": {
      "codemirror_mode": {
        "name": "ipython",
        "version": 3
      },
      "file_extension": ".py",
      "mimetype": "text/x-python",
      "name": "python",
      "nbconvert_exporter": "python",
      "pygments_lexer": "ipython3",
      "version": "0.0.0"
    },
    "widgets": {
      "application/vnd.jupyter.widget-state+json": {
        "09418db9ce06434599e1c467f71db1d0": {
          "model_module": "@jupyter-widgets/base",
          "model_module_version": "1.2.0",
          "model_name": "LayoutModel",
          "state": {
            "_model_module": "@jupyter-widgets/base",
            "_model_module_version": "1.2.0",
            "_model_name": "LayoutModel",
            "_view_count": null,
            "_view_module": "@jupyter-widgets/base",
            "_view_module_version": "1.2.0",
            "_view_name": "LayoutView",
            "align_content": null,
            "align_items": null,
            "align_self": null,
            "border": null,
            "bottom": null,
            "display": null,
            "flex": null,
            "flex_flow": null,
            "grid_area": null,
            "grid_auto_columns": null,
            "grid_auto_flow": null,
            "grid_auto_rows": null,
            "grid_column": null,
            "grid_gap": null,
            "grid_row": null,
            "grid_template_areas": null,
            "grid_template_columns": null,
            "grid_template_rows": null,
            "height": null,
            "justify_content": null,
            "justify_items": null,
            "left": null,
            "margin": null,
            "max_height": null,
            "max_width": null,
            "min_height": null,
            "min_width": null,
            "object_fit": null,
            "object_position": null,
            "order": null,
            "overflow": null,
            "overflow_x": null,
            "overflow_y": null,
            "padding": null,
            "right": null,
            "top": null,
            "visibility": null,
            "width": null
          }
        },
        "18c37462862d401bb420eacd389bdc17": {
          "model_module": "@jupyter-widgets/base",
          "model_module_version": "1.2.0",
          "model_name": "LayoutModel",
          "state": {
            "_model_module": "@jupyter-widgets/base",
            "_model_module_version": "1.2.0",
            "_model_name": "LayoutModel",
            "_view_count": null,
            "_view_module": "@jupyter-widgets/base",
            "_view_module_version": "1.2.0",
            "_view_name": "LayoutView",
            "align_content": null,
            "align_items": null,
            "align_self": null,
            "border": null,
            "bottom": null,
            "display": null,
            "flex": null,
            "flex_flow": null,
            "grid_area": null,
            "grid_auto_columns": null,
            "grid_auto_flow": null,
            "grid_auto_rows": null,
            "grid_column": null,
            "grid_gap": null,
            "grid_row": null,
            "grid_template_areas": null,
            "grid_template_columns": null,
            "grid_template_rows": null,
            "height": null,
            "justify_content": null,
            "justify_items": null,
            "left": null,
            "margin": null,
            "max_height": null,
            "max_width": null,
            "min_height": null,
            "min_width": null,
            "object_fit": null,
            "object_position": null,
            "order": null,
            "overflow": null,
            "overflow_x": null,
            "overflow_y": null,
            "padding": null,
            "right": null,
            "top": null,
            "visibility": null,
            "width": null
          }
        },
        "1b04bd211784452bbd745a7634a2b803": {
          "model_module": "@jupyter-widgets/base",
          "model_module_version": "1.2.0",
          "model_name": "LayoutModel",
          "state": {
            "_model_module": "@jupyter-widgets/base",
            "_model_module_version": "1.2.0",
            "_model_name": "LayoutModel",
            "_view_count": null,
            "_view_module": "@jupyter-widgets/base",
            "_view_module_version": "1.2.0",
            "_view_name": "LayoutView",
            "align_content": null,
            "align_items": null,
            "align_self": null,
            "border": null,
            "bottom": null,
            "display": null,
            "flex": null,
            "flex_flow": null,
            "grid_area": null,
            "grid_auto_columns": null,
            "grid_auto_flow": null,
            "grid_auto_rows": null,
            "grid_column": null,
            "grid_gap": null,
            "grid_row": null,
            "grid_template_areas": null,
            "grid_template_columns": null,
            "grid_template_rows": null,
            "height": null,
            "justify_content": null,
            "justify_items": null,
            "left": null,
            "margin": null,
            "max_height": null,
            "max_width": null,
            "min_height": null,
            "min_width": null,
            "object_fit": null,
            "object_position": null,
            "order": null,
            "overflow": null,
            "overflow_x": null,
            "overflow_y": null,
            "padding": null,
            "right": null,
            "top": null,
            "visibility": null,
            "width": null
          }
        },
        "32793008655f452196f3efaf64466774": {
          "model_module": "@jupyter-widgets/controls",
          "model_module_version": "1.5.0",
          "model_name": "DescriptionStyleModel",
          "state": {
            "_model_module": "@jupyter-widgets/controls",
            "_model_module_version": "1.5.0",
            "_model_name": "DescriptionStyleModel",
            "_view_count": null,
            "_view_module": "@jupyter-widgets/base",
            "_view_module_version": "1.2.0",
            "_view_name": "StyleView",
            "description_width": ""
          }
        },
        "35b61d186e07401183db959f6d77b9e2": {
          "model_module": "@jupyter-widgets/controls",
          "model_module_version": "1.5.0",
          "model_name": "HTMLModel",
          "state": {
            "_dom_classes": [],
            "_model_module": "@jupyter-widgets/controls",
            "_model_module_version": "1.5.0",
            "_model_name": "HTMLModel",
            "_view_count": null,
            "_view_module": "@jupyter-widgets/controls",
            "_view_module_version": "1.5.0",
            "_view_name": "HTMLView",
            "description": "",
            "description_tooltip": null,
            "layout": "IPY_MODEL_18c37462862d401bb420eacd389bdc17",
            "placeholder": "​",
            "style": "IPY_MODEL_4501987830ad4a0b94112aa84ef4c95c",
            "value": " 66/66 [00:02&lt;00:00, 36.15it/s]"
          }
        },
        "4501987830ad4a0b94112aa84ef4c95c": {
          "model_module": "@jupyter-widgets/controls",
          "model_module_version": "1.5.0",
          "model_name": "DescriptionStyleModel",
          "state": {
            "_model_module": "@jupyter-widgets/controls",
            "_model_module_version": "1.5.0",
            "_model_name": "DescriptionStyleModel",
            "_view_count": null,
            "_view_module": "@jupyter-widgets/base",
            "_view_module_version": "1.2.0",
            "_view_name": "StyleView",
            "description_width": ""
          }
        },
        "5b87bf1a685e4a01b079c085a3f5ebd6": {
          "model_module": "@jupyter-widgets/base",
          "model_module_version": "1.2.0",
          "model_name": "LayoutModel",
          "state": {
            "_model_module": "@jupyter-widgets/base",
            "_model_module_version": "1.2.0",
            "_model_name": "LayoutModel",
            "_view_count": null,
            "_view_module": "@jupyter-widgets/base",
            "_view_module_version": "1.2.0",
            "_view_name": "LayoutView",
            "align_content": null,
            "align_items": null,
            "align_self": null,
            "border": null,
            "bottom": null,
            "display": null,
            "flex": null,
            "flex_flow": null,
            "grid_area": null,
            "grid_auto_columns": null,
            "grid_auto_flow": null,
            "grid_auto_rows": null,
            "grid_column": null,
            "grid_gap": null,
            "grid_row": null,
            "grid_template_areas": null,
            "grid_template_columns": null,
            "grid_template_rows": null,
            "height": null,
            "justify_content": null,
            "justify_items": null,
            "left": null,
            "margin": null,
            "max_height": null,
            "max_width": null,
            "min_height": null,
            "min_width": null,
            "object_fit": null,
            "object_position": null,
            "order": null,
            "overflow": null,
            "overflow_x": null,
            "overflow_y": null,
            "padding": null,
            "right": null,
            "top": null,
            "visibility": null,
            "width": null
          }
        },
        "93d5de1dfe85433d986521c0ee3de010": {
          "model_module": "@jupyter-widgets/controls",
          "model_module_version": "1.5.0",
          "model_name": "HTMLModel",
          "state": {
            "_dom_classes": [],
            "_model_module": "@jupyter-widgets/controls",
            "_model_module_version": "1.5.0",
            "_model_name": "HTMLModel",
            "_view_count": null,
            "_view_module": "@jupyter-widgets/controls",
            "_view_module_version": "1.5.0",
            "_view_name": "HTMLView",
            "description": "",
            "description_tooltip": null,
            "layout": "IPY_MODEL_09418db9ce06434599e1c467f71db1d0",
            "placeholder": "​",
            "style": "IPY_MODEL_32793008655f452196f3efaf64466774",
            "value": "Batches: 100%"
          }
        },
        "9dd66f6ca8f14f47a898423416694938": {
          "model_module": "@jupyter-widgets/controls",
          "model_module_version": "1.5.0",
          "model_name": "HBoxModel",
          "state": {
            "_dom_classes": [],
            "_model_module": "@jupyter-widgets/controls",
            "_model_module_version": "1.5.0",
            "_model_name": "HBoxModel",
            "_view_count": null,
            "_view_module": "@jupyter-widgets/controls",
            "_view_module_version": "1.5.0",
            "_view_name": "HBoxView",
            "box_style": "",
            "children": [
              "IPY_MODEL_93d5de1dfe85433d986521c0ee3de010",
              "IPY_MODEL_c680502461f741be80d8d9743763c93e",
              "IPY_MODEL_35b61d186e07401183db959f6d77b9e2"
            ],
            "layout": "IPY_MODEL_1b04bd211784452bbd745a7634a2b803"
          }
        },
        "c680502461f741be80d8d9743763c93e": {
          "model_module": "@jupyter-widgets/controls",
          "model_module_version": "1.5.0",
          "model_name": "FloatProgressModel",
          "state": {
            "_dom_classes": [],
            "_model_module": "@jupyter-widgets/controls",
            "_model_module_version": "1.5.0",
            "_model_name": "FloatProgressModel",
            "_view_count": null,
            "_view_module": "@jupyter-widgets/controls",
            "_view_module_version": "1.5.0",
            "_view_name": "ProgressView",
            "bar_style": "success",
            "description": "",
            "description_tooltip": null,
            "layout": "IPY_MODEL_5b87bf1a685e4a01b079c085a3f5ebd6",
            "max": 66,
            "min": 0,
            "orientation": "horizontal",
            "style": "IPY_MODEL_cb210bb8bd59403bbb85a3b42643730c",
            "value": 66
          }
        },
        "cb210bb8bd59403bbb85a3b42643730c": {
          "model_module": "@jupyter-widgets/controls",
          "model_module_version": "1.5.0",
          "model_name": "ProgressStyleModel",
          "state": {
            "_model_module": "@jupyter-widgets/controls",
            "_model_module_version": "1.5.0",
            "_model_name": "ProgressStyleModel",
            "_view_count": null,
            "_view_module": "@jupyter-widgets/base",
            "_view_module_version": "1.2.0",
            "_view_name": "StyleView",
            "bar_color": null,
            "description_width": ""
          }
        }
      }
    }
  },
  "nbformat": 4,
  "nbformat_minor": 0
}
